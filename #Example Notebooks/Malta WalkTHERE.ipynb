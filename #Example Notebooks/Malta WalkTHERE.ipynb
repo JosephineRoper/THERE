{
 "cells": [
  {
   "cell_type": "code",
   "execution_count": 1,
   "id": "5427baeb",
   "metadata": {},
   "outputs": [],
   "source": [
    "%load_ext autoreload\n",
    "%autoreload 2"
   ]
  },
  {
   "cell_type": "code",
   "execution_count": 2,
   "id": "2c6e251a",
   "metadata": {},
   "outputs": [],
   "source": [
    "import numpy as np\n",
    "import pandana as pdna\n",
    "import geopandas as gpd\n",
    "import pandas as pd\n",
    "import osmnx as ox\n",
    "import math\n",
    "import networkx as nx\n",
    "import sys\n",
    "import matplotlib.pyplot as plt\n",
    "# adding functions \n",
    "sys.path.insert(0, 'C:\\\\Users\\\\z3258367\\\\OneDrive - UNSW\\\\#PhD\\\\Walkability\\\\Other Cities\\\\Open-Walk-Index')\n",
    "from walkability_functions import *"
   ]
  },
  {
   "cell_type": "markdown",
   "id": "0ee150b9",
   "metadata": {},
   "source": [
    "Choose a projected CRS to be used for all distance calculations."
   ]
  },
  {
   "cell_type": "code",
   "execution_count": 7,
   "id": "0dc18490",
   "metadata": {},
   "outputs": [],
   "source": [
    "folder = \"C:\\\\Users\\\\z3258367\\\\OneDrive - UNSW\\\\#PhD\\\\\"\n",
    "proj_crs = \"EPSG:2154\"\n",
    "\n",
    "place = 'Malta, Northern Region, Malta'\n",
    "# Using just 'Malta' gives all islands which doesn't work as the network is not contiguous\n",
    "place_gdf = ox.geocode_to_gdf(place).to_crs(proj_crs)"
   ]
  },
  {
   "cell_type": "code",
   "execution_count": 8,
   "id": "1f2f6c0b",
   "metadata": {},
   "outputs": [
    {
     "name": "stderr",
     "output_type": "stream",
     "text": [
      "C:\\Users\\z3258367\\Anaconda3\\envs\\ox\\lib\\site-packages\\geopandas\\plotting.py:74: DeprecationWarning: distutils Version classes are deprecated. Use packaging.version instead.\n",
      "  if mpl >= LooseVersion(\"3.4\") or (mpl > LooseVersion(\"3.3.2\") and \"+\" in mpl):\n",
      "C:\\Users\\z3258367\\Anaconda3\\envs\\ox\\lib\\site-packages\\setuptools\\_distutils\\version.py:351: DeprecationWarning: distutils Version classes are deprecated. Use packaging.version instead.\n",
      "  other = LooseVersion(other)\n"
     ]
    },
    {
     "data": {
      "text/plain": [
       "<AxesSubplot:>"
      ]
     },
     "execution_count": 8,
     "metadata": {},
     "output_type": "execute_result"
    },
    {
     "data": {
      "image/png": "[encoded data removed]",
      "text/plain": [
       "<Figure size 432x288 with 1 Axes>"
      ]
     },
     "metadata": {
      "needs_background": "light"
     },
     "output_type": "display_data"
    }
   ],
   "source": [
    "# check that we have the right area. \n",
    "place_gdf.geometry.plot()"
   ]
  },
  {
   "cell_type": "markdown",
   "id": "6dc208e1",
   "metadata": {},
   "source": [
    "## Import Data\n",
    "\n",
    "Data sources:\n",
    "1. OSM POIs\n",
    "5. Employment data - find govt source"
   ]
  },
  {
   "cell_type": "code",
   "execution_count": 5,
   "id": "292e753b",
   "metadata": {},
   "outputs": [],
   "source": [
    "poi_dictionary = {\n",
    "    'employment':{\n",
    "        'category':['employment']\n",
    "    },\n",
    "    'shopping':{\n",
    "        'shop':['bakery', 'clothes', 'supermarket', 'mall', 'greengrocer',\n",
    "                'seafood', 'wine', 'butcher','convenience',\n",
    "                'beverages', 'alcohol', 'bicycle_shop', 'department_store', \n",
    "                'doityourself', 'beauty_shop', 'outdoor_shop', \n",
    "                'stationery', 'bookshop', 'gift_shop', 'newsagent', \n",
    "                'car_dealership', 'furniture_shop', 'sports_shop',\n",
    "                'garden_centre', 'computer_shop', 'shoe_shop', 'florist', \n",
    "                'video_shop', 'toy_shop', 'mobile_phone_shop', 'jeweller'],\n",
    "        # possibly we could pick up all shop=True excluding a few. but not sure how\n",
    "        # and many options to exclude\n",
    "        'amenity':['marketplace'],\n",
    "        'building':['kiosk', 'supermarket',],\n",
    "    },\n",
    "    'errands':{\n",
    "        'amenity':['atm','bank','courthouse','post_box', 'post_office',\n",
    "                   'clinic', 'dentist', 'doctors', 'hospital',\n",
    "                   'pharmacy', 'veterinary', 'travel_agent',\n",
    "                   'place_of_worship'],\n",
    "        'shop':['optician', 'hairdresser', 'laundry',],\n",
    "        'healthcare':['physiotherapist'],\n",
    "        'office':['government'], #### further refine ?\n",
    "    },\n",
    "    'recreation':{\n",
    "        'leisure':['dog_park', 'ice_rink', 'park', 'pitch', 'playground',\n",
    "                   \"fitness_centre\",\"sports_centre\", 'stadium', 'swimming_pool',\n",
    "                   'swimming_area', 'track', 'water_park','golf_course',],\n",
    "        'club':['social'],\n",
    "        'amenity':['bar', 'biergarten', 'cafe', 'fast_food', 'food_court',\n",
    "                   'ice_cream', 'pub', 'restaurant', 'nightclub',\n",
    "                   'library', 'arts_centre', 'cinema', 'community_centre',\n",
    "                   'social_centre', 'theatre',],\n",
    "        'building':['stadium', 'castle', 'ruins',],\n",
    "        'tourism':['aquarium', 'artwork', 'attraction', 'gallery',\n",
    "                   'museum', 'picnic_site', 'theme_park', 'viewpoint',\n",
    "                   'zoo'],\n",
    "        'natural':['beach'],\n",
    "    },\n",
    "    'education':{\n",
    "        'amenity':['college', 'kindergarten', 'music_school',\n",
    "                   'school', 'university', 'childcare'],\n",
    "    }\n",
    "}"
   ]
  },
  {
   "cell_type": "code",
   "execution_count": 6,
   "id": "b1446ccd",
   "metadata": {},
   "outputs": [
    {
     "name": "stderr",
     "output_type": "stream",
     "text": [
      "C:\\Users\\z3258367\\Anaconda3\\envs\\ox\\lib\\site-packages\\osmnx\\geometries.py:805: ShapelyDeprecationWarning: __len__ for multi-part geometries is deprecated and will be removed in Shapely 2.0. Check the length of the `geoms` property instead to get the  number of parts of a multi-part geometry.\n",
      "  for merged_outer_linestring in list(merged_outer_linestrings):\n",
      "C:\\Users\\z3258367\\Anaconda3\\envs\\ox\\lib\\site-packages\\osmnx\\geometries.py:805: ShapelyDeprecationWarning: Iteration over multi-part geometries is deprecated and will be removed in Shapely 2.0. Use the `geoms` property to access the constituent parts of a multi-part geometry.\n",
      "  for merged_outer_linestring in list(merged_outer_linestrings):\n"
     ]
    }
   ],
   "source": [
    "osm_pois = poi_downloader(place_gdf, poi_dictionary, proj_crs)"
   ]
  },
  {
   "cell_type": "markdown",
   "id": "371e756f",
   "metadata": {},
   "source": [
    "Currently, I don't know of a source on employment concentrations in Malta."
   ]
  },
  {
   "cell_type": "code",
   "execution_count": null,
   "id": "fa0b7eea",
   "metadata": {},
   "outputs": [],
   "source": [
    "employment_centrs = gpd.read_file((folder + \n",
    "                        \"\")).to_crs(proj_crs)\n",
    "\n",
    "employment_centrs['category'] = 'employment'\n",
    "employment_centrs['geometry'] = employment_centrs.geometry.centroid"
   ]
  },
  {
   "cell_type": "code",
   "execution_count": null,
   "id": "81216bbc",
   "metadata": {},
   "outputs": [],
   "source": [
    "employment_centrs"
   ]
  },
  {
   "cell_type": "markdown",
   "id": "d5588632",
   "metadata": {},
   "source": [
    "Need to remove potential overlap between different data sources (and inside some data sources). For now I'm not worrying about this when using only OSM data. Then take this combined POI set and clip it to the study area: should be the same area as is covered by the network. This is important otherwise points outside the network may be erroneously linked to the network."
   ]
  },
  {
   "cell_type": "code",
   "execution_count": null,
   "id": "951a8fe5",
   "metadata": {},
   "outputs": [],
   "source": [
    "pois = pd.concat([osm_pois, employment_centrs])\n",
    "\n",
    "pois = gpd.clip(pois, place_gdf.to_crs(proj_crs))"
   ]
  },
  {
   "cell_type": "markdown",
   "id": "96944dbd",
   "metadata": {},
   "source": [
    "### Categorise and weight POIs"
   ]
  },
  {
   "cell_type": "markdown",
   "id": "94b0c568",
   "metadata": {},
   "source": [
    "Choose walk index weightings, and output the sums of each category and the total to check. The walk index will be out of 100 regardless of this sum, but it is important to note that eg. shopping is only '10% of the walk index' if shopping is 10 out of 100."
   ]
  },
  {
   "cell_type": "code",
   "execution_count": null,
   "id": "8a4b9a72",
   "metadata": {},
   "outputs": [],
   "source": [
    "poi_parameters = pd.read_csv((folder + \n",
    "                              \"Walkability\\\\Other Cities\\\\Colouring data & results\\\\Shared Aus Data\\\\poi_parameters_5.csv\"),\n",
    "                            index_col=0)"
   ]
  },
  {
   "cell_type": "code",
   "execution_count": null,
   "id": "2d7552c9",
   "metadata": {},
   "outputs": [],
   "source": [
    "poi_weights = poi_parameters['weight'].copy()\n",
    "\n",
    "poi_lambdas = poi_parameters['diminishing_returns_constant'].copy()\n",
    "\n",
    "poi_variables = poi_parameters['variable'].copy()\n",
    "\n",
    "poi_nums = poi_parameters['num_pois'].copy()\n",
    "\n",
    "poi_gammas = poi_parameters['distance_constant'].copy()"
   ]
  },
  {
   "cell_type": "code",
   "execution_count": null,
   "id": "b7f4b63d",
   "metadata": {},
   "outputs": [],
   "source": [
    "total = sum(poi_weights)\n",
    "print(\"total: \", total)"
   ]
  },
  {
   "cell_type": "code",
   "execution_count": null,
   "id": "408cc2bc",
   "metadata": {
    "scrolled": true
   },
   "outputs": [],
   "source": [
    "# change this to match the column containting job counts in your employment dataframe\n",
    "poi_variables.loc['employment'] = 'NB_TOTAL_E'\n",
    "# change this to make employment score more accurate (higher number) or to reduce index calculation time (low number)\n",
    "poi_nums.loc['employment'] = 1200"
   ]
  },
  {
   "cell_type": "markdown",
   "id": "41834e86",
   "metadata": {},
   "source": [
    "### Import network"
   ]
  },
  {
   "cell_type": "markdown",
   "id": "48941950",
   "metadata": {},
   "source": [
    "Pandana expects edges to have a two item index based on the same IDs as the node index. (with thanks to https://github.com/shriv/accessibility-series/blob/master/Accounting%20for%20hills%20in%20accessibility%20analyses.ipynb)"
   ]
  },
  {
   "cell_type": "code",
   "execution_count": null,
   "id": "0f482396",
   "metadata": {},
   "outputs": [],
   "source": [
    "#G = ox.graph_from_place(place, network_type='walk')\n",
    "G = ox.graph.graph_from_polygon(place_gdf.to_crs('EPSG:4326').geometry[0], network_type='walk')"
   ]
  },
  {
   "cell_type": "code",
   "execution_count": null,
   "id": "86fc3bce",
   "metadata": {},
   "outputs": [],
   "source": [
    "# Get nodes and edges as geodataframes (gdfs) from OSMNX network\n",
    "graph_df = ox.graph_to_gdfs(G)\n",
    "nodes_gdfs = graph_df[0]\n",
    "edges_gdfs = graph_df[1]"
   ]
  },
  {
   "cell_type": "code",
   "execution_count": null,
   "id": "a863cd19",
   "metadata": {},
   "outputs": [],
   "source": [
    "edges_gdfs = edges_gdfs.to_crs(proj_crs)\n",
    "nodes_gdfs = nodes_gdfs.to_crs(proj_crs)"
   ]
  },
  {
   "cell_type": "markdown",
   "id": "f02dfca0",
   "metadata": {},
   "source": [
    "## Pandana network creation."
   ]
  },
  {
   "cell_type": "code",
   "execution_count": null,
   "id": "77ca4dac",
   "metadata": {},
   "outputs": [],
   "source": [
    "# with new OSMnx graph from polygon seems to be different\n",
    "edges_gdfs = edges_gdfs.reset_index()\n",
    "# Setting indices of Edges gdfs to match expected dataframe for Pandana\n",
    "edges_gdfs['from_idx'] = edges_gdfs['u']\n",
    "edges_gdfs['to_idx'] = edges_gdfs['v']\n",
    "edges_gdfs= edges_gdfs.set_index(['from_idx', 'to_idx'])\n",
    "edges_gdfs.index.names= ['','']\n",
    "\n",
    "# Setting indices of Nodes gdfs to match expected dataframe for Pandana\n",
    "nodes_gdfs.index.name = 'id'\n",
    "# Create a pandana network with data extracted from an OSMNX graph\n",
    "distance_network = pdna.Network(nodes_gdfs.geometry.x, nodes_gdfs.geometry.y,\n",
    "                                   edges_gdfs['u'], edges_gdfs['v'], \n",
    "                                   edges_gdfs[['length']])"
   ]
  },
  {
   "cell_type": "markdown",
   "id": "09754e3b",
   "metadata": {},
   "source": [
    "### Pandana network querying. "
   ]
  },
  {
   "cell_type": "code",
   "execution_count": null,
   "id": "e291e86d",
   "metadata": {},
   "outputs": [],
   "source": [
    "maximum_dist=2400"
   ]
  },
  {
   "cell_type": "code",
   "execution_count": null,
   "id": "9c333174",
   "metadata": {},
   "outputs": [],
   "source": [
    "results_walk = there_index(distance_network, pois, poi_dictionary, poi_weights, poi_gammas,\n",
    "                            poi_nums, poi_lambdas, poi_variables, distance=maximum_dist)"
   ]
  },
  {
   "cell_type": "code",
   "execution_count": null,
   "id": "ee95d5c4",
   "metadata": {},
   "outputs": [],
   "source": [
    "max(results_walk['THERE_Index']), np.mean(results_walk['THERE_Index'])"
   ]
  },
  {
   "cell_type": "markdown",
   "id": "933c5d9e",
   "metadata": {},
   "source": [
    "The current approach is to find up to x closest nodes for each category within the maximum distance. Then look up the attractiveness at each one (just count for most), apply a distance decay function to each distance, apply diminishing returns to the resulting total opportunity, and sum.\n",
    "\n",
    "An alternative approach which would be more convenient would be to use the Pandana 'aggregate' function which aggregates from all nodes within the maximum distance including applying a decay function. However, there is limited ability to change the distance decay rate within the aggregation function. It can either be flat (no decay), linear (going to 0 at the max distance), or exponential where beta is set as 1/max distance. For walking I would like a beta of 0.001, but this requires the radius to be 1000m. If the radius is 2400m, beta is only 0.0004. This can be changed in the future if the Pandana function is updated to take a decay parameter."
   ]
  },
  {
   "cell_type": "markdown",
   "id": "0f4526c7",
   "metadata": {},
   "source": [
    "## Export results"
   ]
  },
  {
   "cell_type": "markdown",
   "id": "1c20c8d1",
   "metadata": {},
   "source": [
    "Reduce the number of decimal places before export, distances do not need to be below 1m."
   ]
  },
  {
   "cell_type": "code",
   "execution_count": null,
   "id": "4f109bb3",
   "metadata": {},
   "outputs": [],
   "source": [
    "def result_rounding(results):\n",
    "    # reduces results size for export\n",
    "    # score columns such as THERE_Index, employment_subtotal etc -> 3 decimal places\n",
    "    # distance columns such as employment1 -> 0 decimal places (nearest metre)\n",
    "    # avoid doing anything to connect_id, x or y\n",
    "    rounding_dict = {**{k:3 for k in results.columns if \"Index\" in k or \".\" in k\n",
    "                        and 'connect_id' not in k},\n",
    "                     **{k:0 for k in results.columns if \"Index\" not in k and \".\" not in k\n",
    "                        and k != 'x'\n",
    "                        and k != 'y'}}\n",
    "    return results.round(rounding_dict)"
   ]
  },
  {
   "cell_type": "code",
   "execution_count": null,
   "id": "bca7504b",
   "metadata": {},
   "outputs": [],
   "source": [
    "small_w_results = gpd.GeoDataFrame(result_rounding(results_walk), geometry = gpd.GeoSeries.from_xy(results_walk.x, results_walk.y, crs=proj_crs))"
   ]
  },
  {
   "cell_type": "markdown",
   "id": "cd199e44",
   "metadata": {},
   "source": [
    " ### Population weighted results"
   ]
  },
  {
   "cell_type": "markdown",
   "id": "4e65074d",
   "metadata": {},
   "source": [
    "Import smallest statistical unit for which population data is available (meshblocks in Australia). Join this to the results (by population weighted centroid location if available, otherwise geometric centroid location). Then results can be graphed or visualised by population, giving a more accurate picture of the population access by walking."
   ]
  },
  {
   "cell_type": "code",
   "execution_count": null,
   "id": "8d0f7243",
   "metadata": {},
   "outputs": [],
   "source": [
    "blocks = gpd.read_file(folder + \"Data\\\\Paris\\\\IRIS Mainland\\\\CONTOURS-IRIS.shp\").to_crs(proj_crs)"
   ]
  },
  {
   "cell_type": "code",
   "execution_count": null,
   "id": "4978dbb5",
   "metadata": {},
   "outputs": [],
   "source": [
    "paris_blocks = blocks.clip(place_gdf)"
   ]
  },
  {
   "cell_type": "code",
   "execution_count": null,
   "id": "1adcf3a2",
   "metadata": {},
   "outputs": [],
   "source": [
    "population = pd.read_csv(folder + \"Data\\\\Paris\\\\FD_INDCVIZA_2015.txt\",sep=\";\")\n",
    "#population = population.set_index('MB_CODE_2016')"
   ]
  },
  {
   "cell_type": "markdown",
   "id": "9dc8f424",
   "metadata": {},
   "source": [
    "This census data represents about 35% of the total population in the Ile-de-France."
   ]
  },
  {
   "cell_type": "code",
   "execution_count": null,
   "id": "fd4531a6",
   "metadata": {},
   "outputs": [],
   "source": [
    "IRIS = population.loc[:,['IRAN','IRIS']].groupby('IRIS').count()/0.35"
   ]
  },
  {
   "cell_type": "code",
   "execution_count": null,
   "id": "8e81b766",
   "metadata": {},
   "outputs": [],
   "source": [
    "IRIS.sum()"
   ]
  },
  {
   "cell_type": "code",
   "execution_count": null,
   "id": "4662ced6",
   "metadata": {},
   "outputs": [],
   "source": [
    "paris_blocks['IRIS'] = paris_blocks['IRIS'].astype('int64')\n",
    "paris_blocks.geometry = paris_blocks.centroid"
   ]
  },
  {
   "cell_type": "code",
   "execution_count": null,
   "id": "1efe5930",
   "metadata": {},
   "outputs": [],
   "source": [
    "join_blocks = paris_blocks.join(IRIS, on='CODE_IRIS', how='left', rsuffix='pop')"
   ]
  },
  {
   "cell_type": "code",
   "execution_count": null,
   "id": "0635d6fd",
   "metadata": {},
   "outputs": [],
   "source": [
    "np.nansum(join_blocks.IRAN)"
   ]
  },
  {
   "cell_type": "code",
   "execution_count": null,
   "id": "df683239",
   "metadata": {},
   "outputs": [],
   "source": [
    "join_blocks = join_blocks.to_crs(proj_crs)"
   ]
  },
  {
   "cell_type": "code",
   "execution_count": null,
   "id": "de63de71",
   "metadata": {},
   "outputs": [],
   "source": [
    "small_w_results = small_w_results.to_crs(proj_crs)"
   ]
  },
  {
   "cell_type": "code",
   "execution_count": null,
   "id": "11443d6c",
   "metadata": {},
   "outputs": [],
   "source": [
    "join_blocks = join_blocks.sjoin_nearest(small_w_results, how='left', rsuffix = 'walk')"
   ]
  },
  {
   "cell_type": "markdown",
   "id": "13bb888c",
   "metadata": {},
   "source": [
    "Population weighted average THERE index:"
   ]
  },
  {
   "cell_type": "code",
   "execution_count": null,
   "id": "e982b0f9",
   "metadata": {},
   "outputs": [],
   "source": [
    "np.nansum(join_blocks['IRAN']*join_blocks['THERE_Index'])/np.nansum(join_blocks['IRAN'])"
   ]
  },
  {
   "cell_type": "code",
   "execution_count": null,
   "id": "6f0fdffa",
   "metadata": {},
   "outputs": [],
   "source": [
    "join_blocks = join_blocks[join_blocks['IRAN'] > 0]"
   ]
  },
  {
   "cell_type": "code",
   "execution_count": null,
   "id": "1cb39eac",
   "metadata": {},
   "outputs": [],
   "source": [
    "fig, ax1 = plt.subplots(nrows=1, ncols=1, sharey=True, figsize=(12, 4))\n",
    "#f.set_figwidth(4)\n",
    "bins=[10,20,30,40,50,60,70,80,90,100]\n",
    "ax1.hist(join_blocks['THERE_Index'], weights = join_blocks['IRAN'], label='WalkTHERE',bins=bins)\n",
    "ax1.set_xlabel('WalkTHERE')\n",
    "ax1.set_ylabel('Residents')\n",
    "\n",
    "fig.suptitle('Paris: distribution of results by residential population')"
   ]
  },
  {
   "cell_type": "markdown",
   "id": "ca30a3d5",
   "metadata": {},
   "source": [
    "And thus we find that something is wrong here... surely this is not possible? Or maybe it is? Need to get the more accurate employment data and look at results in more detail."
   ]
  },
  {
   "cell_type": "markdown",
   "id": "de10256c",
   "metadata": {},
   "source": [
    "### Visualise results"
   ]
  },
  {
   "cell_type": "code",
   "execution_count": null,
   "id": "1142c604",
   "metadata": {},
   "outputs": [],
   "source": [
    "small_w_results.plot(column=\"THERE_Index\", legend=True,\n",
    "                     cmap='Greens',figsize=(5,5),markersize=1)"
   ]
  },
  {
   "cell_type": "code",
   "execution_count": null,
   "id": "e087cc77",
   "metadata": {},
   "outputs": [],
   "source": [
    "small_w_results.plot(column=\"employment_31.9\", cmap='Greens',figsize=(20,20),markersize=1)"
   ]
  },
  {
   "cell_type": "code",
   "execution_count": null,
   "id": "58d3c844",
   "metadata": {},
   "outputs": [],
   "source": [
    "small_w_results.to_file((folder + \"Walkability\\\\Other Cities\\\\Colouring data & results\\\\Paris results walk 190722.gpkg\"))"
   ]
  }
 ],
 "metadata": {
  "kernelspec": {
   "display_name": "Python 3",
   "language": "python",
   "name": "python3"
  },
  "language_info": {
   "codemirror_mode": {
    "name": "ipython",
    "version": 3
   },
   "file_extension": ".py",
   "mimetype": "text/x-python",
   "name": "python",
   "nbconvert_exporter": "python",
   "pygments_lexer": "ipython3",
   "version": "3.8.13"
  }
 },
 "nbformat": 4,
 "nbformat_minor": 5
}
