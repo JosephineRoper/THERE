{
 "cells": [
  {
   "cell_type": "code",
   "execution_count": 1,
   "id": "5427baeb",
   "metadata": {},
   "outputs": [],
   "source": [
    "%load_ext autoreload\n",
    "%autoreload 2"
   ]
  },
  {
   "cell_type": "code",
   "execution_count": 2,
   "id": "2c6e251a",
   "metadata": {},
   "outputs": [
    {
     "name": "stderr",
     "output_type": "stream",
     "text": [
      "C:\\Users\\z3258367\\AppData\\Local\\Temp\\ipykernel_45628\\2874976097.py:3: UserWarning: Shapely 2.0 is installed, but because PyGEOS is also installed, GeoPandas will still use PyGEOS by default for now. To force to use and test Shapely 2.0, you have to set the environment variable USE_PYGEOS=0. You can do this before starting the Python process, or in your code before importing geopandas:\n",
      "\n",
      "import os\n",
      "os.environ['USE_PYGEOS'] = '0'\n",
      "import geopandas\n",
      "\n",
      "In a future release, GeoPandas will switch to using Shapely by default. If you are using PyGEOS directly (calling PyGEOS functions on geometries from GeoPandas), this will then stop working and you are encouraged to migrate from PyGEOS to Shapely 2.0 (https://shapely.readthedocs.io/en/latest/migration_pygeos.html).\n",
      "  import geopandas as gpd\n"
     ]
    }
   ],
   "source": [
    "import numpy as np\n",
    "import pandana as pdna\n",
    "import geopandas as gpd\n",
    "import pandas as pd\n",
    "import osmnx as ox\n",
    "import networkx as nx\n",
    "import sys\n",
    "#import matplotlib.pyplot as plt\n"
   ]
  },
  {
   "cell_type": "code",
   "execution_count": 4,
   "id": "9230ea85",
   "metadata": {},
   "outputs": [],
   "source": [
    "# adding functions \n",
    "sys.path.insert(0, '/home/vagvaf/projects/THERE')\n",
    "sys.path.insert(0, 'C:\\\\Users\\\\z3258367\\\\OneDrive - UNSW\\\\#PhD\\\\Walkability\\\\Other Cities\\\\Open-Walk-Index')\n",
    "from walkability_functions import *"
   ]
  },
  {
   "cell_type": "markdown",
   "id": "0c11d165",
   "metadata": {},
   "source": [
    "## Config variables \n",
    "\n",
    "before proceeding set up various config variables"
   ]
  },
  {
   "cell_type": "code",
   "execution_count": 30,
   "id": "82ec5e81",
   "metadata": {},
   "outputs": [],
   "source": [
    "# working folder\n",
    "folder = \"/home/vagvaf/projects/THERE/#Example Notebooks/Goteborg\"\n",
    "\n",
    "#choose a projected CRS to be used for all distance calculations.\n",
    "proj_crs = \"EPSG:3006\"\n",
    "\n",
    "#study area boundaries\n",
    "study_area = 'Goteborg_metropolitan_dissolve.gpkg'\n",
    "\n",
    "#poi dictionary\n",
    "\n",
    "poi_dictionary = {\n",
    "    'grocery':{\n",
    "        'category':['grocery']\n",
    "    }\n",
    "}\n",
    "\n",
    "#network related configs\n",
    "maximum_dist=2400\n",
    "\n",
    "#results\n",
    "output_file = 'Goteborg_results_walk_230723.gpkg'"
   ]
  },
  {
   "cell_type": "code",
   "execution_count": 7,
   "id": "0dc18490",
   "metadata": {},
   "outputs": [],
   "source": [
    "# based on https://commons.wikimedia.org/wiki/File:Metropolitan_Gothenburg_ver.3.PNG\n",
    "place_gdf = gpd.read_file(study_area, crs=\"EPSG:4326\").to_crs(proj_crs)"
   ]
  },
  {
   "cell_type": "code",
   "execution_count": null,
   "id": "560acc32",
   "metadata": {
    "scrolled": true
   },
   "outputs": [],
   "source": [
    "# check that we have the right area\n",
    "#place_gdf.geometry.plot()"
   ]
  },
  {
   "cell_type": "markdown",
   "id": "6dc208e1",
   "metadata": {},
   "source": [
    "## Import Data\n",
    "\n",
    "Data sources:\n",
    "1. Grocery stores data"
   ]
  },
  {
   "cell_type": "markdown",
   "id": "2a90da63",
   "metadata": {},
   "source": [
    "### Add grocery store data"
   ]
  },
  {
   "cell_type": "code",
   "execution_count": 60,
   "id": "528b6c9d",
   "metadata": {},
   "outputs": [],
   "source": [
    "# import grocery_stores.gpkg from Data/Sweden\n",
    "#grocery_stores = gpd.read_file('grocery_stores.gpkg').to_crs(proj_crs)\n",
    "grocery_stores = gpd.read_file('C:\\\\Users\\\\z3258367\\\\OneDrive - UNSW\\\\#PhD\\\\Data\\\\Sweden\\\\grocery_stores.gpkg').to_crs(proj_crs)"
   ]
  },
  {
   "cell_type": "code",
   "execution_count": 61,
   "id": "001c1e69",
   "metadata": {},
   "outputs": [],
   "source": [
    "# add category column, all values 'grocery' to grocery_stores\n",
    "grocery_stores['category'] = 'grocery'                                                                                     "
   ]
  },
  {
   "cell_type": "code",
   "execution_count": 62,
   "id": "951a8fe5",
   "metadata": {},
   "outputs": [],
   "source": [
    "#pois = pd.concat([osm_pois, employment_centrs])\n",
    "pois = grocery_stores\n",
    "\n",
    "pois = gpd.clip(pois, place_gdf.to_crs(proj_crs))"
   ]
  },
  {
   "cell_type": "markdown",
   "id": "96944dbd",
   "metadata": {},
   "source": [
    "### Categorise and weight POIs"
   ]
  },
  {
   "cell_type": "markdown",
   "id": "94b0c568",
   "metadata": {},
   "source": [
    "Choose walk index weightings, and output the sums of each category and the total to check. The walk index will be out of 100 regardless of this sum, but it is important to note that eg. shopping is only '10% of the walk index' if shopping is 10 out of 100."
   ]
  },
  {
   "cell_type": "code",
   "execution_count": 40,
   "id": "8a4b9a72",
   "metadata": {},
   "outputs": [],
   "source": [
    "poi_parameters = pd.read_csv((\"poi_parameters.csv\"), index_col=0)"
   ]
  },
  {
   "cell_type": "markdown",
   "id": "41834e86",
   "metadata": {},
   "source": [
    "### Import network"
   ]
  },
  {
   "cell_type": "markdown",
   "id": "48941950",
   "metadata": {},
   "source": [
    "Pandana expects edges to have a two item index based on the same IDs as the node index. (with thanks to https://github.com/shriv/accessibility-series/blob/master/Accounting%20for%20hills%20in%20accessibility%20analyses.ipynb)"
   ]
  },
  {
   "cell_type": "code",
   "execution_count": null,
   "id": "0f482396",
   "metadata": {},
   "outputs": [],
   "source": [
    "#G = ox.graph_from_place(place, network_type='walk')\n",
    "G = ox.graph.graph_from_polygon(place_gdf.to_crs('EPSG:4326').geometry[0], network_type='walk')"
   ]
  },
  {
   "cell_type": "code",
   "execution_count": 14,
   "id": "00ba8347",
   "metadata": {},
   "outputs": [],
   "source": [
    "#ox.io.save_graphml(G, filepath=None, gephi=False, encoding='utf-8')\n",
    "G = ox.io.load_graphml(filepath=\"Goteborg walk network\", node_dtypes=None, edge_dtypes=None, graph_dtypes=None)"
   ]
  },
  {
   "cell_type": "code",
   "execution_count": 15,
   "id": "86fc3bce",
   "metadata": {},
   "outputs": [],
   "source": [
    "# Get nodes and edges as geodataframes (gdfs) from OSMNX network\n",
    "graph_df = ox.graph_to_gdfs(G)\n",
    "nodes_gdfs = graph_df[0].to_crs(proj_crs)\n",
    "edges_gdfs = graph_df[1].to_crs(proj_crs)"
   ]
  },
  {
   "cell_type": "markdown",
   "id": "f02dfca0",
   "metadata": {},
   "source": [
    "## Pandana network creation."
   ]
  },
  {
   "cell_type": "code",
   "execution_count": 16,
   "id": "77ca4dac",
   "metadata": {},
   "outputs": [],
   "source": [
    "# with new OSMnx graph from polygon seems to be different\n",
    "edges_gdfs = edges_gdfs.reset_index()\n",
    "# Setting indices of Edges gdfs to match expected dataframe for Pandana\n",
    "edges_gdfs['from_idx'] = edges_gdfs['u']\n",
    "edges_gdfs['to_idx'] = edges_gdfs['v']\n",
    "edges_gdfs= edges_gdfs.set_index(['from_idx', 'to_idx'])\n",
    "edges_gdfs.index.names= ['','']\n",
    "\n",
    "# Setting indices of Nodes gdfs to match expected dataframe for Pandana\n",
    "nodes_gdfs.index.name = 'id'\n",
    "# Create a pandana network with data extracted from an OSMNX graph\n",
    "distance_network = pdna.Network(nodes_gdfs.geometry.x, nodes_gdfs.geometry.y,\n",
    "                                   edges_gdfs['u'], edges_gdfs['v'], \n",
    "                                   edges_gdfs[['length']])"
   ]
  },
  {
   "cell_type": "markdown",
   "id": "09754e3b",
   "metadata": {},
   "source": [
    "### Pandana network querying. "
   ]
  },
  {
   "cell_type": "markdown",
   "id": "a3f098cc",
   "metadata": {},
   "source": [
    "### Testing different parameters"
   ]
  },
  {
   "cell_type": "code",
   "execution_count": 54,
   "id": "ce41feb0",
   "metadata": {},
   "outputs": [],
   "source": [
    "test_parameters = poi_parameters.loc[['grocery']]"
   ]
  },
  {
   "cell_type": "code",
   "execution_count": 57,
   "id": "2d7552c9",
   "metadata": {},
   "outputs": [],
   "source": [
    "poi_weights = test_parameters['weight'].copy()\n",
    "poi_lambdas = test_parameters['diminishing_returns_constant'].copy()\n",
    "poi_variables = test_parameters['variable'].copy()\n",
    "poi_nums = test_parameters['num_pois'].copy()\n",
    "poi_gammas = test_parameters['distance_constant'].copy()"
   ]
  },
  {
   "cell_type": "code",
   "execution_count": 58,
   "id": "937d2543",
   "metadata": {},
   "outputs": [],
   "source": [
    "poi_parameters['num_pois'] = 50\n",
    "poi_nums = poi_parameters['num_pois'].copy()"
   ]
  },
  {
   "cell_type": "code",
   "execution_count": 25,
   "id": "0139a7bc",
   "metadata": {},
   "outputs": [],
   "source": [
    "# for perceived access to grocery store testing\n",
    "distance_constants = [0.0005, 0.00075, 0.001, 0.00125, 0.0015]\n",
    "diminishing_returns_constants = [0.1, 0.2, 0.3, 0.5, 0.7]"
   ]
  },
  {
   "cell_type": "code",
   "execution_count": 73,
   "id": "9c333174",
   "metadata": {},
   "outputs": [
    {
     "name": "stdout",
     "output_type": "stream",
     "text": [
      "Finished category: grocery\n",
      "Maximum score: 68.17072578875297 out of 100\n",
      "0.0005 0.1 mean: 13.057542021214275\n",
      "Finished category: grocery\n",
      "Maximum score: 76.89436847101179 out of 100\n",
      "0.0005 0.2 mean: 17.956343799175094\n",
      "Finished category: grocery\n",
      "Maximum score: 72.97092241434756 out of 100\n",
      "0.0005 0.3 mean: 19.850447928079607\n",
      "Finished category: grocery\n",
      "Maximum score: 60.597757534248565 out of 100\n",
      "0.0005 0.5 mean: 19.949773742287157\n",
      "Finished category: grocery\n",
      "Maximum score: 49.65577673420598 out of 100\n",
      "0.0005 0.7 mean: 18.171039237340594\n",
      "Finished category: grocery\n",
      "Maximum score: 68.17072578875297 out of 100\n",
      "0.00075 0.1 mean: 9.81015901201347\n",
      "Finished category: grocery\n",
      "Maximum score: 76.89436847101179 out of 100\n",
      "0.00075 0.2 mean: 13.788498306184767\n",
      "Finished category: grocery\n",
      "Maximum score: 72.97092241434756 out of 100\n",
      "0.00075 0.3 mean: 15.466822283327701\n",
      "Finished category: grocery\n",
      "Maximum score: 60.597757534248565 out of 100\n",
      "0.00075 0.5 mean: 15.839730848732778\n",
      "Finished category: grocery\n",
      "Maximum score: 49.65577673420598 out of 100\n",
      "0.00075 0.7 mean: 14.598441080321738\n",
      "Finished category: grocery\n",
      "Maximum score: 68.17072578875297 out of 100\n",
      "0.001 0.1 mean: 7.535101028597143\n",
      "Finished category: grocery\n",
      "Maximum score: 76.89436847101179 out of 100\n",
      "0.001 0.2 mean: 10.811430885198494\n",
      "Finished category: grocery\n",
      "Maximum score: 72.97092241434756 out of 100\n",
      "0.001 0.3 mean: 12.29412665184455\n",
      "Finished category: grocery\n",
      "Maximum score: 60.597757534248565 out of 100\n",
      "0.001 0.5 mean: 12.813162973041631\n",
      "Finished category: grocery\n",
      "Maximum score: 49.65577673420598 out of 100\n",
      "0.001 0.7 mean: 11.938683227674204\n",
      "Finished category: grocery\n",
      "Maximum score: 68.17072578875297 out of 100\n",
      "0.00125 0.1 mean: 5.9102071874428574\n",
      "Finished category: grocery\n",
      "Maximum score: 76.89436847101179 out of 100\n",
      "0.00125 0.2 mean: 8.64338943102421\n",
      "Finished category: grocery\n",
      "Maximum score: 72.97092241434756 out of 100\n",
      "0.00125 0.3 mean: 9.953114866882997\n",
      "Finished category: grocery\n",
      "Maximum score: 60.597757534248565 out of 100\n",
      "0.00125 0.5 mean: 10.541404664913662\n",
      "Finished category: grocery\n",
      "Maximum score: 49.65577673420598 out of 100\n",
      "0.00125 0.7 mean: 9.920582820356158\n",
      "Finished category: grocery\n",
      "Maximum score: 68.17072578875297 out of 100\n",
      "0.0015 0.1 mean: 4.727039018346596\n",
      "Finished category: grocery\n",
      "Maximum score: 76.89436847101179 out of 100\n",
      "0.0015 0.2 mean: 7.0341887665917495\n",
      "Finished category: grocery\n",
      "Maximum score: 72.97092241434756 out of 100\n",
      "0.0015 0.3 mean: 8.193080443074434\n",
      "Finished category: grocery\n",
      "Maximum score: 60.597757534248565 out of 100\n",
      "0.0015 0.5 mean: 8.80473019877902\n",
      "Finished category: grocery\n",
      "Maximum score: 49.65577673420598 out of 100\n",
      "0.0015 0.7 mean: 8.361579422208441\n"
     ]
    }
   ],
   "source": [
    "i = 0\n",
    "for dist_const in distance_constants:\n",
    "    for dim_const in diminishing_returns_constants:\n",
    "        poi_gammas.loc['grocery'] = dist_const\n",
    "        poi_lambdas.loc['grocery'] = dim_const\n",
    "        \n",
    "        results_walk = there_index(distance_network, grocery_stores, poi_dictionary, poi_weights, poi_gammas,\n",
    "                            poi_nums, poi_lambdas, poi_variables, distance=maximum_dist)\n",
    "\n",
    "        small_results = result_rounding(results_walk)\n",
    "\n",
    "        #output_file = 'Goteborg_results_walk_300723' + '_dist' + str(dist_const) + '_dim' + str(dim_const) + '.gpkg'\n",
    "        #small_results.to_file(output_file, driver=\"GPKG\")\n",
    "\n",
    "        if i == 0:\n",
    "            results = gpd.GeoDataFrame(small_results, geometry = gpd.GeoSeries.from_xy(results_walk.x, results_walk.y, crs=proj_crs))\n",
    "            results.drop(columns=['THERE_Index'], inplace=True)\n",
    "\n",
    "        col_name = 'THERE_dist_' + str(dist_const) + '_dim_' + str(dim_const)   \n",
    "        results.insert(results.shape[1], col_name, small_results['THERE_Index'])\n",
    "\n",
    "        i += 1\n",
    "        print(dist_const, dim_const, \"mean:\", np.mean(results_walk['THERE_Index']))\n",
    "\n",
    "results.to_csv('Goteborg_walk_25_grocery_300723.csv')"
   ]
  },
  {
   "cell_type": "markdown",
   "id": "4876dff8",
   "metadata": {},
   "source": [
    "Note that the mean below is based on every network point, in the case of Greater Gothenburg this includes a lot of empty areas. To get a better indicator of average access for the population, need to produce population-weighted results as in section below."
   ]
  },
  {
   "cell_type": "code",
   "execution_count": 22,
   "id": "ee95d5c4",
   "metadata": {},
   "outputs": [
    {
     "data": {
      "text/plain": [
       "(72.97092241434756, 12.276192236634376)"
      ]
     },
     "execution_count": 22,
     "metadata": {},
     "output_type": "execute_result"
    }
   ],
   "source": [
    "max(results_walk['THERE_Index']), np.mean(results_walk['THERE_Index'])"
   ]
  },
  {
   "cell_type": "markdown",
   "id": "933c5d9e",
   "metadata": {},
   "source": [
    "The current approach is to find up to x closest nodes for each category within the maximum distance. Then look up the attractiveness at each one (just count for most), apply a distance decay function to each distance, apply diminishing returns to the resulting total opportunity, and sum.\n",
    "\n",
    "An alternative approach which would be more convenient would be to use the Pandana 'aggregate' function which aggregates from all nodes within the maximum distance including applying a decay function. However, there is limited ability to change the distance decay rate within the aggregation function. It can either be flat (no decay), linear (going to 0 at the max distance), or exponential where beta is set as 1/max distance. For walking I would like a beta of 0.001, but this requires the radius to be 1000m. If the radius is 2400m, beta is only 0.0004. This can be changed in the future if the Pandana function is updated to take a decay parameter."
   ]
  },
  {
   "cell_type": "markdown",
   "id": "0f4526c7",
   "metadata": {},
   "source": [
    "## Export results"
   ]
  },
  {
   "cell_type": "markdown",
   "id": "1c20c8d1",
   "metadata": {},
   "source": [
    "Reduce the number of decimal places before export, distances to destinations do not need to be below 1m."
   ]
  },
  {
   "cell_type": "code",
   "execution_count": 26,
   "id": "4f109bb3",
   "metadata": {},
   "outputs": [],
   "source": [
    "def result_rounding(results):\n",
    "    # reduces results size for export\n",
    "    # score columns such as THERE_Index, employment_subtotal etc -> 3 decimal places\n",
    "    # distance columns such as employment1 -> 0 decimal places (nearest metre)\n",
    "    # avoid doing anything to connect_id, x or y\n",
    "    rounding_dict = {**{k:3 for k in results.columns if \"Index\" in k or \".\" in k\n",
    "                        and 'connect_id' not in k},\n",
    "                     **{k:0 for k in results.columns if \"Index\" not in k and \".\" not in k\n",
    "                        and k != 'x'\n",
    "                        and k != 'y'}}\n",
    "    return results.round(rounding_dict)"
   ]
  },
  {
   "cell_type": "code",
   "execution_count": 24,
   "id": "bca7504b",
   "metadata": {},
   "outputs": [],
   "source": [
    "small_results = gpd.GeoDataFrame(result_rounding(results_walk), geometry = gpd.GeoSeries.from_xy(results_walk.x, results_walk.y, crs=proj_crs))"
   ]
  },
  {
   "cell_type": "code",
   "execution_count": 25,
   "id": "a3e2254e",
   "metadata": {},
   "outputs": [],
   "source": [
    "small_results.to_file(output_file)"
   ]
  }
 ],
 "metadata": {
  "kernelspec": {
   "display_name": "Python 3 (ipykernel)",
   "language": "python",
   "name": "python3"
  },
  "language_info": {
   "codemirror_mode": {
    "name": "ipython",
    "version": 3
   },
   "file_extension": ".py",
   "mimetype": "text/x-python",
   "name": "python",
   "nbconvert_exporter": "python",
   "pygments_lexer": "ipython3",
   "version": "3.8.17"
  }
 },
 "nbformat": 4,
 "nbformat_minor": 5
}
