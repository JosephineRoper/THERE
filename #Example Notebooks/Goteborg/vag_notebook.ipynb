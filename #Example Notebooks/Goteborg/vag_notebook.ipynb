{
 "cells": [
  {
   "cell_type": "code",
   "execution_count": 1,
   "id": "5427baeb",
   "metadata": {},
   "outputs": [],
   "source": [
    "%load_ext autoreload\n",
    "%autoreload 2"
   ]
  },
  {
   "cell_type": "code",
   "execution_count": 2,
   "id": "2c6e251a",
   "metadata": {},
   "outputs": [],
   "source": [
    "import numpy as np\n",
    "import pandana as pdna\n",
    "import geopandas as gpd\n",
    "import pandas as pd\n",
    "import osmnx as ox\n",
    "import networkx as nx\n",
    "import sys\n",
    "#import matplotlib.pyplot as plt\n"
   ]
  },
  {
   "cell_type": "code",
   "execution_count": 3,
   "id": "9230ea85",
   "metadata": {},
   "outputs": [],
   "source": [
    "# adding functions \n",
    "sys.path.insert(0, '/home/vagvaf/projects/THERE')\n",
    "from walkability_functions import *"
   ]
  },
  {
   "cell_type": "markdown",
   "id": "0c11d165",
   "metadata": {},
   "source": [
    "## Config variables \n",
    "\n",
    "before proceeding set up various config variables"
   ]
  },
  {
   "cell_type": "code",
   "execution_count": 20,
   "id": "82ec5e81",
   "metadata": {},
   "outputs": [],
   "source": [
    "# working folder\n",
    "folder = \"/home/vagvaf/projects/THERE/#Example Notebooks/Goteborg\"\n",
    "\n",
    "#choose a projected CRS to be used for all distance calculations.\n",
    "proj_crs = \"EPSG:3006\"\n",
    "\n",
    "#study area boundaries\n",
    "study_area = 'Goteborg_metropolitan_dissolve.gpkg'\n",
    "\n",
    "#poi dictionary\n",
    "\n",
    "poi_dictionary = {\n",
    "    'employment':{\n",
    "        'category':['employment']\n",
    "    },\n",
    "    'shopping':{\n",
    "        'shop':['bakery', 'clothes', 'supermarket', 'mall', 'greengrocer',\n",
    "                'seafood', 'wine', 'butcher','convenience',\n",
    "                'beverages', 'alcohol', 'bicycle_shop', 'department_store', \n",
    "                'doityourself', 'beauty_shop', 'outdoor_shop', \n",
    "                'stationery', 'bookshop', 'gift_shop', 'newsagent', \n",
    "                'car_dealership', 'furniture_shop', 'sports_shop',\n",
    "                'garden_centre', 'computer_shop', 'shoe_shop', 'florist', \n",
    "                'video_shop', 'toy_shop', 'mobile_phone_shop', 'jeweller'],\n",
    "        # possibly we could pick up all shop=True excluding a few. but not sure how\n",
    "        # and many options to exclude\n",
    "        'amenity':['marketplace'],\n",
    "        'building':['kiosk', 'supermarket',],\n",
    "    },\n",
    "    'errands':{\n",
    "        'amenity':['atm','bank','courthouse','post_box', 'post_office',\n",
    "                   'clinic', 'dentist', 'doctors', 'hospital',\n",
    "                   'pharmacy', 'veterinary', 'travel_agent',\n",
    "                   'place_of_worship'],\n",
    "        'shop':['optician', 'hairdresser', 'laundry',],\n",
    "        'healthcare':['physiotherapist'],\n",
    "        'office':['government'], #### further refine ?\n",
    "    },\n",
    "    'recreation':{\n",
    "        'leisure':['dog_park', 'ice_rink', 'park', 'pitch', 'playground',\n",
    "                   \"fitness_centre\",\"sports_centre\", 'stadium', 'swimming_pool',\n",
    "                   'swimming_area', 'track', 'water_park','golf_course',],\n",
    "        'club':['social'],\n",
    "        'amenity':['bar', 'biergarten', 'cafe', 'fast_food', 'food_court',\n",
    "                   'ice_cream', 'pub', 'restaurant', 'nightclub',\n",
    "                   'library', 'arts_centre', 'cinema', 'community_centre',\n",
    "                   'social_centre', 'theatre',],\n",
    "        'building':['stadium', 'castle', 'ruins',],\n",
    "        'tourism':['aquarium', 'artwork', 'attraction', 'gallery',\n",
    "                   'museum', 'picnic_site', 'theme_park', 'viewpoint',\n",
    "                   'zoo'],\n",
    "        'natural':['beach'],\n",
    "    },\n",
    "    'education':{\n",
    "        'amenity':['college', 'kindergarten', 'music_school',\n",
    "                   'school', 'university', 'childcare'],\n",
    "    },\n",
    "    'grocery':{\n",
    "        'category':['grocery']\n",
    "    }\n",
    "}\n",
    "\n",
    "# change this to match the column containting job counts in your employment dataframe\n",
    "#poi_variables.loc['employment'] = 'Jobs_count'\n",
    "\n",
    "# change this to make employment score more accurate (higher number) or to reduce index calculation time (low number)\n",
    "#poi_nums.loc['employment'] = 1200\n",
    "\n",
    "#network related configs\n",
    "maximum_dist=2400\n",
    "\n",
    "\n",
    "#results\n",
    "output_file = 'Goteborg_results_walk_230723.gpkg'"
   ]
  },
  {
   "cell_type": "code",
   "execution_count": 6,
   "id": "0dc18490",
   "metadata": {},
   "outputs": [],
   "source": [
    "# based on https://commons.wikimedia.org/wiki/File:Metropolitan_Gothenburg_ver.3.PNG\n",
    "place_gdf = gpd.read_file(study_area, crs=\"EPSG:4326\").to_crs(proj_crs)"
   ]
  },
  {
   "cell_type": "code",
   "execution_count": 7,
   "id": "560acc32",
   "metadata": {
    "scrolled": true
   },
   "outputs": [],
   "source": [
    "# check that we have the right area\n",
    "#place_gdf.geometry.plot()"
   ]
  },
  {
   "cell_type": "markdown",
   "id": "6dc208e1",
   "metadata": {},
   "source": [
    "## Import Data\n",
    "\n",
    "Data sources:\n",
    "1. Grocery stores data"
   ]
  },
  {
   "cell_type": "markdown",
   "id": "2a90da63",
   "metadata": {},
   "source": [
    "### Add grocery store data"
   ]
  },
  {
   "cell_type": "code",
   "execution_count": 8,
   "id": "528b6c9d",
   "metadata": {},
   "outputs": [],
   "source": [
    "# import grocery_stores.gpkg from Data/Sweden\n",
    "grocery_stores = gpd.read_file('grocery_stores.gpkg').to_crs(proj_crs)"
   ]
  },
  {
   "cell_type": "code",
   "execution_count": 9,
   "id": "001c1e69",
   "metadata": {},
   "outputs": [],
   "source": [
    "# add category column, all values 'grocery' to grocery_stores\n",
    "grocery_stores['category'] = 'grocery'\n",
    "                                                                                        "
   ]
  },
  {
   "cell_type": "code",
   "execution_count": 10,
   "id": "951a8fe5",
   "metadata": {},
   "outputs": [],
   "source": [
    "#pois = pd.concat([osm_pois, employment_centrs])\n",
    "pois = grocery_stores\n",
    "\n",
    "pois = gpd.clip(pois, place_gdf.to_crs(proj_crs))"
   ]
  },
  {
   "cell_type": "markdown",
   "id": "96944dbd",
   "metadata": {},
   "source": [
    "### Categorise and weight POIs"
   ]
  },
  {
   "cell_type": "markdown",
   "id": "94b0c568",
   "metadata": {},
   "source": [
    "Choose walk index weightings, and output the sums of each category and the total to check. The walk index will be out of 100 regardless of this sum, but it is important to note that eg. shopping is only '10% of the walk index' if shopping is 10 out of 100."
   ]
  },
  {
   "cell_type": "code",
   "execution_count": 11,
   "id": "8a4b9a72",
   "metadata": {},
   "outputs": [],
   "source": [
    "poi_parameters = pd.read_csv((\"poi_parameters.csv\"), index_col=0)"
   ]
  },
  {
   "cell_type": "code",
   "execution_count": 12,
   "id": "2d7552c9",
   "metadata": {},
   "outputs": [],
   "source": [
    "poi_weights = poi_parameters['weight'].copy()\n",
    "\n",
    "poi_lambdas = poi_parameters['diminishing_returns_constant'].copy()\n",
    "\n",
    "poi_variables = poi_parameters['variable'].copy()\n",
    "\n",
    "poi_nums = poi_parameters['num_pois'].copy()\n",
    "\n",
    "poi_gammas = poi_parameters['distance_constant'].copy()"
   ]
  },
  {
   "cell_type": "code",
   "execution_count": 13,
   "id": "b7f4b63d",
   "metadata": {},
   "outputs": [
    {
     "name": "stdout",
     "output_type": "stream",
     "text": [
      "total:  100 \n",
      " category\n",
      "employment      0\n",
      "education       0\n",
      "shopping        0\n",
      "errands         0\n",
      "recreation      0\n",
      "grocery       100\n",
      "Name: weight, dtype: int64\n"
     ]
    }
   ],
   "source": [
    "total = sum(poi_weights)\n",
    "print(\"total: \", total, \"\\n\", poi_weights)"
   ]
  },
  {
   "cell_type": "markdown",
   "id": "41834e86",
   "metadata": {},
   "source": [
    "### Import network"
   ]
  },
  {
   "cell_type": "markdown",
   "id": "48941950",
   "metadata": {},
   "source": [
    "Pandana expects edges to have a two item index based on the same IDs as the node index. (with thanks to https://github.com/shriv/accessibility-series/blob/master/Accounting%20for%20hills%20in%20accessibility%20analyses.ipynb)"
   ]
  },
  {
   "cell_type": "code",
   "execution_count": 14,
   "id": "0f482396",
   "metadata": {},
   "outputs": [],
   "source": [
    "#G = ox.graph_from_place(place, network_type='walk')\n",
    "G = ox.graph.graph_from_polygon(place_gdf.to_crs('EPSG:4326').geometry[0], network_type='walk')"
   ]
  },
  {
   "cell_type": "code",
   "execution_count": 15,
   "id": "00ba8347",
   "metadata": {},
   "outputs": [],
   "source": [
    "ox.io.save_graphml(G, filepath=None, gephi=False, encoding='utf-8')"
   ]
  },
  {
   "cell_type": "code",
   "execution_count": 16,
   "id": "86fc3bce",
   "metadata": {},
   "outputs": [],
   "source": [
    "# Get nodes and edges as geodataframes (gdfs) from OSMNX network\n",
    "graph_df = ox.graph_to_gdfs(G)\n",
    "nodes_gdfs = graph_df[0].to_crs(proj_crs)\n",
    "edges_gdfs = graph_df[1].to_crs(proj_crs)"
   ]
  },
  {
   "cell_type": "markdown",
   "id": "f02dfca0",
   "metadata": {},
   "source": [
    "## Pandana network creation."
   ]
  },
  {
   "cell_type": "code",
   "execution_count": 17,
   "id": "77ca4dac",
   "metadata": {},
   "outputs": [
    {
     "name": "stdout",
     "output_type": "stream",
     "text": [
      "Generating contraction hierarchies with 8 threads.\n",
      "Setting CH node vector of size 220082\n",
      "Setting CH edge vector of size 586106\n",
      "Range graph removed 607502 edges of 1172212\n",
      ". 10% . 20% . 30% . 40% . 50% . 60% . 70% . 80% . 90% . 100%\n"
     ]
    }
   ],
   "source": [
    "# with new OSMnx graph from polygon seems to be different\n",
    "edges_gdfs = edges_gdfs.reset_index()\n",
    "# Setting indices of Edges gdfs to match expected dataframe for Pandana\n",
    "edges_gdfs['from_idx'] = edges_gdfs['u']\n",
    "edges_gdfs['to_idx'] = edges_gdfs['v']\n",
    "edges_gdfs= edges_gdfs.set_index(['from_idx', 'to_idx'])\n",
    "edges_gdfs.index.names= ['','']\n",
    "\n",
    "# Setting indices of Nodes gdfs to match expected dataframe for Pandana\n",
    "nodes_gdfs.index.name = 'id'\n",
    "# Create a pandana network with data extracted from an OSMNX graph\n",
    "distance_network = pdna.Network(nodes_gdfs.geometry.x, nodes_gdfs.geometry.y,\n",
    "                                   edges_gdfs['u'], edges_gdfs['v'], \n",
    "                                   edges_gdfs[['length']])"
   ]
  },
  {
   "cell_type": "markdown",
   "id": "09754e3b",
   "metadata": {},
   "source": [
    "### Pandana network querying. "
   ]
  },
  {
   "cell_type": "code",
   "execution_count": 21,
   "id": "9c333174",
   "metadata": {},
   "outputs": [
    {
     "name": "stdout",
     "output_type": "stream",
     "text": [
      "No pois in category: employment\n",
      "Finished category: employment\n",
      "Maximum score: 0 out of 0\n",
      "No pois in category: education\n",
      "Finished category: education\n",
      "Maximum score: 0 out of 0\n",
      "No pois in category: shopping\n",
      "Finished category: shopping\n",
      "Maximum score: 0 out of 0\n",
      "No pois in category: errands\n",
      "Finished category: errands\n",
      "Maximum score: 0 out of 0\n",
      "No pois in category: recreation\n",
      "Finished category: recreation\n",
      "Maximum score: 0 out of 0\n",
      "Finished category: grocery\n",
      "Maximum score: 72.97092241434756 out of 100\n"
     ]
    }
   ],
   "source": [
    "results_walk = there_index(distance_network, grocery_stores, poi_dictionary, poi_weights, poi_gammas,\n",
    "                            poi_nums, poi_lambdas, poi_variables, distance=maximum_dist)"
   ]
  },
  {
   "cell_type": "markdown",
   "id": "4876dff8",
   "metadata": {},
   "source": [
    "Note that the mean below is based on every network point, in the case of Greater Gothenburg this includes a lot of empty areas. To get a better indicator of average access for the population, need to produce population-weighted results as in section below."
   ]
  },
  {
   "cell_type": "code",
   "execution_count": 22,
   "id": "ee95d5c4",
   "metadata": {},
   "outputs": [
    {
     "data": {
      "text/plain": [
       "(72.97092241434756, 12.276192236634376)"
      ]
     },
     "execution_count": 22,
     "metadata": {},
     "output_type": "execute_result"
    }
   ],
   "source": [
    "max(results_walk['THERE_Index']), np.mean(results_walk['THERE_Index'])"
   ]
  },
  {
   "cell_type": "markdown",
   "id": "933c5d9e",
   "metadata": {},
   "source": [
    "The current approach is to find up to x closest nodes for each category within the maximum distance. Then look up the attractiveness at each one (just count for most), apply a distance decay function to each distance, apply diminishing returns to the resulting total opportunity, and sum.\n",
    "\n",
    "An alternative approach which would be more convenient would be to use the Pandana 'aggregate' function which aggregates from all nodes within the maximum distance including applying a decay function. However, there is limited ability to change the distance decay rate within the aggregation function. It can either be flat (no decay), linear (going to 0 at the max distance), or exponential where beta is set as 1/max distance. For walking I would like a beta of 0.001, but this requires the radius to be 1000m. If the radius is 2400m, beta is only 0.0004. This can be changed in the future if the Pandana function is updated to take a decay parameter."
   ]
  },
  {
   "cell_type": "markdown",
   "id": "0f4526c7",
   "metadata": {},
   "source": [
    "## Export results"
   ]
  },
  {
   "cell_type": "markdown",
   "id": "1c20c8d1",
   "metadata": {},
   "source": [
    "Reduce the number of decimal places before export, distances to destinations do not need to be below 1m."
   ]
  },
  {
   "cell_type": "code",
   "execution_count": 23,
   "id": "4f109bb3",
   "metadata": {},
   "outputs": [],
   "source": [
    "def result_rounding(results):\n",
    "    # reduces results size for export\n",
    "    # score columns such as THERE_Index, employment_subtotal etc -> 3 decimal places\n",
    "    # distance columns such as employment1 -> 0 decimal places (nearest metre)\n",
    "    # avoid doing anything to connect_id, x or y\n",
    "    rounding_dict = {**{k:3 for k in results.columns if \"Index\" in k or \".\" in k\n",
    "                        and 'connect_id' not in k},\n",
    "                     **{k:0 for k in results.columns if \"Index\" not in k and \".\" not in k\n",
    "                        and k != 'x'\n",
    "                        and k != 'y'}}\n",
    "    return results.round(rounding_dict)"
   ]
  },
  {
   "cell_type": "code",
   "execution_count": 24,
   "id": "bca7504b",
   "metadata": {},
   "outputs": [],
   "source": [
    "small_results = gpd.GeoDataFrame(result_rounding(results_walk), geometry = gpd.GeoSeries.from_xy(results_walk.x, results_walk.y, crs=proj_crs))"
   ]
  },
  {
   "cell_type": "code",
   "execution_count": 25,
   "id": "a3e2254e",
   "metadata": {},
   "outputs": [],
   "source": [
    "small_results.to_file(output_file)"
   ]
  }
 ],
 "metadata": {
  "kernelspec": {
   "display_name": "Python 3 (ipykernel)",
   "language": "python",
   "name": "python3"
  },
  "language_info": {
   "codemirror_mode": {
    "name": "ipython",
    "version": 3
   },
   "file_extension": ".py",
   "mimetype": "text/x-python",
   "name": "python",
   "nbconvert_exporter": "python",
   "pygments_lexer": "ipython3",
   "version": "3.9.17"
  }
 },
 "nbformat": 4,
 "nbformat_minor": 5
}
