{
 "cells": [
  {
   "cell_type": "code",
   "execution_count": 2,
   "id": "5427baeb",
   "metadata": {},
   "outputs": [],
   "source": [
    "%load_ext autoreload\n",
    "%autoreload 2"
   ]
  },
  {
   "cell_type": "code",
   "execution_count": 3,
   "id": "2c6e251a",
   "metadata": {},
   "outputs": [],
   "source": [
    "import numpy as np\n",
    "import pandana as pdna\n",
    "import geopandas as gpd\n",
    "import pandas as pd\n",
    "import osmnx as ox\n",
    "import networkx as nx\n",
    "import sys\n",
    "import matplotlib.pyplot as plt\n",
    "# adding functions \n",
    "sys.path.insert(0, 'C:\\\\Users\\\\z3258367\\\\OneDrive - UNSW\\\\#PhD\\\\Walkability\\\\Other Cities\\\\Open-Walk-Index')\n",
    "from walkability_functions import *"
   ]
  },
  {
   "attachments": {},
   "cell_type": "markdown",
   "id": "0ee150b9",
   "metadata": {},
   "source": [
    "Choose a projected CRS to be used for all distance calculations."
   ]
  },
  {
   "cell_type": "code",
   "execution_count": 4,
   "id": "0dc18490",
   "metadata": {},
   "outputs": [],
   "source": [
    "proj_crs = \"EPSG:32630\"\n",
    "place = 'City of Glasgow, United Kingdom'\n",
    "place_gdf = ox.geocode_to_gdf(place).to_crs(proj_crs)"
   ]
  },
  {
   "attachments": {},
   "cell_type": "markdown",
   "id": "6dc208e1",
   "metadata": {},
   "source": [
    "## Import Data\n",
    "\n",
    "Data sources:\n",
    "1. OSM POIs\n",
    "5. Employment data - find govt source"
   ]
  },
  {
   "cell_type": "code",
   "execution_count": 5,
   "id": "c4f527da",
   "metadata": {},
   "outputs": [],
   "source": [
    "folder = \"C:\\\\Users\\\\z3258367\\\\OneDrive - UNSW\\\\#PhD\\\\\""
   ]
  },
  {
   "cell_type": "code",
   "execution_count": 6,
   "id": "0d3de460",
   "metadata": {},
   "outputs": [],
   "source": [
    "poi_dictionary = {\n",
    "    'employment':{\n",
    "        'category':['employment']\n",
    "    },\n",
    "    'shopping':{\n",
    "        'shop':['bakery', 'clothes', 'supermarket', 'mall', 'greengrocer',\n",
    "                'seafood', 'wine', 'butcher','convenience',\n",
    "                'beverages', 'alcohol', 'bicycle_shop', 'department_store', \n",
    "                'doityourself', 'beauty_shop', 'outdoor_shop', \n",
    "                'stationery', 'bookshop', 'gift_shop', 'newsagent', \n",
    "                'car_dealership', 'furniture_shop', 'sports_shop',\n",
    "                'garden_centre', 'computer_shop', 'shoe_shop', 'florist', \n",
    "                'video_shop', 'toy_shop', 'mobile_phone_shop', 'jeweller'],\n",
    "        # possibly we could pick up all shop=True excluding a few. but not sure how\n",
    "        # and many options to exclude\n",
    "        'amenity':['marketplace'],\n",
    "        'building':['kiosk', 'supermarket',],\n",
    "    },\n",
    "    'errands':{\n",
    "        'amenity':['atm','bank','courthouse','post_box', 'post_office',\n",
    "                   'clinic', 'dentist', 'doctors', 'hospital',\n",
    "                   'pharmacy', 'veterinary', 'travel_agent',\n",
    "                   'place_of_worship'],\n",
    "        'shop':['optician', 'hairdresser', 'laundry',],\n",
    "        'healthcare':['physiotherapist'],\n",
    "        'office':['government'], #### further refine ?\n",
    "    },\n",
    "    'recreation':{\n",
    "        'leisure':['dog_park', 'ice_rink', 'park', 'pitch', 'playground',\n",
    "                   \"fitness_centre\",\"sports_centre\", 'stadium', 'swimming_pool',\n",
    "                   'swimming_area', 'track', 'water_park','golf_course',],\n",
    "        'club':['social'],\n",
    "        'amenity':['bar', 'biergarten', 'cafe', 'fast_food', 'food_court',\n",
    "                   'ice_cream', 'pub', 'restaurant', 'nightclub',\n",
    "                   'library', 'arts_centre', 'cinema', 'community_centre',\n",
    "                   'social_centre', 'theatre',],\n",
    "        'building':['stadium', 'castle', 'ruins',],\n",
    "        'tourism':['aquarium', 'artwork', 'attraction', 'gallery',\n",
    "                   'museum', 'picnic_site', 'theme_park', 'viewpoint',\n",
    "                   'zoo'],\n",
    "        'natural':['beach'],\n",
    "    },\n",
    "    'education':{\n",
    "        'amenity':['college', 'kindergarten', 'music_school',\n",
    "                   'school', 'university', 'childcare'],\n",
    "    }\n",
    "}"
   ]
  },
  {
   "cell_type": "code",
   "execution_count": 8,
   "id": "96d322a4",
   "metadata": {},
   "outputs": [],
   "source": [
    "bbox = place_gdf.unary_union.bounds"
   ]
  },
  {
   "cell_type": "code",
   "execution_count": 9,
   "id": "1f102564",
   "metadata": {},
   "outputs": [
    {
     "data": {
      "text/plain": [
       "(412863.76118324406, 6182418.064705239, 432921.5645058725, 6198984.441034933)"
      ]
     },
     "execution_count": 9,
     "metadata": {},
     "output_type": "execute_result"
    }
   ],
   "source": [
    "bbox"
   ]
  },
  {
   "cell_type": "code",
   "execution_count": 10,
   "id": "eb4719a6",
   "metadata": {},
   "outputs": [],
   "source": [
    "osm_pois = poi_downloader(place_gdf, poi_dictionary, proj_crs)"
   ]
  },
  {
   "cell_type": "code",
   "execution_count": 11,
   "id": "fa0b7eea",
   "metadata": {},
   "outputs": [],
   "source": [
    "employment_centrs = gpd.read_file((folder + \n",
    "                        \"Walkability\\\\Other Cities\\\\Colouring data & results\\\\Edinburgh Data\\\\Output Areas w job counts.gpkg\"),\n",
    "                                  ).to_crs(proj_crs)\n",
    "\n",
    "employment_centrs['category'] = 'employment'\n",
    "employment_centrs['geometry'] = employment_centrs.geometry.centroid"
   ]
  },
  {
   "attachments": {},
   "cell_type": "markdown",
   "id": "d5588632",
   "metadata": {},
   "source": [
    "Need to remove potential overlap between different data sources (and inside some data sources). For now I'm not worrying about this when using only OSM data. Then take this combined POI set and clip it to the study area: should be the same area as is covered by the network. This is important otherwise points outside the network may be erroneously linked to the network."
   ]
  },
  {
   "cell_type": "code",
   "execution_count": 12,
   "id": "951a8fe5",
   "metadata": {},
   "outputs": [
    {
     "name": "stderr",
     "output_type": "stream",
     "text": [
      "c:\\Users\\z3258367\\Anaconda3\\envs\\ox\\lib\\site-packages\\geopandas\\array.py:1406: UserWarning: CRS not set for some of the concatenation inputs. Setting output's CRS as WGS 84 / UTM zone 30N (the single non-null crs provided).\n",
      "  warnings.warn(\n"
     ]
    }
   ],
   "source": [
    "pois = pd.concat([osm_pois, employment_centrs])\n",
    "\n",
    "pois = gpd.clip(pois, place_gdf)"
   ]
  },
  {
   "attachments": {},
   "cell_type": "markdown",
   "id": "96944dbd",
   "metadata": {},
   "source": [
    "### Categorise and weight POIs"
   ]
  },
  {
   "attachments": {},
   "cell_type": "markdown",
   "id": "94b0c568",
   "metadata": {},
   "source": [
    "Choose walk index weightings, and output the sums of each category and the total to check. The walk index will be out of 100 regardless of this sum, but it is important to note that eg. shopping is only '10% of the walk index' if shopping is 10 out of 100."
   ]
  },
  {
   "cell_type": "code",
   "execution_count": 17,
   "id": "8a4b9a72",
   "metadata": {},
   "outputs": [],
   "source": [
    "poi_parameters = pd.read_csv((folder + \n",
    "                              \"Walkability\\\\Other Cities\\\\Colouring data & results\\\\Shared Aus Data\\\\poi_parameters_5.csv\"),\n",
    "                            index_col=0)"
   ]
  },
  {
   "cell_type": "code",
   "execution_count": 18,
   "id": "2d7552c9",
   "metadata": {},
   "outputs": [],
   "source": [
    "poi_weights = poi_parameters['weight']\n",
    "\n",
    "poi_lambdas = poi_parameters['diminishing_returns_constant']\n",
    "\n",
    "poi_variables = poi_parameters['variable']\n",
    "\n",
    "poi_nums = poi_parameters['num_pois']\n",
    "\n",
    "poi_gammas = poi_parameters['distance_constant']"
   ]
  },
  {
   "cell_type": "code",
   "execution_count": 19,
   "id": "b7f4b63d",
   "metadata": {},
   "outputs": [
    {
     "name": "stdout",
     "output_type": "stream",
     "text": [
      "total:  100.00000000000001\n"
     ]
    }
   ],
   "source": [
    "total = sum(poi_weights)\n",
    "print(\"total: \", total)"
   ]
  },
  {
   "cell_type": "code",
   "execution_count": 20,
   "id": "408cc2bc",
   "metadata": {
    "scrolled": true
   },
   "outputs": [
    {
     "name": "stderr",
     "output_type": "stream",
     "text": [
      "C:\\Users\\z3258367\\AppData\\Local\\Temp\\ipykernel_73444\\1444990651.py:1: SettingWithCopyWarning: \n",
      "A value is trying to be set on a copy of a slice from a DataFrame\n",
      "\n",
      "See the caveats in the documentation: https://pandas.pydata.org/pandas-docs/stable/user_guide/indexing.html#returning-a-view-versus-a-copy\n",
      "  poi_variables['employment'] = 'jobs'\n",
      "C:\\Users\\z3258367\\AppData\\Local\\Temp\\ipykernel_73444\\1444990651.py:2: SettingWithCopyWarning: \n",
      "A value is trying to be set on a copy of a slice from a DataFrame\n",
      "\n",
      "See the caveats in the documentation: https://pandas.pydata.org/pandas-docs/stable/user_guide/indexing.html#returning-a-view-versus-a-copy\n",
      "  poi_nums['employment'] = 1200\n"
     ]
    }
   ],
   "source": [
    "poi_variables['employment'] = 'jobs'\n",
    "poi_nums['employment'] = 1200"
   ]
  },
  {
   "attachments": {},
   "cell_type": "markdown",
   "id": "1c20c8d1",
   "metadata": {},
   "source": [
    "Reduce the number of decimal places before export, distances do not need to be below 1m."
   ]
  },
  {
   "cell_type": "code",
   "execution_count": 21,
   "id": "e5a4560d",
   "metadata": {},
   "outputs": [],
   "source": [
    "def result_rounding(results):\n",
    "    # reduces results size for export\n",
    "    # score columns such as THERE_Index, employment_23 -> 3 decimal places\n",
    "    # distance columns such as employment1 -> 0 decimal places (nearest metre)\n",
    "    # avoid doing anything to connect_id, x or y\n",
    "    rounding_dict = {**{k:3 for k in results.columns if \"_\" in k\n",
    "                        and 'connect_id' not in k},\n",
    "                     **{k:0 for k in results.columns if \"_\" not in k\n",
    "                        and k != 'x'\n",
    "                        and k != 'y'}}\n",
    "    return results.round(rounding_dict)"
   ]
  },
  {
   "attachments": {},
   "cell_type": "markdown",
   "id": "41834e86",
   "metadata": {},
   "source": [
    "# Walking network"
   ]
  },
  {
   "attachments": {},
   "cell_type": "markdown",
   "id": "48941950",
   "metadata": {},
   "source": [
    "Pandana expects edges to have a two item index based on the same IDs as the node index. (with thanks to https://github.com/shriv/accessibility-series/blob/master/Accounting%20for%20hills%20in%20accessibility%20analyses.ipynb)"
   ]
  },
  {
   "cell_type": "code",
   "execution_count": 28,
   "id": "0f482396",
   "metadata": {},
   "outputs": [],
   "source": [
    "G = ox.graph_from_place(place, network_type='walk')"
   ]
  },
  {
   "cell_type": "code",
   "execution_count": 29,
   "id": "da1c9456",
   "metadata": {},
   "outputs": [],
   "source": [
    "# Get nodes and edges as geodataframes (gdfs) from OSMNX network\n",
    "graph_df = ox.graph_to_gdfs(G)\n",
    "nodes_gdfs = graph_df[0]\n",
    "edges_gdfs = graph_df[1]"
   ]
  },
  {
   "cell_type": "code",
   "execution_count": 30,
   "id": "ea15c37e",
   "metadata": {},
   "outputs": [],
   "source": [
    "edges_gdfs = edges_gdfs.to_crs(proj_crs)\n",
    "nodes_gdfs = nodes_gdfs.to_crs(proj_crs)"
   ]
  },
  {
   "cell_type": "code",
   "execution_count": 31,
   "id": "77ca4dac",
   "metadata": {},
   "outputs": [],
   "source": [
    "# with new OSMnx graph from polygon seems to be different\n",
    "edges_gdfs = edges_gdfs.reset_index()\n",
    "# Setting indices of Edges gdfs to match expected dataframe for Pandana\n",
    "edges_gdfs['from_idx'] = edges_gdfs['u']\n",
    "edges_gdfs['to_idx'] = edges_gdfs['v']\n",
    "edges_gdfs= edges_gdfs.set_index(['from_idx', 'to_idx'])\n",
    "edges_gdfs.index.names= ['','']\n",
    "\n",
    "# Setting indices of Nodes gdfs to match expected dataframe for Pandana\n",
    "nodes_gdfs.index.name = 'id'\n",
    "# Create a pandana network with data extracted from an OSMNX graph\n",
    "distance_network = pdna.Network(nodes_gdfs.geometry.x, nodes_gdfs.geometry.y,\n",
    "                                   edges_gdfs['u'], edges_gdfs['v'], \n",
    "                                   edges_gdfs[['length']])"
   ]
  },
  {
   "attachments": {},
   "cell_type": "markdown",
   "id": "09754e3b",
   "metadata": {},
   "source": [
    "### Pandana network querying. "
   ]
  },
  {
   "cell_type": "code",
   "execution_count": 32,
   "id": "254fb24e",
   "metadata": {},
   "outputs": [],
   "source": [
    "walk_dist = 2400"
   ]
  },
  {
   "cell_type": "code",
   "execution_count": 33,
   "id": "9c333174",
   "metadata": {},
   "outputs": [
    {
     "name": "stdout",
     "output_type": "stream",
     "text": [
      "Finished category: employment\n",
      "Maximum score: 0.0 out of 31.9\n",
      "Finished category: education\n",
      "Maximum score: 8.883438500488188 out of 14.3\n",
      "Finished category: shopping\n",
      "Maximum score: 15.822077813550104 out of 21.6\n",
      "Finished category: errands\n",
      "Maximum score: 6.490289060624569 out of 8.9\n",
      "Finished category: recreation\n",
      "Maximum score: 17.178255468926533 out of 23.3\n"
     ]
    }
   ],
   "source": [
    "results_walk = there_index(distance_network, pois, poi_dictionary, poi_weights, poi_gammas,\n",
    "                            poi_nums, poi_lambdas, poi_variables, distance = walk_dist)"
   ]
  },
  {
   "cell_type": "code",
   "execution_count": 34,
   "id": "45a59f2d",
   "metadata": {},
   "outputs": [
    {
     "data": {
      "text/plain": [
       "(45.95828762226397, 27.758656800636167)"
      ]
     },
     "execution_count": 34,
     "metadata": {},
     "output_type": "execute_result"
    }
   ],
   "source": [
    "max(results_walk['THERE_Index']), np.mean(results_walk['THERE_Index']) #### New"
   ]
  },
  {
   "cell_type": "code",
   "execution_count": 26,
   "id": "c2f911aa",
   "metadata": {},
   "outputs": [
    {
     "data": {
      "text/plain": [
       "(85.55739713770453, 60.805788392418556)"
      ]
     },
     "execution_count": 26,
     "metadata": {},
     "output_type": "execute_result"
    }
   ],
   "source": [
    "# old - 85.6, 60.8\n",
    "#max(results_walk['THERE_Index']), np.mean(results_walk['THERE_Index']) #### New"
   ]
  },
  {
   "cell_type": "code",
   "execution_count": 35,
   "id": "c05dc9b4",
   "metadata": {},
   "outputs": [],
   "source": [
    "small_w_results = gpd.GeoDataFrame(result_rounding(results_walk).drop_duplicates(subset=['x','y']).add_suffix('_walk'), \n",
    "                                   geometry = gpd.GeoSeries.from_xy(results_walk.x, results_walk.y, crs=proj_crs))"
   ]
  },
  {
   "cell_type": "code",
   "execution_count": 36,
   "id": "1956f431",
   "metadata": {},
   "outputs": [],
   "source": [
    "small_w_results.to_file((folder +\n",
    "                         \"Walkability\\\\Other Cities\\\\Colouring data & results\\\\\" + \n",
    "                         \"Glasgow_walk_270623.gpkg\"))"
   ]
  },
  {
   "attachments": {},
   "cell_type": "markdown",
   "id": "bf6ceeac",
   "metadata": {},
   "source": [
    "## Cycling"
   ]
  },
  {
   "cell_type": "code",
   "execution_count": 18,
   "id": "b3d49f3f",
   "metadata": {},
   "outputs": [],
   "source": [
    "C = ox.graph_from_place(place, network_type='bike')"
   ]
  },
  {
   "cell_type": "code",
   "execution_count": 19,
   "id": "55e2b7d3",
   "metadata": {},
   "outputs": [],
   "source": [
    "# Get nodes and edges as geodataframes (gdfs) from OSMNX network\n",
    "graph_df = ox.graph_to_gdfs(C)\n",
    "nodes_gdfs = graph_df[0]\n",
    "edges_gdfs = graph_df[1]"
   ]
  },
  {
   "cell_type": "code",
   "execution_count": 20,
   "id": "923c2c80",
   "metadata": {},
   "outputs": [],
   "source": [
    "edges_gdfs = edges_gdfs.to_crs(proj_crs)\n",
    "nodes_gdfs = nodes_gdfs.to_crs(proj_crs)"
   ]
  },
  {
   "cell_type": "code",
   "execution_count": 21,
   "id": "9bb42243",
   "metadata": {},
   "outputs": [],
   "source": [
    "# with new OSMnx graph from polygon seems to be different\n",
    "edges_gdfs = edges_gdfs.reset_index()\n",
    "# Setting indices of Edges gdfs to match expected dataframe for Pandana\n",
    "edges_gdfs['from_idx'] = edges_gdfs['u']\n",
    "edges_gdfs['to_idx'] = edges_gdfs['v']\n",
    "edges_gdfs= edges_gdfs.set_index(['from_idx', 'to_idx'])\n",
    "edges_gdfs.index.names= ['','']\n",
    "\n",
    "# Setting indices of Nodes gdfs to match expected dataframe for Pandana\n",
    "nodes_gdfs.index.name = 'id'\n",
    "# Create a pandana network with data extracted from an OSMNX graph\n",
    "cycle_network = pdna.Network(nodes_gdfs.geometry.x, nodes_gdfs.geometry.y,\n",
    "                                   edges_gdfs['u'], edges_gdfs['v'], \n",
    "                                   edges_gdfs[['length']])"
   ]
  },
  {
   "cell_type": "code",
   "execution_count": 30,
   "id": "3d29738a",
   "metadata": {},
   "outputs": [
    {
     "name": "stderr",
     "output_type": "stream",
     "text": [
      "<ipython-input-30-b86ea2175afd>:1: SettingWithCopyWarning: \n",
      "A value is trying to be set on a copy of a slice from a DataFrame\n",
      "\n",
      "See the caveats in the documentation: https://pandas.pydata.org/pandas-docs/stable/user_guide/indexing.html#returning-a-view-versus-a-copy\n",
      "  poi_nums['employment'] = 1200\n"
     ]
    }
   ],
   "source": [
    "cycle_gammas = poi_gammas.copy()\n",
    "cycle_gammas = cycle_gammas.replace(to_replace=0.001, value=0.0002)\n",
    "cycle_dist = 12000"
   ]
  },
  {
   "cell_type": "code",
   "execution_count": 29,
   "id": "8bba7314",
   "metadata": {},
   "outputs": [
    {
     "data": {
      "text/plain": [
       "(511251.0, 3974)"
      ]
     },
     "execution_count": 29,
     "metadata": {},
     "output_type": "execute_result"
    }
   ],
   "source": [
    "sum(pois[pois['category']=='employment'].jobs), len(pois[pois['category']=='employment'])"
   ]
  },
  {
   "attachments": {},
   "cell_type": "markdown",
   "id": "17ecb7ec",
   "metadata": {},
   "source": [
    "### Pandana network querying. "
   ]
  },
  {
   "cell_type": "code",
   "execution_count": 31,
   "id": "fa68719a",
   "metadata": {},
   "outputs": [
    {
     "name": "stderr",
     "output_type": "stream",
     "text": [
      "C:\\Users\\z3258367\\Anaconda3\\envs\\ox\\lib\\site-packages\\pandana\\network.py:660: FutureWarning: The default dtype for empty Series will be 'object' instead of 'float64' in a future version. Specify a dtype explicitly to silence this warning.\n",
      "  elif isinstance(maxitems, type(pd.Series())):\n",
      "C:\\Users\\z3258367\\Anaconda3\\envs\\ox\\lib\\site-packages\\pandana\\network.py:668: FutureWarning: The default dtype for empty Series will be 'object' instead of 'float64' in a future version. Specify a dtype explicitly to silence this warning.\n",
      "  elif isinstance(maxdist, type(pd.Series())):\n"
     ]
    },
    {
     "name": "stdout",
     "output_type": "stream",
     "text": [
      "Finished category: employment\n",
      "Maximum score: 28.980741772852703 out of 31.9\n"
     ]
    },
    {
     "name": "stderr",
     "output_type": "stream",
     "text": [
      "C:\\Users\\z3258367\\Anaconda3\\envs\\ox\\lib\\site-packages\\pandana\\network.py:660: FutureWarning: The default dtype for empty Series will be 'object' instead of 'float64' in a future version. Specify a dtype explicitly to silence this warning.\n",
      "  elif isinstance(maxitems, type(pd.Series())):\n",
      "C:\\Users\\z3258367\\Anaconda3\\envs\\ox\\lib\\site-packages\\pandana\\network.py:668: FutureWarning: The default dtype for empty Series will be 'object' instead of 'float64' in a future version. Specify a dtype explicitly to silence this warning.\n",
      "  elif isinstance(maxdist, type(pd.Series())):\n"
     ]
    },
    {
     "name": "stdout",
     "output_type": "stream",
     "text": [
      "Finished category: education\n",
      "Maximum score: 13.697803281833789 out of 14.3\n"
     ]
    },
    {
     "name": "stderr",
     "output_type": "stream",
     "text": [
      "C:\\Users\\z3258367\\Anaconda3\\envs\\ox\\lib\\site-packages\\pandana\\network.py:660: FutureWarning: The default dtype for empty Series will be 'object' instead of 'float64' in a future version. Specify a dtype explicitly to silence this warning.\n",
      "  elif isinstance(maxitems, type(pd.Series())):\n",
      "C:\\Users\\z3258367\\Anaconda3\\envs\\ox\\lib\\site-packages\\pandana\\network.py:668: FutureWarning: The default dtype for empty Series will be 'object' instead of 'float64' in a future version. Specify a dtype explicitly to silence this warning.\n",
      "  elif isinstance(maxdist, type(pd.Series())):\n"
     ]
    },
    {
     "name": "stdout",
     "output_type": "stream",
     "text": [
      "Finished category: shopping\n",
      "Maximum score: 21.48620417302876 out of 21.6\n"
     ]
    },
    {
     "name": "stderr",
     "output_type": "stream",
     "text": [
      "C:\\Users\\z3258367\\Anaconda3\\envs\\ox\\lib\\site-packages\\pandana\\network.py:660: FutureWarning: The default dtype for empty Series will be 'object' instead of 'float64' in a future version. Specify a dtype explicitly to silence this warning.\n",
      "  elif isinstance(maxitems, type(pd.Series())):\n",
      "C:\\Users\\z3258367\\Anaconda3\\envs\\ox\\lib\\site-packages\\pandana\\network.py:668: FutureWarning: The default dtype for empty Series will be 'object' instead of 'float64' in a future version. Specify a dtype explicitly to silence this warning.\n",
      "  elif isinstance(maxdist, type(pd.Series())):\n"
     ]
    },
    {
     "name": "stdout",
     "output_type": "stream",
     "text": [
      "Finished category: errands\n",
      "Maximum score: 8.853429088088712 out of 8.9\n"
     ]
    },
    {
     "name": "stderr",
     "output_type": "stream",
     "text": [
      "C:\\Users\\z3258367\\Anaconda3\\envs\\ox\\lib\\site-packages\\pandana\\network.py:660: FutureWarning: The default dtype for empty Series will be 'object' instead of 'float64' in a future version. Specify a dtype explicitly to silence this warning.\n",
      "  elif isinstance(maxitems, type(pd.Series())):\n",
      "C:\\Users\\z3258367\\Anaconda3\\envs\\ox\\lib\\site-packages\\pandana\\network.py:668: FutureWarning: The default dtype for empty Series will be 'object' instead of 'float64' in a future version. Specify a dtype explicitly to silence this warning.\n",
      "  elif isinstance(maxdist, type(pd.Series())):\n"
     ]
    },
    {
     "name": "stdout",
     "output_type": "stream",
     "text": [
      "Finished category: recreation\n",
      "Maximum score: 23.200015149850245 out of 23.3\n"
     ]
    }
   ],
   "source": [
    "cycle_results = there_index(cycle_network, pois, poi_dictionary, poi_weights, cycle_gammas,\n",
    "                            poi_nums, poi_lambdas, poi_variables, distance = cycle_dist)"
   ]
  },
  {
   "cell_type": "code",
   "execution_count": 32,
   "id": "1eed29b1",
   "metadata": {},
   "outputs": [
    {
     "data": {
      "text/plain": [
       "(95.31391076813019, 79.04373053509768)"
      ]
     },
     "execution_count": 32,
     "metadata": {},
     "output_type": "execute_result"
    }
   ],
   "source": [
    "max(cycle_results['THERE_Index']), np.mean(cycle_results['THERE_Index'])"
   ]
  },
  {
   "cell_type": "code",
   "execution_count": 297,
   "id": "8354462d",
   "metadata": {},
   "outputs": [
    {
     "data": {
      "text/plain": [
       "(74.3881564759088, 84.92335159776383)"
      ]
     },
     "execution_count": 297,
     "metadata": {},
     "output_type": "execute_result"
    }
   ],
   "source": [
    "max(results['THERE_Index']), max(cycle_results['THERE_Index'])"
   ]
  },
  {
   "cell_type": "code",
   "execution_count": 298,
   "id": "f64f045c",
   "metadata": {},
   "outputs": [
    {
     "data": {
      "text/plain": [
       "(40.695518372495044, 59.09586332339536)"
      ]
     },
     "execution_count": 298,
     "metadata": {},
     "output_type": "execute_result"
    }
   ],
   "source": [
    "np.mean(results['THERE_Index']), np.mean(cycle_results['THERE_Index'])"
   ]
  },
  {
   "cell_type": "code",
   "execution_count": 190,
   "id": "a0dfdda1",
   "metadata": {},
   "outputs": [],
   "source": [
    "small_c_results = gpd.GeoDataFrame(result_rounding(cycle_results).drop_duplicates(subset=['x','y']).add_suffix('_cycle'), \n",
    "                                   geometry = gpd.GeoSeries.from_xy(cycle_results.x, cycle_results.y, crs=proj_crs))"
   ]
  },
  {
   "cell_type": "code",
   "execution_count": 395,
   "id": "cb1c66f4",
   "metadata": {},
   "outputs": [
    {
     "data": {
      "text/plain": [
       "58043.0"
      ]
     },
     "execution_count": 395,
     "metadata": {},
     "output_type": "execute_result"
    }
   ],
   "source": [
    "max(small_c_results.jobs)"
   ]
  },
  {
   "cell_type": "code",
   "execution_count": 34,
   "id": "85799265",
   "metadata": {},
   "outputs": [
    {
     "data": {
      "text/plain": [
       "144663.0"
      ]
     },
     "execution_count": 34,
     "metadata": {},
     "output_type": "execute_result"
    }
   ],
   "source": [
    "max(small_c_results.jobs)"
   ]
  },
  {
   "attachments": {},
   "cell_type": "markdown",
   "id": "780337bc",
   "metadata": {},
   "source": [
    "## Driving"
   ]
  },
  {
   "cell_type": "code",
   "execution_count": 5,
   "id": "43b8f169",
   "metadata": {},
   "outputs": [],
   "source": [
    "D = ox.graph_from_place(place, network_type='drive')"
   ]
  },
  {
   "cell_type": "code",
   "execution_count": 6,
   "id": "2770c66f",
   "metadata": {},
   "outputs": [],
   "source": [
    "# Get nodes and edges as geodataframes (gdfs) from OSMNX network\n",
    "graph_df = ox.graph_to_gdfs(D)\n",
    "nodes_gdfs = graph_df[0]\n",
    "edges_gdfs = graph_df[1]"
   ]
  },
  {
   "cell_type": "code",
   "execution_count": 23,
   "id": "b3863ada",
   "metadata": {},
   "outputs": [],
   "source": [
    "edges_gdfs = edges_gdfs.drop(['width', 'highway','length'], axis=1)"
   ]
  },
  {
   "cell_type": "code",
   "execution_count": 22,
   "id": "6a3d3a51",
   "metadata": {},
   "outputs": [
    {
     "data": {
      "text/html": [
       "<div>\n",
       "<style scoped>\n",
       "    .dataframe tbody tr th:only-of-type {\n",
       "        vertical-align: middle;\n",
       "    }\n",
       "\n",
       "    .dataframe tbody tr th {\n",
       "        vertical-align: top;\n",
       "    }\n",
       "\n",
       "    .dataframe thead th {\n",
       "        text-align: right;\n",
       "    }\n",
       "</style>\n",
       "<table border=\"1\" class=\"dataframe\">\n",
       "  <thead>\n",
       "    <tr style=\"text-align: right;\">\n",
       "      <th></th>\n",
       "      <th></th>\n",
       "      <th></th>\n",
       "      <th>highway</th>\n",
       "      <th>length</th>\n",
       "      <th>geometry</th>\n",
       "      <th>width</th>\n",
       "    </tr>\n",
       "    <tr>\n",
       "      <th>u</th>\n",
       "      <th>v</th>\n",
       "      <th>key</th>\n",
       "      <th></th>\n",
       "      <th></th>\n",
       "      <th></th>\n",
       "      <th></th>\n",
       "    </tr>\n",
       "  </thead>\n",
       "  <tbody>\n",
       "    <tr>\n",
       "      <th rowspan=\"2\" valign=\"top\">354026</th>\n",
       "      <th>354785</th>\n",
       "      <th>0</th>\n",
       "      <td>motorway_link</td>\n",
       "      <td>1268.857</td>\n",
       "      <td>LINESTRING (-3.41538 55.92543, -3.41506 55.925...</td>\n",
       "      <td>NaN</td>\n",
       "    </tr>\n",
       "    <tr>\n",
       "      <th>1764525107</th>\n",
       "      <th>0</th>\n",
       "      <td>motorway</td>\n",
       "      <td>1671.726</td>\n",
       "      <td>LINESTRING (-3.41538 55.92543, -3.41506 55.925...</td>\n",
       "      <td>NaN</td>\n",
       "    </tr>\n",
       "    <tr>\n",
       "      <th rowspan=\"2\" valign=\"top\">354040</th>\n",
       "      <th>354785</th>\n",
       "      <th>0</th>\n",
       "      <td>motorway_link</td>\n",
       "      <td>2005.053</td>\n",
       "      <td>LINESTRING (-3.38406 55.92847, -3.38659 55.927...</td>\n",
       "      <td>NaN</td>\n",
       "    </tr>\n",
       "    <tr>\n",
       "      <th>1764669578</th>\n",
       "      <th>0</th>\n",
       "      <td>motorway</td>\n",
       "      <td>2471.157</td>\n",
       "      <td>LINESTRING (-3.38406 55.92847, -3.38497 55.928...</td>\n",
       "      <td>NaN</td>\n",
       "    </tr>\n",
       "    <tr>\n",
       "      <th>354097</th>\n",
       "      <th>354040</th>\n",
       "      <th>0</th>\n",
       "      <td>motorway</td>\n",
       "      <td>4567.979</td>\n",
       "      <td>LINESTRING (-3.31986 55.92105, -3.32068 55.920...</td>\n",
       "      <td>NaN</td>\n",
       "    </tr>\n",
       "    <tr>\n",
       "      <th>...</th>\n",
       "      <th>...</th>\n",
       "      <th>...</th>\n",
       "      <td>...</td>\n",
       "      <td>...</td>\n",
       "      <td>...</td>\n",
       "      <td>...</td>\n",
       "    </tr>\n",
       "    <tr>\n",
       "      <th>9804678588</th>\n",
       "      <th>9076199957</th>\n",
       "      <th>0</th>\n",
       "      <td>residential</td>\n",
       "      <td>96.178</td>\n",
       "      <td>LINESTRING (-3.30844 55.95800, -3.30854 55.958...</td>\n",
       "      <td>NaN</td>\n",
       "    </tr>\n",
       "    <tr>\n",
       "      <th>9804678589</th>\n",
       "      <th>9804678588</th>\n",
       "      <th>0</th>\n",
       "      <td>residential</td>\n",
       "      <td>66.268</td>\n",
       "      <td>LINESTRING (-3.30764 55.95839, -3.30844 55.95800)</td>\n",
       "      <td>NaN</td>\n",
       "    </tr>\n",
       "    <tr>\n",
       "      <th>9804699015</th>\n",
       "      <th>7089800348</th>\n",
       "      <th>0</th>\n",
       "      <td>residential</td>\n",
       "      <td>221.214</td>\n",
       "      <td>LINESTRING (-3.14766 55.89459, -3.14737 55.894...</td>\n",
       "      <td>NaN</td>\n",
       "    </tr>\n",
       "    <tr>\n",
       "      <th>9804728419</th>\n",
       "      <th>8355860955</th>\n",
       "      <th>0</th>\n",
       "      <td>residential</td>\n",
       "      <td>67.861</td>\n",
       "      <td>LINESTRING (-3.13594 55.89723, -3.13627 55.897...</td>\n",
       "      <td>NaN</td>\n",
       "    </tr>\n",
       "    <tr>\n",
       "      <th>9804728459</th>\n",
       "      <th>7101751270</th>\n",
       "      <th>0</th>\n",
       "      <td>residential</td>\n",
       "      <td>45.553</td>\n",
       "      <td>LINESTRING (-3.11818 55.92546, -3.11764 55.925...</td>\n",
       "      <td>NaN</td>\n",
       "    </tr>\n",
       "  </tbody>\n",
       "</table>\n",
       "<p>30708 rows × 4 columns</p>\n",
       "</div>"
      ],
      "text/plain": [
       "                                 highway    length  \\\n",
       "u          v          key                            \n",
       "354026     354785     0    motorway_link  1268.857   \n",
       "           1764525107 0         motorway  1671.726   \n",
       "354040     354785     0    motorway_link  2005.053   \n",
       "           1764669578 0         motorway  2471.157   \n",
       "354097     354040     0         motorway  4567.979   \n",
       "...                                  ...       ...   \n",
       "9804678588 9076199957 0      residential    96.178   \n",
       "9804678589 9804678588 0      residential    66.268   \n",
       "9804699015 7089800348 0      residential   221.214   \n",
       "9804728419 8355860955 0      residential    67.861   \n",
       "9804728459 7101751270 0      residential    45.553   \n",
       "\n",
       "                                                                    geometry  \\\n",
       "u          v          key                                                      \n",
       "354026     354785     0    LINESTRING (-3.41538 55.92543, -3.41506 55.925...   \n",
       "           1764525107 0    LINESTRING (-3.41538 55.92543, -3.41506 55.925...   \n",
       "354040     354785     0    LINESTRING (-3.38406 55.92847, -3.38659 55.927...   \n",
       "           1764669578 0    LINESTRING (-3.38406 55.92847, -3.38497 55.928...   \n",
       "354097     354040     0    LINESTRING (-3.31986 55.92105, -3.32068 55.920...   \n",
       "...                                                                      ...   \n",
       "9804678588 9076199957 0    LINESTRING (-3.30844 55.95800, -3.30854 55.958...   \n",
       "9804678589 9804678588 0    LINESTRING (-3.30764 55.95839, -3.30844 55.95800)   \n",
       "9804699015 7089800348 0    LINESTRING (-3.14766 55.89459, -3.14737 55.894...   \n",
       "9804728419 8355860955 0    LINESTRING (-3.13594 55.89723, -3.13627 55.897...   \n",
       "9804728459 7101751270 0    LINESTRING (-3.11818 55.92546, -3.11764 55.925...   \n",
       "\n",
       "                          width  \n",
       "u          v          key        \n",
       "354026     354785     0     NaN  \n",
       "           1764525107 0     NaN  \n",
       "354040     354785     0     NaN  \n",
       "           1764669578 0     NaN  \n",
       "354097     354040     0     NaN  \n",
       "...                         ...  \n",
       "9804678588 9076199957 0     NaN  \n",
       "9804678589 9804678588 0     NaN  \n",
       "9804699015 7089800348 0     NaN  \n",
       "9804728419 8355860955 0     NaN  \n",
       "9804728459 7101751270 0     NaN  \n",
       "\n",
       "[30708 rows x 4 columns]"
      ]
     },
     "execution_count": 22,
     "metadata": {},
     "output_type": "execute_result"
    }
   ],
   "source": [
    "edges_gdfs"
   ]
  },
  {
   "cell_type": "code",
   "execution_count": 24,
   "id": "e9859597",
   "metadata": {},
   "outputs": [],
   "source": [
    "edges_gdfs.to_file('Edinburgh drive network.gpkg')"
   ]
  },
  {
   "cell_type": "code",
   "execution_count": 102,
   "id": "80e3875e",
   "metadata": {},
   "outputs": [],
   "source": [
    "edges_gdfs = edges_gdfs.to_crs(proj_crs)\n",
    "nodes_gdfs = nodes_gdfs.to_crs(proj_crs)"
   ]
  },
  {
   "cell_type": "code",
   "execution_count": 103,
   "id": "ca5759c0",
   "metadata": {},
   "outputs": [],
   "source": [
    "# with new OSMnx graph from polygon seems to be different\n",
    "edges_gdfs = edges_gdfs.reset_index()\n",
    "# Setting indices of Edges gdfs to match expected dataframe for Pandana\n",
    "edges_gdfs['from_idx'] = edges_gdfs['u']\n",
    "edges_gdfs['to_idx'] = edges_gdfs['v']\n",
    "edges_gdfs= edges_gdfs.set_index(['from_idx', 'to_idx'])\n",
    "edges_gdfs.index.names= ['','']\n",
    "\n",
    "# Setting indices of Nodes gdfs to match expected dataframe for Pandana\n",
    "nodes_gdfs.index.name = 'id'\n",
    "# Create a pandana network with data extracted from an OSMNX graph\n",
    "drive_network = pdna.Network(nodes_gdfs.geometry.x, nodes_gdfs.geometry.y,\n",
    "                                   edges_gdfs['u'], edges_gdfs['v'], \n",
    "                                   edges_gdfs[['length']])"
   ]
  },
  {
   "cell_type": "code",
   "execution_count": 104,
   "id": "3834876d",
   "metadata": {},
   "outputs": [],
   "source": [
    "poi_nums['employment'] = 1200\n",
    "drive_gammas = poi_gammas.copy()\n",
    "drive_gammas = drive_gammas.replace(to_replace=0.001, value=0.0001)\n",
    "drive_dist = 24000"
   ]
  },
  {
   "attachments": {},
   "cell_type": "markdown",
   "id": "1d8a97b8",
   "metadata": {},
   "source": [
    "### Pandana network querying. "
   ]
  },
  {
   "cell_type": "code",
   "execution_count": 105,
   "id": "1c470618",
   "metadata": {},
   "outputs": [
    {
     "name": "stdout",
     "output_type": "stream",
     "text": [
      "Finished category: employment\n",
      "Maximum score: 29.915538935348426 out of 31.9\n",
      "Finished category: education\n",
      "Maximum score: 13.969273727938328 out of 14.3\n",
      "Finished category: shopping\n",
      "Maximum score: 21.504332376112938 out of 21.6\n",
      "Finished category: errands\n",
      "Maximum score: 8.858566773869837 out of 8.9\n",
      "Finished category: recreation\n",
      "Maximum score: 23.200015149850245 out of 23.3\n"
     ]
    }
   ],
   "source": [
    "drive_results = there_index(drive_network, pois, poi_dictionary, poi_weights, drive_gammas,\n",
    "                            poi_nums, poi_lambdas, poi_variables, distance = drive_dist)"
   ]
  },
  {
   "cell_type": "code",
   "execution_count": 106,
   "id": "032a8708",
   "metadata": {},
   "outputs": [
    {
     "data": {
      "text/plain": [
       "(97.0675105801912, 89.16878934854581)"
      ]
     },
     "execution_count": 106,
     "metadata": {},
     "output_type": "execute_result"
    }
   ],
   "source": [
    "max(drive_results['THERE_Index']), np.mean(drive_results['THERE_Index'])"
   ]
  },
  {
   "cell_type": "code",
   "execution_count": 107,
   "id": "af79a148",
   "metadata": {},
   "outputs": [
    {
     "data": {
      "text/plain": [
       "(94.36550792837683, 95.31391076813019)"
      ]
     },
     "execution_count": 107,
     "metadata": {},
     "output_type": "execute_result"
    }
   ],
   "source": [
    "max(results['THERE_Index']), max(cycle_results['THERE_Index'])"
   ]
  },
  {
   "cell_type": "code",
   "execution_count": 108,
   "id": "8d0a2280",
   "metadata": {},
   "outputs": [
    {
     "data": {
      "text/plain": [
       "(75.9478957235696, 79.04373053509768, 89.16878934854581)"
      ]
     },
     "execution_count": 108,
     "metadata": {},
     "output_type": "execute_result"
    }
   ],
   "source": [
    "np.mean(results['THERE_Index']), np.mean(cycle_results['THERE_Index']), np.mean(drive_results['THERE_Index'])"
   ]
  },
  {
   "cell_type": "code",
   "execution_count": 195,
   "id": "dfbb707f",
   "metadata": {},
   "outputs": [],
   "source": [
    "small_d_results = gpd.GeoDataFrame(result_rounding(drive_results).drop_duplicates(subset=['x','y']).add_suffix('_drive'), \n",
    "                                   geometry = gpd.GeoSeries.from_xy(drive_results.x, drive_results.y, crs=proj_crs))        "
   ]
  },
  {
   "cell_type": "code",
   "execution_count": 110,
   "id": "244db137",
   "metadata": {},
   "outputs": [
    {
     "data": {
      "text/plain": [
       "168013.0"
      ]
     },
     "execution_count": 110,
     "metadata": {},
     "output_type": "execute_result"
    }
   ],
   "source": [
    "max(small_d_results.jobs)"
   ]
  },
  {
   "cell_type": "code",
   "execution_count": 34,
   "id": "10e32154",
   "metadata": {},
   "outputs": [
    {
     "data": {
      "text/plain": [
       "144663.0"
      ]
     },
     "execution_count": 34,
     "metadata": {},
     "output_type": "execute_result"
    }
   ],
   "source": [
    "max(small_c_results.jobs)"
   ]
  },
  {
   "attachments": {},
   "cell_type": "markdown",
   "id": "ed59b6cd",
   "metadata": {},
   "source": [
    "## Public Transport"
   ]
  },
  {
   "cell_type": "code",
   "execution_count": 35,
   "id": "c329b286",
   "metadata": {},
   "outputs": [],
   "source": [
    "import urbanaccess as ua\n",
    "from urbanaccess.config import settings\n",
    "from urbanaccess.gtfsfeeds import feeds\n",
    "from urbanaccess import gtfsfeeds\n",
    "from urbanaccess.gtfs.gtfsfeeds_dataframe import gtfsfeeds_dfs\n",
    "from urbanaccess.network import ua_network, load_network"
   ]
  },
  {
   "attachments": {},
   "cell_type": "markdown",
   "id": "ae2d1ff2",
   "metadata": {},
   "source": [
    "Found feeds on transit land https://www.transit.land/operators?adm1_name=Edinburgh&adm0_name=United%20Kingdom But all the bus and tram ones actually refer to the same source feed which is convenient, although extremely large and slow to process as it includes ~1000 bus operators in the UK.\n",
    "\n",
    "The train one hasn't been updated since April 2021 but that's the best I can find. Mobility Database Catalogs doesn't have anything useful. Train release data only in CIF format, it appears https://data.atoc.org/how-to https://datafeeds.networkrail.co.uk/ntrod/. Previous data converted by https://planar.network/projects/feeds"
   ]
  },
  {
   "cell_type": "code",
   "execution_count": 84,
   "id": "ce3847a5",
   "metadata": {},
   "outputs": [
    {
     "name": "stderr",
     "output_type": "stream",
     "text": [
      "<>:4: DeprecationWarning: invalid escape sequence \\O\n",
      "<>:4: DeprecationWarning: invalid escape sequence \\O\n",
      "<ipython-input-84-7d8abde32d9b>:4: DeprecationWarning: invalid escape sequence \\O\n",
      "  loaded_feeds = ua.gtfs.load.gtfsfeed_to_df(gtfsfeed_path=(folder + \"Walkability\\Other Cities\\Colouring data & results\\Edinburgh Data\\GTFS\"),\n"
     ]
    },
    {
     "name": "stdout",
     "output_type": "stream",
     "text": [
      "Checking GTFS text file header whitespace... Reading files using encoding: utf-8 set in configuration.\n",
      "GTFS text file header whitespace check completed. Took 21.33 seconds\n",
      "--------------------------------\n",
      "Processing GTFS feed: gb-rail-latest\n",
      "GTFS feed: gb-rail-latest, calendar_dates uses the same service_id across multiple agency_ids. This feed calendar_dates table will be modified from its original format to provide service_ids for each agency using a one to many join\n",
      "GTFS feed: gb-rail-latest, calendar uses the same service_id across multiple agency_ids. This feed calendar table will be modified from its original format to provide service_ids for each agency using a one to many join\n",
      "GTFS feed: gb-rail-latest, stops uses the same stop_id across multiple agency_ids. This feed stops table will be modified from its original format to provide stop_ids for each agency using a one to many join\n",
      "agency.txt agency_name column has more than one agency name listed. Unique agency id was assigned using the agency id and associated agency name.\n",
      "Unique agency id operation complete. Took 41.32 seconds\n",
      "Unique GTFS feed id operation complete. Took 0.04 seconds\n",
      "WARNING: gb-rail-latest GTFS feed stops: 4,229 of 4,262 (99.23 percent of total) record(s) are outside the bounding box coordinates\n",
      "Records:\n",
      "     stop_id   unique_agency_id stop_code          stop_name  stop_desc  \\\n",
      "0        AAP      grand_central   ALEXNDP   Alexandra Palace          1   \n",
      "1        AAP         thameslink   ALEXNDP   Alexandra Palace          1   \n",
      "2        AAP         east_coast   ALEXNDP   Alexandra Palace          1   \n",
      "3        AAP     great_northern   ALEXNDP   Alexandra Palace          1   \n",
      "4        AAP  first_hull_trains   ALEXNDP   Alexandra Palace          1   \n",
      "...      ...                ...       ...                ...        ...   \n",
      "4257     ZSO                nan   CATZZSO       SOUTHWARK LT          0   \n",
      "4258     ZTG                nan   TWGWDLR   TOWER GATEWY DLR          1   \n",
      "4259     ZTL                nan   HRNSTPL  TURNPIKE LANE UND          1   \n",
      "4260     ZWT                nan   WATFLUL    WATFORD MET UND          1   \n",
      "4261     ZWY                nan   CATEZWY   WEMBLEY PARK UND          1   \n",
      "\n",
      "      stop_lat  stop_lon  zone_id  stop_url  location_type  parent_station  \\\n",
      "0     51.59792  -0.12024      NaN       NaN            NaN             NaN   \n",
      "1     51.59792  -0.12024      NaN       NaN            NaN             NaN   \n",
      "2     51.59792  -0.12024      NaN       NaN            NaN             NaN   \n",
      "3     51.59792  -0.12024      NaN       NaN            NaN             NaN   \n",
      "4     51.59792  -0.12024      NaN       NaN            NaN             NaN   \n",
      "...        ...       ...      ...       ...            ...             ...   \n",
      "4257   0.00000   0.00000      NaN       NaN            NaN             NaN   \n",
      "4258   0.00000   0.00000      NaN       NaN            NaN             NaN   \n",
      "4259   0.00000   0.00000      NaN       NaN            NaN             NaN   \n",
      "4260   0.00000   0.00000      NaN       NaN            NaN             NaN   \n",
      "4261   0.00000   0.00000      NaN       NaN            NaN             NaN   \n",
      "\n",
      "      stop_timezone  wheelchair_boarding    unique_feed_id  \n",
      "0     Europe/London                    0  gb-rail-latest_1  \n",
      "1     Europe/London                    0  gb-rail-latest_1  \n",
      "2     Europe/London                    0  gb-rail-latest_1  \n",
      "3     Europe/London                    0  gb-rail-latest_1  \n",
      "4     Europe/London                    0  gb-rail-latest_1  \n",
      "...             ...                  ...               ...  \n",
      "4257  Europe/London                    0  gb-rail-latest_1  \n",
      "4258  Europe/London                    0  gb-rail-latest_1  \n",
      "4259  Europe/London                    0  gb-rail-latest_1  \n",
      "4260  Europe/London                    0  gb-rail-latest_1  \n",
      "4261  Europe/London                    0  gb-rail-latest_1  \n",
      "\n",
      "[4229 rows x 14 columns]\n",
      "Removed identified stops that are outside of bounding box.\n",
      "gb-rail-latest GTFS feed stops: coordinates are in northwest hemisphere. Latitude = North (90); Longitude = West (-90).\n",
      "Appended route type to stops\n",
      "Appended route type to stop_times\n",
      "--------------------------------\n",
      "--------------------------------\n",
      "Processing GTFS feed: itm_all_gtfs\n",
      "GTFS feed: itm_all_gtfs, calendar_dates uses the same service_id across multiple agency_ids. This feed calendar_dates table will be modified from its original format to provide service_ids for each agency using a one to many join\n",
      "GTFS feed: itm_all_gtfs, calendar uses the same service_id across multiple agency_ids. This feed calendar table will be modified from its original format to provide service_ids for each agency using a one to many join\n",
      "GTFS feed: itm_all_gtfs, stops uses the same stop_id across multiple agency_ids. This feed stops table will be modified from its original format to provide stop_ids for each agency using a one to many join\n",
      "agency.txt agency_name column has more than one agency name listed. Unique agency id was assigned using the agency id and associated agency name.\n",
      "Unique agency id operation complete. Took 365.59 seconds\n",
      "Unique GTFS feed id operation complete. Took 0.21 seconds\n",
      "WARNING: itm_all_gtfs GTFS feed stops: 507,694 of 511,212 (99.31 percent of total) record(s) are outside the bounding box coordinates\n",
      "Records:\n",
      "             stop_id                  unique_agency_id stop_code  \\\n",
      "0       0100BRP90310                        euro_taxis   bstgwpa   \n",
      "1       0100BRP90310  first_bristol,_bath_and_the_west   bstgwpa   \n",
      "2       0100BRP90310                         hct_group   bstgwpa   \n",
      "3       0100BRP90311  first_bristol,_bath_and_the_west   bstgwpm   \n",
      "4          010000056  first_bristol,_bath_and_the_west   bstpjgw   \n",
      "...              ...                               ...       ...   \n",
      "511207    940GZZWMWB                               nan       NaN   \n",
      "511208    940GZZWMWI                               nan       NaN   \n",
      "511209    940GZZWMWP                               nan       NaN   \n",
      "511210    940GZZWMWS                               nan       NaN   \n",
      "511211    940GZZWMWW                               nan       NaN   \n",
      "\n",
      "                              stop_name   stop_lat  stop_lon  \\\n",
      "0                      Temple Meads Stn  51.449009 -2.585690   \n",
      "1                      Temple Meads Stn  51.449009 -2.585690   \n",
      "2                      Temple Meads Stn  51.449009 -2.585690   \n",
      "3                      Temple Meads Stn  51.450134 -2.585603   \n",
      "4                      Temple Meads Stn  51.449673 -2.584893   \n",
      "...                                 ...        ...       ...   \n",
      "511207            West Bromwich Central  52.516621 -1.994763   \n",
      "511208        Winson Green Outer Circle  52.498642 -1.938908   \n",
      "511209               Wednesbury Parkway  52.549503 -2.030596   \n",
      "511210        Wolverhampton St George's  52.584087 -2.124235   \n",
      "511211  Wednesbury Great Western Street  52.548550 -2.024328   \n",
      "\n",
      "        wheelchair_boarding  location_type parent_station platform_code  \\\n",
      "0                         0            0.0       010G0002           NaN   \n",
      "1                         0            0.0       010G0002           NaN   \n",
      "2                         0            0.0       010G0002           NaN   \n",
      "3                         0            0.0       010G0002           NaN   \n",
      "4                         0            0.0       010G0002           NaN   \n",
      "...                     ...            ...            ...           ...   \n",
      "511207                    0            1.0            NaN           NaN   \n",
      "511208                    0            1.0            NaN           NaN   \n",
      "511209                    0            1.0            NaN           NaN   \n",
      "511210                    0            1.0            NaN           NaN   \n",
      "511211                    0            1.0            NaN           NaN   \n",
      "\n",
      "        unique_feed_id  \n",
      "0       itm_all_gtfs_2  \n",
      "1       itm_all_gtfs_2  \n",
      "2       itm_all_gtfs_2  \n",
      "3       itm_all_gtfs_2  \n",
      "4       itm_all_gtfs_2  \n",
      "...                ...  \n",
      "511207  itm_all_gtfs_2  \n",
      "511208  itm_all_gtfs_2  \n",
      "511209  itm_all_gtfs_2  \n",
      "511210  itm_all_gtfs_2  \n",
      "511211  itm_all_gtfs_2  \n",
      "\n",
      "[507694 rows x 11 columns]\n",
      "Removed identified stops that are outside of bounding box.\n",
      "itm_all_gtfs GTFS feed stops: coordinates are in northwest hemisphere. Latitude = North (90); Longitude = West (-90).\n"
     ]
    },
    {
     "name": "stdout",
     "output_type": "stream",
     "text": [
      "Appended route type to stops\n",
      "Appended route type to stop_times\n",
      "--------------------------------\n",
      "Added descriptive definitions to stops, routes, stop_times, and trips tables\n",
      "Successfully converted ['departure_time'] to seconds past midnight and appended new columns to stop_times. Took 2.74 seconds\n",
      "2 GTFS feed file(s) successfully read as dataframes:\n",
      "     gb-rail-latest\n",
      "     itm_all_gtfs\n",
      "     Took 588.03 seconds\n"
     ]
    }
   ],
   "source": [
    "bbox = place_gdf.to_crs(\"EPSG:4326\").bounds\n",
    "bbox_points = (bbox['minx'][0], bbox['miny'][0], bbox['maxx'][0], bbox['maxy'][0])\n",
    "\n",
    "loaded_feeds = ua.gtfs.load.gtfsfeed_to_df(gtfsfeed_path=(folder + \"Walkability\\Other Cities\\Colouring data & results\\Edinburgh Data\\GTFS\"), \n",
    "                                     validation=True, \n",
    "                                     verbose=True, \n",
    "                                     bbox=bbox_points, \n",
    "                                     remove_stops_outsidebbox=True, \n",
    "                                     append_definitions=True)"
   ]
  },
  {
   "cell_type": "code",
   "execution_count": 91,
   "id": "fd1434a9",
   "metadata": {},
   "outputs": [
    {
     "name": "stdout",
     "output_type": "stream",
     "text": [
      "Using calendar to extract service_ids to select trips.\n",
      "10,091 service_ids were extracted from calendar\n",
      "509,509 trip(s) 46.71 percent of 1,090,770 total trip records were found in calendar for GTFS feed(s): ['gb-rail-latest', 'itm all gtfs']\n",
      "NOTE: If you expected more trips to have been extracted and your GTFS feed(s) have a calendar_dates file, consider utilizing the calendar_dates_lookup parameter in order to add additional trips based on information inside of calendar_dates. This should only be done if you know the corresponding GTFS feed is using calendar_dates instead of calendar to specify service_ids. When in doubt do not use the calendar_dates_lookup parameter.\n",
      "509,509 of 1,090,770 total trips were extracted representing calendar day: monday. Took 2.01 seconds\n",
      "There are no departure time records missing from trips following the specified schedule. There are no records to interpolate.\n",
      "Difference between stop times has been successfully calculated. Took 1.62 seconds\n",
      "Stop times from 07:00:00 to 10:00:00 successfully selected 58,452 records out of 324,190 total records (18.03 percent of total). Took 0.07 seconds\n",
      "Starting transformation process for 2,030 total trips...\n",
      "stop time table transformation to Pandana format edge table completed. Took 1.97 seconds\n",
      "Time conversion completed: seconds converted to minutes.\n",
      "3,246 of 3,551 records selected from stops. Took 0.01 seconds\n",
      "stop time table transformation to Pandana format node table completed. Took 0.00 seconds\n",
      "route type successfully joined to transit edges. Took 1.17 seconds\n",
      "route id successfully joined to transit edges. Took 1.28 seconds\n",
      "Successfully created transit network. Took 9.93 seconds\n"
     ]
    },
    {
     "data": {
      "text/plain": [
       "<urbanaccess.network.urbanaccess_network at 0x215dc8e0fd0>"
      ]
     },
     "execution_count": 91,
     "metadata": {},
     "output_type": "execute_result"
    }
   ],
   "source": [
    "ua.gtfs.network.create_transit_net(gtfsfeeds_dfs=loaded_feeds,\n",
    "                                   day='monday',\n",
    "                                   timerange=['07:00:00', '10:00:00'],\n",
    "                                   calendar_dates_lookup=None)"
   ]
  },
  {
   "cell_type": "code",
   "execution_count": 92,
   "id": "4cbba92c",
   "metadata": {},
   "outputs": [],
   "source": [
    "urbanaccess_net = ua.network.ua_network"
   ]
  },
  {
   "cell_type": "code",
   "execution_count": 93,
   "id": "c88634bb",
   "metadata": {},
   "outputs": [
    {
     "name": "stdout",
     "output_type": "stream",
     "text": [
      "Requesting network data within bounding box from Overpass API in 1 request(s)\n",
      "Posting to http://www.overpass-api.de/api/interpreter with timeout=180, \"{'data': '[out:json][timeout:180];(way[\"highway\"][\"highway\"!~\"motor|proposed|construction|abandoned|platform|raceway\"][\"foot\"!~\"no\"][\"pedestrians\"!~\"no\"](55.81879190,-3.44953260,56.00408370,-3.07495120);>;);out;'}\"\n"
     ]
    },
    {
     "name": "stderr",
     "output_type": "stream",
     "text": [
      "C:\\Users\\z3258367\\Anaconda3\\envs\\ox\\lib\\site-packages\\osmnet\\load.py:237: DeprecationWarning: Flags not at the start of the expression '//(?s)(.*?)/'\n",
      "  domain = re.findall(r'//(?s)(.*?)/', url)[0]\n"
     ]
    },
    {
     "name": "stdout",
     "output_type": "stream",
     "text": [
      "Downloaded 37,564.5KB from www.overpass-api.de in 4.39 seconds\n",
      "Downloaded OSM network data within bounding box from Overpass API in 1 request(s) and 5.09 seconds\n",
      "Returning OSM data with 267,185 nodes and 51,337 ways...\n",
      "Edge node pairs completed. Took 40.27 seconds\n",
      "Returning processed graph with 63,541 nodes and 169,598 edges...\n",
      "Completed OSM data download and Pandana node and edge table creation in 48.40 seconds\n",
      "checking for low connectivity nodes...\n",
      "147 out of 63,541 nodes (0.23 percent of total) were identified as having low connectivity and have been removed.\n",
      "Completed OSM data download and graph node and edge table creation in 151.08 seconds\n"
     ]
    }
   ],
   "source": [
    "nodes, edges = ua.osm.load.ua_network_from_bbox(bbox=bbox_points, remove_lcn=True, network_type='walk')"
   ]
  },
  {
   "cell_type": "code",
   "execution_count": 94,
   "id": "d68ee40f",
   "metadata": {},
   "outputs": [
    {
     "name": "stdout",
     "output_type": "stream",
     "text": [
      "Created OSM network with travel time impedance using a travel speed of 3 MPH. Took 0.01 seconds\n"
     ]
    },
    {
     "data": {
      "text/plain": [
       "<urbanaccess.network.urbanaccess_network at 0x215dc8e0fd0>"
      ]
     },
     "execution_count": 94,
     "metadata": {},
     "output_type": "execute_result"
    }
   ],
   "source": [
    "ua.osm.network.create_osm_net(osm_edges=edges,\n",
    "                              osm_nodes=nodes,\n",
    "                              travel_speed_mph=3)"
   ]
  },
  {
   "cell_type": "code",
   "execution_count": 96,
   "id": "160ddb91",
   "metadata": {},
   "outputs": [
    {
     "name": "stdout",
     "output_type": "stream",
     "text": [
      "Loaded UrbanAccess network components comprised of:\n",
      "     Transit: 3,246 nodes and 56,422 edges;\n",
      "     OSM: 63,394 nodes and 169,382 edges\n",
      "Connector edges between the OSM and transit network nodes successfully completed. Took 1.86 seconds\n",
      "Edge and node tables formatted for Pandana with integer node ids: id_int, to_int, and from_int. Took 2.38 seconds\n",
      "Network edge and node network integration completed successfully resulting in a total of 66,640 nodes and 232,296 edges:\n",
      "     Transit: 3,246 nodes 56,422 edges;\n",
      "     OSM: 63,394 nodes 169,382 edges; and\n",
      "     OSM/Transit connector: 6,492 edges.\n"
     ]
    },
    {
     "data": {
      "text/plain": [
       "<urbanaccess.network.urbanaccess_network at 0x215dc8e0fd0>"
      ]
     },
     "execution_count": 96,
     "metadata": {},
     "output_type": "execute_result"
    }
   ],
   "source": [
    "ua.network.integrate_network(urbanaccess_network=urbanaccess_net,\n",
    "                             headways=False)"
   ]
  },
  {
   "cell_type": "code",
   "execution_count": 98,
   "id": "7b43d9c3",
   "metadata": {},
   "outputs": [
    {
     "name": "stdout",
     "output_type": "stream",
     "text": [
      "Stop times from 07:00:00 to 10:00:00 successfully selected 58,452 records out of 324,190 total records (18.03 percent of total). Took 0.02 seconds\n",
      "Starting route stop headway calculation for 6,968 route stops...\n",
      "Route stop headway calculation complete. Took 9.66 seconds\n",
      "headway calculation complete. Took 12.05 seconds\n"
     ]
    },
    {
     "data": {
      "text/plain": [
       "<urbanaccess.gtfs.gtfsfeeds_dataframe.urbanaccess_gtfs_df at 0x215dd5e2910>"
      ]
     },
     "execution_count": 98,
     "metadata": {},
     "output_type": "execute_result"
    }
   ],
   "source": [
    "ua.gtfs.headways.headways(gtfsfeeds_df=loaded_feeds,\n",
    "                          headway_timerange=['07:00:00','10:00:00'])"
   ]
  },
  {
   "cell_type": "code",
   "execution_count": 100,
   "id": "78daa216",
   "metadata": {},
   "outputs": [
    {
     "name": "stdout",
     "output_type": "stream",
     "text": [
      "Loaded UrbanAccess network components comprised of:\n",
      "     Transit: 3,246 nodes and 56,422 edges;\n",
      "     OSM: 63,394 nodes and 169,382 edges\n",
      "routes successfully joined to transit nodes. Took 0.07 seconds\n",
      "Connector edges between the OSM and transit network nodes successfully completed. Took 2.17 seconds\n",
      "mean route stop headway will be used for pedestrian to transit edge impedance.\n",
      "Headway impedance calculation completed. Took 0.04 seconds\n",
      "Edge and node tables formatted for Pandana with integer node ids: id_int, to_int, and from_int. Took 1.77 seconds\n",
      "Network edge and node network integration completed successfully resulting in a total of 70,344 nodes and 291,023 edges:\n",
      "     Transit: 6,950 nodes 56,422 edges;\n",
      "     OSM: 63,394 nodes 169,382 edges; and\n",
      "     OSM/Transit connector: 65,219 edges.\n"
     ]
    },
    {
     "data": {
      "text/plain": [
       "<urbanaccess.network.urbanaccess_network at 0x215dc8e0fd0>"
      ]
     },
     "execution_count": 100,
     "metadata": {},
     "output_type": "execute_result"
    }
   ],
   "source": [
    "ua.network.integrate_network(urbanaccess_network=urbanaccess_net,\n",
    "                             headways=True,\n",
    "                             urbanaccess_gtfsfeeds_df=loaded_feeds,\n",
    "                             headway_statistic='mean')"
   ]
  },
  {
   "cell_type": "code",
   "execution_count": 101,
   "id": "11be3973",
   "metadata": {},
   "outputs": [
    {
     "name": "stdout",
     "output_type": "stream",
     "text": [
      "Using existing data/Edinburgh_integrated_net.h5 hdf5 store.\n",
      "Existing edges overwritten in data/Edinburgh_integrated_net.h5 hdf5 store.\n",
      "Using existing data/Edinburgh_integrated_net.h5 hdf5 store.\n",
      "Existing nodes overwritten in data/Edinburgh_integrated_net.h5 hdf5 store.\n"
     ]
    }
   ],
   "source": [
    "ua.network.save_network(urbanaccess_network=urbanaccess_net,\n",
    "                        filename='Edinburgh_integrated_net.h5',\n",
    "                        overwrite_key = True)"
   ]
  },
  {
   "attachments": {},
   "cell_type": "markdown",
   "id": "4630b937",
   "metadata": {},
   "source": [
    "### Start here if transit & pedestrian integrated network saved previously"
   ]
  },
  {
   "cell_type": "code",
   "execution_count": 37,
   "id": "d981109b",
   "metadata": {},
   "outputs": [
    {
     "name": "stdout",
     "output_type": "stream",
     "text": [
      "Successfully read store: data/Edinburgh_integrated_net.h5 with the following keys: ['/edges', '/nodes']\n",
      "Successfully read store: data/Edinburgh_integrated_net.h5 with the following keys: ['/edges', '/nodes']\n"
     ]
    }
   ],
   "source": [
    "urbanaccess_net = ua.network.load_network(filename='Edinburgh_integrated_net.h5')"
   ]
  },
  {
   "cell_type": "code",
   "execution_count": 38,
   "id": "278f5f62",
   "metadata": {},
   "outputs": [],
   "source": [
    "transit_ped_net = pdna.Network(urbanaccess_net.net_nodes[\"x\"],\n",
    "                               urbanaccess_net.net_nodes[\"y\"],\n",
    "                               urbanaccess_net.net_edges[\"from_int\"],\n",
    "                               urbanaccess_net.net_edges[\"to_int\"],\n",
    "                               urbanaccess_net.net_edges[[\"weight\"]], \n",
    "                               twoway=False)"
   ]
  },
  {
   "cell_type": "code",
   "execution_count": 39,
   "id": "1afe3012",
   "metadata": {},
   "outputs": [],
   "source": [
    "wgs_pois = pois.to_crs(\"EPSG:4326\")"
   ]
  },
  {
   "cell_type": "code",
   "execution_count": 40,
   "id": "74340081",
   "metadata": {},
   "outputs": [],
   "source": [
    "transit_max_time = 60"
   ]
  },
  {
   "cell_type": "code",
   "execution_count": 41,
   "id": "a8ced136",
   "metadata": {},
   "outputs": [],
   "source": [
    "# need to change the distance/time decay\n",
    "transit_gammas = poi_gammas.copy()\n",
    "transit_gammas = transit_gammas.replace(to_replace=0.001, value=0.025)"
   ]
  },
  {
   "cell_type": "code",
   "execution_count": 42,
   "id": "642db94e",
   "metadata": {},
   "outputs": [
    {
     "name": "stdout",
     "output_type": "stream",
     "text": [
      "Finished category: employment\n",
      "Maximum score: 29.375287530264536 out of 31.9\n",
      "Finished category: education\n",
      "Maximum score: 13.468278667272031 out of 14.3\n",
      "Finished category: shopping\n",
      "Maximum score: 21.41572577820941 out of 21.6\n",
      "Finished category: errands\n",
      "Maximum score: 8.844842604898927 out of 8.9\n",
      "Finished category: recreation\n",
      "Maximum score: 23.197520842794535 out of 23.3\n"
     ]
    }
   ],
   "source": [
    "results = there_index(transit_ped_net, wgs_pois, poi_dictionary, poi_weights, transit_gammas,\n",
    "                            poi_nums, poi_lambdas, poi_variables, distance=transit_max_time)"
   ]
  },
  {
   "cell_type": "code",
   "execution_count": 137,
   "id": "8e6bd749",
   "metadata": {},
   "outputs": [
    {
     "data": {
      "text/plain": [
       "(85.52728927708813, 57.237315723986256)"
      ]
     },
     "execution_count": 137,
     "metadata": {},
     "output_type": "execute_result"
    }
   ],
   "source": [
    "max(results.THERE_Index), np.mean(results.THERE_Index)"
   ]
  },
  {
   "cell_type": "code",
   "execution_count": 43,
   "id": "0e45a88d",
   "metadata": {},
   "outputs": [
    {
     "data": {
      "text/plain": [
       "(94.36550792837683, 75.9478957235696)"
      ]
     },
     "execution_count": 43,
     "metadata": {},
     "output_type": "execute_result"
    }
   ],
   "source": [
    "# new version\n",
    "max(results.THERE_Index), np.mean(results.THERE_Index)"
   ]
  },
  {
   "cell_type": "code",
   "execution_count": 146,
   "id": "2f65a6d3",
   "metadata": {},
   "outputs": [
    {
     "data": {
      "text/html": [
       "<div>\n",
       "<style scoped>\n",
       "    .dataframe tbody tr th:only-of-type {\n",
       "        vertical-align: middle;\n",
       "    }\n",
       "\n",
       "    .dataframe tbody tr th {\n",
       "        vertical-align: top;\n",
       "    }\n",
       "\n",
       "    .dataframe thead th {\n",
       "        text-align: right;\n",
       "    }\n",
       "</style>\n",
       "<table border=\"1\" class=\"dataframe\">\n",
       "  <thead>\n",
       "    <tr style=\"text-align: right;\">\n",
       "      <th></th>\n",
       "      <th>x</th>\n",
       "      <th>y</th>\n",
       "      <th>jobs</th>\n",
       "      <th>employment1</th>\n",
       "      <th>employment2</th>\n",
       "      <th>employment3</th>\n",
       "      <th>employment4</th>\n",
       "      <th>employment5</th>\n",
       "      <th>employment_31.9</th>\n",
       "      <th>education1</th>\n",
       "      <th>...</th>\n",
       "      <th>errands4</th>\n",
       "      <th>errands5</th>\n",
       "      <th>errands_8.9</th>\n",
       "      <th>recreation1</th>\n",
       "      <th>recreation2</th>\n",
       "      <th>recreation3</th>\n",
       "      <th>recreation4</th>\n",
       "      <th>recreation5</th>\n",
       "      <th>recreation_23.3</th>\n",
       "      <th>THERE_Index</th>\n",
       "    </tr>\n",
       "    <tr>\n",
       "      <th>id_int</th>\n",
       "      <th></th>\n",
       "      <th></th>\n",
       "      <th></th>\n",
       "      <th></th>\n",
       "      <th></th>\n",
       "      <th></th>\n",
       "      <th></th>\n",
       "      <th></th>\n",
       "      <th></th>\n",
       "      <th></th>\n",
       "      <th></th>\n",
       "      <th></th>\n",
       "      <th></th>\n",
       "      <th></th>\n",
       "      <th></th>\n",
       "      <th></th>\n",
       "      <th></th>\n",
       "      <th></th>\n",
       "      <th></th>\n",
       "      <th></th>\n",
       "      <th></th>\n",
       "    </tr>\n",
       "  </thead>\n",
       "  <tbody>\n",
       "    <tr>\n",
       "      <th>1</th>\n",
       "      <td>-3.432510</td>\n",
       "      <td>55.888690</td>\n",
       "      <td>119432.409199</td>\n",
       "      <td>8.018</td>\n",
       "      <td>8.483</td>\n",
       "      <td>8.636</td>\n",
       "      <td>8.967</td>\n",
       "      <td>9.015</td>\n",
       "      <td>27.470050</td>\n",
       "      <td>11.190</td>\n",
       "      <td>...</td>\n",
       "      <td>8.331</td>\n",
       "      <td>9.920</td>\n",
       "      <td>7.143254</td>\n",
       "      <td>7.042</td>\n",
       "      <td>8.582</td>\n",
       "      <td>9.015</td>\n",
       "      <td>9.255</td>\n",
       "      <td>9.602</td>\n",
       "      <td>18.585779</td>\n",
       "      <td>79.947615</td>\n",
       "    </tr>\n",
       "    <tr>\n",
       "      <th>2</th>\n",
       "      <td>-3.318750</td>\n",
       "      <td>55.900570</td>\n",
       "      <td>131993.225326</td>\n",
       "      <td>4.018</td>\n",
       "      <td>4.483</td>\n",
       "      <td>4.636</td>\n",
       "      <td>4.967</td>\n",
       "      <td>5.015</td>\n",
       "      <td>28.300633</td>\n",
       "      <td>7.190</td>\n",
       "      <td>...</td>\n",
       "      <td>4.331</td>\n",
       "      <td>5.920</td>\n",
       "      <td>7.894517</td>\n",
       "      <td>3.042</td>\n",
       "      <td>4.582</td>\n",
       "      <td>5.015</td>\n",
       "      <td>5.255</td>\n",
       "      <td>5.602</td>\n",
       "      <td>20.540463</td>\n",
       "      <td>86.297311</td>\n",
       "    </tr>\n",
       "    <tr>\n",
       "      <th>3</th>\n",
       "      <td>-3.243460</td>\n",
       "      <td>55.926690</td>\n",
       "      <td>138564.197476</td>\n",
       "      <td>0.636</td>\n",
       "      <td>4.168</td>\n",
       "      <td>4.168</td>\n",
       "      <td>5.304</td>\n",
       "      <td>5.304</td>\n",
       "      <td>28.671105</td>\n",
       "      <td>6.655</td>\n",
       "      <td>...</td>\n",
       "      <td>4.027</td>\n",
       "      <td>4.077</td>\n",
       "      <td>8.021427</td>\n",
       "      <td>3.947</td>\n",
       "      <td>3.947</td>\n",
       "      <td>3.947</td>\n",
       "      <td>4.077</td>\n",
       "      <td>4.441</td>\n",
       "      <td>20.879994</td>\n",
       "      <td>88.182403</td>\n",
       "    </tr>\n",
       "    <tr>\n",
       "      <th>4</th>\n",
       "      <td>-3.218450</td>\n",
       "      <td>55.945810</td>\n",
       "      <td>147325.206995</td>\n",
       "      <td>2.607</td>\n",
       "      <td>2.663</td>\n",
       "      <td>2.887</td>\n",
       "      <td>3.400</td>\n",
       "      <td>3.706</td>\n",
       "      <td>29.106430</td>\n",
       "      <td>3.183</td>\n",
       "      <td>...</td>\n",
       "      <td>0.787</td>\n",
       "      <td>1.707</td>\n",
       "      <td>8.632049</td>\n",
       "      <td>0.475</td>\n",
       "      <td>0.475</td>\n",
       "      <td>0.475</td>\n",
       "      <td>0.605</td>\n",
       "      <td>0.969</td>\n",
       "      <td>22.764071</td>\n",
       "      <td>93.243614</td>\n",
       "    </tr>\n",
       "    <tr>\n",
       "      <th>5</th>\n",
       "      <td>-3.307660</td>\n",
       "      <td>55.927550</td>\n",
       "      <td>135942.509831</td>\n",
       "      <td>4.192</td>\n",
       "      <td>7.607</td>\n",
       "      <td>7.663</td>\n",
       "      <td>7.887</td>\n",
       "      <td>8.400</td>\n",
       "      <td>28.528100</td>\n",
       "      <td>8.183</td>\n",
       "      <td>...</td>\n",
       "      <td>5.605</td>\n",
       "      <td>5.605</td>\n",
       "      <td>7.724706</td>\n",
       "      <td>0.613</td>\n",
       "      <td>2.608</td>\n",
       "      <td>3.934</td>\n",
       "      <td>4.033</td>\n",
       "      <td>5.475</td>\n",
       "      <td>21.347911</td>\n",
       "      <td>87.900404</td>\n",
       "    </tr>\n",
       "    <tr>\n",
       "      <th>...</th>\n",
       "      <td>...</td>\n",
       "      <td>...</td>\n",
       "      <td>...</td>\n",
       "      <td>...</td>\n",
       "      <td>...</td>\n",
       "      <td>...</td>\n",
       "      <td>...</td>\n",
       "      <td>...</td>\n",
       "      <td>...</td>\n",
       "      <td>...</td>\n",
       "      <td>...</td>\n",
       "      <td>...</td>\n",
       "      <td>...</td>\n",
       "      <td>...</td>\n",
       "      <td>...</td>\n",
       "      <td>...</td>\n",
       "      <td>...</td>\n",
       "      <td>...</td>\n",
       "      <td>...</td>\n",
       "      <td>...</td>\n",
       "      <td>...</td>\n",
       "    </tr>\n",
       "    <tr>\n",
       "      <th>70340</th>\n",
       "      <td>-3.151680</td>\n",
       "      <td>55.959993</td>\n",
       "      <td>94912.789557</td>\n",
       "      <td>0.391</td>\n",
       "      <td>0.856</td>\n",
       "      <td>1.209</td>\n",
       "      <td>2.243</td>\n",
       "      <td>2.266</td>\n",
       "      <td>25.256110</td>\n",
       "      <td>2.841</td>\n",
       "      <td>...</td>\n",
       "      <td>3.652</td>\n",
       "      <td>3.869</td>\n",
       "      <td>8.146791</td>\n",
       "      <td>0.010</td>\n",
       "      <td>1.770</td>\n",
       "      <td>2.072</td>\n",
       "      <td>2.266</td>\n",
       "      <td>2.266</td>\n",
       "      <td>22.004738</td>\n",
       "      <td>86.441127</td>\n",
       "    </tr>\n",
       "    <tr>\n",
       "      <th>70341</th>\n",
       "      <td>-3.151749</td>\n",
       "      <td>55.960011</td>\n",
       "      <td>94914.560033</td>\n",
       "      <td>0.333</td>\n",
       "      <td>0.914</td>\n",
       "      <td>1.151</td>\n",
       "      <td>2.301</td>\n",
       "      <td>2.324</td>\n",
       "      <td>25.256305</td>\n",
       "      <td>2.783</td>\n",
       "      <td>...</td>\n",
       "      <td>3.710</td>\n",
       "      <td>3.811</td>\n",
       "      <td>8.150967</td>\n",
       "      <td>0.068</td>\n",
       "      <td>1.712</td>\n",
       "      <td>2.130</td>\n",
       "      <td>2.324</td>\n",
       "      <td>2.324</td>\n",
       "      <td>21.995201</td>\n",
       "      <td>86.449404</td>\n",
       "    </tr>\n",
       "    <tr>\n",
       "      <th>70342</th>\n",
       "      <td>-3.151757</td>\n",
       "      <td>55.960013</td>\n",
       "      <td>94918.450325</td>\n",
       "      <td>0.327</td>\n",
       "      <td>0.920</td>\n",
       "      <td>1.145</td>\n",
       "      <td>2.307</td>\n",
       "      <td>2.330</td>\n",
       "      <td>25.256732</td>\n",
       "      <td>2.777</td>\n",
       "      <td>...</td>\n",
       "      <td>3.716</td>\n",
       "      <td>3.805</td>\n",
       "      <td>8.151400</td>\n",
       "      <td>0.074</td>\n",
       "      <td>1.706</td>\n",
       "      <td>2.136</td>\n",
       "      <td>2.330</td>\n",
       "      <td>2.330</td>\n",
       "      <td>21.994253</td>\n",
       "      <td>86.450825</td>\n",
       "    </tr>\n",
       "    <tr>\n",
       "      <th>70343</th>\n",
       "      <td>-3.151845</td>\n",
       "      <td>55.960036</td>\n",
       "      <td>94935.750429</td>\n",
       "      <td>0.253</td>\n",
       "      <td>0.994</td>\n",
       "      <td>1.071</td>\n",
       "      <td>2.303</td>\n",
       "      <td>2.381</td>\n",
       "      <td>25.258631</td>\n",
       "      <td>2.703</td>\n",
       "      <td>...</td>\n",
       "      <td>3.731</td>\n",
       "      <td>3.790</td>\n",
       "      <td>8.157419</td>\n",
       "      <td>0.148</td>\n",
       "      <td>1.632</td>\n",
       "      <td>2.210</td>\n",
       "      <td>2.404</td>\n",
       "      <td>2.404</td>\n",
       "      <td>21.983928</td>\n",
       "      <td>86.471192</td>\n",
       "    </tr>\n",
       "    <tr>\n",
       "      <th>70344</th>\n",
       "      <td>-3.151857</td>\n",
       "      <td>55.960039</td>\n",
       "      <td>94942.593480</td>\n",
       "      <td>0.243</td>\n",
       "      <td>1.004</td>\n",
       "      <td>1.061</td>\n",
       "      <td>2.293</td>\n",
       "      <td>2.391</td>\n",
       "      <td>25.259383</td>\n",
       "      <td>2.693</td>\n",
       "      <td>...</td>\n",
       "      <td>3.721</td>\n",
       "      <td>3.800</td>\n",
       "      <td>8.158306</td>\n",
       "      <td>0.158</td>\n",
       "      <td>1.622</td>\n",
       "      <td>2.220</td>\n",
       "      <td>2.414</td>\n",
       "      <td>2.414</td>\n",
       "      <td>21.982539</td>\n",
       "      <td>86.474528</td>\n",
       "    </tr>\n",
       "  </tbody>\n",
       "</table>\n",
       "<p>70344 rows × 34 columns</p>\n",
       "</div>"
      ],
      "text/plain": [
       "               x          y           jobs  employment1  employment2  \\\n",
       "id_int                                                                 \n",
       "1      -3.432510  55.888690  119432.409199        8.018        8.483   \n",
       "2      -3.318750  55.900570  131993.225326        4.018        4.483   \n",
       "3      -3.243460  55.926690  138564.197476        0.636        4.168   \n",
       "4      -3.218450  55.945810  147325.206995        2.607        2.663   \n",
       "5      -3.307660  55.927550  135942.509831        4.192        7.607   \n",
       "...          ...        ...            ...          ...          ...   \n",
       "70340  -3.151680  55.959993   94912.789557        0.391        0.856   \n",
       "70341  -3.151749  55.960011   94914.560033        0.333        0.914   \n",
       "70342  -3.151757  55.960013   94918.450325        0.327        0.920   \n",
       "70343  -3.151845  55.960036   94935.750429        0.253        0.994   \n",
       "70344  -3.151857  55.960039   94942.593480        0.243        1.004   \n",
       "\n",
       "        employment3  employment4  employment5  employment_31.9  education1  \\\n",
       "id_int                                                                       \n",
       "1             8.636        8.967        9.015        27.470050      11.190   \n",
       "2             4.636        4.967        5.015        28.300633       7.190   \n",
       "3             4.168        5.304        5.304        28.671105       6.655   \n",
       "4             2.887        3.400        3.706        29.106430       3.183   \n",
       "5             7.663        7.887        8.400        28.528100       8.183   \n",
       "...             ...          ...          ...              ...         ...   \n",
       "70340         1.209        2.243        2.266        25.256110       2.841   \n",
       "70341         1.151        2.301        2.324        25.256305       2.783   \n",
       "70342         1.145        2.307        2.330        25.256732       2.777   \n",
       "70343         1.071        2.303        2.381        25.258631       2.703   \n",
       "70344         1.061        2.293        2.391        25.259383       2.693   \n",
       "\n",
       "        ...  errands4  errands5  errands_8.9  recreation1  recreation2  \\\n",
       "id_int  ...                                                              \n",
       "1       ...     8.331     9.920     7.143254        7.042        8.582   \n",
       "2       ...     4.331     5.920     7.894517        3.042        4.582   \n",
       "3       ...     4.027     4.077     8.021427        3.947        3.947   \n",
       "4       ...     0.787     1.707     8.632049        0.475        0.475   \n",
       "5       ...     5.605     5.605     7.724706        0.613        2.608   \n",
       "...     ...       ...       ...          ...          ...          ...   \n",
       "70340   ...     3.652     3.869     8.146791        0.010        1.770   \n",
       "70341   ...     3.710     3.811     8.150967        0.068        1.712   \n",
       "70342   ...     3.716     3.805     8.151400        0.074        1.706   \n",
       "70343   ...     3.731     3.790     8.157419        0.148        1.632   \n",
       "70344   ...     3.721     3.800     8.158306        0.158        1.622   \n",
       "\n",
       "        recreation3  recreation4  recreation5  recreation_23.3  THERE_Index  \n",
       "id_int                                                                       \n",
       "1             9.015        9.255        9.602        18.585779    79.947615  \n",
       "2             5.015        5.255        5.602        20.540463    86.297311  \n",
       "3             3.947        4.077        4.441        20.879994    88.182403  \n",
       "4             0.475        0.605        0.969        22.764071    93.243614  \n",
       "5             3.934        4.033        5.475        21.347911    87.900404  \n",
       "...             ...          ...          ...              ...          ...  \n",
       "70340         2.072        2.266        2.266        22.004738    86.441127  \n",
       "70341         2.130        2.324        2.324        21.995201    86.449404  \n",
       "70342         2.136        2.330        2.330        21.994253    86.450825  \n",
       "70343         2.210        2.404        2.404        21.983928    86.471192  \n",
       "70344         2.220        2.414        2.414        21.982539    86.474528  \n",
       "\n",
       "[70344 rows x 34 columns]"
      ]
     },
     "execution_count": 146,
     "metadata": {},
     "output_type": "execute_result"
    }
   ],
   "source": [
    "results"
   ]
  },
  {
   "cell_type": "code",
   "execution_count": null,
   "id": "36a251f0",
   "metadata": {},
   "outputs": [],
   "source": []
  },
  {
   "cell_type": "code",
   "execution_count": 193,
   "id": "1b971d0b",
   "metadata": {},
   "outputs": [],
   "source": [
    "small_pt_results = gpd.GeoDataFrame(result_rounding(results).drop_duplicates(subset=['x','y']).add_suffix('_transit'), \n",
    "                                    geometry = gpd.GeoSeries.from_xy(results.x, results.y, crs=\"EPSG:4326\")).to_crs(proj_crs)"
   ]
  },
  {
   "attachments": {},
   "cell_type": "markdown",
   "id": "0f4526c7",
   "metadata": {},
   "source": [
    "## Export results"
   ]
  },
  {
   "cell_type": "code",
   "execution_count": 22,
   "id": "4243d553",
   "metadata": {},
   "outputs": [
    {
     "ename": "NameError",
     "evalue": "name 'results' is not defined",
     "output_type": "error",
     "traceback": [
      "\u001b[1;31m---------------------------------------------------------------------------\u001b[0m",
      "\u001b[1;31mNameError\u001b[0m                                 Traceback (most recent call last)",
      "\u001b[1;32m<ipython-input-22-de6cfd5535c5>\u001b[0m in \u001b[0;36m<module>\u001b[1;34m\u001b[0m\n\u001b[1;32m----> 1\u001b[1;33m \u001b[0msmall_results\u001b[0m \u001b[1;33m=\u001b[0m \u001b[0mgpd\u001b[0m\u001b[1;33m.\u001b[0m\u001b[0mGeoDataFrame\u001b[0m\u001b[1;33m(\u001b[0m\u001b[0mresult_rounding\u001b[0m\u001b[1;33m(\u001b[0m\u001b[0mresults\u001b[0m\u001b[1;33m)\u001b[0m\u001b[1;33m,\u001b[0m \u001b[0mgeometry\u001b[0m \u001b[1;33m=\u001b[0m \u001b[0mgpd\u001b[0m\u001b[1;33m.\u001b[0m\u001b[0mGeoSeries\u001b[0m\u001b[1;33m.\u001b[0m\u001b[0mfrom_xy\u001b[0m\u001b[1;33m(\u001b[0m\u001b[0mresults\u001b[0m\u001b[1;33m.\u001b[0m\u001b[0mx\u001b[0m\u001b[1;33m,\u001b[0m \u001b[0mresults\u001b[0m\u001b[1;33m.\u001b[0m\u001b[0my\u001b[0m\u001b[1;33m,\u001b[0m \u001b[0mcrs\u001b[0m\u001b[1;33m=\u001b[0m\u001b[0mproj_crs\u001b[0m\u001b[1;33m)\u001b[0m\u001b[1;33m)\u001b[0m\u001b[1;33m\u001b[0m\u001b[1;33m\u001b[0m\u001b[0m\n\u001b[0m",
      "\u001b[1;31mNameError\u001b[0m: name 'results' is not defined"
     ]
    }
   ],
   "source": [
    "small_results = gpd.GeoDataFrame(result_rounding(results), geometry = gpd.GeoSeries.from_xy(results.x, results.y, crs=proj_crs))"
   ]
  },
  {
   "cell_type": "code",
   "execution_count": null,
   "id": "d812a5c8",
   "metadata": {},
   "outputs": [],
   "source": [
    "small_pt_results.to_file((folder +\n",
    "                         \"Walkability\\\\Other Cities\\\\Colouring data & results\\\\Edinburgh Data\\\\\" + \n",
    "                         \"Edinburgh_pt_170622.gpkg\"))"
   ]
  },
  {
   "cell_type": "code",
   "execution_count": null,
   "id": "5b987345",
   "metadata": {
    "scrolled": true
   },
   "outputs": [],
   "source": [
    "small_c_results.to_file((folder +\n",
    "                         \"Walkability\\\\Other Cities\\\\Colouring data & results\\\\Edinburgh Data\\\\\" + \n",
    "                         \"Edinburgh_cycle_170622.gpkg\"))"
   ]
  },
  {
   "attachments": {},
   "cell_type": "markdown",
   "id": "69511288",
   "metadata": {},
   "source": [
    "### Import population for population weighted results"
   ]
  },
  {
   "cell_type": "code",
   "execution_count": 25,
   "id": "75a7a88d",
   "metadata": {},
   "outputs": [],
   "source": [
    "population = pd.read_csv((folder + \n",
    "                        \"Walkability\\\\Other Cities\\\\Colouring data & results\\\\Edinburgh Data\\\\KS101SC - Usual resident population.csv\"),\n",
    "                            index_col=0)"
   ]
  },
  {
   "cell_type": "code",
   "execution_count": 26,
   "id": "c254cc04",
   "metadata": {},
   "outputs": [
    {
     "data": {
      "text/html": [
       "<div>\n",
       "<style scoped>\n",
       "    .dataframe tbody tr th:only-of-type {\n",
       "        vertical-align: middle;\n",
       "    }\n",
       "\n",
       "    .dataframe tbody tr th {\n",
       "        vertical-align: top;\n",
       "    }\n",
       "\n",
       "    .dataframe thead th {\n",
       "        text-align: right;\n",
       "    }\n",
       "</style>\n",
       "<table border=\"1\" class=\"dataframe\">\n",
       "  <thead>\n",
       "    <tr style=\"text-align: right;\">\n",
       "      <th></th>\n",
       "      <th>All people</th>\n",
       "      <th>Males</th>\n",
       "      <th>Females</th>\n",
       "      <th>Lives in a household</th>\n",
       "      <th>Lives in a communal establishment</th>\n",
       "      <th>Schoolchild or full-time student aged 4 and over at their non term-time address</th>\n",
       "      <th>Area (hectares)</th>\n",
       "      <th>Density (number of persons per hectare)</th>\n",
       "    </tr>\n",
       "    <tr>\n",
       "      <th>Output Area</th>\n",
       "      <th></th>\n",
       "      <th></th>\n",
       "      <th></th>\n",
       "      <th></th>\n",
       "      <th></th>\n",
       "      <th></th>\n",
       "      <th></th>\n",
       "      <th></th>\n",
       "    </tr>\n",
       "  </thead>\n",
       "  <tbody>\n",
       "    <tr>\n",
       "      <th>Scotland</th>\n",
       "      <td>5,295,403</td>\n",
       "      <td>2,567,444</td>\n",
       "      <td>2,727,959</td>\n",
       "      <td>5,196,386</td>\n",
       "      <td>99,017</td>\n",
       "      <td>41,551</td>\n",
       "      <td>7,793,711</td>\n",
       "      <td>0.68</td>\n",
       "    </tr>\n",
       "    <tr>\n",
       "      <th>S00088956</th>\n",
       "      <td>230</td>\n",
       "      <td>111</td>\n",
       "      <td>119</td>\n",
       "      <td>230</td>\n",
       "      <td>-</td>\n",
       "      <td>1</td>\n",
       "      <td>8</td>\n",
       "      <td>28.13</td>\n",
       "    </tr>\n",
       "    <tr>\n",
       "      <th>S00088957</th>\n",
       "      <td>66</td>\n",
       "      <td>33</td>\n",
       "      <td>33</td>\n",
       "      <td>66</td>\n",
       "      <td>-</td>\n",
       "      <td>1</td>\n",
       "      <td>213</td>\n",
       "      <td>0.31</td>\n",
       "    </tr>\n",
       "    <tr>\n",
       "      <th>S00088958</th>\n",
       "      <td>90</td>\n",
       "      <td>38</td>\n",
       "      <td>52</td>\n",
       "      <td>90</td>\n",
       "      <td>-</td>\n",
       "      <td>2</td>\n",
       "      <td>3</td>\n",
       "      <td>26.57</td>\n",
       "    </tr>\n",
       "    <tr>\n",
       "      <th>S00088959</th>\n",
       "      <td>83</td>\n",
       "      <td>44</td>\n",
       "      <td>39</td>\n",
       "      <td>83</td>\n",
       "      <td>-</td>\n",
       "      <td>-</td>\n",
       "      <td>238</td>\n",
       "      <td>0.35</td>\n",
       "    </tr>\n",
       "    <tr>\n",
       "      <th>...</th>\n",
       "      <td>...</td>\n",
       "      <td>...</td>\n",
       "      <td>...</td>\n",
       "      <td>...</td>\n",
       "      <td>...</td>\n",
       "      <td>...</td>\n",
       "      <td>...</td>\n",
       "      <td>...</td>\n",
       "    </tr>\n",
       "    <tr>\n",
       "      <th>S00135302</th>\n",
       "      <td>128</td>\n",
       "      <td>65</td>\n",
       "      <td>63</td>\n",
       "      <td>128</td>\n",
       "      <td>-</td>\n",
       "      <td>5</td>\n",
       "      <td>2,826</td>\n",
       "      <td>0.05</td>\n",
       "    </tr>\n",
       "    <tr>\n",
       "      <th>S00135303</th>\n",
       "      <td>81</td>\n",
       "      <td>39</td>\n",
       "      <td>42</td>\n",
       "      <td>81</td>\n",
       "      <td>-</td>\n",
       "      <td>-</td>\n",
       "      <td>521</td>\n",
       "      <td>0.16</td>\n",
       "    </tr>\n",
       "    <tr>\n",
       "      <th>S00135304</th>\n",
       "      <td>81</td>\n",
       "      <td>41</td>\n",
       "      <td>40</td>\n",
       "      <td>81</td>\n",
       "      <td>-</td>\n",
       "      <td>5</td>\n",
       "      <td>2,431</td>\n",
       "      <td>0.03</td>\n",
       "    </tr>\n",
       "    <tr>\n",
       "      <th>S00135305</th>\n",
       "      <td>98</td>\n",
       "      <td>44</td>\n",
       "      <td>54</td>\n",
       "      <td>80</td>\n",
       "      <td>18</td>\n",
       "      <td>3</td>\n",
       "      <td>514</td>\n",
       "      <td>0.19</td>\n",
       "    </tr>\n",
       "    <tr>\n",
       "      <th>S00135306</th>\n",
       "      <td>87</td>\n",
       "      <td>44</td>\n",
       "      <td>43</td>\n",
       "      <td>87</td>\n",
       "      <td>-</td>\n",
       "      <td>1</td>\n",
       "      <td>1,188</td>\n",
       "      <td>0.07</td>\n",
       "    </tr>\n",
       "  </tbody>\n",
       "</table>\n",
       "<p>46352 rows × 8 columns</p>\n",
       "</div>"
      ],
      "text/plain": [
       "            All people      Males    Females Lives in a household  \\\n",
       "Output Area                                                         \n",
       "Scotland     5,295,403  2,567,444  2,727,959            5,196,386   \n",
       "S00088956          230        111        119                  230   \n",
       "S00088957           66         33         33                   66   \n",
       "S00088958           90         38         52                   90   \n",
       "S00088959           83         44         39                   83   \n",
       "...                ...        ...        ...                  ...   \n",
       "S00135302          128         65         63                  128   \n",
       "S00135303           81         39         42                   81   \n",
       "S00135304           81         41         40                   81   \n",
       "S00135305           98         44         54                   80   \n",
       "S00135306           87         44         43                   87   \n",
       "\n",
       "            Lives in a communal establishment  \\\n",
       "Output Area                                     \n",
       "Scotland                               99,017   \n",
       "S00088956                                   -   \n",
       "S00088957                                   -   \n",
       "S00088958                                   -   \n",
       "S00088959                                   -   \n",
       "...                                       ...   \n",
       "S00135302                                   -   \n",
       "S00135303                                   -   \n",
       "S00135304                                   -   \n",
       "S00135305                                  18   \n",
       "S00135306                                   -   \n",
       "\n",
       "            Schoolchild or full-time student aged 4 and over at their non term-time address  \\\n",
       "Output Area                                                                                   \n",
       "Scotland                                                41,551                                \n",
       "S00088956                                                    1                                \n",
       "S00088957                                                    1                                \n",
       "S00088958                                                    2                                \n",
       "S00088959                                                    -                                \n",
       "...                                                        ...                                \n",
       "S00135302                                                    5                                \n",
       "S00135303                                                    -                                \n",
       "S00135304                                                    5                                \n",
       "S00135305                                                    3                                \n",
       "S00135306                                                    1                                \n",
       "\n",
       "            Area (hectares) Density (number of persons per hectare)  \n",
       "Output Area                                                          \n",
       "Scotland          7,793,711                                    0.68  \n",
       "S00088956                 8                                   28.13  \n",
       "S00088957               213                                    0.31  \n",
       "S00088958                 3                                   26.57  \n",
       "S00088959               238                                    0.35  \n",
       "...                     ...                                     ...  \n",
       "S00135302             2,826                                    0.05  \n",
       "S00135303               521                                    0.16  \n",
       "S00135304             2,431                                    0.03  \n",
       "S00135305               514                                    0.19  \n",
       "S00135306             1,188                                    0.07  \n",
       "\n",
       "[46352 rows x 8 columns]"
      ]
     },
     "execution_count": 26,
     "metadata": {},
     "output_type": "execute_result"
    }
   ],
   "source": [
    "population"
   ]
  },
  {
   "attachments": {},
   "cell_type": "markdown",
   "id": "61b97674",
   "metadata": {},
   "source": [
    "Join to Output Areas by name. Used population weighted centroids available from Government. Join to the closest result point. Get average, distribution and export these centroids for further visualisation."
   ]
  },
  {
   "cell_type": "code",
   "execution_count": 27,
   "id": "ac16885a",
   "metadata": {},
   "outputs": [],
   "source": [
    "output_areas = gpd.read_file(folder +\n",
    "                             \"Walkability\\\\Other Cities\\\\Colouring data & results\\\\Edinburgh Data\\\\OutputArea2011_PWC.shp\")"
   ]
  },
  {
   "cell_type": "code",
   "execution_count": 28,
   "id": "dc806e8b",
   "metadata": {},
   "outputs": [],
   "source": [
    "output_areas = output_areas.join(population, on='code')"
   ]
  },
  {
   "cell_type": "code",
   "execution_count": 29,
   "id": "d15ab52d",
   "metadata": {},
   "outputs": [],
   "source": [
    "output_areas = output_areas.to_crs(proj_crs)"
   ]
  },
  {
   "cell_type": "code",
   "execution_count": 30,
   "id": "f58be77a",
   "metadata": {},
   "outputs": [],
   "source": [
    "output_areas['All people'] = output_areas['All people'].str.replace(',','').astype(int)"
   ]
  },
  {
   "cell_type": "code",
   "execution_count": 31,
   "id": "ece0c7e8",
   "metadata": {},
   "outputs": [],
   "source": [
    "output_areas = output_areas.clip(place_gdf)"
   ]
  },
  {
   "cell_type": "code",
   "execution_count": null,
   "id": "aec69a6a",
   "metadata": {},
   "outputs": [],
   "source": [
    "output_areas_pt = output_areas.sjoin_nearest(small_pt_results.to_crs(proj_crs), how='left',rsuffix='transit')"
   ]
  },
  {
   "cell_type": "code",
   "execution_count": 197,
   "id": "88c57802",
   "metadata": {},
   "outputs": [],
   "source": [
    "output_areas_c = output_areas_pt.sjoin_nearest(small_c_results, how='left',rsuffix='cycle')"
   ]
  },
  {
   "cell_type": "code",
   "execution_count": 198,
   "id": "b2474936",
   "metadata": {},
   "outputs": [],
   "source": [
    "output_areas_d = output_areas_c.sjoin_nearest(small_d_results, how='left',rsuffix='drive')"
   ]
  },
  {
   "cell_type": "code",
   "execution_count": 199,
   "id": "93765f30",
   "metadata": {},
   "outputs": [],
   "source": [
    "output_areas_w = output_areas_d.sjoin_nearest(small_w_results, how='left')"
   ]
  },
  {
   "cell_type": "code",
   "execution_count": 32,
   "id": "ea3cc89c",
   "metadata": {},
   "outputs": [],
   "source": [
    "output_areas = output_areas.sjoin_nearest(small_w_results, how='left')"
   ]
  },
  {
   "cell_type": "code",
   "execution_count": 33,
   "id": "b40d2655",
   "metadata": {},
   "outputs": [
    {
     "data": {
      "text/plain": [
       "47.21447057651063"
      ]
     },
     "execution_count": 33,
     "metadata": {},
     "output_type": "execute_result"
    }
   ],
   "source": [
    "sum(output_areas['All people']*output_areas['THERE_Index_walk'])/sum(output_areas['All people'])"
   ]
  },
  {
   "cell_type": "code",
   "execution_count": 41,
   "id": "334907ea",
   "metadata": {},
   "outputs": [
    {
     "data": {
      "text/plain": [
       "476626"
      ]
     },
     "execution_count": 41,
     "metadata": {},
     "output_type": "execute_result"
    }
   ],
   "source": [
    "sum(output_areas['All people'])"
   ]
  },
  {
   "cell_type": "code",
   "execution_count": 202,
   "id": "f2066eac",
   "metadata": {},
   "outputs": [
    {
     "data": {
      "text/plain": [
       "83.58765366345939"
      ]
     },
     "execution_count": 202,
     "metadata": {},
     "output_type": "execute_result"
    }
   ],
   "source": [
    "sum(output_areas_c['All people']*output_areas_c['THERE_Index_transit'])/sum(output_areas_c['All people'])"
   ]
  },
  {
   "cell_type": "code",
   "execution_count": 203,
   "id": "c328636d",
   "metadata": {},
   "outputs": [
    {
     "data": {
      "text/plain": [
       "84.08980383990789"
      ]
     },
     "execution_count": 203,
     "metadata": {},
     "output_type": "execute_result"
    }
   ],
   "source": [
    "sum(output_areas_c['All people']*output_areas_c['THERE_Index_cycle'])/sum(output_areas_c['All people'])"
   ]
  },
  {
   "cell_type": "code",
   "execution_count": 205,
   "id": "fe4c8966",
   "metadata": {},
   "outputs": [
    {
     "data": {
      "text/plain": [
       "91.1811202137527"
      ]
     },
     "execution_count": 205,
     "metadata": {},
     "output_type": "execute_result"
    }
   ],
   "source": [
    "sum(output_areas_w['All people']*output_areas_w['THERE_Index_drive'])/sum(output_areas_w['All people'])"
   ]
  },
  {
   "cell_type": "code",
   "execution_count": 206,
   "id": "478d915a",
   "metadata": {},
   "outputs": [
    {
     "data": {
      "text/plain": [
       "48.29506182835168"
      ]
     },
     "execution_count": 206,
     "metadata": {},
     "output_type": "execute_result"
    }
   ],
   "source": [
    "sum(output_areas_w['All people']*output_areas_w['THERE_Index_walk'])/sum(output_areas_w['All people'])"
   ]
  },
  {
   "cell_type": "code",
   "execution_count": 217,
   "id": "56ce7500",
   "metadata": {},
   "outputs": [
    {
     "data": {
      "text/plain": [
       "Text(0.5, 0.98, 'Edinburgh: distribution of results by residential population')"
      ]
     },
     "execution_count": 217,
     "metadata": {},
     "output_type": "execute_result"
    },
    {
     "data": {
      "image/png": "[encoded data removed]",
      "text/plain": [
       "<Figure size 864x288 with 4 Axes>"
      ]
     },
     "metadata": {
      "needs_background": "light"
     },
     "output_type": "display_data"
    }
   ],
   "source": [
    "fig, [ax1, ax2, ax3, ax4] = plt.subplots(nrows=1, ncols=4, sharey=True, figsize=(12, 4))\n",
    "bins=[10,20,30,40,50,60,70,80,90,100]\n",
    "ax1.hist(output_areas_w['THERE_Index_walk'], weights = output_areas_w['All people'], bins=bins)\n",
    "ax1.set_xlabel('WalkTHERE')\n",
    "ax1.set_ylabel('Residents')\n",
    "ax2.hist(output_areas_w['THERE_Index_cycle'], weights = output_areas_w['All people'], bins=bins)\n",
    "ax2.set_xlabel('CycleTHERE')\n",
    "ax3.hist(output_areas_w['THERE_Index_transit'], weights = output_areas_w['All people'], bins=bins)\n",
    "ax3.set_xlabel('TransitTHERE')\n",
    "ax4.hist(output_areas_w['THERE_Index_drive'], weights = output_areas_w['All people'], bins=bins)\n",
    "ax4.set_xlabel('DriveTHERE')\n",
    "fig.suptitle('Edinburgh: distribution of results by residential population')"
   ]
  },
  {
   "cell_type": "code",
   "execution_count": 35,
   "id": "3a64130f",
   "metadata": {},
   "outputs": [
    {
     "data": {
      "image/png": "[encoded data removed]",
      "text/plain": [
       "<Figure size 288x288 with 1 Axes>"
      ]
     },
     "metadata": {
      "needs_background": "light"
     },
     "output_type": "display_data"
    }
   ],
   "source": [
    "cm = plt.cm.Greens\n",
    "bins=[10,20,30,40,50,60,70,80,90,100]\n",
    "fig, ax1 = plt.subplots(nrows=1, ncols=1, sharey=True, figsize=(12, 4))\n",
    "fig.set_figwidth(4)\n",
    "ax1.set_xlabel('WalkTHERE')\n",
    "ax1.set_ylabel('Residents')\n",
    "fig.suptitle('Edinburgh: distribution of \\n results by residential population',va='center')\n",
    "\n",
    "n, bins, patches = plt.hist(output_areas['THERE_Index_walk'], weights = output_areas['All people'], label='WalkTHERE',bins=bins)\n",
    "for i, p in enumerate(patches):\n",
    "    plt.setp(p, 'facecolor', cm(i/10 + 0.2)) # notice the i/25\n",
    "    \n",
    "plt.show()\n",
    "fig.savefig('Edinburgh_dist_walk_170822.eps', format='eps')"
   ]
  },
  {
   "cell_type": "code",
   "execution_count": 37,
   "id": "7510a974",
   "metadata": {},
   "outputs": [
    {
     "name": "stderr",
     "output_type": "stream",
     "text": [
      "C:\\Users\\z3258367\\Anaconda3\\envs\\ox\\lib\\site-packages\\geopandas\\io\\file.py:362: FutureWarning: pandas.Int64Index is deprecated and will be removed from pandas in a future version. Use pandas.Index with the appropriate dtype instead.\n",
      "  pd.Int64Index,\n",
      "C:\\Users\\z3258367\\Anaconda3\\envs\\ox\\lib\\site-packages\\geopandas\\io\\file.py:389: DeprecationWarning: distutils Version classes are deprecated. Use packaging.version instead.\n",
      "  if LooseVersion(gdal_version) >= LooseVersion(\"3.0.0\") and crs:\n"
     ]
    }
   ],
   "source": [
    "output_areas.to_file((folder +\n",
    "                         \"Walkability\\\\Other Cities\\\\Colouring data & results\\\\Edinburgh Data\\\\\" + \n",
    "                         \"Edinburgh_OA_walk_results_241022.gpkg\"))"
   ]
  },
  {
   "cell_type": "code",
   "execution_count": 216,
   "id": "1dedec6d",
   "metadata": {},
   "outputs": [
    {
     "data": {
      "text/html": [
       "<div>\n",
       "<style scoped>\n",
       "    .dataframe tbody tr th:only-of-type {\n",
       "        vertical-align: middle;\n",
       "    }\n",
       "\n",
       "    .dataframe tbody tr th {\n",
       "        vertical-align: top;\n",
       "    }\n",
       "\n",
       "    .dataframe thead th {\n",
       "        text-align: right;\n",
       "    }\n",
       "</style>\n",
       "<table border=\"1\" class=\"dataframe\">\n",
       "  <thead>\n",
       "    <tr style=\"text-align: right;\">\n",
       "      <th></th>\n",
       "      <th>OBJECTID</th>\n",
       "      <th>code</th>\n",
       "      <th>masterpc</th>\n",
       "      <th>easting</th>\n",
       "      <th>northing</th>\n",
       "      <th>geometry</th>\n",
       "      <th>All people</th>\n",
       "      <th>Males</th>\n",
       "      <th>Females</th>\n",
       "      <th>Lives in a household</th>\n",
       "      <th>...</th>\n",
       "      <th>errands4_walk</th>\n",
       "      <th>errands5_walk</th>\n",
       "      <th>errands_8.9_walk</th>\n",
       "      <th>recreation1_walk</th>\n",
       "      <th>recreation2_walk</th>\n",
       "      <th>recreation3_walk</th>\n",
       "      <th>recreation4_walk</th>\n",
       "      <th>recreation5_walk</th>\n",
       "      <th>recreation_23.3_walk</th>\n",
       "      <th>THERE_Index_walk</th>\n",
       "    </tr>\n",
       "  </thead>\n",
       "  <tbody>\n",
       "    <tr>\n",
       "      <th>28711</th>\n",
       "      <td>28712</td>\n",
       "      <td>S00105971</td>\n",
       "      <td>EH14 7EJ</td>\n",
       "      <td>316388</td>\n",
       "      <td>666035</td>\n",
       "      <td>POINT (478850.039 6192795.524)</td>\n",
       "      <td>171</td>\n",
       "      <td>87</td>\n",
       "      <td>84</td>\n",
       "      <td>171</td>\n",
       "      <td>...</td>\n",
       "      <td>400.0</td>\n",
       "      <td>446.0</td>\n",
       "      <td>6.441</td>\n",
       "      <td>344.0</td>\n",
       "      <td>446.0</td>\n",
       "      <td>447.0</td>\n",
       "      <td>472.0</td>\n",
       "      <td>479.0</td>\n",
       "      <td>14.912</td>\n",
       "      <td>35.273</td>\n",
       "    </tr>\n",
       "    <tr>\n",
       "      <th>40925</th>\n",
       "      <td>40926</td>\n",
       "      <td>S00106496</td>\n",
       "      <td>EH30 9QP</td>\n",
       "      <td>313215</td>\n",
       "      <td>677667</td>\n",
       "      <td>POINT (475509.540 6204379.001)</td>\n",
       "      <td>172</td>\n",
       "      <td>83</td>\n",
       "      <td>89</td>\n",
       "      <td>172</td>\n",
       "      <td>...</td>\n",
       "      <td>379.0</td>\n",
       "      <td>417.0</td>\n",
       "      <td>6.242</td>\n",
       "      <td>182.0</td>\n",
       "      <td>211.0</td>\n",
       "      <td>211.0</td>\n",
       "      <td>305.0</td>\n",
       "      <td>314.0</td>\n",
       "      <td>17.750</td>\n",
       "      <td>42.529</td>\n",
       "    </tr>\n",
       "    <tr>\n",
       "      <th>27245</th>\n",
       "      <td>27246</td>\n",
       "      <td>S00106508</td>\n",
       "      <td>EH30 9JW</td>\n",
       "      <td>313503</td>\n",
       "      <td>677951</td>\n",
       "      <td>POINT (475793.360 6204667.102)</td>\n",
       "      <td>130</td>\n",
       "      <td>62</td>\n",
       "      <td>68</td>\n",
       "      <td>130</td>\n",
       "      <td>...</td>\n",
       "      <td>551.0</td>\n",
       "      <td>724.0</td>\n",
       "      <td>5.510</td>\n",
       "      <td>229.0</td>\n",
       "      <td>263.0</td>\n",
       "      <td>263.0</td>\n",
       "      <td>269.0</td>\n",
       "      <td>313.0</td>\n",
       "      <td>17.476</td>\n",
       "      <td>41.223</td>\n",
       "    </tr>\n",
       "    <tr>\n",
       "      <th>388</th>\n",
       "      <td>389</td>\n",
       "      <td>S00106479</td>\n",
       "      <td>EH30 9XB</td>\n",
       "      <td>311994</td>\n",
       "      <td>677986</td>\n",
       "      <td>POINT (474284.210 6204680.289)</td>\n",
       "      <td>179</td>\n",
       "      <td>98</td>\n",
       "      <td>81</td>\n",
       "      <td>179</td>\n",
       "      <td>...</td>\n",
       "      <td>665.0</td>\n",
       "      <td>968.0</td>\n",
       "      <td>5.845</td>\n",
       "      <td>212.0</td>\n",
       "      <td>259.0</td>\n",
       "      <td>667.0</td>\n",
       "      <td>667.0</td>\n",
       "      <td>750.0</td>\n",
       "      <td>14.188</td>\n",
       "      <td>31.816</td>\n",
       "    </tr>\n",
       "    <tr>\n",
       "      <th>28404</th>\n",
       "      <td>28405</td>\n",
       "      <td>S00106478</td>\n",
       "      <td>EH30 9XX</td>\n",
       "      <td>312312</td>\n",
       "      <td>678005</td>\n",
       "      <td>POINT (474601.860 6204703.881)</td>\n",
       "      <td>221</td>\n",
       "      <td>107</td>\n",
       "      <td>114</td>\n",
       "      <td>221</td>\n",
       "      <td>...</td>\n",
       "      <td>595.0</td>\n",
       "      <td>843.0</td>\n",
       "      <td>5.192</td>\n",
       "      <td>220.0</td>\n",
       "      <td>595.0</td>\n",
       "      <td>701.0</td>\n",
       "      <td>721.0</td>\n",
       "      <td>721.0</td>\n",
       "      <td>13.236</td>\n",
       "      <td>30.840</td>\n",
       "    </tr>\n",
       "    <tr>\n",
       "      <th>36201</th>\n",
       "      <td>36202</td>\n",
       "      <td>S00107579</td>\n",
       "      <td>EH30 9LE</td>\n",
       "      <td>313669</td>\n",
       "      <td>678161</td>\n",
       "      <td>POINT (475956.281 6204879.456)</td>\n",
       "      <td>144</td>\n",
       "      <td>72</td>\n",
       "      <td>72</td>\n",
       "      <td>144</td>\n",
       "      <td>...</td>\n",
       "      <td>646.0</td>\n",
       "      <td>937.0</td>\n",
       "      <td>4.739</td>\n",
       "      <td>249.0</td>\n",
       "      <td>317.0</td>\n",
       "      <td>386.0</td>\n",
       "      <td>434.0</td>\n",
       "      <td>457.0</td>\n",
       "      <td>15.834</td>\n",
       "      <td>34.776</td>\n",
       "    </tr>\n",
       "    <tr>\n",
       "      <th>38406</th>\n",
       "      <td>38407</td>\n",
       "      <td>S00106680</td>\n",
       "      <td>EH30 9TA</td>\n",
       "      <td>313608</td>\n",
       "      <td>678310</td>\n",
       "      <td>POINT (475893.138 6205027.544)</td>\n",
       "      <td>57</td>\n",
       "      <td>26</td>\n",
       "      <td>31</td>\n",
       "      <td>56</td>\n",
       "      <td>...</td>\n",
       "      <td>597.0</td>\n",
       "      <td>695.0</td>\n",
       "      <td>6.085</td>\n",
       "      <td>96.0</td>\n",
       "      <td>105.0</td>\n",
       "      <td>105.0</td>\n",
       "      <td>128.0</td>\n",
       "      <td>168.0</td>\n",
       "      <td>19.799</td>\n",
       "      <td>41.015</td>\n",
       "    </tr>\n",
       "  </tbody>\n",
       "</table>\n",
       "<p>7 rows × 154 columns</p>\n",
       "</div>"
      ],
      "text/plain": [
       "       OBJECTID       code  masterpc easting northing  \\\n",
       "28711     28712  S00105971  EH14 7EJ  316388   666035   \n",
       "40925     40926  S00106496  EH30 9QP  313215   677667   \n",
       "27245     27246  S00106508  EH30 9JW  313503   677951   \n",
       "388         389  S00106479  EH30 9XB  311994   677986   \n",
       "28404     28405  S00106478  EH30 9XX  312312   678005   \n",
       "36201     36202  S00107579  EH30 9LE  313669   678161   \n",
       "38406     38407  S00106680  EH30 9TA  313608   678310   \n",
       "\n",
       "                             geometry  All people Males Females  \\\n",
       "28711  POINT (478850.039 6192795.524)         171    87      84   \n",
       "40925  POINT (475509.540 6204379.001)         172    83      89   \n",
       "27245  POINT (475793.360 6204667.102)         130    62      68   \n",
       "388    POINT (474284.210 6204680.289)         179    98      81   \n",
       "28404  POINT (474601.860 6204703.881)         221   107     114   \n",
       "36201  POINT (475956.281 6204879.456)         144    72      72   \n",
       "38406  POINT (475893.138 6205027.544)          57    26      31   \n",
       "\n",
       "      Lives in a household  ... errands4_walk errands5_walk errands_8.9_walk  \\\n",
       "28711                  171  ...         400.0         446.0            6.441   \n",
       "40925                  172  ...         379.0         417.0            6.242   \n",
       "27245                  130  ...         551.0         724.0            5.510   \n",
       "388                    179  ...         665.0         968.0            5.845   \n",
       "28404                  221  ...         595.0         843.0            5.192   \n",
       "36201                  144  ...         646.0         937.0            4.739   \n",
       "38406                   56  ...         597.0         695.0            6.085   \n",
       "\n",
       "      recreation1_walk  recreation2_walk  recreation3_walk  recreation4_walk  \\\n",
       "28711            344.0             446.0             447.0             472.0   \n",
       "40925            182.0             211.0             211.0             305.0   \n",
       "27245            229.0             263.0             263.0             269.0   \n",
       "388              212.0             259.0             667.0             667.0   \n",
       "28404            220.0             595.0             701.0             721.0   \n",
       "36201            249.0             317.0             386.0             434.0   \n",
       "38406             96.0             105.0             105.0             128.0   \n",
       "\n",
       "       recreation5_walk  recreation_23.3_walk  THERE_Index_walk  \n",
       "28711             479.0                14.912            35.273  \n",
       "40925             314.0                17.750            42.529  \n",
       "27245             313.0                17.476            41.223  \n",
       "388               750.0                14.188            31.816  \n",
       "28404             721.0                13.236            30.840  \n",
       "36201             457.0                15.834            34.776  \n",
       "38406             168.0                19.799            41.015  \n",
       "\n",
       "[7 rows x 154 columns]"
      ]
     },
     "execution_count": 216,
     "metadata": {},
     "output_type": "execute_result"
    }
   ],
   "source": [
    "output_areas_w[output_areas_w['THERE_Index_transit'] > output_areas_w['THERE_Index_drive']]"
   ]
  }
 ],
 "metadata": {
  "kernelspec": {
   "display_name": "Python 3",
   "language": "python",
   "name": "python3"
  },
  "language_info": {
   "codemirror_mode": {
    "name": "ipython",
    "version": 3
   },
   "file_extension": ".py",
   "mimetype": "text/x-python",
   "name": "python",
   "nbconvert_exporter": "python",
   "pygments_lexer": "ipython3",
   "version": "3.8.17"
  }
 },
 "nbformat": 4,
 "nbformat_minor": 5
}
