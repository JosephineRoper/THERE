{
 "cells": [
  {
   "cell_type": "code",
   "execution_count": 2,
   "id": "5427baeb",
   "metadata": {},
   "outputs": [],
   "source": [
    "%load_ext autoreload\n",
    "%autoreload 2"
   ]
  },
  {
   "cell_type": "code",
   "execution_count": 3,
   "id": "2c6e251a",
   "metadata": {},
   "outputs": [],
   "source": [
    "import numpy as np\n",
    "import pandana as pdna\n",
    "import geopandas as gpd\n",
    "import pandas as pd\n",
    "import osmnx as ox\n",
    "import math\n",
    "import networkx as nx\n",
    "import sys\n",
    "import matplotlib.pyplot as plt\n",
    "# adding functions \n",
    "sys.path.insert(0, 'C:\\\\Users\\\\z3258367\\\\OneDrive - UNSW\\\\#PhD\\\\Walkability\\\\Other Cities\\\\Open-Walk-Index')\n",
    "from walkability_functions import *"
   ]
  },
  {
   "cell_type": "markdown",
   "id": "0ee150b9",
   "metadata": {},
   "source": [
    "Choose a projected CRS to be used for all distance calculations."
   ]
  },
  {
   "cell_type": "code",
   "execution_count": 4,
   "id": "0dc18490",
   "metadata": {},
   "outputs": [],
   "source": [
    "proj_crs = \"EPSG:32630\"\n",
    "place = 'City of Edinburgh, United Kingdom'\n",
    "place_gdf = ox.geocode_to_gdf(place).to_crs(proj_crs)"
   ]
  },
  {
   "cell_type": "markdown",
   "id": "6dc208e1",
   "metadata": {},
   "source": [
    "## Import Data\n",
    "\n",
    "Data sources:\n",
    "1. OSM POIs\n",
    "5. Employment data - find govt source"
   ]
  },
  {
   "cell_type": "code",
   "execution_count": 5,
   "id": "c4f527da",
   "metadata": {},
   "outputs": [],
   "source": [
    "folder = \"C:\\\\Users\\\\z3258367\\\\OneDrive - UNSW\\\\#PhD\\\\\""
   ]
  },
  {
   "cell_type": "code",
   "execution_count": 6,
   "id": "0d3de460",
   "metadata": {},
   "outputs": [],
   "source": [
    "poi_dictionary = {\n",
    "    'employment':{\n",
    "        'category':['employment']\n",
    "    },\n",
    "    'shopping':{\n",
    "        'shop':['bakery', 'clothes', 'supermarket', 'mall', 'greengrocer',\n",
    "                'seafood', 'wine', 'butcher','convenience',\n",
    "                'beverages', 'alcohol', 'bicycle_shop', 'department_store', \n",
    "                'doityourself', 'beauty_shop', 'outdoor_shop', \n",
    "                'stationery', 'bookshop', 'gift_shop', 'newsagent', \n",
    "                'car_dealership', 'furniture_shop', 'sports_shop',\n",
    "                'garden_centre', 'computer_shop', 'shoe_shop', 'florist', \n",
    "                'video_shop', 'toy_shop', 'mobile_phone_shop', 'jeweller'],\n",
    "        # possibly we could pick up all shop=True excluding a few. but not sure how\n",
    "        # and many options to exclude\n",
    "        'amenity':['marketplace'],\n",
    "        'building':['kiosk', 'supermarket',],\n",
    "    },\n",
    "    'errands':{\n",
    "        'amenity':['atm','bank','courthouse','post_box', 'post_office',\n",
    "                   'clinic', 'dentist', 'doctors', 'hospital',\n",
    "                   'pharmacy', 'veterinary', 'travel_agent',\n",
    "                   'place_of_worship'],\n",
    "        'shop':['optician', 'hairdresser', 'laundry',],\n",
    "        'healthcare':['physiotherapist'],\n",
    "        'office':['government'], #### further refine ?\n",
    "    },\n",
    "    'recreation':{\n",
    "        'leisure':['dog_park', 'ice_rink', 'park', 'pitch', 'playground',\n",
    "                   \"fitness_centre\",\"sports_centre\", 'stadium', 'swimming_pool',\n",
    "                   'swimming_area', 'track', 'water_park','golf_course',],\n",
    "        'club':['social'],\n",
    "        'amenity':['bar', 'biergarten', 'cafe', 'fast_food', 'food_court',\n",
    "                   'ice_cream', 'pub', 'restaurant', 'nightclub',\n",
    "                   'library', 'arts_centre', 'cinema', 'community_centre',\n",
    "                   'social_centre', 'theatre',],\n",
    "        'building':['stadium', 'castle', 'ruins',],\n",
    "        'tourism':['aquarium', 'artwork', 'attraction', 'gallery',\n",
    "                   'museum', 'picnic_site', 'theme_park', 'viewpoint',\n",
    "                   'zoo'],\n",
    "        'natural':['beach'],\n",
    "    },\n",
    "    'education':{\n",
    "        'amenity':['college', 'kindergarten', 'music_school',\n",
    "                   'school', 'university', 'childcare'],\n",
    "    }\n",
    "}"
   ]
  },
  {
   "cell_type": "code",
   "execution_count": 7,
   "id": "eb4719a6",
   "metadata": {},
   "outputs": [
    {
     "name": "stderr",
     "output_type": "stream",
     "text": [
      "C:\\Users\\z3258367\\Anaconda3\\envs\\ox\\lib\\site-packages\\osmnx\\geometries.py:805: ShapelyDeprecationWarning: __len__ for multi-part geometries is deprecated and will be removed in Shapely 2.0. Check the length of the `geoms` property instead to get the  number of parts of a multi-part geometry.\n",
      "  for merged_outer_linestring in list(merged_outer_linestrings):\n",
      "C:\\Users\\z3258367\\Anaconda3\\envs\\ox\\lib\\site-packages\\osmnx\\geometries.py:805: ShapelyDeprecationWarning: Iteration over multi-part geometries is deprecated and will be removed in Shapely 2.0. Use the `geoms` property to access the constituent parts of a multi-part geometry.\n",
      "  for merged_outer_linestring in list(merged_outer_linestrings):\n"
     ]
    }
   ],
   "source": [
    "osm_pois = poi_downloader(place, poi_dictionary, proj_crs)"
   ]
  },
  {
   "cell_type": "code",
   "execution_count": 8,
   "id": "fa0b7eea",
   "metadata": {},
   "outputs": [],
   "source": [
    "employment_centrs = gpd.read_file((folder + \n",
    "                        \"Walkability\\\\Other Cities\\\\Colouring data & results\\\\Edinburgh Data\\\\Output Areas w job counts.gpkg\"),\n",
    "                                  ).to_crs(proj_crs)\n",
    "\n",
    "employment_centrs['category'] = 'employment'\n",
    "employment_centrs['geometry'] = employment_centrs.geometry.centroid"
   ]
  },
  {
   "cell_type": "markdown",
   "id": "d5588632",
   "metadata": {},
   "source": [
    "Need to remove potential overlap between different data sources (and inside some data sources). For now I'm not worrying about this when using only OSM data. Then take this combined POI set and clip it to the study area: should be the same area as is covered by the network. This is important otherwise points outside the network may be erroneously linked to the network."
   ]
  },
  {
   "cell_type": "code",
   "execution_count": 13,
   "id": "951a8fe5",
   "metadata": {},
   "outputs": [],
   "source": [
    "pois = pd.concat([osm_pois, employment_centrs])\n",
    "\n",
    "pois = gpd.clip(pois, place_gdf)"
   ]
  },
  {
   "cell_type": "markdown",
   "id": "96944dbd",
   "metadata": {},
   "source": [
    "### Categorise and weight POIs"
   ]
  },
  {
   "cell_type": "markdown",
   "id": "94b0c568",
   "metadata": {},
   "source": [
    "Choose walk index weightings, and output the sums of each category and the total to check. The walk index will be out of 100 regardless of this sum, but it is important to note that eg. shopping is only '10% of the walk index' if shopping is 10 out of 100."
   ]
  },
  {
   "cell_type": "code",
   "execution_count": 14,
   "id": "8a4b9a72",
   "metadata": {},
   "outputs": [],
   "source": [
    "poi_parameters = pd.read_csv((folder + \n",
    "                              \"Walkability\\\\Other Cities\\\\Colouring data & results\\\\Shared Aus Data\\\\poi_parameters_5.csv\"),\n",
    "                            index_col=0)"
   ]
  },
  {
   "cell_type": "code",
   "execution_count": 15,
   "id": "2d7552c9",
   "metadata": {},
   "outputs": [],
   "source": [
    "poi_weights = poi_parameters['weight']\n",
    "\n",
    "poi_lambdas = poi_parameters['diminishing_returns_constant']\n",
    "\n",
    "poi_variables = poi_parameters['variable']\n",
    "\n",
    "poi_nums = poi_parameters['num_pois']\n",
    "\n",
    "poi_gammas = poi_parameters['distance_constant']"
   ]
  },
  {
   "cell_type": "code",
   "execution_count": 16,
   "id": "b7f4b63d",
   "metadata": {},
   "outputs": [
    {
     "name": "stdout",
     "output_type": "stream",
     "text": [
      "total:  100.00000000000001\n"
     ]
    }
   ],
   "source": [
    "total = sum(poi_weights)\n",
    "print(\"total: \", total)"
   ]
  },
  {
   "cell_type": "code",
   "execution_count": 17,
   "id": "408cc2bc",
   "metadata": {
    "scrolled": true
   },
   "outputs": [
    {
     "name": "stderr",
     "output_type": "stream",
     "text": [
      "<ipython-input-17-83d83c221de2>:1: SettingWithCopyWarning: \n",
      "A value is trying to be set on a copy of a slice from a DataFrame\n",
      "\n",
      "See the caveats in the documentation: https://pandas.pydata.org/pandas-docs/stable/user_guide/indexing.html#returning-a-view-versus-a-copy\n",
      "  poi_variables['employment'] = 'jobs'\n"
     ]
    }
   ],
   "source": [
    "poi_variables['employment'] = 'jobs'"
   ]
  },
  {
   "cell_type": "markdown",
   "id": "1c20c8d1",
   "metadata": {},
   "source": [
    "Reduce the number of decimal places before export, distances do not need to be below 1m."
   ]
  },
  {
   "cell_type": "code",
   "execution_count": 24,
   "id": "e5a4560d",
   "metadata": {},
   "outputs": [],
   "source": [
    "def result_rounding(results):\n",
    "    # reduces results size for export\n",
    "    # score columns such as THERE_Index, employment_23 -> 3 decimal places\n",
    "    # distance columns such as employment1 -> 0 decimal places (nearest metre)\n",
    "    # avoid doing anything to connect_id, x or y\n",
    "    rounding_dict = {**{k:3 for k in results.columns if \"_\" in k\n",
    "                        and 'connect_id' not in k},\n",
    "                     **{k:0 for k in results.columns if \"_\" not in k\n",
    "                        and k != 'x'\n",
    "                        and k != 'y'}}\n",
    "    return results.round(rounding_dict)"
   ]
  },
  {
   "cell_type": "markdown",
   "id": "41834e86",
   "metadata": {},
   "source": [
    "# Walking network"
   ]
  },
  {
   "cell_type": "markdown",
   "id": "48941950",
   "metadata": {},
   "source": [
    "Pandana expects edges to have a two item index based on the same IDs as the node index. (with thanks to https://github.com/shriv/accessibility-series/blob/master/Accounting%20for%20hills%20in%20accessibility%20analyses.ipynb)"
   ]
  },
  {
   "cell_type": "code",
   "execution_count": 91,
   "id": "0f482396",
   "metadata": {},
   "outputs": [],
   "source": [
    "G = ox.graph_from_place(place, network_type='walk')"
   ]
  },
  {
   "cell_type": "code",
   "execution_count": 92,
   "id": "da1c9456",
   "metadata": {},
   "outputs": [],
   "source": [
    "# Get nodes and edges as geodataframes (gdfs) from OSMNX network\n",
    "graph_df = ox.graph_to_gdfs(G)\n",
    "nodes_gdfs = graph_df[0]\n",
    "edges_gdfs = graph_df[1]"
   ]
  },
  {
   "cell_type": "code",
   "execution_count": 93,
   "id": "ea15c37e",
   "metadata": {},
   "outputs": [],
   "source": [
    "edges_gdfs = edges_gdfs.to_crs(proj_crs)\n",
    "nodes_gdfs = nodes_gdfs.to_crs(proj_crs)"
   ]
  },
  {
   "cell_type": "code",
   "execution_count": 94,
   "id": "77ca4dac",
   "metadata": {},
   "outputs": [],
   "source": [
    "# with new OSMnx graph from polygon seems to be different\n",
    "edges_gdfs = edges_gdfs.reset_index()\n",
    "# Setting indices of Edges gdfs to match expected dataframe for Pandana\n",
    "edges_gdfs['from_idx'] = edges_gdfs['u']\n",
    "edges_gdfs['to_idx'] = edges_gdfs['v']\n",
    "edges_gdfs= edges_gdfs.set_index(['from_idx', 'to_idx'])\n",
    "edges_gdfs.index.names= ['','']\n",
    "\n",
    "# Setting indices of Nodes gdfs to match expected dataframe for Pandana\n",
    "nodes_gdfs.index.name = 'id'\n",
    "# Create a pandana network with data extracted from an OSMNX graph\n",
    "distance_network = pdna.Network(nodes_gdfs.geometry.x, nodes_gdfs.geometry.y,\n",
    "                                   edges_gdfs['u'], edges_gdfs['v'], \n",
    "                                   edges_gdfs[['length']])"
   ]
  },
  {
   "cell_type": "markdown",
   "id": "09754e3b",
   "metadata": {},
   "source": [
    "### Pandana network querying. "
   ]
  },
  {
   "cell_type": "code",
   "execution_count": 95,
   "id": "254fb24e",
   "metadata": {},
   "outputs": [],
   "source": [
    "walk_dist = 2400"
   ]
  },
  {
   "cell_type": "code",
   "execution_count": 96,
   "id": "9c333174",
   "metadata": {},
   "outputs": [
    {
     "name": "stdout",
     "output_type": "stream",
     "text": [
      "Finished category: employment\n",
      "Maximum score: 18.222584831459905 out of 31.9\n",
      "Finished category: education\n",
      "Maximum score: 12.184215370061615 out of 14.3\n",
      "Finished category: shopping\n",
      "Maximum score: 21.392758250902233 out of 21.6\n",
      "Finished category: errands\n",
      "Maximum score: 8.807215305535518 out of 8.9\n",
      "Finished category: recreation\n",
      "Maximum score: 23.199726318818424 out of 23.3\n"
     ]
    }
   ],
   "source": [
    "results_walk = there_index_osmnx(distance_network, pois, poi_dictionary, poi_weights, poi_gammas,\n",
    "                            poi_nums, poi_lambdas, poi_variables, distance = walk_dist)"
   ]
  },
  {
   "cell_type": "code",
   "execution_count": 291,
   "id": "ee95d5c4",
   "metadata": {},
   "outputs": [
    {
     "data": {
      "text/plain": [
       "(74.3881564759088, 40.695518372495044)"
      ]
     },
     "execution_count": 291,
     "metadata": {},
     "output_type": "execute_result"
    }
   ],
   "source": [
    "max(results['THERE_Index']), np.mean(results['THERE_Index'])"
   ]
  },
  {
   "cell_type": "code",
   "execution_count": 218,
   "id": "136d374f",
   "metadata": {},
   "outputs": [
    {
     "data": {
      "text/plain": [
       "(80.06919571987434, 42.87619832620587)"
      ]
     },
     "execution_count": 218,
     "metadata": {},
     "output_type": "execute_result"
    }
   ],
   "source": [
    "#new\n",
    "max(results_walk['THERE_Index']), np.mean(results_walk['THERE_Index'])"
   ]
  },
  {
   "cell_type": "code",
   "execution_count": 189,
   "id": "c05dc9b4",
   "metadata": {},
   "outputs": [],
   "source": [
    "small_w_results = gpd.GeoDataFrame(result_rounding(results_walk).drop_duplicates(subset=['x','y']).add_suffix('_walk'), \n",
    "                                   geometry = gpd.GeoSeries.from_xy(results_walk.x, results_walk.y, crs=proj_crs))"
   ]
  },
  {
   "cell_type": "code",
   "execution_count": 227,
   "id": "edfe49b4",
   "metadata": {},
   "outputs": [
    {
     "data": {
      "text/plain": [
       "nan"
      ]
     },
     "execution_count": 227,
     "metadata": {},
     "output_type": "execute_result"
    }
   ],
   "source": [
    "sum(pois['jobs'])"
   ]
  },
  {
   "cell_type": "code",
   "execution_count": 229,
   "id": "c5305521",
   "metadata": {},
   "outputs": [
    {
     "data": {
      "text/plain": [
       "0.932273971102257"
      ]
     },
     "execution_count": 229,
     "metadata": {},
     "output_type": "execute_result"
    }
   ],
   "source": [
    "sum(output_areas['All people'])/np.nansum(pois['jobs'])"
   ]
  },
  {
   "cell_type": "code",
   "execution_count": 232,
   "id": "23136118",
   "metadata": {},
   "outputs": [
    {
     "data": {
      "text/html": [
       "<div>\n",
       "<style scoped>\n",
       "    .dataframe tbody tr th:only-of-type {\n",
       "        vertical-align: middle;\n",
       "    }\n",
       "\n",
       "    .dataframe tbody tr th {\n",
       "        vertical-align: top;\n",
       "    }\n",
       "\n",
       "    .dataframe thead th {\n",
       "        text-align: right;\n",
       "    }\n",
       "</style>\n",
       "<table border=\"1\" class=\"dataframe\">\n",
       "  <thead>\n",
       "    <tr style=\"text-align: right;\">\n",
       "      <th></th>\n",
       "      <th>created_by</th>\n",
       "      <th>geometry</th>\n",
       "      <th>addr:city</th>\n",
       "      <th>addr:housenumber</th>\n",
       "      <th>addr:postcode</th>\n",
       "      <th>addr:street</th>\n",
       "      <th>amenity</th>\n",
       "      <th>name</th>\n",
       "      <th>opening_hours</th>\n",
       "      <th>ref:pol_id</th>\n",
       "      <th>...</th>\n",
       "      <th>name:pa</th>\n",
       "      <th>name:pms</th>\n",
       "      <th>name:yo</th>\n",
       "      <th>max_level</th>\n",
       "      <th>min_level</th>\n",
       "      <th>orig_geometry</th>\n",
       "      <th>TAG</th>\n",
       "      <th>jobs</th>\n",
       "      <th>2001 flows from all UK to Scotland OAs_Sum of Interaction data&lt;br&gt;2001 STS Level 3&lt;br&gt;[Total] Total persons (inc. those who do not work or study)</th>\n",
       "      <th>category</th>\n",
       "    </tr>\n",
       "  </thead>\n",
       "  <tbody>\n",
       "    <tr>\n",
       "      <th>13273</th>\n",
       "      <td>NaN</td>\n",
       "      <td>POINT (481834.111 6193120.080)</td>\n",
       "      <td>NaN</td>\n",
       "      <td>NaN</td>\n",
       "      <td>NaN</td>\n",
       "      <td>NaN</td>\n",
       "      <td>NaN</td>\n",
       "      <td>NaN</td>\n",
       "      <td>NaN</td>\n",
       "      <td>NaN</td>\n",
       "      <td>...</td>\n",
       "      <td>NaN</td>\n",
       "      <td>NaN</td>\n",
       "      <td>NaN</td>\n",
       "      <td>NaN</td>\n",
       "      <td>NaN</td>\n",
       "      <td>None</td>\n",
       "      <td>60QP000003</td>\n",
       "      <td>87.0</td>\n",
       "      <td>87</td>\n",
       "      <td>employment</td>\n",
       "    </tr>\n",
       "    <tr>\n",
       "      <th>16592</th>\n",
       "      <td>NaN</td>\n",
       "      <td>POINT (477996.035 6189600.883)</td>\n",
       "      <td>NaN</td>\n",
       "      <td>NaN</td>\n",
       "      <td>NaN</td>\n",
       "      <td>NaN</td>\n",
       "      <td>NaN</td>\n",
       "      <td>NaN</td>\n",
       "      <td>NaN</td>\n",
       "      <td>NaN</td>\n",
       "      <td>...</td>\n",
       "      <td>NaN</td>\n",
       "      <td>NaN</td>\n",
       "      <td>NaN</td>\n",
       "      <td>NaN</td>\n",
       "      <td>NaN</td>\n",
       "      <td>None</td>\n",
       "      <td>60QP003322</td>\n",
       "      <td>58.0</td>\n",
       "      <td>58</td>\n",
       "      <td>employment</td>\n",
       "    </tr>\n",
       "    <tr>\n",
       "      <th>16593</th>\n",
       "      <td>NaN</td>\n",
       "      <td>POINT (475767.250 6190986.391)</td>\n",
       "      <td>NaN</td>\n",
       "      <td>NaN</td>\n",
       "      <td>NaN</td>\n",
       "      <td>NaN</td>\n",
       "      <td>NaN</td>\n",
       "      <td>NaN</td>\n",
       "      <td>NaN</td>\n",
       "      <td>NaN</td>\n",
       "      <td>...</td>\n",
       "      <td>NaN</td>\n",
       "      <td>NaN</td>\n",
       "      <td>NaN</td>\n",
       "      <td>NaN</td>\n",
       "      <td>NaN</td>\n",
       "      <td>None</td>\n",
       "      <td>60QP003323</td>\n",
       "      <td>50.0</td>\n",
       "      <td>50</td>\n",
       "      <td>employment</td>\n",
       "    </tr>\n",
       "    <tr>\n",
       "      <th>15740</th>\n",
       "      <td>NaN</td>\n",
       "      <td>POINT (478423.940 6192181.448)</td>\n",
       "      <td>NaN</td>\n",
       "      <td>NaN</td>\n",
       "      <td>NaN</td>\n",
       "      <td>NaN</td>\n",
       "      <td>NaN</td>\n",
       "      <td>NaN</td>\n",
       "      <td>NaN</td>\n",
       "      <td>NaN</td>\n",
       "      <td>...</td>\n",
       "      <td>NaN</td>\n",
       "      <td>NaN</td>\n",
       "      <td>NaN</td>\n",
       "      <td>NaN</td>\n",
       "      <td>NaN</td>\n",
       "      <td>None</td>\n",
       "      <td>60QP002470</td>\n",
       "      <td>40.0</td>\n",
       "      <td>40</td>\n",
       "      <td>employment</td>\n",
       "    </tr>\n",
       "    <tr>\n",
       "      <th>15738</th>\n",
       "      <td>NaN</td>\n",
       "      <td>POINT (478517.228 6192321.953)</td>\n",
       "      <td>NaN</td>\n",
       "      <td>NaN</td>\n",
       "      <td>NaN</td>\n",
       "      <td>NaN</td>\n",
       "      <td>NaN</td>\n",
       "      <td>NaN</td>\n",
       "      <td>NaN</td>\n",
       "      <td>NaN</td>\n",
       "      <td>...</td>\n",
       "      <td>NaN</td>\n",
       "      <td>NaN</td>\n",
       "      <td>NaN</td>\n",
       "      <td>NaN</td>\n",
       "      <td>NaN</td>\n",
       "      <td>None</td>\n",
       "      <td>60QP002468</td>\n",
       "      <td>49.0</td>\n",
       "      <td>49</td>\n",
       "      <td>employment</td>\n",
       "    </tr>\n",
       "    <tr>\n",
       "      <th>...</th>\n",
       "      <td>...</td>\n",
       "      <td>...</td>\n",
       "      <td>...</td>\n",
       "      <td>...</td>\n",
       "      <td>...</td>\n",
       "      <td>...</td>\n",
       "      <td>...</td>\n",
       "      <td>...</td>\n",
       "      <td>...</td>\n",
       "      <td>...</td>\n",
       "      <td>...</td>\n",
       "      <td>...</td>\n",
       "      <td>...</td>\n",
       "      <td>...</td>\n",
       "      <td>...</td>\n",
       "      <td>...</td>\n",
       "      <td>...</td>\n",
       "      <td>...</td>\n",
       "      <td>...</td>\n",
       "      <td>...</td>\n",
       "      <td>...</td>\n",
       "    </tr>\n",
       "    <tr>\n",
       "      <th>13734</th>\n",
       "      <td>NaN</td>\n",
       "      <td>POINT (483983.913 6203354.954)</td>\n",
       "      <td>NaN</td>\n",
       "      <td>NaN</td>\n",
       "      <td>NaN</td>\n",
       "      <td>NaN</td>\n",
       "      <td>NaN</td>\n",
       "      <td>NaN</td>\n",
       "      <td>NaN</td>\n",
       "      <td>NaN</td>\n",
       "      <td>...</td>\n",
       "      <td>NaN</td>\n",
       "      <td>NaN</td>\n",
       "      <td>NaN</td>\n",
       "      <td>NaN</td>\n",
       "      <td>NaN</td>\n",
       "      <td>None</td>\n",
       "      <td>60QP000464</td>\n",
       "      <td>98.0</td>\n",
       "      <td>98</td>\n",
       "      <td>employment</td>\n",
       "    </tr>\n",
       "    <tr>\n",
       "      <th>13733</th>\n",
       "      <td>NaN</td>\n",
       "      <td>POINT (483135.483 6203448.139)</td>\n",
       "      <td>NaN</td>\n",
       "      <td>NaN</td>\n",
       "      <td>NaN</td>\n",
       "      <td>NaN</td>\n",
       "      <td>NaN</td>\n",
       "      <td>NaN</td>\n",
       "      <td>NaN</td>\n",
       "      <td>NaN</td>\n",
       "      <td>...</td>\n",
       "      <td>NaN</td>\n",
       "      <td>NaN</td>\n",
       "      <td>NaN</td>\n",
       "      <td>NaN</td>\n",
       "      <td>NaN</td>\n",
       "      <td>None</td>\n",
       "      <td>60QP000463</td>\n",
       "      <td>139.0</td>\n",
       "      <td>139</td>\n",
       "      <td>employment</td>\n",
       "    </tr>\n",
       "    <tr>\n",
       "      <th>13890</th>\n",
       "      <td>NaN</td>\n",
       "      <td>POINT (484764.611 6203926.963)</td>\n",
       "      <td>NaN</td>\n",
       "      <td>NaN</td>\n",
       "      <td>NaN</td>\n",
       "      <td>NaN</td>\n",
       "      <td>NaN</td>\n",
       "      <td>NaN</td>\n",
       "      <td>NaN</td>\n",
       "      <td>NaN</td>\n",
       "      <td>...</td>\n",
       "      <td>NaN</td>\n",
       "      <td>NaN</td>\n",
       "      <td>NaN</td>\n",
       "      <td>NaN</td>\n",
       "      <td>NaN</td>\n",
       "      <td>None</td>\n",
       "      <td>60QP000620</td>\n",
       "      <td>668.0</td>\n",
       "      <td>668</td>\n",
       "      <td>employment</td>\n",
       "    </tr>\n",
       "    <tr>\n",
       "      <th>13735</th>\n",
       "      <td>NaN</td>\n",
       "      <td>POINT (483801.068 6203734.002)</td>\n",
       "      <td>NaN</td>\n",
       "      <td>NaN</td>\n",
       "      <td>NaN</td>\n",
       "      <td>NaN</td>\n",
       "      <td>NaN</td>\n",
       "      <td>NaN</td>\n",
       "      <td>NaN</td>\n",
       "      <td>NaN</td>\n",
       "      <td>...</td>\n",
       "      <td>NaN</td>\n",
       "      <td>NaN</td>\n",
       "      <td>NaN</td>\n",
       "      <td>NaN</td>\n",
       "      <td>NaN</td>\n",
       "      <td>None</td>\n",
       "      <td>60QP000465</td>\n",
       "      <td>1120.0</td>\n",
       "      <td>1120</td>\n",
       "      <td>employment</td>\n",
       "    </tr>\n",
       "    <tr>\n",
       "      <th>13725</th>\n",
       "      <td>NaN</td>\n",
       "      <td>POINT (482332.599 6203345.433)</td>\n",
       "      <td>NaN</td>\n",
       "      <td>NaN</td>\n",
       "      <td>NaN</td>\n",
       "      <td>NaN</td>\n",
       "      <td>NaN</td>\n",
       "      <td>NaN</td>\n",
       "      <td>NaN</td>\n",
       "      <td>NaN</td>\n",
       "      <td>...</td>\n",
       "      <td>NaN</td>\n",
       "      <td>NaN</td>\n",
       "      <td>NaN</td>\n",
       "      <td>NaN</td>\n",
       "      <td>NaN</td>\n",
       "      <td>None</td>\n",
       "      <td>60QP000455</td>\n",
       "      <td>103.0</td>\n",
       "      <td>103</td>\n",
       "      <td>employment</td>\n",
       "    </tr>\n",
       "  </tbody>\n",
       "</table>\n",
       "<p>3974 rows × 450 columns</p>\n",
       "</div>"
      ],
      "text/plain": [
       "      created_by                        geometry addr:city addr:housenumber  \\\n",
       "13273        NaN  POINT (481834.111 6193120.080)       NaN              NaN   \n",
       "16592        NaN  POINT (477996.035 6189600.883)       NaN              NaN   \n",
       "16593        NaN  POINT (475767.250 6190986.391)       NaN              NaN   \n",
       "15740        NaN  POINT (478423.940 6192181.448)       NaN              NaN   \n",
       "15738        NaN  POINT (478517.228 6192321.953)       NaN              NaN   \n",
       "...          ...                             ...       ...              ...   \n",
       "13734        NaN  POINT (483983.913 6203354.954)       NaN              NaN   \n",
       "13733        NaN  POINT (483135.483 6203448.139)       NaN              NaN   \n",
       "13890        NaN  POINT (484764.611 6203926.963)       NaN              NaN   \n",
       "13735        NaN  POINT (483801.068 6203734.002)       NaN              NaN   \n",
       "13725        NaN  POINT (482332.599 6203345.433)       NaN              NaN   \n",
       "\n",
       "      addr:postcode addr:street amenity name opening_hours ref:pol_id  ...  \\\n",
       "13273           NaN         NaN     NaN  NaN           NaN        NaN  ...   \n",
       "16592           NaN         NaN     NaN  NaN           NaN        NaN  ...   \n",
       "16593           NaN         NaN     NaN  NaN           NaN        NaN  ...   \n",
       "15740           NaN         NaN     NaN  NaN           NaN        NaN  ...   \n",
       "15738           NaN         NaN     NaN  NaN           NaN        NaN  ...   \n",
       "...             ...         ...     ...  ...           ...        ...  ...   \n",
       "13734           NaN         NaN     NaN  NaN           NaN        NaN  ...   \n",
       "13733           NaN         NaN     NaN  NaN           NaN        NaN  ...   \n",
       "13890           NaN         NaN     NaN  NaN           NaN        NaN  ...   \n",
       "13735           NaN         NaN     NaN  NaN           NaN        NaN  ...   \n",
       "13725           NaN         NaN     NaN  NaN           NaN        NaN  ...   \n",
       "\n",
       "      name:pa name:pms name:yo max_level min_level orig_geometry         TAG  \\\n",
       "13273     NaN      NaN     NaN       NaN       NaN          None  60QP000003   \n",
       "16592     NaN      NaN     NaN       NaN       NaN          None  60QP003322   \n",
       "16593     NaN      NaN     NaN       NaN       NaN          None  60QP003323   \n",
       "15740     NaN      NaN     NaN       NaN       NaN          None  60QP002470   \n",
       "15738     NaN      NaN     NaN       NaN       NaN          None  60QP002468   \n",
       "...       ...      ...     ...       ...       ...           ...         ...   \n",
       "13734     NaN      NaN     NaN       NaN       NaN          None  60QP000464   \n",
       "13733     NaN      NaN     NaN       NaN       NaN          None  60QP000463   \n",
       "13890     NaN      NaN     NaN       NaN       NaN          None  60QP000620   \n",
       "13735     NaN      NaN     NaN       NaN       NaN          None  60QP000465   \n",
       "13725     NaN      NaN     NaN       NaN       NaN          None  60QP000455   \n",
       "\n",
       "         jobs  \\\n",
       "13273    87.0   \n",
       "16592    58.0   \n",
       "16593    50.0   \n",
       "15740    40.0   \n",
       "15738    49.0   \n",
       "...       ...   \n",
       "13734    98.0   \n",
       "13733   139.0   \n",
       "13890   668.0   \n",
       "13735  1120.0   \n",
       "13725   103.0   \n",
       "\n",
       "      2001 flows from all UK to Scotland OAs_Sum of Interaction data<br>2001 STS Level 3<br>[Total] Total persons (inc. those who do not work or study)  \\\n",
       "13273                                                 87                                                                                                  \n",
       "16592                                                 58                                                                                                  \n",
       "16593                                                 50                                                                                                  \n",
       "15740                                                 40                                                                                                  \n",
       "15738                                                 49                                                                                                  \n",
       "...                                                  ...                                                                                                  \n",
       "13734                                                 98                                                                                                  \n",
       "13733                                                139                                                                                                  \n",
       "13890                                                668                                                                                                  \n",
       "13735                                               1120                                                                                                  \n",
       "13725                                                103                                                                                                  \n",
       "\n",
       "         category  \n",
       "13273  employment  \n",
       "16592  employment  \n",
       "16593  employment  \n",
       "15740  employment  \n",
       "15738  employment  \n",
       "...           ...  \n",
       "13734  employment  \n",
       "13733  employment  \n",
       "13890  employment  \n",
       "13735  employment  \n",
       "13725  employment  \n",
       "\n",
       "[3974 rows x 450 columns]"
      ]
     },
     "execution_count": 232,
     "metadata": {},
     "output_type": "execute_result"
    }
   ],
   "source": [
    "pois[pois['jobs']>0]"
   ]
  },
  {
   "cell_type": "markdown",
   "id": "bf6ceeac",
   "metadata": {},
   "source": [
    "## Cycling"
   ]
  },
  {
   "cell_type": "code",
   "execution_count": 18,
   "id": "b3d49f3f",
   "metadata": {},
   "outputs": [],
   "source": [
    "C = ox.graph_from_place(place, network_type='bike')"
   ]
  },
  {
   "cell_type": "code",
   "execution_count": 19,
   "id": "55e2b7d3",
   "metadata": {},
   "outputs": [],
   "source": [
    "# Get nodes and edges as geodataframes (gdfs) from OSMNX network\n",
    "graph_df = ox.graph_to_gdfs(C)\n",
    "nodes_gdfs = graph_df[0]\n",
    "edges_gdfs = graph_df[1]"
   ]
  },
  {
   "cell_type": "code",
   "execution_count": 20,
   "id": "923c2c80",
   "metadata": {},
   "outputs": [],
   "source": [
    "edges_gdfs = edges_gdfs.to_crs(proj_crs)\n",
    "nodes_gdfs = nodes_gdfs.to_crs(proj_crs)"
   ]
  },
  {
   "cell_type": "code",
   "execution_count": 21,
   "id": "9bb42243",
   "metadata": {},
   "outputs": [],
   "source": [
    "# with new OSMnx graph from polygon seems to be different\n",
    "edges_gdfs = edges_gdfs.reset_index()\n",
    "# Setting indices of Edges gdfs to match expected dataframe for Pandana\n",
    "edges_gdfs['from_idx'] = edges_gdfs['u']\n",
    "edges_gdfs['to_idx'] = edges_gdfs['v']\n",
    "edges_gdfs= edges_gdfs.set_index(['from_idx', 'to_idx'])\n",
    "edges_gdfs.index.names= ['','']\n",
    "\n",
    "# Setting indices of Nodes gdfs to match expected dataframe for Pandana\n",
    "nodes_gdfs.index.name = 'id'\n",
    "# Create a pandana network with data extracted from an OSMNX graph\n",
    "cycle_network = pdna.Network(nodes_gdfs.geometry.x, nodes_gdfs.geometry.y,\n",
    "                                   edges_gdfs['u'], edges_gdfs['v'], \n",
    "                                   edges_gdfs[['length']])"
   ]
  },
  {
   "cell_type": "code",
   "execution_count": 30,
   "id": "3d29738a",
   "metadata": {},
   "outputs": [
    {
     "name": "stderr",
     "output_type": "stream",
     "text": [
      "<ipython-input-30-b86ea2175afd>:1: SettingWithCopyWarning: \n",
      "A value is trying to be set on a copy of a slice from a DataFrame\n",
      "\n",
      "See the caveats in the documentation: https://pandas.pydata.org/pandas-docs/stable/user_guide/indexing.html#returning-a-view-versus-a-copy\n",
      "  poi_nums['employment'] = 1200\n"
     ]
    }
   ],
   "source": [
    "poi_nums['employment'] = 1200\n",
    "cycle_gammas = poi_gammas.copy()\n",
    "cycle_gammas = cycle_gammas.replace(to_replace=0.001, value=0.0002)\n",
    "cycle_dist = 12000"
   ]
  },
  {
   "cell_type": "code",
   "execution_count": 29,
   "id": "8bba7314",
   "metadata": {},
   "outputs": [
    {
     "data": {
      "text/plain": [
       "(511251.0, 3974)"
      ]
     },
     "execution_count": 29,
     "metadata": {},
     "output_type": "execute_result"
    }
   ],
   "source": [
    "sum(pois[pois['category']=='employment'].jobs), len(pois[pois['category']=='employment'])"
   ]
  },
  {
   "cell_type": "markdown",
   "id": "17ecb7ec",
   "metadata": {},
   "source": [
    "### Pandana network querying. "
   ]
  },
  {
   "cell_type": "code",
   "execution_count": 31,
   "id": "fa68719a",
   "metadata": {},
   "outputs": [
    {
     "name": "stderr",
     "output_type": "stream",
     "text": [
      "C:\\Users\\z3258367\\Anaconda3\\envs\\ox\\lib\\site-packages\\pandana\\network.py:660: FutureWarning: The default dtype for empty Series will be 'object' instead of 'float64' in a future version. Specify a dtype explicitly to silence this warning.\n",
      "  elif isinstance(maxitems, type(pd.Series())):\n",
      "C:\\Users\\z3258367\\Anaconda3\\envs\\ox\\lib\\site-packages\\pandana\\network.py:668: FutureWarning: The default dtype for empty Series will be 'object' instead of 'float64' in a future version. Specify a dtype explicitly to silence this warning.\n",
      "  elif isinstance(maxdist, type(pd.Series())):\n"
     ]
    },
    {
     "name": "stdout",
     "output_type": "stream",
     "text": [
      "Finished category: employment\n",
      "Maximum score: 28.980741772852703 out of 31.9\n"
     ]
    },
    {
     "name": "stderr",
     "output_type": "stream",
     "text": [
      "C:\\Users\\z3258367\\Anaconda3\\envs\\ox\\lib\\site-packages\\pandana\\network.py:660: FutureWarning: The default dtype for empty Series will be 'object' instead of 'float64' in a future version. Specify a dtype explicitly to silence this warning.\n",
      "  elif isinstance(maxitems, type(pd.Series())):\n",
      "C:\\Users\\z3258367\\Anaconda3\\envs\\ox\\lib\\site-packages\\pandana\\network.py:668: FutureWarning: The default dtype for empty Series will be 'object' instead of 'float64' in a future version. Specify a dtype explicitly to silence this warning.\n",
      "  elif isinstance(maxdist, type(pd.Series())):\n"
     ]
    },
    {
     "name": "stdout",
     "output_type": "stream",
     "text": [
      "Finished category: education\n",
      "Maximum score: 13.697803281833789 out of 14.3\n"
     ]
    },
    {
     "name": "stderr",
     "output_type": "stream",
     "text": [
      "C:\\Users\\z3258367\\Anaconda3\\envs\\ox\\lib\\site-packages\\pandana\\network.py:660: FutureWarning: The default dtype for empty Series will be 'object' instead of 'float64' in a future version. Specify a dtype explicitly to silence this warning.\n",
      "  elif isinstance(maxitems, type(pd.Series())):\n",
      "C:\\Users\\z3258367\\Anaconda3\\envs\\ox\\lib\\site-packages\\pandana\\network.py:668: FutureWarning: The default dtype for empty Series will be 'object' instead of 'float64' in a future version. Specify a dtype explicitly to silence this warning.\n",
      "  elif isinstance(maxdist, type(pd.Series())):\n"
     ]
    },
    {
     "name": "stdout",
     "output_type": "stream",
     "text": [
      "Finished category: shopping\n",
      "Maximum score: 21.48620417302876 out of 21.6\n"
     ]
    },
    {
     "name": "stderr",
     "output_type": "stream",
     "text": [
      "C:\\Users\\z3258367\\Anaconda3\\envs\\ox\\lib\\site-packages\\pandana\\network.py:660: FutureWarning: The default dtype for empty Series will be 'object' instead of 'float64' in a future version. Specify a dtype explicitly to silence this warning.\n",
      "  elif isinstance(maxitems, type(pd.Series())):\n",
      "C:\\Users\\z3258367\\Anaconda3\\envs\\ox\\lib\\site-packages\\pandana\\network.py:668: FutureWarning: The default dtype for empty Series will be 'object' instead of 'float64' in a future version. Specify a dtype explicitly to silence this warning.\n",
      "  elif isinstance(maxdist, type(pd.Series())):\n"
     ]
    },
    {
     "name": "stdout",
     "output_type": "stream",
     "text": [
      "Finished category: errands\n",
      "Maximum score: 8.853429088088712 out of 8.9\n"
     ]
    },
    {
     "name": "stderr",
     "output_type": "stream",
     "text": [
      "C:\\Users\\z3258367\\Anaconda3\\envs\\ox\\lib\\site-packages\\pandana\\network.py:660: FutureWarning: The default dtype for empty Series will be 'object' instead of 'float64' in a future version. Specify a dtype explicitly to silence this warning.\n",
      "  elif isinstance(maxitems, type(pd.Series())):\n",
      "C:\\Users\\z3258367\\Anaconda3\\envs\\ox\\lib\\site-packages\\pandana\\network.py:668: FutureWarning: The default dtype for empty Series will be 'object' instead of 'float64' in a future version. Specify a dtype explicitly to silence this warning.\n",
      "  elif isinstance(maxdist, type(pd.Series())):\n"
     ]
    },
    {
     "name": "stdout",
     "output_type": "stream",
     "text": [
      "Finished category: recreation\n",
      "Maximum score: 23.200015149850245 out of 23.3\n"
     ]
    }
   ],
   "source": [
    "cycle_results = there_index_osmnx(cycle_network, pois, poi_dictionary, poi_weights, cycle_gammas,\n",
    "                            poi_nums, poi_lambdas, poi_variables, distance = cycle_dist)"
   ]
  },
  {
   "cell_type": "code",
   "execution_count": 32,
   "id": "1eed29b1",
   "metadata": {},
   "outputs": [
    {
     "data": {
      "text/plain": [
       "(95.31391076813019, 79.04373053509768)"
      ]
     },
     "execution_count": 32,
     "metadata": {},
     "output_type": "execute_result"
    }
   ],
   "source": [
    "max(cycle_results['THERE_Index']), np.mean(cycle_results['THERE_Index'])"
   ]
  },
  {
   "cell_type": "code",
   "execution_count": 297,
   "id": "8354462d",
   "metadata": {},
   "outputs": [
    {
     "data": {
      "text/plain": [
       "(74.3881564759088, 84.92335159776383)"
      ]
     },
     "execution_count": 297,
     "metadata": {},
     "output_type": "execute_result"
    }
   ],
   "source": [
    "max(results['THERE_Index']), max(cycle_results['THERE_Index'])"
   ]
  },
  {
   "cell_type": "code",
   "execution_count": 298,
   "id": "f64f045c",
   "metadata": {},
   "outputs": [
    {
     "data": {
      "text/plain": [
       "(40.695518372495044, 59.09586332339536)"
      ]
     },
     "execution_count": 298,
     "metadata": {},
     "output_type": "execute_result"
    }
   ],
   "source": [
    "np.mean(results['THERE_Index']), np.mean(cycle_results['THERE_Index'])"
   ]
  },
  {
   "cell_type": "code",
   "execution_count": 190,
   "id": "a0dfdda1",
   "metadata": {},
   "outputs": [],
   "source": [
    "small_c_results = gpd.GeoDataFrame(result_rounding(cycle_results).drop_duplicates(subset=['x','y']).add_suffix('_cycle'), \n",
    "                                   geometry = gpd.GeoSeries.from_xy(cycle_results.x, cycle_results.y, crs=proj_crs))"
   ]
  },
  {
   "cell_type": "code",
   "execution_count": 395,
   "id": "cb1c66f4",
   "metadata": {},
   "outputs": [
    {
     "data": {
      "text/plain": [
       "58043.0"
      ]
     },
     "execution_count": 395,
     "metadata": {},
     "output_type": "execute_result"
    }
   ],
   "source": [
    "max(small_c_results.jobs)"
   ]
  },
  {
   "cell_type": "code",
   "execution_count": 34,
   "id": "85799265",
   "metadata": {},
   "outputs": [
    {
     "data": {
      "text/plain": [
       "144663.0"
      ]
     },
     "execution_count": 34,
     "metadata": {},
     "output_type": "execute_result"
    }
   ],
   "source": [
    "max(small_c_results.jobs)"
   ]
  },
  {
   "cell_type": "markdown",
   "id": "780337bc",
   "metadata": {},
   "source": [
    "## Driving"
   ]
  },
  {
   "cell_type": "code",
   "execution_count": 100,
   "id": "43b8f169",
   "metadata": {},
   "outputs": [],
   "source": [
    "D = ox.graph_from_place(place, network_type='drive')"
   ]
  },
  {
   "cell_type": "code",
   "execution_count": 101,
   "id": "2770c66f",
   "metadata": {},
   "outputs": [],
   "source": [
    "# Get nodes and edges as geodataframes (gdfs) from OSMNX network\n",
    "graph_df = ox.graph_to_gdfs(D)\n",
    "nodes_gdfs = graph_df[0]\n",
    "edges_gdfs = graph_df[1]"
   ]
  },
  {
   "cell_type": "code",
   "execution_count": 102,
   "id": "80e3875e",
   "metadata": {},
   "outputs": [],
   "source": [
    "edges_gdfs = edges_gdfs.to_crs(proj_crs)\n",
    "nodes_gdfs = nodes_gdfs.to_crs(proj_crs)"
   ]
  },
  {
   "cell_type": "code",
   "execution_count": 103,
   "id": "ca5759c0",
   "metadata": {},
   "outputs": [],
   "source": [
    "# with new OSMnx graph from polygon seems to be different\n",
    "edges_gdfs = edges_gdfs.reset_index()\n",
    "# Setting indices of Edges gdfs to match expected dataframe for Pandana\n",
    "edges_gdfs['from_idx'] = edges_gdfs['u']\n",
    "edges_gdfs['to_idx'] = edges_gdfs['v']\n",
    "edges_gdfs= edges_gdfs.set_index(['from_idx', 'to_idx'])\n",
    "edges_gdfs.index.names= ['','']\n",
    "\n",
    "# Setting indices of Nodes gdfs to match expected dataframe for Pandana\n",
    "nodes_gdfs.index.name = 'id'\n",
    "# Create a pandana network with data extracted from an OSMNX graph\n",
    "drive_network = pdna.Network(nodes_gdfs.geometry.x, nodes_gdfs.geometry.y,\n",
    "                                   edges_gdfs['u'], edges_gdfs['v'], \n",
    "                                   edges_gdfs[['length']])"
   ]
  },
  {
   "cell_type": "code",
   "execution_count": 104,
   "id": "3834876d",
   "metadata": {},
   "outputs": [],
   "source": [
    "poi_nums['employment'] = 1200\n",
    "drive_gammas = poi_gammas.copy()\n",
    "drive_gammas = drive_gammas.replace(to_replace=0.001, value=0.0001)\n",
    "drive_dist = 24000"
   ]
  },
  {
   "cell_type": "markdown",
   "id": "1d8a97b8",
   "metadata": {},
   "source": [
    "### Pandana network querying. "
   ]
  },
  {
   "cell_type": "code",
   "execution_count": 105,
   "id": "1c470618",
   "metadata": {},
   "outputs": [
    {
     "name": "stdout",
     "output_type": "stream",
     "text": [
      "Finished category: employment\n",
      "Maximum score: 29.915538935348426 out of 31.9\n",
      "Finished category: education\n",
      "Maximum score: 13.969273727938328 out of 14.3\n",
      "Finished category: shopping\n",
      "Maximum score: 21.504332376112938 out of 21.6\n",
      "Finished category: errands\n",
      "Maximum score: 8.858566773869837 out of 8.9\n",
      "Finished category: recreation\n",
      "Maximum score: 23.200015149850245 out of 23.3\n"
     ]
    }
   ],
   "source": [
    "drive_results = there_index_osmnx(drive_network, pois, poi_dictionary, poi_weights, drive_gammas,\n",
    "                            poi_nums, poi_lambdas, poi_variables, distance = drive_dist)"
   ]
  },
  {
   "cell_type": "code",
   "execution_count": 106,
   "id": "032a8708",
   "metadata": {},
   "outputs": [
    {
     "data": {
      "text/plain": [
       "(97.0675105801912, 89.16878934854581)"
      ]
     },
     "execution_count": 106,
     "metadata": {},
     "output_type": "execute_result"
    }
   ],
   "source": [
    "max(drive_results['THERE_Index']), np.mean(drive_results['THERE_Index'])"
   ]
  },
  {
   "cell_type": "code",
   "execution_count": 107,
   "id": "af79a148",
   "metadata": {},
   "outputs": [
    {
     "data": {
      "text/plain": [
       "(94.36550792837683, 95.31391076813019)"
      ]
     },
     "execution_count": 107,
     "metadata": {},
     "output_type": "execute_result"
    }
   ],
   "source": [
    "max(results['THERE_Index']), max(cycle_results['THERE_Index'])"
   ]
  },
  {
   "cell_type": "code",
   "execution_count": 108,
   "id": "8d0a2280",
   "metadata": {},
   "outputs": [
    {
     "data": {
      "text/plain": [
       "(75.9478957235696, 79.04373053509768, 89.16878934854581)"
      ]
     },
     "execution_count": 108,
     "metadata": {},
     "output_type": "execute_result"
    }
   ],
   "source": [
    "np.mean(results['THERE_Index']), np.mean(cycle_results['THERE_Index']), np.mean(drive_results['THERE_Index'])"
   ]
  },
  {
   "cell_type": "code",
   "execution_count": 195,
   "id": "dfbb707f",
   "metadata": {},
   "outputs": [],
   "source": [
    "small_d_results = gpd.GeoDataFrame(result_rounding(drive_results).drop_duplicates(subset=['x','y']).add_suffix('_drive'), \n",
    "                                   geometry = gpd.GeoSeries.from_xy(drive_results.x, drive_results.y, crs=proj_crs))        "
   ]
  },
  {
   "cell_type": "code",
   "execution_count": 110,
   "id": "244db137",
   "metadata": {},
   "outputs": [
    {
     "data": {
      "text/plain": [
       "168013.0"
      ]
     },
     "execution_count": 110,
     "metadata": {},
     "output_type": "execute_result"
    }
   ],
   "source": [
    "max(small_d_results.jobs)"
   ]
  },
  {
   "cell_type": "code",
   "execution_count": 34,
   "id": "10e32154",
   "metadata": {},
   "outputs": [
    {
     "data": {
      "text/plain": [
       "144663.0"
      ]
     },
     "execution_count": 34,
     "metadata": {},
     "output_type": "execute_result"
    }
   ],
   "source": [
    "max(small_c_results.jobs)"
   ]
  },
  {
   "cell_type": "markdown",
   "id": "ed59b6cd",
   "metadata": {},
   "source": [
    "## Public Transport"
   ]
  },
  {
   "cell_type": "code",
   "execution_count": 35,
   "id": "c329b286",
   "metadata": {},
   "outputs": [],
   "source": [
    "import urbanaccess as ua\n",
    "from urbanaccess.config import settings\n",
    "from urbanaccess.gtfsfeeds import feeds\n",
    "from urbanaccess import gtfsfeeds\n",
    "from urbanaccess.gtfs.gtfsfeeds_dataframe import gtfsfeeds_dfs\n",
    "from urbanaccess.network import ua_network, load_network"
   ]
  },
  {
   "cell_type": "markdown",
   "id": "ae2d1ff2",
   "metadata": {},
   "source": [
    "Found feeds on transit land https://www.transit.land/operators?adm1_name=Edinburgh&adm0_name=United%20Kingdom But all the bus and tram ones actually refer to the same source feed which is convenient, although extremely large and slow to process as it includes ~1000 bus operators in the UK.\n",
    "\n",
    "The train one hasn't been updated since April 2021 but that's the best I can find. Mobility Database Catalogs doesn't have anything useful. Train release data only in CIF format, it appears https://data.atoc.org/how-to https://datafeeds.networkrail.co.uk/ntrod/. Previous data converted by https://planar.network/projects/feeds"
   ]
  },
  {
   "cell_type": "code",
   "execution_count": 84,
   "id": "ce3847a5",
   "metadata": {},
   "outputs": [
    {
     "name": "stderr",
     "output_type": "stream",
     "text": [
      "<>:4: DeprecationWarning: invalid escape sequence \\O\n",
      "<>:4: DeprecationWarning: invalid escape sequence \\O\n",
      "<ipython-input-84-7d8abde32d9b>:4: DeprecationWarning: invalid escape sequence \\O\n",
      "  loaded_feeds = ua.gtfs.load.gtfsfeed_to_df(gtfsfeed_path=(folder + \"Walkability\\Other Cities\\Colouring data & results\\Edinburgh Data\\GTFS\"),\n"
     ]
    },
    {
     "name": "stdout",
     "output_type": "stream",
     "text": [
      "Checking GTFS text file header whitespace... Reading files using encoding: utf-8 set in configuration.\n",
      "GTFS text file header whitespace check completed. Took 21.33 seconds\n",
      "--------------------------------\n",
      "Processing GTFS feed: gb-rail-latest\n",
      "GTFS feed: gb-rail-latest, calendar_dates uses the same service_id across multiple agency_ids. This feed calendar_dates table will be modified from its original format to provide service_ids for each agency using a one to many join\n",
      "GTFS feed: gb-rail-latest, calendar uses the same service_id across multiple agency_ids. This feed calendar table will be modified from its original format to provide service_ids for each agency using a one to many join\n",
      "GTFS feed: gb-rail-latest, stops uses the same stop_id across multiple agency_ids. This feed stops table will be modified from its original format to provide stop_ids for each agency using a one to many join\n",
      "agency.txt agency_name column has more than one agency name listed. Unique agency id was assigned using the agency id and associated agency name.\n",
      "Unique agency id operation complete. Took 41.32 seconds\n",
      "Unique GTFS feed id operation complete. Took 0.04 seconds\n",
      "WARNING: gb-rail-latest GTFS feed stops: 4,229 of 4,262 (99.23 percent of total) record(s) are outside the bounding box coordinates\n",
      "Records:\n",
      "     stop_id   unique_agency_id stop_code          stop_name  stop_desc  \\\n",
      "0        AAP      grand_central   ALEXNDP   Alexandra Palace          1   \n",
      "1        AAP         thameslink   ALEXNDP   Alexandra Palace          1   \n",
      "2        AAP         east_coast   ALEXNDP   Alexandra Palace          1   \n",
      "3        AAP     great_northern   ALEXNDP   Alexandra Palace          1   \n",
      "4        AAP  first_hull_trains   ALEXNDP   Alexandra Palace          1   \n",
      "...      ...                ...       ...                ...        ...   \n",
      "4257     ZSO                nan   CATZZSO       SOUTHWARK LT          0   \n",
      "4258     ZTG                nan   TWGWDLR   TOWER GATEWY DLR          1   \n",
      "4259     ZTL                nan   HRNSTPL  TURNPIKE LANE UND          1   \n",
      "4260     ZWT                nan   WATFLUL    WATFORD MET UND          1   \n",
      "4261     ZWY                nan   CATEZWY   WEMBLEY PARK UND          1   \n",
      "\n",
      "      stop_lat  stop_lon  zone_id  stop_url  location_type  parent_station  \\\n",
      "0     51.59792  -0.12024      NaN       NaN            NaN             NaN   \n",
      "1     51.59792  -0.12024      NaN       NaN            NaN             NaN   \n",
      "2     51.59792  -0.12024      NaN       NaN            NaN             NaN   \n",
      "3     51.59792  -0.12024      NaN       NaN            NaN             NaN   \n",
      "4     51.59792  -0.12024      NaN       NaN            NaN             NaN   \n",
      "...        ...       ...      ...       ...            ...             ...   \n",
      "4257   0.00000   0.00000      NaN       NaN            NaN             NaN   \n",
      "4258   0.00000   0.00000      NaN       NaN            NaN             NaN   \n",
      "4259   0.00000   0.00000      NaN       NaN            NaN             NaN   \n",
      "4260   0.00000   0.00000      NaN       NaN            NaN             NaN   \n",
      "4261   0.00000   0.00000      NaN       NaN            NaN             NaN   \n",
      "\n",
      "      stop_timezone  wheelchair_boarding    unique_feed_id  \n",
      "0     Europe/London                    0  gb-rail-latest_1  \n",
      "1     Europe/London                    0  gb-rail-latest_1  \n",
      "2     Europe/London                    0  gb-rail-latest_1  \n",
      "3     Europe/London                    0  gb-rail-latest_1  \n",
      "4     Europe/London                    0  gb-rail-latest_1  \n",
      "...             ...                  ...               ...  \n",
      "4257  Europe/London                    0  gb-rail-latest_1  \n",
      "4258  Europe/London                    0  gb-rail-latest_1  \n",
      "4259  Europe/London                    0  gb-rail-latest_1  \n",
      "4260  Europe/London                    0  gb-rail-latest_1  \n",
      "4261  Europe/London                    0  gb-rail-latest_1  \n",
      "\n",
      "[4229 rows x 14 columns]\n",
      "Removed identified stops that are outside of bounding box.\n",
      "gb-rail-latest GTFS feed stops: coordinates are in northwest hemisphere. Latitude = North (90); Longitude = West (-90).\n",
      "Appended route type to stops\n",
      "Appended route type to stop_times\n",
      "--------------------------------\n",
      "--------------------------------\n",
      "Processing GTFS feed: itm_all_gtfs\n",
      "GTFS feed: itm_all_gtfs, calendar_dates uses the same service_id across multiple agency_ids. This feed calendar_dates table will be modified from its original format to provide service_ids for each agency using a one to many join\n",
      "GTFS feed: itm_all_gtfs, calendar uses the same service_id across multiple agency_ids. This feed calendar table will be modified from its original format to provide service_ids for each agency using a one to many join\n",
      "GTFS feed: itm_all_gtfs, stops uses the same stop_id across multiple agency_ids. This feed stops table will be modified from its original format to provide stop_ids for each agency using a one to many join\n",
      "agency.txt agency_name column has more than one agency name listed. Unique agency id was assigned using the agency id and associated agency name.\n",
      "Unique agency id operation complete. Took 365.59 seconds\n",
      "Unique GTFS feed id operation complete. Took 0.21 seconds\n",
      "WARNING: itm_all_gtfs GTFS feed stops: 507,694 of 511,212 (99.31 percent of total) record(s) are outside the bounding box coordinates\n",
      "Records:\n",
      "             stop_id                  unique_agency_id stop_code  \\\n",
      "0       0100BRP90310                        euro_taxis   bstgwpa   \n",
      "1       0100BRP90310  first_bristol,_bath_and_the_west   bstgwpa   \n",
      "2       0100BRP90310                         hct_group   bstgwpa   \n",
      "3       0100BRP90311  first_bristol,_bath_and_the_west   bstgwpm   \n",
      "4          010000056  first_bristol,_bath_and_the_west   bstpjgw   \n",
      "...              ...                               ...       ...   \n",
      "511207    940GZZWMWB                               nan       NaN   \n",
      "511208    940GZZWMWI                               nan       NaN   \n",
      "511209    940GZZWMWP                               nan       NaN   \n",
      "511210    940GZZWMWS                               nan       NaN   \n",
      "511211    940GZZWMWW                               nan       NaN   \n",
      "\n",
      "                              stop_name   stop_lat  stop_lon  \\\n",
      "0                      Temple Meads Stn  51.449009 -2.585690   \n",
      "1                      Temple Meads Stn  51.449009 -2.585690   \n",
      "2                      Temple Meads Stn  51.449009 -2.585690   \n",
      "3                      Temple Meads Stn  51.450134 -2.585603   \n",
      "4                      Temple Meads Stn  51.449673 -2.584893   \n",
      "...                                 ...        ...       ...   \n",
      "511207            West Bromwich Central  52.516621 -1.994763   \n",
      "511208        Winson Green Outer Circle  52.498642 -1.938908   \n",
      "511209               Wednesbury Parkway  52.549503 -2.030596   \n",
      "511210        Wolverhampton St George's  52.584087 -2.124235   \n",
      "511211  Wednesbury Great Western Street  52.548550 -2.024328   \n",
      "\n",
      "        wheelchair_boarding  location_type parent_station platform_code  \\\n",
      "0                         0            0.0       010G0002           NaN   \n",
      "1                         0            0.0       010G0002           NaN   \n",
      "2                         0            0.0       010G0002           NaN   \n",
      "3                         0            0.0       010G0002           NaN   \n",
      "4                         0            0.0       010G0002           NaN   \n",
      "...                     ...            ...            ...           ...   \n",
      "511207                    0            1.0            NaN           NaN   \n",
      "511208                    0            1.0            NaN           NaN   \n",
      "511209                    0            1.0            NaN           NaN   \n",
      "511210                    0            1.0            NaN           NaN   \n",
      "511211                    0            1.0            NaN           NaN   \n",
      "\n",
      "        unique_feed_id  \n",
      "0       itm_all_gtfs_2  \n",
      "1       itm_all_gtfs_2  \n",
      "2       itm_all_gtfs_2  \n",
      "3       itm_all_gtfs_2  \n",
      "4       itm_all_gtfs_2  \n",
      "...                ...  \n",
      "511207  itm_all_gtfs_2  \n",
      "511208  itm_all_gtfs_2  \n",
      "511209  itm_all_gtfs_2  \n",
      "511210  itm_all_gtfs_2  \n",
      "511211  itm_all_gtfs_2  \n",
      "\n",
      "[507694 rows x 11 columns]\n",
      "Removed identified stops that are outside of bounding box.\n",
      "itm_all_gtfs GTFS feed stops: coordinates are in northwest hemisphere. Latitude = North (90); Longitude = West (-90).\n"
     ]
    },
    {
     "name": "stdout",
     "output_type": "stream",
     "text": [
      "Appended route type to stops\n",
      "Appended route type to stop_times\n",
      "--------------------------------\n",
      "Added descriptive definitions to stops, routes, stop_times, and trips tables\n",
      "Successfully converted ['departure_time'] to seconds past midnight and appended new columns to stop_times. Took 2.74 seconds\n",
      "2 GTFS feed file(s) successfully read as dataframes:\n",
      "     gb-rail-latest\n",
      "     itm_all_gtfs\n",
      "     Took 588.03 seconds\n"
     ]
    }
   ],
   "source": [
    "bbox = place_gdf.to_crs(\"EPSG:4326\").bounds\n",
    "bbox_points = (bbox['minx'][0], bbox['miny'][0], bbox['maxx'][0], bbox['maxy'][0])\n",
    "\n",
    "loaded_feeds = ua.gtfs.load.gtfsfeed_to_df(gtfsfeed_path=(folder + \"Walkability\\Other Cities\\Colouring data & results\\Edinburgh Data\\GTFS\"), \n",
    "                                     validation=True, \n",
    "                                     verbose=True, \n",
    "                                     bbox=bbox_points, \n",
    "                                     remove_stops_outsidebbox=True, \n",
    "                                     append_definitions=True)"
   ]
  },
  {
   "cell_type": "code",
   "execution_count": 91,
   "id": "fd1434a9",
   "metadata": {},
   "outputs": [
    {
     "name": "stdout",
     "output_type": "stream",
     "text": [
      "Using calendar to extract service_ids to select trips.\n",
      "10,091 service_ids were extracted from calendar\n",
      "509,509 trip(s) 46.71 percent of 1,090,770 total trip records were found in calendar for GTFS feed(s): ['gb-rail-latest', 'itm all gtfs']\n",
      "NOTE: If you expected more trips to have been extracted and your GTFS feed(s) have a calendar_dates file, consider utilizing the calendar_dates_lookup parameter in order to add additional trips based on information inside of calendar_dates. This should only be done if you know the corresponding GTFS feed is using calendar_dates instead of calendar to specify service_ids. When in doubt do not use the calendar_dates_lookup parameter.\n",
      "509,509 of 1,090,770 total trips were extracted representing calendar day: monday. Took 2.01 seconds\n",
      "There are no departure time records missing from trips following the specified schedule. There are no records to interpolate.\n",
      "Difference between stop times has been successfully calculated. Took 1.62 seconds\n",
      "Stop times from 07:00:00 to 10:00:00 successfully selected 58,452 records out of 324,190 total records (18.03 percent of total). Took 0.07 seconds\n",
      "Starting transformation process for 2,030 total trips...\n",
      "stop time table transformation to Pandana format edge table completed. Took 1.97 seconds\n",
      "Time conversion completed: seconds converted to minutes.\n",
      "3,246 of 3,551 records selected from stops. Took 0.01 seconds\n",
      "stop time table transformation to Pandana format node table completed. Took 0.00 seconds\n",
      "route type successfully joined to transit edges. Took 1.17 seconds\n",
      "route id successfully joined to transit edges. Took 1.28 seconds\n",
      "Successfully created transit network. Took 9.93 seconds\n"
     ]
    },
    {
     "data": {
      "text/plain": [
       "<urbanaccess.network.urbanaccess_network at 0x215dc8e0fd0>"
      ]
     },
     "execution_count": 91,
     "metadata": {},
     "output_type": "execute_result"
    }
   ],
   "source": [
    "ua.gtfs.network.create_transit_net(gtfsfeeds_dfs=loaded_feeds,\n",
    "                                   day='monday',\n",
    "                                   timerange=['07:00:00', '10:00:00'],\n",
    "                                   calendar_dates_lookup=None)"
   ]
  },
  {
   "cell_type": "code",
   "execution_count": 92,
   "id": "4cbba92c",
   "metadata": {},
   "outputs": [],
   "source": [
    "urbanaccess_net = ua.network.ua_network"
   ]
  },
  {
   "cell_type": "code",
   "execution_count": 93,
   "id": "c88634bb",
   "metadata": {},
   "outputs": [
    {
     "name": "stdout",
     "output_type": "stream",
     "text": [
      "Requesting network data within bounding box from Overpass API in 1 request(s)\n",
      "Posting to http://www.overpass-api.de/api/interpreter with timeout=180, \"{'data': '[out:json][timeout:180];(way[\"highway\"][\"highway\"!~\"motor|proposed|construction|abandoned|platform|raceway\"][\"foot\"!~\"no\"][\"pedestrians\"!~\"no\"](55.81879190,-3.44953260,56.00408370,-3.07495120);>;);out;'}\"\n"
     ]
    },
    {
     "name": "stderr",
     "output_type": "stream",
     "text": [
      "C:\\Users\\z3258367\\Anaconda3\\envs\\ox\\lib\\site-packages\\osmnet\\load.py:237: DeprecationWarning: Flags not at the start of the expression '//(?s)(.*?)/'\n",
      "  domain = re.findall(r'//(?s)(.*?)/', url)[0]\n"
     ]
    },
    {
     "name": "stdout",
     "output_type": "stream",
     "text": [
      "Downloaded 37,564.5KB from www.overpass-api.de in 4.39 seconds\n",
      "Downloaded OSM network data within bounding box from Overpass API in 1 request(s) and 5.09 seconds\n",
      "Returning OSM data with 267,185 nodes and 51,337 ways...\n",
      "Edge node pairs completed. Took 40.27 seconds\n",
      "Returning processed graph with 63,541 nodes and 169,598 edges...\n",
      "Completed OSM data download and Pandana node and edge table creation in 48.40 seconds\n",
      "checking for low connectivity nodes...\n",
      "147 out of 63,541 nodes (0.23 percent of total) were identified as having low connectivity and have been removed.\n",
      "Completed OSM data download and graph node and edge table creation in 151.08 seconds\n"
     ]
    }
   ],
   "source": [
    "nodes, edges = ua.osm.load.ua_network_from_bbox(bbox=bbox_points, remove_lcn=True, network_type='walk')"
   ]
  },
  {
   "cell_type": "code",
   "execution_count": 94,
   "id": "d68ee40f",
   "metadata": {},
   "outputs": [
    {
     "name": "stdout",
     "output_type": "stream",
     "text": [
      "Created OSM network with travel time impedance using a travel speed of 3 MPH. Took 0.01 seconds\n"
     ]
    },
    {
     "data": {
      "text/plain": [
       "<urbanaccess.network.urbanaccess_network at 0x215dc8e0fd0>"
      ]
     },
     "execution_count": 94,
     "metadata": {},
     "output_type": "execute_result"
    }
   ],
   "source": [
    "ua.osm.network.create_osm_net(osm_edges=edges,\n",
    "                              osm_nodes=nodes,\n",
    "                              travel_speed_mph=3)"
   ]
  },
  {
   "cell_type": "code",
   "execution_count": 96,
   "id": "160ddb91",
   "metadata": {},
   "outputs": [
    {
     "name": "stdout",
     "output_type": "stream",
     "text": [
      "Loaded UrbanAccess network components comprised of:\n",
      "     Transit: 3,246 nodes and 56,422 edges;\n",
      "     OSM: 63,394 nodes and 169,382 edges\n",
      "Connector edges between the OSM and transit network nodes successfully completed. Took 1.86 seconds\n",
      "Edge and node tables formatted for Pandana with integer node ids: id_int, to_int, and from_int. Took 2.38 seconds\n",
      "Network edge and node network integration completed successfully resulting in a total of 66,640 nodes and 232,296 edges:\n",
      "     Transit: 3,246 nodes 56,422 edges;\n",
      "     OSM: 63,394 nodes 169,382 edges; and\n",
      "     OSM/Transit connector: 6,492 edges.\n"
     ]
    },
    {
     "data": {
      "text/plain": [
       "<urbanaccess.network.urbanaccess_network at 0x215dc8e0fd0>"
      ]
     },
     "execution_count": 96,
     "metadata": {},
     "output_type": "execute_result"
    }
   ],
   "source": [
    "ua.network.integrate_network(urbanaccess_network=urbanaccess_net,\n",
    "                             headways=False)"
   ]
  },
  {
   "cell_type": "code",
   "execution_count": 98,
   "id": "7b43d9c3",
   "metadata": {},
   "outputs": [
    {
     "name": "stdout",
     "output_type": "stream",
     "text": [
      "Stop times from 07:00:00 to 10:00:00 successfully selected 58,452 records out of 324,190 total records (18.03 percent of total). Took 0.02 seconds\n",
      "Starting route stop headway calculation for 6,968 route stops...\n",
      "Route stop headway calculation complete. Took 9.66 seconds\n",
      "headway calculation complete. Took 12.05 seconds\n"
     ]
    },
    {
     "data": {
      "text/plain": [
       "<urbanaccess.gtfs.gtfsfeeds_dataframe.urbanaccess_gtfs_df at 0x215dd5e2910>"
      ]
     },
     "execution_count": 98,
     "metadata": {},
     "output_type": "execute_result"
    }
   ],
   "source": [
    "ua.gtfs.headways.headways(gtfsfeeds_df=loaded_feeds,\n",
    "                          headway_timerange=['07:00:00','10:00:00'])"
   ]
  },
  {
   "cell_type": "code",
   "execution_count": 100,
   "id": "78daa216",
   "metadata": {},
   "outputs": [
    {
     "name": "stdout",
     "output_type": "stream",
     "text": [
      "Loaded UrbanAccess network components comprised of:\n",
      "     Transit: 3,246 nodes and 56,422 edges;\n",
      "     OSM: 63,394 nodes and 169,382 edges\n",
      "routes successfully joined to transit nodes. Took 0.07 seconds\n",
      "Connector edges between the OSM and transit network nodes successfully completed. Took 2.17 seconds\n",
      "mean route stop headway will be used for pedestrian to transit edge impedance.\n",
      "Headway impedance calculation completed. Took 0.04 seconds\n",
      "Edge and node tables formatted for Pandana with integer node ids: id_int, to_int, and from_int. Took 1.77 seconds\n",
      "Network edge and node network integration completed successfully resulting in a total of 70,344 nodes and 291,023 edges:\n",
      "     Transit: 6,950 nodes 56,422 edges;\n",
      "     OSM: 63,394 nodes 169,382 edges; and\n",
      "     OSM/Transit connector: 65,219 edges.\n"
     ]
    },
    {
     "data": {
      "text/plain": [
       "<urbanaccess.network.urbanaccess_network at 0x215dc8e0fd0>"
      ]
     },
     "execution_count": 100,
     "metadata": {},
     "output_type": "execute_result"
    }
   ],
   "source": [
    "ua.network.integrate_network(urbanaccess_network=urbanaccess_net,\n",
    "                             headways=True,\n",
    "                             urbanaccess_gtfsfeeds_df=loaded_feeds,\n",
    "                             headway_statistic='mean')"
   ]
  },
  {
   "cell_type": "code",
   "execution_count": 101,
   "id": "11be3973",
   "metadata": {},
   "outputs": [
    {
     "name": "stdout",
     "output_type": "stream",
     "text": [
      "Using existing data/Edinburgh_integrated_net.h5 hdf5 store.\n",
      "Existing edges overwritten in data/Edinburgh_integrated_net.h5 hdf5 store.\n",
      "Using existing data/Edinburgh_integrated_net.h5 hdf5 store.\n",
      "Existing nodes overwritten in data/Edinburgh_integrated_net.h5 hdf5 store.\n"
     ]
    }
   ],
   "source": [
    "ua.network.save_network(urbanaccess_network=urbanaccess_net,\n",
    "                        filename='Edinburgh_integrated_net.h5',\n",
    "                        overwrite_key = True)"
   ]
  },
  {
   "cell_type": "markdown",
   "id": "4630b937",
   "metadata": {},
   "source": [
    "### Start here if transit & pedestrian integrated network saved previously"
   ]
  },
  {
   "cell_type": "code",
   "execution_count": 37,
   "id": "d981109b",
   "metadata": {},
   "outputs": [
    {
     "name": "stdout",
     "output_type": "stream",
     "text": [
      "Successfully read store: data/Edinburgh_integrated_net.h5 with the following keys: ['/edges', '/nodes']\n",
      "Successfully read store: data/Edinburgh_integrated_net.h5 with the following keys: ['/edges', '/nodes']\n"
     ]
    }
   ],
   "source": [
    "urbanaccess_net = ua.network.load_network(filename='Edinburgh_integrated_net.h5')"
   ]
  },
  {
   "cell_type": "code",
   "execution_count": 38,
   "id": "278f5f62",
   "metadata": {},
   "outputs": [],
   "source": [
    "transit_ped_net = pdna.Network(urbanaccess_net.net_nodes[\"x\"],\n",
    "                               urbanaccess_net.net_nodes[\"y\"],\n",
    "                               urbanaccess_net.net_edges[\"from_int\"],\n",
    "                               urbanaccess_net.net_edges[\"to_int\"],\n",
    "                               urbanaccess_net.net_edges[[\"weight\"]], \n",
    "                               twoway=False)"
   ]
  },
  {
   "cell_type": "code",
   "execution_count": 39,
   "id": "1afe3012",
   "metadata": {},
   "outputs": [],
   "source": [
    "wgs_pois = pois.to_crs(\"EPSG:4326\")"
   ]
  },
  {
   "cell_type": "code",
   "execution_count": 40,
   "id": "74340081",
   "metadata": {},
   "outputs": [],
   "source": [
    "transit_max_time = 60"
   ]
  },
  {
   "cell_type": "code",
   "execution_count": 41,
   "id": "a8ced136",
   "metadata": {},
   "outputs": [],
   "source": [
    "# need to change the distance/time decay\n",
    "transit_gammas = poi_gammas.copy()\n",
    "transit_gammas = transit_gammas.replace(to_replace=0.001, value=0.025)"
   ]
  },
  {
   "cell_type": "code",
   "execution_count": 42,
   "id": "642db94e",
   "metadata": {},
   "outputs": [
    {
     "name": "stdout",
     "output_type": "stream",
     "text": [
      "Finished category: employment\n",
      "Maximum score: 29.375287530264536 out of 31.9\n",
      "Finished category: education\n",
      "Maximum score: 13.468278667272031 out of 14.3\n",
      "Finished category: shopping\n",
      "Maximum score: 21.41572577820941 out of 21.6\n",
      "Finished category: errands\n",
      "Maximum score: 8.844842604898927 out of 8.9\n",
      "Finished category: recreation\n",
      "Maximum score: 23.197520842794535 out of 23.3\n"
     ]
    }
   ],
   "source": [
    "results = there_index_osmnx(transit_ped_net, wgs_pois, poi_dictionary, poi_weights, transit_gammas,\n",
    "                            poi_nums, poi_lambdas, poi_variables, distance=transit_max_time)"
   ]
  },
  {
   "cell_type": "code",
   "execution_count": 137,
   "id": "8e6bd749",
   "metadata": {},
   "outputs": [
    {
     "data": {
      "text/plain": [
       "(85.52728927708813, 57.237315723986256)"
      ]
     },
     "execution_count": 137,
     "metadata": {},
     "output_type": "execute_result"
    }
   ],
   "source": [
    "max(results.THERE_Index), np.mean(results.THERE_Index)"
   ]
  },
  {
   "cell_type": "code",
   "execution_count": 43,
   "id": "0e45a88d",
   "metadata": {},
   "outputs": [
    {
     "data": {
      "text/plain": [
       "(94.36550792837683, 75.9478957235696)"
      ]
     },
     "execution_count": 43,
     "metadata": {},
     "output_type": "execute_result"
    }
   ],
   "source": [
    "# new version\n",
    "max(results.THERE_Index), np.mean(results.THERE_Index)"
   ]
  },
  {
   "cell_type": "code",
   "execution_count": 146,
   "id": "2f65a6d3",
   "metadata": {},
   "outputs": [
    {
     "data": {
      "text/html": [
       "<div>\n",
       "<style scoped>\n",
       "    .dataframe tbody tr th:only-of-type {\n",
       "        vertical-align: middle;\n",
       "    }\n",
       "\n",
       "    .dataframe tbody tr th {\n",
       "        vertical-align: top;\n",
       "    }\n",
       "\n",
       "    .dataframe thead th {\n",
       "        text-align: right;\n",
       "    }\n",
       "</style>\n",
       "<table border=\"1\" class=\"dataframe\">\n",
       "  <thead>\n",
       "    <tr style=\"text-align: right;\">\n",
       "      <th></th>\n",
       "      <th>x</th>\n",
       "      <th>y</th>\n",
       "      <th>jobs</th>\n",
       "      <th>employment1</th>\n",
       "      <th>employment2</th>\n",
       "      <th>employment3</th>\n",
       "      <th>employment4</th>\n",
       "      <th>employment5</th>\n",
       "      <th>employment_31.9</th>\n",
       "      <th>education1</th>\n",
       "      <th>...</th>\n",
       "      <th>errands4</th>\n",
       "      <th>errands5</th>\n",
       "      <th>errands_8.9</th>\n",
       "      <th>recreation1</th>\n",
       "      <th>recreation2</th>\n",
       "      <th>recreation3</th>\n",
       "      <th>recreation4</th>\n",
       "      <th>recreation5</th>\n",
       "      <th>recreation_23.3</th>\n",
       "      <th>THERE_Index</th>\n",
       "    </tr>\n",
       "    <tr>\n",
       "      <th>id_int</th>\n",
       "      <th></th>\n",
       "      <th></th>\n",
       "      <th></th>\n",
       "      <th></th>\n",
       "      <th></th>\n",
       "      <th></th>\n",
       "      <th></th>\n",
       "      <th></th>\n",
       "      <th></th>\n",
       "      <th></th>\n",
       "      <th></th>\n",
       "      <th></th>\n",
       "      <th></th>\n",
       "      <th></th>\n",
       "      <th></th>\n",
       "      <th></th>\n",
       "      <th></th>\n",
       "      <th></th>\n",
       "      <th></th>\n",
       "      <th></th>\n",
       "      <th></th>\n",
       "    </tr>\n",
       "  </thead>\n",
       "  <tbody>\n",
       "    <tr>\n",
       "      <th>1</th>\n",
       "      <td>-3.432510</td>\n",
       "      <td>55.888690</td>\n",
       "      <td>119432.409199</td>\n",
       "      <td>8.018</td>\n",
       "      <td>8.483</td>\n",
       "      <td>8.636</td>\n",
       "      <td>8.967</td>\n",
       "      <td>9.015</td>\n",
       "      <td>27.470050</td>\n",
       "      <td>11.190</td>\n",
       "      <td>...</td>\n",
       "      <td>8.331</td>\n",
       "      <td>9.920</td>\n",
       "      <td>7.143254</td>\n",
       "      <td>7.042</td>\n",
       "      <td>8.582</td>\n",
       "      <td>9.015</td>\n",
       "      <td>9.255</td>\n",
       "      <td>9.602</td>\n",
       "      <td>18.585779</td>\n",
       "      <td>79.947615</td>\n",
       "    </tr>\n",
       "    <tr>\n",
       "      <th>2</th>\n",
       "      <td>-3.318750</td>\n",
       "      <td>55.900570</td>\n",
       "      <td>131993.225326</td>\n",
       "      <td>4.018</td>\n",
       "      <td>4.483</td>\n",
       "      <td>4.636</td>\n",
       "      <td>4.967</td>\n",
       "      <td>5.015</td>\n",
       "      <td>28.300633</td>\n",
       "      <td>7.190</td>\n",
       "      <td>...</td>\n",
       "      <td>4.331</td>\n",
       "      <td>5.920</td>\n",
       "      <td>7.894517</td>\n",
       "      <td>3.042</td>\n",
       "      <td>4.582</td>\n",
       "      <td>5.015</td>\n",
       "      <td>5.255</td>\n",
       "      <td>5.602</td>\n",
       "      <td>20.540463</td>\n",
       "      <td>86.297311</td>\n",
       "    </tr>\n",
       "    <tr>\n",
       "      <th>3</th>\n",
       "      <td>-3.243460</td>\n",
       "      <td>55.926690</td>\n",
       "      <td>138564.197476</td>\n",
       "      <td>0.636</td>\n",
       "      <td>4.168</td>\n",
       "      <td>4.168</td>\n",
       "      <td>5.304</td>\n",
       "      <td>5.304</td>\n",
       "      <td>28.671105</td>\n",
       "      <td>6.655</td>\n",
       "      <td>...</td>\n",
       "      <td>4.027</td>\n",
       "      <td>4.077</td>\n",
       "      <td>8.021427</td>\n",
       "      <td>3.947</td>\n",
       "      <td>3.947</td>\n",
       "      <td>3.947</td>\n",
       "      <td>4.077</td>\n",
       "      <td>4.441</td>\n",
       "      <td>20.879994</td>\n",
       "      <td>88.182403</td>\n",
       "    </tr>\n",
       "    <tr>\n",
       "      <th>4</th>\n",
       "      <td>-3.218450</td>\n",
       "      <td>55.945810</td>\n",
       "      <td>147325.206995</td>\n",
       "      <td>2.607</td>\n",
       "      <td>2.663</td>\n",
       "      <td>2.887</td>\n",
       "      <td>3.400</td>\n",
       "      <td>3.706</td>\n",
       "      <td>29.106430</td>\n",
       "      <td>3.183</td>\n",
       "      <td>...</td>\n",
       "      <td>0.787</td>\n",
       "      <td>1.707</td>\n",
       "      <td>8.632049</td>\n",
       "      <td>0.475</td>\n",
       "      <td>0.475</td>\n",
       "      <td>0.475</td>\n",
       "      <td>0.605</td>\n",
       "      <td>0.969</td>\n",
       "      <td>22.764071</td>\n",
       "      <td>93.243614</td>\n",
       "    </tr>\n",
       "    <tr>\n",
       "      <th>5</th>\n",
       "      <td>-3.307660</td>\n",
       "      <td>55.927550</td>\n",
       "      <td>135942.509831</td>\n",
       "      <td>4.192</td>\n",
       "      <td>7.607</td>\n",
       "      <td>7.663</td>\n",
       "      <td>7.887</td>\n",
       "      <td>8.400</td>\n",
       "      <td>28.528100</td>\n",
       "      <td>8.183</td>\n",
       "      <td>...</td>\n",
       "      <td>5.605</td>\n",
       "      <td>5.605</td>\n",
       "      <td>7.724706</td>\n",
       "      <td>0.613</td>\n",
       "      <td>2.608</td>\n",
       "      <td>3.934</td>\n",
       "      <td>4.033</td>\n",
       "      <td>5.475</td>\n",
       "      <td>21.347911</td>\n",
       "      <td>87.900404</td>\n",
       "    </tr>\n",
       "    <tr>\n",
       "      <th>...</th>\n",
       "      <td>...</td>\n",
       "      <td>...</td>\n",
       "      <td>...</td>\n",
       "      <td>...</td>\n",
       "      <td>...</td>\n",
       "      <td>...</td>\n",
       "      <td>...</td>\n",
       "      <td>...</td>\n",
       "      <td>...</td>\n",
       "      <td>...</td>\n",
       "      <td>...</td>\n",
       "      <td>...</td>\n",
       "      <td>...</td>\n",
       "      <td>...</td>\n",
       "      <td>...</td>\n",
       "      <td>...</td>\n",
       "      <td>...</td>\n",
       "      <td>...</td>\n",
       "      <td>...</td>\n",
       "      <td>...</td>\n",
       "      <td>...</td>\n",
       "    </tr>\n",
       "    <tr>\n",
       "      <th>70340</th>\n",
       "      <td>-3.151680</td>\n",
       "      <td>55.959993</td>\n",
       "      <td>94912.789557</td>\n",
       "      <td>0.391</td>\n",
       "      <td>0.856</td>\n",
       "      <td>1.209</td>\n",
       "      <td>2.243</td>\n",
       "      <td>2.266</td>\n",
       "      <td>25.256110</td>\n",
       "      <td>2.841</td>\n",
       "      <td>...</td>\n",
       "      <td>3.652</td>\n",
       "      <td>3.869</td>\n",
       "      <td>8.146791</td>\n",
       "      <td>0.010</td>\n",
       "      <td>1.770</td>\n",
       "      <td>2.072</td>\n",
       "      <td>2.266</td>\n",
       "      <td>2.266</td>\n",
       "      <td>22.004738</td>\n",
       "      <td>86.441127</td>\n",
       "    </tr>\n",
       "    <tr>\n",
       "      <th>70341</th>\n",
       "      <td>-3.151749</td>\n",
       "      <td>55.960011</td>\n",
       "      <td>94914.560033</td>\n",
       "      <td>0.333</td>\n",
       "      <td>0.914</td>\n",
       "      <td>1.151</td>\n",
       "      <td>2.301</td>\n",
       "      <td>2.324</td>\n",
       "      <td>25.256305</td>\n",
       "      <td>2.783</td>\n",
       "      <td>...</td>\n",
       "      <td>3.710</td>\n",
       "      <td>3.811</td>\n",
       "      <td>8.150967</td>\n",
       "      <td>0.068</td>\n",
       "      <td>1.712</td>\n",
       "      <td>2.130</td>\n",
       "      <td>2.324</td>\n",
       "      <td>2.324</td>\n",
       "      <td>21.995201</td>\n",
       "      <td>86.449404</td>\n",
       "    </tr>\n",
       "    <tr>\n",
       "      <th>70342</th>\n",
       "      <td>-3.151757</td>\n",
       "      <td>55.960013</td>\n",
       "      <td>94918.450325</td>\n",
       "      <td>0.327</td>\n",
       "      <td>0.920</td>\n",
       "      <td>1.145</td>\n",
       "      <td>2.307</td>\n",
       "      <td>2.330</td>\n",
       "      <td>25.256732</td>\n",
       "      <td>2.777</td>\n",
       "      <td>...</td>\n",
       "      <td>3.716</td>\n",
       "      <td>3.805</td>\n",
       "      <td>8.151400</td>\n",
       "      <td>0.074</td>\n",
       "      <td>1.706</td>\n",
       "      <td>2.136</td>\n",
       "      <td>2.330</td>\n",
       "      <td>2.330</td>\n",
       "      <td>21.994253</td>\n",
       "      <td>86.450825</td>\n",
       "    </tr>\n",
       "    <tr>\n",
       "      <th>70343</th>\n",
       "      <td>-3.151845</td>\n",
       "      <td>55.960036</td>\n",
       "      <td>94935.750429</td>\n",
       "      <td>0.253</td>\n",
       "      <td>0.994</td>\n",
       "      <td>1.071</td>\n",
       "      <td>2.303</td>\n",
       "      <td>2.381</td>\n",
       "      <td>25.258631</td>\n",
       "      <td>2.703</td>\n",
       "      <td>...</td>\n",
       "      <td>3.731</td>\n",
       "      <td>3.790</td>\n",
       "      <td>8.157419</td>\n",
       "      <td>0.148</td>\n",
       "      <td>1.632</td>\n",
       "      <td>2.210</td>\n",
       "      <td>2.404</td>\n",
       "      <td>2.404</td>\n",
       "      <td>21.983928</td>\n",
       "      <td>86.471192</td>\n",
       "    </tr>\n",
       "    <tr>\n",
       "      <th>70344</th>\n",
       "      <td>-3.151857</td>\n",
       "      <td>55.960039</td>\n",
       "      <td>94942.593480</td>\n",
       "      <td>0.243</td>\n",
       "      <td>1.004</td>\n",
       "      <td>1.061</td>\n",
       "      <td>2.293</td>\n",
       "      <td>2.391</td>\n",
       "      <td>25.259383</td>\n",
       "      <td>2.693</td>\n",
       "      <td>...</td>\n",
       "      <td>3.721</td>\n",
       "      <td>3.800</td>\n",
       "      <td>8.158306</td>\n",
       "      <td>0.158</td>\n",
       "      <td>1.622</td>\n",
       "      <td>2.220</td>\n",
       "      <td>2.414</td>\n",
       "      <td>2.414</td>\n",
       "      <td>21.982539</td>\n",
       "      <td>86.474528</td>\n",
       "    </tr>\n",
       "  </tbody>\n",
       "</table>\n",
       "<p>70344 rows × 34 columns</p>\n",
       "</div>"
      ],
      "text/plain": [
       "               x          y           jobs  employment1  employment2  \\\n",
       "id_int                                                                 \n",
       "1      -3.432510  55.888690  119432.409199        8.018        8.483   \n",
       "2      -3.318750  55.900570  131993.225326        4.018        4.483   \n",
       "3      -3.243460  55.926690  138564.197476        0.636        4.168   \n",
       "4      -3.218450  55.945810  147325.206995        2.607        2.663   \n",
       "5      -3.307660  55.927550  135942.509831        4.192        7.607   \n",
       "...          ...        ...            ...          ...          ...   \n",
       "70340  -3.151680  55.959993   94912.789557        0.391        0.856   \n",
       "70341  -3.151749  55.960011   94914.560033        0.333        0.914   \n",
       "70342  -3.151757  55.960013   94918.450325        0.327        0.920   \n",
       "70343  -3.151845  55.960036   94935.750429        0.253        0.994   \n",
       "70344  -3.151857  55.960039   94942.593480        0.243        1.004   \n",
       "\n",
       "        employment3  employment4  employment5  employment_31.9  education1  \\\n",
       "id_int                                                                       \n",
       "1             8.636        8.967        9.015        27.470050      11.190   \n",
       "2             4.636        4.967        5.015        28.300633       7.190   \n",
       "3             4.168        5.304        5.304        28.671105       6.655   \n",
       "4             2.887        3.400        3.706        29.106430       3.183   \n",
       "5             7.663        7.887        8.400        28.528100       8.183   \n",
       "...             ...          ...          ...              ...         ...   \n",
       "70340         1.209        2.243        2.266        25.256110       2.841   \n",
       "70341         1.151        2.301        2.324        25.256305       2.783   \n",
       "70342         1.145        2.307        2.330        25.256732       2.777   \n",
       "70343         1.071        2.303        2.381        25.258631       2.703   \n",
       "70344         1.061        2.293        2.391        25.259383       2.693   \n",
       "\n",
       "        ...  errands4  errands5  errands_8.9  recreation1  recreation2  \\\n",
       "id_int  ...                                                              \n",
       "1       ...     8.331     9.920     7.143254        7.042        8.582   \n",
       "2       ...     4.331     5.920     7.894517        3.042        4.582   \n",
       "3       ...     4.027     4.077     8.021427        3.947        3.947   \n",
       "4       ...     0.787     1.707     8.632049        0.475        0.475   \n",
       "5       ...     5.605     5.605     7.724706        0.613        2.608   \n",
       "...     ...       ...       ...          ...          ...          ...   \n",
       "70340   ...     3.652     3.869     8.146791        0.010        1.770   \n",
       "70341   ...     3.710     3.811     8.150967        0.068        1.712   \n",
       "70342   ...     3.716     3.805     8.151400        0.074        1.706   \n",
       "70343   ...     3.731     3.790     8.157419        0.148        1.632   \n",
       "70344   ...     3.721     3.800     8.158306        0.158        1.622   \n",
       "\n",
       "        recreation3  recreation4  recreation5  recreation_23.3  THERE_Index  \n",
       "id_int                                                                       \n",
       "1             9.015        9.255        9.602        18.585779    79.947615  \n",
       "2             5.015        5.255        5.602        20.540463    86.297311  \n",
       "3             3.947        4.077        4.441        20.879994    88.182403  \n",
       "4             0.475        0.605        0.969        22.764071    93.243614  \n",
       "5             3.934        4.033        5.475        21.347911    87.900404  \n",
       "...             ...          ...          ...              ...          ...  \n",
       "70340         2.072        2.266        2.266        22.004738    86.441127  \n",
       "70341         2.130        2.324        2.324        21.995201    86.449404  \n",
       "70342         2.136        2.330        2.330        21.994253    86.450825  \n",
       "70343         2.210        2.404        2.404        21.983928    86.471192  \n",
       "70344         2.220        2.414        2.414        21.982539    86.474528  \n",
       "\n",
       "[70344 rows x 34 columns]"
      ]
     },
     "execution_count": 146,
     "metadata": {},
     "output_type": "execute_result"
    }
   ],
   "source": [
    "results"
   ]
  },
  {
   "cell_type": "code",
   "execution_count": null,
   "id": "36a251f0",
   "metadata": {},
   "outputs": [],
   "source": []
  },
  {
   "cell_type": "code",
   "execution_count": 193,
   "id": "1b971d0b",
   "metadata": {},
   "outputs": [],
   "source": [
    "small_pt_results = gpd.GeoDataFrame(result_rounding(results).drop_duplicates(subset=['x','y']).add_suffix('_transit'), \n",
    "                                    geometry = gpd.GeoSeries.from_xy(results.x, results.y, crs=\"EPSG:4326\")).to_crs(proj_crs)"
   ]
  },
  {
   "cell_type": "markdown",
   "id": "0f4526c7",
   "metadata": {},
   "source": [
    "## Export results"
   ]
  },
  {
   "cell_type": "code",
   "execution_count": null,
   "id": "4243d553",
   "metadata": {},
   "outputs": [],
   "source": [
    "small_results = gpd.GeoDataFrame(result_rounding(results), geometry = gpd.GeoSeries.from_xy(results.x, results.y, crs=proj_crs))"
   ]
  },
  {
   "cell_type": "code",
   "execution_count": null,
   "id": "d812a5c8",
   "metadata": {},
   "outputs": [],
   "source": [
    "small_pt_results.to_file((folder +\n",
    "                         \"Walkability\\\\Other Cities\\\\Colouring data & results\\\\Edinburgh Data\\\\\" + \n",
    "                         \"Edinburgh_pt_170622.gpkg\"))"
   ]
  },
  {
   "cell_type": "code",
   "execution_count": null,
   "id": "5b987345",
   "metadata": {
    "scrolled": true
   },
   "outputs": [],
   "source": [
    "small_c_results.to_file((folder +\n",
    "                         \"Walkability\\\\Other Cities\\\\Colouring data & results\\\\Edinburgh Data\\\\\" + \n",
    "                         \"Edinburgh_cycle_170622.gpkg\"))"
   ]
  },
  {
   "cell_type": "markdown",
   "id": "69511288",
   "metadata": {},
   "source": [
    "### Import population for population weighted results"
   ]
  },
  {
   "cell_type": "code",
   "execution_count": 45,
   "id": "75a7a88d",
   "metadata": {},
   "outputs": [],
   "source": [
    "population = pd.read_csv((folder + \n",
    "                        \"Walkability\\\\Other Cities\\\\Colouring data & results\\\\Edinburgh Data\\\\KS101SC - Usual resident population.csv\"),\n",
    "                            index_col=0)"
   ]
  },
  {
   "cell_type": "markdown",
   "id": "61b97674",
   "metadata": {},
   "source": [
    "Join to Output Areas by name. Used population weighted centroids available from Government. Join to the closest result point. Get average, distribution and export these centroids for further visualisation."
   ]
  },
  {
   "cell_type": "code",
   "execution_count": 61,
   "id": "ac16885a",
   "metadata": {},
   "outputs": [],
   "source": [
    "output_areas = gpd.read_file(folder +\n",
    "                             \"Walkability\\\\Other Cities\\\\Colouring data & results\\\\Edinburgh Data\\\\OutputArea2011_PWC.shp\")"
   ]
  },
  {
   "cell_type": "code",
   "execution_count": 62,
   "id": "dc806e8b",
   "metadata": {},
   "outputs": [],
   "source": [
    "output_areas = output_areas.join(population, on='code')"
   ]
  },
  {
   "cell_type": "code",
   "execution_count": 63,
   "id": "d15ab52d",
   "metadata": {},
   "outputs": [],
   "source": [
    "output_areas = output_areas.to_crs(proj_crs)"
   ]
  },
  {
   "cell_type": "code",
   "execution_count": 64,
   "id": "f58be77a",
   "metadata": {},
   "outputs": [],
   "source": [
    "output_areas['All people'] = output_areas['All people'].str.replace(',','').astype(int)"
   ]
  },
  {
   "cell_type": "code",
   "execution_count": 176,
   "id": "ece0c7e8",
   "metadata": {},
   "outputs": [],
   "source": [
    "output_areas = output_areas.clip(place_gdf)"
   ]
  },
  {
   "cell_type": "code",
   "execution_count": 196,
   "id": "aec69a6a",
   "metadata": {},
   "outputs": [],
   "source": [
    "output_areas_pt = output_areas.sjoin_nearest(small_pt_results.to_crs(proj_crs), how='left',rsuffix='transit')"
   ]
  },
  {
   "cell_type": "code",
   "execution_count": 197,
   "id": "88c57802",
   "metadata": {},
   "outputs": [],
   "source": [
    "output_areas_c = output_areas_pt.sjoin_nearest(small_c_results, how='left',rsuffix='cycle')"
   ]
  },
  {
   "cell_type": "code",
   "execution_count": 198,
   "id": "b2474936",
   "metadata": {},
   "outputs": [],
   "source": [
    "output_areas_d = output_areas_c.sjoin_nearest(small_d_results, how='left',rsuffix='drive')"
   ]
  },
  {
   "cell_type": "code",
   "execution_count": 199,
   "id": "93765f30",
   "metadata": {},
   "outputs": [],
   "source": [
    "output_areas_w = output_areas_d.sjoin_nearest(small_w_results, how='left')"
   ]
  },
  {
   "cell_type": "code",
   "execution_count": 200,
   "id": "ea3cc89c",
   "metadata": {},
   "outputs": [
    {
     "data": {
      "text/html": [
       "<div>\n",
       "<style scoped>\n",
       "    .dataframe tbody tr th:only-of-type {\n",
       "        vertical-align: middle;\n",
       "    }\n",
       "\n",
       "    .dataframe tbody tr th {\n",
       "        vertical-align: top;\n",
       "    }\n",
       "\n",
       "    .dataframe thead th {\n",
       "        text-align: right;\n",
       "    }\n",
       "</style>\n",
       "<table border=\"1\" class=\"dataframe\">\n",
       "  <thead>\n",
       "    <tr style=\"text-align: right;\">\n",
       "      <th></th>\n",
       "      <th>OBJECTID</th>\n",
       "      <th>code</th>\n",
       "      <th>masterpc</th>\n",
       "      <th>easting</th>\n",
       "      <th>northing</th>\n",
       "      <th>geometry</th>\n",
       "      <th>All people</th>\n",
       "      <th>Males</th>\n",
       "      <th>Females</th>\n",
       "      <th>Lives in a household</th>\n",
       "      <th>...</th>\n",
       "      <th>errands4_walk</th>\n",
       "      <th>errands5_walk</th>\n",
       "      <th>errands_8.9_walk</th>\n",
       "      <th>recreation1_walk</th>\n",
       "      <th>recreation2_walk</th>\n",
       "      <th>recreation3_walk</th>\n",
       "      <th>recreation4_walk</th>\n",
       "      <th>recreation5_walk</th>\n",
       "      <th>recreation_23.3_walk</th>\n",
       "      <th>THERE_Index_walk</th>\n",
       "    </tr>\n",
       "  </thead>\n",
       "  <tbody>\n",
       "    <tr>\n",
       "      <th>21471</th>\n",
       "      <td>21472</td>\n",
       "      <td>S00106864</td>\n",
       "      <td>EH14 7JT</td>\n",
       "      <td>316598</td>\n",
       "      <td>664380</td>\n",
       "      <td>POINT (479083.908 6191143.942)</td>\n",
       "      <td>101</td>\n",
       "      <td>46</td>\n",
       "      <td>55</td>\n",
       "      <td>101</td>\n",
       "      <td>...</td>\n",
       "      <td>2250.0</td>\n",
       "      <td>2253.0</td>\n",
       "      <td>1.096</td>\n",
       "      <td>1599.0</td>\n",
       "      <td>2195.0</td>\n",
       "      <td>2198.0</td>\n",
       "      <td>2255.0</td>\n",
       "      <td>2299.0</td>\n",
       "      <td>2.957</td>\n",
       "      <td>5.581</td>\n",
       "    </tr>\n",
       "    <tr>\n",
       "      <th>4299</th>\n",
       "      <td>4300</td>\n",
       "      <td>S00105967</td>\n",
       "      <td>EH14 7HU</td>\n",
       "      <td>315950</td>\n",
       "      <td>665409</td>\n",
       "      <td>POINT (478421.189 6192163.339)</td>\n",
       "      <td>94</td>\n",
       "      <td>46</td>\n",
       "      <td>48</td>\n",
       "      <td>94</td>\n",
       "      <td>...</td>\n",
       "      <td>1117.0</td>\n",
       "      <td>1291.0</td>\n",
       "      <td>4.291</td>\n",
       "      <td>580.0</td>\n",
       "      <td>653.0</td>\n",
       "      <td>709.0</td>\n",
       "      <td>769.0</td>\n",
       "      <td>1001.0</td>\n",
       "      <td>10.476</td>\n",
       "      <td>21.365</td>\n",
       "    </tr>\n",
       "    <tr>\n",
       "      <th>23964</th>\n",
       "      <td>23965</td>\n",
       "      <td>S00105965</td>\n",
       "      <td>EH14 7HF</td>\n",
       "      <td>316069</td>\n",
       "      <td>665568</td>\n",
       "      <td>POINT (478537.863 6192324.022)</td>\n",
       "      <td>139</td>\n",
       "      <td>73</td>\n",
       "      <td>66</td>\n",
       "      <td>139</td>\n",
       "      <td>...</td>\n",
       "      <td>871.0</td>\n",
       "      <td>1011.0</td>\n",
       "      <td>4.314</td>\n",
       "      <td>373.0</td>\n",
       "      <td>432.0</td>\n",
       "      <td>489.0</td>\n",
       "      <td>722.0</td>\n",
       "      <td>959.0</td>\n",
       "      <td>12.647</td>\n",
       "      <td>25.217</td>\n",
       "    </tr>\n",
       "    <tr>\n",
       "      <th>14794</th>\n",
       "      <td>14795</td>\n",
       "      <td>S00106865</td>\n",
       "      <td>EH14 7JD</td>\n",
       "      <td>314377</td>\n",
       "      <td>665609</td>\n",
       "      <td>POINT (476845.668 6192340.557)</td>\n",
       "      <td>133</td>\n",
       "      <td>73</td>\n",
       "      <td>60</td>\n",
       "      <td>133</td>\n",
       "      <td>...</td>\n",
       "      <td>2340.0</td>\n",
       "      <td>2374.0</td>\n",
       "      <td>1.019</td>\n",
       "      <td>1798.0</td>\n",
       "      <td>2082.0</td>\n",
       "      <td>2158.0</td>\n",
       "      <td>2185.0</td>\n",
       "      <td>2199.0</td>\n",
       "      <td>2.410</td>\n",
       "      <td>3.502</td>\n",
       "    </tr>\n",
       "    <tr>\n",
       "      <th>21029</th>\n",
       "      <td>21030</td>\n",
       "      <td>S00105973</td>\n",
       "      <td>EH14 7HJ</td>\n",
       "      <td>315894</td>\n",
       "      <td>665634</td>\n",
       "      <td>POINT (478361.950 6192387.477)</td>\n",
       "      <td>142</td>\n",
       "      <td>67</td>\n",
       "      <td>75</td>\n",
       "      <td>142</td>\n",
       "      <td>...</td>\n",
       "      <td>917.0</td>\n",
       "      <td>1133.0</td>\n",
       "      <td>4.489</td>\n",
       "      <td>310.0</td>\n",
       "      <td>454.0</td>\n",
       "      <td>570.0</td>\n",
       "      <td>771.0</td>\n",
       "      <td>938.0</td>\n",
       "      <td>12.555</td>\n",
       "      <td>24.282</td>\n",
       "    </tr>\n",
       "    <tr>\n",
       "      <th>...</th>\n",
       "      <td>...</td>\n",
       "      <td>...</td>\n",
       "      <td>...</td>\n",
       "      <td>...</td>\n",
       "      <td>...</td>\n",
       "      <td>...</td>\n",
       "      <td>...</td>\n",
       "      <td>...</td>\n",
       "      <td>...</td>\n",
       "      <td>...</td>\n",
       "      <td>...</td>\n",
       "      <td>...</td>\n",
       "      <td>...</td>\n",
       "      <td>...</td>\n",
       "      <td>...</td>\n",
       "      <td>...</td>\n",
       "      <td>...</td>\n",
       "      <td>...</td>\n",
       "      <td>...</td>\n",
       "      <td>...</td>\n",
       "      <td>...</td>\n",
       "    </tr>\n",
       "    <tr>\n",
       "      <th>10036</th>\n",
       "      <td>10037</td>\n",
       "      <td>S00107030</td>\n",
       "      <td>EH6 6LE</td>\n",
       "      <td>325871</td>\n",
       "      <td>677679</td>\n",
       "      <td>POINT (488162.487 6204574.072)</td>\n",
       "      <td>88</td>\n",
       "      <td>46</td>\n",
       "      <td>42</td>\n",
       "      <td>88</td>\n",
       "      <td>...</td>\n",
       "      <td>1087.0</td>\n",
       "      <td>1198.0</td>\n",
       "      <td>3.059</td>\n",
       "      <td>380.0</td>\n",
       "      <td>435.0</td>\n",
       "      <td>435.0</td>\n",
       "      <td>496.0</td>\n",
       "      <td>568.0</td>\n",
       "      <td>14.238</td>\n",
       "      <td>31.020</td>\n",
       "    </tr>\n",
       "    <tr>\n",
       "      <th>11202</th>\n",
       "      <td>11203</td>\n",
       "      <td>S00107028</td>\n",
       "      <td>EH6 6PT</td>\n",
       "      <td>325905</td>\n",
       "      <td>677699</td>\n",
       "      <td>POINT (488196.189 6204594.560)</td>\n",
       "      <td>90</td>\n",
       "      <td>43</td>\n",
       "      <td>47</td>\n",
       "      <td>90</td>\n",
       "      <td>...</td>\n",
       "      <td>1135.0</td>\n",
       "      <td>1246.0</td>\n",
       "      <td>2.918</td>\n",
       "      <td>333.0</td>\n",
       "      <td>483.0</td>\n",
       "      <td>483.0</td>\n",
       "      <td>543.0</td>\n",
       "      <td>615.0</td>\n",
       "      <td>13.977</td>\n",
       "      <td>29.933</td>\n",
       "    </tr>\n",
       "    <tr>\n",
       "      <th>12594</th>\n",
       "      <td>12595</td>\n",
       "      <td>S00107047</td>\n",
       "      <td>EH6 6LG</td>\n",
       "      <td>325844</td>\n",
       "      <td>677712</td>\n",
       "      <td>POINT (488135.016 6204606.674)</td>\n",
       "      <td>130</td>\n",
       "      <td>78</td>\n",
       "      <td>52</td>\n",
       "      <td>130</td>\n",
       "      <td>...</td>\n",
       "      <td>1087.0</td>\n",
       "      <td>1198.0</td>\n",
       "      <td>3.059</td>\n",
       "      <td>380.0</td>\n",
       "      <td>435.0</td>\n",
       "      <td>435.0</td>\n",
       "      <td>496.0</td>\n",
       "      <td>568.0</td>\n",
       "      <td>14.238</td>\n",
       "      <td>31.020</td>\n",
       "    </tr>\n",
       "    <tr>\n",
       "      <th>12987</th>\n",
       "      <td>12988</td>\n",
       "      <td>S00107039</td>\n",
       "      <td>EH6 6PZ</td>\n",
       "      <td>325884</td>\n",
       "      <td>677748</td>\n",
       "      <td>POINT (488174.484 6204643.246)</td>\n",
       "      <td>84</td>\n",
       "      <td>46</td>\n",
       "      <td>38</td>\n",
       "      <td>84</td>\n",
       "      <td>...</td>\n",
       "      <td>1135.0</td>\n",
       "      <td>1246.0</td>\n",
       "      <td>2.918</td>\n",
       "      <td>333.0</td>\n",
       "      <td>483.0</td>\n",
       "      <td>483.0</td>\n",
       "      <td>543.0</td>\n",
       "      <td>615.0</td>\n",
       "      <td>13.977</td>\n",
       "      <td>29.933</td>\n",
       "    </tr>\n",
       "    <tr>\n",
       "      <th>40578</th>\n",
       "      <td>40579</td>\n",
       "      <td>S00107032</td>\n",
       "      <td>EH6 6PG</td>\n",
       "      <td>325929</td>\n",
       "      <td>677780</td>\n",
       "      <td>POINT (488219.010 6204675.891)</td>\n",
       "      <td>162</td>\n",
       "      <td>77</td>\n",
       "      <td>85</td>\n",
       "      <td>162</td>\n",
       "      <td>...</td>\n",
       "      <td>1193.0</td>\n",
       "      <td>1306.0</td>\n",
       "      <td>2.748</td>\n",
       "      <td>273.0</td>\n",
       "      <td>541.0</td>\n",
       "      <td>541.0</td>\n",
       "      <td>601.0</td>\n",
       "      <td>668.0</td>\n",
       "      <td>13.767</td>\n",
       "      <td>28.767</td>\n",
       "    </tr>\n",
       "  </tbody>\n",
       "</table>\n",
       "<p>4322 rows × 154 columns</p>\n",
       "</div>"
      ],
      "text/plain": [
       "       OBJECTID       code  masterpc easting northing  \\\n",
       "21471     21472  S00106864  EH14 7JT  316598   664380   \n",
       "4299       4300  S00105967  EH14 7HU  315950   665409   \n",
       "23964     23965  S00105965  EH14 7HF  316069   665568   \n",
       "14794     14795  S00106865  EH14 7JD  314377   665609   \n",
       "21029     21030  S00105973  EH14 7HJ  315894   665634   \n",
       "...         ...        ...       ...     ...      ...   \n",
       "10036     10037  S00107030   EH6 6LE  325871   677679   \n",
       "11202     11203  S00107028   EH6 6PT  325905   677699   \n",
       "12594     12595  S00107047   EH6 6LG  325844   677712   \n",
       "12987     12988  S00107039   EH6 6PZ  325884   677748   \n",
       "40578     40579  S00107032   EH6 6PG  325929   677780   \n",
       "\n",
       "                             geometry  All people Males Females  \\\n",
       "21471  POINT (479083.908 6191143.942)         101    46      55   \n",
       "4299   POINT (478421.189 6192163.339)          94    46      48   \n",
       "23964  POINT (478537.863 6192324.022)         139    73      66   \n",
       "14794  POINT (476845.668 6192340.557)         133    73      60   \n",
       "21029  POINT (478361.950 6192387.477)         142    67      75   \n",
       "...                               ...         ...   ...     ...   \n",
       "10036  POINT (488162.487 6204574.072)          88    46      42   \n",
       "11202  POINT (488196.189 6204594.560)          90    43      47   \n",
       "12594  POINT (488135.016 6204606.674)         130    78      52   \n",
       "12987  POINT (488174.484 6204643.246)          84    46      38   \n",
       "40578  POINT (488219.010 6204675.891)         162    77      85   \n",
       "\n",
       "      Lives in a household  ... errands4_walk errands5_walk errands_8.9_walk  \\\n",
       "21471                  101  ...        2250.0        2253.0            1.096   \n",
       "4299                    94  ...        1117.0        1291.0            4.291   \n",
       "23964                  139  ...         871.0        1011.0            4.314   \n",
       "14794                  133  ...        2340.0        2374.0            1.019   \n",
       "21029                  142  ...         917.0        1133.0            4.489   \n",
       "...                    ...  ...           ...           ...              ...   \n",
       "10036                   88  ...        1087.0        1198.0            3.059   \n",
       "11202                   90  ...        1135.0        1246.0            2.918   \n",
       "12594                  130  ...        1087.0        1198.0            3.059   \n",
       "12987                   84  ...        1135.0        1246.0            2.918   \n",
       "40578                  162  ...        1193.0        1306.0            2.748   \n",
       "\n",
       "      recreation1_walk  recreation2_walk  recreation3_walk  recreation4_walk  \\\n",
       "21471           1599.0            2195.0            2198.0            2255.0   \n",
       "4299             580.0             653.0             709.0             769.0   \n",
       "23964            373.0             432.0             489.0             722.0   \n",
       "14794           1798.0            2082.0            2158.0            2185.0   \n",
       "21029            310.0             454.0             570.0             771.0   \n",
       "...                ...               ...               ...               ...   \n",
       "10036            380.0             435.0             435.0             496.0   \n",
       "11202            333.0             483.0             483.0             543.0   \n",
       "12594            380.0             435.0             435.0             496.0   \n",
       "12987            333.0             483.0             483.0             543.0   \n",
       "40578            273.0             541.0             541.0             601.0   \n",
       "\n",
       "       recreation5_walk  recreation_23.3_walk  THERE_Index_walk  \n",
       "21471            2299.0                 2.957             5.581  \n",
       "4299             1001.0                10.476            21.365  \n",
       "23964             959.0                12.647            25.217  \n",
       "14794            2199.0                 2.410             3.502  \n",
       "21029             938.0                12.555            24.282  \n",
       "...                 ...                   ...               ...  \n",
       "10036             568.0                14.238            31.020  \n",
       "11202             615.0                13.977            29.933  \n",
       "12594             568.0                14.238            31.020  \n",
       "12987             615.0                13.977            29.933  \n",
       "40578             668.0                13.767            28.767  \n",
       "\n",
       "[4322 rows x 154 columns]"
      ]
     },
     "execution_count": 200,
     "metadata": {},
     "output_type": "execute_result"
    }
   ],
   "source": [
    "output_areas_w"
   ]
  },
  {
   "cell_type": "code",
   "execution_count": 173,
   "id": "778233e7",
   "metadata": {},
   "outputs": [
    {
     "data": {
      "text/html": [
       "<div>\n",
       "<style scoped>\n",
       "    .dataframe tbody tr th:only-of-type {\n",
       "        vertical-align: middle;\n",
       "    }\n",
       "\n",
       "    .dataframe tbody tr th {\n",
       "        vertical-align: top;\n",
       "    }\n",
       "\n",
       "    .dataframe thead th {\n",
       "        text-align: right;\n",
       "    }\n",
       "</style>\n",
       "<table border=\"1\" class=\"dataframe\">\n",
       "  <thead>\n",
       "    <tr style=\"text-align: right;\">\n",
       "      <th></th>\n",
       "      <th>Lives in a communal establishment</th>\n",
       "      <th>Schoolchild or full-time student aged 4 and over at their non term-time address</th>\n",
       "      <th>Area (hectares)</th>\n",
       "      <th>Density (number of persons per hectare)</th>\n",
       "      <th>index_transit</th>\n",
       "      <th>x_transit</th>\n",
       "      <th>y_transit</th>\n",
       "      <th>jobs_transit</th>\n",
       "      <th>employment1_transit</th>\n",
       "      <th>employment2_transit</th>\n",
       "      <th>...</th>\n",
       "      <th>errands5_transit</th>\n",
       "      <th>errands_8.9_transit</th>\n",
       "      <th>recreation1_transit</th>\n",
       "      <th>recreation2_transit</th>\n",
       "      <th>recreation3_transit</th>\n",
       "      <th>recreation4_transit</th>\n",
       "      <th>recreation5_transit</th>\n",
       "      <th>recreation_23.3_transit</th>\n",
       "      <th>THERE_Index_transit</th>\n",
       "      <th>index_cycle</th>\n",
       "    </tr>\n",
       "  </thead>\n",
       "  <tbody>\n",
       "    <tr>\n",
       "      <th>9636</th>\n",
       "      <td>-</td>\n",
       "      <td>-</td>\n",
       "      <td>0</td>\n",
       "      <td>173.75</td>\n",
       "      <td>1159</td>\n",
       "      <td>-3.207573</td>\n",
       "      <td>55.980106</td>\n",
       "      <td>85754.0</td>\n",
       "      <td>1.0</td>\n",
       "      <td>1.0</td>\n",
       "      <td>...</td>\n",
       "      <td>4.0</td>\n",
       "      <td>8.104</td>\n",
       "      <td>2.0</td>\n",
       "      <td>3.0</td>\n",
       "      <td>3.0</td>\n",
       "      <td>3.0</td>\n",
       "      <td>4.0</td>\n",
       "      <td>21.449</td>\n",
       "      <td>83.859</td>\n",
       "      <td>608811514</td>\n",
       "    </tr>\n",
       "    <tr>\n",
       "      <th>9636</th>\n",
       "      <td>-</td>\n",
       "      <td>-</td>\n",
       "      <td>0</td>\n",
       "      <td>173.75</td>\n",
       "      <td>5061</td>\n",
       "      <td>-3.207573</td>\n",
       "      <td>55.980106</td>\n",
       "      <td>80451.0</td>\n",
       "      <td>0.0</td>\n",
       "      <td>1.0</td>\n",
       "      <td>...</td>\n",
       "      <td>5.0</td>\n",
       "      <td>8.111</td>\n",
       "      <td>2.0</td>\n",
       "      <td>3.0</td>\n",
       "      <td>3.0</td>\n",
       "      <td>3.0</td>\n",
       "      <td>3.0</td>\n",
       "      <td>21.518</td>\n",
       "      <td>83.602</td>\n",
       "      <td>608811514</td>\n",
       "    </tr>\n",
       "  </tbody>\n",
       "</table>\n",
       "<p>2 rows × 40 columns</p>\n",
       "</div>"
      ],
      "text/plain": [
       "     Lives in a communal establishment  \\\n",
       "9636                                 -   \n",
       "9636                                 -   \n",
       "\n",
       "     Schoolchild or full-time student aged 4 and over at their non term-time address  \\\n",
       "9636                                                  -                                \n",
       "9636                                                  -                                \n",
       "\n",
       "     Area (hectares) Density (number of persons per hectare)  index_transit  \\\n",
       "9636               0                                  173.75           1159   \n",
       "9636               0                                  173.75           5061   \n",
       "\n",
       "      x_transit  y_transit  jobs_transit  employment1_transit  \\\n",
       "9636  -3.207573  55.980106       85754.0                  1.0   \n",
       "9636  -3.207573  55.980106       80451.0                  0.0   \n",
       "\n",
       "      employment2_transit  ...  errands5_transit  errands_8.9_transit  \\\n",
       "9636                  1.0  ...               4.0                8.104   \n",
       "9636                  1.0  ...               5.0                8.111   \n",
       "\n",
       "      recreation1_transit  recreation2_transit  recreation3_transit  \\\n",
       "9636                  2.0                  3.0                  3.0   \n",
       "9636                  2.0                  3.0                  3.0   \n",
       "\n",
       "      recreation4_transit  recreation5_transit  recreation_23.3_transit  \\\n",
       "9636                  3.0                  4.0                   21.449   \n",
       "9636                  3.0                  3.0                   21.518   \n",
       "\n",
       "      THERE_Index_transit  index_cycle  \n",
       "9636               83.859    608811514  \n",
       "9636               83.602    608811514  \n",
       "\n",
       "[2 rows x 40 columns]"
      ]
     },
     "execution_count": 173,
     "metadata": {},
     "output_type": "execute_result"
    }
   ],
   "source": [
    "output_areas_w.loc[9636].iloc[:,10:50]"
   ]
  },
  {
   "cell_type": "code",
   "execution_count": 184,
   "id": "2fa5b332",
   "metadata": {},
   "outputs": [
    {
     "data": {
      "text/plain": [
       "70344"
      ]
     },
     "execution_count": 184,
     "metadata": {},
     "output_type": "execute_result"
    }
   ],
   "source": [
    "len(small_pt_results)"
   ]
  },
  {
   "cell_type": "code",
   "execution_count": 177,
   "id": "f4cf1883",
   "metadata": {},
   "outputs": [
    {
     "data": {
      "text/plain": [
       "4322"
      ]
     },
     "execution_count": 177,
     "metadata": {},
     "output_type": "execute_result"
    }
   ],
   "source": [
    "len(output_areas)"
   ]
  },
  {
   "cell_type": "code",
   "execution_count": 202,
   "id": "f2066eac",
   "metadata": {},
   "outputs": [
    {
     "data": {
      "text/plain": [
       "83.58765366345939"
      ]
     },
     "execution_count": 202,
     "metadata": {},
     "output_type": "execute_result"
    }
   ],
   "source": [
    "sum(output_areas_c['All people']*output_areas_c['THERE_Index_transit'])/sum(output_areas_c['All people'])"
   ]
  },
  {
   "cell_type": "code",
   "execution_count": 203,
   "id": "c328636d",
   "metadata": {},
   "outputs": [
    {
     "data": {
      "text/plain": [
       "84.08980383990789"
      ]
     },
     "execution_count": 203,
     "metadata": {},
     "output_type": "execute_result"
    }
   ],
   "source": [
    "sum(output_areas_c['All people']*output_areas_c['THERE_Index_cycle'])/sum(output_areas_c['All people'])"
   ]
  },
  {
   "cell_type": "code",
   "execution_count": 205,
   "id": "fe4c8966",
   "metadata": {},
   "outputs": [
    {
     "data": {
      "text/plain": [
       "91.1811202137527"
      ]
     },
     "execution_count": 205,
     "metadata": {},
     "output_type": "execute_result"
    }
   ],
   "source": [
    "sum(output_areas_w['All people']*output_areas_w['THERE_Index_drive'])/sum(output_areas_w['All people'])"
   ]
  },
  {
   "cell_type": "code",
   "execution_count": 206,
   "id": "478d915a",
   "metadata": {},
   "outputs": [
    {
     "data": {
      "text/plain": [
       "48.29506182835168"
      ]
     },
     "execution_count": 206,
     "metadata": {},
     "output_type": "execute_result"
    }
   ],
   "source": [
    "sum(output_areas_w['All people']*output_areas_w['THERE_Index_walk'])/sum(output_areas_w['All people'])"
   ]
  },
  {
   "cell_type": "code",
   "execution_count": 217,
   "id": "56ce7500",
   "metadata": {},
   "outputs": [
    {
     "data": {
      "text/plain": [
       "Text(0.5, 0.98, 'Edinburgh: distribution of results by residential population')"
      ]
     },
     "execution_count": 217,
     "metadata": {},
     "output_type": "execute_result"
    },
    {
     "data": {
      "image/png": "[encoded data removed]",
      "text/plain": [
       "<Figure size 864x288 with 4 Axes>"
      ]
     },
     "metadata": {
      "needs_background": "light"
     },
     "output_type": "display_data"
    }
   ],
   "source": [
    "fig, [ax1, ax2, ax3, ax4] = plt.subplots(nrows=1, ncols=4, sharey=True, figsize=(12, 4))\n",
    "bins=[10,20,30,40,50,60,70,80,90,100]\n",
    "ax1.hist(output_areas_w['THERE_Index_walk'], weights = output_areas_w['All people'], bins=bins)\n",
    "ax1.set_xlabel('WalkTHERE')\n",
    "ax1.set_ylabel('Residents')\n",
    "ax2.hist(output_areas_w['THERE_Index_cycle'], weights = output_areas_w['All people'], bins=bins)\n",
    "ax2.set_xlabel('CycleTHERE')\n",
    "ax3.hist(output_areas_w['THERE_Index_transit'], weights = output_areas_w['All people'], bins=bins)\n",
    "ax3.set_xlabel('TransitTHERE')\n",
    "ax4.hist(output_areas_w['THERE_Index_drive'], weights = output_areas_w['All people'], bins=bins)\n",
    "ax4.set_xlabel('DriveTHERE')\n",
    "fig.suptitle('Edinburgh: distribution of results by residential population')"
   ]
  },
  {
   "cell_type": "code",
   "execution_count": 210,
   "id": "7510a974",
   "metadata": {},
   "outputs": [
    {
     "name": "stderr",
     "output_type": "stream",
     "text": [
      "C:\\Users\\z3258367\\Anaconda3\\envs\\ox\\lib\\site-packages\\geopandas\\io\\file.py:389: DeprecationWarning: distutils Version classes are deprecated. Use packaging.version instead.\n",
      "  if LooseVersion(gdal_version) >= LooseVersion(\"3.0.0\") and crs:\n"
     ]
    }
   ],
   "source": [
    "output_areas_w.to_file((folder +\n",
    "                         \"Walkability\\\\Other Cities\\\\Colouring data & results\\\\Edinburgh Data\\\\\" + \n",
    "                         \"Edinburgh_4m_results_170622.gpkg\"))"
   ]
  },
  {
   "cell_type": "code",
   "execution_count": 216,
   "id": "1dedec6d",
   "metadata": {},
   "outputs": [
    {
     "data": {
      "text/html": [
       "<div>\n",
       "<style scoped>\n",
       "    .dataframe tbody tr th:only-of-type {\n",
       "        vertical-align: middle;\n",
       "    }\n",
       "\n",
       "    .dataframe tbody tr th {\n",
       "        vertical-align: top;\n",
       "    }\n",
       "\n",
       "    .dataframe thead th {\n",
       "        text-align: right;\n",
       "    }\n",
       "</style>\n",
       "<table border=\"1\" class=\"dataframe\">\n",
       "  <thead>\n",
       "    <tr style=\"text-align: right;\">\n",
       "      <th></th>\n",
       "      <th>OBJECTID</th>\n",
       "      <th>code</th>\n",
       "      <th>masterpc</th>\n",
       "      <th>easting</th>\n",
       "      <th>northing</th>\n",
       "      <th>geometry</th>\n",
       "      <th>All people</th>\n",
       "      <th>Males</th>\n",
       "      <th>Females</th>\n",
       "      <th>Lives in a household</th>\n",
       "      <th>...</th>\n",
       "      <th>errands4_walk</th>\n",
       "      <th>errands5_walk</th>\n",
       "      <th>errands_8.9_walk</th>\n",
       "      <th>recreation1_walk</th>\n",
       "      <th>recreation2_walk</th>\n",
       "      <th>recreation3_walk</th>\n",
       "      <th>recreation4_walk</th>\n",
       "      <th>recreation5_walk</th>\n",
       "      <th>recreation_23.3_walk</th>\n",
       "      <th>THERE_Index_walk</th>\n",
       "    </tr>\n",
       "  </thead>\n",
       "  <tbody>\n",
       "    <tr>\n",
       "      <th>28711</th>\n",
       "      <td>28712</td>\n",
       "      <td>S00105971</td>\n",
       "      <td>EH14 7EJ</td>\n",
       "      <td>316388</td>\n",
       "      <td>666035</td>\n",
       "      <td>POINT (478850.039 6192795.524)</td>\n",
       "      <td>171</td>\n",
       "      <td>87</td>\n",
       "      <td>84</td>\n",
       "      <td>171</td>\n",
       "      <td>...</td>\n",
       "      <td>400.0</td>\n",
       "      <td>446.0</td>\n",
       "      <td>6.441</td>\n",
       "      <td>344.0</td>\n",
       "      <td>446.0</td>\n",
       "      <td>447.0</td>\n",
       "      <td>472.0</td>\n",
       "      <td>479.0</td>\n",
       "      <td>14.912</td>\n",
       "      <td>35.273</td>\n",
       "    </tr>\n",
       "    <tr>\n",
       "      <th>40925</th>\n",
       "      <td>40926</td>\n",
       "      <td>S00106496</td>\n",
       "      <td>EH30 9QP</td>\n",
       "      <td>313215</td>\n",
       "      <td>677667</td>\n",
       "      <td>POINT (475509.540 6204379.001)</td>\n",
       "      <td>172</td>\n",
       "      <td>83</td>\n",
       "      <td>89</td>\n",
       "      <td>172</td>\n",
       "      <td>...</td>\n",
       "      <td>379.0</td>\n",
       "      <td>417.0</td>\n",
       "      <td>6.242</td>\n",
       "      <td>182.0</td>\n",
       "      <td>211.0</td>\n",
       "      <td>211.0</td>\n",
       "      <td>305.0</td>\n",
       "      <td>314.0</td>\n",
       "      <td>17.750</td>\n",
       "      <td>42.529</td>\n",
       "    </tr>\n",
       "    <tr>\n",
       "      <th>27245</th>\n",
       "      <td>27246</td>\n",
       "      <td>S00106508</td>\n",
       "      <td>EH30 9JW</td>\n",
       "      <td>313503</td>\n",
       "      <td>677951</td>\n",
       "      <td>POINT (475793.360 6204667.102)</td>\n",
       "      <td>130</td>\n",
       "      <td>62</td>\n",
       "      <td>68</td>\n",
       "      <td>130</td>\n",
       "      <td>...</td>\n",
       "      <td>551.0</td>\n",
       "      <td>724.0</td>\n",
       "      <td>5.510</td>\n",
       "      <td>229.0</td>\n",
       "      <td>263.0</td>\n",
       "      <td>263.0</td>\n",
       "      <td>269.0</td>\n",
       "      <td>313.0</td>\n",
       "      <td>17.476</td>\n",
       "      <td>41.223</td>\n",
       "    </tr>\n",
       "    <tr>\n",
       "      <th>388</th>\n",
       "      <td>389</td>\n",
       "      <td>S00106479</td>\n",
       "      <td>EH30 9XB</td>\n",
       "      <td>311994</td>\n",
       "      <td>677986</td>\n",
       "      <td>POINT (474284.210 6204680.289)</td>\n",
       "      <td>179</td>\n",
       "      <td>98</td>\n",
       "      <td>81</td>\n",
       "      <td>179</td>\n",
       "      <td>...</td>\n",
       "      <td>665.0</td>\n",
       "      <td>968.0</td>\n",
       "      <td>5.845</td>\n",
       "      <td>212.0</td>\n",
       "      <td>259.0</td>\n",
       "      <td>667.0</td>\n",
       "      <td>667.0</td>\n",
       "      <td>750.0</td>\n",
       "      <td>14.188</td>\n",
       "      <td>31.816</td>\n",
       "    </tr>\n",
       "    <tr>\n",
       "      <th>28404</th>\n",
       "      <td>28405</td>\n",
       "      <td>S00106478</td>\n",
       "      <td>EH30 9XX</td>\n",
       "      <td>312312</td>\n",
       "      <td>678005</td>\n",
       "      <td>POINT (474601.860 6204703.881)</td>\n",
       "      <td>221</td>\n",
       "      <td>107</td>\n",
       "      <td>114</td>\n",
       "      <td>221</td>\n",
       "      <td>...</td>\n",
       "      <td>595.0</td>\n",
       "      <td>843.0</td>\n",
       "      <td>5.192</td>\n",
       "      <td>220.0</td>\n",
       "      <td>595.0</td>\n",
       "      <td>701.0</td>\n",
       "      <td>721.0</td>\n",
       "      <td>721.0</td>\n",
       "      <td>13.236</td>\n",
       "      <td>30.840</td>\n",
       "    </tr>\n",
       "    <tr>\n",
       "      <th>36201</th>\n",
       "      <td>36202</td>\n",
       "      <td>S00107579</td>\n",
       "      <td>EH30 9LE</td>\n",
       "      <td>313669</td>\n",
       "      <td>678161</td>\n",
       "      <td>POINT (475956.281 6204879.456)</td>\n",
       "      <td>144</td>\n",
       "      <td>72</td>\n",
       "      <td>72</td>\n",
       "      <td>144</td>\n",
       "      <td>...</td>\n",
       "      <td>646.0</td>\n",
       "      <td>937.0</td>\n",
       "      <td>4.739</td>\n",
       "      <td>249.0</td>\n",
       "      <td>317.0</td>\n",
       "      <td>386.0</td>\n",
       "      <td>434.0</td>\n",
       "      <td>457.0</td>\n",
       "      <td>15.834</td>\n",
       "      <td>34.776</td>\n",
       "    </tr>\n",
       "    <tr>\n",
       "      <th>38406</th>\n",
       "      <td>38407</td>\n",
       "      <td>S00106680</td>\n",
       "      <td>EH30 9TA</td>\n",
       "      <td>313608</td>\n",
       "      <td>678310</td>\n",
       "      <td>POINT (475893.138 6205027.544)</td>\n",
       "      <td>57</td>\n",
       "      <td>26</td>\n",
       "      <td>31</td>\n",
       "      <td>56</td>\n",
       "      <td>...</td>\n",
       "      <td>597.0</td>\n",
       "      <td>695.0</td>\n",
       "      <td>6.085</td>\n",
       "      <td>96.0</td>\n",
       "      <td>105.0</td>\n",
       "      <td>105.0</td>\n",
       "      <td>128.0</td>\n",
       "      <td>168.0</td>\n",
       "      <td>19.799</td>\n",
       "      <td>41.015</td>\n",
       "    </tr>\n",
       "  </tbody>\n",
       "</table>\n",
       "<p>7 rows × 154 columns</p>\n",
       "</div>"
      ],
      "text/plain": [
       "       OBJECTID       code  masterpc easting northing  \\\n",
       "28711     28712  S00105971  EH14 7EJ  316388   666035   \n",
       "40925     40926  S00106496  EH30 9QP  313215   677667   \n",
       "27245     27246  S00106508  EH30 9JW  313503   677951   \n",
       "388         389  S00106479  EH30 9XB  311994   677986   \n",
       "28404     28405  S00106478  EH30 9XX  312312   678005   \n",
       "36201     36202  S00107579  EH30 9LE  313669   678161   \n",
       "38406     38407  S00106680  EH30 9TA  313608   678310   \n",
       "\n",
       "                             geometry  All people Males Females  \\\n",
       "28711  POINT (478850.039 6192795.524)         171    87      84   \n",
       "40925  POINT (475509.540 6204379.001)         172    83      89   \n",
       "27245  POINT (475793.360 6204667.102)         130    62      68   \n",
       "388    POINT (474284.210 6204680.289)         179    98      81   \n",
       "28404  POINT (474601.860 6204703.881)         221   107     114   \n",
       "36201  POINT (475956.281 6204879.456)         144    72      72   \n",
       "38406  POINT (475893.138 6205027.544)          57    26      31   \n",
       "\n",
       "      Lives in a household  ... errands4_walk errands5_walk errands_8.9_walk  \\\n",
       "28711                  171  ...         400.0         446.0            6.441   \n",
       "40925                  172  ...         379.0         417.0            6.242   \n",
       "27245                  130  ...         551.0         724.0            5.510   \n",
       "388                    179  ...         665.0         968.0            5.845   \n",
       "28404                  221  ...         595.0         843.0            5.192   \n",
       "36201                  144  ...         646.0         937.0            4.739   \n",
       "38406                   56  ...         597.0         695.0            6.085   \n",
       "\n",
       "      recreation1_walk  recreation2_walk  recreation3_walk  recreation4_walk  \\\n",
       "28711            344.0             446.0             447.0             472.0   \n",
       "40925            182.0             211.0             211.0             305.0   \n",
       "27245            229.0             263.0             263.0             269.0   \n",
       "388              212.0             259.0             667.0             667.0   \n",
       "28404            220.0             595.0             701.0             721.0   \n",
       "36201            249.0             317.0             386.0             434.0   \n",
       "38406             96.0             105.0             105.0             128.0   \n",
       "\n",
       "       recreation5_walk  recreation_23.3_walk  THERE_Index_walk  \n",
       "28711             479.0                14.912            35.273  \n",
       "40925             314.0                17.750            42.529  \n",
       "27245             313.0                17.476            41.223  \n",
       "388               750.0                14.188            31.816  \n",
       "28404             721.0                13.236            30.840  \n",
       "36201             457.0                15.834            34.776  \n",
       "38406             168.0                19.799            41.015  \n",
       "\n",
       "[7 rows x 154 columns]"
      ]
     },
     "execution_count": 216,
     "metadata": {},
     "output_type": "execute_result"
    }
   ],
   "source": [
    "output_areas_w[output_areas_w['THERE_Index_transit'] > output_areas_w['THERE_Index_drive']]"
   ]
  }
 ],
 "metadata": {
  "kernelspec": {
   "display_name": "Python 3",
   "language": "python",
   "name": "python3"
  },
  "language_info": {
   "codemirror_mode": {
    "name": "ipython",
    "version": 3
   },
   "file_extension": ".py",
   "mimetype": "text/x-python",
   "name": "python",
   "nbconvert_exporter": "python",
   "pygments_lexer": "ipython3",
   "version": "3.8.13"
  }
 },
 "nbformat": 4,
 "nbformat_minor": 5
}
