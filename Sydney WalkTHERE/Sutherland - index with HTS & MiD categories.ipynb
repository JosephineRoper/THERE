{
 "cells": [
  {
   "cell_type": "code",
   "execution_count": 2,
   "id": "5427baeb",
   "metadata": {},
   "outputs": [
    {
     "name": "stdout",
     "output_type": "stream",
     "text": [
      "The autoreload extension is already loaded. To reload it, use:\n",
      "  %reload_ext autoreload\n"
     ]
    }
   ],
   "source": [
    "%load_ext autoreload\n",
    "%autoreload 2"
   ]
  },
  {
   "cell_type": "code",
   "execution_count": 3,
   "id": "2c6e251a",
   "metadata": {},
   "outputs": [],
   "source": [
    "import numpy as np\n",
    "import pandana as pdna\n",
    "import geopandas as gpd\n",
    "import pandas as pd\n",
    "import math\n",
    "import networkx as nx\n",
    "import sys\n",
    "# adding functions \n",
    "sys.path.insert(0, 'C:\\\\Users\\\\z3258367\\\\OneDrive - UNSW\\\\#PhD\\\\Walkability\\\\Other Cities\\\\Open-Walk-Index')\n",
    "from walkability_functions import *"
   ]
  },
  {
   "cell_type": "markdown",
   "id": "0ee150b9",
   "metadata": {},
   "source": [
    "Choose a projected CRS to be used for all distance calculations."
   ]
  },
  {
   "cell_type": "code",
   "execution_count": 4,
   "id": "0dc18490",
   "metadata": {},
   "outputs": [],
   "source": [
    "proj_crs = \"EPSG:7856\""
   ]
  },
  {
   "cell_type": "markdown",
   "id": "6dc208e1",
   "metadata": {},
   "source": [
    "## Import Data\n",
    "\n",
    "Data sources:\n",
    "1. Shape of Greater Sydney - used to clip points\n",
    "2. Points of interest from OSM - using Geofabriks shapefiles as the source\n",
    "3. Transport for NSW public transport stops\n",
    "4. Spatial Services NSW for additional POIs\n",
    "5. Employment data - processed from ABS originally"
   ]
  },
  {
   "cell_type": "code",
   "execution_count": 189,
   "id": "c4f527da",
   "metadata": {},
   "outputs": [],
   "source": [
    "folder = \"C:\\\\Users\\\\z3258367\\\\OneDrive - UNSW\\\\#PhD\\\\\"\n",
    "Sutherland = gpd.read_file((folder + \n",
    "    \"Walkability\\\\Other Cities\\\\Colouring data & results\\\\Sydney Data\\\\Data\\\\Sutherland LGA.gpkg\")\n",
    "    ).to_crs(proj_crs)"
   ]
  },
  {
   "cell_type": "code",
   "execution_count": 92,
   "id": "5b30448f",
   "metadata": {},
   "outputs": [],
   "source": [
    "osm_poi_points = gpd.read_file(''.join((folder, \n",
    "    \"Walkability\\\\Mavoa\\\\Pandana inputs\\\\Greater_Sydney_OSM_POIs_sp.shp\")))\n",
    "osm_poi_areas = gpd.read_file(folder + \n",
    "    \"Walkability\\\\Mavoa\\\\Pandana inputs\\\\Greater_Sydney_OSM_POIs_a_sp.gpkg\")\n",
    "osm_transport_points = gpd.read_file(folder +\n",
    "    \"Walkability\\\\Mavoa\\\\Pandana inputs\\\\Greater_Sydney_OSM_transport_sp.shp\")\n",
    "osm_transport_areas =  gpd.read_file(folder +\n",
    "    \"Data\\\\OSM-australia-latest-free\\\\gis_osm_transport_a_free_1.shp\")\n",
    "osm_pow_points = gpd.read_file(folder + \n",
    "    \"Data\\\\OSM-australia-latest-free\\\\gis_osm_pofw_free_1.shp\")\n",
    "osm_pow_areas = gpd.read_file(folder + \n",
    "    \"Data\\\\OSM-australia-latest-free\\\\gis_osm_pofw_a_free_1.shp\")\n",
    "osm_natural = gpd.read_file(folder + \n",
    "    \"Data\\\\OSM-australia-latest-free\\\\gis_osm_natural_a_free_1.shp\")\n",
    "osm_govt_points = gpd.read_file(folder + \n",
    "    \"Walkability\\\\Other Cities\\\\Colouring data & results\\\\Shared Aus Data\\\\OSM government offices.gpkg\",\n",
    "                             layer = \"OSM government offices points\").to_crs(osm_natural.crs)\n",
    "osm_govt_points['fclass'] = 'government'\n",
    "osm_govt_areas = gpd.read_file(folder + \n",
    "    \"Walkability\\\\Other Cities\\\\Colouring data & results\\\\Shared Aus Data\\\\OSM government offices.gpkg\",\n",
    "                             layer = \"OSM government offices areas\").to_crs(osm_natural.crs)\n",
    "osm_govt_areas['fclass'] = 'government'\n",
    "\n",
    "# the OSM POIs includes domestic swimming pools in some suburbs. This line removes swimming pools less than 100m2.\n",
    "# Same for domestic tennis courts appearing as 'pitches'. Removed pitches below 450m2.\n",
    "osm_poi_areas = osm_poi_areas[~((osm_poi_areas['fclass']=='swimming_pool') & (osm_poi_areas.to_crs(proj_crs).area < 100))]\n",
    "osm_poi_areas = osm_poi_areas[~((osm_poi_areas['fclass']=='pitch') & (osm_poi_areas.to_crs(proj_crs).area < 450))]"
   ]
  },
  {
   "cell_type": "code",
   "execution_count": 7,
   "id": "06524e14",
   "metadata": {},
   "outputs": [],
   "source": [
    "# import SS NSW data\n",
    "SS_NSW = gpd.read_file((folder + \n",
    "                        \"Data\\\\NSW Spatial Services\\\\NSW_Features_of_Interest_Category.gdb\"),layer='BuildingComplexPoint')\n",
    "SS_NSW.to_crs(Sutherland.crs, inplace = True)\n",
    "SS_NSW['fclass'] = (SS_NSW['classsubtype'].astype(str) + \"-\" \n",
    "                    + SS_NSW['buildingcomplextype'].astype(str))\n",
    "\n",
    "# add general cultural points\n",
    "SS_NSW_gc = gpd.read_file((folder + \n",
    "                           \"Data\\\\NSW Spatial Services\\\\NSW_Features_of_Interest_Category.gdb\"),layer='GeneralCulturalPoint')\n",
    "SS_NSW_gc.to_crs(Sutherland.crs, inplace = True)\n",
    "SS_NSW_gc['fclass'] = (SS_NSW_gc['classsubtype'].astype(str) + \"-\" \n",
    "                       + SS_NSW_gc['generalculturaltype'].astype(str) + \"-gc\")\n",
    "\n",
    "SS_NSW = pd.concat([SS_NSW, SS_NSW_gc]).to_crs(proj_crs)"
   ]
  },
  {
   "cell_type": "code",
   "execution_count": 8,
   "id": "ab2869c5",
   "metadata": {},
   "outputs": [],
   "source": [
    "SS_names = {'4-10': 'shopping centre', '2-18': 'post office', '2-16': 'place of worship',\n",
    " '3-3': 'health centre', '3-5': 'health centre', '3-6': 'health centre',\n",
    " '1-1': 'school', '1-2': 'school', '1-3': 'school', '1-5': 'school', '1-6': 'school',\n",
    " '1-8': 'school', '1-4': 'university', '1-7': 'childcare',\n",
    " '2-2': 'art gallery', '2-11': 'library', '2-14': 'museum',\n",
    " '6-12': 'sports centre', '6-18': 'zoo', '1-6-gc': 'outdoor theater',\n",
    " '6-15': 'swimming pool', '9-2-gc': 'swimming pool',\n",
    " '6-17': 'tourist attraction', '1-2-gc': 'golf course', '1-5-gc': 'lookout',\n",
    " '1-7-gc': 'park', '1-8-gc': 'picnic area', '1-12-gc': 'sports field', '1-13-gc': 'sports field'}\n",
    "\n",
    "SS_NSW.replace({'fclass': SS_names},inplace=True)"
   ]
  },
  {
   "cell_type": "code",
   "execution_count": 136,
   "id": "fa0b7eea",
   "metadata": {},
   "outputs": [],
   "source": [
    "employment_centrs = gpd.read_file((folder + \n",
    "                        \"Walkability\\\\Other Cities\\\\Colouring data & results\\\\Sydney Data\\\\Data\\\\NSW_Employment_meshblocks.gpkg\"),\n",
    "                                  layer='centroids').to_crs(proj_crs)\n",
    "    #\"Data\\\\Colouring\\\\Centroids employment MBs.gpkg\")"
   ]
  },
  {
   "cell_type": "markdown",
   "id": "636647db",
   "metadata": {},
   "source": [
    "Convert polygonal datasets to points and any multipart datasets to single part."
   ]
  },
  {
   "cell_type": "code",
   "execution_count": 120,
   "id": "763e8027",
   "metadata": {},
   "outputs": [],
   "source": [
    "osm_pois_2 = single_points(osm_poi_areas)\n",
    "osm_transport_2 = single_points(osm_transport_areas)\n",
    "osm_pow_2 = single_points(osm_pow_areas)\n",
    "osm_natural_2 = single_points(osm_natural)\n",
    "osm_govt_2 = single_points(osm_govt_areas)\n",
    "\n",
    "osm_df = pd.concat([osm_poi_points, osm_pois_2, osm_transport_points, osm_govt_points,\n",
    "                    osm_transport_2, osm_pow_points, osm_pow_2, osm_natural_2, osm_govt_2]).to_crs(proj_crs)\n",
    "\n",
    "osm_df = gpd.clip(osm_df, Sutherland).iloc[:,0:5]"
   ]
  },
  {
   "cell_type": "markdown",
   "id": "c456dd5a",
   "metadata": {},
   "source": [
    "### Residential population"
   ]
  },
  {
   "cell_type": "code",
   "execution_count": 11,
   "id": "a3df8ea7",
   "metadata": {},
   "outputs": [],
   "source": [
    "meshblocks = pd.read_csv(''.join(folder + \"Data\\\\ABS Data\\\\2016 census mesh block counts.csv\"))\n",
    "mb_shapes = gpd.read_file(''.join(folder + \"Data\\\\ABS Data\\\\2016_NSW_MBs\\\\MB_2016_NSW.shp\"))"
   ]
  },
  {
   "cell_type": "code",
   "execution_count": 12,
   "id": "e2a45995",
   "metadata": {},
   "outputs": [],
   "source": [
    "mb_shapes['MB_CODE16'] = mb_shapes['MB_CODE16'].astype('int64')\n",
    "\n",
    "pop_mbs = mb_shapes.join(meshblocks.set_index('MB_CODE_2016'), on='MB_CODE16', how='inner', rsuffix='_2')\n",
    "pop_mbs['geometry'] = pop_mbs['geometry'].to_crs(proj_crs).centroid\n",
    "\n",
    "pop_pois = pop_mbs[(pop_mbs['Person'] > 0) & ~(pop_mbs['geometry'].isnull())][\n",
    "    ['MB_CODE16', 'MB_CATEGORY_NAME_2016', 'AREA_ALBERS_SQKM', 'Person','geometry']]\n",
    "pop_pois['fclass'] = 'residential'"
   ]
  },
  {
   "cell_type": "markdown",
   "id": "901b178e",
   "metadata": {},
   "source": [
    " 10,000 for population? Micropolitan size?\n",
    " For jobs: Colin Clark reports that cities need 100,000-200,000 in order to provide an adequate range of commercial services. 200-500k to support broadly based manufacturing activity."
   ]
  },
  {
   "cell_type": "markdown",
   "id": "96944dbd",
   "metadata": {},
   "source": [
    "### Categorise and weight POIs"
   ]
  },
  {
   "cell_type": "markdown",
   "id": "94b0c568",
   "metadata": {},
   "source": [
    "Choose walk index weightings, and output the sums of each category and the total to check. The walk index will be out of 100 regardless of this sum, but it is important to note that eg. shopping is only '10% of the walk index' if shopping is 10 out of 100."
   ]
  },
  {
   "cell_type": "code",
   "execution_count": 13,
   "id": "2d7552c9",
   "metadata": {},
   "outputs": [],
   "source": [
    "poi_weights = {\n",
    "    \"employment\": 29,\n",
    "    \"education\": 13,\n",
    "    \"daily needs\": 13.8,\n",
    "    \"other goods\": 5.8,\n",
    "    \"services\": 1.5,\n",
    "    \"medical\": 3.6,\n",
    "    \"errands\": 1.5,\n",
    "    \"visiting\": 9.4,\n",
    "    \"cultural\": 1.5,\n",
    "    \"events\": 1.5,\n",
    "    \"sports\": 4.4,\n",
    "    \"restaurants\": 3.6,\n",
    "    \"day trip\": 0.7,\n",
    "    \"walk/jog/ride\": 5.1,\n",
    "    \"walk dog\": 2.9,\n",
    "    \"religious\": 1.5,\n",
    "    \"accompany children\": 1.5,\n",
    "}\n",
    "\n",
    "poi_numbers = {\n",
    "    \"employment\": 100,\n",
    "    \"education\": 5,\n",
    "    \"daily needs\": 5,\n",
    "    \"other goods\": 5,\n",
    "    \"services\": 5,\n",
    "    \"medical\": 5,\n",
    "    \"errands\": 5,\n",
    "    \"visiting\": 5,\n",
    "    \"cultural\": 5,\n",
    "    \"events\": 5,\n",
    "    \"sports\": 5,\n",
    "    \"restaurants\": 5,\n",
    "    \"day trip\": 5,\n",
    "    \"walk/jog/ride\": 5,\n",
    "    \"walk dog\": 5,\n",
    "    \"religious\": 5,\n",
    "    \"accompany children\": 5,\n",
    "}\n"
   ]
  },
  {
   "cell_type": "code",
   "execution_count": null,
   "id": "b9293f04",
   "metadata": {},
   "outputs": [],
   "source": [
    "poi_numbers = {\n",
    "    \"employment\": 100,\n",
    "    \"education\": 5,\n",
    "    \"daily needs\": 5,\n",
    "    \"other goods\": 5,\n",
    "    \"services\": 5,\n",
    "    \"medical\": 5,\n",
    "    \"errands\": 5,\n",
    "    \"visiting\": 5,\n",
    "    \"cultural\": 5,\n",
    "    \"events\": 5,\n",
    "    \"sports\": 5,\n",
    "    \"restaurants\": 5,\n",
    "    \"day trip\": 5,\n",
    "    \"walk/jog/ride\": 5,\n",
    "    \"walk dog\": 5,\n",
    "    \"religious\": 5,\n",
    "    \"accompany children\": 5,\n",
    "}\n"
   ]
  },
  {
   "cell_type": "code",
   "execution_count": 14,
   "id": "b7f4b63d",
   "metadata": {},
   "outputs": [
    {
     "name": "stdout",
     "output_type": "stream",
     "text": [
      "total:  100.3\n"
     ]
    }
   ],
   "source": [
    "#category_sums = {k: sum(v) for k, v in poi_weights.items()}\n",
    "#print(category_sums)\n",
    "total = sum(poi_weights.values())\n",
    "print(\"total: \", total)"
   ]
  },
  {
   "cell_type": "markdown",
   "id": "72d8be1e",
   "metadata": {},
   "source": [
    "The purpose of this section now is just to align the different sources of information so that their tags are in the same column, eg 'category'. "
   ]
  },
  {
   "cell_type": "markdown",
   "id": "9f38e444",
   "metadata": {},
   "source": [
    "Categorise POI data - change classes depending on your analysis and your data sources."
   ]
  },
  {
   "cell_type": "code",
   "execution_count": 121,
   "id": "483b4ae7",
   "metadata": {},
   "outputs": [
    {
     "name": "stdout",
     "output_type": "stream",
     "text": [
      "Tags present in the dataset but not categorised:\n",
      "['bench' 'toilet' 'memorial' 'tourist_info' 'caravan_site' 'fire_station'\n",
      " 'railway_station' 'drinking_water' 'motel' 'waste_basket' 'camp_site'\n",
      " 'picnic_site' 'telephone' 'comms_tower' 'tower' 'water_works' 'bus_stop'\n",
      " 'nursing_home' 'public_building' 'police' 'shelter' 'tram_stop'\n",
      " 'fountain' 'guesthouse' 'car_wash' 'recycling' 'observation_tower'\n",
      " 'vending_machine' 'bus_station' 'taxi' 'water_tower' 'monument'\n",
      " 'camera_surveillance' 'hostel' 'recycling_clothes' 'vending_any'\n",
      " 'car_rental' 'recycling_glass' 'wastewater_plant' 'lighthouse']\n",
      "Tags present in the dataset but not categorised:\n",
      "['4-6' '2-24' '5-9' '2-0' '5-10' '2-8' '2-12' '3-0' '2-4' '6-3' '2-17'\n",
      " '2-21' '2-20' '2-9' '5-8' '4-7' '4-4' '4-8' '2-23' '1-0' '3-1' '2-19'\n",
      " '2-5' '4-0' '2-6' '2-7' '2-1' '5-1' '4-1' '2-10' '2-15' '5-5' '5-11'\n",
      " '5-2' '4-2' '4-3' '5-3' '4-9' '5-6' '3-4' '5-7' '6-0' '5-0' '6-2'\n",
      " '4-11-gc' 'picnic area' '12-0-gc' '8-0-gc' '4-12-gc' '1-4-gc' '4-7-gc'\n",
      " '7-0-gc' '4-6-gc' '4-2-gc' '8-2-gc' '6-5-gc' '1-14-gc' '12-1-gc' '1-1-gc'\n",
      " '7-2-gc' '7-1-gc' '1-11-gc' '4-9-gc' '4-3-gc' '5-0-gc' '5-1-gc' '4-0-gc'\n",
      " '4-4-gc' '6-2-gc' '2-0-gc' '4-8-gc' '2-1-gc' '8-1-gc' '1-3-gc' '3-1-gc'\n",
      " '6-4-gc' '7-3-gc' '4-5-gc' '2-2-gc' '6-7-gc' '7-4-gc' '6-8-gc' '6-6-gc'\n",
      " '6-3-gc' '2-3-gc' '1-10-gc' '4-13-gc' '1-0-gc' '7-5-gc' '9-0-gc' '9-1-gc'\n",
      " '6-1-gc' '3-0-gc' '6-0-gc']\n",
      "Tags present in the dataset but not categorised:\n",
      "[]\n"
     ]
    }
   ],
   "source": [
    "poi_categories = {'employment':[],\n",
    "                  'daily needs' : ['supermarket', 'greengrocer','butcher','convenience',\n",
    "                                   'kiosk', 'beverages', 'alcohol', 'bakery', ],\n",
    "                  'other goods' : [\"shopping centre\", 'mall', 'bicycle_shop', 'clothes', 'department_store', \n",
    "                                   'doityourself', 'beauty_shop', 'outdoor_shop', \n",
    "                                   'stationery', 'bookshop', 'gift_shop', 'newsagent', \n",
    "                                   'car_dealership', 'furniture_shop', 'sports_shop',\n",
    "                                   'garden_centre', 'computer_shop', 'shoe_shop', 'florist', \n",
    "                                   'video_shop', 'toy_shop', 'mobile_phone_shop', 'jeweller'],\n",
    "                  'services': ['hairdresser', 'optician', 'travel_agent','laundry', 'veterinary', ],                 \n",
    "                  'medical': [\"health centre\",'chemist', 'pharmacy','doctors', 'dentist','hospital',],                  \n",
    "                  'errands' : [\"post office\",'post_box', 'post_office', 'bank', 'atm',\n",
    "                               'courthouse', 'government' ], \n",
    "                  'education' : [\"childcare\", 'college', 'school', 'kindergarten', 'university'],\n",
    "                  'visiting' : ['residential'],\n",
    "                  'cultural' : [\"art gallery\", \"outdoor theater\", 'arts_centre', 'theatre', 'artwork',\n",
    "                                'library','archaeological', 'cinema', 'museum', 'ruins',],\n",
    "                  'events' : ['stadium', 'marketplace', 'community_centre', 'library',],\n",
    "                  'sports' : [\"sports centre\", \"sports field\", \"swimming pool\", \"golf course\", \n",
    "                              'ice_rink','pitch', 'swimming_pool', 'sports_centre', \n",
    "                              'golf_course', 'track',],\n",
    "                  'further education' : ['community_centre', 'library','college'],\n",
    "                  'restaurants' : ['restaurant', 'pub', 'cafe', 'fast_food', 'bar',  \n",
    "                                   'food_court', 'nightclub', 'biergarten',],\n",
    "                  'day trip' : [\"tourist attraction\", \"lookout\", 'attraction', 'zoo', 'castle', \n",
    "                                'theme_park',],\n",
    "                  'walk/jog/ride' : ['park', 'viewpoint', 'beach'],\n",
    "                  'walk dog' : ['dog_park', 'park',],\n",
    "                  'religious' : [\"place of worship\", 'graveyard', 'christian_anglican', 'muslim',\n",
    "                                'christian', 'christian_catholic', 'christian_protestant',\n",
    "                                'christian_lutheran', 'hindu', 'christian_evangelical',\n",
    "                                'christian_methodist', 'buddhist', 'sikh', 'christian_orthodox', 'jewish',\n",
    "                                'muslim_sunni', 'taoist', 'muslim_shia'],\n",
    "                  'hobby' : [],\n",
    "                  'accompany children' : ['playground', 'library',],\n",
    "                    }\n",
    "\n",
    "osm_categorised = categorise_pois(osm_df, poi_categories, \n",
    "                                  old_column='fclass')\n",
    "SS_categorised = categorise_pois(SS_NSW, poi_categories, \n",
    "                                 old_column='fclass')\n",
    "pop_categorised = categorise_pois(pop_pois, poi_categories, \n",
    "                                 old_column='fclass')"
   ]
  },
  {
   "cell_type": "markdown",
   "id": "d5588632",
   "metadata": {},
   "source": [
    "Need to remove potential overlap between different data sources (and inside some data sources). For this dataset it's around 30% because there is overlap of public transport stops between OSM and TfNSW, and overlap of things like post offices between OSM and SSNSW. Then take this combined POI set and clip it to the study area: should be the same area as is covered by the network. This is important otherwise points outside the network may be erroneously linked to the network."
   ]
  },
  {
   "cell_type": "code",
   "execution_count": 16,
   "id": "a26286de",
   "metadata": {},
   "outputs": [
    {
     "name": "stdout",
     "output_type": "stream",
     "text": [
      "Removed 0.19% duplicate points from dataframes\n"
     ]
    }
   ],
   "source": [
    "pois = remove_duplicate_pois([osm_categorised, SS_categorised, pop_categorised], buffer=10)\n",
    "\n",
    "pois = gpd.clip(pois, Greater_Sydney)"
   ]
  },
  {
   "cell_type": "markdown",
   "id": "41834e86",
   "metadata": {},
   "source": [
    "### Import network"
   ]
  },
  {
   "cell_type": "markdown",
   "id": "bdd12d7d",
   "metadata": {},
   "source": [
    "In this case the network is already in the same projected CRS as everything else but I have left in the transformation to be clear."
   ]
  },
  {
   "cell_type": "code",
   "execution_count": 19,
   "id": "b32c64f1",
   "metadata": {},
   "outputs": [
    {
     "name": "stderr",
     "output_type": "stream",
     "text": [
      "C:\\Users\\z3258367\\Anaconda3\\envs\\ox\\lib\\site-packages\\IPython\\core\\interactiveshell.py:3331: DtypeWarning: Columns (2,4,5,7,9,13,14,19,21) have mixed types.Specify dtype option on import or set low_memory=False.\n",
      "  exec(code_obj, self.user_global_ns, self.user_ns)\n",
      "C:\\Users\\z3258367\\Anaconda3\\envs\\ox\\lib\\site-packages\\IPython\\core\\interactiveshell.py:3331: DtypeWarning: Columns (6,11,12) have mixed types.Specify dtype option on import or set low_memory=False.\n",
      "  exec(code_obj, self.user_global_ns, self.user_ns)\n"
     ]
    },
    {
     "name": "stdout",
     "output_type": "stream",
     "text": [
      "<class 'str'>\n",
      "<class 'str'>\n"
     ]
    }
   ],
   "source": [
    "# reading directly with geopandas.read_file crashes on my computer so I read into pandas then convert to gdf instead\n",
    "edges_df = pd.read_csv(folder + \"Walkability//Other Cities//Colouring data & results//Sydney data//Data//colouring_edges_150322.csv\")\n",
    "nodes_df = pd.read_csv(folder + \"Walkability//Other Cities//Colouring data & results//Sydney data//Data//colouring_nodes_150322.csv\")\n",
    "edges = gpd.GeoDataFrame(edges_df, \n",
    "                         geometry=gpd.GeoSeries.from_wkt(edges_df['geometry'])).set_crs(proj_crs)\n",
    "nodes = gpd.GeoDataFrame(nodes_df, \n",
    "                         geometry=gpd.GeoSeries.from_wkt(nodes_df['geometry'])).set_crs(proj_crs)\n",
    "edges = edges.to_crs(proj_crs)\n",
    "nodes = nodes.to_crs(proj_crs)"
   ]
  },
  {
   "cell_type": "code",
   "execution_count": 20,
   "id": "1d3b3463",
   "metadata": {},
   "outputs": [],
   "source": [
    "edges = gpd.clip(edges, Greater_Sydney)\n",
    "nodes = gpd.clip(nodes, Greater_Sydney)\n",
    "# after clip if problems:\n",
    "# Make sure all nodes are in edge list\n",
    "# Make sure node index is named 'id_node' or at least something, and is the actual list of ids that aligns with edge index"
   ]
  },
  {
   "cell_type": "markdown",
   "id": "792785b1",
   "metadata": {},
   "source": [
    "Pandana expects edges to have a two item index based on the same IDs as the node index."
   ]
  },
  {
   "cell_type": "code",
   "execution_count": 21,
   "id": "b6eafa0b",
   "metadata": {},
   "outputs": [],
   "source": [
    "nodes.set_index('connect_id',inplace=True)\n",
    "\n",
    "edges['from_idx'] = edges['from']\n",
    "edges['to_idx'] = edges['to']\n",
    "edges= edges.set_index(['from_idx', 'to_idx'])\n",
    "edges.index.names= ['from_idx','to_idx']"
   ]
  },
  {
   "cell_type": "code",
   "execution_count": 22,
   "id": "83aa53c4",
   "metadata": {},
   "outputs": [],
   "source": [
    "d_edges = edges[edges['to'].isin(nodes.index) & edges['from'].isin(nodes.index)]"
   ]
  },
  {
   "cell_type": "code",
   "execution_count": 23,
   "id": "5bf2153e",
   "metadata": {},
   "outputs": [
    {
     "data": {
      "text/plain": [
       "193524"
      ]
     },
     "execution_count": 23,
     "metadata": {},
     "output_type": "execute_result"
    }
   ],
   "source": [
    "len(d_edges)"
   ]
  },
  {
   "cell_type": "markdown",
   "id": "f02dfca0",
   "metadata": {},
   "source": [
    "## Pandana network creation."
   ]
  },
  {
   "cell_type": "code",
   "execution_count": 24,
   "id": "72c0e94d",
   "metadata": {},
   "outputs": [],
   "source": [
    "distance_network = pdna.Network(nodes['x'], nodes['y'],\n",
    "                                   d_edges['from'], d_edges['to'], \n",
    "                                   d_edges[['length']])\n",
    "\n",
    "maximum_dist = 2400"
   ]
  },
  {
   "cell_type": "markdown",
   "id": "e240d8fb",
   "metadata": {},
   "source": [
    "Get distributions of number of reachable destinations in each category across the network, to check whether the max destinations we use is reasonable."
   ]
  },
  {
   "cell_type": "markdown",
   "id": "09754e3b",
   "metadata": {},
   "source": [
    "### Pandana network querying. \n",
    "The 'employment' category is empty because we didn't add the employment points to the POI dataset."
   ]
  },
  {
   "cell_type": "code",
   "execution_count": 25,
   "id": "9c333174",
   "metadata": {},
   "outputs": [
    {
     "name": "stdout",
     "output_type": "stream",
     "text": [
      "Category employment is empty\n",
      "Finished category: education\n",
      "Finished category: daily needs\n",
      "Finished category: other goods\n",
      "Finished category: services\n",
      "Finished category: medical\n",
      "Finished category: errands\n",
      "Finished category: visiting\n",
      "Finished category: cultural\n",
      "Finished category: events\n",
      "Finished category: sports\n",
      "Finished category: restaurants\n",
      "Finished category: day trip\n",
      "Finished category: walk/jog/ride\n",
      "Finished category: walk dog\n",
      "Finished category: religious\n",
      "Finished category: accompany children\n"
     ]
    }
   ],
   "source": [
    "results_4 = walk_index(distance_network, pois, poi_categories, poi_weights, poi_numbers, distance=maximum_dist)  "
   ]
  },
  {
   "cell_type": "code",
   "execution_count": 26,
   "id": "8a7bd4cb",
   "metadata": {
    "scrolled": true
   },
   "outputs": [
    {
     "name": "stdout",
     "output_type": "stream",
     "text": [
      "employment 0\n",
      "education 186\n",
      "daily needs 108\n",
      "other goods 121\n",
      "services 28\n",
      "medical 55\n",
      "errands 114\n",
      "visiting 2207\n",
      "cultural 49\n",
      "events 1\n",
      "sports 417\n",
      "restaurants 197\n",
      "day trip 19\n",
      "walk/jog/ride 558\n",
      "walk dog 470\n",
      "religious 132\n",
      "accompany children 125\n"
     ]
    }
   ],
   "source": [
    "for cat in list(poi_numbers.keys()):\n",
    "    print(cat, len(pois[pois['category'].isin(poi_categories[cat])]))"
   ]
  },
  {
   "cell_type": "code",
   "execution_count": 27,
   "id": "62a7e093",
   "metadata": {},
   "outputs": [],
   "source": [
    "#counts = primal_2(distance_network, pois, 2400, list(poi_categories.keys()), poi_categories)"
   ]
  },
  {
   "cell_type": "code",
   "execution_count": 28,
   "id": "5cbca5f9",
   "metadata": {
    "scrolled": true
   },
   "outputs": [],
   "source": [
    "#counts[nodes['connect_type'] == 'poi'].describe(percentiles=[.25, .5, .75]).applymap(lambda x: format(x, 'g'))"
   ]
  },
  {
   "cell_type": "code",
   "execution_count": 29,
   "id": "e24a2244",
   "metadata": {},
   "outputs": [],
   "source": [
    "#counts.to_csv(\"Sutherland reachable POI counts.csv\")"
   ]
  },
  {
   "cell_type": "code",
   "execution_count": 30,
   "id": "5af35010",
   "metadata": {},
   "outputs": [],
   "source": [
    "#counts[nodes['connect_type'] == 'poi'].education.hist(bins=37)"
   ]
  },
  {
   "cell_type": "code",
   "execution_count": 31,
   "id": "ee95d5c4",
   "metadata": {},
   "outputs": [
    {
     "data": {
      "text/plain": [
       "0.5349904935069092"
      ]
     },
     "execution_count": 31,
     "metadata": {},
     "output_type": "execute_result"
    }
   ],
   "source": [
    "max(results_4['Walk_Index'])/100"
   ]
  },
  {
   "cell_type": "markdown",
   "id": "b75a274f",
   "metadata": {},
   "source": [
    "### Employment"
   ]
  },
  {
   "cell_type": "markdown",
   "id": "933c5d9e",
   "metadata": {},
   "source": [
    "The current approach is to find up to 100 closest employment nodes within the maximum distance. Then look up the number of jobs at each one, apply a distance decay function to each distance, multiply these together, and sum.\n",
    "\n",
    "An alternative approach which would be more convenient would be to use the Pandana 'aggregate' function which aggregates from all nodes within the maximum distance. However, there is limited ability to change the distance decay rate within the aggregation function. It can either be flat (no decay), linear (going to 0 at the max distance), or exponential where beta is set as 1/max distance. For walking I would like a beta of 0.001, but this requires the radius to be 1000m. If the radius is 2400m, beta is only 0.0004. This can be changed in the future if the Pandana function is updated to take a decay parameter."
   ]
  },
  {
   "cell_type": "code",
   "execution_count": 138,
   "id": "48e25a64",
   "metadata": {},
   "outputs": [],
   "source": [
    "employment_centrs=employment_centrs.set_index('Jobs')"
   ]
  },
  {
   "cell_type": "code",
   "execution_count": 139,
   "id": "db26c1bd",
   "metadata": {},
   "outputs": [],
   "source": [
    "employment_centrs = gpd.clip(employment_centrs, Sutherland)\n",
    "\n",
    "x, y = (employment_centrs['geometry'].x, employment_centrs['geometry'].y)\n",
    "\n",
    "distance_network.set_pois(category='employment', maxdist=maximum_dist, maxitems=100, x_col=x, y_col=y)\n",
    "\n",
    "employment_access = distance_network.nearest_pois(\n",
    "    distance=maximum_dist, category='employment', num_pois=100, include_poi_ids=True)"
   ]
  },
  {
   "cell_type": "code",
   "execution_count": 147,
   "id": "8f684f67",
   "metadata": {},
   "outputs": [
    {
     "data": {
      "text/html": [
       "<div>\n",
       "<style scoped>\n",
       "    .dataframe tbody tr th:only-of-type {\n",
       "        vertical-align: middle;\n",
       "    }\n",
       "\n",
       "    .dataframe tbody tr th {\n",
       "        vertical-align: top;\n",
       "    }\n",
       "\n",
       "    .dataframe thead th {\n",
       "        text-align: right;\n",
       "    }\n",
       "</style>\n",
       "<table border=\"1\" class=\"dataframe\">\n",
       "  <thead>\n",
       "    <tr style=\"text-align: right;\">\n",
       "      <th></th>\n",
       "      <th>1</th>\n",
       "      <th>2</th>\n",
       "      <th>3</th>\n",
       "      <th>4</th>\n",
       "      <th>5</th>\n",
       "      <th>6</th>\n",
       "      <th>7</th>\n",
       "      <th>8</th>\n",
       "      <th>9</th>\n",
       "      <th>10</th>\n",
       "      <th>...</th>\n",
       "      <th>poi91</th>\n",
       "      <th>poi92</th>\n",
       "      <th>poi93</th>\n",
       "      <th>poi94</th>\n",
       "      <th>poi95</th>\n",
       "      <th>poi96</th>\n",
       "      <th>poi97</th>\n",
       "      <th>poi98</th>\n",
       "      <th>poi99</th>\n",
       "      <th>poi100</th>\n",
       "    </tr>\n",
       "    <tr>\n",
       "      <th>connect_id</th>\n",
       "      <th></th>\n",
       "      <th></th>\n",
       "      <th></th>\n",
       "      <th></th>\n",
       "      <th></th>\n",
       "      <th></th>\n",
       "      <th></th>\n",
       "      <th></th>\n",
       "      <th></th>\n",
       "      <th></th>\n",
       "      <th></th>\n",
       "      <th></th>\n",
       "      <th></th>\n",
       "      <th></th>\n",
       "      <th></th>\n",
       "      <th></th>\n",
       "      <th></th>\n",
       "      <th></th>\n",
       "      <th></th>\n",
       "      <th></th>\n",
       "      <th></th>\n",
       "    </tr>\n",
       "  </thead>\n",
       "  <tbody>\n",
       "    <tr>\n",
       "      <th>5353</th>\n",
       "      <td>1128.739014</td>\n",
       "      <td>2400.0</td>\n",
       "      <td>2400.0</td>\n",
       "      <td>2400.0</td>\n",
       "      <td>2400.0</td>\n",
       "      <td>2400.0</td>\n",
       "      <td>2400.0</td>\n",
       "      <td>2400.0</td>\n",
       "      <td>2400.0</td>\n",
       "      <td>2400.0</td>\n",
       "      <td>...</td>\n",
       "      <td>NaN</td>\n",
       "      <td>NaN</td>\n",
       "      <td>NaN</td>\n",
       "      <td>NaN</td>\n",
       "      <td>NaN</td>\n",
       "      <td>NaN</td>\n",
       "      <td>NaN</td>\n",
       "      <td>NaN</td>\n",
       "      <td>NaN</td>\n",
       "      <td>NaN</td>\n",
       "    </tr>\n",
       "    <tr>\n",
       "      <th>5347</th>\n",
       "      <td>843.046997</td>\n",
       "      <td>2400.0</td>\n",
       "      <td>2400.0</td>\n",
       "      <td>2400.0</td>\n",
       "      <td>2400.0</td>\n",
       "      <td>2400.0</td>\n",
       "      <td>2400.0</td>\n",
       "      <td>2400.0</td>\n",
       "      <td>2400.0</td>\n",
       "      <td>2400.0</td>\n",
       "      <td>...</td>\n",
       "      <td>NaN</td>\n",
       "      <td>NaN</td>\n",
       "      <td>NaN</td>\n",
       "      <td>NaN</td>\n",
       "      <td>NaN</td>\n",
       "      <td>NaN</td>\n",
       "      <td>NaN</td>\n",
       "      <td>NaN</td>\n",
       "      <td>NaN</td>\n",
       "      <td>NaN</td>\n",
       "    </tr>\n",
       "    <tr>\n",
       "      <th>5348</th>\n",
       "      <td>876.655029</td>\n",
       "      <td>2400.0</td>\n",
       "      <td>2400.0</td>\n",
       "      <td>2400.0</td>\n",
       "      <td>2400.0</td>\n",
       "      <td>2400.0</td>\n",
       "      <td>2400.0</td>\n",
       "      <td>2400.0</td>\n",
       "      <td>2400.0</td>\n",
       "      <td>2400.0</td>\n",
       "      <td>...</td>\n",
       "      <td>NaN</td>\n",
       "      <td>NaN</td>\n",
       "      <td>NaN</td>\n",
       "      <td>NaN</td>\n",
       "      <td>NaN</td>\n",
       "      <td>NaN</td>\n",
       "      <td>NaN</td>\n",
       "      <td>NaN</td>\n",
       "      <td>NaN</td>\n",
       "      <td>NaN</td>\n",
       "    </tr>\n",
       "    <tr>\n",
       "      <th>5350</th>\n",
       "      <td>929.883972</td>\n",
       "      <td>2400.0</td>\n",
       "      <td>2400.0</td>\n",
       "      <td>2400.0</td>\n",
       "      <td>2400.0</td>\n",
       "      <td>2400.0</td>\n",
       "      <td>2400.0</td>\n",
       "      <td>2400.0</td>\n",
       "      <td>2400.0</td>\n",
       "      <td>2400.0</td>\n",
       "      <td>...</td>\n",
       "      <td>NaN</td>\n",
       "      <td>NaN</td>\n",
       "      <td>NaN</td>\n",
       "      <td>NaN</td>\n",
       "      <td>NaN</td>\n",
       "      <td>NaN</td>\n",
       "      <td>NaN</td>\n",
       "      <td>NaN</td>\n",
       "      <td>NaN</td>\n",
       "      <td>NaN</td>\n",
       "    </tr>\n",
       "    <tr>\n",
       "      <th>333300</th>\n",
       "      <td>1717.316040</td>\n",
       "      <td>2400.0</td>\n",
       "      <td>2400.0</td>\n",
       "      <td>2400.0</td>\n",
       "      <td>2400.0</td>\n",
       "      <td>2400.0</td>\n",
       "      <td>2400.0</td>\n",
       "      <td>2400.0</td>\n",
       "      <td>2400.0</td>\n",
       "      <td>2400.0</td>\n",
       "      <td>...</td>\n",
       "      <td>NaN</td>\n",
       "      <td>NaN</td>\n",
       "      <td>NaN</td>\n",
       "      <td>NaN</td>\n",
       "      <td>NaN</td>\n",
       "      <td>NaN</td>\n",
       "      <td>NaN</td>\n",
       "      <td>NaN</td>\n",
       "      <td>NaN</td>\n",
       "      <td>NaN</td>\n",
       "    </tr>\n",
       "    <tr>\n",
       "      <th>...</th>\n",
       "      <td>...</td>\n",
       "      <td>...</td>\n",
       "      <td>...</td>\n",
       "      <td>...</td>\n",
       "      <td>...</td>\n",
       "      <td>...</td>\n",
       "      <td>...</td>\n",
       "      <td>...</td>\n",
       "      <td>...</td>\n",
       "      <td>...</td>\n",
       "      <td>...</td>\n",
       "      <td>...</td>\n",
       "      <td>...</td>\n",
       "      <td>...</td>\n",
       "      <td>...</td>\n",
       "      <td>...</td>\n",
       "      <td>...</td>\n",
       "      <td>...</td>\n",
       "      <td>...</td>\n",
       "      <td>...</td>\n",
       "      <td>...</td>\n",
       "    </tr>\n",
       "    <tr>\n",
       "      <th>357487</th>\n",
       "      <td>2157.475098</td>\n",
       "      <td>2400.0</td>\n",
       "      <td>2400.0</td>\n",
       "      <td>2400.0</td>\n",
       "      <td>2400.0</td>\n",
       "      <td>2400.0</td>\n",
       "      <td>2400.0</td>\n",
       "      <td>2400.0</td>\n",
       "      <td>2400.0</td>\n",
       "      <td>2400.0</td>\n",
       "      <td>...</td>\n",
       "      <td>NaN</td>\n",
       "      <td>NaN</td>\n",
       "      <td>NaN</td>\n",
       "      <td>NaN</td>\n",
       "      <td>NaN</td>\n",
       "      <td>NaN</td>\n",
       "      <td>NaN</td>\n",
       "      <td>NaN</td>\n",
       "      <td>NaN</td>\n",
       "      <td>NaN</td>\n",
       "    </tr>\n",
       "    <tr>\n",
       "      <th>357490</th>\n",
       "      <td>2182.781006</td>\n",
       "      <td>2400.0</td>\n",
       "      <td>2400.0</td>\n",
       "      <td>2400.0</td>\n",
       "      <td>2400.0</td>\n",
       "      <td>2400.0</td>\n",
       "      <td>2400.0</td>\n",
       "      <td>2400.0</td>\n",
       "      <td>2400.0</td>\n",
       "      <td>2400.0</td>\n",
       "      <td>...</td>\n",
       "      <td>NaN</td>\n",
       "      <td>NaN</td>\n",
       "      <td>NaN</td>\n",
       "      <td>NaN</td>\n",
       "      <td>NaN</td>\n",
       "      <td>NaN</td>\n",
       "      <td>NaN</td>\n",
       "      <td>NaN</td>\n",
       "      <td>NaN</td>\n",
       "      <td>NaN</td>\n",
       "    </tr>\n",
       "    <tr>\n",
       "      <th>357489</th>\n",
       "      <td>2176.937012</td>\n",
       "      <td>2400.0</td>\n",
       "      <td>2400.0</td>\n",
       "      <td>2400.0</td>\n",
       "      <td>2400.0</td>\n",
       "      <td>2400.0</td>\n",
       "      <td>2400.0</td>\n",
       "      <td>2400.0</td>\n",
       "      <td>2400.0</td>\n",
       "      <td>2400.0</td>\n",
       "      <td>...</td>\n",
       "      <td>NaN</td>\n",
       "      <td>NaN</td>\n",
       "      <td>NaN</td>\n",
       "      <td>NaN</td>\n",
       "      <td>NaN</td>\n",
       "      <td>NaN</td>\n",
       "      <td>NaN</td>\n",
       "      <td>NaN</td>\n",
       "      <td>NaN</td>\n",
       "      <td>NaN</td>\n",
       "    </tr>\n",
       "    <tr>\n",
       "      <th>357488</th>\n",
       "      <td>2171.379883</td>\n",
       "      <td>2400.0</td>\n",
       "      <td>2400.0</td>\n",
       "      <td>2400.0</td>\n",
       "      <td>2400.0</td>\n",
       "      <td>2400.0</td>\n",
       "      <td>2400.0</td>\n",
       "      <td>2400.0</td>\n",
       "      <td>2400.0</td>\n",
       "      <td>2400.0</td>\n",
       "      <td>...</td>\n",
       "      <td>NaN</td>\n",
       "      <td>NaN</td>\n",
       "      <td>NaN</td>\n",
       "      <td>NaN</td>\n",
       "      <td>NaN</td>\n",
       "      <td>NaN</td>\n",
       "      <td>NaN</td>\n",
       "      <td>NaN</td>\n",
       "      <td>NaN</td>\n",
       "      <td>NaN</td>\n",
       "    </tr>\n",
       "    <tr>\n",
       "      <th>708772</th>\n",
       "      <td>2204.045898</td>\n",
       "      <td>2400.0</td>\n",
       "      <td>2400.0</td>\n",
       "      <td>2400.0</td>\n",
       "      <td>2400.0</td>\n",
       "      <td>2400.0</td>\n",
       "      <td>2400.0</td>\n",
       "      <td>2400.0</td>\n",
       "      <td>2400.0</td>\n",
       "      <td>2400.0</td>\n",
       "      <td>...</td>\n",
       "      <td>NaN</td>\n",
       "      <td>NaN</td>\n",
       "      <td>NaN</td>\n",
       "      <td>NaN</td>\n",
       "      <td>NaN</td>\n",
       "      <td>NaN</td>\n",
       "      <td>NaN</td>\n",
       "      <td>NaN</td>\n",
       "      <td>NaN</td>\n",
       "      <td>NaN</td>\n",
       "    </tr>\n",
       "  </tbody>\n",
       "</table>\n",
       "<p>189836 rows × 200 columns</p>\n",
       "</div>"
      ],
      "text/plain": [
       "                      1       2       3       4       5       6       7  \\\n",
       "connect_id                                                                \n",
       "5353        1128.739014  2400.0  2400.0  2400.0  2400.0  2400.0  2400.0   \n",
       "5347         843.046997  2400.0  2400.0  2400.0  2400.0  2400.0  2400.0   \n",
       "5348         876.655029  2400.0  2400.0  2400.0  2400.0  2400.0  2400.0   \n",
       "5350         929.883972  2400.0  2400.0  2400.0  2400.0  2400.0  2400.0   \n",
       "333300      1717.316040  2400.0  2400.0  2400.0  2400.0  2400.0  2400.0   \n",
       "...                 ...     ...     ...     ...     ...     ...     ...   \n",
       "357487      2157.475098  2400.0  2400.0  2400.0  2400.0  2400.0  2400.0   \n",
       "357490      2182.781006  2400.0  2400.0  2400.0  2400.0  2400.0  2400.0   \n",
       "357489      2176.937012  2400.0  2400.0  2400.0  2400.0  2400.0  2400.0   \n",
       "357488      2171.379883  2400.0  2400.0  2400.0  2400.0  2400.0  2400.0   \n",
       "708772      2204.045898  2400.0  2400.0  2400.0  2400.0  2400.0  2400.0   \n",
       "\n",
       "                 8       9      10  ...  poi91  poi92  poi93  poi94  poi95  \\\n",
       "connect_id                          ...                                      \n",
       "5353        2400.0  2400.0  2400.0  ...    NaN    NaN    NaN    NaN    NaN   \n",
       "5347        2400.0  2400.0  2400.0  ...    NaN    NaN    NaN    NaN    NaN   \n",
       "5348        2400.0  2400.0  2400.0  ...    NaN    NaN    NaN    NaN    NaN   \n",
       "5350        2400.0  2400.0  2400.0  ...    NaN    NaN    NaN    NaN    NaN   \n",
       "333300      2400.0  2400.0  2400.0  ...    NaN    NaN    NaN    NaN    NaN   \n",
       "...            ...     ...     ...  ...    ...    ...    ...    ...    ...   \n",
       "357487      2400.0  2400.0  2400.0  ...    NaN    NaN    NaN    NaN    NaN   \n",
       "357490      2400.0  2400.0  2400.0  ...    NaN    NaN    NaN    NaN    NaN   \n",
       "357489      2400.0  2400.0  2400.0  ...    NaN    NaN    NaN    NaN    NaN   \n",
       "357488      2400.0  2400.0  2400.0  ...    NaN    NaN    NaN    NaN    NaN   \n",
       "708772      2400.0  2400.0  2400.0  ...    NaN    NaN    NaN    NaN    NaN   \n",
       "\n",
       "            poi96  poi97  poi98  poi99  poi100  \n",
       "connect_id                                      \n",
       "5353          NaN    NaN    NaN    NaN     NaN  \n",
       "5347          NaN    NaN    NaN    NaN     NaN  \n",
       "5348          NaN    NaN    NaN    NaN     NaN  \n",
       "5350          NaN    NaN    NaN    NaN     NaN  \n",
       "333300        NaN    NaN    NaN    NaN     NaN  \n",
       "...           ...    ...    ...    ...     ...  \n",
       "357487        NaN    NaN    NaN    NaN     NaN  \n",
       "357490        NaN    NaN    NaN    NaN     NaN  \n",
       "357489        NaN    NaN    NaN    NaN     NaN  \n",
       "357488        NaN    NaN    NaN    NaN     NaN  \n",
       "708772        NaN    NaN    NaN    NaN     NaN  \n",
       "\n",
       "[189836 rows x 200 columns]"
      ]
     },
     "execution_count": 147,
     "metadata": {},
     "output_type": "execute_result"
    }
   ],
   "source": [
    "employment_access"
   ]
  },
  {
   "cell_type": "code",
   "execution_count": 152,
   "id": "fd1da048",
   "metadata": {},
   "outputs": [],
   "source": [
    "jobcounts2 = employment_access.iloc[:,100:200]\n",
    "\n",
    "results_4['jobs2'] = ((employment_access.iloc[:,0:100].applymap(access_weight, distance=maximum_dist))*\n",
    "                                jobcounts2.values\n",
    "                                ).sum(axis=1)\n",
    "\n",
    "weight = 100*poi_weights['employment']/sum(poi_weights.values())\n",
    "\n",
    "results_4['employment2'] = weight*results_4['jobs2']/70000\n",
    "\n",
    "#results_4['Walk_Index'] = results_4['Walk_Index'] + results_4['employment']"
   ]
  },
  {
   "cell_type": "code",
   "execution_count": 153,
   "id": "c07397e6",
   "metadata": {},
   "outputs": [
    {
     "data": {
      "text/plain": [
       "connect_id\n",
       "5353      0.016432\n",
       "5347      0.021866\n",
       "5348      0.021144\n",
       "5350      0.020048\n",
       "333300    0.009122\n",
       "            ...   \n",
       "357487    0.000443\n",
       "357490    0.000432\n",
       "357489    0.000434\n",
       "357488    0.000437\n",
       "708772    0.000423\n",
       "Name: employment2, Length: 189836, dtype: float64"
      ]
     },
     "execution_count": 153,
     "metadata": {},
     "output_type": "execute_result"
    }
   ],
   "source": [
    "results_4['employment2']"
   ]
  },
  {
   "cell_type": "code",
   "execution_count": 150,
   "id": "0f4f7ca9",
   "metadata": {},
   "outputs": [
    {
     "data": {
      "text/plain": [
       "connect_id\n",
       "5353      0.176996\n",
       "5347      0.235526\n",
       "5348      0.227742\n",
       "5350      0.215936\n",
       "333300    0.098254\n",
       "            ...   \n",
       "357487    0.004769\n",
       "357490    0.004649\n",
       "357489    0.004677\n",
       "357488    0.004703\n",
       "708772    0.004552\n",
       "Name: employment, Length: 189836, dtype: float64"
      ]
     },
     "execution_count": 150,
     "metadata": {},
     "output_type": "execute_result"
    }
   ],
   "source": [
    "results_4['employment']"
   ]
  },
  {
   "cell_type": "markdown",
   "id": "fe6ad772",
   "metadata": {},
   "source": [
    "The nearest_pois function returns both distances and the IDs of the nearest pois (with include_poi_ids option). The IDs can then be used to retrieve the number of jobs at each point. I found a merge was the fastest way to join this data."
   ]
  },
  {
   "cell_type": "code",
   "execution_count": 33,
   "id": "dabe01b3",
   "metadata": {},
   "outputs": [],
   "source": [
    "jobcounts = itermerge(employment_access.iloc[:,100:200], employment_centrs['Jobs'])\n",
    "\n",
    "results_4['jobs'] = ((employment_access.iloc[:,0:100].applymap(access_weight, distance=maximum_dist))*\n",
    "                                jobcounts.iloc[:,100:200].values\n",
    "                                ).sum(axis=1)\n",
    "\n",
    "weight = 100*poi_weights['employment']/sum(poi_weights.values())\n",
    "\n",
    "results_4['employment'] = weight*results_4['jobs']/max(results_4['jobs'])\n",
    "\n",
    "results_4['Walk_Index'] = results_4['Walk_Index'] + results_4['employment']"
   ]
  },
  {
   "cell_type": "code",
   "execution_count": 54,
   "id": "85a5f88a",
   "metadata": {},
   "outputs": [
    {
     "data": {
      "text/plain": [
       "1670.052896725441"
      ]
     },
     "execution_count": 54,
     "metadata": {},
     "output_type": "execute_result"
    }
   ],
   "source": [
    "max(employment_centrs['Jobs'])"
   ]
  },
  {
   "cell_type": "markdown",
   "id": "e44257b8",
   "metadata": {},
   "source": [
    "### Residential access"
   ]
  },
  {
   "cell_type": "code",
   "execution_count": 34,
   "id": "a42ca4a3",
   "metadata": {},
   "outputs": [],
   "source": [
    "x, y = (pois[pois['category'].isin(poi_categories['visiting'])]['geometry'].x, \n",
    "                pois[pois['category'].isin(poi_categories['visiting'])]['geometry'].y)\n",
    "\n",
    "distance_network.set_pois(category='visiting', maxdist=2400, maxitems=400, x_col=x, y_col=y)\n",
    "\n",
    "residential_access_40 = distance_network.nearest_pois(\n",
    "    distance=2400, category='visiting', num_pois=400, include_poi_ids=True)"
   ]
  },
  {
   "cell_type": "code",
   "execution_count": 35,
   "id": "40f80c64",
   "metadata": {},
   "outputs": [],
   "source": [
    "personcounts_1 = itermerge(residential_access_40.iloc[:,400:800], pois[pois['category'].isin(poi_categories['visiting'])]['Person'])"
   ]
  },
  {
   "cell_type": "code",
   "execution_count": 36,
   "id": "38495a20",
   "metadata": {},
   "outputs": [],
   "source": [
    "results_4['persons'] = ((residential_access_40.iloc[:,0:400].applymap(access_weight, distance=maximum_dist))*\n",
    "                               personcounts_1.iloc[:,400:800].values\n",
    "                               ).sum(axis=1)\n",
    "\n",
    "weight = 100*poi_weights['visiting']/sum(poi_weights.values())\n",
    "\n",
    "results_4['visiting'] = weight*results_4['persons']/max(results_4['persons'])\n",
    "results_4['visiting_1'] = weight*results_4['persons']/4000\n",
    "\n",
    "results_4['Walk_Index'] = results_4['Walk_Index'] + results_4['visiting']"
   ]
  },
  {
   "cell_type": "code",
   "execution_count": 47,
   "id": "c4f14930",
   "metadata": {},
   "outputs": [
    {
     "data": {
      "text/plain": [
       "218133.0"
      ]
     },
     "execution_count": 47,
     "metadata": {},
     "output_type": "execute_result"
    }
   ],
   "source": [
    "pois[pois['category'].isin(poi_categories['visiting'])]['Person'].sum()"
   ]
  },
  {
   "cell_type": "code",
   "execution_count": 72,
   "id": "a1bb00e8",
   "metadata": {},
   "outputs": [
    {
     "data": {
      "text/plain": [
       "8925.568331455303"
      ]
     },
     "execution_count": 72,
     "metadata": {},
     "output_type": "execute_result"
    }
   ],
   "source": [
    "max(results_4['persons'])"
   ]
  },
  {
   "cell_type": "code",
   "execution_count": 73,
   "id": "24b8bd1b",
   "metadata": {},
   "outputs": [
    {
     "data": {
      "text/plain": [
       "<AxesSubplot:>"
      ]
     },
     "execution_count": 73,
     "metadata": {},
     "output_type": "execute_result"
    },
    {
     "data": {
      "image/png": "[encoded data removed]",
      "text/plain": [
       "<Figure size 432x288 with 1 Axes>"
      ]
     },
     "metadata": {
      "needs_background": "light"
     },
     "output_type": "display_data"
    }
   ],
   "source": [
    "results_4['visiting'].hist()"
   ]
  },
  {
   "cell_type": "code",
   "execution_count": 49,
   "id": "8402eb59",
   "metadata": {},
   "outputs": [
    {
     "data": {
      "text/plain": [
       "<AxesSubplot:>"
      ]
     },
     "execution_count": 49,
     "metadata": {},
     "output_type": "execute_result"
    },
    {
     "data": {
      "image/png": "[encoded data removed]",
      "text/plain": [
       "<Figure size 432x288 with 1 Axes>"
      ]
     },
     "metadata": {
      "needs_background": "light"
     },
     "output_type": "display_data"
    }
   ],
   "source": [
    "total_persons = (personcounts_1.iloc[:,400:800]).sum(axis=1)\n",
    "total_persons.hist()"
   ]
  },
  {
   "cell_type": "markdown",
   "id": "0f4526c7",
   "metadata": {},
   "source": [
    "## Export results"
   ]
  },
  {
   "cell_type": "markdown",
   "id": "1c20c8d1",
   "metadata": {},
   "source": [
    "Filter the results to the original Colouring Sydney buildings only. Optionally export results as a csv."
   ]
  },
  {
   "cell_type": "code",
   "execution_count": 39,
   "id": "f147cf0b",
   "metadata": {},
   "outputs": [],
   "source": [
    "#building_results = results_2.filter(items=nodes[nodes['connect_type'] == 'poi'].index, axis=0)\n",
    "# think it can just be done like this\n",
    "building_results = results_4[nodes['connect_type'] == 'poi']"
   ]
  },
  {
   "cell_type": "code",
   "execution_count": 40,
   "id": "9d4dcabb",
   "metadata": {},
   "outputs": [],
   "source": [
    "building_results.to_csv(\"HTS_many_bf_results_020422_Sutherland.csv\")"
   ]
  },
  {
   "cell_type": "markdown",
   "id": "392798cc",
   "metadata": {},
   "source": [
    "Import building footprints and join the data to them, then export these polygons."
   ]
  },
  {
   "cell_type": "code",
   "execution_count": 55,
   "id": "30eb0506",
   "metadata": {},
   "outputs": [],
   "source": [
    "buildings_foot = gpd.read_file(folder +\n",
    "    \"Data\\\\Colouring\\\\Building Footprints\\\\sydney_bf.shp\").to_crs(proj_crs)"
   ]
  },
  {
   "cell_type": "code",
   "execution_count": 60,
   "id": "af94a2e1",
   "metadata": {},
   "outputs": [],
   "source": [
    "results_gdf = gpd.GeoDataFrame(building_results, geometry = gpd.GeoSeries.from_xy(building_results.x, building_results.y, crs=\"EPSG:7856\"))"
   ]
  },
  {
   "cell_type": "code",
   "execution_count": 62,
   "id": "607a9a25",
   "metadata": {},
   "outputs": [
    {
     "data": {
      "text/html": [
       "<div>\n",
       "<style scoped>\n",
       "    .dataframe tbody tr th:only-of-type {\n",
       "        vertical-align: middle;\n",
       "    }\n",
       "\n",
       "    .dataframe tbody tr th {\n",
       "        vertical-align: top;\n",
       "    }\n",
       "\n",
       "    .dataframe thead th {\n",
       "        text-align: right;\n",
       "    }\n",
       "</style>\n",
       "<table border=\"1\" class=\"dataframe\">\n",
       "  <thead>\n",
       "    <tr style=\"text-align: right;\">\n",
       "      <th></th>\n",
       "      <th>x</th>\n",
       "      <th>y</th>\n",
       "      <th>education_13</th>\n",
       "      <th>daily needs_13.8</th>\n",
       "      <th>other goods_5.8</th>\n",
       "      <th>services_1.5</th>\n",
       "      <th>medical_3.6</th>\n",
       "      <th>errands_1.5</th>\n",
       "      <th>visiting_9.4</th>\n",
       "      <th>cultural_1.5</th>\n",
       "      <th>...</th>\n",
       "      <th>day trip_0.7</th>\n",
       "      <th>walk/jog/ride_5.1</th>\n",
       "      <th>walk dog_2.9</th>\n",
       "      <th>religious_1.5</th>\n",
       "      <th>accompany children_1.5</th>\n",
       "      <th>Walk_Index</th>\n",
       "      <th>employment</th>\n",
       "      <th>visiting</th>\n",
       "      <th>visiting_1</th>\n",
       "      <th>geometry</th>\n",
       "    </tr>\n",
       "    <tr>\n",
       "      <th>connect_id</th>\n",
       "      <th></th>\n",
       "      <th></th>\n",
       "      <th></th>\n",
       "      <th></th>\n",
       "      <th></th>\n",
       "      <th></th>\n",
       "      <th></th>\n",
       "      <th></th>\n",
       "      <th></th>\n",
       "      <th></th>\n",
       "      <th></th>\n",
       "      <th></th>\n",
       "      <th></th>\n",
       "      <th></th>\n",
       "      <th></th>\n",
       "      <th></th>\n",
       "      <th></th>\n",
       "      <th></th>\n",
       "      <th></th>\n",
       "      <th></th>\n",
       "      <th></th>\n",
       "    </tr>\n",
       "  </thead>\n",
       "  <tbody>\n",
       "    <tr>\n",
       "      <th>3939691</th>\n",
       "      <td>314285.652752</td>\n",
       "      <td>6.220218e+06</td>\n",
       "      <td>0.374149</td>\n",
       "      <td>0.000000</td>\n",
       "      <td>0.0</td>\n",
       "      <td>0.0</td>\n",
       "      <td>0.000000</td>\n",
       "      <td>0.057620</td>\n",
       "      <td>1.418890</td>\n",
       "      <td>0.106420</td>\n",
       "      <td>...</td>\n",
       "      <td>0.000000</td>\n",
       "      <td>1.010287</td>\n",
       "      <td>0.574477</td>\n",
       "      <td>0.000000</td>\n",
       "      <td>0.056892</td>\n",
       "      <td>4.562068</td>\n",
       "      <td>0.093833</td>\n",
       "      <td>0.092093</td>\n",
       "      <td>0.205495</td>\n",
       "      <td>POINT (314285.653 6220218.230)</td>\n",
       "    </tr>\n",
       "    <tr>\n",
       "      <th>3939690</th>\n",
       "      <td>314290.668466</td>\n",
       "      <td>6.220325e+06</td>\n",
       "      <td>0.360708</td>\n",
       "      <td>0.000000</td>\n",
       "      <td>0.0</td>\n",
       "      <td>0.0</td>\n",
       "      <td>0.000000</td>\n",
       "      <td>0.055550</td>\n",
       "      <td>1.367918</td>\n",
       "      <td>0.102597</td>\n",
       "      <td>...</td>\n",
       "      <td>0.000000</td>\n",
       "      <td>0.973994</td>\n",
       "      <td>0.553840</td>\n",
       "      <td>0.000000</td>\n",
       "      <td>0.054849</td>\n",
       "      <td>4.398181</td>\n",
       "      <td>0.090462</td>\n",
       "      <td>0.088784</td>\n",
       "      <td>0.198113</td>\n",
       "      <td>POINT (314290.668 6220324.929)</td>\n",
       "    </tr>\n",
       "    <tr>\n",
       "      <th>1492673</th>\n",
       "      <td>314432.316311</td>\n",
       "      <td>6.220200e+06</td>\n",
       "      <td>0.397349</td>\n",
       "      <td>0.000000</td>\n",
       "      <td>0.0</td>\n",
       "      <td>0.0</td>\n",
       "      <td>0.000000</td>\n",
       "      <td>0.061193</td>\n",
       "      <td>1.506872</td>\n",
       "      <td>0.103981</td>\n",
       "      <td>...</td>\n",
       "      <td>0.000000</td>\n",
       "      <td>1.003559</td>\n",
       "      <td>0.570651</td>\n",
       "      <td>0.000000</td>\n",
       "      <td>0.060420</td>\n",
       "      <td>4.727443</td>\n",
       "      <td>0.099651</td>\n",
       "      <td>0.097803</td>\n",
       "      <td>0.218237</td>\n",
       "      <td>POINT (314432.316 6220199.984)</td>\n",
       "    </tr>\n",
       "    <tr>\n",
       "      <th>1414358</th>\n",
       "      <td>314396.734453</td>\n",
       "      <td>6.220205e+06</td>\n",
       "      <td>0.416348</td>\n",
       "      <td>0.000000</td>\n",
       "      <td>0.0</td>\n",
       "      <td>0.0</td>\n",
       "      <td>0.000000</td>\n",
       "      <td>0.064119</td>\n",
       "      <td>1.578921</td>\n",
       "      <td>0.111738</td>\n",
       "      <td>...</td>\n",
       "      <td>0.000000</td>\n",
       "      <td>1.072927</td>\n",
       "      <td>0.610096</td>\n",
       "      <td>0.000000</td>\n",
       "      <td>0.063309</td>\n",
       "      <td>4.989701</td>\n",
       "      <td>0.104416</td>\n",
       "      <td>0.102480</td>\n",
       "      <td>0.228672</td>\n",
       "      <td>POINT (314396.734 6220205.450)</td>\n",
       "    </tr>\n",
       "    <tr>\n",
       "      <th>3939689</th>\n",
       "      <td>314478.101225</td>\n",
       "      <td>6.220362e+06</td>\n",
       "      <td>0.513057</td>\n",
       "      <td>0.000000</td>\n",
       "      <td>0.0</td>\n",
       "      <td>0.0</td>\n",
       "      <td>0.000000</td>\n",
       "      <td>0.079013</td>\n",
       "      <td>1.945671</td>\n",
       "      <td>0.129834</td>\n",
       "      <td>...</td>\n",
       "      <td>0.000000</td>\n",
       "      <td>1.016512</td>\n",
       "      <td>0.578016</td>\n",
       "      <td>0.000000</td>\n",
       "      <td>0.078014</td>\n",
       "      <td>5.662876</td>\n",
       "      <td>0.128670</td>\n",
       "      <td>0.126283</td>\n",
       "      <td>0.281788</td>\n",
       "      <td>POINT (314478.101 6220362.089)</td>\n",
       "    </tr>\n",
       "    <tr>\n",
       "      <th>...</th>\n",
       "      <td>...</td>\n",
       "      <td>...</td>\n",
       "      <td>...</td>\n",
       "      <td>...</td>\n",
       "      <td>...</td>\n",
       "      <td>...</td>\n",
       "      <td>...</td>\n",
       "      <td>...</td>\n",
       "      <td>...</td>\n",
       "      <td>...</td>\n",
       "      <td>...</td>\n",
       "      <td>...</td>\n",
       "      <td>...</td>\n",
       "      <td>...</td>\n",
       "      <td>...</td>\n",
       "      <td>...</td>\n",
       "      <td>...</td>\n",
       "      <td>...</td>\n",
       "      <td>...</td>\n",
       "      <td>...</td>\n",
       "      <td>...</td>\n",
       "    </tr>\n",
       "    <tr>\n",
       "      <th>3931647</th>\n",
       "      <td>335780.236784</td>\n",
       "      <td>6.235879e+06</td>\n",
       "      <td>3.282879</td>\n",
       "      <td>0.540893</td>\n",
       "      <td>0.0</td>\n",
       "      <td>0.0</td>\n",
       "      <td>0.144443</td>\n",
       "      <td>0.109745</td>\n",
       "      <td>3.504823</td>\n",
       "      <td>0.000000</td>\n",
       "      <td>...</td>\n",
       "      <td>0.331196</td>\n",
       "      <td>2.577484</td>\n",
       "      <td>0.884195</td>\n",
       "      <td>0.231984</td>\n",
       "      <td>0.000000</td>\n",
       "      <td>13.179490</td>\n",
       "      <td>0.004646</td>\n",
       "      <td>0.395584</td>\n",
       "      <td>0.882703</td>\n",
       "      <td>POINT (335780.237 6235878.890)</td>\n",
       "    </tr>\n",
       "    <tr>\n",
       "      <th>1785974</th>\n",
       "      <td>335760.730698</td>\n",
       "      <td>6.235889e+06</td>\n",
       "      <td>3.261616</td>\n",
       "      <td>0.537389</td>\n",
       "      <td>0.0</td>\n",
       "      <td>0.0</td>\n",
       "      <td>0.143508</td>\n",
       "      <td>0.109034</td>\n",
       "      <td>3.482123</td>\n",
       "      <td>0.000000</td>\n",
       "      <td>...</td>\n",
       "      <td>0.326742</td>\n",
       "      <td>2.560790</td>\n",
       "      <td>0.878468</td>\n",
       "      <td>0.230481</td>\n",
       "      <td>0.000000</td>\n",
       "      <td>13.091825</td>\n",
       "      <td>0.004616</td>\n",
       "      <td>0.393022</td>\n",
       "      <td>0.876986</td>\n",
       "      <td>POINT (335760.731 6235888.780)</td>\n",
       "    </tr>\n",
       "    <tr>\n",
       "      <th>3933061</th>\n",
       "      <td>335862.811717</td>\n",
       "      <td>6.236024e+06</td>\n",
       "      <td>2.558168</td>\n",
       "      <td>0.440082</td>\n",
       "      <td>0.0</td>\n",
       "      <td>0.0</td>\n",
       "      <td>0.117522</td>\n",
       "      <td>0.085657</td>\n",
       "      <td>2.851603</td>\n",
       "      <td>0.000000</td>\n",
       "      <td>...</td>\n",
       "      <td>0.292190</td>\n",
       "      <td>2.277512</td>\n",
       "      <td>0.691676</td>\n",
       "      <td>0.184323</td>\n",
       "      <td>0.000000</td>\n",
       "      <td>10.723424</td>\n",
       "      <td>0.003780</td>\n",
       "      <td>0.275172</td>\n",
       "      <td>0.614018</td>\n",
       "      <td>POINT (335862.812 6236024.269)</td>\n",
       "    </tr>\n",
       "    <tr>\n",
       "      <th>3931403</th>\n",
       "      <td>335839.354336</td>\n",
       "      <td>6.236075e+06</td>\n",
       "      <td>2.417472</td>\n",
       "      <td>0.415878</td>\n",
       "      <td>0.0</td>\n",
       "      <td>0.0</td>\n",
       "      <td>0.111059</td>\n",
       "      <td>0.080946</td>\n",
       "      <td>2.694768</td>\n",
       "      <td>0.000000</td>\n",
       "      <td>...</td>\n",
       "      <td>0.276120</td>\n",
       "      <td>2.152252</td>\n",
       "      <td>0.653634</td>\n",
       "      <td>0.174185</td>\n",
       "      <td>0.000000</td>\n",
       "      <td>10.117698</td>\n",
       "      <td>0.000000</td>\n",
       "      <td>0.247659</td>\n",
       "      <td>0.552625</td>\n",
       "      <td>POINT (335839.354 6236075.367)</td>\n",
       "    </tr>\n",
       "    <tr>\n",
       "      <th>3934084</th>\n",
       "      <td>335693.204597</td>\n",
       "      <td>6.236120e+06</td>\n",
       "      <td>3.524929</td>\n",
       "      <td>0.497521</td>\n",
       "      <td>0.0</td>\n",
       "      <td>0.0</td>\n",
       "      <td>0.132861</td>\n",
       "      <td>0.112735</td>\n",
       "      <td>2.862071</td>\n",
       "      <td>0.000000</td>\n",
       "      <td>...</td>\n",
       "      <td>0.239606</td>\n",
       "      <td>2.344135</td>\n",
       "      <td>0.929352</td>\n",
       "      <td>0.234179</td>\n",
       "      <td>0.000000</td>\n",
       "      <td>12.295025</td>\n",
       "      <td>0.004544</td>\n",
       "      <td>0.352592</td>\n",
       "      <td>0.786770</td>\n",
       "      <td>POINT (335693.205 6236120.009)</td>\n",
       "    </tr>\n",
       "  </tbody>\n",
       "</table>\n",
       "<p>63317 rows × 23 columns</p>\n",
       "</div>"
      ],
      "text/plain": [
       "                        x             y  education_13  daily needs_13.8  \\\n",
       "connect_id                                                                \n",
       "3939691     314285.652752  6.220218e+06      0.374149          0.000000   \n",
       "3939690     314290.668466  6.220325e+06      0.360708          0.000000   \n",
       "1492673     314432.316311  6.220200e+06      0.397349          0.000000   \n",
       "1414358     314396.734453  6.220205e+06      0.416348          0.000000   \n",
       "3939689     314478.101225  6.220362e+06      0.513057          0.000000   \n",
       "...                   ...           ...           ...               ...   \n",
       "3931647     335780.236784  6.235879e+06      3.282879          0.540893   \n",
       "1785974     335760.730698  6.235889e+06      3.261616          0.537389   \n",
       "3933061     335862.811717  6.236024e+06      2.558168          0.440082   \n",
       "3931403     335839.354336  6.236075e+06      2.417472          0.415878   \n",
       "3934084     335693.204597  6.236120e+06      3.524929          0.497521   \n",
       "\n",
       "            other goods_5.8  services_1.5  medical_3.6  errands_1.5  \\\n",
       "connect_id                                                            \n",
       "3939691                 0.0           0.0     0.000000     0.057620   \n",
       "3939690                 0.0           0.0     0.000000     0.055550   \n",
       "1492673                 0.0           0.0     0.000000     0.061193   \n",
       "1414358                 0.0           0.0     0.000000     0.064119   \n",
       "3939689                 0.0           0.0     0.000000     0.079013   \n",
       "...                     ...           ...          ...          ...   \n",
       "3931647                 0.0           0.0     0.144443     0.109745   \n",
       "1785974                 0.0           0.0     0.143508     0.109034   \n",
       "3933061                 0.0           0.0     0.117522     0.085657   \n",
       "3931403                 0.0           0.0     0.111059     0.080946   \n",
       "3934084                 0.0           0.0     0.132861     0.112735   \n",
       "\n",
       "            visiting_9.4  cultural_1.5  ...  day trip_0.7  walk/jog/ride_5.1  \\\n",
       "connect_id                              ...                                    \n",
       "3939691         1.418890      0.106420  ...      0.000000           1.010287   \n",
       "3939690         1.367918      0.102597  ...      0.000000           0.973994   \n",
       "1492673         1.506872      0.103981  ...      0.000000           1.003559   \n",
       "1414358         1.578921      0.111738  ...      0.000000           1.072927   \n",
       "3939689         1.945671      0.129834  ...      0.000000           1.016512   \n",
       "...                  ...           ...  ...           ...                ...   \n",
       "3931647         3.504823      0.000000  ...      0.331196           2.577484   \n",
       "1785974         3.482123      0.000000  ...      0.326742           2.560790   \n",
       "3933061         2.851603      0.000000  ...      0.292190           2.277512   \n",
       "3931403         2.694768      0.000000  ...      0.276120           2.152252   \n",
       "3934084         2.862071      0.000000  ...      0.239606           2.344135   \n",
       "\n",
       "            walk dog_2.9  religious_1.5  accompany children_1.5  Walk_Index  \\\n",
       "connect_id                                                                    \n",
       "3939691         0.574477       0.000000                0.056892    4.562068   \n",
       "3939690         0.553840       0.000000                0.054849    4.398181   \n",
       "1492673         0.570651       0.000000                0.060420    4.727443   \n",
       "1414358         0.610096       0.000000                0.063309    4.989701   \n",
       "3939689         0.578016       0.000000                0.078014    5.662876   \n",
       "...                  ...            ...                     ...         ...   \n",
       "3931647         0.884195       0.231984                0.000000   13.179490   \n",
       "1785974         0.878468       0.230481                0.000000   13.091825   \n",
       "3933061         0.691676       0.184323                0.000000   10.723424   \n",
       "3931403         0.653634       0.174185                0.000000   10.117698   \n",
       "3934084         0.929352       0.234179                0.000000   12.295025   \n",
       "\n",
       "            employment  visiting  visiting_1                        geometry  \n",
       "connect_id                                                                    \n",
       "3939691       0.093833  0.092093    0.205495  POINT (314285.653 6220218.230)  \n",
       "3939690       0.090462  0.088784    0.198113  POINT (314290.668 6220324.929)  \n",
       "1492673       0.099651  0.097803    0.218237  POINT (314432.316 6220199.984)  \n",
       "1414358       0.104416  0.102480    0.228672  POINT (314396.734 6220205.450)  \n",
       "3939689       0.128670  0.126283    0.281788  POINT (314478.101 6220362.089)  \n",
       "...                ...       ...         ...                             ...  \n",
       "3931647       0.004646  0.395584    0.882703  POINT (335780.237 6235878.890)  \n",
       "1785974       0.004616  0.393022    0.876986  POINT (335760.731 6235888.780)  \n",
       "3933061       0.003780  0.275172    0.614018  POINT (335862.812 6236024.269)  \n",
       "3931403       0.000000  0.247659    0.552625  POINT (335839.354 6236075.367)  \n",
       "3934084       0.004544  0.352592    0.786770  POINT (335693.205 6236120.009)  \n",
       "\n",
       "[63317 rows x 23 columns]"
      ]
     },
     "execution_count": 62,
     "metadata": {},
     "output_type": "execute_result"
    }
   ],
   "source": [
    "#edit to include jobs column before export. Should reduce gpkg write time\n",
    "results_gdf = results_gdf.iloc[:,[0,1,8,14, 20, 26,32,38,44,50,56,62,68,74,80,86,92,98,99,101,103,104,105]]\n",
    "results_gdf"
   ]
  },
  {
   "cell_type": "code",
   "execution_count": 58,
   "id": "8a76afaf",
   "metadata": {},
   "outputs": [],
   "source": [
    "buildings_foot = gpd.clip(buildings_foot, Greater_Sydney)"
   ]
  },
  {
   "cell_type": "code",
   "execution_count": 63,
   "id": "cb0cf386",
   "metadata": {},
   "outputs": [],
   "source": [
    "# join to data\n",
    "buildings_foot = gpd.sjoin(buildings_foot, results_gdf, how='left', predicate='contains')\n",
    "\n",
    "buildings_foot.to_file(\"HTS_many_bf_results_020422_Sutherland.gpkg\")"
   ]
  },
  {
   "cell_type": "markdown",
   "id": "f4c3a227",
   "metadata": {},
   "source": [
    "### Import Walkscore and compare"
   ]
  },
  {
   "cell_type": "code",
   "execution_count": 64,
   "id": "27124033",
   "metadata": {},
   "outputs": [],
   "source": [
    "walkscore = gpd.read_file(folder +\n",
    "    \"Walkability\\\\Walkscore scraping\\\\Interpolation\\\\WS_interpolate4.gpkg\")"
   ]
  },
  {
   "cell_type": "code",
   "execution_count": 65,
   "id": "128f6be5",
   "metadata": {},
   "outputs": [],
   "source": [
    "walkscore = walkscore.set_crs(proj_crs, allow_override=True)"
   ]
  },
  {
   "cell_type": "code",
   "execution_count": 66,
   "id": "4ec338c3",
   "metadata": {},
   "outputs": [],
   "source": [
    "# join to data\n",
    "results_WS = gpd.sjoin(buildings_foot, walkscore, how='right', predicate='contains', rsuffix='_ws')"
   ]
  },
  {
   "cell_type": "code",
   "execution_count": 67,
   "id": "123a0cb6",
   "metadata": {},
   "outputs": [],
   "source": [
    "correlations = results_WS.corr(method='pearson', min_periods=1)"
   ]
  },
  {
   "cell_type": "code",
   "execution_count": 68,
   "id": "d4d6f3dc",
   "metadata": {},
   "outputs": [
    {
     "data": {
      "text/plain": [
       "index_left      0.042296\n",
       "Shape_Leng      0.534595\n",
       "Shape_Area      0.508346\n",
       "index_right     0.228425\n",
       "x               0.411994\n",
       "                  ...   \n",
       "WS.number       0.134989\n",
       "Walkscore       0.489255\n",
       "Walkscore.y     0.489255\n",
       "interpolatew    0.801150\n",
       "combinedWS      0.767386\n",
       "Name: Walk_Index, Length: 111, dtype: float64"
      ]
     },
     "execution_count": 68,
     "metadata": {},
     "output_type": "execute_result"
    }
   ],
   "source": [
    "correlations['Walk_Index']"
   ]
  },
  {
   "cell_type": "markdown",
   "id": "39ffa88c",
   "metadata": {},
   "source": [
    "### Distance weighted feature score"
   ]
  },
  {
   "cell_type": "code",
   "execution_count": 155,
   "id": "d199bf72",
   "metadata": {},
   "outputs": [],
   "source": [
    "poi_100 = {\n",
    "    \"employment\": 100,\n",
    "    \"education\": 100,\n",
    "    \"daily needs\": 100,\n",
    "    \"other goods\": 100,\n",
    "    \"services\":100,\n",
    "    \"medical\": 100,\n",
    "    \"errands\": 100,\n",
    "    \"visiting\": 100,\n",
    "    \"cultural\": 100,\n",
    "    \"events\": 100,\n",
    "    \"sports\": 100,\n",
    "    \"restaurants\": 100,\n",
    "    \"day trip\": 100,\n",
    "    \"walk/jog/ride\": 100,\n",
    "    \"walk dog\": 100,\n",
    "    \"religious\": 100,\n",
    "    \"accompany children\": 100,\n",
    "}"
   ]
  },
  {
   "cell_type": "code",
   "execution_count": 156,
   "id": "44ec3c43",
   "metadata": {},
   "outputs": [
    {
     "name": "stdout",
     "output_type": "stream",
     "text": [
      "Category employment is empty\n"
     ]
    },
    {
     "name": "stderr",
     "output_type": "stream",
     "text": [
      "C:\\Users\\z3258367\\OneDrive - UNSW\\#PhD\\Walkability\\Other Cities\\Open-Walk-Index\\walkability_functions.py:123: PerformanceWarning: DataFrame is highly fragmented.  This is usually the result of calling `frame.insert` many times, which has poor performance.  Consider joining all columns at once using pd.concat(axis=1) instead.  To get a de-fragmented frame, use `newframe = frame.copy()`\n",
      "  results[col_name] = access[i+1]\n",
      "C:\\Users\\z3258367\\OneDrive - UNSW\\#PhD\\Walkability\\Other Cities\\Open-Walk-Index\\walkability_functions.py:125: PerformanceWarning: DataFrame is highly fragmented.  This is usually the result of calling `frame.insert` many times, which has poor performance.  Consider joining all columns at once using pd.concat(axis=1) instead.  To get a de-fragmented frame, use `newframe = frame.copy()`\n",
      "  results[cat_name] = ((access.applymap(access_weight,distance=distance))*\n"
     ]
    },
    {
     "name": "stdout",
     "output_type": "stream",
     "text": [
      "Finished category: education\n"
     ]
    },
    {
     "name": "stderr",
     "output_type": "stream",
     "text": [
      "C:\\Users\\z3258367\\OneDrive - UNSW\\#PhD\\Walkability\\Other Cities\\Open-Walk-Index\\walkability_functions.py:123: PerformanceWarning: DataFrame is highly fragmented.  This is usually the result of calling `frame.insert` many times, which has poor performance.  Consider joining all columns at once using pd.concat(axis=1) instead.  To get a de-fragmented frame, use `newframe = frame.copy()`\n",
      "  results[col_name] = access[i+1]\n",
      "C:\\Users\\z3258367\\OneDrive - UNSW\\#PhD\\Walkability\\Other Cities\\Open-Walk-Index\\walkability_functions.py:125: PerformanceWarning: DataFrame is highly fragmented.  This is usually the result of calling `frame.insert` many times, which has poor performance.  Consider joining all columns at once using pd.concat(axis=1) instead.  To get a de-fragmented frame, use `newframe = frame.copy()`\n",
      "  results[cat_name] = ((access.applymap(access_weight,distance=distance))*\n"
     ]
    },
    {
     "name": "stdout",
     "output_type": "stream",
     "text": [
      "Finished category: daily needs\n"
     ]
    },
    {
     "name": "stderr",
     "output_type": "stream",
     "text": [
      "C:\\Users\\z3258367\\OneDrive - UNSW\\#PhD\\Walkability\\Other Cities\\Open-Walk-Index\\walkability_functions.py:123: PerformanceWarning: DataFrame is highly fragmented.  This is usually the result of calling `frame.insert` many times, which has poor performance.  Consider joining all columns at once using pd.concat(axis=1) instead.  To get a de-fragmented frame, use `newframe = frame.copy()`\n",
      "  results[col_name] = access[i+1]\n",
      "C:\\Users\\z3258367\\OneDrive - UNSW\\#PhD\\Walkability\\Other Cities\\Open-Walk-Index\\walkability_functions.py:125: PerformanceWarning: DataFrame is highly fragmented.  This is usually the result of calling `frame.insert` many times, which has poor performance.  Consider joining all columns at once using pd.concat(axis=1) instead.  To get a de-fragmented frame, use `newframe = frame.copy()`\n",
      "  results[cat_name] = ((access.applymap(access_weight,distance=distance))*\n"
     ]
    },
    {
     "name": "stdout",
     "output_type": "stream",
     "text": [
      "Finished category: other goods\n"
     ]
    },
    {
     "name": "stderr",
     "output_type": "stream",
     "text": [
      "C:\\Users\\z3258367\\OneDrive - UNSW\\#PhD\\Walkability\\Other Cities\\Open-Walk-Index\\walkability_functions.py:123: PerformanceWarning: DataFrame is highly fragmented.  This is usually the result of calling `frame.insert` many times, which has poor performance.  Consider joining all columns at once using pd.concat(axis=1) instead.  To get a de-fragmented frame, use `newframe = frame.copy()`\n",
      "  results[col_name] = access[i+1]\n",
      "C:\\Users\\z3258367\\OneDrive - UNSW\\#PhD\\Walkability\\Other Cities\\Open-Walk-Index\\walkability_functions.py:125: PerformanceWarning: DataFrame is highly fragmented.  This is usually the result of calling `frame.insert` many times, which has poor performance.  Consider joining all columns at once using pd.concat(axis=1) instead.  To get a de-fragmented frame, use `newframe = frame.copy()`\n",
      "  results[cat_name] = ((access.applymap(access_weight,distance=distance))*\n"
     ]
    },
    {
     "name": "stdout",
     "output_type": "stream",
     "text": [
      "Finished category: services\n"
     ]
    },
    {
     "name": "stderr",
     "output_type": "stream",
     "text": [
      "C:\\Users\\z3258367\\OneDrive - UNSW\\#PhD\\Walkability\\Other Cities\\Open-Walk-Index\\walkability_functions.py:123: PerformanceWarning: DataFrame is highly fragmented.  This is usually the result of calling `frame.insert` many times, which has poor performance.  Consider joining all columns at once using pd.concat(axis=1) instead.  To get a de-fragmented frame, use `newframe = frame.copy()`\n",
      "  results[col_name] = access[i+1]\n",
      "C:\\Users\\z3258367\\OneDrive - UNSW\\#PhD\\Walkability\\Other Cities\\Open-Walk-Index\\walkability_functions.py:125: PerformanceWarning: DataFrame is highly fragmented.  This is usually the result of calling `frame.insert` many times, which has poor performance.  Consider joining all columns at once using pd.concat(axis=1) instead.  To get a de-fragmented frame, use `newframe = frame.copy()`\n",
      "  results[cat_name] = ((access.applymap(access_weight,distance=distance))*\n"
     ]
    },
    {
     "name": "stdout",
     "output_type": "stream",
     "text": [
      "Finished category: medical\n"
     ]
    },
    {
     "name": "stderr",
     "output_type": "stream",
     "text": [
      "C:\\Users\\z3258367\\OneDrive - UNSW\\#PhD\\Walkability\\Other Cities\\Open-Walk-Index\\walkability_functions.py:123: PerformanceWarning: DataFrame is highly fragmented.  This is usually the result of calling `frame.insert` many times, which has poor performance.  Consider joining all columns at once using pd.concat(axis=1) instead.  To get a de-fragmented frame, use `newframe = frame.copy()`\n",
      "  results[col_name] = access[i+1]\n",
      "C:\\Users\\z3258367\\OneDrive - UNSW\\#PhD\\Walkability\\Other Cities\\Open-Walk-Index\\walkability_functions.py:125: PerformanceWarning: DataFrame is highly fragmented.  This is usually the result of calling `frame.insert` many times, which has poor performance.  Consider joining all columns at once using pd.concat(axis=1) instead.  To get a de-fragmented frame, use `newframe = frame.copy()`\n",
      "  results[cat_name] = ((access.applymap(access_weight,distance=distance))*\n"
     ]
    },
    {
     "name": "stdout",
     "output_type": "stream",
     "text": [
      "Finished category: errands\n"
     ]
    },
    {
     "name": "stderr",
     "output_type": "stream",
     "text": [
      "C:\\Users\\z3258367\\OneDrive - UNSW\\#PhD\\Walkability\\Other Cities\\Open-Walk-Index\\walkability_functions.py:123: PerformanceWarning: DataFrame is highly fragmented.  This is usually the result of calling `frame.insert` many times, which has poor performance.  Consider joining all columns at once using pd.concat(axis=1) instead.  To get a de-fragmented frame, use `newframe = frame.copy()`\n",
      "  results[col_name] = access[i+1]\n",
      "C:\\Users\\z3258367\\OneDrive - UNSW\\#PhD\\Walkability\\Other Cities\\Open-Walk-Index\\walkability_functions.py:125: PerformanceWarning: DataFrame is highly fragmented.  This is usually the result of calling `frame.insert` many times, which has poor performance.  Consider joining all columns at once using pd.concat(axis=1) instead.  To get a de-fragmented frame, use `newframe = frame.copy()`\n",
      "  results[cat_name] = ((access.applymap(access_weight,distance=distance))*\n"
     ]
    },
    {
     "name": "stdout",
     "output_type": "stream",
     "text": [
      "Finished category: visiting\n"
     ]
    },
    {
     "name": "stderr",
     "output_type": "stream",
     "text": [
      "C:\\Users\\z3258367\\OneDrive - UNSW\\#PhD\\Walkability\\Other Cities\\Open-Walk-Index\\walkability_functions.py:123: PerformanceWarning: DataFrame is highly fragmented.  This is usually the result of calling `frame.insert` many times, which has poor performance.  Consider joining all columns at once using pd.concat(axis=1) instead.  To get a de-fragmented frame, use `newframe = frame.copy()`\n",
      "  results[col_name] = access[i+1]\n",
      "C:\\Users\\z3258367\\OneDrive - UNSW\\#PhD\\Walkability\\Other Cities\\Open-Walk-Index\\walkability_functions.py:125: PerformanceWarning: DataFrame is highly fragmented.  This is usually the result of calling `frame.insert` many times, which has poor performance.  Consider joining all columns at once using pd.concat(axis=1) instead.  To get a de-fragmented frame, use `newframe = frame.copy()`\n",
      "  results[cat_name] = ((access.applymap(access_weight,distance=distance))*\n"
     ]
    },
    {
     "name": "stdout",
     "output_type": "stream",
     "text": [
      "Finished category: cultural\n"
     ]
    },
    {
     "name": "stderr",
     "output_type": "stream",
     "text": [
      "C:\\Users\\z3258367\\OneDrive - UNSW\\#PhD\\Walkability\\Other Cities\\Open-Walk-Index\\walkability_functions.py:123: PerformanceWarning: DataFrame is highly fragmented.  This is usually the result of calling `frame.insert` many times, which has poor performance.  Consider joining all columns at once using pd.concat(axis=1) instead.  To get a de-fragmented frame, use `newframe = frame.copy()`\n",
      "  results[col_name] = access[i+1]\n",
      "C:\\Users\\z3258367\\OneDrive - UNSW\\#PhD\\Walkability\\Other Cities\\Open-Walk-Index\\walkability_functions.py:125: PerformanceWarning: DataFrame is highly fragmented.  This is usually the result of calling `frame.insert` many times, which has poor performance.  Consider joining all columns at once using pd.concat(axis=1) instead.  To get a de-fragmented frame, use `newframe = frame.copy()`\n",
      "  results[cat_name] = ((access.applymap(access_weight,distance=distance))*\n"
     ]
    },
    {
     "name": "stdout",
     "output_type": "stream",
     "text": [
      "Finished category: events\n"
     ]
    },
    {
     "name": "stderr",
     "output_type": "stream",
     "text": [
      "C:\\Users\\z3258367\\OneDrive - UNSW\\#PhD\\Walkability\\Other Cities\\Open-Walk-Index\\walkability_functions.py:123: PerformanceWarning: DataFrame is highly fragmented.  This is usually the result of calling `frame.insert` many times, which has poor performance.  Consider joining all columns at once using pd.concat(axis=1) instead.  To get a de-fragmented frame, use `newframe = frame.copy()`\n",
      "  results[col_name] = access[i+1]\n",
      "C:\\Users\\z3258367\\OneDrive - UNSW\\#PhD\\Walkability\\Other Cities\\Open-Walk-Index\\walkability_functions.py:125: PerformanceWarning: DataFrame is highly fragmented.  This is usually the result of calling `frame.insert` many times, which has poor performance.  Consider joining all columns at once using pd.concat(axis=1) instead.  To get a de-fragmented frame, use `newframe = frame.copy()`\n",
      "  results[cat_name] = ((access.applymap(access_weight,distance=distance))*\n"
     ]
    },
    {
     "name": "stdout",
     "output_type": "stream",
     "text": [
      "Finished category: sports\n"
     ]
    },
    {
     "name": "stderr",
     "output_type": "stream",
     "text": [
      "C:\\Users\\z3258367\\OneDrive - UNSW\\#PhD\\Walkability\\Other Cities\\Open-Walk-Index\\walkability_functions.py:123: PerformanceWarning: DataFrame is highly fragmented.  This is usually the result of calling `frame.insert` many times, which has poor performance.  Consider joining all columns at once using pd.concat(axis=1) instead.  To get a de-fragmented frame, use `newframe = frame.copy()`\n",
      "  results[col_name] = access[i+1]\n",
      "C:\\Users\\z3258367\\OneDrive - UNSW\\#PhD\\Walkability\\Other Cities\\Open-Walk-Index\\walkability_functions.py:125: PerformanceWarning: DataFrame is highly fragmented.  This is usually the result of calling `frame.insert` many times, which has poor performance.  Consider joining all columns at once using pd.concat(axis=1) instead.  To get a de-fragmented frame, use `newframe = frame.copy()`\n",
      "  results[cat_name] = ((access.applymap(access_weight,distance=distance))*\n"
     ]
    },
    {
     "name": "stdout",
     "output_type": "stream",
     "text": [
      "Finished category: restaurants\n"
     ]
    },
    {
     "name": "stderr",
     "output_type": "stream",
     "text": [
      "C:\\Users\\z3258367\\OneDrive - UNSW\\#PhD\\Walkability\\Other Cities\\Open-Walk-Index\\walkability_functions.py:123: PerformanceWarning: DataFrame is highly fragmented.  This is usually the result of calling `frame.insert` many times, which has poor performance.  Consider joining all columns at once using pd.concat(axis=1) instead.  To get a de-fragmented frame, use `newframe = frame.copy()`\n",
      "  results[col_name] = access[i+1]\n",
      "C:\\Users\\z3258367\\OneDrive - UNSW\\#PhD\\Walkability\\Other Cities\\Open-Walk-Index\\walkability_functions.py:125: PerformanceWarning: DataFrame is highly fragmented.  This is usually the result of calling `frame.insert` many times, which has poor performance.  Consider joining all columns at once using pd.concat(axis=1) instead.  To get a de-fragmented frame, use `newframe = frame.copy()`\n",
      "  results[cat_name] = ((access.applymap(access_weight,distance=distance))*\n"
     ]
    },
    {
     "name": "stdout",
     "output_type": "stream",
     "text": [
      "Finished category: day trip\n"
     ]
    },
    {
     "name": "stderr",
     "output_type": "stream",
     "text": [
      "C:\\Users\\z3258367\\OneDrive - UNSW\\#PhD\\Walkability\\Other Cities\\Open-Walk-Index\\walkability_functions.py:123: PerformanceWarning: DataFrame is highly fragmented.  This is usually the result of calling `frame.insert` many times, which has poor performance.  Consider joining all columns at once using pd.concat(axis=1) instead.  To get a de-fragmented frame, use `newframe = frame.copy()`\n",
      "  results[col_name] = access[i+1]\n",
      "C:\\Users\\z3258367\\OneDrive - UNSW\\#PhD\\Walkability\\Other Cities\\Open-Walk-Index\\walkability_functions.py:125: PerformanceWarning: DataFrame is highly fragmented.  This is usually the result of calling `frame.insert` many times, which has poor performance.  Consider joining all columns at once using pd.concat(axis=1) instead.  To get a de-fragmented frame, use `newframe = frame.copy()`\n",
      "  results[cat_name] = ((access.applymap(access_weight,distance=distance))*\n"
     ]
    },
    {
     "name": "stdout",
     "output_type": "stream",
     "text": [
      "Finished category: walk/jog/ride\n"
     ]
    },
    {
     "name": "stderr",
     "output_type": "stream",
     "text": [
      "C:\\Users\\z3258367\\OneDrive - UNSW\\#PhD\\Walkability\\Other Cities\\Open-Walk-Index\\walkability_functions.py:123: PerformanceWarning: DataFrame is highly fragmented.  This is usually the result of calling `frame.insert` many times, which has poor performance.  Consider joining all columns at once using pd.concat(axis=1) instead.  To get a de-fragmented frame, use `newframe = frame.copy()`\n",
      "  results[col_name] = access[i+1]\n",
      "C:\\Users\\z3258367\\OneDrive - UNSW\\#PhD\\Walkability\\Other Cities\\Open-Walk-Index\\walkability_functions.py:125: PerformanceWarning: DataFrame is highly fragmented.  This is usually the result of calling `frame.insert` many times, which has poor performance.  Consider joining all columns at once using pd.concat(axis=1) instead.  To get a de-fragmented frame, use `newframe = frame.copy()`\n",
      "  results[cat_name] = ((access.applymap(access_weight,distance=distance))*\n"
     ]
    },
    {
     "name": "stdout",
     "output_type": "stream",
     "text": [
      "Finished category: walk dog\n"
     ]
    },
    {
     "name": "stderr",
     "output_type": "stream",
     "text": [
      "C:\\Users\\z3258367\\OneDrive - UNSW\\#PhD\\Walkability\\Other Cities\\Open-Walk-Index\\walkability_functions.py:123: PerformanceWarning: DataFrame is highly fragmented.  This is usually the result of calling `frame.insert` many times, which has poor performance.  Consider joining all columns at once using pd.concat(axis=1) instead.  To get a de-fragmented frame, use `newframe = frame.copy()`\n",
      "  results[col_name] = access[i+1]\n",
      "C:\\Users\\z3258367\\OneDrive - UNSW\\#PhD\\Walkability\\Other Cities\\Open-Walk-Index\\walkability_functions.py:125: PerformanceWarning: DataFrame is highly fragmented.  This is usually the result of calling `frame.insert` many times, which has poor performance.  Consider joining all columns at once using pd.concat(axis=1) instead.  To get a de-fragmented frame, use `newframe = frame.copy()`\n",
      "  results[cat_name] = ((access.applymap(access_weight,distance=distance))*\n"
     ]
    },
    {
     "name": "stdout",
     "output_type": "stream",
     "text": [
      "Finished category: religious\n"
     ]
    },
    {
     "name": "stderr",
     "output_type": "stream",
     "text": [
      "C:\\Users\\z3258367\\OneDrive - UNSW\\#PhD\\Walkability\\Other Cities\\Open-Walk-Index\\walkability_functions.py:123: PerformanceWarning: DataFrame is highly fragmented.  This is usually the result of calling `frame.insert` many times, which has poor performance.  Consider joining all columns at once using pd.concat(axis=1) instead.  To get a de-fragmented frame, use `newframe = frame.copy()`\n",
      "  results[col_name] = access[i+1]\n",
      "C:\\Users\\z3258367\\OneDrive - UNSW\\#PhD\\Walkability\\Other Cities\\Open-Walk-Index\\walkability_functions.py:125: PerformanceWarning: DataFrame is highly fragmented.  This is usually the result of calling `frame.insert` many times, which has poor performance.  Consider joining all columns at once using pd.concat(axis=1) instead.  To get a de-fragmented frame, use `newframe = frame.copy()`\n",
      "  results[cat_name] = ((access.applymap(access_weight,distance=distance))*\n"
     ]
    },
    {
     "name": "stdout",
     "output_type": "stream",
     "text": [
      "Finished category: accompany children\n"
     ]
    }
   ],
   "source": [
    "feature_score = walk_index(distance_network, pois, poi_categories, poi_weights, poi_100, distance=maximum_dist) "
   ]
  },
  {
   "cell_type": "code",
   "execution_count": 173,
   "id": "f10df7e9",
   "metadata": {},
   "outputs": [
    {
     "data": {
      "text/plain": [
       "13.934869003332535"
      ]
     },
     "execution_count": 173,
     "metadata": {},
     "output_type": "execute_result"
    }
   ],
   "source": [
    "# probably just add previous visiting and employment data. wouldn't have changed. \n",
    "max(feature_score['Walk_Index'])"
   ]
  },
  {
   "cell_type": "code",
   "execution_count": 179,
   "id": "3d3171da",
   "metadata": {},
   "outputs": [
    {
     "data": {
      "text/html": [
       "<div>\n",
       "<style scoped>\n",
       "    .dataframe tbody tr th:only-of-type {\n",
       "        vertical-align: middle;\n",
       "    }\n",
       "\n",
       "    .dataframe tbody tr th {\n",
       "        vertical-align: top;\n",
       "    }\n",
       "\n",
       "    .dataframe thead th {\n",
       "        text-align: right;\n",
       "    }\n",
       "</style>\n",
       "<table border=\"1\" class=\"dataframe\">\n",
       "  <thead>\n",
       "    <tr style=\"text-align: right;\">\n",
       "      <th></th>\n",
       "      <th>employment_29</th>\n",
       "      <th>education_13</th>\n",
       "      <th>daily needs_13.8</th>\n",
       "      <th>other goods_5.8</th>\n",
       "      <th>services_1.5</th>\n",
       "      <th>medical_3.6</th>\n",
       "      <th>errands_1.5</th>\n",
       "      <th>visiting_9.4</th>\n",
       "      <th>cultural_1.5</th>\n",
       "      <th>events_1.5</th>\n",
       "      <th>sports_4.4</th>\n",
       "      <th>restaurants_3.6</th>\n",
       "      <th>day trip_0.7</th>\n",
       "      <th>walk/jog/ride_5.1</th>\n",
       "      <th>walk dog_2.9</th>\n",
       "      <th>religious_1.5</th>\n",
       "      <th>accompany children_1.5</th>\n",
       "    </tr>\n",
       "    <tr>\n",
       "      <th>connect_id</th>\n",
       "      <th></th>\n",
       "      <th></th>\n",
       "      <th></th>\n",
       "      <th></th>\n",
       "      <th></th>\n",
       "      <th></th>\n",
       "      <th></th>\n",
       "      <th></th>\n",
       "      <th></th>\n",
       "      <th></th>\n",
       "      <th></th>\n",
       "      <th></th>\n",
       "      <th></th>\n",
       "      <th></th>\n",
       "      <th></th>\n",
       "      <th></th>\n",
       "      <th></th>\n",
       "    </tr>\n",
       "  </thead>\n",
       "  <tbody>\n",
       "    <tr>\n",
       "      <th>5353</th>\n",
       "      <td>0</td>\n",
       "      <td>0.032296</td>\n",
       "      <td>0.000000</td>\n",
       "      <td>0.0</td>\n",
       "      <td>0.0</td>\n",
       "      <td>0.000000</td>\n",
       "      <td>0.002696</td>\n",
       "      <td>0.058490</td>\n",
       "      <td>0.000000</td>\n",
       "      <td>0.0</td>\n",
       "      <td>0.032157</td>\n",
       "      <td>0.006626</td>\n",
       "      <td>0.000000</td>\n",
       "      <td>0.007784</td>\n",
       "      <td>0.004426</td>\n",
       "      <td>0.000000</td>\n",
       "      <td>0.002289</td>\n",
       "    </tr>\n",
       "    <tr>\n",
       "      <th>5347</th>\n",
       "      <td>0</td>\n",
       "      <td>0.042976</td>\n",
       "      <td>0.000000</td>\n",
       "      <td>0.0</td>\n",
       "      <td>0.0</td>\n",
       "      <td>0.000000</td>\n",
       "      <td>0.003588</td>\n",
       "      <td>0.077832</td>\n",
       "      <td>0.000000</td>\n",
       "      <td>0.0</td>\n",
       "      <td>0.042791</td>\n",
       "      <td>0.008817</td>\n",
       "      <td>0.000000</td>\n",
       "      <td>0.010358</td>\n",
       "      <td>0.005890</td>\n",
       "      <td>0.000000</td>\n",
       "      <td>0.003046</td>\n",
       "    </tr>\n",
       "    <tr>\n",
       "      <th>5348</th>\n",
       "      <td>0</td>\n",
       "      <td>0.041556</td>\n",
       "      <td>0.000000</td>\n",
       "      <td>0.0</td>\n",
       "      <td>0.0</td>\n",
       "      <td>0.000000</td>\n",
       "      <td>0.003469</td>\n",
       "      <td>0.075260</td>\n",
       "      <td>0.000000</td>\n",
       "      <td>0.0</td>\n",
       "      <td>0.041376</td>\n",
       "      <td>0.008525</td>\n",
       "      <td>0.000000</td>\n",
       "      <td>0.010016</td>\n",
       "      <td>0.005695</td>\n",
       "      <td>0.000000</td>\n",
       "      <td>0.002946</td>\n",
       "    </tr>\n",
       "    <tr>\n",
       "      <th>5350</th>\n",
       "      <td>0</td>\n",
       "      <td>0.039402</td>\n",
       "      <td>0.000000</td>\n",
       "      <td>0.0</td>\n",
       "      <td>0.0</td>\n",
       "      <td>0.000000</td>\n",
       "      <td>0.003290</td>\n",
       "      <td>0.071359</td>\n",
       "      <td>0.000000</td>\n",
       "      <td>0.0</td>\n",
       "      <td>0.039232</td>\n",
       "      <td>0.008083</td>\n",
       "      <td>0.000000</td>\n",
       "      <td>0.009497</td>\n",
       "      <td>0.005400</td>\n",
       "      <td>0.000000</td>\n",
       "      <td>0.002793</td>\n",
       "    </tr>\n",
       "    <tr>\n",
       "      <th>333300</th>\n",
       "      <td>0</td>\n",
       "      <td>0.019589</td>\n",
       "      <td>0.000000</td>\n",
       "      <td>0.0</td>\n",
       "      <td>0.0</td>\n",
       "      <td>0.000000</td>\n",
       "      <td>0.003017</td>\n",
       "      <td>0.071995</td>\n",
       "      <td>0.002585</td>\n",
       "      <td>0.0</td>\n",
       "      <td>0.031538</td>\n",
       "      <td>0.007413</td>\n",
       "      <td>0.000000</td>\n",
       "      <td>0.018663</td>\n",
       "      <td>0.010612</td>\n",
       "      <td>0.000000</td>\n",
       "      <td>0.002638</td>\n",
       "    </tr>\n",
       "    <tr>\n",
       "      <th>...</th>\n",
       "      <td>...</td>\n",
       "      <td>...</td>\n",
       "      <td>...</td>\n",
       "      <td>...</td>\n",
       "      <td>...</td>\n",
       "      <td>...</td>\n",
       "      <td>...</td>\n",
       "      <td>...</td>\n",
       "      <td>...</td>\n",
       "      <td>...</td>\n",
       "      <td>...</td>\n",
       "      <td>...</td>\n",
       "      <td>...</td>\n",
       "      <td>...</td>\n",
       "      <td>...</td>\n",
       "      <td>...</td>\n",
       "      <td>...</td>\n",
       "    </tr>\n",
       "    <tr>\n",
       "      <th>357487</th>\n",
       "      <td>0</td>\n",
       "      <td>0.176042</td>\n",
       "      <td>0.026107</td>\n",
       "      <td>0.0</td>\n",
       "      <td>0.0</td>\n",
       "      <td>0.006972</td>\n",
       "      <td>0.005916</td>\n",
       "      <td>0.317584</td>\n",
       "      <td>0.000000</td>\n",
       "      <td>0.0</td>\n",
       "      <td>0.026273</td>\n",
       "      <td>0.030793</td>\n",
       "      <td>0.011633</td>\n",
       "      <td>0.144765</td>\n",
       "      <td>0.049444</td>\n",
       "      <td>0.012288</td>\n",
       "      <td>0.000000</td>\n",
       "    </tr>\n",
       "    <tr>\n",
       "      <th>357490</th>\n",
       "      <td>0</td>\n",
       "      <td>0.177233</td>\n",
       "      <td>0.025455</td>\n",
       "      <td>0.0</td>\n",
       "      <td>0.0</td>\n",
       "      <td>0.006798</td>\n",
       "      <td>0.005768</td>\n",
       "      <td>0.310445</td>\n",
       "      <td>0.000000</td>\n",
       "      <td>0.0</td>\n",
       "      <td>0.025617</td>\n",
       "      <td>0.030109</td>\n",
       "      <td>0.011931</td>\n",
       "      <td>0.141300</td>\n",
       "      <td>0.046854</td>\n",
       "      <td>0.011981</td>\n",
       "      <td>0.000000</td>\n",
       "    </tr>\n",
       "    <tr>\n",
       "      <th>357489</th>\n",
       "      <td>0</td>\n",
       "      <td>0.176948</td>\n",
       "      <td>0.025604</td>\n",
       "      <td>0.0</td>\n",
       "      <td>0.0</td>\n",
       "      <td>0.006837</td>\n",
       "      <td>0.005802</td>\n",
       "      <td>0.311463</td>\n",
       "      <td>0.000000</td>\n",
       "      <td>0.0</td>\n",
       "      <td>0.025767</td>\n",
       "      <td>0.030200</td>\n",
       "      <td>0.011861</td>\n",
       "      <td>0.141008</td>\n",
       "      <td>0.046833</td>\n",
       "      <td>0.012052</td>\n",
       "      <td>0.000000</td>\n",
       "    </tr>\n",
       "    <tr>\n",
       "      <th>357488</th>\n",
       "      <td>0</td>\n",
       "      <td>0.176682</td>\n",
       "      <td>0.025747</td>\n",
       "      <td>0.0</td>\n",
       "      <td>0.0</td>\n",
       "      <td>0.006876</td>\n",
       "      <td>0.005834</td>\n",
       "      <td>0.313199</td>\n",
       "      <td>0.000000</td>\n",
       "      <td>0.0</td>\n",
       "      <td>0.025910</td>\n",
       "      <td>0.030368</td>\n",
       "      <td>0.011796</td>\n",
       "      <td>0.145363</td>\n",
       "      <td>0.049446</td>\n",
       "      <td>0.012119</td>\n",
       "      <td>0.000000</td>\n",
       "    </tr>\n",
       "    <tr>\n",
       "      <th>708772</th>\n",
       "      <td>0</td>\n",
       "      <td>0.172215</td>\n",
       "      <td>0.024919</td>\n",
       "      <td>0.0</td>\n",
       "      <td>0.0</td>\n",
       "      <td>0.006655</td>\n",
       "      <td>0.005647</td>\n",
       "      <td>0.294785</td>\n",
       "      <td>0.000000</td>\n",
       "      <td>0.0</td>\n",
       "      <td>0.025078</td>\n",
       "      <td>0.029392</td>\n",
       "      <td>0.011544</td>\n",
       "      <td>0.137237</td>\n",
       "      <td>0.045581</td>\n",
       "      <td>0.011729</td>\n",
       "      <td>0.000000</td>\n",
       "    </tr>\n",
       "  </tbody>\n",
       "</table>\n",
       "<p>189836 rows × 17 columns</p>\n",
       "</div>"
      ],
      "text/plain": [
       "            employment_29  education_13  daily needs_13.8  other goods_5.8  \\\n",
       "connect_id                                                                   \n",
       "5353                    0      0.032296          0.000000              0.0   \n",
       "5347                    0      0.042976          0.000000              0.0   \n",
       "5348                    0      0.041556          0.000000              0.0   \n",
       "5350                    0      0.039402          0.000000              0.0   \n",
       "333300                  0      0.019589          0.000000              0.0   \n",
       "...                   ...           ...               ...              ...   \n",
       "357487                  0      0.176042          0.026107              0.0   \n",
       "357490                  0      0.177233          0.025455              0.0   \n",
       "357489                  0      0.176948          0.025604              0.0   \n",
       "357488                  0      0.176682          0.025747              0.0   \n",
       "708772                  0      0.172215          0.024919              0.0   \n",
       "\n",
       "            services_1.5  medical_3.6  errands_1.5  visiting_9.4  \\\n",
       "connect_id                                                         \n",
       "5353                 0.0     0.000000     0.002696      0.058490   \n",
       "5347                 0.0     0.000000     0.003588      0.077832   \n",
       "5348                 0.0     0.000000     0.003469      0.075260   \n",
       "5350                 0.0     0.000000     0.003290      0.071359   \n",
       "333300               0.0     0.000000     0.003017      0.071995   \n",
       "...                  ...          ...          ...           ...   \n",
       "357487               0.0     0.006972     0.005916      0.317584   \n",
       "357490               0.0     0.006798     0.005768      0.310445   \n",
       "357489               0.0     0.006837     0.005802      0.311463   \n",
       "357488               0.0     0.006876     0.005834      0.313199   \n",
       "708772               0.0     0.006655     0.005647      0.294785   \n",
       "\n",
       "            cultural_1.5  events_1.5  sports_4.4  restaurants_3.6  \\\n",
       "connect_id                                                          \n",
       "5353            0.000000         0.0    0.032157         0.006626   \n",
       "5347            0.000000         0.0    0.042791         0.008817   \n",
       "5348            0.000000         0.0    0.041376         0.008525   \n",
       "5350            0.000000         0.0    0.039232         0.008083   \n",
       "333300          0.002585         0.0    0.031538         0.007413   \n",
       "...                  ...         ...         ...              ...   \n",
       "357487          0.000000         0.0    0.026273         0.030793   \n",
       "357490          0.000000         0.0    0.025617         0.030109   \n",
       "357489          0.000000         0.0    0.025767         0.030200   \n",
       "357488          0.000000         0.0    0.025910         0.030368   \n",
       "708772          0.000000         0.0    0.025078         0.029392   \n",
       "\n",
       "            day trip_0.7  walk/jog/ride_5.1  walk dog_2.9  religious_1.5  \\\n",
       "connect_id                                                                 \n",
       "5353            0.000000           0.007784      0.004426       0.000000   \n",
       "5347            0.000000           0.010358      0.005890       0.000000   \n",
       "5348            0.000000           0.010016      0.005695       0.000000   \n",
       "5350            0.000000           0.009497      0.005400       0.000000   \n",
       "333300          0.000000           0.018663      0.010612       0.000000   \n",
       "...                  ...                ...           ...            ...   \n",
       "357487          0.011633           0.144765      0.049444       0.012288   \n",
       "357490          0.011931           0.141300      0.046854       0.011981   \n",
       "357489          0.011861           0.141008      0.046833       0.012052   \n",
       "357488          0.011796           0.145363      0.049446       0.012119   \n",
       "708772          0.011544           0.137237      0.045581       0.011729   \n",
       "\n",
       "            accompany children_1.5  \n",
       "connect_id                          \n",
       "5353                      0.002289  \n",
       "5347                      0.003046  \n",
       "5348                      0.002946  \n",
       "5350                      0.002793  \n",
       "333300                    0.002638  \n",
       "...                            ...  \n",
       "357487                    0.000000  \n",
       "357490                    0.000000  \n",
       "357489                    0.000000  \n",
       "357488                    0.000000  \n",
       "708772                    0.000000  \n",
       "\n",
       "[189836 rows x 17 columns]"
      ]
     },
     "execution_count": 179,
     "metadata": {},
     "output_type": "execute_result"
    }
   ],
   "source": [
    "feature_score.loc[ : , [col for col in feature_score.columns if '_' in col]].iloc[:, 0:17]"
   ]
  },
  {
   "cell_type": "code",
   "execution_count": 185,
   "id": "4ab1e4c1",
   "metadata": {},
   "outputs": [
    {
     "data": {
      "text/html": [
       "<div>\n",
       "<style scoped>\n",
       "    .dataframe tbody tr th:only-of-type {\n",
       "        vertical-align: middle;\n",
       "    }\n",
       "\n",
       "    .dataframe tbody tr th {\n",
       "        vertical-align: top;\n",
       "    }\n",
       "\n",
       "    .dataframe thead th {\n",
       "        text-align: right;\n",
       "    }\n",
       "</style>\n",
       "<table border=\"1\" class=\"dataframe\">\n",
       "  <thead>\n",
       "    <tr style=\"text-align: right;\">\n",
       "      <th></th>\n",
       "      <th>employment_29</th>\n",
       "      <th>education_13</th>\n",
       "      <th>daily needs_13.8</th>\n",
       "      <th>other goods_5.8</th>\n",
       "      <th>services_1.5</th>\n",
       "      <th>medical_3.6</th>\n",
       "      <th>errands_1.5</th>\n",
       "      <th>visiting_9.4</th>\n",
       "      <th>cultural_1.5</th>\n",
       "      <th>events_1.5</th>\n",
       "      <th>sports_4.4</th>\n",
       "      <th>restaurants_3.6</th>\n",
       "      <th>day trip_0.7</th>\n",
       "      <th>walk/jog/ride_5.1</th>\n",
       "      <th>walk dog_2.9</th>\n",
       "      <th>religious_1.5</th>\n",
       "      <th>accompany children_1.5</th>\n",
       "      <th>Walk_Index</th>\n",
       "    </tr>\n",
       "    <tr>\n",
       "      <th>connect_id</th>\n",
       "      <th></th>\n",
       "      <th></th>\n",
       "      <th></th>\n",
       "      <th></th>\n",
       "      <th></th>\n",
       "      <th></th>\n",
       "      <th></th>\n",
       "      <th></th>\n",
       "      <th></th>\n",
       "      <th></th>\n",
       "      <th></th>\n",
       "      <th></th>\n",
       "      <th></th>\n",
       "      <th></th>\n",
       "      <th></th>\n",
       "      <th></th>\n",
       "      <th></th>\n",
       "      <th></th>\n",
       "    </tr>\n",
       "  </thead>\n",
       "  <tbody>\n",
       "    <tr>\n",
       "      <th>5353</th>\n",
       "      <td>0.0</td>\n",
       "      <td>0.248434</td>\n",
       "      <td>0.000000</td>\n",
       "      <td>0.0</td>\n",
       "      <td>0.0</td>\n",
       "      <td>0.000000</td>\n",
       "      <td>0.179758</td>\n",
       "      <td>0.622238</td>\n",
       "      <td>0.000000</td>\n",
       "      <td>0.0</td>\n",
       "      <td>0.730838</td>\n",
       "      <td>0.184048</td>\n",
       "      <td>0.000000</td>\n",
       "      <td>0.152628</td>\n",
       "      <td>0.152628</td>\n",
       "      <td>0.000000</td>\n",
       "      <td>0.152628</td>\n",
       "      <td>0.146326</td>\n",
       "    </tr>\n",
       "    <tr>\n",
       "      <th>5347</th>\n",
       "      <td>0.0</td>\n",
       "      <td>0.330586</td>\n",
       "      <td>0.000000</td>\n",
       "      <td>0.0</td>\n",
       "      <td>0.0</td>\n",
       "      <td>0.000000</td>\n",
       "      <td>0.239201</td>\n",
       "      <td>0.828001</td>\n",
       "      <td>0.000000</td>\n",
       "      <td>0.0</td>\n",
       "      <td>0.972513</td>\n",
       "      <td>0.244909</td>\n",
       "      <td>0.000000</td>\n",
       "      <td>0.203099</td>\n",
       "      <td>0.203099</td>\n",
       "      <td>0.000000</td>\n",
       "      <td>0.203099</td>\n",
       "      <td>0.194714</td>\n",
       "    </tr>\n",
       "    <tr>\n",
       "      <th>5348</th>\n",
       "      <td>0.0</td>\n",
       "      <td>0.319660</td>\n",
       "      <td>0.000000</td>\n",
       "      <td>0.0</td>\n",
       "      <td>0.0</td>\n",
       "      <td>0.000000</td>\n",
       "      <td>0.231295</td>\n",
       "      <td>0.800636</td>\n",
       "      <td>0.000000</td>\n",
       "      <td>0.0</td>\n",
       "      <td>0.940372</td>\n",
       "      <td>0.236815</td>\n",
       "      <td>0.000000</td>\n",
       "      <td>0.196387</td>\n",
       "      <td>0.196387</td>\n",
       "      <td>0.000000</td>\n",
       "      <td>0.196387</td>\n",
       "      <td>0.188279</td>\n",
       "    </tr>\n",
       "    <tr>\n",
       "      <th>5350</th>\n",
       "      <td>0.0</td>\n",
       "      <td>0.303090</td>\n",
       "      <td>0.000000</td>\n",
       "      <td>0.0</td>\n",
       "      <td>0.0</td>\n",
       "      <td>0.000000</td>\n",
       "      <td>0.219306</td>\n",
       "      <td>0.759133</td>\n",
       "      <td>0.000000</td>\n",
       "      <td>0.0</td>\n",
       "      <td>0.891626</td>\n",
       "      <td>0.224539</td>\n",
       "      <td>0.000000</td>\n",
       "      <td>0.186206</td>\n",
       "      <td>0.186206</td>\n",
       "      <td>0.000000</td>\n",
       "      <td>0.186206</td>\n",
       "      <td>0.178519</td>\n",
       "    </tr>\n",
       "    <tr>\n",
       "      <th>333300</th>\n",
       "      <td>0.0</td>\n",
       "      <td>0.150683</td>\n",
       "      <td>0.000000</td>\n",
       "      <td>0.0</td>\n",
       "      <td>0.0</td>\n",
       "      <td>0.000000</td>\n",
       "      <td>0.201116</td>\n",
       "      <td>0.765907</td>\n",
       "      <td>0.172357</td>\n",
       "      <td>0.0</td>\n",
       "      <td>0.716775</td>\n",
       "      <td>0.205915</td>\n",
       "      <td>0.000000</td>\n",
       "      <td>0.365935</td>\n",
       "      <td>0.365935</td>\n",
       "      <td>0.000000</td>\n",
       "      <td>0.175837</td>\n",
       "      <td>0.167547</td>\n",
       "    </tr>\n",
       "    <tr>\n",
       "      <th>...</th>\n",
       "      <td>...</td>\n",
       "      <td>...</td>\n",
       "      <td>...</td>\n",
       "      <td>...</td>\n",
       "      <td>...</td>\n",
       "      <td>...</td>\n",
       "      <td>...</td>\n",
       "      <td>...</td>\n",
       "      <td>...</td>\n",
       "      <td>...</td>\n",
       "      <td>...</td>\n",
       "      <td>...</td>\n",
       "      <td>...</td>\n",
       "      <td>...</td>\n",
       "      <td>...</td>\n",
       "      <td>...</td>\n",
       "      <td>...</td>\n",
       "      <td>...</td>\n",
       "    </tr>\n",
       "    <tr>\n",
       "      <th>357487</th>\n",
       "      <td>0.0</td>\n",
       "      <td>1.354171</td>\n",
       "      <td>0.189183</td>\n",
       "      <td>0.0</td>\n",
       "      <td>0.0</td>\n",
       "      <td>0.193663</td>\n",
       "      <td>0.394382</td>\n",
       "      <td>3.378556</td>\n",
       "      <td>0.000000</td>\n",
       "      <td>0.0</td>\n",
       "      <td>0.597115</td>\n",
       "      <td>0.855363</td>\n",
       "      <td>1.661826</td>\n",
       "      <td>2.838520</td>\n",
       "      <td>1.704970</td>\n",
       "      <td>0.819231</td>\n",
       "      <td>0.000000</td>\n",
       "      <td>0.805401</td>\n",
       "    </tr>\n",
       "    <tr>\n",
       "      <th>357490</th>\n",
       "      <td>0.0</td>\n",
       "      <td>1.363328</td>\n",
       "      <td>0.184456</td>\n",
       "      <td>0.0</td>\n",
       "      <td>0.0</td>\n",
       "      <td>0.188823</td>\n",
       "      <td>0.384527</td>\n",
       "      <td>3.302605</td>\n",
       "      <td>0.000000</td>\n",
       "      <td>0.0</td>\n",
       "      <td>0.582194</td>\n",
       "      <td>0.836363</td>\n",
       "      <td>1.704417</td>\n",
       "      <td>2.770584</td>\n",
       "      <td>1.615655</td>\n",
       "      <td>0.798760</td>\n",
       "      <td>0.000000</td>\n",
       "      <td>0.791116</td>\n",
       "    </tr>\n",
       "    <tr>\n",
       "      <th>357489</th>\n",
       "      <td>0.0</td>\n",
       "      <td>1.361136</td>\n",
       "      <td>0.185537</td>\n",
       "      <td>0.0</td>\n",
       "      <td>0.0</td>\n",
       "      <td>0.189930</td>\n",
       "      <td>0.386781</td>\n",
       "      <td>3.313438</td>\n",
       "      <td>0.000000</td>\n",
       "      <td>0.0</td>\n",
       "      <td>0.585606</td>\n",
       "      <td>0.838877</td>\n",
       "      <td>1.694485</td>\n",
       "      <td>2.764868</td>\n",
       "      <td>1.614941</td>\n",
       "      <td>0.803441</td>\n",
       "      <td>0.000000</td>\n",
       "      <td>0.791999</td>\n",
       "    </tr>\n",
       "    <tr>\n",
       "      <th>357488</th>\n",
       "      <td>0.0</td>\n",
       "      <td>1.359095</td>\n",
       "      <td>0.186571</td>\n",
       "      <td>0.0</td>\n",
       "      <td>0.0</td>\n",
       "      <td>0.190988</td>\n",
       "      <td>0.388936</td>\n",
       "      <td>3.331903</td>\n",
       "      <td>0.000000</td>\n",
       "      <td>0.0</td>\n",
       "      <td>0.588869</td>\n",
       "      <td>0.843551</td>\n",
       "      <td>1.685095</td>\n",
       "      <td>2.850257</td>\n",
       "      <td>1.705051</td>\n",
       "      <td>0.807918</td>\n",
       "      <td>0.000000</td>\n",
       "      <td>0.800937</td>\n",
       "    </tr>\n",
       "    <tr>\n",
       "      <th>708772</th>\n",
       "      <td>0.0</td>\n",
       "      <td>1.324733</td>\n",
       "      <td>0.180575</td>\n",
       "      <td>0.0</td>\n",
       "      <td>0.0</td>\n",
       "      <td>0.184850</td>\n",
       "      <td>0.376437</td>\n",
       "      <td>3.136009</td>\n",
       "      <td>0.000000</td>\n",
       "      <td>0.0</td>\n",
       "      <td>0.569944</td>\n",
       "      <td>0.816441</td>\n",
       "      <td>1.649167</td>\n",
       "      <td>2.690922</td>\n",
       "      <td>1.571750</td>\n",
       "      <td>0.781953</td>\n",
       "      <td>0.000000</td>\n",
       "      <td>0.762494</td>\n",
       "    </tr>\n",
       "  </tbody>\n",
       "</table>\n",
       "<p>189836 rows × 18 columns</p>\n",
       "</div>"
      ],
      "text/plain": [
       "            employment_29  education_13  daily needs_13.8  other goods_5.8  \\\n",
       "connect_id                                                                   \n",
       "5353                  0.0      0.248434          0.000000              0.0   \n",
       "5347                  0.0      0.330586          0.000000              0.0   \n",
       "5348                  0.0      0.319660          0.000000              0.0   \n",
       "5350                  0.0      0.303090          0.000000              0.0   \n",
       "333300                0.0      0.150683          0.000000              0.0   \n",
       "...                   ...           ...               ...              ...   \n",
       "357487                0.0      1.354171          0.189183              0.0   \n",
       "357490                0.0      1.363328          0.184456              0.0   \n",
       "357489                0.0      1.361136          0.185537              0.0   \n",
       "357488                0.0      1.359095          0.186571              0.0   \n",
       "708772                0.0      1.324733          0.180575              0.0   \n",
       "\n",
       "            services_1.5  medical_3.6  errands_1.5  visiting_9.4  \\\n",
       "connect_id                                                         \n",
       "5353                 0.0     0.000000     0.179758      0.622238   \n",
       "5347                 0.0     0.000000     0.239201      0.828001   \n",
       "5348                 0.0     0.000000     0.231295      0.800636   \n",
       "5350                 0.0     0.000000     0.219306      0.759133   \n",
       "333300               0.0     0.000000     0.201116      0.765907   \n",
       "...                  ...          ...          ...           ...   \n",
       "357487               0.0     0.193663     0.394382      3.378556   \n",
       "357490               0.0     0.188823     0.384527      3.302605   \n",
       "357489               0.0     0.189930     0.386781      3.313438   \n",
       "357488               0.0     0.190988     0.388936      3.331903   \n",
       "708772               0.0     0.184850     0.376437      3.136009   \n",
       "\n",
       "            cultural_1.5  events_1.5  sports_4.4  restaurants_3.6  \\\n",
       "connect_id                                                          \n",
       "5353            0.000000         0.0    0.730838         0.184048   \n",
       "5347            0.000000         0.0    0.972513         0.244909   \n",
       "5348            0.000000         0.0    0.940372         0.236815   \n",
       "5350            0.000000         0.0    0.891626         0.224539   \n",
       "333300          0.172357         0.0    0.716775         0.205915   \n",
       "...                  ...         ...         ...              ...   \n",
       "357487          0.000000         0.0    0.597115         0.855363   \n",
       "357490          0.000000         0.0    0.582194         0.836363   \n",
       "357489          0.000000         0.0    0.585606         0.838877   \n",
       "357488          0.000000         0.0    0.588869         0.843551   \n",
       "708772          0.000000         0.0    0.569944         0.816441   \n",
       "\n",
       "            day trip_0.7  walk/jog/ride_5.1  walk dog_2.9  religious_1.5  \\\n",
       "connect_id                                                                 \n",
       "5353            0.000000           0.152628      0.152628       0.000000   \n",
       "5347            0.000000           0.203099      0.203099       0.000000   \n",
       "5348            0.000000           0.196387      0.196387       0.000000   \n",
       "5350            0.000000           0.186206      0.186206       0.000000   \n",
       "333300          0.000000           0.365935      0.365935       0.000000   \n",
       "...                  ...                ...           ...            ...   \n",
       "357487          1.661826           2.838520      1.704970       0.819231   \n",
       "357490          1.704417           2.770584      1.615655       0.798760   \n",
       "357489          1.694485           2.764868      1.614941       0.803441   \n",
       "357488          1.685095           2.850257      1.705051       0.807918   \n",
       "708772          1.649167           2.690922      1.571750       0.781953   \n",
       "\n",
       "            accompany children_1.5  Walk_Index  \n",
       "connect_id                                      \n",
       "5353                      0.152628    0.146326  \n",
       "5347                      0.203099    0.194714  \n",
       "5348                      0.196387    0.188279  \n",
       "5350                      0.186206    0.178519  \n",
       "333300                    0.175837    0.167547  \n",
       "...                            ...         ...  \n",
       "357487                    0.000000    0.805401  \n",
       "357490                    0.000000    0.791116  \n",
       "357489                    0.000000    0.791999  \n",
       "357488                    0.000000    0.800937  \n",
       "708772                    0.000000    0.762494  \n",
       "\n",
       "[189836 rows x 18 columns]"
      ]
     },
     "execution_count": 185,
     "metadata": {},
     "output_type": "execute_result"
    }
   ],
   "source": [
    "scores = feature_score.loc[ : , [col for col in feature_score.columns if '_' in col]]\n",
    "scores.iloc[:, 0:17] = scores.iloc[:, 0:17]*100/poi_weights.values()\n",
    "scores"
   ]
  },
  {
   "cell_type": "code",
   "execution_count": 186,
   "id": "c6de8004",
   "metadata": {},
   "outputs": [],
   "source": [
    "scores['visiting_9.4'] = results_4['persons']\n",
    "scores['employment_29'] = results_4['jobs']"
   ]
  },
  {
   "cell_type": "code",
   "execution_count": 187,
   "id": "c62f89fb",
   "metadata": {},
   "outputs": [],
   "source": [
    "scores_buildings = scores[nodes['connect_type'] == 'poi']\n",
    "scores_buildings.to_csv(\"featurescores_Sutherland.csv\")"
   ]
  },
  {
   "cell_type": "code",
   "execution_count": 188,
   "id": "bb0e42b8",
   "metadata": {},
   "outputs": [],
   "source": [
    "scores_gdf = gpd.GeoDataFrame(scores_buildings, geometry = gpd.GeoSeries.from_xy(nodes[nodes['connect_type'] == 'poi'].x, nodes[nodes['connect_type'] == 'poi'].y, crs=\"EPSG:7856\"))\n",
    "\n",
    "buildings_foot = gpd.read_file(folder +\n",
    "    \"Data\\\\Colouring\\\\Building Footprints\\\\sydney_bf.shp\").to_crs(proj_crs)\n",
    "buildings_foot = gpd.clip(buildings_foot, Sutherland)\n",
    "buildings_foot = gpd.sjoin(buildings_foot, scores_gdf, how='left', predicate='contains')\n",
    "\n",
    "buildings_foot.to_file(\"featurescores_Sutherland.gpkg\")"
   ]
  },
  {
   "cell_type": "code",
   "execution_count": null,
   "id": "e2b2bd6d",
   "metadata": {},
   "outputs": [],
   "source": []
  }
 ],
 "metadata": {
  "kernelspec": {
   "display_name": "Python 3",
   "language": "python",
   "name": "python3"
  },
  "language_info": {
   "codemirror_mode": {
    "name": "ipython",
    "version": 3
   },
   "file_extension": ".py",
   "mimetype": "text/x-python",
   "name": "python",
   "nbconvert_exporter": "python",
   "pygments_lexer": "ipython3",
   "version": "3.8.12"
  }
 },
 "nbformat": 4,
 "nbformat_minor": 5
}
