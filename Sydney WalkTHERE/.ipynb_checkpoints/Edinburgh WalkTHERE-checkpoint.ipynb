{
 "cells": [
  {
   "cell_type": "code",
   "execution_count": 1,
   "id": "5427baeb",
   "metadata": {},
   "outputs": [],
   "source": [
    "%load_ext autoreload\n",
    "%autoreload 2"
   ]
  },
  {
   "cell_type": "code",
   "execution_count": 2,
   "id": "2c6e251a",
   "metadata": {},
   "outputs": [],
   "source": [
    "import numpy as np\n",
    "import pandana as pdna\n",
    "import geopandas as gpd\n",
    "import pandas as pd\n",
    "import osmnx as ox\n",
    "import math\n",
    "import networkx as nx\n",
    "import sys\n",
    "import matplotlib.pyplot as plt\n",
    "# adding functions \n",
    "sys.path.insert(0, 'C:\\\\Users\\\\z3258367\\\\OneDrive - UNSW\\\\#PhD\\\\Walkability\\\\Other Cities\\\\Open-Walk-Index')\n",
    "from walkability_functions import *"
   ]
  },
  {
   "cell_type": "markdown",
   "id": "0ee150b9",
   "metadata": {},
   "source": [
    "Choose a projected CRS to be used for all distance calculations."
   ]
  },
  {
   "cell_type": "code",
   "execution_count": 5,
   "id": "0dc18490",
   "metadata": {},
   "outputs": [],
   "source": [
    "proj_crs = \"EPSG:32630\"\n",
    "place = 'City of Edinburgh, United Kingdom'\n",
    "Edinburgh = ox.geocode_to_gdf(place).to_crs(proj_crs)"
   ]
  },
  {
   "cell_type": "markdown",
   "id": "6dc208e1",
   "metadata": {},
   "source": [
    "## Import Data\n",
    "\n",
    "Data sources:\n",
    "1. OSM POIs\n",
    "5. Employment data - find govt source"
   ]
  },
  {
   "cell_type": "code",
   "execution_count": 6,
   "id": "c4f527da",
   "metadata": {},
   "outputs": [],
   "source": [
    "folder = \"C:\\\\Users\\\\z3258367\\\\OneDrive - UNSW\\\\#PhD\\\\\""
   ]
  },
  {
   "cell_type": "code",
   "execution_count": 19,
   "id": "0d3de460",
   "metadata": {},
   "outputs": [],
   "source": [
    "poi_dictionary = {\n",
    "    'employment':{\n",
    "        'category':['employment']\n",
    "    },\n",
    "    'shopping':{\n",
    "        'shop':['bakery', 'clothes', 'supermarket', 'mall', 'greengrocer',\n",
    "                'seafood', 'wine', 'butcher','convenience',\n",
    "                'beverages', 'alcohol', 'bicycle_shop', 'department_store', \n",
    "                'doityourself', 'beauty_shop', 'outdoor_shop', \n",
    "                'stationery', 'bookshop', 'gift_shop', 'newsagent', \n",
    "                'car_dealership', 'furniture_shop', 'sports_shop',\n",
    "                'garden_centre', 'computer_shop', 'shoe_shop', 'florist', \n",
    "                'video_shop', 'toy_shop', 'mobile_phone_shop', 'jeweller'],\n",
    "        # possibly we could pick up all shop=True excluding a few. but not sure how\n",
    "        # and many options to exclude\n",
    "        'amenity':['marketplace'],\n",
    "        'building':['kiosk', 'supermarket',],\n",
    "    },\n",
    "    'errands':{\n",
    "        'amenity':['atm','bank','courthouse','post_box', 'post_office',\n",
    "                   'clinic', 'dentist', 'doctors', 'hospital',\n",
    "                   'pharmacy', 'veterinary', 'travel_agent',\n",
    "                   'place_of_worship'],\n",
    "        'shop':['optician', 'hairdresser', 'laundry',],\n",
    "        'healthcare':['physiotherapist'],\n",
    "        'office':['government'], #### further refine ?\n",
    "    },\n",
    "    'recreation':{\n",
    "        'leisure':['dog_park', 'ice_rink', 'park', 'pitch', 'playground',\n",
    "                   \"fitness_centre\",\"sports_centre\", 'stadium', 'swimming_pool',\n",
    "                   'swimming_area', 'track', 'water_park','golf_course',],\n",
    "        'club':['social'],\n",
    "        'amenity':['bar', 'biergarten', 'cafe', 'fast_food', 'food_court',\n",
    "                   'ice_cream', 'pub', 'restaurant', 'nightclub',\n",
    "                   'library', 'arts_centre', 'cinema', 'community_centre',\n",
    "                   'social_centre', 'theatre',],\n",
    "        'building':['stadium', 'castle', 'ruins',],\n",
    "        'tourism':['aquarium', 'artwork', 'attraction', 'gallery',\n",
    "                   'museum', 'picnic_site', 'theme_park', 'viewpoint',\n",
    "                   'zoo'],\n",
    "        'natural':['beach'],\n",
    "    },\n",
    "    'education':{\n",
    "        'amenity':['college', 'kindergarten', 'music_school',\n",
    "                   'school', 'university', 'childcare'],\n",
    "    }\n",
    "}"
   ]
  },
  {
   "cell_type": "code",
   "execution_count": 23,
   "id": "eb4719a6",
   "metadata": {},
   "outputs": [
    {
     "name": "stderr",
     "output_type": "stream",
     "text": [
      "C:\\Users\\z3258367\\Anaconda3\\envs\\ox\\lib\\site-packages\\osmnx\\geometries.py:805: ShapelyDeprecationWarning: __len__ for multi-part geometries is deprecated and will be removed in Shapely 2.0. Check the length of the `geoms` property instead to get the  number of parts of a multi-part geometry.\n",
      "  for merged_outer_linestring in list(merged_outer_linestrings):\n",
      "C:\\Users\\z3258367\\Anaconda3\\envs\\ox\\lib\\site-packages\\osmnx\\geometries.py:805: ShapelyDeprecationWarning: Iteration over multi-part geometries is deprecated and will be removed in Shapely 2.0. Use the `geoms` property to access the constituent parts of a multi-part geometry.\n",
      "  for merged_outer_linestring in list(merged_outer_linestrings):\n"
     ]
    }
   ],
   "source": [
    "osm_pois = poi_downloader(place, poi_dictionary, proj_crs)"
   ]
  },
  {
   "cell_type": "code",
   "execution_count": 311,
   "id": "fa0b7eea",
   "metadata": {},
   "outputs": [],
   "source": [
    "employment_centrs = gpd.read_file((folder + \n",
    "                        \"Walkability\\\\Other Cities\\\\Colouring data & results\\\\Edinburgh Data\\\\Output Areas w job counts.gpkg\"),\n",
    "                                  ).to_crs(proj_crs)\n",
    "\n",
    "employment_centrs['category'] = 'employment'\n",
    "employment_centrs['geometry'] = employment_centrs.geometry.centroid"
   ]
  },
  {
   "cell_type": "markdown",
   "id": "d5588632",
   "metadata": {},
   "source": [
    "Need to remove potential overlap between different data sources (and inside some data sources). For now I'm not worrying about this when using only OSM data. Then take this combined POI set and clip it to the study area: should be the same area as is covered by the network. This is important otherwise points outside the network may be erroneously linked to the network."
   ]
  },
  {
   "cell_type": "code",
   "execution_count": null,
   "id": "a26286de",
   "metadata": {},
   "outputs": [],
   "source": [
    "# for now I'm not worrying about it\n",
    "pois = remove_duplicate_pois([osm_categorised, pop_categorised], buffer=10)"
   ]
  },
  {
   "cell_type": "code",
   "execution_count": 227,
   "id": "951a8fe5",
   "metadata": {},
   "outputs": [],
   "source": [
    "pois = pd.concat([osm_pois, employment_centrs])\n",
    "\n",
    "\n",
    "\n",
    "pois = gpd.clip(pois, Edinburgh)"
   ]
  },
  {
   "cell_type": "markdown",
   "id": "96944dbd",
   "metadata": {},
   "source": [
    "### Categorise and weight POIs"
   ]
  },
  {
   "cell_type": "markdown",
   "id": "94b0c568",
   "metadata": {},
   "source": [
    "Choose walk index weightings, and output the sums of each category and the total to check. The walk index will be out of 100 regardless of this sum, but it is important to note that eg. shopping is only '10% of the walk index' if shopping is 10 out of 100."
   ]
  },
  {
   "cell_type": "code",
   "execution_count": 124,
   "id": "8a4b9a72",
   "metadata": {},
   "outputs": [],
   "source": [
    "poi_parameters = pd.read_csv((folder + \n",
    "                              \"Walkability\\\\Other Cities\\\\Colouring data & results\\\\Shared Aus Data\\\\poi_parameters_5.csv\"),\n",
    "                            index_col=0)"
   ]
  },
  {
   "cell_type": "code",
   "execution_count": 182,
   "id": "2d7552c9",
   "metadata": {},
   "outputs": [],
   "source": [
    "poi_weights = poi_parameters['weight']\n",
    "\n",
    "poi_lambdas = poi_parameters['diminishing_returns_constant']\n",
    "\n",
    "poi_variables = poi_parameters['variable']\n",
    "\n",
    "poi_nums = poi_parameters['num_pois']\n",
    "\n",
    "poi_gammas = poi_parameters['distance_constant']"
   ]
  },
  {
   "cell_type": "code",
   "execution_count": 126,
   "id": "b7f4b63d",
   "metadata": {},
   "outputs": [
    {
     "name": "stdout",
     "output_type": "stream",
     "text": [
      "total:  100.00000000000001\n"
     ]
    }
   ],
   "source": [
    "total = sum(poi_weights)\n",
    "print(\"total: \", total)"
   ]
  },
  {
   "cell_type": "code",
   "execution_count": 248,
   "id": "408cc2bc",
   "metadata": {
    "scrolled": true
   },
   "outputs": [
    {
     "name": "stderr",
     "output_type": "stream",
     "text": [
      "<ipython-input-248-83d83c221de2>:1: SettingWithCopyWarning: \n",
      "A value is trying to be set on a copy of a slice from a DataFrame\n",
      "\n",
      "See the caveats in the documentation: https://pandas.pydata.org/pandas-docs/stable/user_guide/indexing.html#returning-a-view-versus-a-copy\n",
      "  poi_variables['employment'] = 'jobs'\n"
     ]
    }
   ],
   "source": [
    "poi_variables['employment'] = 'jobs'"
   ]
  },
  {
   "cell_type": "markdown",
   "id": "41834e86",
   "metadata": {},
   "source": [
    "### Import network"
   ]
  },
  {
   "cell_type": "markdown",
   "id": "48941950",
   "metadata": {},
   "source": [
    "Pandana expects edges to have a two item index based on the same IDs as the node index. (with thanks to https://github.com/shriv/accessibility-series/blob/master/Accounting%20for%20hills%20in%20accessibility%20analyses.ipynb)"
   ]
  },
  {
   "cell_type": "code",
   "execution_count": 197,
   "id": "0f482396",
   "metadata": {},
   "outputs": [],
   "source": [
    "G = ox.graph_from_place(place, network_type='walk')"
   ]
  },
  {
   "cell_type": "code",
   "execution_count": 198,
   "id": "da1c9456",
   "metadata": {},
   "outputs": [],
   "source": [
    "# Get nodes and edges as geodataframes (gdfs) from OSMNX network\n",
    "graph_df = ox.graph_to_gdfs(G)\n",
    "nodes_gdfs = graph_df[0]\n",
    "edges_gdfs = graph_df[1]"
   ]
  },
  {
   "cell_type": "code",
   "execution_count": 199,
   "id": "ea15c37e",
   "metadata": {},
   "outputs": [],
   "source": [
    "edges_gdfs = edges_gdfs.to_crs(proj_crs)\n",
    "nodes_gdfs = nodes_gdfs.to_crs(proj_crs)"
   ]
  },
  {
   "cell_type": "markdown",
   "id": "f02dfca0",
   "metadata": {},
   "source": [
    "## Pandana network creation."
   ]
  },
  {
   "cell_type": "code",
   "execution_count": 200,
   "id": "77ca4dac",
   "metadata": {},
   "outputs": [],
   "source": [
    "# with new OSMnx graph from polygon seems to be different\n",
    "edges_gdfs = edges_gdfs.reset_index()\n",
    "# Setting indices of Edges gdfs to match expected dataframe for Pandana\n",
    "edges_gdfs['from_idx'] = edges_gdfs['u']\n",
    "edges_gdfs['to_idx'] = edges_gdfs['v']\n",
    "edges_gdfs= edges_gdfs.set_index(['from_idx', 'to_idx'])\n",
    "edges_gdfs.index.names= ['','']\n",
    "\n",
    "# Setting indices of Nodes gdfs to match expected dataframe for Pandana\n",
    "nodes_gdfs.index.name = 'id'\n",
    "# Create a pandana network with data extracted from an OSMNX graph\n",
    "distance_network = pdna.Network(nodes_gdfs.geometry.x, nodes_gdfs.geometry.y,\n",
    "                                   edges_gdfs['u'], edges_gdfs['v'], \n",
    "                                   edges_gdfs[['length']])"
   ]
  },
  {
   "cell_type": "markdown",
   "id": "09754e3b",
   "metadata": {},
   "source": [
    "### Pandana network querying. "
   ]
  },
  {
   "cell_type": "code",
   "execution_count": 276,
   "id": "9c333174",
   "metadata": {},
   "outputs": [
    {
     "name": "stderr",
     "output_type": "stream",
     "text": [
      "C:\\Users\\z3258367\\Anaconda3\\envs\\ox\\lib\\site-packages\\pandana\\network.py:660: FutureWarning: The default dtype for empty Series will be 'object' instead of 'float64' in a future version. Specify a dtype explicitly to silence this warning.\n",
      "  elif isinstance(maxitems, type(pd.Series())):\n",
      "C:\\Users\\z3258367\\Anaconda3\\envs\\ox\\lib\\site-packages\\pandana\\network.py:668: FutureWarning: The default dtype for empty Series will be 'object' instead of 'float64' in a future version. Specify a dtype explicitly to silence this warning.\n",
      "  elif isinstance(maxdist, type(pd.Series())):\n"
     ]
    },
    {
     "name": "stdout",
     "output_type": "stream",
     "text": [
      "Finished category: employment\n",
      "Maximum score: 13.991545394320475out of31.9\n"
     ]
    },
    {
     "name": "stderr",
     "output_type": "stream",
     "text": [
      "C:\\Users\\z3258367\\Anaconda3\\envs\\ox\\lib\\site-packages\\pandana\\network.py:660: FutureWarning: The default dtype for empty Series will be 'object' instead of 'float64' in a future version. Specify a dtype explicitly to silence this warning.\n",
      "  elif isinstance(maxitems, type(pd.Series())):\n",
      "C:\\Users\\z3258367\\Anaconda3\\envs\\ox\\lib\\site-packages\\pandana\\network.py:668: FutureWarning: The default dtype for empty Series will be 'object' instead of 'float64' in a future version. Specify a dtype explicitly to silence this warning.\n",
      "  elif isinstance(maxdist, type(pd.Series())):\n"
     ]
    },
    {
     "name": "stdout",
     "output_type": "stream",
     "text": [
      "Finished category: education\n",
      "Maximum score: 12.184215370061615out of14.3\n"
     ]
    },
    {
     "name": "stderr",
     "output_type": "stream",
     "text": [
      "C:\\Users\\z3258367\\Anaconda3\\envs\\ox\\lib\\site-packages\\pandana\\network.py:660: FutureWarning: The default dtype for empty Series will be 'object' instead of 'float64' in a future version. Specify a dtype explicitly to silence this warning.\n",
      "  elif isinstance(maxitems, type(pd.Series())):\n",
      "C:\\Users\\z3258367\\Anaconda3\\envs\\ox\\lib\\site-packages\\pandana\\network.py:668: FutureWarning: The default dtype for empty Series will be 'object' instead of 'float64' in a future version. Specify a dtype explicitly to silence this warning.\n",
      "  elif isinstance(maxdist, type(pd.Series())):\n"
     ]
    },
    {
     "name": "stdout",
     "output_type": "stream",
     "text": [
      "Finished category: shopping\n",
      "Maximum score: 21.392758250902233out of21.6\n"
     ]
    },
    {
     "name": "stderr",
     "output_type": "stream",
     "text": [
      "C:\\Users\\z3258367\\Anaconda3\\envs\\ox\\lib\\site-packages\\pandana\\network.py:660: FutureWarning: The default dtype for empty Series will be 'object' instead of 'float64' in a future version. Specify a dtype explicitly to silence this warning.\n",
      "  elif isinstance(maxitems, type(pd.Series())):\n",
      "C:\\Users\\z3258367\\Anaconda3\\envs\\ox\\lib\\site-packages\\pandana\\network.py:668: FutureWarning: The default dtype for empty Series will be 'object' instead of 'float64' in a future version. Specify a dtype explicitly to silence this warning.\n",
      "  elif isinstance(maxdist, type(pd.Series())):\n"
     ]
    },
    {
     "name": "stdout",
     "output_type": "stream",
     "text": [
      "Finished category: errands\n",
      "Maximum score: 8.807215305535518out of8.9\n"
     ]
    },
    {
     "name": "stderr",
     "output_type": "stream",
     "text": [
      "C:\\Users\\z3258367\\Anaconda3\\envs\\ox\\lib\\site-packages\\pandana\\network.py:660: FutureWarning: The default dtype for empty Series will be 'object' instead of 'float64' in a future version. Specify a dtype explicitly to silence this warning.\n",
      "  elif isinstance(maxitems, type(pd.Series())):\n",
      "C:\\Users\\z3258367\\Anaconda3\\envs\\ox\\lib\\site-packages\\pandana\\network.py:668: FutureWarning: The default dtype for empty Series will be 'object' instead of 'float64' in a future version. Specify a dtype explicitly to silence this warning.\n",
      "  elif isinstance(maxdist, type(pd.Series())):\n"
     ]
    },
    {
     "name": "stdout",
     "output_type": "stream",
     "text": [
      "Finished category: recreation\n",
      "Maximum score: 23.199726318818424out of23.3\n"
     ]
    }
   ],
   "source": [
    "results = walk_index_osmnx(distance_network, pois, poi_dictionary, poi_weights, poi_gammas,\n",
    "                            poi_nums, poi_lambdas, poi_variables, distance=maximum_dist)"
   ]
  },
  {
   "cell_type": "code",
   "execution_count": 291,
   "id": "ee95d5c4",
   "metadata": {},
   "outputs": [
    {
     "data": {
      "text/plain": [
       "(74.3881564759088, 40.695518372495044)"
      ]
     },
     "execution_count": 291,
     "metadata": {},
     "output_type": "execute_result"
    }
   ],
   "source": [
    "max(results['Walk_Index']), np.mean(results['Walk_Index'])"
   ]
  },
  {
   "cell_type": "markdown",
   "id": "933c5d9e",
   "metadata": {},
   "source": [
    "The current approach is to find up to x closest nodes for each category within the maximum distance. Then look up the attractiveness at each one (just count for most), apply a distance decay function to each distance, apply diminishing returns to the resulting total opportunity, and sum.\n",
    "\n",
    "An alternative approach which would be more convenient would be to use the Pandana 'aggregate' function which aggregates from all nodes within the maximum distance including applying a decay function. However, there is limited ability to change the distance decay rate within the aggregation function. It can either be flat (no decay), linear (going to 0 at the max distance), or exponential where beta is set as 1/max distance. For walking I would like a beta of 0.001, but this requires the radius to be 1000m. If the radius is 2400m, beta is only 0.0004. This can be changed in the future if the Pandana function is updated to take a decay parameter."
   ]
  },
  {
   "cell_type": "code",
   "execution_count": 310,
   "id": "01fd34d8",
   "metadata": {},
   "outputs": [
    {
     "data": {
      "text/html": [
       "<div>\n",
       "<style scoped>\n",
       "    .dataframe tbody tr th:only-of-type {\n",
       "        vertical-align: middle;\n",
       "    }\n",
       "\n",
       "    .dataframe tbody tr th {\n",
       "        vertical-align: top;\n",
       "    }\n",
       "\n",
       "    .dataframe thead th {\n",
       "        text-align: right;\n",
       "    }\n",
       "</style>\n",
       "<table border=\"1\" class=\"dataframe\">\n",
       "  <thead>\n",
       "    <tr style=\"text-align: right;\">\n",
       "      <th></th>\n",
       "      <th>created_by</th>\n",
       "      <th>geometry</th>\n",
       "      <th>addr:city</th>\n",
       "      <th>addr:housenumber</th>\n",
       "      <th>addr:postcode</th>\n",
       "      <th>addr:street</th>\n",
       "      <th>amenity</th>\n",
       "      <th>name</th>\n",
       "      <th>opening_hours</th>\n",
       "      <th>ref:pol_id</th>\n",
       "      <th>...</th>\n",
       "      <th>name:pa</th>\n",
       "      <th>name:pms</th>\n",
       "      <th>name:yo</th>\n",
       "      <th>max_level</th>\n",
       "      <th>min_level</th>\n",
       "      <th>orig_geometry</th>\n",
       "      <th>TAG</th>\n",
       "      <th>jobs</th>\n",
       "      <th>2001 flows from all UK to Scotland OAs_Sum of Interaction data&lt;br&gt;2001 STS Level 3&lt;br&gt;[Total] Total persons (inc. those who do not work or study)</th>\n",
       "      <th>category</th>\n",
       "    </tr>\n",
       "  </thead>\n",
       "  <tbody>\n",
       "    <tr>\n",
       "      <th>13273</th>\n",
       "      <td>NaN</td>\n",
       "      <td>POINT (481834.111 6193120.080)</td>\n",
       "      <td>NaN</td>\n",
       "      <td>NaN</td>\n",
       "      <td>NaN</td>\n",
       "      <td>NaN</td>\n",
       "      <td>NaN</td>\n",
       "      <td>NaN</td>\n",
       "      <td>NaN</td>\n",
       "      <td>NaN</td>\n",
       "      <td>...</td>\n",
       "      <td>NaN</td>\n",
       "      <td>NaN</td>\n",
       "      <td>NaN</td>\n",
       "      <td>NaN</td>\n",
       "      <td>NaN</td>\n",
       "      <td>None</td>\n",
       "      <td>60QP000003</td>\n",
       "      <td>87.0</td>\n",
       "      <td>87</td>\n",
       "      <td>employment</td>\n",
       "    </tr>\n",
       "    <tr>\n",
       "      <th>(node, 2494956932)</th>\n",
       "      <td>NaN</td>\n",
       "      <td>POINT (481348.361 6194625.143)</td>\n",
       "      <td>NaN</td>\n",
       "      <td>NaN</td>\n",
       "      <td>NaN</td>\n",
       "      <td>NaN</td>\n",
       "      <td>post_box</td>\n",
       "      <td>NaN</td>\n",
       "      <td>NaN</td>\n",
       "      <td>NaN</td>\n",
       "      <td>...</td>\n",
       "      <td>NaN</td>\n",
       "      <td>NaN</td>\n",
       "      <td>NaN</td>\n",
       "      <td>NaN</td>\n",
       "      <td>NaN</td>\n",
       "      <td>POINT (481348.361 6194625.143)</td>\n",
       "      <td>NaN</td>\n",
       "      <td>NaN</td>\n",
       "      <td>NaN</td>\n",
       "      <td>NaN</td>\n",
       "    </tr>\n",
       "    <tr>\n",
       "      <th>(way, 654506754)</th>\n",
       "      <td>NaN</td>\n",
       "      <td>POINT (481535.369 6194684.728)</td>\n",
       "      <td>NaN</td>\n",
       "      <td>NaN</td>\n",
       "      <td>NaN</td>\n",
       "      <td>NaN</td>\n",
       "      <td>NaN</td>\n",
       "      <td>Blinkbonny Park</td>\n",
       "      <td>NaN</td>\n",
       "      <td>NaN</td>\n",
       "      <td>...</td>\n",
       "      <td>NaN</td>\n",
       "      <td>NaN</td>\n",
       "      <td>NaN</td>\n",
       "      <td>NaN</td>\n",
       "      <td>NaN</td>\n",
       "      <td>POLYGON ((481551.351 6194519.977, 481544.123 6...</td>\n",
       "      <td>NaN</td>\n",
       "      <td>NaN</td>\n",
       "      <td>NaN</td>\n",
       "      <td>NaN</td>\n",
       "    </tr>\n",
       "    <tr>\n",
       "      <th>(node, 2149430603)</th>\n",
       "      <td>NaN</td>\n",
       "      <td>POINT (480972.277 6194695.017)</td>\n",
       "      <td>Currie</td>\n",
       "      <td>122-124</td>\n",
       "      <td>EH14 5NY</td>\n",
       "      <td>Lanark Road West</td>\n",
       "      <td>NaN</td>\n",
       "      <td>McGills</td>\n",
       "      <td>NaN</td>\n",
       "      <td>NaN</td>\n",
       "      <td>...</td>\n",
       "      <td>NaN</td>\n",
       "      <td>NaN</td>\n",
       "      <td>NaN</td>\n",
       "      <td>NaN</td>\n",
       "      <td>NaN</td>\n",
       "      <td>POINT (480972.277 6194695.017)</td>\n",
       "      <td>NaN</td>\n",
       "      <td>NaN</td>\n",
       "      <td>NaN</td>\n",
       "      <td>NaN</td>\n",
       "    </tr>\n",
       "    <tr>\n",
       "      <th>(node, 7108909868)</th>\n",
       "      <td>NaN</td>\n",
       "      <td>POINT (480983.625 6194698.818)</td>\n",
       "      <td>Currie</td>\n",
       "      <td>120</td>\n",
       "      <td>EH14 5NY</td>\n",
       "      <td>Lanark Road West</td>\n",
       "      <td>cafe</td>\n",
       "      <td>The Corner Cafe</td>\n",
       "      <td>NaN</td>\n",
       "      <td>NaN</td>\n",
       "      <td>...</td>\n",
       "      <td>NaN</td>\n",
       "      <td>NaN</td>\n",
       "      <td>NaN</td>\n",
       "      <td>NaN</td>\n",
       "      <td>NaN</td>\n",
       "      <td>POINT (480983.625 6194698.818)</td>\n",
       "      <td>NaN</td>\n",
       "      <td>NaN</td>\n",
       "      <td>NaN</td>\n",
       "      <td>NaN</td>\n",
       "    </tr>\n",
       "    <tr>\n",
       "      <th>...</th>\n",
       "      <td>...</td>\n",
       "      <td>...</td>\n",
       "      <td>...</td>\n",
       "      <td>...</td>\n",
       "      <td>...</td>\n",
       "      <td>...</td>\n",
       "      <td>...</td>\n",
       "      <td>...</td>\n",
       "      <td>...</td>\n",
       "      <td>...</td>\n",
       "      <td>...</td>\n",
       "      <td>...</td>\n",
       "      <td>...</td>\n",
       "      <td>...</td>\n",
       "      <td>...</td>\n",
       "      <td>...</td>\n",
       "      <td>...</td>\n",
       "      <td>...</td>\n",
       "      <td>...</td>\n",
       "      <td>...</td>\n",
       "      <td>...</td>\n",
       "    </tr>\n",
       "    <tr>\n",
       "      <th>(node, 1707008739)</th>\n",
       "      <td>NaN</td>\n",
       "      <td>POINT (484926.937 6204249.757)</td>\n",
       "      <td>NaN</td>\n",
       "      <td>NaN</td>\n",
       "      <td>NaN</td>\n",
       "      <td>NaN</td>\n",
       "      <td>NaN</td>\n",
       "      <td>NaN</td>\n",
       "      <td>NaN</td>\n",
       "      <td>NaN</td>\n",
       "      <td>...</td>\n",
       "      <td>NaN</td>\n",
       "      <td>NaN</td>\n",
       "      <td>NaN</td>\n",
       "      <td>NaN</td>\n",
       "      <td>NaN</td>\n",
       "      <td>POINT (484926.937 6204249.757)</td>\n",
       "      <td>NaN</td>\n",
       "      <td>NaN</td>\n",
       "      <td>NaN</td>\n",
       "      <td>NaN</td>\n",
       "    </tr>\n",
       "    <tr>\n",
       "      <th>(way, 229223291)</th>\n",
       "      <td>NaN</td>\n",
       "      <td>POINT (485052.956 6204261.690)</td>\n",
       "      <td>NaN</td>\n",
       "      <td>NaN</td>\n",
       "      <td>NaN</td>\n",
       "      <td>NaN</td>\n",
       "      <td>NaN</td>\n",
       "      <td>NaN</td>\n",
       "      <td>NaN</td>\n",
       "      <td>NaN</td>\n",
       "      <td>...</td>\n",
       "      <td>NaN</td>\n",
       "      <td>NaN</td>\n",
       "      <td>NaN</td>\n",
       "      <td>NaN</td>\n",
       "      <td>NaN</td>\n",
       "      <td>POLYGON ((484949.170 6204253.886, 484952.059 6...</td>\n",
       "      <td>NaN</td>\n",
       "      <td>NaN</td>\n",
       "      <td>NaN</td>\n",
       "      <td>NaN</td>\n",
       "    </tr>\n",
       "    <tr>\n",
       "      <th>13889</th>\n",
       "      <td>NaN</td>\n",
       "      <td>POINT (485825.834 6204143.520)</td>\n",
       "      <td>NaN</td>\n",
       "      <td>NaN</td>\n",
       "      <td>NaN</td>\n",
       "      <td>NaN</td>\n",
       "      <td>NaN</td>\n",
       "      <td>NaN</td>\n",
       "      <td>NaN</td>\n",
       "      <td>NaN</td>\n",
       "      <td>...</td>\n",
       "      <td>NaN</td>\n",
       "      <td>NaN</td>\n",
       "      <td>NaN</td>\n",
       "      <td>NaN</td>\n",
       "      <td>NaN</td>\n",
       "      <td>None</td>\n",
       "      <td>60QP000619</td>\n",
       "      <td>671.0</td>\n",
       "      <td>671</td>\n",
       "      <td>employment</td>\n",
       "    </tr>\n",
       "    <tr>\n",
       "      <th>13888</th>\n",
       "      <td>NaN</td>\n",
       "      <td>POINT (486559.579 6203883.797)</td>\n",
       "      <td>NaN</td>\n",
       "      <td>NaN</td>\n",
       "      <td>NaN</td>\n",
       "      <td>NaN</td>\n",
       "      <td>NaN</td>\n",
       "      <td>NaN</td>\n",
       "      <td>NaN</td>\n",
       "      <td>NaN</td>\n",
       "      <td>...</td>\n",
       "      <td>NaN</td>\n",
       "      <td>NaN</td>\n",
       "      <td>NaN</td>\n",
       "      <td>NaN</td>\n",
       "      <td>NaN</td>\n",
       "      <td>None</td>\n",
       "      <td>60QP000618</td>\n",
       "      <td>35.0</td>\n",
       "      <td>35</td>\n",
       "      <td>employment</td>\n",
       "    </tr>\n",
       "    <tr>\n",
       "      <th>(way, 121113619)</th>\n",
       "      <td>NaN</td>\n",
       "      <td>POINT (486450.568 6203963.914)</td>\n",
       "      <td>NaN</td>\n",
       "      <td>NaN</td>\n",
       "      <td>NaN</td>\n",
       "      <td>NaN</td>\n",
       "      <td>NaN</td>\n",
       "      <td>Wardie Bay Beach</td>\n",
       "      <td>NaN</td>\n",
       "      <td>NaN</td>\n",
       "      <td>...</td>\n",
       "      <td>NaN</td>\n",
       "      <td>NaN</td>\n",
       "      <td>NaN</td>\n",
       "      <td>NaN</td>\n",
       "      <td>NaN</td>\n",
       "      <td>POLYGON ((486500.773 6203918.686, 486496.932 6...</td>\n",
       "      <td>NaN</td>\n",
       "      <td>NaN</td>\n",
       "      <td>NaN</td>\n",
       "      <td>NaN</td>\n",
       "    </tr>\n",
       "  </tbody>\n",
       "</table>\n",
       "<p>12050 rows × 445 columns</p>\n",
       "</div>"
      ],
      "text/plain": [
       "                   created_by                        geometry addr:city  \\\n",
       "13273                     NaN  POINT (481834.111 6193120.080)       NaN   \n",
       "(node, 2494956932)        NaN  POINT (481348.361 6194625.143)       NaN   \n",
       "(way, 654506754)          NaN  POINT (481535.369 6194684.728)       NaN   \n",
       "(node, 2149430603)        NaN  POINT (480972.277 6194695.017)    Currie   \n",
       "(node, 7108909868)        NaN  POINT (480983.625 6194698.818)    Currie   \n",
       "...                       ...                             ...       ...   \n",
       "(node, 1707008739)        NaN  POINT (484926.937 6204249.757)       NaN   \n",
       "(way, 229223291)          NaN  POINT (485052.956 6204261.690)       NaN   \n",
       "13889                     NaN  POINT (485825.834 6204143.520)       NaN   \n",
       "13888                     NaN  POINT (486559.579 6203883.797)       NaN   \n",
       "(way, 121113619)          NaN  POINT (486450.568 6203963.914)       NaN   \n",
       "\n",
       "                   addr:housenumber addr:postcode       addr:street   amenity  \\\n",
       "13273                           NaN           NaN               NaN       NaN   \n",
       "(node, 2494956932)              NaN           NaN               NaN  post_box   \n",
       "(way, 654506754)                NaN           NaN               NaN       NaN   \n",
       "(node, 2149430603)          122-124      EH14 5NY  Lanark Road West       NaN   \n",
       "(node, 7108909868)              120      EH14 5NY  Lanark Road West      cafe   \n",
       "...                             ...           ...               ...       ...   \n",
       "(node, 1707008739)              NaN           NaN               NaN       NaN   \n",
       "(way, 229223291)                NaN           NaN               NaN       NaN   \n",
       "13889                           NaN           NaN               NaN       NaN   \n",
       "13888                           NaN           NaN               NaN       NaN   \n",
       "(way, 121113619)                NaN           NaN               NaN       NaN   \n",
       "\n",
       "                                name opening_hours ref:pol_id  ... name:pa  \\\n",
       "13273                            NaN           NaN        NaN  ...     NaN   \n",
       "(node, 2494956932)               NaN           NaN        NaN  ...     NaN   \n",
       "(way, 654506754)     Blinkbonny Park           NaN        NaN  ...     NaN   \n",
       "(node, 2149430603)           McGills           NaN        NaN  ...     NaN   \n",
       "(node, 7108909868)   The Corner Cafe           NaN        NaN  ...     NaN   \n",
       "...                              ...           ...        ...  ...     ...   \n",
       "(node, 1707008739)               NaN           NaN        NaN  ...     NaN   \n",
       "(way, 229223291)                 NaN           NaN        NaN  ...     NaN   \n",
       "13889                            NaN           NaN        NaN  ...     NaN   \n",
       "13888                            NaN           NaN        NaN  ...     NaN   \n",
       "(way, 121113619)    Wardie Bay Beach           NaN        NaN  ...     NaN   \n",
       "\n",
       "                   name:pms name:yo max_level min_level  \\\n",
       "13273                   NaN     NaN       NaN       NaN   \n",
       "(node, 2494956932)      NaN     NaN       NaN       NaN   \n",
       "(way, 654506754)        NaN     NaN       NaN       NaN   \n",
       "(node, 2149430603)      NaN     NaN       NaN       NaN   \n",
       "(node, 7108909868)      NaN     NaN       NaN       NaN   \n",
       "...                     ...     ...       ...       ...   \n",
       "(node, 1707008739)      NaN     NaN       NaN       NaN   \n",
       "(way, 229223291)        NaN     NaN       NaN       NaN   \n",
       "13889                   NaN     NaN       NaN       NaN   \n",
       "13888                   NaN     NaN       NaN       NaN   \n",
       "(way, 121113619)        NaN     NaN       NaN       NaN   \n",
       "\n",
       "                                                        orig_geometry  \\\n",
       "13273                                                            None   \n",
       "(node, 2494956932)                     POINT (481348.361 6194625.143)   \n",
       "(way, 654506754)    POLYGON ((481551.351 6194519.977, 481544.123 6...   \n",
       "(node, 2149430603)                     POINT (480972.277 6194695.017)   \n",
       "(node, 7108909868)                     POINT (480983.625 6194698.818)   \n",
       "...                                                               ...   \n",
       "(node, 1707008739)                     POINT (484926.937 6204249.757)   \n",
       "(way, 229223291)    POLYGON ((484949.170 6204253.886, 484952.059 6...   \n",
       "13889                                                            None   \n",
       "13888                                                            None   \n",
       "(way, 121113619)    POLYGON ((486500.773 6203918.686, 486496.932 6...   \n",
       "\n",
       "                           TAG   jobs  \\\n",
       "13273               60QP000003   87.0   \n",
       "(node, 2494956932)         NaN    NaN   \n",
       "(way, 654506754)           NaN    NaN   \n",
       "(node, 2149430603)         NaN    NaN   \n",
       "(node, 7108909868)         NaN    NaN   \n",
       "...                        ...    ...   \n",
       "(node, 1707008739)         NaN    NaN   \n",
       "(way, 229223291)           NaN    NaN   \n",
       "13889               60QP000619  671.0   \n",
       "13888               60QP000618   35.0   \n",
       "(way, 121113619)           NaN    NaN   \n",
       "\n",
       "                   2001 flows from all UK to Scotland OAs_Sum of Interaction data<br>2001 STS Level 3<br>[Total] Total persons (inc. those who do not work or study)  \\\n",
       "13273                                                              87                                                                                                  \n",
       "(node, 2494956932)                                                NaN                                                                                                  \n",
       "(way, 654506754)                                                  NaN                                                                                                  \n",
       "(node, 2149430603)                                                NaN                                                                                                  \n",
       "(node, 7108909868)                                                NaN                                                                                                  \n",
       "...                                                               ...                                                                                                  \n",
       "(node, 1707008739)                                                NaN                                                                                                  \n",
       "(way, 229223291)                                                  NaN                                                                                                  \n",
       "13889                                                             671                                                                                                  \n",
       "13888                                                              35                                                                                                  \n",
       "(way, 121113619)                                                  NaN                                                                                                  \n",
       "\n",
       "                      category  \n",
       "13273               employment  \n",
       "(node, 2494956932)         NaN  \n",
       "(way, 654506754)           NaN  \n",
       "(node, 2149430603)         NaN  \n",
       "(node, 7108909868)         NaN  \n",
       "...                        ...  \n",
       "(node, 1707008739)         NaN  \n",
       "(way, 229223291)           NaN  \n",
       "13889               employment  \n",
       "13888               employment  \n",
       "(way, 121113619)           NaN  \n",
       "\n",
       "[12050 rows x 445 columns]"
      ]
     },
     "execution_count": 310,
     "metadata": {},
     "output_type": "execute_result"
    }
   ],
   "source": [
    "pois"
   ]
  },
  {
   "cell_type": "code",
   "execution_count": 269,
   "id": "62523b09",
   "metadata": {},
   "outputs": [
    {
     "name": "stderr",
     "output_type": "stream",
     "text": [
      "C:\\Users\\z3258367\\Anaconda3\\envs\\ox\\lib\\site-packages\\pandana\\network.py:660: FutureWarning: The default dtype for empty Series will be 'object' instead of 'float64' in a future version. Specify a dtype explicitly to silence this warning.\n",
      "  elif isinstance(maxitems, type(pd.Series())):\n",
      "C:\\Users\\z3258367\\Anaconda3\\envs\\ox\\lib\\site-packages\\pandana\\network.py:668: FutureWarning: The default dtype for empty Series will be 'object' instead of 'float64' in a future version. Specify a dtype explicitly to silence this warning.\n",
      "  elif isinstance(maxdist, type(pd.Series())):\n"
     ]
    }
   ],
   "source": [
    "category = 'employment'\n",
    "dim_const = poi_lambdas[category]\n",
    "dist_const = poi_gammas[category]\n",
    "num_pois = poi_nums[category]\n",
    "weight = poi_weights[category]\n",
    "cat_name = ''.join((str(category),\"_\",str(weight)))\n",
    "\n",
    "relevant_pois = gpd.GeoDataFrame()\n",
    "for key in poi_dictionary[category]:\n",
    "    relevant_pois = pd.concat([relevant_pois, pois.loc[(pois[key].isin(poi_dictionary[category][key]))]])\n",
    "    \n",
    "relevant_pois = relevant_pois.set_index(poi_variables[category])\n",
    "\n",
    "x, y = (relevant_pois['geometry'].x, relevant_pois['geometry'].y)\n",
    "\n",
    "distance_network.set_pois(category, maximum_dist, num_pois, x, y)\n",
    "\n",
    "access = distance_network.nearest_pois(\n",
    "    distance=maximum_dist, category=category, num_pois=num_pois, include_poi_ids=True)"
   ]
  },
  {
   "cell_type": "code",
   "execution_count": 270,
   "id": "5ba37924",
   "metadata": {},
   "outputs": [
    {
     "data": {
      "text/plain": [
       "4.0"
      ]
     },
     "execution_count": 270,
     "metadata": {},
     "output_type": "execute_result"
    }
   ],
   "source": [
    "min(access['poi1'])"
   ]
  },
  {
   "cell_type": "code",
   "execution_count": 271,
   "id": "bd595bde",
   "metadata": {},
   "outputs": [
    {
     "data": {
      "text/html": [
       "<div>\n",
       "<style scoped>\n",
       "    .dataframe tbody tr th:only-of-type {\n",
       "        vertical-align: middle;\n",
       "    }\n",
       "\n",
       "    .dataframe tbody tr th {\n",
       "        vertical-align: top;\n",
       "    }\n",
       "\n",
       "    .dataframe thead th {\n",
       "        text-align: right;\n",
       "    }\n",
       "</style>\n",
       "<table border=\"1\" class=\"dataframe\">\n",
       "  <thead>\n",
       "    <tr style=\"text-align: right;\">\n",
       "      <th></th>\n",
       "      <th>1</th>\n",
       "      <th>2</th>\n",
       "      <th>3</th>\n",
       "      <th>4</th>\n",
       "      <th>5</th>\n",
       "      <th>6</th>\n",
       "      <th>7</th>\n",
       "      <th>8</th>\n",
       "      <th>9</th>\n",
       "      <th>10</th>\n",
       "      <th>...</th>\n",
       "      <th>poi91</th>\n",
       "      <th>poi92</th>\n",
       "      <th>poi93</th>\n",
       "      <th>poi94</th>\n",
       "      <th>poi95</th>\n",
       "      <th>poi96</th>\n",
       "      <th>poi97</th>\n",
       "      <th>poi98</th>\n",
       "      <th>poi99</th>\n",
       "      <th>poi100</th>\n",
       "    </tr>\n",
       "    <tr>\n",
       "      <th>id</th>\n",
       "      <th></th>\n",
       "      <th></th>\n",
       "      <th></th>\n",
       "      <th></th>\n",
       "      <th></th>\n",
       "      <th></th>\n",
       "      <th></th>\n",
       "      <th></th>\n",
       "      <th></th>\n",
       "      <th></th>\n",
       "      <th></th>\n",
       "      <th></th>\n",
       "      <th></th>\n",
       "      <th></th>\n",
       "      <th></th>\n",
       "      <th></th>\n",
       "      <th></th>\n",
       "      <th></th>\n",
       "      <th></th>\n",
       "      <th></th>\n",
       "      <th></th>\n",
       "    </tr>\n",
       "  </thead>\n",
       "  <tbody>\n",
       "    <tr>\n",
       "      <th>354106</th>\n",
       "      <td>543.479980</td>\n",
       "      <td>1414.645020</td>\n",
       "      <td>1498.706055</td>\n",
       "      <td>1539.567993</td>\n",
       "      <td>1568.472046</td>\n",
       "      <td>1600.375000</td>\n",
       "      <td>1612.905029</td>\n",
       "      <td>1626.957031</td>\n",
       "      <td>1643.145996</td>\n",
       "      <td>1676.677979</td>\n",
       "      <td>...</td>\n",
       "      <td>86.0</td>\n",
       "      <td>NaN</td>\n",
       "      <td>NaN</td>\n",
       "      <td>NaN</td>\n",
       "      <td>NaN</td>\n",
       "      <td>NaN</td>\n",
       "      <td>NaN</td>\n",
       "      <td>NaN</td>\n",
       "      <td>NaN</td>\n",
       "      <td>NaN</td>\n",
       "    </tr>\n",
       "    <tr>\n",
       "      <th>363837</th>\n",
       "      <td>108.581001</td>\n",
       "      <td>431.467987</td>\n",
       "      <td>463.270996</td>\n",
       "      <td>482.785004</td>\n",
       "      <td>612.359985</td>\n",
       "      <td>637.158997</td>\n",
       "      <td>645.179993</td>\n",
       "      <td>734.440002</td>\n",
       "      <td>776.606995</td>\n",
       "      <td>828.224976</td>\n",
       "      <td>...</td>\n",
       "      <td>45.0</td>\n",
       "      <td>79.0</td>\n",
       "      <td>45.0</td>\n",
       "      <td>37.0</td>\n",
       "      <td>54.0</td>\n",
       "      <td>91.0</td>\n",
       "      <td>26.0</td>\n",
       "      <td>53.0</td>\n",
       "      <td>75.0</td>\n",
       "      <td>54.0</td>\n",
       "    </tr>\n",
       "    <tr>\n",
       "      <th>363855</th>\n",
       "      <td>999.098999</td>\n",
       "      <td>2154.717041</td>\n",
       "      <td>2244.753906</td>\n",
       "      <td>2400.000000</td>\n",
       "      <td>2400.000000</td>\n",
       "      <td>2400.000000</td>\n",
       "      <td>2400.000000</td>\n",
       "      <td>2400.000000</td>\n",
       "      <td>2400.000000</td>\n",
       "      <td>2400.000000</td>\n",
       "      <td>...</td>\n",
       "      <td>NaN</td>\n",
       "      <td>NaN</td>\n",
       "      <td>NaN</td>\n",
       "      <td>NaN</td>\n",
       "      <td>NaN</td>\n",
       "      <td>NaN</td>\n",
       "      <td>NaN</td>\n",
       "      <td>NaN</td>\n",
       "      <td>NaN</td>\n",
       "      <td>NaN</td>\n",
       "    </tr>\n",
       "    <tr>\n",
       "      <th>363917</th>\n",
       "      <td>1547.724976</td>\n",
       "      <td>1703.036011</td>\n",
       "      <td>1722.300049</td>\n",
       "      <td>1808.734985</td>\n",
       "      <td>1870.250977</td>\n",
       "      <td>1884.608032</td>\n",
       "      <td>1914.312988</td>\n",
       "      <td>1963.103027</td>\n",
       "      <td>1981.265015</td>\n",
       "      <td>2009.961060</td>\n",
       "      <td>...</td>\n",
       "      <td>NaN</td>\n",
       "      <td>NaN</td>\n",
       "      <td>NaN</td>\n",
       "      <td>NaN</td>\n",
       "      <td>NaN</td>\n",
       "      <td>NaN</td>\n",
       "      <td>NaN</td>\n",
       "      <td>NaN</td>\n",
       "      <td>NaN</td>\n",
       "      <td>NaN</td>\n",
       "    </tr>\n",
       "    <tr>\n",
       "      <th>602093</th>\n",
       "      <td>514.754028</td>\n",
       "      <td>730.588989</td>\n",
       "      <td>764.567993</td>\n",
       "      <td>1013.958008</td>\n",
       "      <td>1029.074951</td>\n",
       "      <td>1229.610962</td>\n",
       "      <td>1272.422974</td>\n",
       "      <td>1898.902954</td>\n",
       "      <td>1941.297974</td>\n",
       "      <td>2107.291992</td>\n",
       "      <td>...</td>\n",
       "      <td>NaN</td>\n",
       "      <td>NaN</td>\n",
       "      <td>NaN</td>\n",
       "      <td>NaN</td>\n",
       "      <td>NaN</td>\n",
       "      <td>NaN</td>\n",
       "      <td>NaN</td>\n",
       "      <td>NaN</td>\n",
       "      <td>NaN</td>\n",
       "      <td>NaN</td>\n",
       "    </tr>\n",
       "    <tr>\n",
       "      <th>...</th>\n",
       "      <td>...</td>\n",
       "      <td>...</td>\n",
       "      <td>...</td>\n",
       "      <td>...</td>\n",
       "      <td>...</td>\n",
       "      <td>...</td>\n",
       "      <td>...</td>\n",
       "      <td>...</td>\n",
       "      <td>...</td>\n",
       "      <td>...</td>\n",
       "      <td>...</td>\n",
       "      <td>...</td>\n",
       "      <td>...</td>\n",
       "      <td>...</td>\n",
       "      <td>...</td>\n",
       "      <td>...</td>\n",
       "      <td>...</td>\n",
       "      <td>...</td>\n",
       "      <td>...</td>\n",
       "      <td>...</td>\n",
       "      <td>...</td>\n",
       "    </tr>\n",
       "    <tr>\n",
       "      <th>9790397157</th>\n",
       "      <td>1032.046021</td>\n",
       "      <td>1368.777954</td>\n",
       "      <td>1421.572021</td>\n",
       "      <td>1474.119019</td>\n",
       "      <td>1499.911011</td>\n",
       "      <td>1518.813965</td>\n",
       "      <td>1564.685059</td>\n",
       "      <td>1608.500000</td>\n",
       "      <td>1627.969971</td>\n",
       "      <td>1672.760986</td>\n",
       "      <td>...</td>\n",
       "      <td>NaN</td>\n",
       "      <td>NaN</td>\n",
       "      <td>NaN</td>\n",
       "      <td>NaN</td>\n",
       "      <td>NaN</td>\n",
       "      <td>NaN</td>\n",
       "      <td>NaN</td>\n",
       "      <td>NaN</td>\n",
       "      <td>NaN</td>\n",
       "      <td>NaN</td>\n",
       "    </tr>\n",
       "    <tr>\n",
       "      <th>9790397159</th>\n",
       "      <td>982.343994</td>\n",
       "      <td>1418.479980</td>\n",
       "      <td>1469.112061</td>\n",
       "      <td>1471.274048</td>\n",
       "      <td>1514.983032</td>\n",
       "      <td>1523.821045</td>\n",
       "      <td>1549.613037</td>\n",
       "      <td>1626.571045</td>\n",
       "      <td>1635.402954</td>\n",
       "      <td>1658.202026</td>\n",
       "      <td>...</td>\n",
       "      <td>NaN</td>\n",
       "      <td>NaN</td>\n",
       "      <td>NaN</td>\n",
       "      <td>NaN</td>\n",
       "      <td>NaN</td>\n",
       "      <td>NaN</td>\n",
       "      <td>NaN</td>\n",
       "      <td>NaN</td>\n",
       "      <td>NaN</td>\n",
       "      <td>NaN</td>\n",
       "    </tr>\n",
       "    <tr>\n",
       "      <th>9790397161</th>\n",
       "      <td>1000.911011</td>\n",
       "      <td>1450.135986</td>\n",
       "      <td>1487.678955</td>\n",
       "      <td>1502.930054</td>\n",
       "      <td>1533.550049</td>\n",
       "      <td>1555.477051</td>\n",
       "      <td>1581.269043</td>\n",
       "      <td>1645.137939</td>\n",
       "      <td>1653.969971</td>\n",
       "      <td>1689.858032</td>\n",
       "      <td>...</td>\n",
       "      <td>NaN</td>\n",
       "      <td>NaN</td>\n",
       "      <td>NaN</td>\n",
       "      <td>NaN</td>\n",
       "      <td>NaN</td>\n",
       "      <td>NaN</td>\n",
       "      <td>NaN</td>\n",
       "      <td>NaN</td>\n",
       "      <td>NaN</td>\n",
       "      <td>NaN</td>\n",
       "    </tr>\n",
       "    <tr>\n",
       "      <th>9790407025</th>\n",
       "      <td>504.799011</td>\n",
       "      <td>557.593018</td>\n",
       "      <td>635.932007</td>\n",
       "      <td>650.586975</td>\n",
       "      <td>744.520996</td>\n",
       "      <td>763.991028</td>\n",
       "      <td>808.781982</td>\n",
       "      <td>823.546021</td>\n",
       "      <td>881.036987</td>\n",
       "      <td>986.424011</td>\n",
       "      <td>...</td>\n",
       "      <td>NaN</td>\n",
       "      <td>NaN</td>\n",
       "      <td>NaN</td>\n",
       "      <td>NaN</td>\n",
       "      <td>NaN</td>\n",
       "      <td>NaN</td>\n",
       "      <td>NaN</td>\n",
       "      <td>NaN</td>\n",
       "      <td>NaN</td>\n",
       "      <td>NaN</td>\n",
       "    </tr>\n",
       "    <tr>\n",
       "      <th>9790416940</th>\n",
       "      <td>212.552002</td>\n",
       "      <td>214.725998</td>\n",
       "      <td>395.992004</td>\n",
       "      <td>417.269989</td>\n",
       "      <td>417.670013</td>\n",
       "      <td>456.346985</td>\n",
       "      <td>456.346985</td>\n",
       "      <td>475.815002</td>\n",
       "      <td>541.515991</td>\n",
       "      <td>556.250000</td>\n",
       "      <td>...</td>\n",
       "      <td>25.0</td>\n",
       "      <td>52.0</td>\n",
       "      <td>31.0</td>\n",
       "      <td>48.0</td>\n",
       "      <td>82.0</td>\n",
       "      <td>64.0</td>\n",
       "      <td>27.0</td>\n",
       "      <td>80.0</td>\n",
       "      <td>45.0</td>\n",
       "      <td>77.0</td>\n",
       "    </tr>\n",
       "  </tbody>\n",
       "</table>\n",
       "<p>50271 rows × 200 columns</p>\n",
       "</div>"
      ],
      "text/plain": [
       "                      1            2            3            4            5  \\\n",
       "id                                                                            \n",
       "354106       543.479980  1414.645020  1498.706055  1539.567993  1568.472046   \n",
       "363837       108.581001   431.467987   463.270996   482.785004   612.359985   \n",
       "363855       999.098999  2154.717041  2244.753906  2400.000000  2400.000000   \n",
       "363917      1547.724976  1703.036011  1722.300049  1808.734985  1870.250977   \n",
       "602093       514.754028   730.588989   764.567993  1013.958008  1029.074951   \n",
       "...                 ...          ...          ...          ...          ...   \n",
       "9790397157  1032.046021  1368.777954  1421.572021  1474.119019  1499.911011   \n",
       "9790397159   982.343994  1418.479980  1469.112061  1471.274048  1514.983032   \n",
       "9790397161  1000.911011  1450.135986  1487.678955  1502.930054  1533.550049   \n",
       "9790407025   504.799011   557.593018   635.932007   650.586975   744.520996   \n",
       "9790416940   212.552002   214.725998   395.992004   417.269989   417.670013   \n",
       "\n",
       "                      6            7            8            9           10  \\\n",
       "id                                                                            \n",
       "354106      1600.375000  1612.905029  1626.957031  1643.145996  1676.677979   \n",
       "363837       637.158997   645.179993   734.440002   776.606995   828.224976   \n",
       "363855      2400.000000  2400.000000  2400.000000  2400.000000  2400.000000   \n",
       "363917      1884.608032  1914.312988  1963.103027  1981.265015  2009.961060   \n",
       "602093      1229.610962  1272.422974  1898.902954  1941.297974  2107.291992   \n",
       "...                 ...          ...          ...          ...          ...   \n",
       "9790397157  1518.813965  1564.685059  1608.500000  1627.969971  1672.760986   \n",
       "9790397159  1523.821045  1549.613037  1626.571045  1635.402954  1658.202026   \n",
       "9790397161  1555.477051  1581.269043  1645.137939  1653.969971  1689.858032   \n",
       "9790407025   763.991028   808.781982   823.546021   881.036987   986.424011   \n",
       "9790416940   456.346985   456.346985   475.815002   541.515991   556.250000   \n",
       "\n",
       "            ...  poi91  poi92  poi93  poi94  poi95  poi96  poi97  poi98  \\\n",
       "id          ...                                                           \n",
       "354106      ...   86.0    NaN    NaN    NaN    NaN    NaN    NaN    NaN   \n",
       "363837      ...   45.0   79.0   45.0   37.0   54.0   91.0   26.0   53.0   \n",
       "363855      ...    NaN    NaN    NaN    NaN    NaN    NaN    NaN    NaN   \n",
       "363917      ...    NaN    NaN    NaN    NaN    NaN    NaN    NaN    NaN   \n",
       "602093      ...    NaN    NaN    NaN    NaN    NaN    NaN    NaN    NaN   \n",
       "...         ...    ...    ...    ...    ...    ...    ...    ...    ...   \n",
       "9790397157  ...    NaN    NaN    NaN    NaN    NaN    NaN    NaN    NaN   \n",
       "9790397159  ...    NaN    NaN    NaN    NaN    NaN    NaN    NaN    NaN   \n",
       "9790397161  ...    NaN    NaN    NaN    NaN    NaN    NaN    NaN    NaN   \n",
       "9790407025  ...    NaN    NaN    NaN    NaN    NaN    NaN    NaN    NaN   \n",
       "9790416940  ...   25.0   52.0   31.0   48.0   82.0   64.0   27.0   80.0   \n",
       "\n",
       "            poi99  poi100  \n",
       "id                         \n",
       "354106        NaN     NaN  \n",
       "363837       75.0    54.0  \n",
       "363855        NaN     NaN  \n",
       "363917        NaN     NaN  \n",
       "602093        NaN     NaN  \n",
       "...           ...     ...  \n",
       "9790397157    NaN     NaN  \n",
       "9790397159    NaN     NaN  \n",
       "9790397161    NaN     NaN  \n",
       "9790407025    NaN     NaN  \n",
       "9790416940   45.0    77.0  \n",
       "\n",
       "[50271 rows x 200 columns]"
      ]
     },
     "execution_count": 271,
     "metadata": {},
     "output_type": "execute_result"
    }
   ],
   "source": [
    "access"
   ]
  },
  {
   "cell_type": "code",
   "execution_count": 265,
   "id": "a59b0250",
   "metadata": {},
   "outputs": [
    {
     "data": {
      "text/html": [
       "<div>\n",
       "<style scoped>\n",
       "    .dataframe tbody tr th:only-of-type {\n",
       "        vertical-align: middle;\n",
       "    }\n",
       "\n",
       "    .dataframe tbody tr th {\n",
       "        vertical-align: top;\n",
       "    }\n",
       "\n",
       "    .dataframe thead th {\n",
       "        text-align: right;\n",
       "    }\n",
       "</style>\n",
       "<table border=\"1\" class=\"dataframe\">\n",
       "  <thead>\n",
       "    <tr style=\"text-align: right;\">\n",
       "      <th></th>\n",
       "      <th>x</th>\n",
       "      <th>y</th>\n",
       "    </tr>\n",
       "    <tr>\n",
       "      <th>id</th>\n",
       "      <th></th>\n",
       "      <th></th>\n",
       "    </tr>\n",
       "  </thead>\n",
       "  <tbody>\n",
       "    <tr>\n",
       "      <th>354106</th>\n",
       "      <td>480581.988911</td>\n",
       "      <td>6.197772e+06</td>\n",
       "    </tr>\n",
       "    <tr>\n",
       "      <th>363837</th>\n",
       "      <td>480166.620038</td>\n",
       "      <td>6.202245e+06</td>\n",
       "    </tr>\n",
       "    <tr>\n",
       "      <th>363855</th>\n",
       "      <td>478517.166409</td>\n",
       "      <td>6.203744e+06</td>\n",
       "    </tr>\n",
       "    <tr>\n",
       "      <th>363917</th>\n",
       "      <td>474747.041815</td>\n",
       "      <td>6.204910e+06</td>\n",
       "    </tr>\n",
       "    <tr>\n",
       "      <th>602093</th>\n",
       "      <td>474836.933183</td>\n",
       "      <td>6.199407e+06</td>\n",
       "    </tr>\n",
       "    <tr>\n",
       "      <th>...</th>\n",
       "      <td>...</td>\n",
       "      <td>...</td>\n",
       "    </tr>\n",
       "    <tr>\n",
       "      <th>9790397157</th>\n",
       "      <td>482218.983227</td>\n",
       "      <td>6.203728e+06</td>\n",
       "    </tr>\n",
       "    <tr>\n",
       "      <th>9790397159</th>\n",
       "      <td>482267.871921</td>\n",
       "      <td>6.203719e+06</td>\n",
       "    </tr>\n",
       "    <tr>\n",
       "      <th>9790397161</th>\n",
       "      <td>482297.006015</td>\n",
       "      <td>6.203716e+06</td>\n",
       "    </tr>\n",
       "    <tr>\n",
       "      <th>9790407025</th>\n",
       "      <td>481581.219204</td>\n",
       "      <td>6.203608e+06</td>\n",
       "    </tr>\n",
       "    <tr>\n",
       "      <th>9790416940</th>\n",
       "      <td>481714.970977</td>\n",
       "      <td>6.201777e+06</td>\n",
       "    </tr>\n",
       "  </tbody>\n",
       "</table>\n",
       "<p>50271 rows × 2 columns</p>\n",
       "</div>"
      ],
      "text/plain": [
       "                        x             y\n",
       "id                                     \n",
       "354106      480581.988911  6.197772e+06\n",
       "363837      480166.620038  6.202245e+06\n",
       "363855      478517.166409  6.203744e+06\n",
       "363917      474747.041815  6.204910e+06\n",
       "602093      474836.933183  6.199407e+06\n",
       "...                   ...           ...\n",
       "9790397157  482218.983227  6.203728e+06\n",
       "9790397159  482267.871921  6.203719e+06\n",
       "9790397161  482297.006015  6.203716e+06\n",
       "9790407025  481581.219204  6.203608e+06\n",
       "9790416940  481714.970977  6.201777e+06\n",
       "\n",
       "[50271 rows x 2 columns]"
      ]
     },
     "execution_count": 265,
     "metadata": {},
     "output_type": "execute_result"
    }
   ],
   "source": [
    "distance_network.nodes_df"
   ]
  },
  {
   "cell_type": "markdown",
   "id": "bf6ceeac",
   "metadata": {},
   "source": [
    "## Cycling"
   ]
  },
  {
   "cell_type": "code",
   "execution_count": 293,
   "id": "1976fc2a",
   "metadata": {},
   "outputs": [
    {
     "data": {
      "text/plain": [
       "34688"
      ]
     },
     "execution_count": 293,
     "metadata": {},
     "output_type": "execute_result"
    }
   ],
   "source": [
    "len(nodes_gdfs)"
   ]
  },
  {
   "cell_type": "code",
   "execution_count": 203,
   "id": "b3d49f3f",
   "metadata": {},
   "outputs": [],
   "source": [
    "C = ox.graph_from_place(place, network_type='bike')"
   ]
  },
  {
   "cell_type": "code",
   "execution_count": 294,
   "id": "55e2b7d3",
   "metadata": {},
   "outputs": [],
   "source": [
    "# Get nodes and edges as geodataframes (gdfs) from OSMNX network\n",
    "graph_df = ox.graph_to_gdfs(C)\n",
    "nodes_gdfs = graph_df[0]\n",
    "edges_gdfs = graph_df[1]"
   ]
  },
  {
   "cell_type": "code",
   "execution_count": 295,
   "id": "4ff478ff",
   "metadata": {},
   "outputs": [
    {
     "data": {
      "text/plain": [
       "34688"
      ]
     },
     "execution_count": 295,
     "metadata": {},
     "output_type": "execute_result"
    }
   ],
   "source": [
    "len(nodes_gdfs)"
   ]
  },
  {
   "cell_type": "code",
   "execution_count": 205,
   "id": "923c2c80",
   "metadata": {},
   "outputs": [],
   "source": [
    "edges_gdfs = edges_gdfs.to_crs(proj_crs)\n",
    "nodes_gdfs = nodes_gdfs.to_crs(proj_crs)"
   ]
  },
  {
   "cell_type": "code",
   "execution_count": 206,
   "id": "9bb42243",
   "metadata": {},
   "outputs": [],
   "source": [
    "# with new OSMnx graph from polygon seems to be different\n",
    "edges_gdfs = edges_gdfs.reset_index()\n",
    "# Setting indices of Edges gdfs to match expected dataframe for Pandana\n",
    "edges_gdfs['from_idx'] = edges_gdfs['u']\n",
    "edges_gdfs['to_idx'] = edges_gdfs['v']\n",
    "edges_gdfs= edges_gdfs.set_index(['from_idx', 'to_idx'])\n",
    "edges_gdfs.index.names= ['','']\n",
    "\n",
    "# Setting indices of Nodes gdfs to match expected dataframe for Pandana\n",
    "nodes_gdfs.index.name = 'id'\n",
    "# Create a pandana network with data extracted from an OSMNX graph\n",
    "cycle_network = pdna.Network(nodes_gdfs.geometry.x, nodes_gdfs.geometry.y,\n",
    "                                   edges_gdfs['u'], edges_gdfs['v'], \n",
    "                                   edges_gdfs[['length']])"
   ]
  },
  {
   "cell_type": "code",
   "execution_count": 190,
   "id": "3d29738a",
   "metadata": {},
   "outputs": [
    {
     "data": {
      "text/plain": [
       "category\n",
       "employment    0.0002\n",
       "education     0.0002\n",
       "shopping      0.0002\n",
       "errands       0.0002\n",
       "recreation    0.0002\n",
       "Name: distance_constant, dtype: float64"
      ]
     },
     "execution_count": 190,
     "metadata": {},
     "output_type": "execute_result"
    }
   ],
   "source": [
    "cycle_gammas = poi_gammas.copy()\n",
    "cycle_gammas = cycle_gammas.replace(to_replace=0.001, value=0.0002)\n",
    "cycle_gammas"
   ]
  },
  {
   "cell_type": "code",
   "execution_count": 392,
   "id": "8bba7314",
   "metadata": {},
   "outputs": [
    {
     "data": {
      "text/plain": [
       "511251.0"
      ]
     },
     "execution_count": 392,
     "metadata": {},
     "output_type": "execute_result"
    }
   ],
   "source": [
    "sum(pois[pois['category']=='employment'].jobs)"
   ]
  },
  {
   "cell_type": "code",
   "execution_count": 395,
   "id": "cb1c66f4",
   "metadata": {},
   "outputs": [
    {
     "data": {
      "text/plain": [
       "58043.0"
      ]
     },
     "execution_count": 395,
     "metadata": {},
     "output_type": "execute_result"
    }
   ],
   "source": [
    "max(small_c_results.jobs)"
   ]
  },
  {
   "cell_type": "markdown",
   "id": "17ecb7ec",
   "metadata": {},
   "source": [
    "### Pandana network querying. "
   ]
  },
  {
   "cell_type": "code",
   "execution_count": 296,
   "id": "fa68719a",
   "metadata": {},
   "outputs": [
    {
     "name": "stderr",
     "output_type": "stream",
     "text": [
      "C:\\Users\\z3258367\\Anaconda3\\envs\\ox\\lib\\site-packages\\pandana\\network.py:660: FutureWarning: The default dtype for empty Series will be 'object' instead of 'float64' in a future version. Specify a dtype explicitly to silence this warning.\n",
      "  elif isinstance(maxitems, type(pd.Series())):\n",
      "C:\\Users\\z3258367\\Anaconda3\\envs\\ox\\lib\\site-packages\\pandana\\network.py:668: FutureWarning: The default dtype for empty Series will be 'object' instead of 'float64' in a future version. Specify a dtype explicitly to silence this warning.\n",
      "  elif isinstance(maxdist, type(pd.Series())):\n"
     ]
    },
    {
     "name": "stdout",
     "output_type": "stream",
     "text": [
      "Finished category: employment\n",
      "Maximum score: 19.67908601112223 out of 31.9\n"
     ]
    },
    {
     "name": "stderr",
     "output_type": "stream",
     "text": [
      "C:\\Users\\z3258367\\Anaconda3\\envs\\ox\\lib\\site-packages\\pandana\\network.py:660: FutureWarning: The default dtype for empty Series will be 'object' instead of 'float64' in a future version. Specify a dtype explicitly to silence this warning.\n",
      "  elif isinstance(maxitems, type(pd.Series())):\n",
      "C:\\Users\\z3258367\\Anaconda3\\envs\\ox\\lib\\site-packages\\pandana\\network.py:668: FutureWarning: The default dtype for empty Series will be 'object' instead of 'float64' in a future version. Specify a dtype explicitly to silence this warning.\n",
      "  elif isinstance(maxdist, type(pd.Series())):\n"
     ]
    },
    {
     "name": "stdout",
     "output_type": "stream",
     "text": [
      "Finished category: education\n",
      "Maximum score: 13.697803281833789 out of 14.3\n"
     ]
    },
    {
     "name": "stderr",
     "output_type": "stream",
     "text": [
      "C:\\Users\\z3258367\\Anaconda3\\envs\\ox\\lib\\site-packages\\pandana\\network.py:660: FutureWarning: The default dtype for empty Series will be 'object' instead of 'float64' in a future version. Specify a dtype explicitly to silence this warning.\n",
      "  elif isinstance(maxitems, type(pd.Series())):\n",
      "C:\\Users\\z3258367\\Anaconda3\\envs\\ox\\lib\\site-packages\\pandana\\network.py:668: FutureWarning: The default dtype for empty Series will be 'object' instead of 'float64' in a future version. Specify a dtype explicitly to silence this warning.\n",
      "  elif isinstance(maxdist, type(pd.Series())):\n"
     ]
    },
    {
     "name": "stdout",
     "output_type": "stream",
     "text": [
      "Finished category: shopping\n",
      "Maximum score: 21.48620417302876 out of 21.6\n"
     ]
    },
    {
     "name": "stderr",
     "output_type": "stream",
     "text": [
      "C:\\Users\\z3258367\\Anaconda3\\envs\\ox\\lib\\site-packages\\pandana\\network.py:660: FutureWarning: The default dtype for empty Series will be 'object' instead of 'float64' in a future version. Specify a dtype explicitly to silence this warning.\n",
      "  elif isinstance(maxitems, type(pd.Series())):\n",
      "C:\\Users\\z3258367\\Anaconda3\\envs\\ox\\lib\\site-packages\\pandana\\network.py:668: FutureWarning: The default dtype for empty Series will be 'object' instead of 'float64' in a future version. Specify a dtype explicitly to silence this warning.\n",
      "  elif isinstance(maxdist, type(pd.Series())):\n"
     ]
    },
    {
     "name": "stdout",
     "output_type": "stream",
     "text": [
      "Finished category: errands\n",
      "Maximum score: 8.853429088088712 out of 8.9\n"
     ]
    },
    {
     "name": "stderr",
     "output_type": "stream",
     "text": [
      "C:\\Users\\z3258367\\Anaconda3\\envs\\ox\\lib\\site-packages\\pandana\\network.py:660: FutureWarning: The default dtype for empty Series will be 'object' instead of 'float64' in a future version. Specify a dtype explicitly to silence this warning.\n",
      "  elif isinstance(maxitems, type(pd.Series())):\n",
      "C:\\Users\\z3258367\\Anaconda3\\envs\\ox\\lib\\site-packages\\pandana\\network.py:668: FutureWarning: The default dtype for empty Series will be 'object' instead of 'float64' in a future version. Specify a dtype explicitly to silence this warning.\n",
      "  elif isinstance(maxdist, type(pd.Series())):\n"
     ]
    },
    {
     "name": "stdout",
     "output_type": "stream",
     "text": [
      "Finished category: recreation\n",
      "Maximum score: 23.200015149850245 out of 23.3\n"
     ]
    }
   ],
   "source": [
    "cycle_results = walk_index_osmnx(cycle_network, pois, poi_dictionary, poi_weights, cycle_gammas,\n",
    "                            poi_nums, poi_lambdas, poi_variables, distance=maximum_dist)"
   ]
  },
  {
   "cell_type": "code",
   "execution_count": 297,
   "id": "8354462d",
   "metadata": {},
   "outputs": [
    {
     "data": {
      "text/plain": [
       "(74.3881564759088, 84.92335159776383)"
      ]
     },
     "execution_count": 297,
     "metadata": {},
     "output_type": "execute_result"
    }
   ],
   "source": [
    "max(results['Walk_Index']), max(cycle_results['Walk_Index'])"
   ]
  },
  {
   "cell_type": "code",
   "execution_count": 298,
   "id": "f64f045c",
   "metadata": {},
   "outputs": [
    {
     "data": {
      "text/plain": [
       "(40.695518372495044, 59.09586332339536)"
      ]
     },
     "execution_count": 298,
     "metadata": {},
     "output_type": "execute_result"
    }
   ],
   "source": [
    "np.mean(results['Walk_Index']), np.mean(cycle_results['Walk_Index'])"
   ]
  },
  {
   "cell_type": "markdown",
   "id": "8be8ac00",
   "metadata": {},
   "source": [
    "## Public Transport"
   ]
  },
  {
   "cell_type": "code",
   "execution_count": 24,
   "id": "e432c395",
   "metadata": {},
   "outputs": [],
   "source": [
    "import urbanaccess as ua\n",
    "from urbanaccess.config import settings\n",
    "from urbanaccess.gtfsfeeds import feeds\n",
    "from urbanaccess import gtfsfeeds\n",
    "from urbanaccess.gtfs.gtfsfeeds_dataframe import gtfsfeeds_dfs\n",
    "from urbanaccess.network import ua_network, load_network"
   ]
  },
  {
   "cell_type": "code",
   "execution_count": null,
   "id": "204fbf43",
   "metadata": {},
   "outputs": [],
   "source": [
    "feeds.add_feed(add_dict={'TfNSW': 'https://opendata.transport.nsw.gov.au/dataset/timetables-complete-gtfs/resource/67974f14-01bf-47b7-bfa5-c7f2f8a950ca'})"
   ]
  },
  {
   "cell_type": "code",
   "execution_count": null,
   "id": "7a35a4fe",
   "metadata": {},
   "outputs": [],
   "source": []
  },
  {
   "cell_type": "code",
   "execution_count": null,
   "id": "f01696d5",
   "metadata": {},
   "outputs": [],
   "source": []
  },
  {
   "cell_type": "code",
   "execution_count": null,
   "id": "98a8b8b2",
   "metadata": {},
   "outputs": [],
   "source": []
  },
  {
   "cell_type": "markdown",
   "id": "0f4526c7",
   "metadata": {},
   "source": [
    "## Export results"
   ]
  },
  {
   "cell_type": "markdown",
   "id": "1c20c8d1",
   "metadata": {},
   "source": [
    "Reduce the number of decimal places before export, distances do not need to be below 1m."
   ]
  },
  {
   "cell_type": "code",
   "execution_count": 238,
   "id": "e5a4560d",
   "metadata": {},
   "outputs": [],
   "source": [
    "def result_rounding(results):\n",
    "    # reduces results size for export\n",
    "    # score columns such as Walk_Index, employment_23 -> 3 decimal places\n",
    "    # distance columns such as employment1 -> 0 decimal places (nearest metre)\n",
    "    # avoid doing anything to connect_id, x or y\n",
    "    rounding_dict = {**{k:3 for k in results.columns if \"_\" in k\n",
    "                        and 'connect_id' not in k},\n",
    "                     **{k:0 for k in results.columns if \"_\" not in k\n",
    "                        and k != 'x'\n",
    "                        and k != 'y'}}\n",
    "    return results.round(rounding_dict)"
   ]
  },
  {
   "cell_type": "code",
   "execution_count": 278,
   "id": "4243d553",
   "metadata": {},
   "outputs": [],
   "source": [
    "small_results = gpd.GeoDataFrame(result_rounding(results), geometry = gpd.GeoSeries.from_xy(results.x, results.y, crs=proj_crs))"
   ]
  },
  {
   "cell_type": "code",
   "execution_count": 382,
   "id": "a0dfdda1",
   "metadata": {},
   "outputs": [],
   "source": [
    "small_c_results = gpd.GeoDataFrame(result_rounding(cycle_results), geometry = gpd.GeoSeries.from_xy(cycle_results.x, cycle_results.y, crs=proj_crs))"
   ]
  },
  {
   "cell_type": "code",
   "execution_count": 279,
   "id": "d812a5c8",
   "metadata": {},
   "outputs": [
    {
     "name": "stderr",
     "output_type": "stream",
     "text": [
      "C:\\Users\\z3258367\\Anaconda3\\envs\\ox\\lib\\site-packages\\geopandas\\io\\file.py:389: DeprecationWarning: distutils Version classes are deprecated. Use packaging.version instead.\n",
      "  if LooseVersion(gdal_version) >= LooseVersion(\"3.0.0\") and crs:\n"
     ]
    }
   ],
   "source": [
    "small_results.to_file((folder +\n",
    "                         \"Walkability\\\\Other Cities\\\\Colouring data & results\\\\Edinburgh Data\\\\\" + \n",
    "                         \"Edinburgh_walk_080622.gpkg\"))"
   ]
  },
  {
   "cell_type": "code",
   "execution_count": 397,
   "id": "5b987345",
   "metadata": {},
   "outputs": [
    {
     "name": "stderr",
     "output_type": "stream",
     "text": [
      "C:\\Users\\z3258367\\Anaconda3\\envs\\ox\\lib\\site-packages\\geopandas\\io\\file.py:389: DeprecationWarning: distutils Version classes are deprecated. Use packaging.version instead.\n",
      "  if LooseVersion(gdal_version) >= LooseVersion(\"3.0.0\") and crs:\n"
     ]
    }
   ],
   "source": [
    "small_c_results.to_file((folder +\n",
    "                         \"Walkability\\\\Other Cities\\\\Colouring data & results\\\\Edinburgh Data\\\\\" + \n",
    "                         \"Edinburgh_cycle_080622.gpkg\"))"
   ]
  },
  {
   "cell_type": "markdown",
   "id": "69511288",
   "metadata": {},
   "source": [
    "### Import population for population weighted results"
   ]
  },
  {
   "cell_type": "code",
   "execution_count": 7,
   "id": "75a7a88d",
   "metadata": {},
   "outputs": [],
   "source": [
    "population = pd.read_csv((folder + \n",
    "                        \"Walkability\\\\Other Cities\\\\Colouring data & results\\\\Edinburgh Data\\\\KS101SC - Usual resident population.csv\"),\n",
    "                            index_col=0)"
   ]
  },
  {
   "cell_type": "markdown",
   "id": "61b97674",
   "metadata": {},
   "source": [
    "Join to Output Areas by name. Used population weighted centroids available from Government. Join to the closest result point. Get average, distribution and export these centroids for further visualisation."
   ]
  },
  {
   "cell_type": "code",
   "execution_count": 8,
   "id": "ac16885a",
   "metadata": {},
   "outputs": [],
   "source": [
    "output_areas = gpd.read_file(folder +\n",
    "                             \"Walkability\\\\Other Cities\\\\Colouring data & results\\\\Edinburgh Data\\\\OutputArea2011_PWC.shp\")"
   ]
  },
  {
   "cell_type": "code",
   "execution_count": 9,
   "id": "dc806e8b",
   "metadata": {},
   "outputs": [],
   "source": [
    "output_areas = output_areas.join(population, on='code')"
   ]
  },
  {
   "cell_type": "code",
   "execution_count": 10,
   "id": "d15ab52d",
   "metadata": {},
   "outputs": [],
   "source": [
    "output_areas = output_areas.to_crs(proj_crs)"
   ]
  },
  {
   "cell_type": "code",
   "execution_count": null,
   "id": "aec69a6a",
   "metadata": {},
   "outputs": [],
   "source": [
    "output_areas = output_areas.sjoin_nearest(small_results, how='left')"
   ]
  },
  {
   "cell_type": "code",
   "execution_count": 11,
   "id": "f58be77a",
   "metadata": {},
   "outputs": [],
   "source": [
    "output_areas['All people'] = output_areas['All people'].str.replace(',','').astype(int)"
   ]
  },
  {
   "cell_type": "code",
   "execution_count": 12,
   "id": "ece0c7e8",
   "metadata": {},
   "outputs": [],
   "source": [
    "output_areas = output_areas.clip(Edinburgh)"
   ]
  },
  {
   "cell_type": "code",
   "execution_count": 13,
   "id": "b75ced23",
   "metadata": {},
   "outputs": [
    {
     "data": {
      "text/plain": [
       "476626"
      ]
     },
     "execution_count": 13,
     "metadata": {},
     "output_type": "execute_result"
    }
   ],
   "source": [
    "sum(output_areas['All people'])"
   ]
  },
  {
   "cell_type": "code",
   "execution_count": 17,
   "id": "fd1c6727",
   "metadata": {},
   "outputs": [],
   "source": [
    "output_areas['Area (hectares)'] = output_areas['Area (hectares)'].str.replace(',','').astype(int)"
   ]
  },
  {
   "cell_type": "code",
   "execution_count": 18,
   "id": "33beebe3",
   "metadata": {},
   "outputs": [
    {
     "data": {
      "text/plain": [
       "26224"
      ]
     },
     "execution_count": 18,
     "metadata": {},
     "output_type": "execute_result"
    }
   ],
   "source": [
    "sum(output_areas['Area (hectares)'])"
   ]
  },
  {
   "cell_type": "code",
   "execution_count": 386,
   "id": "7b491b8f",
   "metadata": {},
   "outputs": [],
   "source": [
    "output_areas = output_areas.sjoin_nearest(small_c_results, how='left',rsuffix='cycle')"
   ]
  },
  {
   "cell_type": "code",
   "execution_count": 373,
   "id": "f2066eac",
   "metadata": {},
   "outputs": [
    {
     "data": {
      "text/plain": [
       "45.163463508075424"
      ]
     },
     "execution_count": 373,
     "metadata": {},
     "output_type": "execute_result"
    }
   ],
   "source": [
    "sum(output_areas['All people']*output_areas['Walk_Index'])/sum(output_areas['All people'])"
   ]
  },
  {
   "cell_type": "code",
   "execution_count": 387,
   "id": "c328636d",
   "metadata": {},
   "outputs": [
    {
     "data": {
      "text/plain": [
       "64.09870552172983"
      ]
     },
     "execution_count": 387,
     "metadata": {},
     "output_type": "execute_result"
    }
   ],
   "source": [
    "sum(output_areas['All people']*output_areas['Walk_Index_cycle'])/sum(output_areas['All people'])"
   ]
  },
  {
   "cell_type": "code",
   "execution_count": 420,
   "id": "56ce7500",
   "metadata": {},
   "outputs": [
    {
     "data": {
      "text/plain": [
       "Text(0.5, 0.98, 'Edinburgh: distribution of results by residential population')"
      ]
     },
     "execution_count": 420,
     "metadata": {},
     "output_type": "execute_result"
    },
    {
     "data": {
      "image/png": "[encoded data removed]",
      "text/plain": [
       "<Figure size 432x288 with 2 Axes>"
      ]
     },
     "metadata": {
      "needs_background": "light"
     },
     "output_type": "display_data"
    }
   ],
   "source": [
    "fig, [ax1, ax2] = plt.subplots(nrows=1, ncols=2, sharey=True)\n",
    "ax1.hist(output_areas['Walk_Index_left'], weights = output_areas['All people'], label='WalkTHERE')\n",
    "ax1.set_xlabel('WalkTHERE')\n",
    "ax1.set_ylabel('Residents')\n",
    "ax2.hist(output_areas['Walk_Index_cycle'], weights = output_areas['All people'])\n",
    "ax2.set_xlabel('CycleTHERE')\n",
    "fig.suptitle('Edinburgh: distribution of results by residential population')"
   ]
  },
  {
   "cell_type": "code",
   "execution_count": 396,
   "id": "7510a974",
   "metadata": {},
   "outputs": [
    {
     "name": "stderr",
     "output_type": "stream",
     "text": [
      "C:\\Users\\z3258367\\Anaconda3\\envs\\ox\\lib\\site-packages\\geopandas\\io\\file.py:362: FutureWarning: pandas.Int64Index is deprecated and will be removed from pandas in a future version. Use pandas.Index with the appropriate dtype instead.\n",
      "  pd.Int64Index,\n",
      "C:\\Users\\z3258367\\Anaconda3\\envs\\ox\\lib\\site-packages\\geopandas\\io\\file.py:389: DeprecationWarning: distutils Version classes are deprecated. Use packaging.version instead.\n",
      "  if LooseVersion(gdal_version) >= LooseVersion(\"3.0.0\") and crs:\n"
     ]
    }
   ],
   "source": [
    "output_areas.to_file((folder +\n",
    "                         \"Walkability\\\\Other Cities\\\\Colouring data & results\\\\Edinburgh Data\\\\\" + \n",
    "                         \"Edinburgh_pwc_results_100622.gpkg\"))"
   ]
  }
 ],
 "metadata": {
  "kernelspec": {
   "display_name": "Python 3",
   "language": "python",
   "name": "python3"
  },
  "language_info": {
   "codemirror_mode": {
    "name": "ipython",
    "version": 3
   },
   "file_extension": ".py",
   "mimetype": "text/x-python",
   "name": "python",
   "nbconvert_exporter": "python",
   "pygments_lexer": "ipython3",
   "version": "3.8.13"
  }
 },
 "nbformat": 4,
 "nbformat_minor": 5
}
