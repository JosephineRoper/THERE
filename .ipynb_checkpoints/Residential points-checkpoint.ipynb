{
 "cells": [
  {
   "cell_type": "markdown",
   "id": "320fdf89",
   "metadata": {},
   "source": [
    "This is all unnecessary and didn't end up using it. "
   ]
  },
  {
   "cell_type": "code",
   "execution_count": 1,
   "id": "cb31c02e",
   "metadata": {},
   "outputs": [],
   "source": [
    "import pandas as pd\n",
    "import geopandas as gpd"
   ]
  },
  {
   "cell_type": "code",
   "execution_count": 3,
   "id": "7060515e",
   "metadata": {},
   "outputs": [],
   "source": [
    "folder = \"C:\\\\Users\\\\z3258367\\\\OneDrive - UNSW\\\\#PhD\\\\\"\n",
    "meshblocks = pd.read_csv(''.join(folder + \"Data\\\\ABS Data\\\\2016_NSW_MBs\\\\2016 census mesh block counts.csv\"))\n",
    "#DZNs = pd.read_csv(''.join(folder + \"Melbourne Data\\\\2016 Victoria DZN employment.csv\"), dtype='int64')\n",
    "mb_shapes = gpd.read_file(''.join(folder + \"Data\\\\ABS Data\\\\2016_NSW_MBs\\\\MB_2016_NSW.shp\"))"
   ]
  },
  {
   "cell_type": "code",
   "execution_count": 7,
   "id": "37bdfa2d",
   "metadata": {},
   "outputs": [
    {
     "data": {
      "text/html": [
       "<div>\n",
       "<style scoped>\n",
       "    .dataframe tbody tr th:only-of-type {\n",
       "        vertical-align: middle;\n",
       "    }\n",
       "\n",
       "    .dataframe tbody tr th {\n",
       "        vertical-align: top;\n",
       "    }\n",
       "\n",
       "    .dataframe thead th {\n",
       "        text-align: right;\n",
       "    }\n",
       "</style>\n",
       "<table border=\"1\" class=\"dataframe\">\n",
       "  <thead>\n",
       "    <tr style=\"text-align: right;\">\n",
       "      <th></th>\n",
       "      <th>count</th>\n",
       "      <th>mean</th>\n",
       "      <th>std</th>\n",
       "      <th>min</th>\n",
       "      <th>25%</th>\n",
       "      <th>50%</th>\n",
       "      <th>75%</th>\n",
       "      <th>max</th>\n",
       "    </tr>\n",
       "    <tr>\n",
       "      <th>MB_CATEGORY_NAME_2016</th>\n",
       "      <th></th>\n",
       "      <th></th>\n",
       "      <th></th>\n",
       "      <th></th>\n",
       "      <th></th>\n",
       "      <th></th>\n",
       "      <th></th>\n",
       "      <th></th>\n",
       "    </tr>\n",
       "  </thead>\n",
       "  <tbody>\n",
       "    <tr>\n",
       "      <th>ANTARCTICA</th>\n",
       "      <td>1.0</td>\n",
       "      <td>0.000000</td>\n",
       "      <td>NaN</td>\n",
       "      <td>0.0</td>\n",
       "      <td>0.0</td>\n",
       "      <td>0.0</td>\n",
       "      <td>0.0</td>\n",
       "      <td>0.0</td>\n",
       "    </tr>\n",
       "    <tr>\n",
       "      <th>Commercial</th>\n",
       "      <td>15430.0</td>\n",
       "      <td>13.993778</td>\n",
       "      <td>60.686012</td>\n",
       "      <td>0.0</td>\n",
       "      <td>0.0</td>\n",
       "      <td>3.0</td>\n",
       "      <td>11.0</td>\n",
       "      <td>3026.0</td>\n",
       "    </tr>\n",
       "    <tr>\n",
       "      <th>Education</th>\n",
       "      <td>8266.0</td>\n",
       "      <td>7.608396</td>\n",
       "      <td>72.219615</td>\n",
       "      <td>0.0</td>\n",
       "      <td>0.0</td>\n",
       "      <td>0.0</td>\n",
       "      <td>0.0</td>\n",
       "      <td>2883.0</td>\n",
       "    </tr>\n",
       "    <tr>\n",
       "      <th>Hospital/Medical</th>\n",
       "      <td>1178.0</td>\n",
       "      <td>46.271647</td>\n",
       "      <td>56.209820</td>\n",
       "      <td>0.0</td>\n",
       "      <td>4.0</td>\n",
       "      <td>24.0</td>\n",
       "      <td>74.0</td>\n",
       "      <td>468.0</td>\n",
       "    </tr>\n",
       "    <tr>\n",
       "      <th>Industrial</th>\n",
       "      <td>7724.0</td>\n",
       "      <td>3.631150</td>\n",
       "      <td>15.944396</td>\n",
       "      <td>0.0</td>\n",
       "      <td>0.0</td>\n",
       "      <td>0.0</td>\n",
       "      <td>3.0</td>\n",
       "      <td>520.0</td>\n",
       "    </tr>\n",
       "    <tr>\n",
       "      <th>MIGRATORY</th>\n",
       "      <td>11.0</td>\n",
       "      <td>0.454545</td>\n",
       "      <td>1.507557</td>\n",
       "      <td>0.0</td>\n",
       "      <td>0.0</td>\n",
       "      <td>0.0</td>\n",
       "      <td>0.0</td>\n",
       "      <td>5.0</td>\n",
       "    </tr>\n",
       "    <tr>\n",
       "      <th>NOUSUALRESIDENCE</th>\n",
       "      <td>9.0</td>\n",
       "      <td>5018.888889</td>\n",
       "      <td>4859.779585</td>\n",
       "      <td>55.0</td>\n",
       "      <td>912.0</td>\n",
       "      <td>2863.0</td>\n",
       "      <td>7565.0</td>\n",
       "      <td>12510.0</td>\n",
       "    </tr>\n",
       "    <tr>\n",
       "      <th>OFFSHORE</th>\n",
       "      <td>9.0</td>\n",
       "      <td>40.888889</td>\n",
       "      <td>108.627166</td>\n",
       "      <td>0.0</td>\n",
       "      <td>0.0</td>\n",
       "      <td>4.0</td>\n",
       "      <td>8.0</td>\n",
       "      <td>330.0</td>\n",
       "    </tr>\n",
       "    <tr>\n",
       "      <th>Other</th>\n",
       "      <td>6223.0</td>\n",
       "      <td>62.387112</td>\n",
       "      <td>54.094424</td>\n",
       "      <td>0.0</td>\n",
       "      <td>17.0</td>\n",
       "      <td>54.0</td>\n",
       "      <td>96.0</td>\n",
       "      <td>986.0</td>\n",
       "    </tr>\n",
       "    <tr>\n",
       "      <th>Parkland</th>\n",
       "      <td>61881.0</td>\n",
       "      <td>0.784215</td>\n",
       "      <td>12.701363</td>\n",
       "      <td>0.0</td>\n",
       "      <td>0.0</td>\n",
       "      <td>0.0</td>\n",
       "      <td>0.0</td>\n",
       "      <td>1963.0</td>\n",
       "    </tr>\n",
       "    <tr>\n",
       "      <th>Primary Production</th>\n",
       "      <td>19471.0</td>\n",
       "      <td>57.172462</td>\n",
       "      <td>56.656318</td>\n",
       "      <td>0.0</td>\n",
       "      <td>20.0</td>\n",
       "      <td>47.0</td>\n",
       "      <td>83.0</td>\n",
       "      <td>3106.0</td>\n",
       "    </tr>\n",
       "    <tr>\n",
       "      <th>Residential</th>\n",
       "      <td>231783.0</td>\n",
       "      <td>92.493992</td>\n",
       "      <td>54.211373</td>\n",
       "      <td>0.0</td>\n",
       "      <td>62.0</td>\n",
       "      <td>88.0</td>\n",
       "      <td>116.0</td>\n",
       "      <td>4367.0</td>\n",
       "    </tr>\n",
       "    <tr>\n",
       "      <th>SHIPPING</th>\n",
       "      <td>83.0</td>\n",
       "      <td>9.771084</td>\n",
       "      <td>46.801690</td>\n",
       "      <td>0.0</td>\n",
       "      <td>0.0</td>\n",
       "      <td>0.0</td>\n",
       "      <td>4.0</td>\n",
       "      <td>407.0</td>\n",
       "    </tr>\n",
       "    <tr>\n",
       "      <th>Transport</th>\n",
       "      <td>1639.0</td>\n",
       "      <td>0.791946</td>\n",
       "      <td>8.785882</td>\n",
       "      <td>0.0</td>\n",
       "      <td>0.0</td>\n",
       "      <td>0.0</td>\n",
       "      <td>0.0</td>\n",
       "      <td>270.0</td>\n",
       "    </tr>\n",
       "    <tr>\n",
       "      <th>Water</th>\n",
       "      <td>4414.0</td>\n",
       "      <td>0.105573</td>\n",
       "      <td>2.203288</td>\n",
       "      <td>0.0</td>\n",
       "      <td>0.0</td>\n",
       "      <td>0.0</td>\n",
       "      <td>0.0</td>\n",
       "      <td>126.0</td>\n",
       "    </tr>\n",
       "  </tbody>\n",
       "</table>\n",
       "</div>"
      ],
      "text/plain": [
       "                          count         mean          std   min    25%  \\\n",
       "MB_CATEGORY_NAME_2016                                                    \n",
       "ANTARCTICA                  1.0     0.000000          NaN   0.0    0.0   \n",
       "Commercial              15430.0    13.993778    60.686012   0.0    0.0   \n",
       "Education                8266.0     7.608396    72.219615   0.0    0.0   \n",
       "Hospital/Medical         1178.0    46.271647    56.209820   0.0    4.0   \n",
       "Industrial               7724.0     3.631150    15.944396   0.0    0.0   \n",
       "MIGRATORY                  11.0     0.454545     1.507557   0.0    0.0   \n",
       "NOUSUALRESIDENCE            9.0  5018.888889  4859.779585  55.0  912.0   \n",
       "OFFSHORE                    9.0    40.888889   108.627166   0.0    0.0   \n",
       "Other                    6223.0    62.387112    54.094424   0.0   17.0   \n",
       "Parkland                61881.0     0.784215    12.701363   0.0    0.0   \n",
       "Primary Production      19471.0    57.172462    56.656318   0.0   20.0   \n",
       "Residential            231783.0    92.493992    54.211373   0.0   62.0   \n",
       "SHIPPING                   83.0     9.771084    46.801690   0.0    0.0   \n",
       "Transport                1639.0     0.791946     8.785882   0.0    0.0   \n",
       "Water                    4414.0     0.105573     2.203288   0.0    0.0   \n",
       "\n",
       "                          50%     75%      max  \n",
       "MB_CATEGORY_NAME_2016                           \n",
       "ANTARCTICA                0.0     0.0      0.0  \n",
       "Commercial                3.0    11.0   3026.0  \n",
       "Education                 0.0     0.0   2883.0  \n",
       "Hospital/Medical         24.0    74.0    468.0  \n",
       "Industrial                0.0     3.0    520.0  \n",
       "MIGRATORY                 0.0     0.0      5.0  \n",
       "NOUSUALRESIDENCE       2863.0  7565.0  12510.0  \n",
       "OFFSHORE                  4.0     8.0    330.0  \n",
       "Other                    54.0    96.0    986.0  \n",
       "Parkland                  0.0     0.0   1963.0  \n",
       "Primary Production       47.0    83.0   3106.0  \n",
       "Residential              88.0   116.0   4367.0  \n",
       "SHIPPING                  0.0     4.0    407.0  \n",
       "Transport                 0.0     0.0    270.0  \n",
       "Water                     0.0     0.0    126.0  "
      ]
     },
     "execution_count": 7,
     "metadata": {},
     "output_type": "execute_result"
    }
   ],
   "source": [
    "meshblocks.groupby('MB_CATEGORY_NAME_2016')['Person'].describe()"
   ]
  },
  {
   "cell_type": "markdown",
   "id": "587a682d",
   "metadata": {},
   "source": [
    "Using all meshblocks with population."
   ]
  },
  {
   "cell_type": "code",
   "execution_count": 141,
   "id": "3f7421f0",
   "metadata": {},
   "outputs": [],
   "source": [
    "employ_mbs = meshblocks[meshblocks['MB_CATEGORY_NAME_2016'].isin(\n",
    "    ['Commercial','Primary Production','Hospital/Medical','Education','Other','Industrial'])]"
   ]
  },
  {
   "cell_type": "markdown",
   "id": "6a1a5c0f",
   "metadata": {},
   "source": [
    "Next sum the meshblock areas by DZN code. Ie, the output is a list of DZNs along with summed areas for each of them, of the area of the employment meshbocks within. This is then joined to the DZN Place of Work numbers data."
   ]
  },
  {
   "cell_type": "code",
   "execution_count": 120,
   "id": "a4711d8b",
   "metadata": {},
   "outputs": [],
   "source": [
    "employ_areas = pd.DataFrame(employ_mbs.groupby('DZN_CODE_2016')['AREA_ALBERS_SQKM'].sum())"
   ]
  },
  {
   "cell_type": "code",
   "execution_count": 121,
   "id": "e69a6e83",
   "metadata": {},
   "outputs": [],
   "source": [
    "DZN_areas = DZNs.join(employ_areas, on='DZN (POW)', how='left')"
   ]
  },
  {
   "cell_type": "markdown",
   "id": "24045f4e",
   "metadata": {},
   "source": [
    "This is the portion of jobs we lose with this method - jobs that are in DZNs that are made of entirely excluded meshblocks (residential, transport, parkland, water). For states I have done so far it's under 5% so considered it acceptable. One potential improvement would be to manually change some meshblock categories, for example an airport from 'transport' to 'industrial'. (Most transport meshblocks are just road or rail corridors so are better excluded)."
   ]
  },
  {
   "cell_type": "code",
   "execution_count": 122,
   "id": "2c6d29ed",
   "metadata": {},
   "outputs": [
    {
     "data": {
      "text/plain": [
       "0.03846591307284983"
      ]
     },
     "execution_count": 122,
     "metadata": {},
     "output_type": "execute_result"
    }
   ],
   "source": [
    "DZN_areas[(DZN_areas['Number']>0) & (DZN_areas['AREA_ALBERS_SQKM'].isna())]['Number'].sum()/DZN_areas['Number'].sum()"
   ]
  },
  {
   "cell_type": "markdown",
   "id": "c7d3a69c",
   "metadata": {},
   "source": [
    "The DZN 'Job Density' is the number of people who report that DZN as their place of work, divided by the area of employment meshblocks within. This density is then used to calculate the job number for each of those meshblocks."
   ]
  },
  {
   "cell_type": "code",
   "execution_count": 123,
   "id": "f4c0c4ec",
   "metadata": {},
   "outputs": [],
   "source": [
    "DZN_areas['JobDensity'] = DZN_areas['Number']/DZN_areas['AREA_ALBERS_SQKM']\n",
    "\n",
    "employ_mbs = employ_mbs.join(DZN_areas.set_index('DZN (POW)'), on='DZN_CODE_2016', how='inner', rsuffix='_DZN')\n",
    "\n",
    "employ_mbs['Jobs'] = employ_mbs['JobDensity']*employ_mbs['AREA_ALBERS_SQKM']"
   ]
  },
  {
   "cell_type": "markdown",
   "id": "1006f8b4",
   "metadata": {},
   "source": [
    "The employment figures are attached to the meshblock shapefiles, and centroids are also output, as currently I am using the centroids as the points for walkability calculations."
   ]
  },
  {
   "cell_type": "code",
   "execution_count": 133,
   "id": "bea4efd7",
   "metadata": {},
   "outputs": [],
   "source": [
    "mb_shapes['MB_CODE16'] = mb_shapes['MB_CODE16'].astype('int64')\n",
    "employ_mbs['MB_CODE_2016'] = employ_mbs['MB_CODE_2016'].astype('int64')\n",
    "\n",
    "employ_shapes = mb_shapes.join(employ_mbs.set_index('MB_CODE_2016')[['DZN_CODE_2016','Jobs']], how='right', on='MB_CODE16')"
   ]
  },
  {
   "cell_type": "code",
   "execution_count": 138,
   "id": "ac8e181b",
   "metadata": {},
   "outputs": [],
   "source": [
    "employ_shapes.to_file(''.join(folder + \"Melbourne Data\\\\Vic_Employment_meshblocks.gpkg\"), layer='meshblocks')\n",
    "\n",
    "centroids = employ_shapes.copy()\n",
    "centroids.geometry = (centroids.geometry\n",
    "                         .to_crs('EPSG:7856')\n",
    "                         .centroid)\n",
    "centroids.to_file(''.join(folder + \"Melbourne Data\\\\Vic_Employment_meshblocks.gpkg\"), layer='centroids')"
   ]
  }
 ],
 "metadata": {
  "kernelspec": {
   "display_name": "Python 3",
   "language": "python",
   "name": "python3"
  },
  "language_info": {
   "codemirror_mode": {
    "name": "ipython",
    "version": 3
   },
   "file_extension": ".py",
   "mimetype": "text/x-python",
   "name": "python",
   "nbconvert_exporter": "python",
   "pygments_lexer": "ipython3",
   "version": "3.8.12"
  }
 },
 "nbformat": 4,
 "nbformat_minor": 5
}
