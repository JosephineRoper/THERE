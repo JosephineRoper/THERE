{
 "cells": [
  {
   "cell_type": "code",
   "execution_count": 13,
   "id": "cb31c02e",
   "metadata": {},
   "outputs": [],
   "source": [
    "import pandas as pd\n",
    "import geopandas as gpd\n",
    "import numpy as np"
   ]
  },
  {
   "cell_type": "code",
   "execution_count": 2,
   "id": "7060515e",
   "metadata": {},
   "outputs": [],
   "source": [
    "folder = \"C:\\\\Users\\\\z3258367\\\\OneDrive - UNSW\\\\#PhD\\\\Walkability\\\\Other Cities\\\\Colouring data & results\\\\\"\n",
    "meshblocks = pd.read_csv(''.join(folder + \"Shared Aus Data\\\\MB_DZN_SA2_2016_AUST.csv\"))\n",
    "DZNs = pd.read_csv(''.join(folder + \"Canberra Data\\\\2016 ACT DZN employment.csv\"), dtype='int64')\n",
    "mb_shapes = gpd.read_file(''.join(folder + \"Canberra Data\\\\2016_ACT_MBs\\\\MB_2016_ACT.shp\"))"
   ]
  },
  {
   "cell_type": "markdown",
   "id": "587a682d",
   "metadata": {},
   "source": [
    "Select only employment-generating meshblocks. 'Other' is typically a designation for meshblocks with a mixture of land uses. Usually these are larger semi-rural meshblocks that will not be significant for walkability results either way. We thought it more accurate to include these meshblocks."
   ]
  },
  {
   "cell_type": "code",
   "execution_count": 6,
   "id": "3f7421f0",
   "metadata": {},
   "outputs": [],
   "source": [
    "employ_mbs = meshblocks[meshblocks['MB_CATEGORY_NAME_2016'].isin(\n",
    "    ['Commercial','Primary Production','Hospital/Medical','Education','Other','Industrial'])]"
   ]
  },
  {
   "cell_type": "markdown",
   "id": "6a1a5c0f",
   "metadata": {},
   "source": [
    "Next sum the meshblock areas by DZN code. Ie, the output is a list of DZNs along with summed areas for each of them, of the area of the employment meshbocks within. This is then joined to the DZN Place of Work numbers data."
   ]
  },
  {
   "cell_type": "code",
   "execution_count": 7,
   "id": "a4711d8b",
   "metadata": {},
   "outputs": [],
   "source": [
    "employ_areas = pd.DataFrame(employ_mbs.groupby('DZN_CODE_2016')['AREA_ALBERS_SQKM'].sum())"
   ]
  },
  {
   "cell_type": "code",
   "execution_count": 8,
   "id": "e69a6e83",
   "metadata": {},
   "outputs": [],
   "source": [
    "DZN_areas = DZNs.join(employ_areas, on='DZN (POW)', how='left')"
   ]
  },
  {
   "cell_type": "markdown",
   "id": "24045f4e",
   "metadata": {},
   "source": [
    "This is the portion of jobs we lose with this method - jobs that are in DZNs that are made of entirely excluded meshblocks (residential, transport, parkland, water). For states I have done so far it's under 5% so considered it acceptable. One potential improvement would be to manually change some meshblock categories, for example an airport from 'transport' to 'industrial'. (Most transport meshblocks are just road or rail corridors so are better excluded)."
   ]
  },
  {
   "cell_type": "code",
   "execution_count": 10,
   "id": "2c6d29ed",
   "metadata": {},
   "outputs": [
    {
     "data": {
      "text/plain": [
       "0.023442599173254045"
      ]
     },
     "execution_count": 10,
     "metadata": {},
     "output_type": "execute_result"
    }
   ],
   "source": [
    "# sometimes 'Count', sometimes 'Number'\n",
    "DZN_areas[(DZN_areas['Count']>0) & (DZN_areas['AREA_ALBERS_SQKM'].isna())]['Count'].sum()/DZN_areas['Count'].sum()"
   ]
  },
  {
   "cell_type": "markdown",
   "id": "c7d3a69c",
   "metadata": {},
   "source": [
    "The DZN 'Job Density' is the number of people who report that DZN as their place of work, divided by the area of employment meshblocks within. This density is then used to calculate the job number for each of those meshblocks."
   ]
  },
  {
   "cell_type": "code",
   "execution_count": 12,
   "id": "f4c0c4ec",
   "metadata": {},
   "outputs": [],
   "source": [
    "DZN_areas['JobDensity'] = DZN_areas['Count']/DZN_areas['AREA_ALBERS_SQKM']\n",
    "\n",
    "employ_mbs = employ_mbs.join(DZN_areas.set_index('DZN (POW)'), on='DZN_CODE_2016', how='inner', rsuffix='_DZN')\n",
    "\n",
    "employ_mbs['Jobs'] = employ_mbs['JobDensity']*employ_mbs['AREA_ALBERS_SQKM']"
   ]
  },
  {
   "cell_type": "markdown",
   "id": "1006f8b4",
   "metadata": {},
   "source": [
    "The employment figures are attached to the meshblock shapefiles, and centroids are also output, as currently I am using the centroids as the points for walkability calculations."
   ]
  },
  {
   "cell_type": "code",
   "execution_count": 13,
   "id": "bea4efd7",
   "metadata": {},
   "outputs": [],
   "source": [
    "mb_shapes['MB_CODE16'] = mb_shapes['MB_CODE16'].astype('int64')\n",
    "employ_mbs['MB_CODE_2016'] = employ_mbs['MB_CODE_2016'].astype('int64')\n",
    "\n",
    "employ_shapes = mb_shapes.join(employ_mbs.set_index('MB_CODE_2016')[['DZN_CODE_2016','Jobs']], how='right', on='MB_CODE16')"
   ]
  },
  {
   "cell_type": "code",
   "execution_count": 14,
   "id": "ac8e181b",
   "metadata": {},
   "outputs": [
    {
     "name": "stderr",
     "output_type": "stream",
     "text": [
      "C:\\Users\\z3258367\\Anaconda3\\envs\\ox\\lib\\site-packages\\geopandas\\io\\file.py:362: FutureWarning: pandas.Int64Index is deprecated and will be removed from pandas in a future version. Use pandas.Index with the appropriate dtype instead.\n",
      "  pd.Int64Index,\n",
      "C:\\Users\\z3258367\\Anaconda3\\envs\\ox\\lib\\site-packages\\geopandas\\io\\file.py:362: FutureWarning: pandas.Int64Index is deprecated and will be removed from pandas in a future version. Use pandas.Index with the appropriate dtype instead.\n",
      "  pd.Int64Index,\n"
     ]
    }
   ],
   "source": [
    "employ_shapes.to_file(''.join(folder + \"Canberra Data\\\\ACT_Employment_meshblocks.gpkg\"), layer='meshblocks')\n",
    "\n",
    "centroids = employ_shapes.copy()\n",
    "centroids.geometry = (centroids.geometry\n",
    "                         .to_crs('EPSG:7856')\n",
    "                         .centroid)\n",
    "centroids.to_file(''.join(folder + \"Canberra Data\\\\ACT_Employment_meshblocks.gpkg\"), layer='centroids')"
   ]
  }
 ],
 "metadata": {
  "kernelspec": {
   "display_name": "Python 3",
   "language": "python",
   "name": "python3"
  },
  "language_info": {
   "codemirror_mode": {
    "name": "ipython",
    "version": 3
   },
   "file_extension": ".py",
   "mimetype": "text/x-python",
   "name": "python",
   "nbconvert_exporter": "python",
   "pygments_lexer": "ipython3",
   "version": "3.8.13"
  }
 },
 "nbformat": 4,
 "nbformat_minor": 5
}
