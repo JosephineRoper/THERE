{
 "cells": [
  {
   "cell_type": "code",
   "execution_count": 1,
   "id": "5427baeb",
   "metadata": {},
   "outputs": [],
   "source": [
    "%load_ext autoreload\n",
    "%autoreload 2"
   ]
  },
  {
   "cell_type": "code",
   "execution_count": 35,
   "id": "2c6e251a",
   "metadata": {},
   "outputs": [],
   "source": [
    "import numpy as np\n",
    "import pandana as pdna\n",
    "import geopandas as gpd\n",
    "import pandas as pd\n",
    "import math\n",
    "import networkx as nx\n",
    "import osmnx as ox\n",
    "import matplotlib.pyplot as plt\n",
    "import sys\n",
    "# adding functions \n",
    "sys.path.insert(0, 'C:\\\\Users\\\\z3258367\\\\OneDrive - UNSW\\\\#PhD\\\\Walkability\\\\Other Cities\\\\Open-Walk-Index')\n",
    "from walkability_functions import *"
   ]
  },
  {
   "cell_type": "markdown",
   "id": "0ee150b9",
   "metadata": {},
   "source": [
    "Choose a projected CRS to be used for all distance calculations."
   ]
  },
  {
   "cell_type": "code",
   "execution_count": 3,
   "id": "0dc18490",
   "metadata": {},
   "outputs": [],
   "source": [
    "proj_crs = \"EPSG:7856\"\n",
    "folder = \"C:\\\\Users\\\\z3258367\\\\OneDrive - UNSW\\\\#PhD\\\\\""
   ]
  },
  {
   "cell_type": "markdown",
   "id": "6dc208e1",
   "metadata": {},
   "source": [
    "## Import Data\n",
    "\n",
    "Data sources:\n",
    "1. Shape of Greater Sydney - used to clip points\n",
    "2. Points of interest from OSM - using Geofabriks shapefiles as the source\n",
    "3. Transport for NSW public transport stops\n",
    "4. Spatial Services NSW for additional POIs\n",
    "5. Employment data - processed from ABS originally"
   ]
  },
  {
   "cell_type": "code",
   "execution_count": 4,
   "id": "c4f527da",
   "metadata": {},
   "outputs": [],
   "source": [
    "Sydney = gpd.read_file((folder + \n",
    "    \"Walkability\\\\Other Cities\\\\Colouring data & results\\\\Sydney Data\\\\Data\\\\Greater_Sydney_Dissolve.shp\")\n",
    "    ).to_crs(proj_crs)"
   ]
  },
  {
   "cell_type": "code",
   "execution_count": 5,
   "id": "5b30448f",
   "metadata": {},
   "outputs": [],
   "source": [
    "osm_poi_points = gpd.read_file(''.join((folder, \n",
    "    \"Walkability\\\\Mavoa\\\\Pandana inputs\\\\Greater_Sydney_OSM_POIs_sp.shp\")))\n",
    "osm_poi_areas = gpd.read_file(folder + \n",
    "    \"Walkability\\\\Mavoa\\\\Pandana inputs\\\\Greater_Sydney_OSM_POIs_a_sp.gpkg\")\n",
    "osm_transport_points = gpd.read_file(folder +\n",
    "    \"Walkability\\\\Mavoa\\\\Pandana inputs\\\\Greater_Sydney_OSM_transport_sp.shp\")\n",
    "osm_transport_areas =  gpd.read_file(folder +\n",
    "    \"Data\\\\OSM-australia-latest-free\\\\gis_osm_transport_a_free_1.shp\")\n",
    "osm_pow_points = gpd.read_file(folder + \n",
    "    \"Data\\\\OSM-australia-latest-free\\\\gis_osm_pofw_free_1.shp\")\n",
    "osm_pow_areas = gpd.read_file(folder + \n",
    "    \"Data\\\\OSM-australia-latest-free\\\\gis_osm_pofw_a_free_1.shp\")\n",
    "osm_natural = gpd.read_file(folder + \n",
    "    \"Data\\\\OSM-australia-latest-free\\\\gis_osm_natural_a_free_1.shp\")\n",
    "osm_govt_points = gpd.read_file(folder + \n",
    "    \"Walkability\\\\Other Cities\\\\Colouring data & results\\\\Shared Aus Data\\\\OSM government offices.gpkg\",\n",
    "                             layer = \"OSM government offices points\").to_crs(osm_natural.crs)\n",
    "osm_govt_points['fclass'] = 'government'\n",
    "osm_govt_areas = gpd.read_file(folder + \n",
    "    \"Walkability\\\\Other Cities\\\\Colouring data & results\\\\Shared Aus Data\\\\OSM government offices.gpkg\",\n",
    "                             layer = \"OSM government offices areas\").to_crs(osm_natural.crs)\n",
    "osm_govt_areas['fclass'] = 'government'\n",
    "\n",
    "# the OSM POIs includes domestic swimming pools in some suburbs. This line removes swimming pools less than 100m2.\n",
    "# Same for domestic tennis courts appearing as 'pitches'. Removed pitches below 450m2.\n",
    "osm_poi_areas = osm_poi_areas[~((osm_poi_areas['fclass']=='swimming_pool') & (osm_poi_areas.to_crs(proj_crs).area < 100))]\n",
    "osm_poi_areas = osm_poi_areas[~((osm_poi_areas['fclass']=='pitch') & (osm_poi_areas.to_crs(proj_crs).area < 450))]"
   ]
  },
  {
   "cell_type": "code",
   "execution_count": 6,
   "id": "06524e14",
   "metadata": {},
   "outputs": [],
   "source": [
    "# import SS NSW data\n",
    "SS_NSW = gpd.read_file((folder + \n",
    "                        \"Data\\\\NSW Spatial Services\\\\NSW_Features_of_Interest_Category.gdb\"),layer='BuildingComplexPoint')\n",
    "SS_NSW.to_crs(Sydney.crs, inplace = True)\n",
    "SS_NSW['fclass'] = (SS_NSW['classsubtype'].astype(str) + \"-\" \n",
    "                    + SS_NSW['buildingcomplextype'].astype(str))\n",
    "\n",
    "# add general cultural points\n",
    "SS_NSW_gc = gpd.read_file((folder + \n",
    "                           \"Data\\\\NSW Spatial Services\\\\NSW_Features_of_Interest_Category.gdb\"),layer='GeneralCulturalPoint')\n",
    "SS_NSW_gc.to_crs(Sydney.crs, inplace = True)\n",
    "SS_NSW_gc['fclass'] = (SS_NSW_gc['classsubtype'].astype(str) + \"-\" \n",
    "                       + SS_NSW_gc['generalculturaltype'].astype(str) + \"-gc\")\n",
    "\n",
    "SS_NSW = pd.concat([SS_NSW, SS_NSW_gc]).to_crs(proj_crs)"
   ]
  },
  {
   "cell_type": "code",
   "execution_count": 7,
   "id": "ab2869c5",
   "metadata": {},
   "outputs": [],
   "source": [
    "SS_names = {'4-10': 'shopping centre', '2-18': 'post office', '2-16': 'place of worship',\n",
    " '3-3': 'health centre', '3-5': 'health centre', '3-6': 'health centre',\n",
    " '1-1': 'school', '1-2': 'school', '1-3': 'school', '1-5': 'school', '1-6': 'school',\n",
    " '1-8': 'school', '1-4': 'university', '1-7': 'childcare',\n",
    " '2-2': 'art gallery', '2-11': 'library', '2-14': 'museum',\n",
    " '6-12': 'sports centre', '6-18': 'zoo', '1-6-gc': 'outdoor theater',\n",
    " '6-15': 'swimming pool', '9-2-gc': 'swimming pool',\n",
    " '6-17': 'tourist attraction', '1-2-gc': 'golf course', '1-5-gc': 'lookout',\n",
    " '1-7-gc': 'park', '1-8-gc': 'picnic area', '1-12-gc': 'sports field', '1-13-gc': 'sports field'}\n",
    "\n",
    "SS_NSW.replace({'fclass': SS_names},inplace=True)"
   ]
  },
  {
   "cell_type": "code",
   "execution_count": 8,
   "id": "fa0b7eea",
   "metadata": {},
   "outputs": [],
   "source": [
    "employment_centrs = gpd.read_file((folder + \n",
    "                        \"Walkability\\\\Other Cities\\\\Colouring data & results\\\\Sydney Data\\\\Data\\\\NSW_Employment_meshblocks.gpkg\"),\n",
    "                                  layer='centroids').to_crs(proj_crs)\n",
    "\n",
    "employment_centrs['category'] = 'employment'"
   ]
  },
  {
   "cell_type": "markdown",
   "id": "636647db",
   "metadata": {},
   "source": [
    "Convert polygonal datasets to points and any multipart datasets to single part."
   ]
  },
  {
   "cell_type": "code",
   "execution_count": 9,
   "id": "763e8027",
   "metadata": {},
   "outputs": [],
   "source": [
    "osm_pois_2 = single_points(osm_poi_areas)\n",
    "osm_transport_2 = single_points(osm_transport_areas)\n",
    "osm_pow_2 = single_points(osm_pow_areas)\n",
    "osm_natural_2 = single_points(osm_natural)\n",
    "osm_govt_2 = single_points(osm_govt_areas)\n",
    "\n",
    "osm_df = pd.concat([osm_poi_points, osm_pois_2, osm_transport_points, osm_govt_points,\n",
    "                    osm_transport_2, osm_pow_points, osm_pow_2, osm_natural_2, osm_govt_2]).to_crs(proj_crs)\n",
    "\n",
    "osm_df = osm_df.iloc[:,0:5]"
   ]
  },
  {
   "cell_type": "markdown",
   "id": "c456dd5a",
   "metadata": {},
   "source": [
    "### Residential population"
   ]
  },
  {
   "cell_type": "code",
   "execution_count": 10,
   "id": "a3df8ea7",
   "metadata": {},
   "outputs": [],
   "source": [
    "meshblocks = pd.read_csv(''.join(folder + \"Data\\\\ABS Data\\\\2016 census mesh block counts.csv\"))\n",
    "mb_shapes = gpd.read_file(''.join(folder + \"Data\\\\ABS Data\\\\2016_NSW_MBs\\\\MB_2016_NSW.shp\"))"
   ]
  },
  {
   "cell_type": "code",
   "execution_count": 11,
   "id": "e2a45995",
   "metadata": {},
   "outputs": [],
   "source": [
    "mb_shapes['MB_CODE16'] = mb_shapes['MB_CODE16'].astype('int64')\n",
    "\n",
    "pop_mbs = mb_shapes.join(meshblocks.set_index('MB_CODE_2016'), on='MB_CODE16', how='inner', rsuffix='_2')\n",
    "pop_mbs['geometry'] = pop_mbs['geometry'].to_crs(proj_crs).centroid\n",
    "\n",
    "pop_pois = pop_mbs[(pop_mbs['Person'] > 0) & ~(pop_mbs['geometry'].isnull())][\n",
    "    ['MB_CODE16', 'MB_CATEGORY_NAME_2016', 'AREA_ALBERS_SQKM', 'Person','geometry']]\n",
    "pop_pois['fclass'] = 'residential'"
   ]
  },
  {
   "cell_type": "markdown",
   "id": "96944dbd",
   "metadata": {},
   "source": [
    "### Categorise and weight POIs"
   ]
  },
  {
   "cell_type": "markdown",
   "id": "94b0c568",
   "metadata": {},
   "source": [
    "Choose walk index weightings, and output the sums of each category and the total to check. The walk index will be out of 100 regardless of this sum, but it is important to note that eg. shopping is only '10% of the walk index' if shopping is 10 out of 100."
   ]
  },
  {
   "cell_type": "code",
   "execution_count": 12,
   "id": "c147ff0a",
   "metadata": {},
   "outputs": [],
   "source": [
    "poi_parameters = pd.read_csv((folder + \n",
    "                              \"Walkability\\\\Other Cities\\\\Colouring data & results\\\\Shared Aus Data\\\\poi_parameters_5.csv\"),\n",
    "                            index_col=0)"
   ]
  },
  {
   "cell_type": "code",
   "execution_count": 13,
   "id": "86516d8b",
   "metadata": {},
   "outputs": [],
   "source": [
    "poi_weights = poi_parameters['weight'][0:5]\n",
    "\n",
    "poi_lambdas = poi_parameters['diminishing_returns_constant'][0:5]\n",
    "\n",
    "poi_variables = poi_parameters['variable'][0:5]\n",
    "\n",
    "poi_nums = poi_parameters['num_pois'][0:5]\n",
    "\n",
    "poi_gammas = poi_parameters['distance_constant'][0:5]"
   ]
  },
  {
   "cell_type": "code",
   "execution_count": 14,
   "id": "b7f4b63d",
   "metadata": {},
   "outputs": [
    {
     "name": "stdout",
     "output_type": "stream",
     "text": [
      "total:  100.00000000000001\n"
     ]
    }
   ],
   "source": [
    "total = sum(poi_weights)\n",
    "print(\"total: \", total)"
   ]
  },
  {
   "cell_type": "code",
   "execution_count": 15,
   "id": "6904fec6",
   "metadata": {
    "scrolled": true
   },
   "outputs": [],
   "source": [
    "# manually changing because too large\n",
    "poi_nums.loc['employment'] = 100\n",
    "poi_nums.loc['visiting'] = 100"
   ]
  },
  {
   "cell_type": "markdown",
   "id": "9f38e444",
   "metadata": {},
   "source": [
    "Categorise POI data - change classes depending on your analysis and your data sources.\n",
    "The purpose of the 'categorise_pois' function now is just to align the different sources of information so that their tags are in the same column, eg 'category'. It does not add a category column, because one tag can belong to multiple categories."
   ]
  },
  {
   "cell_type": "code",
   "execution_count": 17,
   "id": "0d3c388e",
   "metadata": {
    "scrolled": true
   },
   "outputs": [
    {
     "name": "stdout",
     "output_type": "stream",
     "text": [
      "Some tags are present in the dataset but not in the category dictionary.POIs with these tags have been removed:\n",
      "['drinking_water' 'toilet' 'memorial' 'public_building' 'monument'\n",
      " 'picnic_site' 'police' 'motel' 'shelter' 'tourist_info' 'bicycle_rental'\n",
      " 'hostel' 'hotel' 'telephone' 'recycling' 'guesthouse' 'lighthouse'\n",
      " 'observation_tower' 'fire_station' 'camp_site' 'town_hall' 'fountain'\n",
      " 'caravan_site' 'bench' 'water_tower' 'comms_tower' 'car_wash' 'tower'\n",
      " 'waste_basket' 'wastewater_plant' 'camera_surveillance' 'nursing_home'\n",
      " 'car_rental' 'recycling_clothes' 'vending_parking' 'battlefield' 'chalet'\n",
      " 'vending_any' 'prison' 'vending_machine' 'water_works' 'embassy'\n",
      " 'water_well' 'windmill' 'recycling_glass' 'car_sharing' 'hunting_stand'\n",
      " 'water_mill' 'fort' 'recycling_paper' 'railway_station' 'bus_station'\n",
      " 'bus_stop' 'ferry_terminal' 'railway_halt' 'taxi' 'tram_stop' 'cliff'\n",
      " 'spring' 'peak' 'glacier' 'tree' 'cave_entrance']\n",
      "Some tags are present in the dataset but not in the category dictionary.POIs with these tags have been removed:\n",
      "['4-6' '2-24' '5-9' '2-0' '5-10' '2-8' '2-12' '3-0' '2-4' '6-3' '2-17'\n",
      " '2-21' '2-20' '2-9' '5-8' '4-7' '4-4' '4-8' '2-23' '1-0' '3-1' '2-19'\n",
      " '2-5' '4-0' '2-6' '2-7' '2-1' '5-1' '4-1' '2-10' '2-15' '5-5' '5-11'\n",
      " '5-2' '4-2' '4-3' '5-3' '4-9' '5-6' '3-4' '5-7' '6-0' '5-0' '6-2'\n",
      " '4-11-gc' 'picnic area' '12-0-gc' '8-0-gc' '4-12-gc' '1-4-gc' '4-7-gc'\n",
      " '7-0-gc' '4-6-gc' '4-2-gc' '8-2-gc' '6-5-gc' '1-14-gc' '12-1-gc' '1-1-gc'\n",
      " '7-2-gc' '7-1-gc' '1-11-gc' '4-9-gc' '4-3-gc' '5-0-gc' '5-1-gc' '4-0-gc'\n",
      " '4-4-gc' '6-2-gc' '2-0-gc' '4-8-gc' '2-1-gc' '8-1-gc' '1-3-gc' '3-1-gc'\n",
      " '6-4-gc' '7-3-gc' '4-5-gc' '2-2-gc' '6-7-gc' '7-4-gc' '6-8-gc' '6-6-gc'\n",
      " '6-3-gc' '2-3-gc' '1-10-gc' '4-13-gc' '1-0-gc' '7-5-gc' '9-0-gc' '9-1-gc'\n",
      " '6-1-gc' '3-0-gc' '6-0-gc']\n",
      "Some tags are present in the dataset but not in the category dictionary.POIs with these tags have been removed:\n",
      "['residential']\n"
     ]
    }
   ],
   "source": [
    "poi_categories = {'employment':['employment'],\n",
    "                  'shopping' : ['supermarket', 'greengrocer','butcher','convenience',\n",
    "                                   'kiosk', 'beverages', 'alcohol', 'bakery',\n",
    "                                \"shopping centre\", 'mall', 'bicycle_shop', 'clothes', 'department_store', \n",
    "                                   'doityourself', 'beauty_shop', 'outdoor_shop', \n",
    "                                   'stationery', 'bookshop', 'gift_shop', 'newsagent', \n",
    "                                   'car_dealership', 'furniture_shop', 'sports_shop',\n",
    "                                   'garden_centre', 'computer_shop', 'shoe_shop', 'florist', \n",
    "                                   'video_shop', 'toy_shop', 'mobile_phone_shop', 'jeweller'],                \n",
    "                  'errands' : ['hairdresser', 'optician', 'travel_agent','laundry', 'veterinary', \n",
    "                               \"health centre\",'chemist', 'pharmacy','doctors', 'dentist','hospital',\n",
    "                               \"post office\",'post_box', 'post_office', 'bank', 'atm',\n",
    "                               'courthouse', 'government', \"place of worship\", 'graveyard', 'christian_anglican', 'muslim',\n",
    "                                'christian', 'christian_catholic', 'christian_protestant',\n",
    "                                'christian_lutheran', 'hindu', 'christian_evangelical',\n",
    "                                'christian_methodist', 'buddhist', 'sikh', 'christian_orthodox', 'jewish',\n",
    "                                'muslim_sunni', 'taoist', 'muslim_shia'], \n",
    "                  'education' : [\"childcare\", 'college', 'school', 'kindergarten', 'university'],\n",
    "                  'recreation' : [\"art gallery\", \"outdoor theater\", 'arts_centre', 'theatre', 'artwork',\n",
    "                                'library','archaeological', 'cinema', 'museum', 'ruins',\n",
    "                                  'stadium', 'marketplace', 'community_centre', 'library',\n",
    "                                  \"sports centre\", \"sports field\", \"swimming pool\", \"golf course\", \n",
    "                              'ice_rink','pitch', 'swimming_pool', 'sports_centre', \n",
    "                              'golf_course', 'track', 'community_centre', 'library',\n",
    "                                  'restaurant', 'pub', 'cafe', 'fast_food', 'bar',  \n",
    "                                   'food_court', 'nightclub', 'biergarten',\n",
    "                                  \"tourist attraction\", \"lookout\", 'attraction', 'zoo', 'castle', \n",
    "                                'theme_park', 'park', 'viewpoint', 'beach','dog_park','playground'],\n",
    "                    }\n",
    "\n",
    "osm_categorised = categorise_pois_new(osm_df, poi_categories, \n",
    "                                  old_column='fclass')\n",
    "SS_categorised = categorise_pois_new(SS_NSW, poi_categories, \n",
    "                                 old_column='fclass')\n",
    "pop_categorised = categorise_pois_new(pop_pois, poi_categories, \n",
    "                                 old_column='fclass')"
   ]
  },
  {
   "cell_type": "markdown",
   "id": "d5588632",
   "metadata": {},
   "source": [
    "Need to remove potential overlap between different data sources (and inside some data sources). For this dataset it's around 30% because there is overlap of public transport stops between OSM and TfNSW, and overlap of things like post offices between OSM and SSNSW. Then take this combined POI set and clip it to the study area: should be the same area as is covered by the network. This is important otherwise points outside the network may be erroneously linked to the network."
   ]
  },
  {
   "cell_type": "code",
   "execution_count": 18,
   "id": "a26286de",
   "metadata": {},
   "outputs": [
    {
     "name": "stdout",
     "output_type": "stream",
     "text": [
      "Removed 3.90% duplicate points from dataframes\n"
     ]
    }
   ],
   "source": [
    "pois = remove_duplicate_pois([osm_categorised, SS_categorised, pop_categorised], buffer=10)"
   ]
  },
  {
   "cell_type": "code",
   "execution_count": 19,
   "id": "951a8fe5",
   "metadata": {},
   "outputs": [],
   "source": [
    "pois = pd.concat([pois, employment_centrs[['category','Jobs','geometry']], \n",
    "                  pop_categorised[['category','Person','geometry']]])\n",
    "\n",
    "pois = gpd.clip(pois, Sydney)"
   ]
  },
  {
   "cell_type": "code",
   "execution_count": 20,
   "id": "8a7bd4cb",
   "metadata": {
    "scrolled": true
   },
   "outputs": [
    {
     "name": "stdout",
     "output_type": "stream",
     "text": [
      "employment 6640\n",
      "education 3626\n",
      "shopping 4337\n",
      "errands 6570\n",
      "recreation 31042\n"
     ]
    }
   ],
   "source": [
    "for cat in list(poi_weights.index):\n",
    "    print(cat, len(pois[pois['category'].isin(poi_categories[cat])]))"
   ]
  },
  {
   "cell_type": "markdown",
   "id": "41834e86",
   "metadata": {},
   "source": [
    "### Import network"
   ]
  },
  {
   "cell_type": "code",
   "execution_count": 30,
   "id": "119abd5a",
   "metadata": {},
   "outputs": [
    {
     "name": "stderr",
     "output_type": "stream",
     "text": [
      "<ipython-input-30-1c7694016b84>:3: FutureWarning: Currently, index_parts defaults to True, but in the future, it will default to False to be consistent with Pandas. Use `index_parts=True` to keep the current behavior and True/False to silence the warning.\n",
      "  Sydney_main = gpd.GeoDataFrame(Sydney.explode().iloc[0:1]).to_crs(\"EPSG:4326\")\n"
     ]
    }
   ],
   "source": [
    "# Sydney shape is composed of 15 parts but 14 are very small islands\n",
    "\n",
    "Sydney_main = gpd.GeoDataFrame(Sydney.explode(index_parts=False).iloc[0:1]).to_crs(\"EPSG:4326\")"
   ]
  },
  {
   "cell_type": "code",
   "execution_count": 37,
   "id": "b32c64f1",
   "metadata": {},
   "outputs": [
    {
     "name": "stderr",
     "output_type": "stream",
     "text": [
      "C:\\Users\\z3258367\\Anaconda3\\envs\\ox\\lib\\site-packages\\osmnx\\graph.py:488: UserWarning: the graph-level street_count attribute will likely be inaccurate when you set clean_periphery=False\n",
      "  warnings.warn(msg)\n"
     ]
    }
   ],
   "source": [
    "G2 = ox.graph_from_polygon(Sydney_main.geometry.iloc[0], network_type='walk', simplify=False, retain_all=True, truncate_by_edge=True, clean_periphery=False, custom_filter=None)"
   ]
  },
  {
   "cell_type": "code",
   "execution_count": 53,
   "id": "1d3b3463",
   "metadata": {},
   "outputs": [],
   "source": [
    "# Get nodes and edges as geodataframes (gdfs) from OSMNX network\n",
    "graph_df = ox.graph_to_gdfs(G2)\n",
    "nodes_gdfs = graph_df[0]\n",
    "edges_gdfs = graph_df[1]\n",
    "\n",
    "nodes_gdfs = nodes_gdfs.to_crs(proj_crs)\n",
    "edges_gdfs = edges_gdfs.to_crs(proj_crs)"
   ]
  },
  {
   "cell_type": "markdown",
   "id": "792785b1",
   "metadata": {},
   "source": [
    "Pandana expects edges to have a two item index based on the same IDs as the node index."
   ]
  },
  {
   "cell_type": "code",
   "execution_count": 54,
   "id": "b6eafa0b",
   "metadata": {},
   "outputs": [],
   "source": [
    "# with new OSMnx graph from polygon seems to be different\n",
    "edges_gdfs = edges_gdfs.reset_index()\n",
    "# Setting indices of Edges gdfs to match expected dataframe for Pandana\n",
    "edges_gdfs['from_idx'] = edges_gdfs['u']\n",
    "edges_gdfs['to_idx'] = edges_gdfs['v']\n",
    "edges_gdfs= edges_gdfs.set_index(['from_idx', 'to_idx'])\n",
    "edges_gdfs.index.names= ['','']\n",
    "\n",
    "# Setting indices of Nodes gdfs to match expected dataframe for Pandana\n",
    "nodes_gdfs.index.name = 'id'"
   ]
  },
  {
   "cell_type": "markdown",
   "id": "f02dfca0",
   "metadata": {},
   "source": [
    "## Pandana network creation."
   ]
  },
  {
   "cell_type": "code",
   "execution_count": 55,
   "id": "72c0e94d",
   "metadata": {},
   "outputs": [],
   "source": [
    "distance_network = pdna.Network(nodes_gdfs.geometry.x, nodes_gdfs.geometry.y,\n",
    "                                   edges_gdfs['u'], edges_gdfs['v'], \n",
    "                                   edges_gdfs[['length']])\n",
    "\n",
    "maximum_dist = 2400"
   ]
  },
  {
   "cell_type": "markdown",
   "id": "ea80d586",
   "metadata": {},
   "source": [
    "Free up some memory at this point..."
   ]
  },
  {
   "cell_type": "code",
   "execution_count": 44,
   "id": "7da55bb0",
   "metadata": {},
   "outputs": [
    {
     "ename": "NameError",
     "evalue": "name 'edges_gdfs' is not defined",
     "output_type": "error",
     "traceback": [
      "\u001b[1;31m---------------------------------------------------------------------------\u001b[0m",
      "\u001b[1;31mNameError\u001b[0m                                 Traceback (most recent call last)",
      "\u001b[1;32m<ipython-input-44-88e1a0b5e68c>\u001b[0m in \u001b[0;36m<module>\u001b[1;34m\u001b[0m\n\u001b[1;32m----> 1\u001b[1;33m \u001b[1;32mdel\u001b[0m \u001b[0medges_gdfs\u001b[0m\u001b[1;33m\u001b[0m\u001b[1;33m\u001b[0m\u001b[0m\n\u001b[0m\u001b[0;32m      2\u001b[0m \u001b[1;32mdel\u001b[0m \u001b[0mSS_NSW\u001b[0m\u001b[1;33m\u001b[0m\u001b[1;33m\u001b[0m\u001b[0m\n\u001b[0;32m      3\u001b[0m \u001b[1;32mdel\u001b[0m \u001b[0mSS_NSW_gc\u001b[0m\u001b[1;33m\u001b[0m\u001b[1;33m\u001b[0m\u001b[0m\n\u001b[0;32m      4\u001b[0m \u001b[1;31m# don't delete 'nodes', used later for export\u001b[0m\u001b[1;33m\u001b[0m\u001b[1;33m\u001b[0m\u001b[1;33m\u001b[0m\u001b[0m\n\u001b[0;32m      5\u001b[0m \u001b[1;31m# don't delete pois' obviously\u001b[0m\u001b[1;33m\u001b[0m\u001b[1;33m\u001b[0m\u001b[1;33m\u001b[0m\u001b[0m\n",
      "\u001b[1;31mNameError\u001b[0m: name 'edges_gdfs' is not defined"
     ]
    }
   ],
   "source": [
    "del edges_gdfs\n",
    "del SS_NSW\n",
    "del SS_NSW_gc\n",
    "# don't delete 'nodes', used later for export\n",
    "# don't delete pois' obviously\n",
    "del pop_mbs\n",
    "del mb_shapes\n",
    "del SS_categorised\n",
    "del meshblocks\n",
    "del pop_categorised\n",
    "del employment_centrs\n",
    "del osm_df\n",
    "del pop_pois\n",
    "del osm_categorised\n",
    "del osm_poi_points\n",
    "del osm_pois_2\n",
    "del osm_poi_areas\n",
    "del osm_transport_points\n",
    "del osm_natural_2\n",
    "del osm_pow_2\n",
    "del osm_natural\n",
    "del osm_pow_areas\n",
    "del osm_pow_points\n",
    "del osm_govt_points\n",
    "del osm_govt_2\n",
    "del osm_govt_areas\n",
    "del osm_transport_2\n",
    "del osm_transport_areas"
   ]
  },
  {
   "cell_type": "markdown",
   "id": "09754e3b",
   "metadata": {},
   "source": [
    "### Pandana network querying. "
   ]
  },
  {
   "cell_type": "markdown",
   "id": "933c5d9e",
   "metadata": {},
   "source": [
    "The current approach is to find up to x closest nodes for each category within the maximum distance. Then look up the attractiveness at each one (just count for most), apply a distance decay function to each distance, apply diminishing returns to the resulting total opportunity, and sum.\n",
    "\n",
    "An alternative approach which would be more convenient would be to use the Pandana 'aggregate' function which aggregates from all nodes within the maximum distance. However, there is limited ability to change the distance decay rate within the aggregation function. It can either be flat (no decay), linear (going to 0 at the max distance), or exponential where beta is set as 1/max distance. For walking I would like a beta of 0.001, but this requires the radius to be 1000m. If the radius is 2400m, beta is only 0.0004. This can be changed in the future if the Pandana function is updated to take a decay parameter."
   ]
  },
  {
   "cell_type": "code",
   "execution_count": 59,
   "id": "9c333174",
   "metadata": {},
   "outputs": [
    {
     "name": "stderr",
     "output_type": "stream",
     "text": [
      "C:\\Users\\z3258367\\Anaconda3\\envs\\ox\\lib\\site-packages\\pandana\\network.py:660: FutureWarning: The default dtype for empty Series will be 'object' instead of 'float64' in a future version. Specify a dtype explicitly to silence this warning.\n",
      "  elif isinstance(maxitems, type(pd.Series())):\n",
      "C:\\Users\\z3258367\\Anaconda3\\envs\\ox\\lib\\site-packages\\pandana\\network.py:668: FutureWarning: The default dtype for empty Series will be 'object' instead of 'float64' in a future version. Specify a dtype explicitly to silence this warning.\n",
      "  elif isinstance(maxdist, type(pd.Series())):\n"
     ]
    },
    {
     "name": "stdout",
     "output_type": "stream",
     "text": [
      "Finished category: employment\n",
      "Maximum score: 28.68978751647048\n"
     ]
    },
    {
     "name": "stderr",
     "output_type": "stream",
     "text": [
      "C:\\Users\\z3258367\\Anaconda3\\envs\\ox\\lib\\site-packages\\pandana\\network.py:660: FutureWarning: The default dtype for empty Series will be 'object' instead of 'float64' in a future version. Specify a dtype explicitly to silence this warning.\n",
      "  elif isinstance(maxitems, type(pd.Series())):\n",
      "C:\\Users\\z3258367\\Anaconda3\\envs\\ox\\lib\\site-packages\\pandana\\network.py:668: FutureWarning: The default dtype for empty Series will be 'object' instead of 'float64' in a future version. Specify a dtype explicitly to silence this warning.\n",
      "  elif isinstance(maxdist, type(pd.Series())):\n"
     ]
    },
    {
     "name": "stdout",
     "output_type": "stream",
     "text": [
      "Finished category: education\n",
      "Maximum score: 14.091841249852429\n"
     ]
    },
    {
     "name": "stderr",
     "output_type": "stream",
     "text": [
      "C:\\Users\\z3258367\\Anaconda3\\envs\\ox\\lib\\site-packages\\pandana\\network.py:660: FutureWarning: The default dtype for empty Series will be 'object' instead of 'float64' in a future version. Specify a dtype explicitly to silence this warning.\n",
      "  elif isinstance(maxitems, type(pd.Series())):\n",
      "C:\\Users\\z3258367\\Anaconda3\\envs\\ox\\lib\\site-packages\\pandana\\network.py:668: FutureWarning: The default dtype for empty Series will be 'object' instead of 'float64' in a future version. Specify a dtype explicitly to silence this warning.\n",
      "  elif isinstance(maxdist, type(pd.Series())):\n"
     ]
    },
    {
     "name": "stdout",
     "output_type": "stream",
     "text": [
      "Finished category: shopping\n",
      "Maximum score: 21.50731018183542\n"
     ]
    },
    {
     "name": "stderr",
     "output_type": "stream",
     "text": [
      "C:\\Users\\z3258367\\Anaconda3\\envs\\ox\\lib\\site-packages\\pandana\\network.py:660: FutureWarning: The default dtype for empty Series will be 'object' instead of 'float64' in a future version. Specify a dtype explicitly to silence this warning.\n",
      "  elif isinstance(maxitems, type(pd.Series())):\n",
      "C:\\Users\\z3258367\\Anaconda3\\envs\\ox\\lib\\site-packages\\pandana\\network.py:668: FutureWarning: The default dtype for empty Series will be 'object' instead of 'float64' in a future version. Specify a dtype explicitly to silence this warning.\n",
      "  elif isinstance(maxdist, type(pd.Series())):\n"
     ]
    },
    {
     "name": "stdout",
     "output_type": "stream",
     "text": [
      "Finished category: errands\n",
      "Maximum score: 8.813590768578498\n"
     ]
    },
    {
     "name": "stderr",
     "output_type": "stream",
     "text": [
      "C:\\Users\\z3258367\\Anaconda3\\envs\\ox\\lib\\site-packages\\pandana\\network.py:660: FutureWarning: The default dtype for empty Series will be 'object' instead of 'float64' in a future version. Specify a dtype explicitly to silence this warning.\n",
      "  elif isinstance(maxitems, type(pd.Series())):\n",
      "C:\\Users\\z3258367\\Anaconda3\\envs\\ox\\lib\\site-packages\\pandana\\network.py:668: FutureWarning: The default dtype for empty Series will be 'object' instead of 'float64' in a future version. Specify a dtype explicitly to silence this warning.\n",
      "  elif isinstance(maxdist, type(pd.Series())):\n"
     ]
    },
    {
     "name": "stdout",
     "output_type": "stream",
     "text": [
      "Finished category: recreation\n",
      "Maximum score: 23.189575147680493\n"
     ]
    }
   ],
   "source": [
    "results = walk_index_full(distance_network, pois, poi_categories, poi_weights, poi_gammas,\n",
    "                            poi_nums, poi_lambdas, poi_variables, distance=maximum_dist)  "
   ]
  },
  {
   "cell_type": "markdown",
   "id": "0f4526c7",
   "metadata": {},
   "source": [
    "## Export results"
   ]
  },
  {
   "cell_type": "markdown",
   "id": "1c20c8d1",
   "metadata": {},
   "source": [
    "Reduce the number of decimal places before export, distances do not need to be below 1m. Optionally export results as a csv."
   ]
  },
  {
   "cell_type": "code",
   "execution_count": 71,
   "id": "e9e73ea7",
   "metadata": {},
   "outputs": [],
   "source": [
    "def result_rounding(results):\n",
    "    # reduces results size for export\n",
    "    # score columns such as Walk_Index, employment_23 -> 3 decimal places\n",
    "    # distance columns such as employment1 -> 0 decimal places (nearest metre)\n",
    "    # avoid doing anything to connect_id, x or y\n",
    "    rounding_dict = {**{k:3 for k in results.columns if \"_\" in k\n",
    "                        and 'connect_id' not in k},\n",
    "                     **{k:0 for k in results.columns if \"_\" not in k\n",
    "                        and k != 'x'\n",
    "                        and k != 'y'}}\n",
    "    return results.round(rounding_dict)"
   ]
  },
  {
   "cell_type": "code",
   "execution_count": 72,
   "id": "1c6ce085",
   "metadata": {},
   "outputs": [],
   "source": [
    "result_rounding(results).to_csv((folder +\n",
    "                         \"Walkability\\\\Other Cities\\\\Colouring data & results\\\\Sydney Data\\\\\" + \n",
    "                         \"osmnx_5_results_010622_Sydney.csv\"))"
   ]
  },
  {
   "cell_type": "markdown",
   "id": "d2004899",
   "metadata": {},
   "source": [
    "## Import old results and compare"
   ]
  },
  {
   "cell_type": "code",
   "execution_count": 48,
   "id": "9d4dcabb",
   "metadata": {},
   "outputs": [],
   "source": [
    "old_results = pd.read_csv((folder +\n",
    "                         \"Walkability\\\\Other Cities\\\\Colouring data & results\\\\Sydney WalkTHERE results\\\\\" + \n",
    "                         \"HTS_many_bf_results_070522_Sydney.csv\"))"
   ]
  },
  {
   "cell_type": "code",
   "execution_count": 98,
   "id": "0a4b2001",
   "metadata": {},
   "outputs": [
    {
     "data": {
      "text/plain": [
       "8.120760398471258"
      ]
     },
     "execution_count": 98,
     "metadata": {},
     "output_type": "execute_result"
    }
   ],
   "source": [
    "max(old_net_results['employment_31.9'])"
   ]
  },
  {
   "cell_type": "code",
   "execution_count": 99,
   "id": "af543acd",
   "metadata": {},
   "outputs": [
    {
     "data": {
      "text/plain": [
       "28.68978751647048"
      ]
     },
     "execution_count": 99,
     "metadata": {},
     "output_type": "execute_result"
    }
   ],
   "source": [
    "max(results['employment_31.9'])"
   ]
  },
  {
   "cell_type": "code",
   "execution_count": 50,
   "id": "063f05bd",
   "metadata": {},
   "outputs": [
    {
     "data": {
      "text/html": [
       "<div>\n",
       "<style scoped>\n",
       "    .dataframe tbody tr th:only-of-type {\n",
       "        vertical-align: middle;\n",
       "    }\n",
       "\n",
       "    .dataframe tbody tr th {\n",
       "        vertical-align: top;\n",
       "    }\n",
       "\n",
       "    .dataframe thead th {\n",
       "        text-align: right;\n",
       "    }\n",
       "</style>\n",
       "<table border=\"1\" class=\"dataframe\">\n",
       "  <thead>\n",
       "    <tr style=\"text-align: right;\">\n",
       "      <th></th>\n",
       "      <th>connect_id</th>\n",
       "      <th>x</th>\n",
       "      <th>y</th>\n",
       "      <th>Jobs</th>\n",
       "      <th>employment1</th>\n",
       "      <th>employment2</th>\n",
       "      <th>employment3</th>\n",
       "      <th>employment4</th>\n",
       "      <th>employment5</th>\n",
       "      <th>employment6</th>\n",
       "      <th>...</th>\n",
       "      <th>accompany children3</th>\n",
       "      <th>accompany children4</th>\n",
       "      <th>accompany children5</th>\n",
       "      <th>accompany children6</th>\n",
       "      <th>accompany children7</th>\n",
       "      <th>accompany children8</th>\n",
       "      <th>accompany children9</th>\n",
       "      <th>accompany children10</th>\n",
       "      <th>accompany children_1.5</th>\n",
       "      <th>Walk_Index</th>\n",
       "    </tr>\n",
       "  </thead>\n",
       "  <tbody>\n",
       "    <tr>\n",
       "      <th>570396</th>\n",
       "      <td>1864274</td>\n",
       "      <td>329768.745377</td>\n",
       "      <td>6.254669e+06</td>\n",
       "      <td>0.000000</td>\n",
       "      <td>2400.000000</td>\n",
       "      <td>2400.000000</td>\n",
       "      <td>2400.000000</td>\n",
       "      <td>2400.000000</td>\n",
       "      <td>2400.000000</td>\n",
       "      <td>2400.000000</td>\n",
       "      <td>...</td>\n",
       "      <td>2400.000000</td>\n",
       "      <td>2400.000000</td>\n",
       "      <td>2400.000000</td>\n",
       "      <td>2400.000000</td>\n",
       "      <td>2400.000000</td>\n",
       "      <td>2400.000000</td>\n",
       "      <td>2400.000000</td>\n",
       "      <td>2400.000000</td>\n",
       "      <td>0.000000</td>\n",
       "      <td>2.084164</td>\n",
       "    </tr>\n",
       "    <tr>\n",
       "      <th>1086764</th>\n",
       "      <td>2380642</td>\n",
       "      <td>283044.899081</td>\n",
       "      <td>6.238511e+06</td>\n",
       "      <td>0.000000</td>\n",
       "      <td>2400.000000</td>\n",
       "      <td>2400.000000</td>\n",
       "      <td>2400.000000</td>\n",
       "      <td>2400.000000</td>\n",
       "      <td>2400.000000</td>\n",
       "      <td>2400.000000</td>\n",
       "      <td>...</td>\n",
       "      <td>2400.000000</td>\n",
       "      <td>2400.000000</td>\n",
       "      <td>2400.000000</td>\n",
       "      <td>2400.000000</td>\n",
       "      <td>2400.000000</td>\n",
       "      <td>2400.000000</td>\n",
       "      <td>2400.000000</td>\n",
       "      <td>2400.000000</td>\n",
       "      <td>0.000000</td>\n",
       "      <td>0.000000</td>\n",
       "    </tr>\n",
       "    <tr>\n",
       "      <th>1086760</th>\n",
       "      <td>2380638</td>\n",
       "      <td>297929.112740</td>\n",
       "      <td>6.300579e+06</td>\n",
       "      <td>0.000000</td>\n",
       "      <td>2400.000000</td>\n",
       "      <td>2400.000000</td>\n",
       "      <td>2400.000000</td>\n",
       "      <td>2400.000000</td>\n",
       "      <td>2400.000000</td>\n",
       "      <td>2400.000000</td>\n",
       "      <td>...</td>\n",
       "      <td>2400.000000</td>\n",
       "      <td>2400.000000</td>\n",
       "      <td>2400.000000</td>\n",
       "      <td>2400.000000</td>\n",
       "      <td>2400.000000</td>\n",
       "      <td>2400.000000</td>\n",
       "      <td>2400.000000</td>\n",
       "      <td>2400.000000</td>\n",
       "      <td>0.000000</td>\n",
       "      <td>0.087311</td>\n",
       "    </tr>\n",
       "    <tr>\n",
       "      <th>660653</th>\n",
       "      <td>1954531</td>\n",
       "      <td>273207.722283</td>\n",
       "      <td>6.226929e+06</td>\n",
       "      <td>0.000000</td>\n",
       "      <td>2400.000000</td>\n",
       "      <td>2400.000000</td>\n",
       "      <td>2400.000000</td>\n",
       "      <td>2400.000000</td>\n",
       "      <td>2400.000000</td>\n",
       "      <td>2400.000000</td>\n",
       "      <td>...</td>\n",
       "      <td>2400.000000</td>\n",
       "      <td>2400.000000</td>\n",
       "      <td>2400.000000</td>\n",
       "      <td>2400.000000</td>\n",
       "      <td>2400.000000</td>\n",
       "      <td>2400.000000</td>\n",
       "      <td>2400.000000</td>\n",
       "      <td>2400.000000</td>\n",
       "      <td>0.000000</td>\n",
       "      <td>0.000000</td>\n",
       "    </tr>\n",
       "    <tr>\n",
       "      <th>1086758</th>\n",
       "      <td>2380636</td>\n",
       "      <td>281275.020829</td>\n",
       "      <td>6.255690e+06</td>\n",
       "      <td>0.000000</td>\n",
       "      <td>2400.000000</td>\n",
       "      <td>2400.000000</td>\n",
       "      <td>2400.000000</td>\n",
       "      <td>2400.000000</td>\n",
       "      <td>2400.000000</td>\n",
       "      <td>2400.000000</td>\n",
       "      <td>...</td>\n",
       "      <td>2400.000000</td>\n",
       "      <td>2400.000000</td>\n",
       "      <td>2400.000000</td>\n",
       "      <td>2400.000000</td>\n",
       "      <td>2400.000000</td>\n",
       "      <td>2400.000000</td>\n",
       "      <td>2400.000000</td>\n",
       "      <td>2400.000000</td>\n",
       "      <td>0.000000</td>\n",
       "      <td>0.000000</td>\n",
       "    </tr>\n",
       "    <tr>\n",
       "      <th>...</th>\n",
       "      <td>...</td>\n",
       "      <td>...</td>\n",
       "      <td>...</td>\n",
       "      <td>...</td>\n",
       "      <td>...</td>\n",
       "      <td>...</td>\n",
       "      <td>...</td>\n",
       "      <td>...</td>\n",
       "      <td>...</td>\n",
       "      <td>...</td>\n",
       "      <td>...</td>\n",
       "      <td>...</td>\n",
       "      <td>...</td>\n",
       "      <td>...</td>\n",
       "      <td>...</td>\n",
       "      <td>...</td>\n",
       "      <td>...</td>\n",
       "      <td>...</td>\n",
       "      <td>...</td>\n",
       "      <td>...</td>\n",
       "      <td>...</td>\n",
       "    </tr>\n",
       "    <tr>\n",
       "      <th>1335503</th>\n",
       "      <td>3947643</td>\n",
       "      <td>334149.059793</td>\n",
       "      <td>6.251157e+06</td>\n",
       "      <td>140143.444121</td>\n",
       "      <td>97.969002</td>\n",
       "      <td>160.367004</td>\n",
       "      <td>164.839005</td>\n",
       "      <td>183.561005</td>\n",
       "      <td>188.584000</td>\n",
       "      <td>201.042007</td>\n",
       "      <td>...</td>\n",
       "      <td>757.031006</td>\n",
       "      <td>802.987000</td>\n",
       "      <td>862.098999</td>\n",
       "      <td>886.614014</td>\n",
       "      <td>1316.598999</td>\n",
       "      <td>1346.909058</td>\n",
       "      <td>1481.600952</td>\n",
       "      <td>1697.012939</td>\n",
       "      <td>0.627930</td>\n",
       "      <td>81.125189</td>\n",
       "    </tr>\n",
       "    <tr>\n",
       "      <th>1339133</th>\n",
       "      <td>3951280</td>\n",
       "      <td>334180.074806</td>\n",
       "      <td>6.251145e+06</td>\n",
       "      <td>141029.245871</td>\n",
       "      <td>129.037003</td>\n",
       "      <td>147.389008</td>\n",
       "      <td>169.082993</td>\n",
       "      <td>180.139008</td>\n",
       "      <td>187.397003</td>\n",
       "      <td>206.429993</td>\n",
       "      <td>...</td>\n",
       "      <td>741.098999</td>\n",
       "      <td>795.278992</td>\n",
       "      <td>863.486023</td>\n",
       "      <td>901.635010</td>\n",
       "      <td>1317.985962</td>\n",
       "      <td>1361.930054</td>\n",
       "      <td>1510.780029</td>\n",
       "      <td>1698.400024</td>\n",
       "      <td>0.634161</td>\n",
       "      <td>81.360396</td>\n",
       "    </tr>\n",
       "    <tr>\n",
       "      <th>1333670</th>\n",
       "      <td>3945795</td>\n",
       "      <td>334140.202696</td>\n",
       "      <td>6.251136e+06</td>\n",
       "      <td>141303.231732</td>\n",
       "      <td>127.845001</td>\n",
       "      <td>149.539001</td>\n",
       "      <td>156.554001</td>\n",
       "      <td>168.261002</td>\n",
       "      <td>185.742004</td>\n",
       "      <td>202.199005</td>\n",
       "      <td>...</td>\n",
       "      <td>756.708984</td>\n",
       "      <td>832.862976</td>\n",
       "      <td>846.799011</td>\n",
       "      <td>883.859009</td>\n",
       "      <td>1301.298950</td>\n",
       "      <td>1375.555054</td>\n",
       "      <td>1459.927979</td>\n",
       "      <td>1681.713013</td>\n",
       "      <td>0.627162</td>\n",
       "      <td>81.757041</td>\n",
       "    </tr>\n",
       "    <tr>\n",
       "      <th>1328358</th>\n",
       "      <td>3940475</td>\n",
       "      <td>334148.239009</td>\n",
       "      <td>6.251084e+06</td>\n",
       "      <td>141547.648781</td>\n",
       "      <td>86.192001</td>\n",
       "      <td>138.852005</td>\n",
       "      <td>149.022003</td>\n",
       "      <td>165.811996</td>\n",
       "      <td>196.503006</td>\n",
       "      <td>206.227997</td>\n",
       "      <td>...</td>\n",
       "      <td>748.843994</td>\n",
       "      <td>783.452026</td>\n",
       "      <td>870.830017</td>\n",
       "      <td>953.133972</td>\n",
       "      <td>1237.952026</td>\n",
       "      <td>1414.751953</td>\n",
       "      <td>1529.203003</td>\n",
       "      <td>1618.365967</td>\n",
       "      <td>0.631598</td>\n",
       "      <td>80.811500</td>\n",
       "    </tr>\n",
       "    <tr>\n",
       "      <th>1330941</th>\n",
       "      <td>3943065</td>\n",
       "      <td>334186.498059</td>\n",
       "      <td>6.251135e+06</td>\n",
       "      <td>142146.213204</td>\n",
       "      <td>126.072998</td>\n",
       "      <td>145.251999</td>\n",
       "      <td>166.945999</td>\n",
       "      <td>179.725006</td>\n",
       "      <td>185.259995</td>\n",
       "      <td>201.615997</td>\n",
       "      <td>...</td>\n",
       "      <td>713.020020</td>\n",
       "      <td>806.818970</td>\n",
       "      <td>861.348999</td>\n",
       "      <td>923.112000</td>\n",
       "      <td>1315.848999</td>\n",
       "      <td>1383.406982</td>\n",
       "      <td>1508.642944</td>\n",
       "      <td>1696.262939</td>\n",
       "      <td>0.644657</td>\n",
       "      <td>81.445784</td>\n",
       "    </tr>\n",
       "  </tbody>\n",
       "</table>\n",
       "<p>1342821 rows × 193 columns</p>\n",
       "</div>"
      ],
      "text/plain": [
       "         connect_id              x             y           Jobs  employment1  \\\n",
       "570396      1864274  329768.745377  6.254669e+06       0.000000  2400.000000   \n",
       "1086764     2380642  283044.899081  6.238511e+06       0.000000  2400.000000   \n",
       "1086760     2380638  297929.112740  6.300579e+06       0.000000  2400.000000   \n",
       "660653      1954531  273207.722283  6.226929e+06       0.000000  2400.000000   \n",
       "1086758     2380636  281275.020829  6.255690e+06       0.000000  2400.000000   \n",
       "...             ...            ...           ...            ...          ...   \n",
       "1335503     3947643  334149.059793  6.251157e+06  140143.444121    97.969002   \n",
       "1339133     3951280  334180.074806  6.251145e+06  141029.245871   129.037003   \n",
       "1333670     3945795  334140.202696  6.251136e+06  141303.231732   127.845001   \n",
       "1328358     3940475  334148.239009  6.251084e+06  141547.648781    86.192001   \n",
       "1330941     3943065  334186.498059  6.251135e+06  142146.213204   126.072998   \n",
       "\n",
       "         employment2  employment3  employment4  employment5  employment6  ...  \\\n",
       "570396   2400.000000  2400.000000  2400.000000  2400.000000  2400.000000  ...   \n",
       "1086764  2400.000000  2400.000000  2400.000000  2400.000000  2400.000000  ...   \n",
       "1086760  2400.000000  2400.000000  2400.000000  2400.000000  2400.000000  ...   \n",
       "660653   2400.000000  2400.000000  2400.000000  2400.000000  2400.000000  ...   \n",
       "1086758  2400.000000  2400.000000  2400.000000  2400.000000  2400.000000  ...   \n",
       "...              ...          ...          ...          ...          ...  ...   \n",
       "1335503   160.367004   164.839005   183.561005   188.584000   201.042007  ...   \n",
       "1339133   147.389008   169.082993   180.139008   187.397003   206.429993  ...   \n",
       "1333670   149.539001   156.554001   168.261002   185.742004   202.199005  ...   \n",
       "1328358   138.852005   149.022003   165.811996   196.503006   206.227997  ...   \n",
       "1330941   145.251999   166.945999   179.725006   185.259995   201.615997  ...   \n",
       "\n",
       "         accompany children3  accompany children4  accompany children5  \\\n",
       "570396           2400.000000          2400.000000          2400.000000   \n",
       "1086764          2400.000000          2400.000000          2400.000000   \n",
       "1086760          2400.000000          2400.000000          2400.000000   \n",
       "660653           2400.000000          2400.000000          2400.000000   \n",
       "1086758          2400.000000          2400.000000          2400.000000   \n",
       "...                      ...                  ...                  ...   \n",
       "1335503           757.031006           802.987000           862.098999   \n",
       "1339133           741.098999           795.278992           863.486023   \n",
       "1333670           756.708984           832.862976           846.799011   \n",
       "1328358           748.843994           783.452026           870.830017   \n",
       "1330941           713.020020           806.818970           861.348999   \n",
       "\n",
       "         accompany children6  accompany children7  accompany children8  \\\n",
       "570396           2400.000000          2400.000000          2400.000000   \n",
       "1086764          2400.000000          2400.000000          2400.000000   \n",
       "1086760          2400.000000          2400.000000          2400.000000   \n",
       "660653           2400.000000          2400.000000          2400.000000   \n",
       "1086758          2400.000000          2400.000000          2400.000000   \n",
       "...                      ...                  ...                  ...   \n",
       "1335503           886.614014          1316.598999          1346.909058   \n",
       "1339133           901.635010          1317.985962          1361.930054   \n",
       "1333670           883.859009          1301.298950          1375.555054   \n",
       "1328358           953.133972          1237.952026          1414.751953   \n",
       "1330941           923.112000          1315.848999          1383.406982   \n",
       "\n",
       "         accompany children9  accompany children10  accompany children_1.5  \\\n",
       "570396           2400.000000           2400.000000                0.000000   \n",
       "1086764          2400.000000           2400.000000                0.000000   \n",
       "1086760          2400.000000           2400.000000                0.000000   \n",
       "660653           2400.000000           2400.000000                0.000000   \n",
       "1086758          2400.000000           2400.000000                0.000000   \n",
       "...                      ...                   ...                     ...   \n",
       "1335503          1481.600952           1697.012939                0.627930   \n",
       "1339133          1510.780029           1698.400024                0.634161   \n",
       "1333670          1459.927979           1681.713013                0.627162   \n",
       "1328358          1529.203003           1618.365967                0.631598   \n",
       "1330941          1508.642944           1696.262939                0.644657   \n",
       "\n",
       "         Walk_Index  \n",
       "570396     2.084164  \n",
       "1086764    0.000000  \n",
       "1086760    0.087311  \n",
       "660653     0.000000  \n",
       "1086758    0.000000  \n",
       "...             ...  \n",
       "1335503   81.125189  \n",
       "1339133   81.360396  \n",
       "1333670   81.757041  \n",
       "1328358   80.811500  \n",
       "1330941   81.445784  \n",
       "\n",
       "[1342821 rows x 193 columns]"
      ]
     },
     "execution_count": 50,
     "metadata": {},
     "output_type": "execute_result"
    }
   ],
   "source": [
    "old_results.sort_values('employment_29.0')"
   ]
  },
  {
   "cell_type": "code",
   "execution_count": 74,
   "id": "65956d05",
   "metadata": {},
   "outputs": [
    {
     "data": {
      "text/html": [
       "<div>\n",
       "<style scoped>\n",
       "    .dataframe tbody tr th:only-of-type {\n",
       "        vertical-align: middle;\n",
       "    }\n",
       "\n",
       "    .dataframe tbody tr th {\n",
       "        vertical-align: top;\n",
       "    }\n",
       "\n",
       "    .dataframe thead th {\n",
       "        text-align: right;\n",
       "    }\n",
       "</style>\n",
       "<table border=\"1\" class=\"dataframe\">\n",
       "  <thead>\n",
       "    <tr style=\"text-align: right;\">\n",
       "      <th></th>\n",
       "      <th>x</th>\n",
       "      <th>y</th>\n",
       "      <th>Jobs</th>\n",
       "      <th>employment1</th>\n",
       "      <th>employment2</th>\n",
       "      <th>employment3</th>\n",
       "      <th>employment4</th>\n",
       "      <th>employment5</th>\n",
       "      <th>employment6</th>\n",
       "      <th>employment7</th>\n",
       "      <th>...</th>\n",
       "      <th>recreation3</th>\n",
       "      <th>recreation4</th>\n",
       "      <th>recreation5</th>\n",
       "      <th>recreation6</th>\n",
       "      <th>recreation7</th>\n",
       "      <th>recreation8</th>\n",
       "      <th>recreation9</th>\n",
       "      <th>recreation10</th>\n",
       "      <th>recreation_23.3</th>\n",
       "      <th>Walk_Index</th>\n",
       "    </tr>\n",
       "    <tr>\n",
       "      <th>id</th>\n",
       "      <th></th>\n",
       "      <th></th>\n",
       "      <th></th>\n",
       "      <th></th>\n",
       "      <th></th>\n",
       "      <th></th>\n",
       "      <th></th>\n",
       "      <th></th>\n",
       "      <th></th>\n",
       "      <th></th>\n",
       "      <th></th>\n",
       "      <th></th>\n",
       "      <th></th>\n",
       "      <th></th>\n",
       "      <th></th>\n",
       "      <th></th>\n",
       "      <th></th>\n",
       "      <th></th>\n",
       "      <th></th>\n",
       "      <th></th>\n",
       "      <th></th>\n",
       "    </tr>\n",
       "  </thead>\n",
       "  <tbody>\n",
       "    <tr>\n",
       "      <th>771283</th>\n",
       "      <td>290577.584261</td>\n",
       "      <td>6.215804e+06</td>\n",
       "      <td>0.000000</td>\n",
       "      <td>2400.000000</td>\n",
       "      <td>2400.000000</td>\n",
       "      <td>2400.000000</td>\n",
       "      <td>2400.000000</td>\n",
       "      <td>2400.000000</td>\n",
       "      <td>2400.000000</td>\n",
       "      <td>2400.000000</td>\n",
       "      <td>...</td>\n",
       "      <td>2400.000000</td>\n",
       "      <td>2400.000000</td>\n",
       "      <td>2400.000000</td>\n",
       "      <td>2400.000000</td>\n",
       "      <td>2400.000000</td>\n",
       "      <td>2400.000000</td>\n",
       "      <td>2400.000000</td>\n",
       "      <td>2400.000000</td>\n",
       "      <td>0.000000</td>\n",
       "      <td>0.000000</td>\n",
       "    </tr>\n",
       "    <tr>\n",
       "      <th>5971540955</th>\n",
       "      <td>316678.737200</td>\n",
       "      <td>6.248214e+06</td>\n",
       "      <td>0.000000</td>\n",
       "      <td>2400.000000</td>\n",
       "      <td>2400.000000</td>\n",
       "      <td>2400.000000</td>\n",
       "      <td>2400.000000</td>\n",
       "      <td>2400.000000</td>\n",
       "      <td>2400.000000</td>\n",
       "      <td>2400.000000</td>\n",
       "      <td>...</td>\n",
       "      <td>2400.000000</td>\n",
       "      <td>2400.000000</td>\n",
       "      <td>2400.000000</td>\n",
       "      <td>2400.000000</td>\n",
       "      <td>2400.000000</td>\n",
       "      <td>2400.000000</td>\n",
       "      <td>2400.000000</td>\n",
       "      <td>2400.000000</td>\n",
       "      <td>0.000000</td>\n",
       "      <td>0.000000</td>\n",
       "    </tr>\n",
       "    <tr>\n",
       "      <th>5971540954</th>\n",
       "      <td>316659.389977</td>\n",
       "      <td>6.248091e+06</td>\n",
       "      <td>0.000000</td>\n",
       "      <td>2400.000000</td>\n",
       "      <td>2400.000000</td>\n",
       "      <td>2400.000000</td>\n",
       "      <td>2400.000000</td>\n",
       "      <td>2400.000000</td>\n",
       "      <td>2400.000000</td>\n",
       "      <td>2400.000000</td>\n",
       "      <td>...</td>\n",
       "      <td>2400.000000</td>\n",
       "      <td>2400.000000</td>\n",
       "      <td>2400.000000</td>\n",
       "      <td>2400.000000</td>\n",
       "      <td>2400.000000</td>\n",
       "      <td>2400.000000</td>\n",
       "      <td>2400.000000</td>\n",
       "      <td>2400.000000</td>\n",
       "      <td>0.000000</td>\n",
       "      <td>0.000000</td>\n",
       "    </tr>\n",
       "    <tr>\n",
       "      <th>5971540953</th>\n",
       "      <td>316678.309752</td>\n",
       "      <td>6.248069e+06</td>\n",
       "      <td>0.000000</td>\n",
       "      <td>2400.000000</td>\n",
       "      <td>2400.000000</td>\n",
       "      <td>2400.000000</td>\n",
       "      <td>2400.000000</td>\n",
       "      <td>2400.000000</td>\n",
       "      <td>2400.000000</td>\n",
       "      <td>2400.000000</td>\n",
       "      <td>...</td>\n",
       "      <td>2400.000000</td>\n",
       "      <td>2400.000000</td>\n",
       "      <td>2400.000000</td>\n",
       "      <td>2400.000000</td>\n",
       "      <td>2400.000000</td>\n",
       "      <td>2400.000000</td>\n",
       "      <td>2400.000000</td>\n",
       "      <td>2400.000000</td>\n",
       "      <td>0.000000</td>\n",
       "      <td>0.000000</td>\n",
       "    </tr>\n",
       "    <tr>\n",
       "      <th>5971540952</th>\n",
       "      <td>316662.295313</td>\n",
       "      <td>6.248069e+06</td>\n",
       "      <td>0.000000</td>\n",
       "      <td>2400.000000</td>\n",
       "      <td>2400.000000</td>\n",
       "      <td>2400.000000</td>\n",
       "      <td>2400.000000</td>\n",
       "      <td>2400.000000</td>\n",
       "      <td>2400.000000</td>\n",
       "      <td>2400.000000</td>\n",
       "      <td>...</td>\n",
       "      <td>2400.000000</td>\n",
       "      <td>2400.000000</td>\n",
       "      <td>2400.000000</td>\n",
       "      <td>2400.000000</td>\n",
       "      <td>2400.000000</td>\n",
       "      <td>2400.000000</td>\n",
       "      <td>2400.000000</td>\n",
       "      <td>2400.000000</td>\n",
       "      <td>0.000000</td>\n",
       "      <td>0.000000</td>\n",
       "    </tr>\n",
       "    <tr>\n",
       "      <th>...</th>\n",
       "      <td>...</td>\n",
       "      <td>...</td>\n",
       "      <td>...</td>\n",
       "      <td>...</td>\n",
       "      <td>...</td>\n",
       "      <td>...</td>\n",
       "      <td>...</td>\n",
       "      <td>...</td>\n",
       "      <td>...</td>\n",
       "      <td>...</td>\n",
       "      <td>...</td>\n",
       "      <td>...</td>\n",
       "      <td>...</td>\n",
       "      <td>...</td>\n",
       "      <td>...</td>\n",
       "      <td>...</td>\n",
       "      <td>...</td>\n",
       "      <td>...</td>\n",
       "      <td>...</td>\n",
       "      <td>...</td>\n",
       "      <td>...</td>\n",
       "    </tr>\n",
       "    <tr>\n",
       "      <th>6946325380</th>\n",
       "      <td>334169.499073</td>\n",
       "      <td>6.251134e+06</td>\n",
       "      <td>138767.481217</td>\n",
       "      <td>47.043999</td>\n",
       "      <td>77.953003</td>\n",
       "      <td>123.763000</td>\n",
       "      <td>152.102005</td>\n",
       "      <td>189.962997</td>\n",
       "      <td>190.710999</td>\n",
       "      <td>205.830002</td>\n",
       "      <td>...</td>\n",
       "      <td>43.944000</td>\n",
       "      <td>47.043999</td>\n",
       "      <td>47.043999</td>\n",
       "      <td>47.043999</td>\n",
       "      <td>67.231003</td>\n",
       "      <td>77.953003</td>\n",
       "      <td>77.953003</td>\n",
       "      <td>83.088997</td>\n",
       "      <td>22.266991</td>\n",
       "      <td>87.465428</td>\n",
       "    </tr>\n",
       "    <tr>\n",
       "      <th>6581009152</th>\n",
       "      <td>334162.867890</td>\n",
       "      <td>6.251134e+06</td>\n",
       "      <td>138781.378632</td>\n",
       "      <td>40.417999</td>\n",
       "      <td>84.579002</td>\n",
       "      <td>117.137001</td>\n",
       "      <td>158.727997</td>\n",
       "      <td>184.085007</td>\n",
       "      <td>195.457993</td>\n",
       "      <td>211.834000</td>\n",
       "      <td>...</td>\n",
       "      <td>40.417999</td>\n",
       "      <td>40.417999</td>\n",
       "      <td>50.570000</td>\n",
       "      <td>50.570000</td>\n",
       "      <td>60.605000</td>\n",
       "      <td>84.579002</td>\n",
       "      <td>84.579002</td>\n",
       "      <td>89.714996</td>\n",
       "      <td>22.251027</td>\n",
       "      <td>87.496654</td>\n",
       "    </tr>\n",
       "    <tr>\n",
       "      <th>6694044644</th>\n",
       "      <td>334166.054066</td>\n",
       "      <td>6.251134e+06</td>\n",
       "      <td>138813.163838</td>\n",
       "      <td>43.603001</td>\n",
       "      <td>81.393997</td>\n",
       "      <td>120.321999</td>\n",
       "      <td>155.542999</td>\n",
       "      <td>187.270004</td>\n",
       "      <td>193.404007</td>\n",
       "      <td>209.270996</td>\n",
       "      <td>...</td>\n",
       "      <td>43.603001</td>\n",
       "      <td>43.603001</td>\n",
       "      <td>47.384998</td>\n",
       "      <td>47.384998</td>\n",
       "      <td>63.790001</td>\n",
       "      <td>81.393997</td>\n",
       "      <td>81.393997</td>\n",
       "      <td>86.529999</td>\n",
       "      <td>22.252309</td>\n",
       "      <td>87.474618</td>\n",
       "    </tr>\n",
       "    <tr>\n",
       "      <th>1810714488</th>\n",
       "      <td>334164.423201</td>\n",
       "      <td>6.251134e+06</td>\n",
       "      <td>138864.327861</td>\n",
       "      <td>41.971001</td>\n",
       "      <td>83.026001</td>\n",
       "      <td>118.690002</td>\n",
       "      <td>157.175003</td>\n",
       "      <td>185.638000</td>\n",
       "      <td>193.904999</td>\n",
       "      <td>210.281006</td>\n",
       "      <td>...</td>\n",
       "      <td>41.971001</td>\n",
       "      <td>41.971001</td>\n",
       "      <td>49.016998</td>\n",
       "      <td>49.016998</td>\n",
       "      <td>62.158001</td>\n",
       "      <td>83.026001</td>\n",
       "      <td>83.026001</td>\n",
       "      <td>88.162003</td>\n",
       "      <td>22.251947</td>\n",
       "      <td>87.492377</td>\n",
       "    </tr>\n",
       "    <tr>\n",
       "      <th>6946325372</th>\n",
       "      <td>334173.268055</td>\n",
       "      <td>6.251133e+06</td>\n",
       "      <td>138915.237785</td>\n",
       "      <td>50.807999</td>\n",
       "      <td>74.189003</td>\n",
       "      <td>127.527000</td>\n",
       "      <td>148.337997</td>\n",
       "      <td>186.307007</td>\n",
       "      <td>194.475006</td>\n",
       "      <td>202.173996</td>\n",
       "      <td>...</td>\n",
       "      <td>40.180000</td>\n",
       "      <td>50.807999</td>\n",
       "      <td>50.807999</td>\n",
       "      <td>50.807999</td>\n",
       "      <td>70.995003</td>\n",
       "      <td>74.189003</td>\n",
       "      <td>74.189003</td>\n",
       "      <td>79.324997</td>\n",
       "      <td>22.301941</td>\n",
       "      <td>87.488967</td>\n",
       "    </tr>\n",
       "  </tbody>\n",
       "</table>\n",
       "<p>1534134 rows × 59 columns</p>\n",
       "</div>"
      ],
      "text/plain": [
       "                        x             y           Jobs  employment1  \\\n",
       "id                                                                    \n",
       "771283      290577.584261  6.215804e+06       0.000000  2400.000000   \n",
       "5971540955  316678.737200  6.248214e+06       0.000000  2400.000000   \n",
       "5971540954  316659.389977  6.248091e+06       0.000000  2400.000000   \n",
       "5971540953  316678.309752  6.248069e+06       0.000000  2400.000000   \n",
       "5971540952  316662.295313  6.248069e+06       0.000000  2400.000000   \n",
       "...                   ...           ...            ...          ...   \n",
       "6946325380  334169.499073  6.251134e+06  138767.481217    47.043999   \n",
       "6581009152  334162.867890  6.251134e+06  138781.378632    40.417999   \n",
       "6694044644  334166.054066  6.251134e+06  138813.163838    43.603001   \n",
       "1810714488  334164.423201  6.251134e+06  138864.327861    41.971001   \n",
       "6946325372  334173.268055  6.251133e+06  138915.237785    50.807999   \n",
       "\n",
       "            employment2  employment3  employment4  employment5  employment6  \\\n",
       "id                                                                            \n",
       "771283      2400.000000  2400.000000  2400.000000  2400.000000  2400.000000   \n",
       "5971540955  2400.000000  2400.000000  2400.000000  2400.000000  2400.000000   \n",
       "5971540954  2400.000000  2400.000000  2400.000000  2400.000000  2400.000000   \n",
       "5971540953  2400.000000  2400.000000  2400.000000  2400.000000  2400.000000   \n",
       "5971540952  2400.000000  2400.000000  2400.000000  2400.000000  2400.000000   \n",
       "...                 ...          ...          ...          ...          ...   \n",
       "6946325380    77.953003   123.763000   152.102005   189.962997   190.710999   \n",
       "6581009152    84.579002   117.137001   158.727997   184.085007   195.457993   \n",
       "6694044644    81.393997   120.321999   155.542999   187.270004   193.404007   \n",
       "1810714488    83.026001   118.690002   157.175003   185.638000   193.904999   \n",
       "6946325372    74.189003   127.527000   148.337997   186.307007   194.475006   \n",
       "\n",
       "            employment7  ...  recreation3  recreation4  recreation5  \\\n",
       "id                       ...                                          \n",
       "771283      2400.000000  ...  2400.000000  2400.000000  2400.000000   \n",
       "5971540955  2400.000000  ...  2400.000000  2400.000000  2400.000000   \n",
       "5971540954  2400.000000  ...  2400.000000  2400.000000  2400.000000   \n",
       "5971540953  2400.000000  ...  2400.000000  2400.000000  2400.000000   \n",
       "5971540952  2400.000000  ...  2400.000000  2400.000000  2400.000000   \n",
       "...                 ...  ...          ...          ...          ...   \n",
       "6946325380   205.830002  ...    43.944000    47.043999    47.043999   \n",
       "6581009152   211.834000  ...    40.417999    40.417999    50.570000   \n",
       "6694044644   209.270996  ...    43.603001    43.603001    47.384998   \n",
       "1810714488   210.281006  ...    41.971001    41.971001    49.016998   \n",
       "6946325372   202.173996  ...    40.180000    50.807999    50.807999   \n",
       "\n",
       "            recreation6  recreation7  recreation8  recreation9  recreation10  \\\n",
       "id                                                                             \n",
       "771283      2400.000000  2400.000000  2400.000000  2400.000000   2400.000000   \n",
       "5971540955  2400.000000  2400.000000  2400.000000  2400.000000   2400.000000   \n",
       "5971540954  2400.000000  2400.000000  2400.000000  2400.000000   2400.000000   \n",
       "5971540953  2400.000000  2400.000000  2400.000000  2400.000000   2400.000000   \n",
       "5971540952  2400.000000  2400.000000  2400.000000  2400.000000   2400.000000   \n",
       "...                 ...          ...          ...          ...           ...   \n",
       "6946325380    47.043999    67.231003    77.953003    77.953003     83.088997   \n",
       "6581009152    50.570000    60.605000    84.579002    84.579002     89.714996   \n",
       "6694044644    47.384998    63.790001    81.393997    81.393997     86.529999   \n",
       "1810714488    49.016998    62.158001    83.026001    83.026001     88.162003   \n",
       "6946325372    50.807999    70.995003    74.189003    74.189003     79.324997   \n",
       "\n",
       "            recreation_23.3  Walk_Index  \n",
       "id                                       \n",
       "771283             0.000000    0.000000  \n",
       "5971540955         0.000000    0.000000  \n",
       "5971540954         0.000000    0.000000  \n",
       "5971540953         0.000000    0.000000  \n",
       "5971540952         0.000000    0.000000  \n",
       "...                     ...         ...  \n",
       "6946325380        22.266991   87.465428  \n",
       "6581009152        22.251027   87.496654  \n",
       "6694044644        22.252309   87.474618  \n",
       "1810714488        22.251947   87.492377  \n",
       "6946325372        22.301941   87.488967  \n",
       "\n",
       "[1534134 rows x 59 columns]"
      ]
     },
     "execution_count": 74,
     "metadata": {},
     "output_type": "execute_result"
    }
   ],
   "source": [
    "results.sort_values('employment_31.9')"
   ]
  },
  {
   "cell_type": "code",
   "execution_count": 222,
   "id": "9dd79d33",
   "metadata": {},
   "outputs": [],
   "source": [
    "results_gdf = gpd.GeoDataFrame(results, geometry = gpd.GeoSeries.from_xy(results.x, results.y, crs=proj_crs))\n",
    "old_results_gdf = gpd.GeoDataFrame(old_net_results, geometry = gpd.GeoSeries.from_xy(old_net_results.x, old_net_results.y, crs=proj_crs))\n",
    "results_gdf = old_results_gdf.sjoin_nearest(results_gdf, how='left', rsuffix = 'osm', max_distance = 500)"
   ]
  },
  {
   "cell_type": "code",
   "execution_count": 223,
   "id": "0a60a34d",
   "metadata": {},
   "outputs": [],
   "source": [
    "results_gdf['diff2'] = results_gdf['Walk_Index_left'] - results_gdf['Walk_Index_osm']"
   ]
  },
  {
   "cell_type": "code",
   "execution_count": 224,
   "id": "132693de",
   "metadata": {},
   "outputs": [
    {
     "data": {
      "text/plain": [
       "0.016307826899220515"
      ]
     },
     "execution_count": 224,
     "metadata": {},
     "output_type": "execute_result"
    }
   ],
   "source": [
    "len(results_gdf[(results_gdf['diff2']>10) | (results_gdf['diff2']<-10)])/len(results_gdf)"
   ]
  },
  {
   "cell_type": "code",
   "execution_count": 81,
   "id": "743519c8",
   "metadata": {},
   "outputs": [],
   "source": [
    "def difference(row):\n",
    "    if row['Walk_Index_left'] == 0:\n",
    "        if row['diff2'] == 0:\n",
    "            return 0\n",
    "        else: return np.nan\n",
    "    else: return row['diff2']/row['Walk_Index_left']"
   ]
  },
  {
   "cell_type": "code",
   "execution_count": 225,
   "id": "21a63b5e",
   "metadata": {},
   "outputs": [],
   "source": [
    "prop_diff = results_gdf.apply(difference, axis=1)"
   ]
  },
  {
   "cell_type": "code",
   "execution_count": 226,
   "id": "6147ba21",
   "metadata": {},
   "outputs": [
    {
     "data": {
      "text/plain": [
       "(0.04287417063395657,\n",
       " 0.04210276109553604,\n",
       " 0.06086140883741739,\n",
       " 1.5819847280760606)"
      ]
     },
     "execution_count": 226,
     "metadata": {},
     "output_type": "execute_result"
    }
   ],
   "source": [
    "np.nanmedian(np.abs(prop_diff)), np.nanmedian(np.abs(prop_diff[np.abs(results_gdf['diff2'])<10])), np.nanmean(np.abs(prop_diff[(np.abs(results_gdf['diff2'])<10) & (np.abs(prop_diff) < 0.5)])),np.nanmean(np.abs(prop_diff))"
   ]
  },
  {
   "cell_type": "code",
   "execution_count": 227,
   "id": "18684158",
   "metadata": {},
   "outputs": [
    {
     "data": {
      "text/plain": [
       "(array([  1100.,   1247.,   1325.,   1396.,   1462.,   1473.,   1534.,\n",
       "          1698.,   1783.,   2132.,   2082.,   2320.,   2542.,   2598.,\n",
       "          2784.,   3159.,   3226.,   3314.,   3800.,   4018.,   4369.,\n",
       "          4698.,   5351.,   6078.,   7088.,   7338.,   8601.,   9218.,\n",
       "         10549.,  12020.,  13636.,  15412.,  17738.,  20545.,  24815.,\n",
       "         29299.,  35427.,  44087.,  54679.,  69791.,  89062., 112820.,\n",
       "        144417., 181612., 224552., 266400., 301344., 329467., 320073.,\n",
       "        265419., 283310., 126778.,  93925.,  72317.,  60420.,  47619.,\n",
       "         39420.,  31458.,  26310.,  22784.,  19296.,  16906.,  14302.,\n",
       "         12683.,  11106.,   9902.,   9352.,   8020.,   7163.,   6489.,\n",
       "          6097.,   5371.,   4703.,   4278.,   3894.,   3283.,   2888.,\n",
       "          2586.,   2041.,   1828.,   1524.,   1316.,   1307.,   1151.,\n",
       "          1204.,   1060.,    995.,   1099.,    824.,    721.,    687.,\n",
       "           723.,    619.,    525.,    659.,    475.,    448.,    402.,\n",
       "           432.,    517.]),\n",
       " array([-4.99999458e-01, -4.89999935e-01, -4.80000413e-01, -4.70000890e-01,\n",
       "        -4.60001368e-01, -4.50001845e-01, -4.40002323e-01, -4.30002800e-01,\n",
       "        -4.20003278e-01, -4.10003755e-01, -4.00004233e-01, -3.90004710e-01,\n",
       "        -3.80005188e-01, -3.70005665e-01, -3.60006143e-01, -3.50006620e-01,\n",
       "        -3.40007098e-01, -3.30007575e-01, -3.20008053e-01, -3.10008530e-01,\n",
       "        -3.00009008e-01, -2.90009485e-01, -2.80009963e-01, -2.70010440e-01,\n",
       "        -2.60010918e-01, -2.50011395e-01, -2.40011873e-01, -2.30012350e-01,\n",
       "        -2.20012828e-01, -2.10013305e-01, -2.00013783e-01, -1.90014260e-01,\n",
       "        -1.80014738e-01, -1.70015215e-01, -1.60015693e-01, -1.50016170e-01,\n",
       "        -1.40016648e-01, -1.30017125e-01, -1.20017603e-01, -1.10018080e-01,\n",
       "        -1.00018558e-01, -9.00190354e-02, -8.00195129e-02, -7.00199904e-02,\n",
       "        -6.00204679e-02, -5.00209454e-02, -4.00214229e-02, -3.00219004e-02,\n",
       "        -2.00223779e-02, -1.00228554e-02, -2.33328749e-05,  9.97618962e-03,\n",
       "         1.99757121e-02,  2.99752346e-02,  3.99747571e-02,  4.99742796e-02,\n",
       "         5.99738021e-02,  6.99733246e-02,  7.99728471e-02,  8.99723696e-02,\n",
       "         9.99718921e-02,  1.09971415e-01,  1.19970937e-01,  1.29970460e-01,\n",
       "         1.39969982e-01,  1.49969505e-01,  1.59969027e-01,  1.69968550e-01,\n",
       "         1.79968072e-01,  1.89967595e-01,  1.99967117e-01,  2.09966640e-01,\n",
       "         2.19966162e-01,  2.29965685e-01,  2.39965207e-01,  2.49964730e-01,\n",
       "         2.59964252e-01,  2.69963775e-01,  2.79963297e-01,  2.89962820e-01,\n",
       "         2.99962342e-01,  3.09961865e-01,  3.19961387e-01,  3.29960910e-01,\n",
       "         3.39960432e-01,  3.49959955e-01,  3.59959477e-01,  3.69959000e-01,\n",
       "         3.79958522e-01,  3.89958045e-01,  3.99957567e-01,  4.09957090e-01,\n",
       "         4.19956612e-01,  4.29956135e-01,  4.39955657e-01,  4.49955180e-01,\n",
       "         4.59954702e-01,  4.69954225e-01,  4.79953747e-01,  4.89953270e-01,\n",
       "         4.99952792e-01]),\n",
       " <BarContainer object of 100 artists>)"
      ]
     },
     "execution_count": 227,
     "metadata": {},
     "output_type": "execute_result"
    },
    {
     "data": {
      "image/png": "[encoded data removed]",
      "text/plain": [
       "<Figure size 432x288 with 1 Axes>"
      ]
     },
     "metadata": {
      "needs_background": "light"
     },
     "output_type": "display_data"
    }
   ],
   "source": [
    "fig, ax = plt.subplots()\n",
    "ax.hist(prop_diff[(np.abs(results_gdf['diff2'])<10) & (np.abs(prop_diff) < 0.5)], bins=100)"
   ]
  },
  {
   "cell_type": "code",
   "execution_count": 228,
   "id": "5c43b001",
   "metadata": {},
   "outputs": [
    {
     "data": {
      "text/plain": [
       "(array([1.000000e+00, 0.000000e+00, 0.000000e+00, 0.000000e+00,\n",
       "        0.000000e+00, 1.000000e+00, 0.000000e+00, 0.000000e+00,\n",
       "        0.000000e+00, 0.000000e+00, 0.000000e+00, 0.000000e+00,\n",
       "        0.000000e+00, 0.000000e+00, 0.000000e+00, 0.000000e+00,\n",
       "        0.000000e+00, 0.000000e+00, 0.000000e+00, 0.000000e+00,\n",
       "        0.000000e+00, 0.000000e+00, 0.000000e+00, 0.000000e+00,\n",
       "        0.000000e+00, 0.000000e+00, 0.000000e+00, 0.000000e+00,\n",
       "        0.000000e+00, 0.000000e+00, 0.000000e+00, 0.000000e+00,\n",
       "        0.000000e+00, 0.000000e+00, 0.000000e+00, 0.000000e+00,\n",
       "        0.000000e+00, 0.000000e+00, 0.000000e+00, 0.000000e+00,\n",
       "        0.000000e+00, 0.000000e+00, 0.000000e+00, 0.000000e+00,\n",
       "        0.000000e+00, 0.000000e+00, 0.000000e+00, 0.000000e+00,\n",
       "        0.000000e+00, 0.000000e+00, 0.000000e+00, 0.000000e+00,\n",
       "        0.000000e+00, 0.000000e+00, 0.000000e+00, 0.000000e+00,\n",
       "        0.000000e+00, 0.000000e+00, 0.000000e+00, 0.000000e+00,\n",
       "        0.000000e+00, 0.000000e+00, 0.000000e+00, 0.000000e+00,\n",
       "        0.000000e+00, 0.000000e+00, 0.000000e+00, 1.000000e+00,\n",
       "        0.000000e+00, 2.000000e+00, 4.000000e+00, 6.000000e+00,\n",
       "        2.000000e+00, 2.000000e+00, 6.000000e+00, 3.000000e+00,\n",
       "        2.000000e+00, 1.000000e+00, 1.000000e+00, 2.000000e+00,\n",
       "        2.000000e+00, 1.000000e+00, 4.000000e+00, 5.000000e+00,\n",
       "        7.000000e+00, 4.000000e+00, 4.000000e+00, 7.000000e+00,\n",
       "        5.000000e+00, 1.600000e+01, 1.400000e+01, 3.000000e+01,\n",
       "        1.600000e+01, 2.600000e+01, 4.000000e+01, 1.290000e+02,\n",
       "        2.420000e+02, 3.450000e+02, 6.810000e+02, 3.781907e+06]),\n",
       " array([-7.06418056e+04, -6.99353775e+04, -6.92289495e+04, -6.85225214e+04,\n",
       "        -6.78160934e+04, -6.71096653e+04, -6.64032372e+04, -6.56968092e+04,\n",
       "        -6.49903811e+04, -6.42839531e+04, -6.35775250e+04, -6.28710970e+04,\n",
       "        -6.21646689e+04, -6.14582409e+04, -6.07518128e+04, -6.00453847e+04,\n",
       "        -5.93389567e+04, -5.86325286e+04, -5.79261006e+04, -5.72196725e+04,\n",
       "        -5.65132445e+04, -5.58068164e+04, -5.51003883e+04, -5.43939603e+04,\n",
       "        -5.36875322e+04, -5.29811042e+04, -5.22746761e+04, -5.15682481e+04,\n",
       "        -5.08618200e+04, -5.01553920e+04, -4.94489639e+04, -4.87425358e+04,\n",
       "        -4.80361078e+04, -4.73296797e+04, -4.66232517e+04, -4.59168236e+04,\n",
       "        -4.52103956e+04, -4.45039675e+04, -4.37975395e+04, -4.30911114e+04,\n",
       "        -4.23846833e+04, -4.16782553e+04, -4.09718272e+04, -4.02653992e+04,\n",
       "        -3.95589711e+04, -3.88525431e+04, -3.81461150e+04, -3.74396870e+04,\n",
       "        -3.67332589e+04, -3.60268308e+04, -3.53204028e+04, -3.46139747e+04,\n",
       "        -3.39075467e+04, -3.32011186e+04, -3.24946906e+04, -3.17882625e+04,\n",
       "        -3.10818345e+04, -3.03754064e+04, -2.96689783e+04, -2.89625503e+04,\n",
       "        -2.82561222e+04, -2.75496942e+04, -2.68432661e+04, -2.61368381e+04,\n",
       "        -2.54304100e+04, -2.47239820e+04, -2.40175539e+04, -2.33111258e+04,\n",
       "        -2.26046978e+04, -2.18982697e+04, -2.11918417e+04, -2.04854136e+04,\n",
       "        -1.97789856e+04, -1.90725575e+04, -1.83661294e+04, -1.76597014e+04,\n",
       "        -1.69532733e+04, -1.62468453e+04, -1.55404172e+04, -1.48339892e+04,\n",
       "        -1.41275611e+04, -1.34211331e+04, -1.27147050e+04, -1.20082769e+04,\n",
       "        -1.13018489e+04, -1.05954208e+04, -9.88899278e+03, -9.18256472e+03,\n",
       "        -8.47613667e+03, -7.76970861e+03, -7.06328056e+03, -6.35685250e+03,\n",
       "        -5.65042445e+03, -4.94399639e+03, -4.23756833e+03, -3.53114028e+03,\n",
       "        -2.82471222e+03, -2.11828417e+03, -1.41185611e+03, -7.05428056e+02,\n",
       "         1.00000000e+00]),\n",
       " <BarContainer object of 100 artists>)"
      ]
     },
     "execution_count": 228,
     "metadata": {},
     "output_type": "execute_result"
    },
    {
     "data": {
      "image/png": "[encoded data removed]",
      "text/plain": [
       "<Figure size 432x288 with 1 Axes>"
      ]
     },
     "metadata": {
      "needs_background": "light"
     },
     "output_type": "display_data"
    }
   ],
   "source": [
    "fig, ax = plt.subplots()\n",
    "ax.hist(prop_diff, bins=100)"
   ]
  },
  {
   "cell_type": "markdown",
   "id": "392798cc",
   "metadata": {},
   "source": [
    "Import building footprints and join the data to them, then export these polygons."
   ]
  },
  {
   "cell_type": "code",
   "execution_count": 87,
   "id": "607a9a25",
   "metadata": {},
   "outputs": [],
   "source": [
    "#doesn't include jobs column only results columns\n",
    "#results_gdf = results_gdf.loc[ : , [col for col in results.columns if '_' in col or col == 'geometry']]"
   ]
  },
  {
   "cell_type": "code",
   "execution_count": 88,
   "id": "30eb0506",
   "metadata": {},
   "outputs": [],
   "source": [
    "buildings_foot = gpd.read_file(folder +\n",
    "    \"Data\\\\Colouring\\\\Building Footprints\\\\sydney_bf.shp\").to_crs(proj_crs)"
   ]
  },
  {
   "cell_type": "code",
   "execution_count": 58,
   "id": "8a76afaf",
   "metadata": {},
   "outputs": [],
   "source": [
    "buildings_foot = gpd.clip(buildings_foot, Greater_Sydney)"
   ]
  },
  {
   "cell_type": "code",
   "execution_count": 92,
   "id": "cb0cf386",
   "metadata": {},
   "outputs": [
    {
     "name": "stderr",
     "output_type": "stream",
     "text": [
      "C:\\Users\\z3258367\\Anaconda3\\envs\\ox\\lib\\site-packages\\geopandas\\io\\file.py:362: FutureWarning: pandas.Int64Index is deprecated and will be removed from pandas in a future version. Use pandas.Index with the appropriate dtype instead.\n",
      "  pd.Int64Index,\n"
     ]
    },
    {
     "ename": "KeyboardInterrupt",
     "evalue": "",
     "output_type": "error",
     "traceback": [
      "\u001b[1;31m---------------------------------------------------------------------------\u001b[0m",
      "\u001b[1;31mKeyboardInterrupt\u001b[0m                         Traceback (most recent call last)",
      "\u001b[1;32m<ipython-input-92-0925d5d2daad>\u001b[0m in \u001b[0;36m<module>\u001b[1;34m\u001b[0m\n\u001b[0;32m      2\u001b[0m \u001b[1;31m#buildings_foot = gpd.sjoin(buildings_foot, results_gdf, how='left', predicate='contains')\u001b[0m\u001b[1;33m\u001b[0m\u001b[1;33m\u001b[0m\u001b[1;33m\u001b[0m\u001b[0m\n\u001b[0;32m      3\u001b[0m \u001b[1;33m\u001b[0m\u001b[0m\n\u001b[1;32m----> 4\u001b[1;33m result_rounding(results_gdf).to_file(folder + \n\u001b[0m\u001b[0;32m      5\u001b[0m                        \"Walkability\\\\Other Cities\\\\Colouring data & results\\\\Sydney WalkTHERE results\\\\osmnx_5_results_010622_Sydney.gpkg\")\n",
      "\u001b[1;32m~\\Anaconda3\\envs\\ox\\lib\\site-packages\\geopandas\\geodataframe.py\u001b[0m in \u001b[0;36mto_file\u001b[1;34m(self, filename, driver, schema, index, **kwargs)\u001b[0m\n\u001b[0;32m   1112\u001b[0m         \u001b[1;32mfrom\u001b[0m \u001b[0mgeopandas\u001b[0m\u001b[1;33m.\u001b[0m\u001b[0mio\u001b[0m\u001b[1;33m.\u001b[0m\u001b[0mfile\u001b[0m \u001b[1;32mimport\u001b[0m \u001b[0m_to_file\u001b[0m\u001b[1;33m\u001b[0m\u001b[1;33m\u001b[0m\u001b[0m\n\u001b[0;32m   1113\u001b[0m \u001b[1;33m\u001b[0m\u001b[0m\n\u001b[1;32m-> 1114\u001b[1;33m         \u001b[0m_to_file\u001b[0m\u001b[1;33m(\u001b[0m\u001b[0mself\u001b[0m\u001b[1;33m,\u001b[0m \u001b[0mfilename\u001b[0m\u001b[1;33m,\u001b[0m \u001b[0mdriver\u001b[0m\u001b[1;33m,\u001b[0m \u001b[0mschema\u001b[0m\u001b[1;33m,\u001b[0m \u001b[0mindex\u001b[0m\u001b[1;33m,\u001b[0m \u001b[1;33m**\u001b[0m\u001b[0mkwargs\u001b[0m\u001b[1;33m)\u001b[0m\u001b[1;33m\u001b[0m\u001b[1;33m\u001b[0m\u001b[0m\n\u001b[0m\u001b[0;32m   1115\u001b[0m \u001b[1;33m\u001b[0m\u001b[0m\n\u001b[0;32m   1116\u001b[0m     \u001b[1;32mdef\u001b[0m \u001b[0mset_crs\u001b[0m\u001b[1;33m(\u001b[0m\u001b[0mself\u001b[0m\u001b[1;33m,\u001b[0m \u001b[0mcrs\u001b[0m\u001b[1;33m=\u001b[0m\u001b[1;32mNone\u001b[0m\u001b[1;33m,\u001b[0m \u001b[0mepsg\u001b[0m\u001b[1;33m=\u001b[0m\u001b[1;32mNone\u001b[0m\u001b[1;33m,\u001b[0m \u001b[0minplace\u001b[0m\u001b[1;33m=\u001b[0m\u001b[1;32mFalse\u001b[0m\u001b[1;33m,\u001b[0m \u001b[0mallow_override\u001b[0m\u001b[1;33m=\u001b[0m\u001b[1;32mFalse\u001b[0m\u001b[1;33m)\u001b[0m\u001b[1;33m:\u001b[0m\u001b[1;33m\u001b[0m\u001b[1;33m\u001b[0m\u001b[0m\n",
      "\u001b[1;32m~\\Anaconda3\\envs\\ox\\lib\\site-packages\\geopandas\\io\\file.py\u001b[0m in \u001b[0;36m_to_file\u001b[1;34m(df, filename, driver, schema, index, mode, crs, **kwargs)\u001b[0m\n\u001b[0;32m    394\u001b[0m             \u001b[0mfilename\u001b[0m\u001b[1;33m,\u001b[0m \u001b[0mmode\u001b[0m\u001b[1;33m=\u001b[0m\u001b[0mmode\u001b[0m\u001b[1;33m,\u001b[0m \u001b[0mdriver\u001b[0m\u001b[1;33m=\u001b[0m\u001b[0mdriver\u001b[0m\u001b[1;33m,\u001b[0m \u001b[0mcrs_wkt\u001b[0m\u001b[1;33m=\u001b[0m\u001b[0mcrs_wkt\u001b[0m\u001b[1;33m,\u001b[0m \u001b[0mschema\u001b[0m\u001b[1;33m=\u001b[0m\u001b[0mschema\u001b[0m\u001b[1;33m,\u001b[0m \u001b[1;33m**\u001b[0m\u001b[0mkwargs\u001b[0m\u001b[1;33m\u001b[0m\u001b[1;33m\u001b[0m\u001b[0m\n\u001b[0;32m    395\u001b[0m         ) as colxn:\n\u001b[1;32m--> 396\u001b[1;33m             \u001b[0mcolxn\u001b[0m\u001b[1;33m.\u001b[0m\u001b[0mwriterecords\u001b[0m\u001b[1;33m(\u001b[0m\u001b[0mdf\u001b[0m\u001b[1;33m.\u001b[0m\u001b[0miterfeatures\u001b[0m\u001b[1;33m(\u001b[0m\u001b[1;33m)\u001b[0m\u001b[1;33m)\u001b[0m\u001b[1;33m\u001b[0m\u001b[1;33m\u001b[0m\u001b[0m\n\u001b[0m\u001b[0;32m    397\u001b[0m \u001b[1;33m\u001b[0m\u001b[0m\n\u001b[0;32m    398\u001b[0m \u001b[1;33m\u001b[0m\u001b[0m\n",
      "\u001b[1;32m~\\Anaconda3\\envs\\ox\\lib\\site-packages\\fiona\\collection.py\u001b[0m in \u001b[0;36mwriterecords\u001b[1;34m(self, records)\u001b[0m\n\u001b[0;32m    359\u001b[0m         \u001b[1;32mif\u001b[0m \u001b[0mself\u001b[0m\u001b[1;33m.\u001b[0m\u001b[0mmode\u001b[0m \u001b[1;32mnot\u001b[0m \u001b[1;32min\u001b[0m \u001b[1;33m(\u001b[0m\u001b[1;34m'a'\u001b[0m\u001b[1;33m,\u001b[0m \u001b[1;34m'w'\u001b[0m\u001b[1;33m)\u001b[0m\u001b[1;33m:\u001b[0m\u001b[1;33m\u001b[0m\u001b[1;33m\u001b[0m\u001b[0m\n\u001b[0;32m    360\u001b[0m             \u001b[1;32mraise\u001b[0m \u001b[0mIOError\u001b[0m\u001b[1;33m(\u001b[0m\u001b[1;34m\"collection not open for writing\"\u001b[0m\u001b[1;33m)\u001b[0m\u001b[1;33m\u001b[0m\u001b[1;33m\u001b[0m\u001b[0m\n\u001b[1;32m--> 361\u001b[1;33m         \u001b[0mself\u001b[0m\u001b[1;33m.\u001b[0m\u001b[0msession\u001b[0m\u001b[1;33m.\u001b[0m\u001b[0mwriterecs\u001b[0m\u001b[1;33m(\u001b[0m\u001b[0mrecords\u001b[0m\u001b[1;33m,\u001b[0m \u001b[0mself\u001b[0m\u001b[1;33m)\u001b[0m\u001b[1;33m\u001b[0m\u001b[1;33m\u001b[0m\u001b[0m\n\u001b[0m\u001b[0;32m    362\u001b[0m         \u001b[0mself\u001b[0m\u001b[1;33m.\u001b[0m\u001b[0m_len\u001b[0m \u001b[1;33m=\u001b[0m \u001b[0mself\u001b[0m\u001b[1;33m.\u001b[0m\u001b[0msession\u001b[0m\u001b[1;33m.\u001b[0m\u001b[0mget_length\u001b[0m\u001b[1;33m(\u001b[0m\u001b[1;33m)\u001b[0m\u001b[1;33m\u001b[0m\u001b[1;33m\u001b[0m\u001b[0m\n\u001b[0;32m    363\u001b[0m         \u001b[0mself\u001b[0m\u001b[1;33m.\u001b[0m\u001b[0m_bounds\u001b[0m \u001b[1;33m=\u001b[0m \u001b[1;32mNone\u001b[0m\u001b[1;33m\u001b[0m\u001b[1;33m\u001b[0m\u001b[0m\n",
      "\u001b[1;32mfiona\\ogrext.pyx\u001b[0m in \u001b[0;36mfiona.ogrext.WritingSession.writerecs\u001b[1;34m()\u001b[0m\n",
      "\u001b[1;32mfiona\\ogrext.pyx\u001b[0m in \u001b[0;36mfiona.ogrext.OGRFeatureBuilder.build\u001b[1;34m()\u001b[0m\n",
      "\u001b[1;32m~\\Anaconda3\\envs\\ox\\lib\\logging\\__init__.py\u001b[0m in \u001b[0;36mdebug\u001b[1;34m(self, msg, *args, **kwargs)\u001b[0m\n\u001b[0;32m   1431\u001b[0m         \u001b[0mlogger\u001b[0m\u001b[1;33m.\u001b[0m\u001b[0mdebug\u001b[0m\u001b[1;33m(\u001b[0m\u001b[1;34m\"Houston, we have a %s\"\u001b[0m\u001b[1;33m,\u001b[0m \u001b[1;34m\"thorny problem\"\u001b[0m\u001b[1;33m,\u001b[0m \u001b[0mexc_info\u001b[0m\u001b[1;33m=\u001b[0m\u001b[1;36m1\u001b[0m\u001b[1;33m)\u001b[0m\u001b[1;33m\u001b[0m\u001b[1;33m\u001b[0m\u001b[0m\n\u001b[0;32m   1432\u001b[0m         \"\"\"\n\u001b[1;32m-> 1433\u001b[1;33m         \u001b[1;32mif\u001b[0m \u001b[0mself\u001b[0m\u001b[1;33m.\u001b[0m\u001b[0misEnabledFor\u001b[0m\u001b[1;33m(\u001b[0m\u001b[0mDEBUG\u001b[0m\u001b[1;33m)\u001b[0m\u001b[1;33m:\u001b[0m\u001b[1;33m\u001b[0m\u001b[1;33m\u001b[0m\u001b[0m\n\u001b[0m\u001b[0;32m   1434\u001b[0m             \u001b[0mself\u001b[0m\u001b[1;33m.\u001b[0m\u001b[0m_log\u001b[0m\u001b[1;33m(\u001b[0m\u001b[0mDEBUG\u001b[0m\u001b[1;33m,\u001b[0m \u001b[0mmsg\u001b[0m\u001b[1;33m,\u001b[0m \u001b[0margs\u001b[0m\u001b[1;33m,\u001b[0m \u001b[1;33m**\u001b[0m\u001b[0mkwargs\u001b[0m\u001b[1;33m)\u001b[0m\u001b[1;33m\u001b[0m\u001b[1;33m\u001b[0m\u001b[0m\n\u001b[0;32m   1435\u001b[0m \u001b[1;33m\u001b[0m\u001b[0m\n",
      "\u001b[1;31mKeyboardInterrupt\u001b[0m: "
     ]
    }
   ],
   "source": [
    "# join to data\n",
    "#buildings_foot = gpd.sjoin(buildings_foot, results_gdf, how='left', predicate='contains')\n",
    "\n",
    "result_rounding(results_gdf).to_file(folder + \n",
    "                       \"Walkability\\\\Other Cities\\\\Colouring data & results\\\\Sydney WalkTHERE results\\\\osmnx_5_results_010622_Sydney.gpkg\")"
   ]
  },
  {
   "cell_type": "markdown",
   "id": "ebfde34d",
   "metadata": {},
   "source": [
    "#### Rerun with old network and 5 categories"
   ]
  },
  {
   "cell_type": "code",
   "execution_count": 151,
   "id": "b9a39c08",
   "metadata": {},
   "outputs": [
    {
     "name": "stderr",
     "output_type": "stream",
     "text": [
      "<ipython-input-151-2d9bbc0f6500>:2: DtypeWarning: Columns (2,4,5,7,9,13,14,19,21) have mixed types. Specify dtype option on import or set low_memory=False.\n",
      "  edges_df = pd.read_csv(folder + \"Walkability//Other Cities//Colouring data & results//Sydney data//Data//colouring_edges_150322.csv\")\n",
      "<ipython-input-151-2d9bbc0f6500>:3: DtypeWarning: Columns (6,11,12) have mixed types. Specify dtype option on import or set low_memory=False.\n",
      "  nodes_df = pd.read_csv(folder + \"Walkability//Other Cities//Colouring data & results//Sydney data//Data//colouring_nodes_150322.csv\")\n"
     ]
    }
   ],
   "source": [
    "# reading directly with geopandas.read_file crashes on my computer so I read into pandas then convert to gdf instead\n",
    "edges_df = pd.read_csv(folder + \"Walkability//Other Cities//Colouring data & results//Sydney data//Data//colouring_edges_150322.csv\")\n",
    "nodes_df = pd.read_csv(folder + \"Walkability//Other Cities//Colouring data & results//Sydney data//Data//colouring_nodes_150322.csv\")\n",
    "edges = gpd.GeoDataFrame(edges_df, \n",
    "                         geometry=gpd.GeoSeries.from_wkt(edges_df['geometry'])).set_crs(proj_crs)\n",
    "nodes = gpd.GeoDataFrame(nodes_df, \n",
    "                         geometry=gpd.GeoSeries.from_wkt(nodes_df['geometry'])).set_crs(proj_crs)\n",
    "edges = edges.to_crs(proj_crs)\n",
    "nodes = nodes.to_crs(proj_crs)"
   ]
  },
  {
   "cell_type": "code",
   "execution_count": 156,
   "id": "667e20d0",
   "metadata": {},
   "outputs": [],
   "source": [
    "nodes.set_index('connect_id',inplace=True)\n",
    "\n",
    "edges['from_idx'] = edges['from']\n",
    "edges['to_idx'] = edges['to']\n",
    "edges= edges.set_index(['from_idx', 'to_idx'])\n",
    "edges.index.names= ['from_idx','to_idx']"
   ]
  },
  {
   "cell_type": "code",
   "execution_count": 218,
   "id": "250899cb",
   "metadata": {},
   "outputs": [],
   "source": [
    "distance_network = pdna.Network(nodes.geometry.x, nodes.geometry.y,\n",
    "                                   edges['from'], edges['to'], \n",
    "                                   edges[['length']])\n",
    "\n",
    "maximum_dist = 2400"
   ]
  },
  {
   "cell_type": "code",
   "execution_count": 219,
   "id": "329f27bc",
   "metadata": {},
   "outputs": [
    {
     "name": "stderr",
     "output_type": "stream",
     "text": [
      "C:\\Users\\z3258367\\Anaconda3\\envs\\ox\\lib\\site-packages\\pandana\\network.py:660: FutureWarning: The default dtype for empty Series will be 'object' instead of 'float64' in a future version. Specify a dtype explicitly to silence this warning.\n",
      "  elif isinstance(maxitems, type(pd.Series())):\n",
      "C:\\Users\\z3258367\\Anaconda3\\envs\\ox\\lib\\site-packages\\pandana\\network.py:668: FutureWarning: The default dtype for empty Series will be 'object' instead of 'float64' in a future version. Specify a dtype explicitly to silence this warning.\n",
      "  elif isinstance(maxdist, type(pd.Series())):\n"
     ]
    },
    {
     "name": "stdout",
     "output_type": "stream",
     "text": [
      "Finished category: employment\n",
      "Maximum score: 28.930577233122747\n"
     ]
    },
    {
     "name": "stderr",
     "output_type": "stream",
     "text": [
      "C:\\Users\\z3258367\\Anaconda3\\envs\\ox\\lib\\site-packages\\pandana\\network.py:660: FutureWarning: The default dtype for empty Series will be 'object' instead of 'float64' in a future version. Specify a dtype explicitly to silence this warning.\n",
      "  elif isinstance(maxitems, type(pd.Series())):\n",
      "C:\\Users\\z3258367\\Anaconda3\\envs\\ox\\lib\\site-packages\\pandana\\network.py:668: FutureWarning: The default dtype for empty Series will be 'object' instead of 'float64' in a future version. Specify a dtype explicitly to silence this warning.\n",
      "  elif isinstance(maxdist, type(pd.Series())):\n"
     ]
    },
    {
     "name": "stdout",
     "output_type": "stream",
     "text": [
      "Finished category: education\n",
      "Maximum score: 13.942807699826918\n"
     ]
    },
    {
     "name": "stderr",
     "output_type": "stream",
     "text": [
      "C:\\Users\\z3258367\\Anaconda3\\envs\\ox\\lib\\site-packages\\pandana\\network.py:660: FutureWarning: The default dtype for empty Series will be 'object' instead of 'float64' in a future version. Specify a dtype explicitly to silence this warning.\n",
      "  elif isinstance(maxitems, type(pd.Series())):\n",
      "C:\\Users\\z3258367\\Anaconda3\\envs\\ox\\lib\\site-packages\\pandana\\network.py:668: FutureWarning: The default dtype for empty Series will be 'object' instead of 'float64' in a future version. Specify a dtype explicitly to silence this warning.\n",
      "  elif isinstance(maxdist, type(pd.Series())):\n"
     ]
    },
    {
     "name": "stdout",
     "output_type": "stream",
     "text": [
      "Finished category: shopping\n",
      "Maximum score: 21.172511650964122\n"
     ]
    },
    {
     "name": "stderr",
     "output_type": "stream",
     "text": [
      "C:\\Users\\z3258367\\Anaconda3\\envs\\ox\\lib\\site-packages\\pandana\\network.py:660: FutureWarning: The default dtype for empty Series will be 'object' instead of 'float64' in a future version. Specify a dtype explicitly to silence this warning.\n",
      "  elif isinstance(maxitems, type(pd.Series())):\n",
      "C:\\Users\\z3258367\\Anaconda3\\envs\\ox\\lib\\site-packages\\pandana\\network.py:668: FutureWarning: The default dtype for empty Series will be 'object' instead of 'float64' in a future version. Specify a dtype explicitly to silence this warning.\n",
      "  elif isinstance(maxdist, type(pd.Series())):\n"
     ]
    },
    {
     "name": "stdout",
     "output_type": "stream",
     "text": [
      "Finished category: errands\n",
      "Maximum score: 8.69682978954628\n"
     ]
    },
    {
     "name": "stderr",
     "output_type": "stream",
     "text": [
      "C:\\Users\\z3258367\\Anaconda3\\envs\\ox\\lib\\site-packages\\pandana\\network.py:660: FutureWarning: The default dtype for empty Series will be 'object' instead of 'float64' in a future version. Specify a dtype explicitly to silence this warning.\n",
      "  elif isinstance(maxitems, type(pd.Series())):\n",
      "C:\\Users\\z3258367\\Anaconda3\\envs\\ox\\lib\\site-packages\\pandana\\network.py:668: FutureWarning: The default dtype for empty Series will be 'object' instead of 'float64' in a future version. Specify a dtype explicitly to silence this warning.\n",
      "  elif isinstance(maxdist, type(pd.Series())):\n"
     ]
    },
    {
     "name": "stdout",
     "output_type": "stream",
     "text": [
      "Finished category: recreation\n",
      "Maximum score: 23.1631145425435\n"
     ]
    }
   ],
   "source": [
    "old_net_results = walk_index_full(distance_network, pois, poi_categories, poi_weights, poi_gammas,\n",
    "                            poi_nums, poi_lambdas, poi_variables, distance=maximum_dist)  "
   ]
  },
  {
   "cell_type": "code",
   "execution_count": 220,
   "id": "951762f2",
   "metadata": {},
   "outputs": [
    {
     "data": {
      "text/plain": [
       "25.801200285967"
      ]
     },
     "execution_count": 220,
     "metadata": {},
     "output_type": "execute_result"
    }
   ],
   "source": [
    "np.mean(old_net_results['Walk_Index'])"
   ]
  },
  {
   "cell_type": "code",
   "execution_count": 221,
   "id": "c31a64f9",
   "metadata": {},
   "outputs": [
    {
     "data": {
      "text/plain": [
       "87.794845936595"
      ]
     },
     "execution_count": 221,
     "metadata": {},
     "output_type": "execute_result"
    }
   ],
   "source": [
    "max(old_net_results['Walk_Index'])"
   ]
  },
  {
   "cell_type": "code",
   "execution_count": 235,
   "id": "f7da88fb",
   "metadata": {},
   "outputs": [],
   "source": [
    "old_results_gdf.to_file((folder + \"Walkability//Other Cities//Colouring data & results//Sydney data//old_net_5_110622.gpkg\"))"
   ]
  },
  {
   "cell_type": "code",
   "execution_count": 237,
   "id": "4fff5e82",
   "metadata": {},
   "outputs": [],
   "source": [
    "result_rounding(old_results_gdf).to_file((folder + \"Walkability//Other Cities//Colouring data & results//Sydney data//old_net_5_100622.gpkg\"))"
   ]
  }
 ],
 "metadata": {
  "kernelspec": {
   "display_name": "Python 3",
   "language": "python",
   "name": "python3"
  },
  "language_info": {
   "codemirror_mode": {
    "name": "ipython",
    "version": 3
   },
   "file_extension": ".py",
   "mimetype": "text/x-python",
   "name": "python",
   "nbconvert_exporter": "python",
   "pygments_lexer": "ipython3",
   "version": "3.8.13"
  }
 },
 "nbformat": 4,
 "nbformat_minor": 5
}
