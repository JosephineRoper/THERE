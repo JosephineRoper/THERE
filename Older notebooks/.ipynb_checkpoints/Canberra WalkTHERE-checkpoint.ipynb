{
 "cells": [
  {
   "cell_type": "code",
   "execution_count": 2,
   "id": "5427baeb",
   "metadata": {},
   "outputs": [],
   "source": [
    "%load_ext autoreload\n",
    "%autoreload 2"
   ]
  },
  {
   "cell_type": "code",
   "execution_count": 115,
   "id": "2c6e251a",
   "metadata": {},
   "outputs": [],
   "source": [
    "import numpy as np\n",
    "import pandana as pdna\n",
    "import geopandas as gpd\n",
    "import pandas as pd\n",
    "import math\n",
    "import networkx as nx\n",
    "import sys\n",
    "import matplotlib.pyplot as plt\n",
    "# adding functions \n",
    "sys.path.insert(0, 'C:\\\\Users\\\\z3258367\\\\OneDrive - UNSW\\\\#PhD\\\\Walkability\\\\Other Cities\\\\Open-Walk-Index')\n",
    "from walkability_functions import *"
   ]
  },
  {
   "cell_type": "markdown",
   "id": "0ee150b9",
   "metadata": {},
   "source": [
    "Choose a projected CRS to be used for all distance calculations."
   ]
  },
  {
   "cell_type": "code",
   "execution_count": 4,
   "id": "0dc18490",
   "metadata": {},
   "outputs": [],
   "source": [
    "proj_crs = \"EPSG:7855\""
   ]
  },
  {
   "cell_type": "markdown",
   "id": "6dc208e1",
   "metadata": {},
   "source": [
    "## Import Data\n",
    "\n",
    "Data sources:\n",
    "1. Shape of Greater Sydney - used to clip points\n",
    "2. Points of interest from OSM - using Geofabriks shapefiles as the source\n",
    "3. Transport for NSW public transport stops\n",
    "4. Spatial Services NSW for additional POIs\n",
    "5. Employment data - processed from ABS originally"
   ]
  },
  {
   "cell_type": "code",
   "execution_count": 6,
   "id": "c4f527da",
   "metadata": {},
   "outputs": [],
   "source": [
    "folder = \"C:\\\\Users\\\\z3258367\\\\OneDrive - UNSW\\\\#PhD\\\\\"\n",
    "Greater_Adelaide = gpd.read_file((folder + \n",
    "    \"Walkability\\\\Other Cities\\\\Colouring data & results\\\\Adelaide Data\\\\Adelaide GCCSA.gpkg\")\n",
    "    ).to_crs(proj_crs)"
   ]
  },
  {
   "cell_type": "code",
   "execution_count": 7,
   "id": "5b30448f",
   "metadata": {},
   "outputs": [],
   "source": [
    "osm_poi_points = gpd.read_file(''.join((folder, \n",
    "    \"Walkability\\\\Other Cities\\\\Colouring data & results\\\\Adelaide Data\\\\Adelaide OSM POI points.gpkg\")))\n",
    "osm_poi_areas = gpd.read_file(folder + \n",
    "    \"Walkability\\\\Other Cities\\\\Colouring data & results\\\\Adelaide Data\\\\Adelaide OSM POI area centroids.gpkg\")\n",
    "osm_transport_points = gpd.read_file(folder +\n",
    "    \"Walkability\\\\Other Cities\\\\Colouring data & results\\\\Adelaide Data\\\\Adelaide OSM transport points.gpkg\")\n",
    "osm_transport_areas =  gpd.read_file(folder +\n",
    "    \"Walkability\\\\Other Cities\\\\Colouring data & results\\\\Adelaide Data\\\\Adelaide OSM transport areas.gpkg\")\n",
    "osm_pow_points = gpd.read_file(folder + \n",
    "    \"Data\\\\OSM-australia-latest-free\\\\gis_osm_pofw_free_1.shp\")\n",
    "osm_pow_areas = gpd.read_file(folder + \n",
    "    \"Data\\\\OSM-australia-latest-free\\\\gis_osm_pofw_a_free_1.shp\")\n",
    "osm_natural = gpd.read_file(folder + \n",
    "    \"Data\\\\OSM-australia-latest-free\\\\gis_osm_natural_a_free_1.shp\")\n",
    "osm_govt_points = gpd.read_file(folder + \n",
    "    \"Walkability\\\\Other Cities\\\\Colouring data & results\\\\Shared Aus Data\\\\OSM government offices.gpkg\",\n",
    "                             layer = \"OSM government offices points\").to_crs(osm_natural.crs)\n",
    "osm_govt_points['fclass'] = 'government'\n",
    "osm_govt_areas = gpd.read_file(folder + \n",
    "    \"Walkability\\\\Other Cities\\\\Colouring data & results\\\\Shared Aus Data\\\\OSM government offices.gpkg\",\n",
    "                             layer = \"OSM government offices areas\").to_crs(osm_natural.crs)\n",
    "osm_govt_areas['fclass'] = 'government'\n",
    "\n",
    "# the OSM POIs includes domestic swimming pools in some suburbs. This line removes swimming pools less than 100m2.\n",
    "# Same for domestic tennis courts appearing as 'pitches'. Removed pitches below 450m2.\n",
    "osm_poi_areas = osm_poi_areas[~((osm_poi_areas['fclass']=='swimming_pool') & (osm_poi_areas.to_crs(proj_crs).area < 100))]\n",
    "osm_poi_areas = osm_poi_areas[~((osm_poi_areas['fclass']=='pitch') & (osm_poi_areas.to_crs(proj_crs).area < 450))]"
   ]
  },
  {
   "cell_type": "code",
   "execution_count": 8,
   "id": "06524e14",
   "metadata": {},
   "outputs": [],
   "source": [
    "metro = gpd.read_file(folder + \"Walkability\\\\Other Cities\\\\Colouring data & results\\\\Adelaide Data\\\\unique_stops_types.csv\")\n",
    "metro.geometry = gpd.points_from_xy(metro['stop_lon'], metro['stop_lat'])\n",
    "metro.crs = \"EPSG:7843\"\n",
    "metro = metro.to_crs(proj_crs)"
   ]
  },
  {
   "cell_type": "code",
   "execution_count": 9,
   "id": "fa0b7eea",
   "metadata": {},
   "outputs": [],
   "source": [
    "employment_centrs = gpd.read_file((folder + \n",
    "                        \"Walkability\\\\Other Cities\\\\Colouring data & results\\\\Adelaide Data\\\\SA Employment Points.gpkg\"),\n",
    "                                  ).to_crs(proj_crs)\n",
    "\n",
    "employment_centrs['category'] = 'employment'"
   ]
  },
  {
   "cell_type": "markdown",
   "id": "636647db",
   "metadata": {},
   "source": [
    "Convert polygonal datasets to points and any multipart datasets to single part."
   ]
  },
  {
   "cell_type": "code",
   "execution_count": 14,
   "id": "763e8027",
   "metadata": {},
   "outputs": [],
   "source": [
    "osm_pois_2 = single_points(osm_poi_areas)\n",
    "osm_transport_2 = single_points(osm_transport_areas)\n",
    "osm_pow_2 = single_points(osm_pow_areas)\n",
    "osm_natural_2 = single_points(osm_natural)\n",
    "osm_govt_2 = single_points(osm_govt_areas)\n",
    "\n",
    "osm_df = pd.concat([osm_poi_points, osm_pois_2, osm_transport_points, osm_govt_points,\n",
    "                    osm_transport_2, osm_pow_points, osm_pow_2, osm_natural_2, osm_govt_2]).to_crs(proj_crs)\n",
    "\n",
    "osm_df = osm_df.iloc[:,0:5]"
   ]
  },
  {
   "cell_type": "markdown",
   "id": "c456dd5a",
   "metadata": {},
   "source": [
    "### Residential population"
   ]
  },
  {
   "cell_type": "code",
   "execution_count": 15,
   "id": "a3df8ea7",
   "metadata": {},
   "outputs": [],
   "source": [
    "meshblocks = pd.read_csv(''.join(folder + \"Data\\\\ABS Data\\\\2016 census mesh block counts.csv\"))\n",
    "mb_shapes = gpd.read_file(''.join(folder + \"Data\\\\ABS Data\\\\2016_SA_MBs\\\\MB_2016_SA.shp\"))"
   ]
  },
  {
   "cell_type": "code",
   "execution_count": 16,
   "id": "e2a45995",
   "metadata": {},
   "outputs": [],
   "source": [
    "mb_shapes['MB_CODE16'] = mb_shapes['MB_CODE16'].astype('int64')\n",
    "\n",
    "pop_mbs = mb_shapes.join(meshblocks.set_index('MB_CODE_2016'), on='MB_CODE16', how='inner', rsuffix='_2')\n",
    "pop_mbs['geometry'] = pop_mbs['geometry'].to_crs(proj_crs).centroid\n",
    "\n",
    "pop_pois = pop_mbs[(pop_mbs['Person'] > 0) & ~(pop_mbs['geometry'].isnull())][\n",
    "    ['MB_CODE16', 'MB_CATEGORY_NAME_2016', 'AREA_ALBERS_SQKM', 'Person','geometry']]\n",
    "pop_pois['fclass'] = 'residential'"
   ]
  },
  {
   "cell_type": "markdown",
   "id": "96944dbd",
   "metadata": {},
   "source": [
    "### Categorise and weight POIs"
   ]
  },
  {
   "cell_type": "markdown",
   "id": "94b0c568",
   "metadata": {},
   "source": [
    "Choose walk index weightings, and output the sums of each category and the total to check. The walk index will be out of 100 regardless of this sum, but it is important to note that eg. shopping is only '10% of the walk index' if shopping is 10 out of 100."
   ]
  },
  {
   "cell_type": "code",
   "execution_count": 17,
   "id": "8a4b9a72",
   "metadata": {},
   "outputs": [],
   "source": [
    "poi_parameters = pd.read_csv((folder + \n",
    "                              \"Walkability\\\\Other Cities\\\\Colouring data & results\\\\Shared Aus Data\\\\poi_parameters.csv\"),\n",
    "                            index_col=0)"
   ]
  },
  {
   "cell_type": "code",
   "execution_count": 166,
   "id": "2d7552c9",
   "metadata": {},
   "outputs": [],
   "source": [
    "poi_weights = poi_parameters['weight']\n",
    "\n",
    "poi_lambdas = poi_parameters['diminishing_returns_constant']\n",
    "\n",
    "poi_variables = poi_parameters['variable']\n",
    "\n",
    "poi_nums = poi_parameters['num_pois']\n",
    "\n",
    "poi_gammas = poi_parameters['distance_constant']"
   ]
  },
  {
   "cell_type": "code",
   "execution_count": 19,
   "id": "b7f4b63d",
   "metadata": {},
   "outputs": [
    {
     "name": "stdout",
     "output_type": "stream",
     "text": [
      "total:  100.3\n"
     ]
    }
   ],
   "source": [
    "total = sum(poi_weights)\n",
    "print(\"total: \", total)"
   ]
  },
  {
   "cell_type": "code",
   "execution_count": 87,
   "id": "408cc2bc",
   "metadata": {
    "scrolled": true
   },
   "outputs": [
    {
     "name": "stderr",
     "output_type": "stream",
     "text": [
      "<ipython-input-87-21f8a776e2bb>:1: SettingWithCopyWarning: \n",
      "A value is trying to be set on a copy of a slice from a DataFrame\n",
      "\n",
      "See the caveats in the documentation: https://pandas.pydata.org/pandas-docs/stable/user_guide/indexing.html#returning-a-view-versus-a-copy\n",
      "  poi_variables['employment'] = 'MB Job Count'\n"
     ]
    }
   ],
   "source": [
    "poi_variables['employment'] = 'MB Job Count'"
   ]
  },
  {
   "cell_type": "code",
   "execution_count": 42,
   "id": "45aca541",
   "metadata": {
    "scrolled": true
   },
   "outputs": [
    {
     "name": "stderr",
     "output_type": "stream",
     "text": [
      "<ipython-input-42-480265ef25f5>:1: SettingWithCopyWarning: \n",
      "A value is trying to be set on a copy of a slice from a DataFrame\n",
      "\n",
      "See the caveats in the documentation: https://pandas.pydata.org/pandas-docs/stable/user_guide/indexing.html#returning-a-view-versus-a-copy\n",
      "  poi_lambdas['employment'] = 0.00001653\n"
     ]
    }
   ],
   "source": [
    "poi_lambdas['employment'] = 0.00001653"
   ]
  },
  {
   "cell_type": "code",
   "execution_count": 20,
   "id": "6904fec6",
   "metadata": {},
   "outputs": [
    {
     "name": "stderr",
     "output_type": "stream",
     "text": [
      "C:\\Users\\z3258367\\Anaconda3\\envs\\ox\\lib\\site-packages\\pandas\\core\\indexing.py:1732: SettingWithCopyWarning: \n",
      "A value is trying to be set on a copy of a slice from a DataFrame\n",
      "\n",
      "See the caveats in the documentation: https://pandas.pydata.org/pandas-docs/stable/user_guide/indexing.html#returning-a-view-versus-a-copy\n",
      "  self._setitem_single_block(indexer, value, name)\n"
     ]
    }
   ],
   "source": [
    "# manually changing because too large\n",
    "poi_nums.loc['employment'] = 100\n",
    "poi_nums.loc['visiting'] = 100"
   ]
  },
  {
   "cell_type": "markdown",
   "id": "9f38e444",
   "metadata": {},
   "source": [
    "Categorise POI data - change classes depending on your analysis and your data sources.\n",
    "The purpose of the 'categorise_pois' function now is just to align the different sources of information so that their tags are in the same column, eg 'category'. It does not add a category column, because one tag can belong to multiple categories."
   ]
  },
  {
   "cell_type": "code",
   "execution_count": 160,
   "id": "483b4ae7",
   "metadata": {},
   "outputs": [
    {
     "name": "stdout",
     "output_type": "stream",
     "text": [
      "Some tags are present in the dataset but not in the category dictionary.POIs with these tags have been removed:\n",
      "['monument' 'camera_surveillance' 'hotel' 'town_hall' 'toilet' 'police'\n",
      " 'motel' 'car_wash' 'drinking_water' 'telephone' 'memorial' 'guesthouse'\n",
      " 'tourist_info' 'comms_tower' 'camp_site' 'picnic_site' 'car_rental'\n",
      " 'water_tower' 'recycling_glass' 'bench' 'caravan_site' 'bicycle_rental'\n",
      " 'fire_station' 'shelter' 'hostel' 'fountain' 'recycling' 'waste_basket'\n",
      " 'tower' 'prison' 'vending_machine' 'chalet' 'vending_any'\n",
      " 'recycling_paper' 'observation_tower' 'embassy' 'vending_parking'\n",
      " 'windmill' 'public_building' 'water_works' 'nursing_home' 'fort'\n",
      " 'wastewater_plant' 'lighthouse' 'water_well' 'tram_stop' 'bus_station'\n",
      " 'bus_stop' 'railway_station' 'taxi' 'railway_halt' 'cliff' 'spring'\n",
      " 'peak' 'glacier' 'tree' 'cave_entrance']\n",
      "Some tags are present in the dataset but not in the category dictionary.POIs with these tags have been removed:\n",
      "[]\n"
     ]
    }
   ],
   "source": [
    "poi_categories = {'employment':['employment'],\n",
    "                  'daily needs' : ['supermarket', 'greengrocer','butcher','convenience',\n",
    "                                   'kiosk', 'beverages', 'alcohol', 'bakery', ],\n",
    "                  'other goods' : [\"shopping centre\", 'mall', 'bicycle_shop', 'clothes', 'department_store', \n",
    "                                   'doityourself', 'beauty_shop', 'outdoor_shop', \n",
    "                                   'stationery', 'bookshop', 'gift_shop', 'newsagent', \n",
    "                                   'car_dealership', 'furniture_shop', 'sports_shop',\n",
    "                                   'garden_centre', 'computer_shop', 'shoe_shop', 'florist', \n",
    "                                   'video_shop', 'toy_shop', 'mobile_phone_shop', 'jeweller'],\n",
    "                  'services': ['hairdresser', 'optician', 'travel_agent','laundry', 'veterinary', ],                 \n",
    "                  'medical': [\"health centre\",'chemist', 'pharmacy','doctors', 'dentist','hospital',],                  \n",
    "                  'errands' : [\"post office\",'post_box', 'post_office', 'bank', 'atm',\n",
    "                               'courthouse', 'government' ], \n",
    "                  'education' : [\"childcare\", 'college', 'school', 'kindergarten', 'university'],\n",
    "                  'visiting' : ['residential'],\n",
    "                  'cultural' : [\"art gallery\", \"outdoor theater\", 'arts_centre', 'theatre', 'artwork',\n",
    "                                'library','archaeological', 'cinema', 'museum', 'ruins',],\n",
    "                  'events' : ['stadium', 'marketplace', 'community_centre', 'library',],\n",
    "                  'sports' : [\"sports centre\", \"sports field\", \"swimming pool\", \"golf course\", \n",
    "                              'ice_rink','pitch', 'swimming_pool', 'sports_centre', \n",
    "                              'golf_course', 'track',],\n",
    "                  'further education' : ['community_centre', 'library','college'],\n",
    "                  'restaurants' : ['restaurant', 'pub', 'cafe', 'fast_food', 'bar',  \n",
    "                                   'food_court', 'nightclub', 'biergarten',],\n",
    "                  'day trip' : [\"tourist attraction\", \"lookout\", 'attraction', 'zoo', 'castle', \n",
    "                                'theme_park',],\n",
    "                  'walk/jog/ride' : ['park', 'viewpoint', 'beach'],\n",
    "                  'walk dog' : ['dog_park', 'park',],\n",
    "                  'religious' : [\"place of worship\", 'graveyard', 'christian_anglican', 'muslim',\n",
    "                                'christian', 'christian_catholic', 'christian_protestant',\n",
    "                                'christian_lutheran', 'hindu', 'christian_evangelical',\n",
    "                                'christian_methodist', 'buddhist', 'sikh', 'christian_orthodox', 'jewish',\n",
    "                                'muslim_sunni', 'taoist', 'muslim_shia'],\n",
    "                  'hobby' : [],\n",
    "                  'accompany children' : ['playground', 'library',],\n",
    "                    }\n",
    "\n",
    "osm_categorised = categorise_pois_new(osm_df, poi_categories, \n",
    "                                  old_column='fclass')\n",
    "pop_categorised = categorise_pois_new(pop_pois, poi_categories, \n",
    "                                 old_column='fclass')"
   ]
  },
  {
   "cell_type": "markdown",
   "id": "d5588632",
   "metadata": {},
   "source": [
    "Need to remove potential overlap between different data sources (and inside some data sources). For this dataset it's around 30% because there is overlap of public transport stops between OSM and TfNSW, and overlap of things like post offices between OSM and SSNSW. Then take this combined POI set and clip it to the study area: should be the same area as is covered by the network. This is important otherwise points outside the network may be erroneously linked to the network."
   ]
  },
  {
   "cell_type": "code",
   "execution_count": 161,
   "id": "a26286de",
   "metadata": {},
   "outputs": [
    {
     "name": "stdout",
     "output_type": "stream",
     "text": [
      "Removed 0.71% duplicate points from dataframes\n"
     ]
    }
   ],
   "source": [
    "pois = remove_duplicate_pois([osm_categorised, pop_categorised], buffer=10)"
   ]
  },
  {
   "cell_type": "code",
   "execution_count": 162,
   "id": "951a8fe5",
   "metadata": {},
   "outputs": [],
   "source": [
    "pois = pd.concat([pois, employment_centrs[['category','MB Job Count','geometry']], \n",
    "                  pop_categorised[['category','Person','geometry']]])\n",
    "\n",
    "pois = gpd.clip(pois, Greater_Adelaide)"
   ]
  },
  {
   "cell_type": "code",
   "execution_count": 30,
   "id": "8a7bd4cb",
   "metadata": {
    "scrolled": true
   },
   "outputs": [
    {
     "name": "stdout",
     "output_type": "stream",
     "text": [
      "employment 597\n",
      "education 477\n",
      "daily needs 623\n",
      "other goods 674\n",
      "services 274\n",
      "medical 311\n",
      "errands 447\n",
      "visiting 31232\n",
      "cultural 202\n",
      "events 116\n",
      "sports 230\n",
      "restaurants 1644\n",
      "day trip 74\n",
      "walk/jog/ride 1952\n",
      "walk dog 1906\n",
      "religious 302\n",
      "accompany children 831\n"
     ]
    }
   ],
   "source": [
    "for cat in list(poi_weights.index):\n",
    "    print(cat, len(pois[pois['category'].isin(poi_categories[cat])]))"
   ]
  },
  {
   "cell_type": "markdown",
   "id": "41834e86",
   "metadata": {},
   "source": [
    "### Import network"
   ]
  },
  {
   "cell_type": "markdown",
   "id": "bdd12d7d",
   "metadata": {},
   "source": [
    "In this case the network is already in the same projected CRS as everything else but I have left in the transformation to be clear."
   ]
  },
  {
   "cell_type": "code",
   "execution_count": 183,
   "id": "83b270be",
   "metadata": {},
   "outputs": [
    {
     "name": "stderr",
     "output_type": "stream",
     "text": [
      "C:\\Users\\z3258367\\Anaconda3\\envs\\ox\\lib\\site-packages\\IPython\\core\\interactiveshell.py:3331: DtypeWarning: Columns (3,4,5,7,8,9,11,16,18) have mixed types.Specify dtype option on import or set low_memory=False.\n",
      "  exec(code_obj, self.user_global_ns, self.user_ns)\n",
      "C:\\Users\\z3258367\\Anaconda3\\envs\\ox\\lib\\site-packages\\IPython\\core\\interactiveshell.py:3331: DtypeWarning: Columns (6,11,12) have mixed types.Specify dtype option on import or set low_memory=False.\n",
      "  exec(code_obj, self.user_global_ns, self.user_ns)\n"
     ]
    }
   ],
   "source": [
    "# reading directly with geopandas.read_file crashes on my computer so I read into pandas then convert to gdf instead\n",
    "edges_df = pd.read_csv(folder + \"Walkability//Other Cities//Colouring data & results//Adelaide data//adelaide_edges_5_parks.csv\")\n",
    "nodes_df = pd.read_csv(folder + \"Walkability//Other Cities//Colouring data & results//Adelaide data//adelaide_nodes_5.csv\")"
   ]
  },
  {
   "cell_type": "code",
   "execution_count": 184,
   "id": "b32c64f1",
   "metadata": {},
   "outputs": [
    {
     "name": "stdout",
     "output_type": "stream",
     "text": [
      "<class 'str'>\n",
      "<class 'str'>\n"
     ]
    }
   ],
   "source": [
    "edges = gpd.GeoDataFrame(edges_df, \n",
    "                         geometry=gpd.GeoSeries.from_wkt(edges_df['geometry'])).set_crs(\"EPSG:7856\")\n",
    "nodes = gpd.GeoDataFrame(nodes_df, \n",
    "                         geometry=gpd.GeoSeries.from_wkt(nodes_df['geometry'])).set_crs(\"EPSG:7856\")\n",
    "edges = edges.to_crs(proj_crs)\n",
    "nodes = nodes.to_crs(proj_crs)"
   ]
  },
  {
   "cell_type": "code",
   "execution_count": null,
   "id": "1d3b3463",
   "metadata": {},
   "outputs": [],
   "source": [
    "#edges = gpd.clip(edges, Sydney)\n",
    "#nodes = gpd.clip(nodes, Sydney)\n",
    "# \n",
    "# after clip if problems:\n",
    "# Make sure all nodes are in edge list\n",
    "# Make sure node index is named 'id_node' or at least something, and is the actual list of ids that aligns with edge index"
   ]
  },
  {
   "cell_type": "markdown",
   "id": "792785b1",
   "metadata": {},
   "source": [
    "Pandana expects edges to have a two item index based on the same IDs as the node index."
   ]
  },
  {
   "cell_type": "code",
   "execution_count": 185,
   "id": "b6eafa0b",
   "metadata": {},
   "outputs": [],
   "source": [
    "nodes.set_index('connect_id',inplace=True)\n",
    "\n",
    "edges['from_idx'] = edges['from']\n",
    "edges['to_idx'] = edges['to']\n",
    "edges= edges.set_index(['from_idx', 'to_idx'])\n",
    "edges.index.names= ['from_idx','to_idx']"
   ]
  },
  {
   "cell_type": "markdown",
   "id": "f02dfca0",
   "metadata": {},
   "source": [
    "## Pandana network creation."
   ]
  },
  {
   "cell_type": "code",
   "execution_count": 186,
   "id": "72c0e94d",
   "metadata": {},
   "outputs": [],
   "source": [
    "distance_network = pdna.Network(nodes['geometry'].x, nodes['geometry'].y,\n",
    "                                   edges['from'], edges['to'], \n",
    "                                   edges[['length']])\n",
    "\n",
    "maximum_dist = 2400"
   ]
  },
  {
   "cell_type": "markdown",
   "id": "09754e3b",
   "metadata": {},
   "source": [
    "### Pandana network querying. \n",
    "The 'employment' category is empty because we didn't add the employment points to the POI dataset."
   ]
  },
  {
   "cell_type": "markdown",
   "id": "ea80d586",
   "metadata": {},
   "source": [
    "Free up some memory at this point..."
   ]
  },
  {
   "cell_type": "code",
   "execution_count": 158,
   "id": "7da55bb0",
   "metadata": {},
   "outputs": [
    {
     "ename": "NameError",
     "evalue": "name 'edges' is not defined",
     "output_type": "error",
     "traceback": [
      "\u001b[1;31m---------------------------------------------------------------------------\u001b[0m",
      "\u001b[1;31mNameError\u001b[0m                                 Traceback (most recent call last)",
      "\u001b[1;32m<ipython-input-158-b0e9a62fd102>\u001b[0m in \u001b[0;36m<module>\u001b[1;34m\u001b[0m\n\u001b[1;32m----> 1\u001b[1;33m \u001b[1;32mdel\u001b[0m \u001b[0medges\u001b[0m\u001b[1;33m\u001b[0m\u001b[1;33m\u001b[0m\u001b[0m\n\u001b[0m\u001b[0;32m      2\u001b[0m \u001b[1;32mdel\u001b[0m \u001b[0medges_df\u001b[0m\u001b[1;33m\u001b[0m\u001b[1;33m\u001b[0m\u001b[0m\n\u001b[0;32m      3\u001b[0m \u001b[1;32mdel\u001b[0m \u001b[0mnodes_df\u001b[0m\u001b[1;33m\u001b[0m\u001b[1;33m\u001b[0m\u001b[0m\n\u001b[0;32m      4\u001b[0m \u001b[1;31m# don't delete 'nodes', used later for export\u001b[0m\u001b[1;33m\u001b[0m\u001b[1;33m\u001b[0m\u001b[1;33m\u001b[0m\u001b[0m\n\u001b[0;32m      5\u001b[0m \u001b[1;31m# don't delete pois' obviously\u001b[0m\u001b[1;33m\u001b[0m\u001b[1;33m\u001b[0m\u001b[1;33m\u001b[0m\u001b[0m\n",
      "\u001b[1;31mNameError\u001b[0m: name 'edges' is not defined"
     ]
    }
   ],
   "source": [
    "del edges\n",
    "del edges_df\n",
    "del nodes_df\n",
    "# don't delete 'nodes', used later for export\n",
    "# don't delete pois' obviously\n",
    "#del pop_mbs\n",
    "del mb_shapes\n",
    "del meshblocks\n",
    "del pop_categorised\n",
    "del employment_centrs\n",
    "del osm_df\n",
    "del pop_pois\n",
    "del osm_categorised\n",
    "del osm_poi_points\n",
    "del osm_pois_2\n",
    "del osm_poi_areas\n",
    "del osm_transport_points\n",
    "del osm_natural_2\n",
    "del osm_pow_2\n",
    "del osm_natural\n",
    "del osm_pow_areas\n",
    "del osm_pow_points\n",
    "del osm_govt_points\n",
    "del osm_govt_2\n",
    "del osm_govt_areas\n",
    "del osm_transport_2\n",
    "del osm_transport_areas"
   ]
  },
  {
   "cell_type": "code",
   "execution_count": 189,
   "id": "9c333174",
   "metadata": {},
   "outputs": [
    {
     "name": "stdout",
     "output_type": "stream",
     "text": [
      "Finished category: employment\n",
      "Maximum score: 15.118103458440094\n",
      "Finished category: education\n",
      "Maximum score: 9.621793613112\n",
      "Finished category: daily needs\n",
      "Maximum score: 12.369794798229211\n",
      "Finished category: other goods\n",
      "Maximum score: 5.582065542580321\n",
      "Finished category: services\n",
      "Maximum score: 1.343144109228021\n",
      "Finished category: medical\n",
      "Maximum score: 3.080367201355044\n",
      "Finished category: errands\n",
      "Maximum score: 1.3727876086346729\n",
      "Finished category: visiting\n",
      "Maximum score: 8.608850562715679\n",
      "Finished category: cultural\n",
      "Maximum score: 1.2970359029240734\n",
      "Finished category: events\n",
      "Maximum score: 0.8106061618365227\n",
      "Finished category: sports\n",
      "Maximum score: 3.727956065335681\n",
      "Finished category: restaurants\n",
      "Maximum score: 3.459007686435948\n",
      "Finished category: day trip\n",
      "Maximum score: 0.6124392696538371\n",
      "Finished category: walk/jog/ride\n",
      "Maximum score: 4.564738356392464\n",
      "Finished category: walk dog\n",
      "Maximum score: 2.689013622874911\n",
      "Finished category: religious\n",
      "Maximum score: 1.0474470091824701\n",
      "Finished category: accompany children\n",
      "Maximum score: 1.0746929486389607\n"
     ]
    }
   ],
   "source": [
    "results = walk_index_full(distance_network, pois, poi_categories, poi_weights, poi_gammas,\n",
    "                            poi_nums, poi_lambdas, poi_variables, distance=maximum_dist)"
   ]
  },
  {
   "cell_type": "code",
   "execution_count": 190,
   "id": "ee95d5c4",
   "metadata": {},
   "outputs": [
    {
     "data": {
      "text/plain": [
       "66.15387320349251"
      ]
     },
     "execution_count": 190,
     "metadata": {},
     "output_type": "execute_result"
    }
   ],
   "source": [
    "max(results['Walk_Index'])"
   ]
  },
  {
   "cell_type": "code",
   "execution_count": 187,
   "id": "81e4a159",
   "metadata": {},
   "outputs": [],
   "source": [
    "category = 'employment'\n",
    "distance = 2400\n",
    "num_pois = 5\n",
    "poi_dictionary = poi_categories\n",
    "\n",
    "relevant_pois = pois[pois['category'].isin(poi_dictionary[category])]\n",
    "\n",
    "relevant_pois = relevant_pois.set_index(poi_variables[category])\n",
    "\n",
    "x, y = (relevant_pois['geometry'].x, relevant_pois['geometry'].y)\n",
    "\n",
    "distance_network.set_pois(category, distance, num_pois, x, y)\n",
    "\n",
    "access = distance_network.nearest_pois(\n",
    "                distance=distance, category=category, num_pois=num_pois, include_poi_ids=True)"
   ]
  },
  {
   "cell_type": "markdown",
   "id": "933c5d9e",
   "metadata": {},
   "source": [
    "The current approach is to find up to x closest nodes for each category within the maximum distance. Then look up the attractiveness at each one (just count for most), apply a distance decay function to each distance, apply diminishing returns to the resulting total opportunity, and sum.\n",
    "\n",
    "An alternative approach which would be more convenient would be to use the Pandana 'aggregate' function which aggregates from all nodes within the maximum distance including applying a decay function. However, there is limited ability to change the distance decay rate within the aggregation function. It can either be flat (no decay), linear (going to 0 at the max distance), or exponential where beta is set as 1/max distance. For walking I would like a beta of 0.001, but this requires the radius to be 1000m. If the radius is 2400m, beta is only 0.0004. This can be changed in the future if the Pandana function is updated to take a decay parameter."
   ]
  },
  {
   "cell_type": "markdown",
   "id": "0f4526c7",
   "metadata": {},
   "source": [
    "## Export results"
   ]
  },
  {
   "cell_type": "markdown",
   "id": "1c20c8d1",
   "metadata": {},
   "source": [
    "Filter the results to building footprints only. Reduce the number of decimal places before export, distances do not need to be below 1m. Optionally export results as a csv."
   ]
  },
  {
   "cell_type": "code",
   "execution_count": 192,
   "id": "f147cf0b",
   "metadata": {},
   "outputs": [],
   "source": [
    "building_results = results[nodes['connect_type'] == 'poi']"
   ]
  },
  {
   "cell_type": "code",
   "execution_count": 193,
   "id": "94c33fcf",
   "metadata": {},
   "outputs": [],
   "source": [
    "rounding_dict = {**{k:3 for k in results.columns if \"_\" in k\n",
    "                  and 'connect_id' not in k},\n",
    "               **{k:0 for k in results.columns if \"_\" not in k \n",
    "                  and k != 'x'  \n",
    "                  and k != 'y'}}\n",
    "\n",
    "building_results = building_results.round(rounding_dict)"
   ]
  },
  {
   "cell_type": "code",
   "execution_count": 194,
   "id": "d812a5c8",
   "metadata": {},
   "outputs": [],
   "source": [
    "building_results.to_csv((folder +\n",
    "                         \"Walkability\\\\Other Cities\\\\Colouring data & results\\\\Adelaide Data\\\\\" + \n",
    "                         \"HTS_many_bf_results_250522_Adelaide.csv\"))"
   ]
  },
  {
   "cell_type": "markdown",
   "id": "392798cc",
   "metadata": {},
   "source": [
    "Import building footprints and join the data to them, then export these polygons."
   ]
  },
  {
   "cell_type": "code",
   "execution_count": null,
   "id": "af94a2e1",
   "metadata": {},
   "outputs": [],
   "source": [
    "results_gdf = gpd.GeoDataFrame(results, geometry = gpd.GeoSeries.from_xy(results.x, results.y, crs=\"EPSG:7856\"))"
   ]
  },
  {
   "cell_type": "code",
   "execution_count": null,
   "id": "607a9a25",
   "metadata": {},
   "outputs": [],
   "source": [
    "#doesn't include jobs column only results columns\n",
    "results_gdf = results_gdf.loc[ : , [col for col in results.columns if '_' in col or col == 'geometry']]"
   ]
  },
  {
   "cell_type": "code",
   "execution_count": null,
   "id": "30eb0506",
   "metadata": {},
   "outputs": [],
   "source": [
    "buildings_foot = gpd.read_file(folder +\n",
    "    \"Data\\\\Colouring\\\\Building Footprints\\\\sydney_bf.shp\").to_crs(proj_crs)"
   ]
  },
  {
   "cell_type": "code",
   "execution_count": null,
   "id": "8a76afaf",
   "metadata": {},
   "outputs": [],
   "source": [
    "buildings_foot = gpd.clip(buildings_foot, Greater_Sydney)"
   ]
  },
  {
   "cell_type": "code",
   "execution_count": null,
   "id": "cb0cf386",
   "metadata": {},
   "outputs": [],
   "source": [
    "# join to data\n",
    "buildings_foot = gpd.sjoin(buildings_foot, results_gdf, how='left', predicate='contains')\n",
    "\n",
    "buildings_foot.to_file(folder + \n",
    "                       \"Walkability\\\\Other Cities\\\\Colouring data & results\\\\Sydney WalkTHERE results\\\\HTS_many_bf_results_230522_Sydney.gpkg\")"
   ]
  },
  {
   "cell_type": "markdown",
   "id": "d235c94a",
   "metadata": {},
   "source": [
    "### 5 categories"
   ]
  },
  {
   "cell_type": "code",
   "execution_count": 195,
   "id": "837df207",
   "metadata": {},
   "outputs": [
    {
     "name": "stdout",
     "output_type": "stream",
     "text": [
      "Some tags are present in the dataset but not in the category dictionary.POIs with these tags have been removed:\n",
      "['monument' 'camera_surveillance' 'hotel' 'town_hall' 'toilet' 'police'\n",
      " 'motel' 'car_wash' 'drinking_water' 'telephone' 'memorial' 'guesthouse'\n",
      " 'tourist_info' 'comms_tower' 'camp_site' 'picnic_site' 'car_rental'\n",
      " 'water_tower' 'recycling_glass' 'bench' 'caravan_site' 'bicycle_rental'\n",
      " 'fire_station' 'shelter' 'hostel' 'fountain' 'recycling' 'waste_basket'\n",
      " 'tower' 'prison' 'vending_machine' 'chalet' 'vending_any'\n",
      " 'recycling_paper' 'observation_tower' 'embassy' 'vending_parking'\n",
      " 'windmill' 'public_building' 'water_works' 'nursing_home' 'fort'\n",
      " 'wastewater_plant' 'lighthouse' 'water_well' 'tram_stop' 'bus_station'\n",
      " 'bus_stop' 'railway_station' 'taxi' 'railway_halt' 'cliff' 'spring'\n",
      " 'peak' 'glacier' 'tree' 'cave_entrance']\n",
      "Some tags are present in the dataset but not in the category dictionary.POIs with these tags have been removed:\n",
      "['residential']\n"
     ]
    }
   ],
   "source": [
    "poi_categories_5 = {'employment':['employment'],\n",
    "                  'shopping' : ['supermarket', 'greengrocer','butcher','convenience',\n",
    "                                   'kiosk', 'beverages', 'alcohol', 'bakery',\n",
    "                                \"shopping centre\", 'mall', 'bicycle_shop', 'clothes', 'department_store', \n",
    "                                   'doityourself', 'beauty_shop', 'outdoor_shop', \n",
    "                                   'stationery', 'bookshop', 'gift_shop', 'newsagent', \n",
    "                                   'car_dealership', 'furniture_shop', 'sports_shop',\n",
    "                                   'garden_centre', 'computer_shop', 'shoe_shop', 'florist', \n",
    "                                   'video_shop', 'toy_shop', 'mobile_phone_shop', 'jeweller'],                \n",
    "                  'errands' : ['hairdresser', 'optician', 'travel_agent','laundry', 'veterinary', \n",
    "                               \"health centre\",'chemist', 'pharmacy','doctors', 'dentist','hospital',\n",
    "                               \"post office\",'post_box', 'post_office', 'bank', 'atm',\n",
    "                               'courthouse', 'government', \"place of worship\", 'graveyard', 'christian_anglican', 'muslim',\n",
    "                                'christian', 'christian_catholic', 'christian_protestant',\n",
    "                                'christian_lutheran', 'hindu', 'christian_evangelical',\n",
    "                                'christian_methodist', 'buddhist', 'sikh', 'christian_orthodox', 'jewish',\n",
    "                                'muslim_sunni', 'taoist', 'muslim_shia'], \n",
    "                  'education' : [\"childcare\", 'college', 'school', 'kindergarten', 'university'],\n",
    "                  'recreation' : [\"art gallery\", \"outdoor theater\", 'arts_centre', 'theatre', 'artwork',\n",
    "                                'library','archaeological', 'cinema', 'museum', 'ruins',\n",
    "                                  'stadium', 'marketplace', 'community_centre', 'library',\n",
    "                                  \"sports centre\", \"sports field\", \"swimming pool\", \"golf course\", \n",
    "                              'ice_rink','pitch', 'swimming_pool', 'sports_centre', \n",
    "                              'golf_course', 'track', 'community_centre', 'library',\n",
    "                                  'restaurant', 'pub', 'cafe', 'fast_food', 'bar',  \n",
    "                                   'food_court', 'nightclub', 'biergarten',\n",
    "                                  \"tourist attraction\", \"lookout\", 'attraction', 'zoo', 'castle', \n",
    "                                'theme_park', 'park', 'viewpoint', 'beach','dog_park','playground'],\n",
    "                    }\n",
    "\n",
    "osm_categorised_5 = categorise_pois_new(osm_df, poi_categories_5, \n",
    "                                  old_column='fclass')\n",
    "pop_categorised_5 = categorise_pois_new(pop_pois, poi_categories_5, \n",
    "                                 old_column='fclass')"
   ]
  },
  {
   "cell_type": "code",
   "execution_count": 196,
   "id": "b27cd32e",
   "metadata": {},
   "outputs": [
    {
     "name": "stdout",
     "output_type": "stream",
     "text": [
      "Removed 1.54% duplicate points from dataframes\n"
     ]
    }
   ],
   "source": [
    "pois_5 = remove_duplicate_pois([osm_categorised_5, pop_categorised_5], buffer=10)"
   ]
  },
  {
   "cell_type": "code",
   "execution_count": 197,
   "id": "6ea0b7ab",
   "metadata": {},
   "outputs": [],
   "source": [
    "pois_5 = pd.concat([pois_5, employment_centrs[['category','MB Job Count','geometry']], \n",
    "                  pop_categorised[['category','Person','geometry']]])\n",
    "\n",
    "pois_5 = gpd.clip(pois_5, Greater_Adelaide)"
   ]
  },
  {
   "cell_type": "code",
   "execution_count": 198,
   "id": "eb84d8db",
   "metadata": {},
   "outputs": [],
   "source": [
    "poi_parameters_5 = pd.read_csv((folder + \n",
    "                              \"Walkability\\\\Other Cities\\\\Colouring data & results\\\\Shared Aus Data\\\\poi_parameters_5.csv\"),\n",
    "                            index_col=0)"
   ]
  },
  {
   "cell_type": "code",
   "execution_count": 199,
   "id": "5f4d56a6",
   "metadata": {},
   "outputs": [],
   "source": [
    "poi_weights_5 = poi_parameters_5['weight']\n",
    "\n",
    "poi_lambdas_5 = poi_parameters_5['diminishing_returns_constant']\n",
    "\n",
    "poi_variables_5 = poi_parameters_5['variable']\n",
    "\n",
    "poi_nums_5 = poi_parameters_5['num_pois']\n",
    "\n",
    "poi_gammas_5 = poi_parameters_5['distance_constant']"
   ]
  },
  {
   "cell_type": "code",
   "execution_count": 203,
   "id": "a13ee60d",
   "metadata": {
    "scrolled": true
   },
   "outputs": [
    {
     "name": "stderr",
     "output_type": "stream",
     "text": [
      "<ipython-input-203-bea98e711b31>:1: SettingWithCopyWarning: \n",
      "A value is trying to be set on a copy of a slice from a DataFrame\n",
      "\n",
      "See the caveats in the documentation: https://pandas.pydata.org/pandas-docs/stable/user_guide/indexing.html#returning-a-view-versus-a-copy\n",
      "  poi_variables_5['employment'] = 'MB Job Count'\n"
     ]
    }
   ],
   "source": [
    "poi_variables_5['employment'] = 'MB Job Count'"
   ]
  },
  {
   "cell_type": "code",
   "execution_count": 204,
   "id": "9ddc8235",
   "metadata": {
    "scrolled": true
   },
   "outputs": [
    {
     "name": "stderr",
     "output_type": "stream",
     "text": [
      "<ipython-input-204-b83a90785afe>:1: SettingWithCopyWarning: \n",
      "A value is trying to be set on a copy of a slice from a DataFrame\n",
      "\n",
      "See the caveats in the documentation: https://pandas.pydata.org/pandas-docs/stable/user_guide/indexing.html#returning-a-view-versus-a-copy\n",
      "  poi_lambdas_5['employment'] = 0.00001653\n"
     ]
    }
   ],
   "source": [
    "poi_lambdas_5['employment'] = 0.00001653"
   ]
  },
  {
   "cell_type": "code",
   "execution_count": 205,
   "id": "845c8c78",
   "metadata": {},
   "outputs": [
    {
     "name": "stderr",
     "output_type": "stream",
     "text": [
      "C:\\Users\\z3258367\\Anaconda3\\envs\\ox\\lib\\site-packages\\pandas\\core\\indexing.py:1732: SettingWithCopyWarning: \n",
      "A value is trying to be set on a copy of a slice from a DataFrame\n",
      "\n",
      "See the caveats in the documentation: https://pandas.pydata.org/pandas-docs/stable/user_guide/indexing.html#returning-a-view-versus-a-copy\n",
      "  self._setitem_single_block(indexer, value, name)\n"
     ]
    }
   ],
   "source": [
    "# manually changing because too large\n",
    "poi_nums_5.loc['employment'] = 100"
   ]
  },
  {
   "cell_type": "code",
   "execution_count": 201,
   "id": "e77866e6",
   "metadata": {
    "scrolled": true
   },
   "outputs": [
    {
     "name": "stdout",
     "output_type": "stream",
     "text": [
      "employment 597\n",
      "education 477\n",
      "shopping 1297\n",
      "errands 1334\n",
      "recreation 4986\n"
     ]
    }
   ],
   "source": [
    "for cat in list(poi_weights_5.index):\n",
    "    print(cat, len(pois_5[pois_5['category'].isin(poi_categories_5[cat])]))"
   ]
  },
  {
   "cell_type": "code",
   "execution_count": 206,
   "id": "6cc444a8",
   "metadata": {},
   "outputs": [
    {
     "name": "stdout",
     "output_type": "stream",
     "text": [
      "Finished category: employment\n",
      "Maximum score: 16.629913804284104\n",
      "Finished category: education\n",
      "Maximum score: 10.583972974423201\n",
      "Finished category: shopping\n",
      "Maximum score: 21.012783087194396\n",
      "Finished category: errands\n",
      "Maximum score: 8.512683067792421\n",
      "Finished category: recreation\n",
      "Maximum score: 22.737892133881996\n"
     ]
    }
   ],
   "source": [
    "results_2 = walk_index_full(distance_network, pois_5, poi_categories_5, poi_weights_5, poi_gammas_5,\n",
    "                            poi_nums_5, poi_lambdas_5, poi_variables_5, distance=maximum_dist)  "
   ]
  },
  {
   "cell_type": "code",
   "execution_count": 207,
   "id": "3206b696",
   "metadata": {},
   "outputs": [
    {
     "data": {
      "text/plain": [
       "(75.55277873047773, 66.15387320349251)"
      ]
     },
     "execution_count": 207,
     "metadata": {},
     "output_type": "execute_result"
    }
   ],
   "source": [
    "max(results_2['Walk_Index']), max(results['Walk_Index'])"
   ]
  },
  {
   "cell_type": "code",
   "execution_count": 208,
   "id": "2eeeb733",
   "metadata": {},
   "outputs": [],
   "source": [
    "rounding_dict = {**{k:3 for k in results_2.columns if \"_\" in k\n",
    "                  and 'connect_id' not in k},\n",
    "               **{k:0 for k in results_2.columns if \"_\" not in k \n",
    "                  and k != 'x'  \n",
    "                  and k != 'y'}}\n",
    "\n",
    "results_2 = results_2.round(rounding_dict)"
   ]
  },
  {
   "cell_type": "code",
   "execution_count": 209,
   "id": "689bb7d7",
   "metadata": {},
   "outputs": [],
   "source": [
    "results_2.to_csv((folder +\n",
    "                         \"Walkability\\\\Other Cities\\\\Colouring data & results\\\\Adelaide Data\\\\\" + \n",
    "                         \"HTS_5_bf_results_250522_Adelaide.csv\"))"
   ]
  },
  {
   "cell_type": "code",
   "execution_count": 93,
   "id": "07487291",
   "metadata": {},
   "outputs": [
    {
     "data": {
      "text/plain": [
       "2.7296522363480458"
      ]
     },
     "execution_count": 93,
     "metadata": {},
     "output_type": "execute_result"
    }
   ],
   "source": [
    "len(results)/len(results_2[nodes['connect_type'] == 'poi'])"
   ]
  },
  {
   "cell_type": "code",
   "execution_count": 210,
   "id": "6b71554c",
   "metadata": {},
   "outputs": [],
   "source": [
    "results_2_bf = results_2[nodes['connect_type'] == 'poi']"
   ]
  },
  {
   "cell_type": "code",
   "execution_count": 211,
   "id": "84d53ebe",
   "metadata": {},
   "outputs": [
    {
     "name": "stderr",
     "output_type": "stream",
     "text": [
      "<ipython-input-211-d5a0985ee70c>:1: SettingWithCopyWarning: \n",
      "A value is trying to be set on a copy of a slice from a DataFrame.\n",
      "Try using .loc[row_indexer,col_indexer] = value instead\n",
      "\n",
      "See the caveats in the documentation: https://pandas.pydata.org/pandas-docs/stable/user_guide/indexing.html#returning-a-view-versus-a-copy\n",
      "  results_2_bf['multi_index'] = building_results['Walk_Index']\n"
     ]
    }
   ],
   "source": [
    "results_2_bf['multi_index'] = building_results['Walk_Index']"
   ]
  },
  {
   "cell_type": "code",
   "execution_count": 99,
   "id": "6c0f8d95",
   "metadata": {},
   "outputs": [
    {
     "data": {
      "text/plain": [
       "0.3663470337664268"
      ]
     },
     "execution_count": 99,
     "metadata": {},
     "output_type": "execute_result"
    }
   ],
   "source": [
    "len(results_2_bf)/len(results)"
   ]
  },
  {
   "cell_type": "code",
   "execution_count": 215,
   "id": "454e2f45",
   "metadata": {},
   "outputs": [
    {
     "data": {
      "text/html": [
       "<div>\n",
       "<style scoped>\n",
       "    .dataframe tbody tr th:only-of-type {\n",
       "        vertical-align: middle;\n",
       "    }\n",
       "\n",
       "    .dataframe tbody tr th {\n",
       "        vertical-align: top;\n",
       "    }\n",
       "\n",
       "    .dataframe thead th {\n",
       "        text-align: right;\n",
       "    }\n",
       "</style>\n",
       "<table border=\"1\" class=\"dataframe\">\n",
       "  <thead>\n",
       "    <tr style=\"text-align: right;\">\n",
       "      <th></th>\n",
       "      <th>x</th>\n",
       "      <th>y</th>\n",
       "      <th>MB Job Count</th>\n",
       "      <th>employment1</th>\n",
       "      <th>employment2</th>\n",
       "      <th>employment3</th>\n",
       "      <th>employment4</th>\n",
       "      <th>employment5</th>\n",
       "      <th>employment6</th>\n",
       "      <th>employment7</th>\n",
       "      <th>...</th>\n",
       "      <th>recreation4</th>\n",
       "      <th>recreation5</th>\n",
       "      <th>recreation6</th>\n",
       "      <th>recreation7</th>\n",
       "      <th>recreation8</th>\n",
       "      <th>recreation9</th>\n",
       "      <th>recreation10</th>\n",
       "      <th>recreation_23.3</th>\n",
       "      <th>Walk_Index</th>\n",
       "      <th>multi_index</th>\n",
       "    </tr>\n",
       "    <tr>\n",
       "      <th>connect_id</th>\n",
       "      <th></th>\n",
       "      <th></th>\n",
       "      <th></th>\n",
       "      <th></th>\n",
       "      <th></th>\n",
       "      <th></th>\n",
       "      <th></th>\n",
       "      <th></th>\n",
       "      <th></th>\n",
       "      <th></th>\n",
       "      <th></th>\n",
       "      <th></th>\n",
       "      <th></th>\n",
       "      <th></th>\n",
       "      <th></th>\n",
       "      <th></th>\n",
       "      <th></th>\n",
       "      <th></th>\n",
       "      <th></th>\n",
       "      <th></th>\n",
       "      <th></th>\n",
       "    </tr>\n",
       "  </thead>\n",
       "  <tbody>\n",
       "    <tr>\n",
       "      <th>533311</th>\n",
       "      <td>-279019.187301</td>\n",
       "      <td>6.062935e+06</td>\n",
       "      <td>0.0</td>\n",
       "      <td>2400.0</td>\n",
       "      <td>2400.0</td>\n",
       "      <td>2400.0</td>\n",
       "      <td>2400.0</td>\n",
       "      <td>2400.0</td>\n",
       "      <td>2400.0</td>\n",
       "      <td>2400.0</td>\n",
       "      <td>...</td>\n",
       "      <td>1483.0</td>\n",
       "      <td>1497.0</td>\n",
       "      <td>1656.0</td>\n",
       "      <td>1772.0</td>\n",
       "      <td>1810.0</td>\n",
       "      <td>1905.0</td>\n",
       "      <td>2029.0</td>\n",
       "      <td>5.957</td>\n",
       "      <td>9.444</td>\n",
       "      <td>10.476</td>\n",
       "    </tr>\n",
       "    <tr>\n",
       "      <th>533325</th>\n",
       "      <td>-278841.193245</td>\n",
       "      <td>6.062701e+06</td>\n",
       "      <td>0.0</td>\n",
       "      <td>2400.0</td>\n",
       "      <td>2400.0</td>\n",
       "      <td>2400.0</td>\n",
       "      <td>2400.0</td>\n",
       "      <td>2400.0</td>\n",
       "      <td>2400.0</td>\n",
       "      <td>2400.0</td>\n",
       "      <td>...</td>\n",
       "      <td>1222.0</td>\n",
       "      <td>1330.0</td>\n",
       "      <td>1344.0</td>\n",
       "      <td>1435.0</td>\n",
       "      <td>1460.0</td>\n",
       "      <td>1684.0</td>\n",
       "      <td>1829.0</td>\n",
       "      <td>7.181</td>\n",
       "      <td>11.215</td>\n",
       "      <td>11.801</td>\n",
       "    </tr>\n",
       "    <tr>\n",
       "      <th>533355</th>\n",
       "      <td>-277036.380152</td>\n",
       "      <td>6.070042e+06</td>\n",
       "      <td>0.0</td>\n",
       "      <td>2400.0</td>\n",
       "      <td>2400.0</td>\n",
       "      <td>2400.0</td>\n",
       "      <td>2400.0</td>\n",
       "      <td>2400.0</td>\n",
       "      <td>2400.0</td>\n",
       "      <td>2400.0</td>\n",
       "      <td>...</td>\n",
       "      <td>2400.0</td>\n",
       "      <td>2400.0</td>\n",
       "      <td>2400.0</td>\n",
       "      <td>2400.0</td>\n",
       "      <td>2400.0</td>\n",
       "      <td>2400.0</td>\n",
       "      <td>2400.0</td>\n",
       "      <td>7.136</td>\n",
       "      <td>7.136</td>\n",
       "      <td>8.155</td>\n",
       "    </tr>\n",
       "    <tr>\n",
       "      <th>533388</th>\n",
       "      <td>-276989.948120</td>\n",
       "      <td>6.069571e+06</td>\n",
       "      <td>0.0</td>\n",
       "      <td>2400.0</td>\n",
       "      <td>2400.0</td>\n",
       "      <td>2400.0</td>\n",
       "      <td>2400.0</td>\n",
       "      <td>2400.0</td>\n",
       "      <td>2400.0</td>\n",
       "      <td>2400.0</td>\n",
       "      <td>...</td>\n",
       "      <td>2120.0</td>\n",
       "      <td>2239.0</td>\n",
       "      <td>2308.0</td>\n",
       "      <td>2400.0</td>\n",
       "      <td>2400.0</td>\n",
       "      <td>2400.0</td>\n",
       "      <td>2400.0</td>\n",
       "      <td>6.216</td>\n",
       "      <td>6.216</td>\n",
       "      <td>6.738</td>\n",
       "    </tr>\n",
       "    <tr>\n",
       "      <th>533395</th>\n",
       "      <td>-275604.221648</td>\n",
       "      <td>6.061505e+06</td>\n",
       "      <td>0.0</td>\n",
       "      <td>2400.0</td>\n",
       "      <td>2400.0</td>\n",
       "      <td>2400.0</td>\n",
       "      <td>2400.0</td>\n",
       "      <td>2400.0</td>\n",
       "      <td>2400.0</td>\n",
       "      <td>2400.0</td>\n",
       "      <td>...</td>\n",
       "      <td>2400.0</td>\n",
       "      <td>2400.0</td>\n",
       "      <td>2400.0</td>\n",
       "      <td>2400.0</td>\n",
       "      <td>2400.0</td>\n",
       "      <td>2400.0</td>\n",
       "      <td>2400.0</td>\n",
       "      <td>0.000</td>\n",
       "      <td>0.000</td>\n",
       "      <td>0.226</td>\n",
       "    </tr>\n",
       "    <tr>\n",
       "      <th>...</th>\n",
       "      <td>...</td>\n",
       "      <td>...</td>\n",
       "      <td>...</td>\n",
       "      <td>...</td>\n",
       "      <td>...</td>\n",
       "      <td>...</td>\n",
       "      <td>...</td>\n",
       "      <td>...</td>\n",
       "      <td>...</td>\n",
       "      <td>...</td>\n",
       "      <td>...</td>\n",
       "      <td>...</td>\n",
       "      <td>...</td>\n",
       "      <td>...</td>\n",
       "      <td>...</td>\n",
       "      <td>...</td>\n",
       "      <td>...</td>\n",
       "      <td>...</td>\n",
       "      <td>...</td>\n",
       "      <td>...</td>\n",
       "      <td>...</td>\n",
       "    </tr>\n",
       "    <tr>\n",
       "      <th>1739085</th>\n",
       "      <td>-263092.145407</td>\n",
       "      <td>6.133259e+06</td>\n",
       "      <td>0.0</td>\n",
       "      <td>2400.0</td>\n",
       "      <td>2400.0</td>\n",
       "      <td>2400.0</td>\n",
       "      <td>2400.0</td>\n",
       "      <td>2400.0</td>\n",
       "      <td>2400.0</td>\n",
       "      <td>2400.0</td>\n",
       "      <td>...</td>\n",
       "      <td>2036.0</td>\n",
       "      <td>2234.0</td>\n",
       "      <td>2243.0</td>\n",
       "      <td>2270.0</td>\n",
       "      <td>2327.0</td>\n",
       "      <td>2385.0</td>\n",
       "      <td>2395.0</td>\n",
       "      <td>4.314</td>\n",
       "      <td>5.420</td>\n",
       "      <td>7.450</td>\n",
       "    </tr>\n",
       "    <tr>\n",
       "      <th>1739086</th>\n",
       "      <td>-263084.890514</td>\n",
       "      <td>6.133259e+06</td>\n",
       "      <td>0.0</td>\n",
       "      <td>2400.0</td>\n",
       "      <td>2400.0</td>\n",
       "      <td>2400.0</td>\n",
       "      <td>2400.0</td>\n",
       "      <td>2400.0</td>\n",
       "      <td>2400.0</td>\n",
       "      <td>2400.0</td>\n",
       "      <td>...</td>\n",
       "      <td>2049.0</td>\n",
       "      <td>2247.0</td>\n",
       "      <td>2256.0</td>\n",
       "      <td>2283.0</td>\n",
       "      <td>2340.0</td>\n",
       "      <td>2398.0</td>\n",
       "      <td>2400.0</td>\n",
       "      <td>4.222</td>\n",
       "      <td>5.314</td>\n",
       "      <td>7.359</td>\n",
       "    </tr>\n",
       "    <tr>\n",
       "      <th>1739138</th>\n",
       "      <td>-257595.124580</td>\n",
       "      <td>6.143618e+06</td>\n",
       "      <td>12.0</td>\n",
       "      <td>2352.0</td>\n",
       "      <td>2400.0</td>\n",
       "      <td>2400.0</td>\n",
       "      <td>2400.0</td>\n",
       "      <td>2400.0</td>\n",
       "      <td>2400.0</td>\n",
       "      <td>2400.0</td>\n",
       "      <td>...</td>\n",
       "      <td>2400.0</td>\n",
       "      <td>2400.0</td>\n",
       "      <td>2400.0</td>\n",
       "      <td>2400.0</td>\n",
       "      <td>2400.0</td>\n",
       "      <td>2400.0</td>\n",
       "      <td>2400.0</td>\n",
       "      <td>0.649</td>\n",
       "      <td>1.358</td>\n",
       "      <td>4.297</td>\n",
       "    </tr>\n",
       "    <tr>\n",
       "      <th>1739140</th>\n",
       "      <td>-257577.631879</td>\n",
       "      <td>6.143624e+06</td>\n",
       "      <td>12.0</td>\n",
       "      <td>2360.0</td>\n",
       "      <td>2400.0</td>\n",
       "      <td>2400.0</td>\n",
       "      <td>2400.0</td>\n",
       "      <td>2400.0</td>\n",
       "      <td>2400.0</td>\n",
       "      <td>2400.0</td>\n",
       "      <td>...</td>\n",
       "      <td>2400.0</td>\n",
       "      <td>2400.0</td>\n",
       "      <td>2400.0</td>\n",
       "      <td>2400.0</td>\n",
       "      <td>2400.0</td>\n",
       "      <td>2400.0</td>\n",
       "      <td>2400.0</td>\n",
       "      <td>0.644</td>\n",
       "      <td>1.348</td>\n",
       "      <td>4.298</td>\n",
       "    </tr>\n",
       "    <tr>\n",
       "      <th>1739141</th>\n",
       "      <td>-257593.664263</td>\n",
       "      <td>6.143627e+06</td>\n",
       "      <td>13.0</td>\n",
       "      <td>2343.0</td>\n",
       "      <td>2400.0</td>\n",
       "      <td>2400.0</td>\n",
       "      <td>2400.0</td>\n",
       "      <td>2400.0</td>\n",
       "      <td>2400.0</td>\n",
       "      <td>2400.0</td>\n",
       "      <td>...</td>\n",
       "      <td>2400.0</td>\n",
       "      <td>2400.0</td>\n",
       "      <td>2400.0</td>\n",
       "      <td>2400.0</td>\n",
       "      <td>2400.0</td>\n",
       "      <td>2400.0</td>\n",
       "      <td>2400.0</td>\n",
       "      <td>0.655</td>\n",
       "      <td>1.370</td>\n",
       "      <td>4.336</td>\n",
       "    </tr>\n",
       "  </tbody>\n",
       "</table>\n",
       "<p>64524 rows × 60 columns</p>\n",
       "</div>"
      ],
      "text/plain": [
       "                        x             y  MB Job Count  employment1  \\\n",
       "connect_id                                                           \n",
       "533311     -279019.187301  6.062935e+06           0.0       2400.0   \n",
       "533325     -278841.193245  6.062701e+06           0.0       2400.0   \n",
       "533355     -277036.380152  6.070042e+06           0.0       2400.0   \n",
       "533388     -276989.948120  6.069571e+06           0.0       2400.0   \n",
       "533395     -275604.221648  6.061505e+06           0.0       2400.0   \n",
       "...                   ...           ...           ...          ...   \n",
       "1739085    -263092.145407  6.133259e+06           0.0       2400.0   \n",
       "1739086    -263084.890514  6.133259e+06           0.0       2400.0   \n",
       "1739138    -257595.124580  6.143618e+06          12.0       2352.0   \n",
       "1739140    -257577.631879  6.143624e+06          12.0       2360.0   \n",
       "1739141    -257593.664263  6.143627e+06          13.0       2343.0   \n",
       "\n",
       "            employment2  employment3  employment4  employment5  employment6  \\\n",
       "connect_id                                                                    \n",
       "533311           2400.0       2400.0       2400.0       2400.0       2400.0   \n",
       "533325           2400.0       2400.0       2400.0       2400.0       2400.0   \n",
       "533355           2400.0       2400.0       2400.0       2400.0       2400.0   \n",
       "533388           2400.0       2400.0       2400.0       2400.0       2400.0   \n",
       "533395           2400.0       2400.0       2400.0       2400.0       2400.0   \n",
       "...                 ...          ...          ...          ...          ...   \n",
       "1739085          2400.0       2400.0       2400.0       2400.0       2400.0   \n",
       "1739086          2400.0       2400.0       2400.0       2400.0       2400.0   \n",
       "1739138          2400.0       2400.0       2400.0       2400.0       2400.0   \n",
       "1739140          2400.0       2400.0       2400.0       2400.0       2400.0   \n",
       "1739141          2400.0       2400.0       2400.0       2400.0       2400.0   \n",
       "\n",
       "            employment7  ...  recreation4  recreation5  recreation6  \\\n",
       "connect_id               ...                                          \n",
       "533311           2400.0  ...       1483.0       1497.0       1656.0   \n",
       "533325           2400.0  ...       1222.0       1330.0       1344.0   \n",
       "533355           2400.0  ...       2400.0       2400.0       2400.0   \n",
       "533388           2400.0  ...       2120.0       2239.0       2308.0   \n",
       "533395           2400.0  ...       2400.0       2400.0       2400.0   \n",
       "...                 ...  ...          ...          ...          ...   \n",
       "1739085          2400.0  ...       2036.0       2234.0       2243.0   \n",
       "1739086          2400.0  ...       2049.0       2247.0       2256.0   \n",
       "1739138          2400.0  ...       2400.0       2400.0       2400.0   \n",
       "1739140          2400.0  ...       2400.0       2400.0       2400.0   \n",
       "1739141          2400.0  ...       2400.0       2400.0       2400.0   \n",
       "\n",
       "            recreation7  recreation8  recreation9  recreation10  \\\n",
       "connect_id                                                        \n",
       "533311           1772.0       1810.0       1905.0        2029.0   \n",
       "533325           1435.0       1460.0       1684.0        1829.0   \n",
       "533355           2400.0       2400.0       2400.0        2400.0   \n",
       "533388           2400.0       2400.0       2400.0        2400.0   \n",
       "533395           2400.0       2400.0       2400.0        2400.0   \n",
       "...                 ...          ...          ...           ...   \n",
       "1739085          2270.0       2327.0       2385.0        2395.0   \n",
       "1739086          2283.0       2340.0       2398.0        2400.0   \n",
       "1739138          2400.0       2400.0       2400.0        2400.0   \n",
       "1739140          2400.0       2400.0       2400.0        2400.0   \n",
       "1739141          2400.0       2400.0       2400.0        2400.0   \n",
       "\n",
       "            recreation_23.3  Walk_Index  multi_index  \n",
       "connect_id                                            \n",
       "533311                5.957       9.444       10.476  \n",
       "533325                7.181      11.215       11.801  \n",
       "533355                7.136       7.136        8.155  \n",
       "533388                6.216       6.216        6.738  \n",
       "533395                0.000       0.000        0.226  \n",
       "...                     ...         ...          ...  \n",
       "1739085               4.314       5.420        7.450  \n",
       "1739086               4.222       5.314        7.359  \n",
       "1739138               0.649       1.358        4.297  \n",
       "1739140               0.644       1.348        4.298  \n",
       "1739141               0.655       1.370        4.336  \n",
       "\n",
       "[64524 rows x 60 columns]"
      ]
     },
     "execution_count": 215,
     "metadata": {},
     "output_type": "execute_result"
    }
   ],
   "source": [
    "results_2_bf[results_2_bf['Walk_Index'] < results_2_bf['multi_index']]"
   ]
  },
  {
   "cell_type": "code",
   "execution_count": 212,
   "id": "84d9d39d",
   "metadata": {},
   "outputs": [],
   "source": [
    "correlations = results_2_bf.corr(method='pearson', min_periods=1)"
   ]
  },
  {
   "cell_type": "code",
   "execution_count": 105,
   "id": "d8b13dbc",
   "metadata": {},
   "outputs": [],
   "source": [
    "def get_rsq(f, y):\n",
    "#fitted values, observations\n",
    "    ss_res = np.dot((y - f),(y - f))\n",
    "    ymean = np.mean(y)\n",
    "    ss_tot = np.dot((y - ymean),(y - ymean))\n",
    "    return 1 - ss_res/ss_tot"
   ]
  },
  {
   "cell_type": "code",
   "execution_count": 213,
   "id": "08419d75",
   "metadata": {},
   "outputs": [
    {
     "data": {
      "text/plain": [
       "x                 -0.351721\n",
       "y                 -0.149744\n",
       "MB Job Count       0.370350\n",
       "employment1       -0.642863\n",
       "employment2       -0.669960\n",
       "employment3       -0.636121\n",
       "employment4       -0.603089\n",
       "employment5       -0.567464\n",
       "employment6       -0.529135\n",
       "employment7       -0.494619\n",
       "employment8       -0.461455\n",
       "employment9       -0.425151\n",
       "employment10      -0.403844\n",
       "employment_31.9    0.385786\n",
       "education1        -0.709112\n",
       "education2        -0.692473\n",
       "education3        -0.671345\n",
       "education4        -0.629235\n",
       "education5        -0.580093\n",
       "education6        -0.535857\n",
       "education7        -0.483925\n",
       "education8        -0.440787\n",
       "education9        -0.403709\n",
       "education10       -0.377110\n",
       "education_14.3     0.766097\n",
       "shopping1         -0.842382\n",
       "shopping2         -0.849381\n",
       "shopping3         -0.839614\n",
       "shopping4         -0.810362\n",
       "shopping5         -0.791283\n",
       "shopping6         -0.768701\n",
       "shopping7         -0.741282\n",
       "shopping8         -0.728779\n",
       "shopping9         -0.709955\n",
       "shopping10        -0.698580\n",
       "shopping_21.6      0.901017\n",
       "errands1          -0.793668\n",
       "errands2          -0.816872\n",
       "errands3          -0.813845\n",
       "errands4          -0.803623\n",
       "errands5          -0.788044\n",
       "errands6          -0.777741\n",
       "errands7          -0.764593\n",
       "errands8          -0.743116\n",
       "errands9          -0.729931\n",
       "errands10         -0.715193\n",
       "errands_8.9        0.867193\n",
       "recreation1       -0.741146\n",
       "recreation2       -0.797377\n",
       "recreation3       -0.831556\n",
       "recreation4       -0.850837\n",
       "recreation5       -0.858018\n",
       "recreation6       -0.866551\n",
       "recreation7       -0.869582\n",
       "recreation8       -0.872710\n",
       "recreation9       -0.877338\n",
       "recreation10      -0.877996\n",
       "recreation_23.3    0.885171\n",
       "Walk_Index         1.000000\n",
       "multi_index        0.975056\n",
       "Name: Walk_Index, dtype: float64"
      ]
     },
     "execution_count": 213,
     "metadata": {},
     "output_type": "execute_result"
    }
   ],
   "source": [
    "correlations['Walk_Index']"
   ]
  },
  {
   "cell_type": "code",
   "execution_count": 216,
   "id": "0a1d0036",
   "metadata": {},
   "outputs": [
    {
     "data": {
      "text/plain": [
       "0.6976174117008982"
      ]
     },
     "execution_count": 216,
     "metadata": {},
     "output_type": "execute_result"
    }
   ],
   "source": [
    "get_rsq(results_2_bf['Walk_Index'], results_2_bf['multi_index'])"
   ]
  },
  {
   "cell_type": "code",
   "execution_count": null,
   "id": "15848d94",
   "metadata": {},
   "outputs": [],
   "source": [
    "results_2_bf[results_2_bf['Walk_Index']<1]"
   ]
  },
  {
   "cell_type": "code",
   "execution_count": null,
   "id": "fb17e4fa",
   "metadata": {},
   "outputs": [],
   "source": [
    "results.loc[:, [x for x in results.columns if \"_\" in x]]"
   ]
  },
  {
   "cell_type": "code",
   "execution_count": 111,
   "id": "897d4646",
   "metadata": {},
   "outputs": [
    {
     "data": {
      "text/html": [
       "<div>\n",
       "<style scoped>\n",
       "    .dataframe tbody tr th:only-of-type {\n",
       "        vertical-align: middle;\n",
       "    }\n",
       "\n",
       "    .dataframe tbody tr th {\n",
       "        vertical-align: top;\n",
       "    }\n",
       "\n",
       "    .dataframe thead th {\n",
       "        text-align: right;\n",
       "    }\n",
       "</style>\n",
       "<table border=\"1\" class=\"dataframe\">\n",
       "  <thead>\n",
       "    <tr style=\"text-align: right;\">\n",
       "      <th></th>\n",
       "      <th>x</th>\n",
       "      <th>y</th>\n",
       "      <th>MB Job Count</th>\n",
       "      <th>employment1</th>\n",
       "      <th>employment2</th>\n",
       "      <th>employment3</th>\n",
       "      <th>employment4</th>\n",
       "      <th>employment5</th>\n",
       "      <th>employment6</th>\n",
       "      <th>employment7</th>\n",
       "      <th>...</th>\n",
       "      <th>recreation4</th>\n",
       "      <th>recreation5</th>\n",
       "      <th>recreation6</th>\n",
       "      <th>recreation7</th>\n",
       "      <th>recreation8</th>\n",
       "      <th>recreation9</th>\n",
       "      <th>recreation10</th>\n",
       "      <th>recreation_23.3</th>\n",
       "      <th>Walk_Index</th>\n",
       "      <th>multi_index</th>\n",
       "    </tr>\n",
       "    <tr>\n",
       "      <th>connect_id</th>\n",
       "      <th></th>\n",
       "      <th></th>\n",
       "      <th></th>\n",
       "      <th></th>\n",
       "      <th></th>\n",
       "      <th></th>\n",
       "      <th></th>\n",
       "      <th></th>\n",
       "      <th></th>\n",
       "      <th></th>\n",
       "      <th></th>\n",
       "      <th></th>\n",
       "      <th></th>\n",
       "      <th></th>\n",
       "      <th></th>\n",
       "      <th></th>\n",
       "      <th></th>\n",
       "      <th></th>\n",
       "      <th></th>\n",
       "      <th></th>\n",
       "      <th></th>\n",
       "    </tr>\n",
       "  </thead>\n",
       "  <tbody>\n",
       "    <tr>\n",
       "      <th>533304</th>\n",
       "      <td>-828233.58961</td>\n",
       "      <td>5.996892e+06</td>\n",
       "      <td>0.0</td>\n",
       "      <td>2400.0</td>\n",
       "      <td>2400.0</td>\n",
       "      <td>2400.0</td>\n",
       "      <td>2400.0</td>\n",
       "      <td>2400.0</td>\n",
       "      <td>2400.0</td>\n",
       "      <td>2400.0</td>\n",
       "      <td>...</td>\n",
       "      <td>2400.0</td>\n",
       "      <td>2400.0</td>\n",
       "      <td>2400.0</td>\n",
       "      <td>2400.0</td>\n",
       "      <td>2400.0</td>\n",
       "      <td>2400.0</td>\n",
       "      <td>2400.0</td>\n",
       "      <td>0.000</td>\n",
       "      <td>0.000</td>\n",
       "      <td>0.000000</td>\n",
       "    </tr>\n",
       "    <tr>\n",
       "      <th>953847</th>\n",
       "      <td>-811900.62081</td>\n",
       "      <td>6.050690e+06</td>\n",
       "      <td>0.0</td>\n",
       "      <td>2400.0</td>\n",
       "      <td>2400.0</td>\n",
       "      <td>2400.0</td>\n",
       "      <td>2400.0</td>\n",
       "      <td>2400.0</td>\n",
       "      <td>2400.0</td>\n",
       "      <td>2400.0</td>\n",
       "      <td>...</td>\n",
       "      <td>2400.0</td>\n",
       "      <td>2400.0</td>\n",
       "      <td>2400.0</td>\n",
       "      <td>2400.0</td>\n",
       "      <td>2400.0</td>\n",
       "      <td>2400.0</td>\n",
       "      <td>2400.0</td>\n",
       "      <td>0.000</td>\n",
       "      <td>0.000</td>\n",
       "      <td>0.000000</td>\n",
       "    </tr>\n",
       "    <tr>\n",
       "      <th>953848</th>\n",
       "      <td>-792381.46577</td>\n",
       "      <td>6.025416e+06</td>\n",
       "      <td>0.0</td>\n",
       "      <td>2400.0</td>\n",
       "      <td>2400.0</td>\n",
       "      <td>2400.0</td>\n",
       "      <td>2400.0</td>\n",
       "      <td>2400.0</td>\n",
       "      <td>2400.0</td>\n",
       "      <td>2400.0</td>\n",
       "      <td>...</td>\n",
       "      <td>2400.0</td>\n",
       "      <td>2400.0</td>\n",
       "      <td>2400.0</td>\n",
       "      <td>2400.0</td>\n",
       "      <td>2400.0</td>\n",
       "      <td>2400.0</td>\n",
       "      <td>2400.0</td>\n",
       "      <td>0.000</td>\n",
       "      <td>0.000</td>\n",
       "      <td>0.000000</td>\n",
       "    </tr>\n",
       "    <tr>\n",
       "      <th>953849</th>\n",
       "      <td>-813214.57167</td>\n",
       "      <td>6.066168e+06</td>\n",
       "      <td>0.0</td>\n",
       "      <td>2400.0</td>\n",
       "      <td>2400.0</td>\n",
       "      <td>2400.0</td>\n",
       "      <td>2400.0</td>\n",
       "      <td>2400.0</td>\n",
       "      <td>2400.0</td>\n",
       "      <td>2400.0</td>\n",
       "      <td>...</td>\n",
       "      <td>2400.0</td>\n",
       "      <td>2400.0</td>\n",
       "      <td>2400.0</td>\n",
       "      <td>2400.0</td>\n",
       "      <td>2400.0</td>\n",
       "      <td>2400.0</td>\n",
       "      <td>2400.0</td>\n",
       "      <td>0.000</td>\n",
       "      <td>0.000</td>\n",
       "      <td>0.000000</td>\n",
       "    </tr>\n",
       "    <tr>\n",
       "      <th>953850</th>\n",
       "      <td>-799680.92396</td>\n",
       "      <td>6.012753e+06</td>\n",
       "      <td>0.0</td>\n",
       "      <td>2400.0</td>\n",
       "      <td>2400.0</td>\n",
       "      <td>2400.0</td>\n",
       "      <td>2400.0</td>\n",
       "      <td>2400.0</td>\n",
       "      <td>2400.0</td>\n",
       "      <td>2400.0</td>\n",
       "      <td>...</td>\n",
       "      <td>2400.0</td>\n",
       "      <td>2400.0</td>\n",
       "      <td>2400.0</td>\n",
       "      <td>2400.0</td>\n",
       "      <td>2400.0</td>\n",
       "      <td>2400.0</td>\n",
       "      <td>2400.0</td>\n",
       "      <td>0.000</td>\n",
       "      <td>0.000</td>\n",
       "      <td>0.000000</td>\n",
       "    </tr>\n",
       "    <tr>\n",
       "      <th>...</th>\n",
       "      <td>...</td>\n",
       "      <td>...</td>\n",
       "      <td>...</td>\n",
       "      <td>...</td>\n",
       "      <td>...</td>\n",
       "      <td>...</td>\n",
       "      <td>...</td>\n",
       "      <td>...</td>\n",
       "      <td>...</td>\n",
       "      <td>...</td>\n",
       "      <td>...</td>\n",
       "      <td>...</td>\n",
       "      <td>...</td>\n",
       "      <td>...</td>\n",
       "      <td>...</td>\n",
       "      <td>...</td>\n",
       "      <td>...</td>\n",
       "      <td>...</td>\n",
       "      <td>...</td>\n",
       "      <td>...</td>\n",
       "      <td>...</td>\n",
       "    </tr>\n",
       "    <tr>\n",
       "      <th>675143</th>\n",
       "      <td>-776426.31214</td>\n",
       "      <td>6.023970e+06</td>\n",
       "      <td>7733.0</td>\n",
       "      <td>1223.0</td>\n",
       "      <td>1223.0</td>\n",
       "      <td>1223.0</td>\n",
       "      <td>1223.0</td>\n",
       "      <td>1223.0</td>\n",
       "      <td>1223.0</td>\n",
       "      <td>1223.0</td>\n",
       "      <td>...</td>\n",
       "      <td>1223.0</td>\n",
       "      <td>1223.0</td>\n",
       "      <td>1223.0</td>\n",
       "      <td>1223.0</td>\n",
       "      <td>1223.0</td>\n",
       "      <td>1223.0</td>\n",
       "      <td>1223.0</td>\n",
       "      <td>6.827</td>\n",
       "      <td>23.782</td>\n",
       "      <td>25.204486</td>\n",
       "    </tr>\n",
       "    <tr>\n",
       "      <th>1062503</th>\n",
       "      <td>-776588.82181</td>\n",
       "      <td>6.024027e+06</td>\n",
       "      <td>7908.0</td>\n",
       "      <td>1201.0</td>\n",
       "      <td>1201.0</td>\n",
       "      <td>1201.0</td>\n",
       "      <td>1201.0</td>\n",
       "      <td>1201.0</td>\n",
       "      <td>1201.0</td>\n",
       "      <td>1201.0</td>\n",
       "      <td>...</td>\n",
       "      <td>1201.0</td>\n",
       "      <td>1201.0</td>\n",
       "      <td>1201.0</td>\n",
       "      <td>1201.0</td>\n",
       "      <td>1201.0</td>\n",
       "      <td>1201.0</td>\n",
       "      <td>1201.0</td>\n",
       "      <td>6.981</td>\n",
       "      <td>24.314</td>\n",
       "      <td>25.740181</td>\n",
       "    </tr>\n",
       "    <tr>\n",
       "      <th>1062500</th>\n",
       "      <td>-776748.23466</td>\n",
       "      <td>6.024266e+06</td>\n",
       "      <td>10561.0</td>\n",
       "      <td>912.0</td>\n",
       "      <td>912.0</td>\n",
       "      <td>912.0</td>\n",
       "      <td>912.0</td>\n",
       "      <td>912.0</td>\n",
       "      <td>912.0</td>\n",
       "      <td>912.0</td>\n",
       "      <td>...</td>\n",
       "      <td>912.0</td>\n",
       "      <td>912.0</td>\n",
       "      <td>912.0</td>\n",
       "      <td>912.0</td>\n",
       "      <td>912.0</td>\n",
       "      <td>912.0</td>\n",
       "      <td>912.0</td>\n",
       "      <td>9.323</td>\n",
       "      <td>32.360</td>\n",
       "      <td>33.732541</td>\n",
       "    </tr>\n",
       "    <tr>\n",
       "      <th>742524</th>\n",
       "      <td>-776623.86123</td>\n",
       "      <td>6.024374e+06</td>\n",
       "      <td>12045.0</td>\n",
       "      <td>780.0</td>\n",
       "      <td>780.0</td>\n",
       "      <td>780.0</td>\n",
       "      <td>780.0</td>\n",
       "      <td>780.0</td>\n",
       "      <td>780.0</td>\n",
       "      <td>780.0</td>\n",
       "      <td>...</td>\n",
       "      <td>780.0</td>\n",
       "      <td>780.0</td>\n",
       "      <td>780.0</td>\n",
       "      <td>780.0</td>\n",
       "      <td>780.0</td>\n",
       "      <td>780.0</td>\n",
       "      <td>780.0</td>\n",
       "      <td>10.633</td>\n",
       "      <td>36.837</td>\n",
       "      <td>38.102098</td>\n",
       "    </tr>\n",
       "    <tr>\n",
       "      <th>638150</th>\n",
       "      <td>-776200.70238</td>\n",
       "      <td>6.024440e+06</td>\n",
       "      <td>21897.0</td>\n",
       "      <td>182.0</td>\n",
       "      <td>182.0</td>\n",
       "      <td>182.0</td>\n",
       "      <td>182.0</td>\n",
       "      <td>182.0</td>\n",
       "      <td>182.0</td>\n",
       "      <td>182.0</td>\n",
       "      <td>...</td>\n",
       "      <td>182.0</td>\n",
       "      <td>182.0</td>\n",
       "      <td>182.0</td>\n",
       "      <td>182.0</td>\n",
       "      <td>182.0</td>\n",
       "      <td>182.0</td>\n",
       "      <td>182.0</td>\n",
       "      <td>19.331</td>\n",
       "      <td>66.187</td>\n",
       "      <td>65.810670</td>\n",
       "    </tr>\n",
       "  </tbody>\n",
       "</table>\n",
       "<p>630917 rows × 60 columns</p>\n",
       "</div>"
      ],
      "text/plain": [
       "                       x             y  MB Job Count  employment1  \\\n",
       "connect_id                                                          \n",
       "533304     -828233.58961  5.996892e+06           0.0       2400.0   \n",
       "953847     -811900.62081  6.050690e+06           0.0       2400.0   \n",
       "953848     -792381.46577  6.025416e+06           0.0       2400.0   \n",
       "953849     -813214.57167  6.066168e+06           0.0       2400.0   \n",
       "953850     -799680.92396  6.012753e+06           0.0       2400.0   \n",
       "...                  ...           ...           ...          ...   \n",
       "675143     -776426.31214  6.023970e+06        7733.0       1223.0   \n",
       "1062503    -776588.82181  6.024027e+06        7908.0       1201.0   \n",
       "1062500    -776748.23466  6.024266e+06       10561.0        912.0   \n",
       "742524     -776623.86123  6.024374e+06       12045.0        780.0   \n",
       "638150     -776200.70238  6.024440e+06       21897.0        182.0   \n",
       "\n",
       "            employment2  employment3  employment4  employment5  employment6  \\\n",
       "connect_id                                                                    \n",
       "533304           2400.0       2400.0       2400.0       2400.0       2400.0   \n",
       "953847           2400.0       2400.0       2400.0       2400.0       2400.0   \n",
       "953848           2400.0       2400.0       2400.0       2400.0       2400.0   \n",
       "953849           2400.0       2400.0       2400.0       2400.0       2400.0   \n",
       "953850           2400.0       2400.0       2400.0       2400.0       2400.0   \n",
       "...                 ...          ...          ...          ...          ...   \n",
       "675143           1223.0       1223.0       1223.0       1223.0       1223.0   \n",
       "1062503          1201.0       1201.0       1201.0       1201.0       1201.0   \n",
       "1062500           912.0        912.0        912.0        912.0        912.0   \n",
       "742524            780.0        780.0        780.0        780.0        780.0   \n",
       "638150            182.0        182.0        182.0        182.0        182.0   \n",
       "\n",
       "            employment7  ...  recreation4  recreation5  recreation6  \\\n",
       "connect_id               ...                                          \n",
       "533304           2400.0  ...       2400.0       2400.0       2400.0   \n",
       "953847           2400.0  ...       2400.0       2400.0       2400.0   \n",
       "953848           2400.0  ...       2400.0       2400.0       2400.0   \n",
       "953849           2400.0  ...       2400.0       2400.0       2400.0   \n",
       "953850           2400.0  ...       2400.0       2400.0       2400.0   \n",
       "...                 ...  ...          ...          ...          ...   \n",
       "675143           1223.0  ...       1223.0       1223.0       1223.0   \n",
       "1062503          1201.0  ...       1201.0       1201.0       1201.0   \n",
       "1062500           912.0  ...        912.0        912.0        912.0   \n",
       "742524            780.0  ...        780.0        780.0        780.0   \n",
       "638150            182.0  ...        182.0        182.0        182.0   \n",
       "\n",
       "            recreation7  recreation8  recreation9  recreation10  \\\n",
       "connect_id                                                        \n",
       "533304           2400.0       2400.0       2400.0        2400.0   \n",
       "953847           2400.0       2400.0       2400.0        2400.0   \n",
       "953848           2400.0       2400.0       2400.0        2400.0   \n",
       "953849           2400.0       2400.0       2400.0        2400.0   \n",
       "953850           2400.0       2400.0       2400.0        2400.0   \n",
       "...                 ...          ...          ...           ...   \n",
       "675143           1223.0       1223.0       1223.0        1223.0   \n",
       "1062503          1201.0       1201.0       1201.0        1201.0   \n",
       "1062500           912.0        912.0        912.0         912.0   \n",
       "742524            780.0        780.0        780.0         780.0   \n",
       "638150            182.0        182.0        182.0         182.0   \n",
       "\n",
       "            recreation_23.3  Walk_Index  multi_index  \n",
       "connect_id                                            \n",
       "533304                0.000       0.000     0.000000  \n",
       "953847                0.000       0.000     0.000000  \n",
       "953848                0.000       0.000     0.000000  \n",
       "953849                0.000       0.000     0.000000  \n",
       "953850                0.000       0.000     0.000000  \n",
       "...                     ...         ...          ...  \n",
       "675143                6.827      23.782    25.204486  \n",
       "1062503               6.981      24.314    25.740181  \n",
       "1062500               9.323      32.360    33.732541  \n",
       "742524               10.633      36.837    38.102098  \n",
       "638150               19.331      66.187    65.810670  \n",
       "\n",
       "[630917 rows x 60 columns]"
      ]
     },
     "execution_count": 111,
     "metadata": {},
     "output_type": "execute_result"
    }
   ],
   "source": [
    "results_2_bf.sort_values(by='Walk_Index')"
   ]
  },
  {
   "cell_type": "code",
   "execution_count": 112,
   "id": "3499d051",
   "metadata": {},
   "outputs": [
    {
     "data": {
      "text/html": [
       "<div>\n",
       "<style scoped>\n",
       "    .dataframe tbody tr th:only-of-type {\n",
       "        vertical-align: middle;\n",
       "    }\n",
       "\n",
       "    .dataframe tbody tr th {\n",
       "        vertical-align: top;\n",
       "    }\n",
       "\n",
       "    .dataframe thead th {\n",
       "        text-align: right;\n",
       "    }\n",
       "</style>\n",
       "<table border=\"1\" class=\"dataframe\">\n",
       "  <thead>\n",
       "    <tr style=\"text-align: right;\">\n",
       "      <th></th>\n",
       "      <th>x</th>\n",
       "      <th>y</th>\n",
       "      <th>MB Job Count</th>\n",
       "      <th>employment1</th>\n",
       "      <th>employment2</th>\n",
       "      <th>employment3</th>\n",
       "      <th>employment4</th>\n",
       "      <th>employment5</th>\n",
       "      <th>employment6</th>\n",
       "      <th>employment7</th>\n",
       "      <th>...</th>\n",
       "      <th>accompany children3</th>\n",
       "      <th>accompany children4</th>\n",
       "      <th>accompany children5</th>\n",
       "      <th>accompany children6</th>\n",
       "      <th>accompany children7</th>\n",
       "      <th>accompany children8</th>\n",
       "      <th>accompany children9</th>\n",
       "      <th>accompany children10</th>\n",
       "      <th>accompany children_1.5</th>\n",
       "      <th>Walk_Index</th>\n",
       "    </tr>\n",
       "    <tr>\n",
       "      <th>connect_id</th>\n",
       "      <th></th>\n",
       "      <th></th>\n",
       "      <th></th>\n",
       "      <th></th>\n",
       "      <th></th>\n",
       "      <th></th>\n",
       "      <th></th>\n",
       "      <th></th>\n",
       "      <th></th>\n",
       "      <th></th>\n",
       "      <th></th>\n",
       "      <th></th>\n",
       "      <th></th>\n",
       "      <th></th>\n",
       "      <th></th>\n",
       "      <th></th>\n",
       "      <th></th>\n",
       "      <th></th>\n",
       "      <th></th>\n",
       "      <th></th>\n",
       "      <th></th>\n",
       "    </tr>\n",
       "  </thead>\n",
       "  <tbody>\n",
       "    <tr>\n",
       "      <th>533304</th>\n",
       "      <td>-828233.58961</td>\n",
       "      <td>5.996892e+06</td>\n",
       "      <td>0.0</td>\n",
       "      <td>2400.0</td>\n",
       "      <td>2400.0</td>\n",
       "      <td>2400.0</td>\n",
       "      <td>2400.0</td>\n",
       "      <td>2400.0</td>\n",
       "      <td>2400.0</td>\n",
       "      <td>2400.0</td>\n",
       "      <td>...</td>\n",
       "      <td>2400.0</td>\n",
       "      <td>2400.0</td>\n",
       "      <td>2400.0</td>\n",
       "      <td>2400.0</td>\n",
       "      <td>2400.0</td>\n",
       "      <td>2400.0</td>\n",
       "      <td>2400.0</td>\n",
       "      <td>2400.0</td>\n",
       "      <td>0.000</td>\n",
       "      <td>0.000</td>\n",
       "    </tr>\n",
       "    <tr>\n",
       "      <th>953847</th>\n",
       "      <td>-811900.62081</td>\n",
       "      <td>6.050690e+06</td>\n",
       "      <td>0.0</td>\n",
       "      <td>2400.0</td>\n",
       "      <td>2400.0</td>\n",
       "      <td>2400.0</td>\n",
       "      <td>2400.0</td>\n",
       "      <td>2400.0</td>\n",
       "      <td>2400.0</td>\n",
       "      <td>2400.0</td>\n",
       "      <td>...</td>\n",
       "      <td>2400.0</td>\n",
       "      <td>2400.0</td>\n",
       "      <td>2400.0</td>\n",
       "      <td>2400.0</td>\n",
       "      <td>2400.0</td>\n",
       "      <td>2400.0</td>\n",
       "      <td>2400.0</td>\n",
       "      <td>2400.0</td>\n",
       "      <td>0.000</td>\n",
       "      <td>0.000</td>\n",
       "    </tr>\n",
       "    <tr>\n",
       "      <th>953848</th>\n",
       "      <td>-792381.46577</td>\n",
       "      <td>6.025416e+06</td>\n",
       "      <td>0.0</td>\n",
       "      <td>2400.0</td>\n",
       "      <td>2400.0</td>\n",
       "      <td>2400.0</td>\n",
       "      <td>2400.0</td>\n",
       "      <td>2400.0</td>\n",
       "      <td>2400.0</td>\n",
       "      <td>2400.0</td>\n",
       "      <td>...</td>\n",
       "      <td>2400.0</td>\n",
       "      <td>2400.0</td>\n",
       "      <td>2400.0</td>\n",
       "      <td>2400.0</td>\n",
       "      <td>2400.0</td>\n",
       "      <td>2400.0</td>\n",
       "      <td>2400.0</td>\n",
       "      <td>2400.0</td>\n",
       "      <td>0.000</td>\n",
       "      <td>0.000</td>\n",
       "    </tr>\n",
       "    <tr>\n",
       "      <th>953849</th>\n",
       "      <td>-813214.57167</td>\n",
       "      <td>6.066168e+06</td>\n",
       "      <td>0.0</td>\n",
       "      <td>2400.0</td>\n",
       "      <td>2400.0</td>\n",
       "      <td>2400.0</td>\n",
       "      <td>2400.0</td>\n",
       "      <td>2400.0</td>\n",
       "      <td>2400.0</td>\n",
       "      <td>2400.0</td>\n",
       "      <td>...</td>\n",
       "      <td>2400.0</td>\n",
       "      <td>2400.0</td>\n",
       "      <td>2400.0</td>\n",
       "      <td>2400.0</td>\n",
       "      <td>2400.0</td>\n",
       "      <td>2400.0</td>\n",
       "      <td>2400.0</td>\n",
       "      <td>2400.0</td>\n",
       "      <td>0.000</td>\n",
       "      <td>0.000</td>\n",
       "    </tr>\n",
       "    <tr>\n",
       "      <th>953850</th>\n",
       "      <td>-799680.92396</td>\n",
       "      <td>6.012753e+06</td>\n",
       "      <td>0.0</td>\n",
       "      <td>2400.0</td>\n",
       "      <td>2400.0</td>\n",
       "      <td>2400.0</td>\n",
       "      <td>2400.0</td>\n",
       "      <td>2400.0</td>\n",
       "      <td>2400.0</td>\n",
       "      <td>2400.0</td>\n",
       "      <td>...</td>\n",
       "      <td>2400.0</td>\n",
       "      <td>2400.0</td>\n",
       "      <td>2400.0</td>\n",
       "      <td>2400.0</td>\n",
       "      <td>2400.0</td>\n",
       "      <td>2400.0</td>\n",
       "      <td>2400.0</td>\n",
       "      <td>2400.0</td>\n",
       "      <td>0.000</td>\n",
       "      <td>0.000</td>\n",
       "    </tr>\n",
       "    <tr>\n",
       "      <th>...</th>\n",
       "      <td>...</td>\n",
       "      <td>...</td>\n",
       "      <td>...</td>\n",
       "      <td>...</td>\n",
       "      <td>...</td>\n",
       "      <td>...</td>\n",
       "      <td>...</td>\n",
       "      <td>...</td>\n",
       "      <td>...</td>\n",
       "      <td>...</td>\n",
       "      <td>...</td>\n",
       "      <td>...</td>\n",
       "      <td>...</td>\n",
       "      <td>...</td>\n",
       "      <td>...</td>\n",
       "      <td>...</td>\n",
       "      <td>...</td>\n",
       "      <td>...</td>\n",
       "      <td>...</td>\n",
       "      <td>...</td>\n",
       "      <td>...</td>\n",
       "    </tr>\n",
       "    <tr>\n",
       "      <th>675143</th>\n",
       "      <td>-776426.31214</td>\n",
       "      <td>6.023970e+06</td>\n",
       "      <td>5661.0</td>\n",
       "      <td>1223.0</td>\n",
       "      <td>1223.0</td>\n",
       "      <td>1223.0</td>\n",
       "      <td>1223.0</td>\n",
       "      <td>1223.0</td>\n",
       "      <td>1223.0</td>\n",
       "      <td>1223.0</td>\n",
       "      <td>...</td>\n",
       "      <td>1223.0</td>\n",
       "      <td>1223.0</td>\n",
       "      <td>1223.0</td>\n",
       "      <td>1223.0</td>\n",
       "      <td>1223.0</td>\n",
       "      <td>1223.0</td>\n",
       "      <td>1223.0</td>\n",
       "      <td>1223.0</td>\n",
       "      <td>0.440</td>\n",
       "      <td>25.204</td>\n",
       "    </tr>\n",
       "    <tr>\n",
       "      <th>1062503</th>\n",
       "      <td>-776588.82181</td>\n",
       "      <td>6.024027e+06</td>\n",
       "      <td>5789.0</td>\n",
       "      <td>1201.0</td>\n",
       "      <td>1201.0</td>\n",
       "      <td>1201.0</td>\n",
       "      <td>1201.0</td>\n",
       "      <td>1201.0</td>\n",
       "      <td>1201.0</td>\n",
       "      <td>1201.0</td>\n",
       "      <td>...</td>\n",
       "      <td>1201.0</td>\n",
       "      <td>1201.0</td>\n",
       "      <td>1201.0</td>\n",
       "      <td>1201.0</td>\n",
       "      <td>1201.0</td>\n",
       "      <td>1201.0</td>\n",
       "      <td>1201.0</td>\n",
       "      <td>1201.0</td>\n",
       "      <td>0.449</td>\n",
       "      <td>25.740</td>\n",
       "    </tr>\n",
       "    <tr>\n",
       "      <th>1062500</th>\n",
       "      <td>-776748.23466</td>\n",
       "      <td>6.024266e+06</td>\n",
       "      <td>7730.0</td>\n",
       "      <td>912.0</td>\n",
       "      <td>912.0</td>\n",
       "      <td>912.0</td>\n",
       "      <td>912.0</td>\n",
       "      <td>912.0</td>\n",
       "      <td>912.0</td>\n",
       "      <td>912.0</td>\n",
       "      <td>...</td>\n",
       "      <td>912.0</td>\n",
       "      <td>912.0</td>\n",
       "      <td>912.0</td>\n",
       "      <td>912.0</td>\n",
       "      <td>912.0</td>\n",
       "      <td>912.0</td>\n",
       "      <td>912.0</td>\n",
       "      <td>912.0</td>\n",
       "      <td>0.600</td>\n",
       "      <td>33.733</td>\n",
       "    </tr>\n",
       "    <tr>\n",
       "      <th>742524</th>\n",
       "      <td>-776623.86123</td>\n",
       "      <td>6.024374e+06</td>\n",
       "      <td>8816.0</td>\n",
       "      <td>780.0</td>\n",
       "      <td>780.0</td>\n",
       "      <td>780.0</td>\n",
       "      <td>780.0</td>\n",
       "      <td>780.0</td>\n",
       "      <td>780.0</td>\n",
       "      <td>780.0</td>\n",
       "      <td>...</td>\n",
       "      <td>780.0</td>\n",
       "      <td>780.0</td>\n",
       "      <td>780.0</td>\n",
       "      <td>780.0</td>\n",
       "      <td>780.0</td>\n",
       "      <td>780.0</td>\n",
       "      <td>780.0</td>\n",
       "      <td>780.0</td>\n",
       "      <td>0.685</td>\n",
       "      <td>38.102</td>\n",
       "    </tr>\n",
       "    <tr>\n",
       "      <th>638150</th>\n",
       "      <td>-776200.70238</td>\n",
       "      <td>6.024440e+06</td>\n",
       "      <td>16028.0</td>\n",
       "      <td>182.0</td>\n",
       "      <td>182.0</td>\n",
       "      <td>182.0</td>\n",
       "      <td>182.0</td>\n",
       "      <td>182.0</td>\n",
       "      <td>182.0</td>\n",
       "      <td>182.0</td>\n",
       "      <td>...</td>\n",
       "      <td>182.0</td>\n",
       "      <td>182.0</td>\n",
       "      <td>182.0</td>\n",
       "      <td>182.0</td>\n",
       "      <td>182.0</td>\n",
       "      <td>182.0</td>\n",
       "      <td>182.0</td>\n",
       "      <td>182.0</td>\n",
       "      <td>1.244</td>\n",
       "      <td>65.811</td>\n",
       "    </tr>\n",
       "  </tbody>\n",
       "</table>\n",
       "<p>630917 rows × 192 columns</p>\n",
       "</div>"
      ],
      "text/plain": [
       "                       x             y  MB Job Count  employment1  \\\n",
       "connect_id                                                          \n",
       "533304     -828233.58961  5.996892e+06           0.0       2400.0   \n",
       "953847     -811900.62081  6.050690e+06           0.0       2400.0   \n",
       "953848     -792381.46577  6.025416e+06           0.0       2400.0   \n",
       "953849     -813214.57167  6.066168e+06           0.0       2400.0   \n",
       "953850     -799680.92396  6.012753e+06           0.0       2400.0   \n",
       "...                  ...           ...           ...          ...   \n",
       "675143     -776426.31214  6.023970e+06        5661.0       1223.0   \n",
       "1062503    -776588.82181  6.024027e+06        5789.0       1201.0   \n",
       "1062500    -776748.23466  6.024266e+06        7730.0        912.0   \n",
       "742524     -776623.86123  6.024374e+06        8816.0        780.0   \n",
       "638150     -776200.70238  6.024440e+06       16028.0        182.0   \n",
       "\n",
       "            employment2  employment3  employment4  employment5  employment6  \\\n",
       "connect_id                                                                    \n",
       "533304           2400.0       2400.0       2400.0       2400.0       2400.0   \n",
       "953847           2400.0       2400.0       2400.0       2400.0       2400.0   \n",
       "953848           2400.0       2400.0       2400.0       2400.0       2400.0   \n",
       "953849           2400.0       2400.0       2400.0       2400.0       2400.0   \n",
       "953850           2400.0       2400.0       2400.0       2400.0       2400.0   \n",
       "...                 ...          ...          ...          ...          ...   \n",
       "675143           1223.0       1223.0       1223.0       1223.0       1223.0   \n",
       "1062503          1201.0       1201.0       1201.0       1201.0       1201.0   \n",
       "1062500           912.0        912.0        912.0        912.0        912.0   \n",
       "742524            780.0        780.0        780.0        780.0        780.0   \n",
       "638150            182.0        182.0        182.0        182.0        182.0   \n",
       "\n",
       "            employment7  ...  accompany children3  accompany children4  \\\n",
       "connect_id               ...                                             \n",
       "533304           2400.0  ...               2400.0               2400.0   \n",
       "953847           2400.0  ...               2400.0               2400.0   \n",
       "953848           2400.0  ...               2400.0               2400.0   \n",
       "953849           2400.0  ...               2400.0               2400.0   \n",
       "953850           2400.0  ...               2400.0               2400.0   \n",
       "...                 ...  ...                  ...                  ...   \n",
       "675143           1223.0  ...               1223.0               1223.0   \n",
       "1062503          1201.0  ...               1201.0               1201.0   \n",
       "1062500           912.0  ...                912.0                912.0   \n",
       "742524            780.0  ...                780.0                780.0   \n",
       "638150            182.0  ...                182.0                182.0   \n",
       "\n",
       "            accompany children5  accompany children6  accompany children7  \\\n",
       "connect_id                                                                  \n",
       "533304                   2400.0               2400.0               2400.0   \n",
       "953847                   2400.0               2400.0               2400.0   \n",
       "953848                   2400.0               2400.0               2400.0   \n",
       "953849                   2400.0               2400.0               2400.0   \n",
       "953850                   2400.0               2400.0               2400.0   \n",
       "...                         ...                  ...                  ...   \n",
       "675143                   1223.0               1223.0               1223.0   \n",
       "1062503                  1201.0               1201.0               1201.0   \n",
       "1062500                   912.0                912.0                912.0   \n",
       "742524                    780.0                780.0                780.0   \n",
       "638150                    182.0                182.0                182.0   \n",
       "\n",
       "            accompany children8  accompany children9  accompany children10  \\\n",
       "connect_id                                                                   \n",
       "533304                   2400.0               2400.0                2400.0   \n",
       "953847                   2400.0               2400.0                2400.0   \n",
       "953848                   2400.0               2400.0                2400.0   \n",
       "953849                   2400.0               2400.0                2400.0   \n",
       "953850                   2400.0               2400.0                2400.0   \n",
       "...                         ...                  ...                   ...   \n",
       "675143                   1223.0               1223.0                1223.0   \n",
       "1062503                  1201.0               1201.0                1201.0   \n",
       "1062500                   912.0                912.0                 912.0   \n",
       "742524                    780.0                780.0                 780.0   \n",
       "638150                    182.0                182.0                 182.0   \n",
       "\n",
       "            accompany children_1.5  Walk_Index  \n",
       "connect_id                                      \n",
       "533304                       0.000       0.000  \n",
       "953847                       0.000       0.000  \n",
       "953848                       0.000       0.000  \n",
       "953849                       0.000       0.000  \n",
       "953850                       0.000       0.000  \n",
       "...                            ...         ...  \n",
       "675143                       0.440      25.204  \n",
       "1062503                      0.449      25.740  \n",
       "1062500                      0.600      33.733  \n",
       "742524                       0.685      38.102  \n",
       "638150                       1.244      65.811  \n",
       "\n",
       "[630917 rows x 192 columns]"
      ]
     },
     "execution_count": 112,
     "metadata": {},
     "output_type": "execute_result"
    }
   ],
   "source": [
    "building_results.sort_values(by='Walk_Index')"
   ]
  },
  {
   "cell_type": "code",
   "execution_count": 109,
   "id": "e2874dfd",
   "metadata": {},
   "outputs": [
    {
     "data": {
      "text/html": [
       "<div>\n",
       "<style scoped>\n",
       "    .dataframe tbody tr th:only-of-type {\n",
       "        vertical-align: middle;\n",
       "    }\n",
       "\n",
       "    .dataframe tbody tr th {\n",
       "        vertical-align: top;\n",
       "    }\n",
       "\n",
       "    .dataframe thead th {\n",
       "        text-align: right;\n",
       "    }\n",
       "</style>\n",
       "<table border=\"1\" class=\"dataframe\">\n",
       "  <thead>\n",
       "    <tr style=\"text-align: right;\">\n",
       "      <th></th>\n",
       "      <th>employment_29.0</th>\n",
       "      <th>education_13.0</th>\n",
       "      <th>daily needs_13.8</th>\n",
       "      <th>other goods_5.8</th>\n",
       "      <th>services_1.5</th>\n",
       "      <th>medical_3.6</th>\n",
       "      <th>errands_1.5</th>\n",
       "      <th>visiting_9.4</th>\n",
       "      <th>cultural_1.5</th>\n",
       "      <th>events_1.5</th>\n",
       "      <th>sports_4.4</th>\n",
       "      <th>restaurants_3.6</th>\n",
       "      <th>day trip_0.7</th>\n",
       "      <th>walk/jog/ride_5.1</th>\n",
       "      <th>walk dog_2.9</th>\n",
       "      <th>religious_1.5</th>\n",
       "      <th>accompany children_1.5</th>\n",
       "      <th>Walk_Index</th>\n",
       "    </tr>\n",
       "    <tr>\n",
       "      <th>connect_id</th>\n",
       "      <th></th>\n",
       "      <th></th>\n",
       "      <th></th>\n",
       "      <th></th>\n",
       "      <th></th>\n",
       "      <th></th>\n",
       "      <th></th>\n",
       "      <th></th>\n",
       "      <th></th>\n",
       "      <th></th>\n",
       "      <th></th>\n",
       "      <th></th>\n",
       "      <th></th>\n",
       "      <th></th>\n",
       "      <th></th>\n",
       "      <th></th>\n",
       "      <th></th>\n",
       "      <th></th>\n",
       "    </tr>\n",
       "  </thead>\n",
       "  <tbody>\n",
       "  </tbody>\n",
       "</table>\n",
       "</div>"
      ],
      "text/plain": [
       "Empty DataFrame\n",
       "Columns: [employment_29.0, education_13.0, daily needs_13.8, other goods_5.8, services_1.5, medical_3.6, errands_1.5, visiting_9.4, cultural_1.5, events_1.5, sports_4.4, restaurants_3.6, day trip_0.7, walk/jog/ride_5.1, walk dog_2.9, religious_1.5, accompany children_1.5, Walk_Index]\n",
       "Index: []"
      ]
     },
     "execution_count": 109,
     "metadata": {},
     "output_type": "execute_result"
    }
   ],
   "source": [
    "building_results[(results_2_bf['multi_index']< (results_2_bf['Walk_Index']-1))].loc[:, [x for x in building_results.columns if \"_\" in x]]"
   ]
  },
  {
   "cell_type": "code",
   "execution_count": null,
   "id": "4d2f1879",
   "metadata": {},
   "outputs": [],
   "source": [
    "results_gdf[results_gdf['connect_id']==3933464].to_crs(\"EPSG:4326\")"
   ]
  },
  {
   "cell_type": "code",
   "execution_count": null,
   "id": "57d011c0",
   "metadata": {},
   "outputs": [],
   "source": [
    "results_2_bf[(results_2_bf['multi_index']<2) & (results_2_bf['Walk_Index']>20)]"
   ]
  },
  {
   "cell_type": "code",
   "execution_count": 236,
   "id": "0adce114",
   "metadata": {},
   "outputs": [],
   "source": [
    "from scipy.optimize import least_squares\n",
    "import random"
   ]
  },
  {
   "cell_type": "code",
   "execution_count": 239,
   "id": "e2b147b2",
   "metadata": {},
   "outputs": [],
   "source": [
    "subdata = random.sample(list(building_results.index), int(round(0.1*len(building_results),0)))"
   ]
  },
  {
   "cell_type": "code",
   "execution_count": 240,
   "id": "619e2468",
   "metadata": {},
   "outputs": [
    {
     "data": {
      "text/plain": [
       "Text(0, 0.5, '19 category index')"
      ]
     },
     "execution_count": 240,
     "metadata": {},
     "output_type": "execute_result"
    },
    {
     "data": {
      "image/png": "[encoded data removed]",
      "text/plain": [
       "<Figure size 432x288 with 1 Axes>"
      ]
     },
     "metadata": {
      "needs_background": "light"
     },
     "output_type": "display_data"
    }
   ],
   "source": [
    "fig, ax = plt.subplots()\n",
    "ax.scatter(results_2_bf['Walk_Index'][subdata], \n",
    "           results_2_bf['multi_index'][subdata],\n",
    "          alpha = 0.1, s = 20)\n",
    "ax.plot(results_2_bf['Walk_Index'][0:round(len(building_results)/50)],\n",
    "       results_2_bf['Walk_Index'][0:round(len(building_results)/50)]*0.78,\n",
    "       c = 'red')\n",
    "ax.set_xlabel('5 category index')\n",
    "ax.set_ylabel('19 category index')"
   ]
  },
  {
   "cell_type": "code",
   "execution_count": 233,
   "id": "2e1297a9",
   "metadata": {},
   "outputs": [
    {
     "data": {
      "text/plain": [
       "0.21999999999999997"
      ]
     },
     "execution_count": 233,
     "metadata": {},
     "output_type": "execute_result"
    }
   ],
   "source": [
    "(1-0.78)"
   ]
  },
  {
   "cell_type": "code",
   "execution_count": 230,
   "id": "427acada",
   "metadata": {},
   "outputs": [
    {
     "name": "stdout",
     "output_type": "stream",
     "text": [
      "`ftol` termination condition is satisfied.\n",
      "Function evaluations 7, initial cost 1.1509e+08, final cost 1.1256e+06, first-order optimality 3.79e-03.\n",
      "Estimates   [0.78537846 0.92467182]\n"
     ]
    }
   ],
   "source": [
    "# Define the cost function\n",
    "def exp2w_model(c, small):\n",
    "    large = small*c[0] + c[1]\n",
    "    return large\n",
    "\n",
    "def exp2w(c):\n",
    "    large = exp2w_model(c, results_2_bf['Walk_Index'])\n",
    "    residual = results_2_bf['multi_index'] - large\n",
    "    return residual\n",
    "\n",
    "init_coeff = [-0.00005, 0.5]\n",
    "exp2wp = least_squares(exp2w, init_coeff, method='lm', verbose=2)\n",
    "print(\"Estimates  \", exp2wp.x)\n",
    "#get_rsq(exp2w_model(exp2wp.x, total_workers, jobs), walk_trips, total_workers)"
   ]
  },
  {
   "cell_type": "code",
   "execution_count": 245,
   "id": "a2803cd9",
   "metadata": {},
   "outputs": [],
   "source": [
    "estimated = exp2w_model(exp2wp.x, results_2_bf['Walk_Index'], results_2_bf['multi_index'])\n",
    "residual = results_2_bf['multi_index'] - estimated"
   ]
  },
  {
   "cell_type": "code",
   "execution_count": 247,
   "id": "90ac746a",
   "metadata": {},
   "outputs": [
    {
     "data": {
      "text/plain": [
       "Text(0.5, 0, '5 category index')"
      ]
     },
     "execution_count": 247,
     "metadata": {},
     "output_type": "execute_result"
    },
    {
     "data": {
      "image/png": "[encoded data removed]",
      "text/plain": [
       "<Figure size 432x288 with 1 Axes>"
      ]
     },
     "metadata": {
      "needs_background": "light"
     },
     "output_type": "display_data"
    }
   ],
   "source": [
    "fig, ax = plt.subplots()\n",
    "ax.scatter(estimated, \n",
    "           residual,\n",
    "          alpha = 0.1, s = 20)\n",
    "\n",
    "ax.set_xlabel('5 category index')"
   ]
  }
 ],
 "metadata": {
  "kernelspec": {
   "display_name": "Python 3",
   "language": "python",
   "name": "python3"
  },
  "language_info": {
   "codemirror_mode": {
    "name": "ipython",
    "version": 3
   },
   "file_extension": ".py",
   "mimetype": "text/x-python",
   "name": "python",
   "nbconvert_exporter": "python",
   "pygments_lexer": "ipython3",
   "version": "3.8.12"
  }
 },
 "nbformat": 4,
 "nbformat_minor": 5
}
