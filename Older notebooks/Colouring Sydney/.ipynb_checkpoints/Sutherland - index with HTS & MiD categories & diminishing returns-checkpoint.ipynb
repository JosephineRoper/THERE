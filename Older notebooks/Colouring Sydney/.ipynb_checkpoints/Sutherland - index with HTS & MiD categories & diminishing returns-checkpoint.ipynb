{
 "cells": [
  {
   "cell_type": "code",
   "execution_count": 158,
   "id": "5427baeb",
   "metadata": {},
   "outputs": [
    {
     "name": "stdout",
     "output_type": "stream",
     "text": [
      "The autoreload extension is already loaded. To reload it, use:\n",
      "  %reload_ext autoreload\n"
     ]
    }
   ],
   "source": [
    "%load_ext autoreload\n",
    "%autoreload 2"
   ]
  },
  {
   "cell_type": "code",
   "execution_count": 159,
   "id": "2c6e251a",
   "metadata": {},
   "outputs": [],
   "source": [
    "import numpy as np\n",
    "import pandana as pdna\n",
    "import geopandas as gpd\n",
    "import pandas as pd\n",
    "import math\n",
    "import networkx as nx\n",
    "import sys\n",
    "# adding functions \n",
    "sys.path.insert(0, 'C:\\\\Users\\\\z3258367\\\\OneDrive - UNSW\\\\#PhD\\\\Walkability\\\\Other Cities\\\\Open-Walk-Index')\n",
    "from walkability_functions import *"
   ]
  },
  {
   "cell_type": "markdown",
   "id": "0ee150b9",
   "metadata": {},
   "source": [
    "Choose a projected CRS to be used for all distance calculations."
   ]
  },
  {
   "cell_type": "code",
   "execution_count": 160,
   "id": "0dc18490",
   "metadata": {},
   "outputs": [],
   "source": [
    "proj_crs = \"EPSG:7856\""
   ]
  },
  {
   "cell_type": "markdown",
   "id": "6dc208e1",
   "metadata": {},
   "source": [
    "## Import Data\n",
    "\n",
    "Data sources:\n",
    "1. Shape of Greater Sydney - used to clip points\n",
    "2. Points of interest from OSM - using Geofabriks shapefiles as the source\n",
    "3. Transport for NSW public transport stops\n",
    "4. Spatial Services NSW for additional POIs\n",
    "5. Employment data - processed from ABS originally"
   ]
  },
  {
   "cell_type": "code",
   "execution_count": 161,
   "id": "c4f527da",
   "metadata": {},
   "outputs": [],
   "source": [
    "folder = \"C:\\\\Users\\\\z3258367\\\\OneDrive - UNSW\\\\#PhD\\\\\"\n",
    "Sutherland = gpd.read_file((folder + \n",
    "    \"Walkability\\\\Other Cities\\\\Colouring data & results\\\\Sydney Data\\\\Data\\\\Sutherland LGA.gpkg\")\n",
    "    ).to_crs(proj_crs)"
   ]
  },
  {
   "cell_type": "code",
   "execution_count": 162,
   "id": "5b30448f",
   "metadata": {},
   "outputs": [],
   "source": [
    "osm_poi_points = gpd.read_file(''.join((folder, \n",
    "    \"Walkability\\\\Mavoa\\\\Pandana inputs\\\\Greater_Sydney_OSM_POIs_sp.shp\")))\n",
    "osm_poi_areas = gpd.read_file(folder + \n",
    "    \"Walkability\\\\Mavoa\\\\Pandana inputs\\\\Greater_Sydney_OSM_POIs_a_sp.gpkg\")\n",
    "osm_transport_points = gpd.read_file(folder +\n",
    "    \"Walkability\\\\Mavoa\\\\Pandana inputs\\\\Greater_Sydney_OSM_transport_sp.shp\")\n",
    "osm_transport_areas =  gpd.read_file(folder +\n",
    "    \"Data\\\\OSM-australia-latest-free\\\\gis_osm_transport_a_free_1.shp\")\n",
    "osm_pow_points = gpd.read_file(folder + \n",
    "    \"Data\\\\OSM-australia-latest-free\\\\gis_osm_pofw_free_1.shp\")\n",
    "osm_pow_areas = gpd.read_file(folder + \n",
    "    \"Data\\\\OSM-australia-latest-free\\\\gis_osm_pofw_a_free_1.shp\")\n",
    "osm_natural = gpd.read_file(folder + \n",
    "    \"Data\\\\OSM-australia-latest-free\\\\gis_osm_natural_a_free_1.shp\")\n",
    "osm_govt_points = gpd.read_file(folder + \n",
    "    \"Walkability\\\\Other Cities\\\\Colouring data & results\\\\Shared Aus Data\\\\OSM government offices.gpkg\",\n",
    "                             layer = \"OSM government offices points\").to_crs(osm_natural.crs)\n",
    "osm_govt_points['fclass'] = 'government'\n",
    "osm_govt_areas = gpd.read_file(folder + \n",
    "    \"Walkability\\\\Other Cities\\\\Colouring data & results\\\\Shared Aus Data\\\\OSM government offices.gpkg\",\n",
    "                             layer = \"OSM government offices areas\").to_crs(osm_natural.crs)\n",
    "osm_govt_areas['fclass'] = 'government'\n",
    "\n",
    "# the OSM POIs includes domestic swimming pools in some suburbs. This line removes swimming pools less than 100m2.\n",
    "# Same for domestic tennis courts appearing as 'pitches'. Removed pitches below 450m2.\n",
    "osm_poi_areas = osm_poi_areas[~((osm_poi_areas['fclass']=='swimming_pool') & (osm_poi_areas.to_crs(proj_crs).area < 100))]\n",
    "osm_poi_areas = osm_poi_areas[~((osm_poi_areas['fclass']=='pitch') & (osm_poi_areas.to_crs(proj_crs).area < 450))]"
   ]
  },
  {
   "cell_type": "code",
   "execution_count": 163,
   "id": "06524e14",
   "metadata": {},
   "outputs": [],
   "source": [
    "# import SS NSW data\n",
    "SS_NSW = gpd.read_file((folder + \n",
    "                        \"Data\\\\NSW Spatial Services\\\\NSW_Features_of_Interest_Category.gdb\"),layer='BuildingComplexPoint')\n",
    "SS_NSW.to_crs(Sutherland.crs, inplace = True)\n",
    "SS_NSW['fclass'] = (SS_NSW['classsubtype'].astype(str) + \"-\" \n",
    "                    + SS_NSW['buildingcomplextype'].astype(str))\n",
    "\n",
    "# add general cultural points\n",
    "SS_NSW_gc = gpd.read_file((folder + \n",
    "                           \"Data\\\\NSW Spatial Services\\\\NSW_Features_of_Interest_Category.gdb\"),layer='GeneralCulturalPoint')\n",
    "SS_NSW_gc.to_crs(Sutherland.crs, inplace = True)\n",
    "SS_NSW_gc['fclass'] = (SS_NSW_gc['classsubtype'].astype(str) + \"-\" \n",
    "                       + SS_NSW_gc['generalculturaltype'].astype(str) + \"-gc\")\n",
    "\n",
    "SS_NSW = pd.concat([SS_NSW, SS_NSW_gc]).to_crs(proj_crs)"
   ]
  },
  {
   "cell_type": "code",
   "execution_count": 164,
   "id": "ab2869c5",
   "metadata": {},
   "outputs": [],
   "source": [
    "SS_names = {'4-10': 'shopping centre', '2-18': 'post office', '2-16': 'place of worship',\n",
    " '3-3': 'health centre', '3-5': 'health centre', '3-6': 'health centre',\n",
    " '1-1': 'school', '1-2': 'school', '1-3': 'school', '1-5': 'school', '1-6': 'school',\n",
    " '1-8': 'school', '1-4': 'university', '1-7': 'childcare',\n",
    " '2-2': 'art gallery', '2-11': 'library', '2-14': 'museum',\n",
    " '6-12': 'sports centre', '6-18': 'zoo', '1-6-gc': 'outdoor theater',\n",
    " '6-15': 'swimming pool', '9-2-gc': 'swimming pool',\n",
    " '6-17': 'tourist attraction', '1-2-gc': 'golf course', '1-5-gc': 'lookout',\n",
    " '1-7-gc': 'park', '1-8-gc': 'picnic area', '1-12-gc': 'sports field', '1-13-gc': 'sports field'}\n",
    "\n",
    "SS_NSW.replace({'fclass': SS_names},inplace=True)"
   ]
  },
  {
   "cell_type": "code",
   "execution_count": 165,
   "id": "fa0b7eea",
   "metadata": {},
   "outputs": [],
   "source": [
    "employment_centrs = gpd.read_file((folder + \n",
    "                        \"Walkability\\\\Other Cities\\\\Colouring data & results\\\\Sydney Data\\\\Data\\\\NSW_Employment_meshblocks.gpkg\"),\n",
    "                                  layer='centroids').to_crs(proj_crs)\n",
    "\n",
    "employment_centrs['category'] = 'employment'"
   ]
  },
  {
   "cell_type": "markdown",
   "id": "636647db",
   "metadata": {},
   "source": [
    "Convert polygonal datasets to points and any multipart datasets to single part."
   ]
  },
  {
   "cell_type": "code",
   "execution_count": 166,
   "id": "763e8027",
   "metadata": {},
   "outputs": [],
   "source": [
    "osm_pois_2 = single_points(osm_poi_areas)\n",
    "osm_transport_2 = single_points(osm_transport_areas)\n",
    "osm_pow_2 = single_points(osm_pow_areas)\n",
    "osm_natural_2 = single_points(osm_natural)\n",
    "osm_govt_2 = single_points(osm_govt_areas)\n",
    "\n",
    "osm_df = pd.concat([osm_poi_points, osm_pois_2, osm_transport_points, osm_govt_points,\n",
    "                    osm_transport_2, osm_pow_points, osm_pow_2, osm_natural_2, osm_govt_2]).to_crs(proj_crs)\n",
    "\n",
    "osm_df = gpd.clip(osm_df, Sutherland).iloc[:,0:5]"
   ]
  },
  {
   "cell_type": "markdown",
   "id": "c456dd5a",
   "metadata": {},
   "source": [
    "### Residential population"
   ]
  },
  {
   "cell_type": "code",
   "execution_count": 167,
   "id": "a3df8ea7",
   "metadata": {},
   "outputs": [],
   "source": [
    "meshblocks = pd.read_csv(''.join(folder + \"Data\\\\ABS Data\\\\2016 census mesh block counts.csv\"))\n",
    "mb_shapes = gpd.read_file(''.join(folder + \"Data\\\\ABS Data\\\\2016_NSW_MBs\\\\MB_2016_NSW.shp\"))"
   ]
  },
  {
   "cell_type": "code",
   "execution_count": 168,
   "id": "e2a45995",
   "metadata": {},
   "outputs": [],
   "source": [
    "mb_shapes['MB_CODE16'] = mb_shapes['MB_CODE16'].astype('int64')\n",
    "\n",
    "pop_mbs = mb_shapes.join(meshblocks.set_index('MB_CODE_2016'), on='MB_CODE16', how='inner', rsuffix='_2')\n",
    "pop_mbs['geometry'] = pop_mbs['geometry'].to_crs(proj_crs).centroid\n",
    "\n",
    "pop_pois = pop_mbs[(pop_mbs['Person'] > 0) & ~(pop_mbs['geometry'].isnull())][\n",
    "    ['MB_CODE16', 'MB_CATEGORY_NAME_2016', 'AREA_ALBERS_SQKM', 'Person','geometry']]\n",
    "pop_pois['fclass'] = 'residential'"
   ]
  },
  {
   "cell_type": "markdown",
   "id": "901b178e",
   "metadata": {},
   "source": [
    " 10,000 for population? Micropolitan size?\n",
    " For jobs: Colin Clark reports that cities need 100,000-200,000 in order to provide an adequate range of commercial services. 200-500k to support broadly based manufacturing activity."
   ]
  },
  {
   "cell_type": "markdown",
   "id": "96944dbd",
   "metadata": {},
   "source": [
    "### Categorise and weight POIs"
   ]
  },
  {
   "cell_type": "markdown",
   "id": "94b0c568",
   "metadata": {},
   "source": [
    "Choose walk index weightings, and output the sums of each category and the total to check. The walk index will be out of 100 regardless of this sum, but it is important to note that eg. shopping is only '10% of the walk index' if shopping is 10 out of 100."
   ]
  },
  {
   "cell_type": "code",
   "execution_count": 169,
   "id": "9d7ee67e",
   "metadata": {},
   "outputs": [],
   "source": [
    "poi_parameters = pd.read_csv((folder + \n",
    "                              \"Walkability\\\\Other Cities\\\\Colouring data & results\\\\Shared Aus Data\\\\poi_parameters.csv\"),\n",
    "                            index_col=0)"
   ]
  },
  {
   "cell_type": "code",
   "execution_count": 170,
   "id": "2d7552c9",
   "metadata": {},
   "outputs": [],
   "source": [
    "poi_weights = poi_parameters['weight']\n",
    "\n",
    "poi_lambdas = poi_parameters['diminishing_returns_constant']\n",
    "\n",
    "poi_variables = poi_parameters['variable']\n",
    "\n",
    "poi_nums = poi_parameters['num_pois']\n",
    "\n",
    "poi_gammas = poi_parameters['distance_constant']"
   ]
  },
  {
   "cell_type": "code",
   "execution_count": 171,
   "id": "b7f4b63d",
   "metadata": {},
   "outputs": [
    {
     "name": "stdout",
     "output_type": "stream",
     "text": [
      "total:  100.3\n"
     ]
    }
   ],
   "source": [
    "total = sum(poi_weights)\n",
    "print(\"total: \", total)"
   ]
  },
  {
   "cell_type": "markdown",
   "id": "9f38e444",
   "metadata": {},
   "source": [
    "Categorise POI data - change classes depending on your analysis and your data sources.\n",
    "The purpose of the 'categorise_pois' function now is just to align the different sources of information so that their tags are in the same column, eg 'category'. It does not add a category column, because one tag can belong to multiple categories."
   ]
  },
  {
   "cell_type": "code",
   "execution_count": 174,
   "id": "483b4ae7",
   "metadata": {},
   "outputs": [
    {
     "name": "stdout",
     "output_type": "stream",
     "text": [
      "Some tags are present in the dataset but not in the category dictionary.POIs with these tags have been removed:\n",
      "['bench' 'toilet' 'memorial' 'tourist_info' 'caravan_site' 'fire_station'\n",
      " 'railway_station' 'drinking_water' 'motel' 'waste_basket' 'camp_site'\n",
      " 'picnic_site' 'telephone' 'comms_tower' 'tower' 'water_works' 'bus_stop'\n",
      " 'nursing_home' 'public_building' 'police' 'shelter' 'tram_stop'\n",
      " 'fountain' 'guesthouse' 'car_wash' 'recycling' 'observation_tower'\n",
      " 'vending_machine' 'bus_station' 'taxi' 'water_tower' 'monument'\n",
      " 'camera_surveillance' 'hostel' 'recycling_clothes' 'vending_any'\n",
      " 'car_rental' 'recycling_glass' 'wastewater_plant' 'lighthouse']\n",
      "Some tags are present in the dataset but not in the category dictionary.POIs with these tags have been removed:\n",
      "['4-6' '2-24' '5-9' '2-0' '5-10' '2-8' '2-12' '3-0' '2-4' '6-3' '2-17'\n",
      " '2-21' '2-20' '2-9' '5-8' '4-7' '4-4' '4-8' '2-23' '1-0' '3-1' '2-19'\n",
      " '2-5' '4-0' '2-6' '2-7' '2-1' '5-1' '4-1' '2-10' '2-15' '5-5' '5-11'\n",
      " '5-2' '4-2' '4-3' '5-3' '4-9' '5-6' '3-4' '5-7' '6-0' '5-0' '6-2'\n",
      " '4-11-gc' 'picnic area' '12-0-gc' '8-0-gc' '4-12-gc' '1-4-gc' '4-7-gc'\n",
      " '7-0-gc' '4-6-gc' '4-2-gc' '8-2-gc' '6-5-gc' '1-14-gc' '12-1-gc' '1-1-gc'\n",
      " '7-2-gc' '7-1-gc' '1-11-gc' '4-9-gc' '4-3-gc' '5-0-gc' '5-1-gc' '4-0-gc'\n",
      " '4-4-gc' '6-2-gc' '2-0-gc' '4-8-gc' '2-1-gc' '8-1-gc' '1-3-gc' '3-1-gc'\n",
      " '6-4-gc' '7-3-gc' '4-5-gc' '2-2-gc' '6-7-gc' '7-4-gc' '6-8-gc' '6-6-gc'\n",
      " '6-3-gc' '2-3-gc' '1-10-gc' '4-13-gc' '1-0-gc' '7-5-gc' '9-0-gc' '9-1-gc'\n",
      " '6-1-gc' '3-0-gc' '6-0-gc']\n",
      "Some tags are present in the dataset but not in the category dictionary.POIs with these tags have been removed:\n",
      "[]\n"
     ]
    }
   ],
   "source": [
    "poi_categories = {'employment':['employment'],\n",
    "                  'daily needs' : ['supermarket', 'greengrocer','butcher','convenience',\n",
    "                                   'kiosk', 'beverages', 'alcohol', 'bakery', ],\n",
    "                  'other goods' : [\"shopping centre\", 'mall', 'bicycle_shop', 'clothes', 'department_store', \n",
    "                                   'doityourself', 'beauty_shop', 'outdoor_shop', \n",
    "                                   'stationery', 'bookshop', 'gift_shop', 'newsagent', \n",
    "                                   'car_dealership', 'furniture_shop', 'sports_shop',\n",
    "                                   'garden_centre', 'computer_shop', 'shoe_shop', 'florist', \n",
    "                                   'video_shop', 'toy_shop', 'mobile_phone_shop', 'jeweller'],\n",
    "                  'services': ['hairdresser', 'optician', 'travel_agent','laundry', 'veterinary', ],                 \n",
    "                  'medical': [\"health centre\",'chemist', 'pharmacy','doctors', 'dentist','hospital',],                  \n",
    "                  'errands' : [\"post office\",'post_box', 'post_office', 'bank', 'atm',\n",
    "                               'courthouse', 'government' ], \n",
    "                  'education' : [\"childcare\", 'college', 'school', 'kindergarten', 'university'],\n",
    "                  'visiting' : ['residential'],\n",
    "                  'cultural' : [\"art gallery\", \"outdoor theater\", 'arts_centre', 'theatre', 'artwork',\n",
    "                                'library','archaeological', 'cinema', 'museum', 'ruins',],\n",
    "                  'events' : ['stadium', 'marketplace', 'community_centre', 'library',],\n",
    "                  'sports' : [\"sports centre\", \"sports field\", \"swimming pool\", \"golf course\", \n",
    "                              'ice_rink','pitch', 'swimming_pool', 'sports_centre', \n",
    "                              'golf_course', 'track',],\n",
    "                  'further education' : ['community_centre', 'library','college'],\n",
    "                  'restaurants' : ['restaurant', 'pub', 'cafe', 'fast_food', 'bar',  \n",
    "                                   'food_court', 'nightclub', 'biergarten',],\n",
    "                  'day trip' : [\"tourist attraction\", \"lookout\", 'attraction', 'zoo', 'castle', \n",
    "                                'theme_park',],\n",
    "                  'walk/jog/ride' : ['park', 'viewpoint', 'beach'],\n",
    "                  'walk dog' : ['dog_park', 'park',],\n",
    "                  'religious' : [\"place of worship\", 'graveyard', 'christian_anglican', 'muslim',\n",
    "                                'christian', 'christian_catholic', 'christian_protestant',\n",
    "                                'christian_lutheran', 'hindu', 'christian_evangelical',\n",
    "                                'christian_methodist', 'buddhist', 'sikh', 'christian_orthodox', 'jewish',\n",
    "                                'muslim_sunni', 'taoist', 'muslim_shia'],\n",
    "                  'hobby' : [],\n",
    "                  'accompany children' : ['playground', 'library',],\n",
    "                    }\n",
    "\n",
    "osm_categorised = categorise_pois_new(osm_df, poi_categories, \n",
    "                                  old_column='fclass')\n",
    "SS_categorised = categorise_pois_new(SS_NSW, poi_categories, \n",
    "                                 old_column='fclass')\n",
    "pop_categorised = categorise_pois_new(pop_pois, poi_categories, \n",
    "                                 old_column='fclass')"
   ]
  },
  {
   "cell_type": "markdown",
   "id": "d5588632",
   "metadata": {},
   "source": [
    "Need to remove potential overlap between different data sources (and inside some data sources). For this dataset it's around 30% because there is overlap of public transport stops between OSM and TfNSW, and overlap of things like post offices between OSM and SSNSW. Then take this combined POI set and clip it to the study area: should be the same area as is covered by the network. This is important otherwise points outside the network may be erroneously linked to the network."
   ]
  },
  {
   "cell_type": "code",
   "execution_count": 175,
   "id": "a26286de",
   "metadata": {},
   "outputs": [
    {
     "name": "stdout",
     "output_type": "stream",
     "text": [
      "Removed 0.19% duplicate points from dataframes\n"
     ]
    }
   ],
   "source": [
    "pois = remove_duplicate_pois([osm_categorised, SS_categorised, pop_categorised], buffer=10)"
   ]
  },
  {
   "cell_type": "code",
   "execution_count": 176,
   "id": "dade4e46",
   "metadata": {},
   "outputs": [],
   "source": [
    "pois = pd.concat([pois, employment_centrs[['category','Jobs','geometry']], \n",
    "                  pop_pois[['category','Person','geometry']]])\n",
    "\n",
    "pois = gpd.clip(pois, Sutherland)"
   ]
  },
  {
   "cell_type": "code",
   "execution_count": 177,
   "id": "8a7bd4cb",
   "metadata": {
    "scrolled": true
   },
   "outputs": [
    {
     "name": "stdout",
     "output_type": "stream",
     "text": [
      "employment 208\n",
      "education 186\n",
      "daily needs 108\n",
      "other goods 121\n",
      "services 28\n",
      "medical 55\n",
      "errands 115\n",
      "visiting 4414\n",
      "cultural 49\n",
      "events 27\n",
      "sports 417\n",
      "restaurants 197\n",
      "day trip 19\n",
      "walk/jog/ride 558\n",
      "walk dog 470\n",
      "religious 132\n",
      "accompany children 125\n"
     ]
    }
   ],
   "source": [
    "for cat in list(poi_weights.index):\n",
    "    print(cat, len(pois[pois['category'].isin(poi_categories[cat])]))"
   ]
  },
  {
   "cell_type": "markdown",
   "id": "41834e86",
   "metadata": {},
   "source": [
    "### Import network"
   ]
  },
  {
   "cell_type": "markdown",
   "id": "bdd12d7d",
   "metadata": {},
   "source": [
    "In this case the network is already in the same projected CRS as everything else but I have left in the transformation to be clear."
   ]
  },
  {
   "cell_type": "code",
   "execution_count": 178,
   "id": "b32c64f1",
   "metadata": {},
   "outputs": [
    {
     "name": "stderr",
     "output_type": "stream",
     "text": [
      "C:\\Users\\z3258367\\Anaconda3\\envs\\ox\\lib\\site-packages\\IPython\\core\\interactiveshell.py:3331: DtypeWarning: Columns (2,4,5,7,9,13,14,19,21) have mixed types.Specify dtype option on import or set low_memory=False.\n",
      "  exec(code_obj, self.user_global_ns, self.user_ns)\n",
      "C:\\Users\\z3258367\\Anaconda3\\envs\\ox\\lib\\site-packages\\IPython\\core\\interactiveshell.py:3331: DtypeWarning: Columns (6,11,12) have mixed types.Specify dtype option on import or set low_memory=False.\n",
      "  exec(code_obj, self.user_global_ns, self.user_ns)\n"
     ]
    },
    {
     "name": "stdout",
     "output_type": "stream",
     "text": [
      "<class 'str'>\n",
      "<class 'str'>\n"
     ]
    }
   ],
   "source": [
    "# reading directly with geopandas.read_file crashes on my computer so I read into pandas then convert to gdf instead\n",
    "edges_df = pd.read_csv(folder + \"Walkability//Other Cities//Colouring data & results//Sydney data//Data//colouring_edges_150322.csv\")\n",
    "nodes_df = pd.read_csv(folder + \"Walkability//Other Cities//Colouring data & results//Sydney data//Data//colouring_nodes_150322.csv\")\n",
    "edges = gpd.GeoDataFrame(edges_df, \n",
    "                         geometry=gpd.GeoSeries.from_wkt(edges_df['geometry'])).set_crs(proj_crs)\n",
    "nodes = gpd.GeoDataFrame(nodes_df, \n",
    "                         geometry=gpd.GeoSeries.from_wkt(nodes_df['geometry'])).set_crs(proj_crs)\n",
    "edges = edges.to_crs(proj_crs)\n",
    "nodes = nodes.to_crs(proj_crs)"
   ]
  },
  {
   "cell_type": "code",
   "execution_count": 179,
   "id": "1d3b3463",
   "metadata": {},
   "outputs": [
    {
     "ename": "GEOSException",
     "evalue": "bad allocation",
     "output_type": "error",
     "traceback": [
      "\u001b[1;31m---------------------------------------------------------------------------\u001b[0m",
      "\u001b[1;31mGEOSException\u001b[0m                             Traceback (most recent call last)",
      "\u001b[1;32m<ipython-input-179-78f6d042d524>\u001b[0m in \u001b[0;36m<module>\u001b[1;34m\u001b[0m\n\u001b[1;32m----> 1\u001b[1;33m \u001b[0medges\u001b[0m \u001b[1;33m=\u001b[0m \u001b[0mgpd\u001b[0m\u001b[1;33m.\u001b[0m\u001b[0mclip\u001b[0m\u001b[1;33m(\u001b[0m\u001b[0medges\u001b[0m\u001b[1;33m,\u001b[0m \u001b[0mSutherland\u001b[0m\u001b[1;33m)\u001b[0m\u001b[1;33m\u001b[0m\u001b[1;33m\u001b[0m\u001b[0m\n\u001b[0m\u001b[0;32m      2\u001b[0m \u001b[0mnodes\u001b[0m \u001b[1;33m=\u001b[0m \u001b[0mgpd\u001b[0m\u001b[1;33m.\u001b[0m\u001b[0mclip\u001b[0m\u001b[1;33m(\u001b[0m\u001b[0mnodes\u001b[0m\u001b[1;33m,\u001b[0m \u001b[0mSutherland\u001b[0m\u001b[1;33m)\u001b[0m\u001b[1;33m\u001b[0m\u001b[1;33m\u001b[0m\u001b[0m\n\u001b[0;32m      3\u001b[0m \u001b[1;31m# after clip if problems:\u001b[0m\u001b[1;33m\u001b[0m\u001b[1;33m\u001b[0m\u001b[1;33m\u001b[0m\u001b[0m\n\u001b[0;32m      4\u001b[0m \u001b[1;31m# Make sure all nodes are in edge list\u001b[0m\u001b[1;33m\u001b[0m\u001b[1;33m\u001b[0m\u001b[1;33m\u001b[0m\u001b[0m\n\u001b[0;32m      5\u001b[0m \u001b[1;31m# Make sure node index is named 'id_node' or at least something, and is the actual list of ids that aligns with edge index\u001b[0m\u001b[1;33m\u001b[0m\u001b[1;33m\u001b[0m\u001b[1;33m\u001b[0m\u001b[0m\n",
      "\u001b[1;32m~\\Anaconda3\\envs\\ox\\lib\\site-packages\\geopandas\\tools\\clip.py\u001b[0m in \u001b[0;36mclip\u001b[1;34m(gdf, mask, keep_geom_type)\u001b[0m\n\u001b[0;32m    137\u001b[0m         \u001b[0mpoly\u001b[0m \u001b[1;33m=\u001b[0m \u001b[0mmask\u001b[0m\u001b[1;33m\u001b[0m\u001b[1;33m\u001b[0m\u001b[0m\n\u001b[0;32m    138\u001b[0m \u001b[1;33m\u001b[0m\u001b[0m\n\u001b[1;32m--> 139\u001b[1;33m     \u001b[0mclipped\u001b[0m \u001b[1;33m=\u001b[0m \u001b[0m_clip_gdf_with_polygon\u001b[0m\u001b[1;33m(\u001b[0m\u001b[0mgdf\u001b[0m\u001b[1;33m,\u001b[0m \u001b[0mpoly\u001b[0m\u001b[1;33m)\u001b[0m\u001b[1;33m\u001b[0m\u001b[1;33m\u001b[0m\u001b[0m\n\u001b[0m\u001b[0;32m    140\u001b[0m \u001b[1;33m\u001b[0m\u001b[0m\n\u001b[0;32m    141\u001b[0m     \u001b[1;32mif\u001b[0m \u001b[0mkeep_geom_type\u001b[0m\u001b[1;33m:\u001b[0m\u001b[1;33m\u001b[0m\u001b[1;33m\u001b[0m\u001b[0m\n",
      "\u001b[1;32m~\\Anaconda3\\envs\\ox\\lib\\site-packages\\geopandas\\tools\\clip.py\u001b[0m in \u001b[0;36m_clip_gdf_with_polygon\u001b[1;34m(gdf, poly)\u001b[0m\n\u001b[0;32m     48\u001b[0m         clipped.loc[\n\u001b[0;32m     49\u001b[0m             \u001b[0mnon_point_mask\u001b[0m\u001b[1;33m,\u001b[0m \u001b[0mclipped\u001b[0m\u001b[1;33m.\u001b[0m\u001b[0m_geometry_column_name\u001b[0m\u001b[1;33m\u001b[0m\u001b[1;33m\u001b[0m\u001b[0m\n\u001b[1;32m---> 50\u001b[1;33m         ] = gdf_sub.geometry.values[non_point_mask].intersection(poly)\n\u001b[0m\u001b[0;32m     51\u001b[0m     \u001b[1;32melse\u001b[0m\u001b[1;33m:\u001b[0m\u001b[1;33m\u001b[0m\u001b[1;33m\u001b[0m\u001b[0m\n\u001b[0;32m     52\u001b[0m         \u001b[1;31m# GeoSeries\u001b[0m\u001b[1;33m\u001b[0m\u001b[1;33m\u001b[0m\u001b[1;33m\u001b[0m\u001b[0m\n",
      "\u001b[1;32m~\\Anaconda3\\envs\\ox\\lib\\site-packages\\geopandas\\array.py\u001b[0m in \u001b[0;36mintersection\u001b[1;34m(self, other)\u001b[0m\n\u001b[0;32m    591\u001b[0m     \u001b[1;32mdef\u001b[0m \u001b[0mintersection\u001b[0m\u001b[1;33m(\u001b[0m\u001b[0mself\u001b[0m\u001b[1;33m,\u001b[0m \u001b[0mother\u001b[0m\u001b[1;33m)\u001b[0m\u001b[1;33m:\u001b[0m\u001b[1;33m\u001b[0m\u001b[1;33m\u001b[0m\u001b[0m\n\u001b[0;32m    592\u001b[0m         return GeometryArray(\n\u001b[1;32m--> 593\u001b[1;33m             \u001b[0mself\u001b[0m\u001b[1;33m.\u001b[0m\u001b[0m_binary_method\u001b[0m\u001b[1;33m(\u001b[0m\u001b[1;34m\"intersection\"\u001b[0m\u001b[1;33m,\u001b[0m \u001b[0mself\u001b[0m\u001b[1;33m,\u001b[0m \u001b[0mother\u001b[0m\u001b[1;33m)\u001b[0m\u001b[1;33m,\u001b[0m \u001b[0mcrs\u001b[0m\u001b[1;33m=\u001b[0m\u001b[0mself\u001b[0m\u001b[1;33m.\u001b[0m\u001b[0mcrs\u001b[0m\u001b[1;33m\u001b[0m\u001b[1;33m\u001b[0m\u001b[0m\n\u001b[0m\u001b[0;32m    594\u001b[0m         )\n\u001b[0;32m    595\u001b[0m \u001b[1;33m\u001b[0m\u001b[0m\n",
      "\u001b[1;32m~\\Anaconda3\\envs\\ox\\lib\\site-packages\\geopandas\\array.py\u001b[0m in \u001b[0;36m_binary_method\u001b[1;34m(op, left, right, **kwargs)\u001b[0m\n\u001b[0;32m    523\u001b[0m             \u001b[0mright\u001b[0m \u001b[1;33m=\u001b[0m \u001b[0mright\u001b[0m\u001b[1;33m.\u001b[0m\u001b[0mdata\u001b[0m\u001b[1;33m\u001b[0m\u001b[1;33m\u001b[0m\u001b[0m\n\u001b[0;32m    524\u001b[0m \u001b[1;33m\u001b[0m\u001b[0m\n\u001b[1;32m--> 525\u001b[1;33m         \u001b[1;32mreturn\u001b[0m \u001b[0mgetattr\u001b[0m\u001b[1;33m(\u001b[0m\u001b[0mvectorized\u001b[0m\u001b[1;33m,\u001b[0m \u001b[0mop\u001b[0m\u001b[1;33m)\u001b[0m\u001b[1;33m(\u001b[0m\u001b[0mleft\u001b[0m\u001b[1;33m.\u001b[0m\u001b[0mdata\u001b[0m\u001b[1;33m,\u001b[0m \u001b[0mright\u001b[0m\u001b[1;33m,\u001b[0m \u001b[1;33m**\u001b[0m\u001b[0mkwargs\u001b[0m\u001b[1;33m)\u001b[0m\u001b[1;33m\u001b[0m\u001b[1;33m\u001b[0m\u001b[0m\n\u001b[0m\u001b[0;32m    526\u001b[0m \u001b[1;33m\u001b[0m\u001b[0m\n\u001b[0;32m    527\u001b[0m     \u001b[1;32mdef\u001b[0m \u001b[0mcovers\u001b[0m\u001b[1;33m(\u001b[0m\u001b[0mself\u001b[0m\u001b[1;33m,\u001b[0m \u001b[0mother\u001b[0m\u001b[1;33m)\u001b[0m\u001b[1;33m:\u001b[0m\u001b[1;33m\u001b[0m\u001b[1;33m\u001b[0m\u001b[0m\n",
      "\u001b[1;32m~\\Anaconda3\\envs\\ox\\lib\\site-packages\\geopandas\\_vectorized.py\u001b[0m in \u001b[0;36mintersection\u001b[1;34m(data, other)\u001b[0m\n\u001b[0;32m    738\u001b[0m \u001b[1;32mdef\u001b[0m \u001b[0mintersection\u001b[0m\u001b[1;33m(\u001b[0m\u001b[0mdata\u001b[0m\u001b[1;33m,\u001b[0m \u001b[0mother\u001b[0m\u001b[1;33m)\u001b[0m\u001b[1;33m:\u001b[0m\u001b[1;33m\u001b[0m\u001b[1;33m\u001b[0m\u001b[0m\n\u001b[0;32m    739\u001b[0m     \u001b[1;32mif\u001b[0m \u001b[0mcompat\u001b[0m\u001b[1;33m.\u001b[0m\u001b[0mUSE_PYGEOS\u001b[0m\u001b[1;33m:\u001b[0m\u001b[1;33m\u001b[0m\u001b[1;33m\u001b[0m\u001b[0m\n\u001b[1;32m--> 740\u001b[1;33m         \u001b[1;32mreturn\u001b[0m \u001b[0m_binary_method\u001b[0m\u001b[1;33m(\u001b[0m\u001b[1;34m\"intersection\"\u001b[0m\u001b[1;33m,\u001b[0m \u001b[0mdata\u001b[0m\u001b[1;33m,\u001b[0m \u001b[0mother\u001b[0m\u001b[1;33m)\u001b[0m\u001b[1;33m\u001b[0m\u001b[1;33m\u001b[0m\u001b[0m\n\u001b[0m\u001b[0;32m    741\u001b[0m     \u001b[1;32melse\u001b[0m\u001b[1;33m:\u001b[0m\u001b[1;33m\u001b[0m\u001b[1;33m\u001b[0m\u001b[0m\n\u001b[0;32m    742\u001b[0m         \u001b[1;32mreturn\u001b[0m \u001b[0m_binary_geo\u001b[0m\u001b[1;33m(\u001b[0m\u001b[1;34m\"intersection\"\u001b[0m\u001b[1;33m,\u001b[0m \u001b[0mdata\u001b[0m\u001b[1;33m,\u001b[0m \u001b[0mother\u001b[0m\u001b[1;33m)\u001b[0m\u001b[1;33m\u001b[0m\u001b[1;33m\u001b[0m\u001b[0m\n",
      "\u001b[1;32m~\\Anaconda3\\envs\\ox\\lib\\site-packages\\geopandas\\_vectorized.py\u001b[0m in \u001b[0;36m_binary_method\u001b[1;34m(op, left, right, **kwargs)\u001b[0m\n\u001b[0;32m    265\u001b[0m     \u001b[1;32mif\u001b[0m \u001b[0misinstance\u001b[0m\u001b[1;33m(\u001b[0m\u001b[0mright\u001b[0m\u001b[1;33m,\u001b[0m \u001b[0mBaseGeometry\u001b[0m\u001b[1;33m)\u001b[0m\u001b[1;33m:\u001b[0m\u001b[1;33m\u001b[0m\u001b[1;33m\u001b[0m\u001b[0m\n\u001b[0;32m    266\u001b[0m         \u001b[0mright\u001b[0m \u001b[1;33m=\u001b[0m \u001b[0mfrom_shapely\u001b[0m\u001b[1;33m(\u001b[0m\u001b[1;33m[\u001b[0m\u001b[0mright\u001b[0m\u001b[1;33m]\u001b[0m\u001b[1;33m)\u001b[0m\u001b[1;33m[\u001b[0m\u001b[1;36m0\u001b[0m\u001b[1;33m]\u001b[0m\u001b[1;33m\u001b[0m\u001b[1;33m\u001b[0m\u001b[0m\n\u001b[1;32m--> 267\u001b[1;33m     \u001b[1;32mreturn\u001b[0m \u001b[0mgetattr\u001b[0m\u001b[1;33m(\u001b[0m\u001b[0mpygeos\u001b[0m\u001b[1;33m,\u001b[0m \u001b[0mop\u001b[0m\u001b[1;33m)\u001b[0m\u001b[1;33m(\u001b[0m\u001b[0mleft\u001b[0m\u001b[1;33m,\u001b[0m \u001b[0mright\u001b[0m\u001b[1;33m,\u001b[0m \u001b[1;33m**\u001b[0m\u001b[0mkwargs\u001b[0m\u001b[1;33m)\u001b[0m\u001b[1;33m\u001b[0m\u001b[1;33m\u001b[0m\u001b[0m\n\u001b[0m\u001b[0;32m    268\u001b[0m \u001b[1;33m\u001b[0m\u001b[0m\n\u001b[0;32m    269\u001b[0m \u001b[1;33m\u001b[0m\u001b[0m\n",
      "\u001b[1;32m~\\Anaconda3\\envs\\ox\\lib\\site-packages\\pygeos\\decorators.py\u001b[0m in \u001b[0;36mwrapped\u001b[1;34m(*args, **kwargs)\u001b[0m\n\u001b[0;32m     78\u001b[0m             \u001b[1;32mfor\u001b[0m \u001b[0marr\u001b[0m \u001b[1;32min\u001b[0m \u001b[0marray_args\u001b[0m\u001b[1;33m:\u001b[0m\u001b[1;33m\u001b[0m\u001b[1;33m\u001b[0m\u001b[0m\n\u001b[0;32m     79\u001b[0m                 \u001b[0marr\u001b[0m\u001b[1;33m.\u001b[0m\u001b[0mflags\u001b[0m\u001b[1;33m.\u001b[0m\u001b[0mwriteable\u001b[0m \u001b[1;33m=\u001b[0m \u001b[1;32mFalse\u001b[0m\u001b[1;33m\u001b[0m\u001b[1;33m\u001b[0m\u001b[0m\n\u001b[1;32m---> 80\u001b[1;33m             \u001b[1;32mreturn\u001b[0m \u001b[0mfunc\u001b[0m\u001b[1;33m(\u001b[0m\u001b[1;33m*\u001b[0m\u001b[0margs\u001b[0m\u001b[1;33m,\u001b[0m \u001b[1;33m**\u001b[0m\u001b[0mkwargs\u001b[0m\u001b[1;33m)\u001b[0m\u001b[1;33m\u001b[0m\u001b[1;33m\u001b[0m\u001b[0m\n\u001b[0m\u001b[0;32m     81\u001b[0m         \u001b[1;32mfinally\u001b[0m\u001b[1;33m:\u001b[0m\u001b[1;33m\u001b[0m\u001b[1;33m\u001b[0m\u001b[0m\n\u001b[0;32m     82\u001b[0m             \u001b[1;32mfor\u001b[0m \u001b[0marr\u001b[0m\u001b[1;33m,\u001b[0m \u001b[0mold_flag\u001b[0m \u001b[1;32min\u001b[0m \u001b[0mzip\u001b[0m\u001b[1;33m(\u001b[0m\u001b[0marray_args\u001b[0m\u001b[1;33m,\u001b[0m \u001b[0mold_flags\u001b[0m\u001b[1;33m)\u001b[0m\u001b[1;33m:\u001b[0m\u001b[1;33m\u001b[0m\u001b[1;33m\u001b[0m\u001b[0m\n",
      "\u001b[1;32m~\\Anaconda3\\envs\\ox\\lib\\site-packages\\pygeos\\set_operations.py\u001b[0m in \u001b[0;36mintersection\u001b[1;34m(a, b, grid_size, **kwargs)\u001b[0m\n\u001b[0;32m    127\u001b[0m         \u001b[1;32mreturn\u001b[0m \u001b[0mlib\u001b[0m\u001b[1;33m.\u001b[0m\u001b[0mintersection_prec\u001b[0m\u001b[1;33m(\u001b[0m\u001b[0ma\u001b[0m\u001b[1;33m,\u001b[0m \u001b[0mb\u001b[0m\u001b[1;33m,\u001b[0m \u001b[0mgrid_size\u001b[0m\u001b[1;33m,\u001b[0m \u001b[1;33m**\u001b[0m\u001b[0mkwargs\u001b[0m\u001b[1;33m)\u001b[0m\u001b[1;33m\u001b[0m\u001b[1;33m\u001b[0m\u001b[0m\n\u001b[0;32m    128\u001b[0m \u001b[1;33m\u001b[0m\u001b[0m\n\u001b[1;32m--> 129\u001b[1;33m     \u001b[1;32mreturn\u001b[0m \u001b[0mlib\u001b[0m\u001b[1;33m.\u001b[0m\u001b[0mintersection\u001b[0m\u001b[1;33m(\u001b[0m\u001b[0ma\u001b[0m\u001b[1;33m,\u001b[0m \u001b[0mb\u001b[0m\u001b[1;33m,\u001b[0m \u001b[1;33m**\u001b[0m\u001b[0mkwargs\u001b[0m\u001b[1;33m)\u001b[0m\u001b[1;33m\u001b[0m\u001b[1;33m\u001b[0m\u001b[0m\n\u001b[0m\u001b[0;32m    130\u001b[0m \u001b[1;33m\u001b[0m\u001b[0m\n\u001b[0;32m    131\u001b[0m \u001b[1;33m\u001b[0m\u001b[0m\n",
      "\u001b[1;31mGEOSException\u001b[0m: bad allocation"
     ]
    }
   ],
   "source": [
    "edges = gpd.clip(edges, Sutherland)\n",
    "nodes = gpd.clip(nodes, Sutherland)\n",
    "# after clip if problems:\n",
    "# Make sure all nodes are in edge list\n",
    "# Make sure node index is named 'id_node' or at least something, and is the actual list of ids that aligns with edge index"
   ]
  },
  {
   "cell_type": "markdown",
   "id": "792785b1",
   "metadata": {},
   "source": [
    "Pandana expects edges to have a two item index based on the same IDs as the node index."
   ]
  },
  {
   "cell_type": "code",
   "execution_count": null,
   "id": "b6eafa0b",
   "metadata": {},
   "outputs": [],
   "source": [
    "nodes.set_index('connect_id',inplace=True)\n",
    "\n",
    "edges['from_idx'] = edges['from']\n",
    "edges['to_idx'] = edges['to']\n",
    "edges= edges.set_index(['from_idx', 'to_idx'])\n",
    "edges.index.names= ['from_idx','to_idx']"
   ]
  },
  {
   "cell_type": "code",
   "execution_count": null,
   "id": "83aa53c4",
   "metadata": {},
   "outputs": [],
   "source": [
    "d_edges = edges[edges['to'].isin(nodes.index) & edges['from'].isin(nodes.index)]"
   ]
  },
  {
   "cell_type": "markdown",
   "id": "f02dfca0",
   "metadata": {},
   "source": [
    "## Pandana network creation."
   ]
  },
  {
   "cell_type": "code",
   "execution_count": null,
   "id": "72c0e94d",
   "metadata": {},
   "outputs": [],
   "source": [
    "distance_network = pdna.Network(nodes['x'], nodes['y'],\n",
    "                                   d_edges['from'], d_edges['to'], \n",
    "                                   d_edges[['length']])\n",
    "\n",
    "maximum_dist = 2400"
   ]
  },
  {
   "cell_type": "markdown",
   "id": "09754e3b",
   "metadata": {},
   "source": [
    "### Pandana network querying. \n",
    "The 'employment' category is empty because we didn't add the employment points to the POI dataset."
   ]
  },
  {
   "cell_type": "code",
   "execution_count": null,
   "id": "9c333174",
   "metadata": {},
   "outputs": [],
   "source": [
    "results_4 = walk_index_full(distance_network, pois, poi_categories, poi_weights, poi_gammas,\n",
    "                            poi_nums, poi_lambdas, poi_variables, distance=maximum_dist)  "
   ]
  },
  {
   "cell_type": "code",
   "execution_count": null,
   "id": "ee95d5c4",
   "metadata": {},
   "outputs": [],
   "source": [
    "max(results_4['Walk_Index'])"
   ]
  },
  {
   "cell_type": "markdown",
   "id": "b75a274f",
   "metadata": {},
   "source": [
    "### Employment"
   ]
  },
  {
   "cell_type": "markdown",
   "id": "933c5d9e",
   "metadata": {},
   "source": [
    "The current approach is to find up to 100 closest employment nodes within the maximum distance. Then look up the number of jobs at each one, apply a distance decay function to each distance, multiply these together, and sum.\n",
    "\n",
    "An alternative approach which would be more convenient would be to use the Pandana 'aggregate' function which aggregates from all nodes within the maximum distance. However, there is limited ability to change the distance decay rate within the aggregation function. It can either be flat (no decay), linear (going to 0 at the max distance), or exponential where beta is set as 1/max distance. For walking I would like a beta of 0.001, but this requires the radius to be 1000m. If the radius is 2400m, beta is only 0.0004. This can be changed in the future if the Pandana function is updated to take a decay parameter."
   ]
  },
  {
   "cell_type": "markdown",
   "id": "0f4526c7",
   "metadata": {},
   "source": [
    "## Export results"
   ]
  },
  {
   "cell_type": "markdown",
   "id": "1c20c8d1",
   "metadata": {},
   "source": [
    "Filter the results to the original Colouring Sydney buildings only. Optionally export results as a csv."
   ]
  },
  {
   "cell_type": "code",
   "execution_count": 149,
   "id": "f147cf0b",
   "metadata": {},
   "outputs": [],
   "source": [
    "#building_results = results_2.filter(items=nodes[nodes['connect_type'] == 'poi'].index, axis=0)\n",
    "# think it can just be done like this\n",
    "building_results = results_4[nodes['connect_type'] == 'poi']"
   ]
  },
  {
   "cell_type": "code",
   "execution_count": 150,
   "id": "9d4dcabb",
   "metadata": {},
   "outputs": [],
   "source": [
    "building_results.to_csv(\"HTS_many_bf_results_050522_Sutherland.csv\")"
   ]
  },
  {
   "cell_type": "markdown",
   "id": "392798cc",
   "metadata": {},
   "source": [
    "Import building footprints and join the data to them, then export these polygons."
   ]
  },
  {
   "cell_type": "code",
   "execution_count": 55,
   "id": "30eb0506",
   "metadata": {},
   "outputs": [],
   "source": [
    "buildings_foot = gpd.read_file(folder +\n",
    "    \"Data\\\\Colouring\\\\Building Footprints\\\\sydney_bf.shp\").to_crs(proj_crs)"
   ]
  },
  {
   "cell_type": "code",
   "execution_count": 60,
   "id": "af94a2e1",
   "metadata": {},
   "outputs": [],
   "source": [
    "results_gdf = gpd.GeoDataFrame(building_results, geometry = gpd.GeoSeries.from_xy(building_results.x, building_results.y, crs=\"EPSG:7856\"))"
   ]
  },
  {
   "cell_type": "code",
   "execution_count": 62,
   "id": "607a9a25",
   "metadata": {},
   "outputs": [
    {
     "data": {
      "text/html": [
       "<div>\n",
       "<style scoped>\n",
       "    .dataframe tbody tr th:only-of-type {\n",
       "        vertical-align: middle;\n",
       "    }\n",
       "\n",
       "    .dataframe tbody tr th {\n",
       "        vertical-align: top;\n",
       "    }\n",
       "\n",
       "    .dataframe thead th {\n",
       "        text-align: right;\n",
       "    }\n",
       "</style>\n",
       "<table border=\"1\" class=\"dataframe\">\n",
       "  <thead>\n",
       "    <tr style=\"text-align: right;\">\n",
       "      <th></th>\n",
       "      <th>x</th>\n",
       "      <th>y</th>\n",
       "      <th>education_13</th>\n",
       "      <th>daily needs_13.8</th>\n",
       "      <th>other goods_5.8</th>\n",
       "      <th>services_1.5</th>\n",
       "      <th>medical_3.6</th>\n",
       "      <th>errands_1.5</th>\n",
       "      <th>visiting_9.4</th>\n",
       "      <th>cultural_1.5</th>\n",
       "      <th>...</th>\n",
       "      <th>day trip_0.7</th>\n",
       "      <th>walk/jog/ride_5.1</th>\n",
       "      <th>walk dog_2.9</th>\n",
       "      <th>religious_1.5</th>\n",
       "      <th>accompany children_1.5</th>\n",
       "      <th>Walk_Index</th>\n",
       "      <th>employment</th>\n",
       "      <th>visiting</th>\n",
       "      <th>visiting_1</th>\n",
       "      <th>geometry</th>\n",
       "    </tr>\n",
       "    <tr>\n",
       "      <th>connect_id</th>\n",
       "      <th></th>\n",
       "      <th></th>\n",
       "      <th></th>\n",
       "      <th></th>\n",
       "      <th></th>\n",
       "      <th></th>\n",
       "      <th></th>\n",
       "      <th></th>\n",
       "      <th></th>\n",
       "      <th></th>\n",
       "      <th></th>\n",
       "      <th></th>\n",
       "      <th></th>\n",
       "      <th></th>\n",
       "      <th></th>\n",
       "      <th></th>\n",
       "      <th></th>\n",
       "      <th></th>\n",
       "      <th></th>\n",
       "      <th></th>\n",
       "      <th></th>\n",
       "    </tr>\n",
       "  </thead>\n",
       "  <tbody>\n",
       "    <tr>\n",
       "      <th>3939691</th>\n",
       "      <td>314285.652752</td>\n",
       "      <td>6.220218e+06</td>\n",
       "      <td>0.374149</td>\n",
       "      <td>0.000000</td>\n",
       "      <td>0.0</td>\n",
       "      <td>0.0</td>\n",
       "      <td>0.000000</td>\n",
       "      <td>0.057620</td>\n",
       "      <td>1.418890</td>\n",
       "      <td>0.106420</td>\n",
       "      <td>...</td>\n",
       "      <td>0.000000</td>\n",
       "      <td>1.010287</td>\n",
       "      <td>0.574477</td>\n",
       "      <td>0.000000</td>\n",
       "      <td>0.056892</td>\n",
       "      <td>4.562068</td>\n",
       "      <td>0.093833</td>\n",
       "      <td>0.092093</td>\n",
       "      <td>0.205495</td>\n",
       "      <td>POINT (314285.653 6220218.230)</td>\n",
       "    </tr>\n",
       "    <tr>\n",
       "      <th>3939690</th>\n",
       "      <td>314290.668466</td>\n",
       "      <td>6.220325e+06</td>\n",
       "      <td>0.360708</td>\n",
       "      <td>0.000000</td>\n",
       "      <td>0.0</td>\n",
       "      <td>0.0</td>\n",
       "      <td>0.000000</td>\n",
       "      <td>0.055550</td>\n",
       "      <td>1.367918</td>\n",
       "      <td>0.102597</td>\n",
       "      <td>...</td>\n",
       "      <td>0.000000</td>\n",
       "      <td>0.973994</td>\n",
       "      <td>0.553840</td>\n",
       "      <td>0.000000</td>\n",
       "      <td>0.054849</td>\n",
       "      <td>4.398181</td>\n",
       "      <td>0.090462</td>\n",
       "      <td>0.088784</td>\n",
       "      <td>0.198113</td>\n",
       "      <td>POINT (314290.668 6220324.929)</td>\n",
       "    </tr>\n",
       "    <tr>\n",
       "      <th>1492673</th>\n",
       "      <td>314432.316311</td>\n",
       "      <td>6.220200e+06</td>\n",
       "      <td>0.397349</td>\n",
       "      <td>0.000000</td>\n",
       "      <td>0.0</td>\n",
       "      <td>0.0</td>\n",
       "      <td>0.000000</td>\n",
       "      <td>0.061193</td>\n",
       "      <td>1.506872</td>\n",
       "      <td>0.103981</td>\n",
       "      <td>...</td>\n",
       "      <td>0.000000</td>\n",
       "      <td>1.003559</td>\n",
       "      <td>0.570651</td>\n",
       "      <td>0.000000</td>\n",
       "      <td>0.060420</td>\n",
       "      <td>4.727443</td>\n",
       "      <td>0.099651</td>\n",
       "      <td>0.097803</td>\n",
       "      <td>0.218237</td>\n",
       "      <td>POINT (314432.316 6220199.984)</td>\n",
       "    </tr>\n",
       "    <tr>\n",
       "      <th>1414358</th>\n",
       "      <td>314396.734453</td>\n",
       "      <td>6.220205e+06</td>\n",
       "      <td>0.416348</td>\n",
       "      <td>0.000000</td>\n",
       "      <td>0.0</td>\n",
       "      <td>0.0</td>\n",
       "      <td>0.000000</td>\n",
       "      <td>0.064119</td>\n",
       "      <td>1.578921</td>\n",
       "      <td>0.111738</td>\n",
       "      <td>...</td>\n",
       "      <td>0.000000</td>\n",
       "      <td>1.072927</td>\n",
       "      <td>0.610096</td>\n",
       "      <td>0.000000</td>\n",
       "      <td>0.063309</td>\n",
       "      <td>4.989701</td>\n",
       "      <td>0.104416</td>\n",
       "      <td>0.102480</td>\n",
       "      <td>0.228672</td>\n",
       "      <td>POINT (314396.734 6220205.450)</td>\n",
       "    </tr>\n",
       "    <tr>\n",
       "      <th>3939689</th>\n",
       "      <td>314478.101225</td>\n",
       "      <td>6.220362e+06</td>\n",
       "      <td>0.513057</td>\n",
       "      <td>0.000000</td>\n",
       "      <td>0.0</td>\n",
       "      <td>0.0</td>\n",
       "      <td>0.000000</td>\n",
       "      <td>0.079013</td>\n",
       "      <td>1.945671</td>\n",
       "      <td>0.129834</td>\n",
       "      <td>...</td>\n",
       "      <td>0.000000</td>\n",
       "      <td>1.016512</td>\n",
       "      <td>0.578016</td>\n",
       "      <td>0.000000</td>\n",
       "      <td>0.078014</td>\n",
       "      <td>5.662876</td>\n",
       "      <td>0.128670</td>\n",
       "      <td>0.126283</td>\n",
       "      <td>0.281788</td>\n",
       "      <td>POINT (314478.101 6220362.089)</td>\n",
       "    </tr>\n",
       "    <tr>\n",
       "      <th>...</th>\n",
       "      <td>...</td>\n",
       "      <td>...</td>\n",
       "      <td>...</td>\n",
       "      <td>...</td>\n",
       "      <td>...</td>\n",
       "      <td>...</td>\n",
       "      <td>...</td>\n",
       "      <td>...</td>\n",
       "      <td>...</td>\n",
       "      <td>...</td>\n",
       "      <td>...</td>\n",
       "      <td>...</td>\n",
       "      <td>...</td>\n",
       "      <td>...</td>\n",
       "      <td>...</td>\n",
       "      <td>...</td>\n",
       "      <td>...</td>\n",
       "      <td>...</td>\n",
       "      <td>...</td>\n",
       "      <td>...</td>\n",
       "      <td>...</td>\n",
       "    </tr>\n",
       "    <tr>\n",
       "      <th>3931647</th>\n",
       "      <td>335780.236784</td>\n",
       "      <td>6.235879e+06</td>\n",
       "      <td>3.282879</td>\n",
       "      <td>0.540893</td>\n",
       "      <td>0.0</td>\n",
       "      <td>0.0</td>\n",
       "      <td>0.144443</td>\n",
       "      <td>0.109745</td>\n",
       "      <td>3.504823</td>\n",
       "      <td>0.000000</td>\n",
       "      <td>...</td>\n",
       "      <td>0.331196</td>\n",
       "      <td>2.577484</td>\n",
       "      <td>0.884195</td>\n",
       "      <td>0.231984</td>\n",
       "      <td>0.000000</td>\n",
       "      <td>13.179490</td>\n",
       "      <td>0.004646</td>\n",
       "      <td>0.395584</td>\n",
       "      <td>0.882703</td>\n",
       "      <td>POINT (335780.237 6235878.890)</td>\n",
       "    </tr>\n",
       "    <tr>\n",
       "      <th>1785974</th>\n",
       "      <td>335760.730698</td>\n",
       "      <td>6.235889e+06</td>\n",
       "      <td>3.261616</td>\n",
       "      <td>0.537389</td>\n",
       "      <td>0.0</td>\n",
       "      <td>0.0</td>\n",
       "      <td>0.143508</td>\n",
       "      <td>0.109034</td>\n",
       "      <td>3.482123</td>\n",
       "      <td>0.000000</td>\n",
       "      <td>...</td>\n",
       "      <td>0.326742</td>\n",
       "      <td>2.560790</td>\n",
       "      <td>0.878468</td>\n",
       "      <td>0.230481</td>\n",
       "      <td>0.000000</td>\n",
       "      <td>13.091825</td>\n",
       "      <td>0.004616</td>\n",
       "      <td>0.393022</td>\n",
       "      <td>0.876986</td>\n",
       "      <td>POINT (335760.731 6235888.780)</td>\n",
       "    </tr>\n",
       "    <tr>\n",
       "      <th>3933061</th>\n",
       "      <td>335862.811717</td>\n",
       "      <td>6.236024e+06</td>\n",
       "      <td>2.558168</td>\n",
       "      <td>0.440082</td>\n",
       "      <td>0.0</td>\n",
       "      <td>0.0</td>\n",
       "      <td>0.117522</td>\n",
       "      <td>0.085657</td>\n",
       "      <td>2.851603</td>\n",
       "      <td>0.000000</td>\n",
       "      <td>...</td>\n",
       "      <td>0.292190</td>\n",
       "      <td>2.277512</td>\n",
       "      <td>0.691676</td>\n",
       "      <td>0.184323</td>\n",
       "      <td>0.000000</td>\n",
       "      <td>10.723424</td>\n",
       "      <td>0.003780</td>\n",
       "      <td>0.275172</td>\n",
       "      <td>0.614018</td>\n",
       "      <td>POINT (335862.812 6236024.269)</td>\n",
       "    </tr>\n",
       "    <tr>\n",
       "      <th>3931403</th>\n",
       "      <td>335839.354336</td>\n",
       "      <td>6.236075e+06</td>\n",
       "      <td>2.417472</td>\n",
       "      <td>0.415878</td>\n",
       "      <td>0.0</td>\n",
       "      <td>0.0</td>\n",
       "      <td>0.111059</td>\n",
       "      <td>0.080946</td>\n",
       "      <td>2.694768</td>\n",
       "      <td>0.000000</td>\n",
       "      <td>...</td>\n",
       "      <td>0.276120</td>\n",
       "      <td>2.152252</td>\n",
       "      <td>0.653634</td>\n",
       "      <td>0.174185</td>\n",
       "      <td>0.000000</td>\n",
       "      <td>10.117698</td>\n",
       "      <td>0.000000</td>\n",
       "      <td>0.247659</td>\n",
       "      <td>0.552625</td>\n",
       "      <td>POINT (335839.354 6236075.367)</td>\n",
       "    </tr>\n",
       "    <tr>\n",
       "      <th>3934084</th>\n",
       "      <td>335693.204597</td>\n",
       "      <td>6.236120e+06</td>\n",
       "      <td>3.524929</td>\n",
       "      <td>0.497521</td>\n",
       "      <td>0.0</td>\n",
       "      <td>0.0</td>\n",
       "      <td>0.132861</td>\n",
       "      <td>0.112735</td>\n",
       "      <td>2.862071</td>\n",
       "      <td>0.000000</td>\n",
       "      <td>...</td>\n",
       "      <td>0.239606</td>\n",
       "      <td>2.344135</td>\n",
       "      <td>0.929352</td>\n",
       "      <td>0.234179</td>\n",
       "      <td>0.000000</td>\n",
       "      <td>12.295025</td>\n",
       "      <td>0.004544</td>\n",
       "      <td>0.352592</td>\n",
       "      <td>0.786770</td>\n",
       "      <td>POINT (335693.205 6236120.009)</td>\n",
       "    </tr>\n",
       "  </tbody>\n",
       "</table>\n",
       "<p>63317 rows × 23 columns</p>\n",
       "</div>"
      ],
      "text/plain": [
       "                        x             y  education_13  daily needs_13.8  \\\n",
       "connect_id                                                                \n",
       "3939691     314285.652752  6.220218e+06      0.374149          0.000000   \n",
       "3939690     314290.668466  6.220325e+06      0.360708          0.000000   \n",
       "1492673     314432.316311  6.220200e+06      0.397349          0.000000   \n",
       "1414358     314396.734453  6.220205e+06      0.416348          0.000000   \n",
       "3939689     314478.101225  6.220362e+06      0.513057          0.000000   \n",
       "...                   ...           ...           ...               ...   \n",
       "3931647     335780.236784  6.235879e+06      3.282879          0.540893   \n",
       "1785974     335760.730698  6.235889e+06      3.261616          0.537389   \n",
       "3933061     335862.811717  6.236024e+06      2.558168          0.440082   \n",
       "3931403     335839.354336  6.236075e+06      2.417472          0.415878   \n",
       "3934084     335693.204597  6.236120e+06      3.524929          0.497521   \n",
       "\n",
       "            other goods_5.8  services_1.5  medical_3.6  errands_1.5  \\\n",
       "connect_id                                                            \n",
       "3939691                 0.0           0.0     0.000000     0.057620   \n",
       "3939690                 0.0           0.0     0.000000     0.055550   \n",
       "1492673                 0.0           0.0     0.000000     0.061193   \n",
       "1414358                 0.0           0.0     0.000000     0.064119   \n",
       "3939689                 0.0           0.0     0.000000     0.079013   \n",
       "...                     ...           ...          ...          ...   \n",
       "3931647                 0.0           0.0     0.144443     0.109745   \n",
       "1785974                 0.0           0.0     0.143508     0.109034   \n",
       "3933061                 0.0           0.0     0.117522     0.085657   \n",
       "3931403                 0.0           0.0     0.111059     0.080946   \n",
       "3934084                 0.0           0.0     0.132861     0.112735   \n",
       "\n",
       "            visiting_9.4  cultural_1.5  ...  day trip_0.7  walk/jog/ride_5.1  \\\n",
       "connect_id                              ...                                    \n",
       "3939691         1.418890      0.106420  ...      0.000000           1.010287   \n",
       "3939690         1.367918      0.102597  ...      0.000000           0.973994   \n",
       "1492673         1.506872      0.103981  ...      0.000000           1.003559   \n",
       "1414358         1.578921      0.111738  ...      0.000000           1.072927   \n",
       "3939689         1.945671      0.129834  ...      0.000000           1.016512   \n",
       "...                  ...           ...  ...           ...                ...   \n",
       "3931647         3.504823      0.000000  ...      0.331196           2.577484   \n",
       "1785974         3.482123      0.000000  ...      0.326742           2.560790   \n",
       "3933061         2.851603      0.000000  ...      0.292190           2.277512   \n",
       "3931403         2.694768      0.000000  ...      0.276120           2.152252   \n",
       "3934084         2.862071      0.000000  ...      0.239606           2.344135   \n",
       "\n",
       "            walk dog_2.9  religious_1.5  accompany children_1.5  Walk_Index  \\\n",
       "connect_id                                                                    \n",
       "3939691         0.574477       0.000000                0.056892    4.562068   \n",
       "3939690         0.553840       0.000000                0.054849    4.398181   \n",
       "1492673         0.570651       0.000000                0.060420    4.727443   \n",
       "1414358         0.610096       0.000000                0.063309    4.989701   \n",
       "3939689         0.578016       0.000000                0.078014    5.662876   \n",
       "...                  ...            ...                     ...         ...   \n",
       "3931647         0.884195       0.231984                0.000000   13.179490   \n",
       "1785974         0.878468       0.230481                0.000000   13.091825   \n",
       "3933061         0.691676       0.184323                0.000000   10.723424   \n",
       "3931403         0.653634       0.174185                0.000000   10.117698   \n",
       "3934084         0.929352       0.234179                0.000000   12.295025   \n",
       "\n",
       "            employment  visiting  visiting_1                        geometry  \n",
       "connect_id                                                                    \n",
       "3939691       0.093833  0.092093    0.205495  POINT (314285.653 6220218.230)  \n",
       "3939690       0.090462  0.088784    0.198113  POINT (314290.668 6220324.929)  \n",
       "1492673       0.099651  0.097803    0.218237  POINT (314432.316 6220199.984)  \n",
       "1414358       0.104416  0.102480    0.228672  POINT (314396.734 6220205.450)  \n",
       "3939689       0.128670  0.126283    0.281788  POINT (314478.101 6220362.089)  \n",
       "...                ...       ...         ...                             ...  \n",
       "3931647       0.004646  0.395584    0.882703  POINT (335780.237 6235878.890)  \n",
       "1785974       0.004616  0.393022    0.876986  POINT (335760.731 6235888.780)  \n",
       "3933061       0.003780  0.275172    0.614018  POINT (335862.812 6236024.269)  \n",
       "3931403       0.000000  0.247659    0.552625  POINT (335839.354 6236075.367)  \n",
       "3934084       0.004544  0.352592    0.786770  POINT (335693.205 6236120.009)  \n",
       "\n",
       "[63317 rows x 23 columns]"
      ]
     },
     "execution_count": 62,
     "metadata": {},
     "output_type": "execute_result"
    }
   ],
   "source": [
    "#edit to include jobs column before export. Should reduce gpkg write time\n",
    "results_gdf = results_gdf.iloc[:,[0,1,8,14, 20, 26,32,38,44,50,56,62,68,74,80,86,92,98,99,101,103,104,105]]\n",
    "results_gdf"
   ]
  },
  {
   "cell_type": "code",
   "execution_count": 58,
   "id": "8a76afaf",
   "metadata": {},
   "outputs": [],
   "source": [
    "buildings_foot = gpd.clip(buildings_foot, Greater_Sydney)"
   ]
  },
  {
   "cell_type": "code",
   "execution_count": 63,
   "id": "cb0cf386",
   "metadata": {},
   "outputs": [],
   "source": [
    "# join to data\n",
    "buildings_foot = gpd.sjoin(buildings_foot, results_gdf, how='left', predicate='contains')\n",
    "\n",
    "buildings_foot.to_file(\"HTS_many_bf_results_020422_Sutherland.gpkg\")"
   ]
  },
  {
   "cell_type": "markdown",
   "id": "f4c3a227",
   "metadata": {},
   "source": [
    "### Import Walkscore and compare"
   ]
  },
  {
   "cell_type": "code",
   "execution_count": 64,
   "id": "27124033",
   "metadata": {},
   "outputs": [],
   "source": [
    "walkscore = gpd.read_file(folder +\n",
    "    \"Walkability\\\\Walkscore scraping\\\\Interpolation\\\\WS_interpolate4.gpkg\")"
   ]
  },
  {
   "cell_type": "code",
   "execution_count": 65,
   "id": "128f6be5",
   "metadata": {},
   "outputs": [],
   "source": [
    "walkscore = walkscore.set_crs(proj_crs, allow_override=True)"
   ]
  },
  {
   "cell_type": "code",
   "execution_count": 66,
   "id": "4ec338c3",
   "metadata": {},
   "outputs": [],
   "source": [
    "# join to data\n",
    "results_WS = gpd.sjoin(buildings_foot, walkscore, how='right', predicate='contains', rsuffix='_ws')"
   ]
  },
  {
   "cell_type": "code",
   "execution_count": 67,
   "id": "123a0cb6",
   "metadata": {},
   "outputs": [],
   "source": [
    "correlations = results_WS.corr(method='pearson', min_periods=1)"
   ]
  },
  {
   "cell_type": "code",
   "execution_count": 68,
   "id": "d4d6f3dc",
   "metadata": {},
   "outputs": [
    {
     "data": {
      "text/plain": [
       "index_left      0.042296\n",
       "Shape_Leng      0.534595\n",
       "Shape_Area      0.508346\n",
       "index_right     0.228425\n",
       "x               0.411994\n",
       "                  ...   \n",
       "WS.number       0.134989\n",
       "Walkscore       0.489255\n",
       "Walkscore.y     0.489255\n",
       "interpolatew    0.801150\n",
       "combinedWS      0.767386\n",
       "Name: Walk_Index, Length: 111, dtype: float64"
      ]
     },
     "execution_count": 68,
     "metadata": {},
     "output_type": "execute_result"
    }
   ],
   "source": [
    "correlations['Walk_Index']"
   ]
  }
 ],
 "metadata": {
  "kernelspec": {
   "display_name": "Python 3",
   "language": "python",
   "name": "python3"
  },
  "language_info": {
   "codemirror_mode": {
    "name": "ipython",
    "version": 3
   },
   "file_extension": ".py",
   "mimetype": "text/x-python",
   "name": "python",
   "nbconvert_exporter": "python",
   "pygments_lexer": "ipython3",
   "version": "3.8.12"
  }
 },
 "nbformat": 4,
 "nbformat_minor": 5
}
