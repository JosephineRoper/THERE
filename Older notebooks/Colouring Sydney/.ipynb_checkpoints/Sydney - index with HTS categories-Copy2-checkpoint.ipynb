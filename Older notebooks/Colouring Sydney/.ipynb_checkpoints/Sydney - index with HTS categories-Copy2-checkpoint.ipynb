{
 "cells": [
  {
   "cell_type": "code",
   "execution_count": 1,
   "id": "5427baeb",
   "metadata": {},
   "outputs": [],
   "source": [
    "%load_ext autoreload\n",
    "%autoreload 2"
   ]
  },
  {
   "cell_type": "code",
   "execution_count": 207,
   "id": "2c6e251a",
   "metadata": {},
   "outputs": [],
   "source": [
    "import numpy as np\n",
    "import pandana as pdna\n",
    "import geopandas as gpd\n",
    "import pandas as pd\n",
    "import math\n",
    "import networkx as nx\n",
    "import sys\n",
    "# adding functions \n",
    "sys.path.insert(0, 'C:\\\\Users\\\\z3258367\\\\OneDrive - UNSW\\\\#PhD\\\\Walkability\\\\Other Cities\\\\Open-Walk-Index')\n",
    "from walkability_functions import *"
   ]
  },
  {
   "cell_type": "markdown",
   "id": "0ee150b9",
   "metadata": {},
   "source": [
    "Choose a projected CRS to be used for all distance calculations."
   ]
  },
  {
   "cell_type": "code",
   "execution_count": 3,
   "id": "0dc18490",
   "metadata": {},
   "outputs": [],
   "source": [
    "proj_crs = \"EPSG:7856\""
   ]
  },
  {
   "cell_type": "markdown",
   "id": "6dc208e1",
   "metadata": {},
   "source": [
    "## Import Data\n",
    "\n",
    "Data sources:\n",
    "1. Shape of Greater Sydney - used to clip points\n",
    "2. Points of interest from OSM\n",
    "3. Transport for NSW public transport stops\n",
    "4. Spatial Services NSW for additional POIs\n",
    "5. Employment data - processed from ABS originally"
   ]
  },
  {
   "cell_type": "code",
   "execution_count": 4,
   "id": "c4f527da",
   "metadata": {},
   "outputs": [],
   "source": [
    "folder = \"C:\\\\Users\\\\z3258367\\\\OneDrive - UNSW\\\\#PhD\\\\\"\n",
    "Greater_Sydney = gpd.read_file((folder + \n",
    "    \"Data\\\\greater_sydney_shape\\\\Greater_Sydney_Dissolve.shp\")\n",
    "    ).to_crs(proj_crs)"
   ]
  },
  {
   "cell_type": "code",
   "execution_count": 5,
   "id": "5b30448f",
   "metadata": {},
   "outputs": [],
   "source": [
    "osm_poi_points = gpd.read_file(''.join((folder, \n",
    "    \"Walkability\\\\Mavoa\\\\Pandana inputs\\\\Greater_Sydney_OSM_POIs_sp.shp\")))\n",
    "osm_poi_areas = gpd.read_file(folder + \n",
    "    \"Walkability\\\\Mavoa\\\\Pandana inputs\\\\Greater_Sydney_OSM_POIs_a_sp.gpkg\")\n",
    "osm_transport_points = gpd.read_file(folder +\n",
    "    \"Walkability\\\\Mavoa\\\\Pandana inputs\\\\Greater_Sydney_OSM_transport_sp.shp\")\n",
    "osm_transport_areas =  gpd.read_file(folder +\n",
    "    \"Data\\\\OSM-australia-latest-free\\\\gis_osm_transport_a_free_1.shp\")\n",
    "\n",
    "# the OSM POIs includes domestic swimming pools in some suburbs. This line removes swimming pools less than 100m2.\n",
    "# Same for domestic tennis courts appearing as 'pitches'. Removed pitches below 450m2.\n",
    "osm_poi_areas = osm_poi_areas[~((osm_poi_areas['fclass']=='swimming_pool') & (osm_poi_areas.to_crs(proj_crs).area < 100))]\n",
    "osm_poi_areas = osm_poi_areas[~((osm_poi_areas['fclass']=='pitch') & (osm_poi_areas.to_crs(proj_crs).area < 450))]"
   ]
  },
  {
   "cell_type": "code",
   "execution_count": 22,
   "id": "06524e14",
   "metadata": {},
   "outputs": [],
   "source": [
    "# import SS NSW data\n",
    "SS_NSW = gpd.read_file((folder + \n",
    "                        \"Data\\\\NSW Spatial Services\\\\NSW_Features_of_Interest_Category.gdb\"),layer='BuildingComplexPoint')\n",
    "SS_NSW.to_crs(Greater_Sydney.crs, inplace = True)\n",
    "SS_NSW['fclass'] = (SS_NSW['classsubtype'].astype(str) + \"-\" \n",
    "                    + SS_NSW['buildingcomplextype'].astype(str))\n",
    "\n",
    "# add general cultural points\n",
    "SS_NSW_gc = gpd.read_file((folder + \n",
    "                           \"Data\\\\NSW Spatial Services\\\\NSW_Features_of_Interest_Category.gdb\"),layer='GeneralCulturalPoint')\n",
    "SS_NSW_gc.to_crs(Greater_Sydney.crs, inplace = True)\n",
    "SS_NSW_gc['fclass'] = (SS_NSW_gc['classsubtype'].astype(str) + \"-\" \n",
    "                       + SS_NSW_gc['generalculturaltype'].astype(str) + \"-gc\")\n",
    "\n",
    "SS_NSW = pd.concat([SS_NSW, SS_NSW_gc]).to_crs(proj_crs)"
   ]
  },
  {
   "cell_type": "code",
   "execution_count": 7,
   "id": "ab2869c5",
   "metadata": {},
   "outputs": [],
   "source": [
    "SS_names = {'shopping centre':[\"4-10\"], 'post office':[\"2-18\"],'place of worship':[\"2-16\"], 'health centre':[\"3-3\", \"3-5\", \"3-6\"], \n",
    "                 'school':[\"1-1\", \"1-2\", \"1-3\", \"1-5\", \"1-6\", \"1-8\"], 'university':[\"1-4\"], 'childcare':[\"1-7\"],\n",
    "                 'art gallery':[\"2-2\"], 'library': [\"2-11\"], 'museum':[\"2-14\"], 'sports centre':[\"6-12\"], \n",
    "                 'zoo':[\"6-18\"], 'outdoor theater':[\"1-6-gc\"], 'swimming pool':[\"6-15\", \"9-2-gc\"], \n",
    "                 'tourist attraction':[\"6-17\"], 'golf course':[\"1-2-gc\"], 'lookout':[\"1-5-gc\"], \n",
    "                 'park':[\"1-7-gc\"], 'picnic area':[\"1-8-gc\"], 'sports field':[\"1-12-gc\", \"1-13-gc\"]}"
   ]
  },
  {
   "cell_type": "code",
   "execution_count": 23,
   "id": "78cb08c3",
   "metadata": {},
   "outputs": [
    {
     "name": "stdout",
     "output_type": "stream",
     "text": [
      "Tags present in the dataset but not categorised:\n",
      "['4-6' '2-24' '5-9' '2-0' '5-10' '2-8' '2-12' '3-0' '2-4' '6-3' '2-17'\n",
      " '2-21' '2-20' '2-9' '5-8' '4-7' '4-4' '4-8' '2-23' '1-0' '3-1' '2-19'\n",
      " '2-5' '4-0' '2-6' '2-7' '2-1' '5-1' '4-1' '2-10' '2-15' '5-5' '5-11'\n",
      " '5-2' '4-2' '4-3' '5-3' '4-9' '5-6' '3-4' '5-7' '6-0' '5-0' '6-2'\n",
      " '4-11-gc' '12-0-gc' '8-0-gc' '4-12-gc' '1-4-gc' '4-7-gc' '7-0-gc'\n",
      " '4-6-gc' '4-2-gc' '8-2-gc' '6-5-gc' '1-14-gc' '12-1-gc' '1-1-gc' '7-2-gc'\n",
      " '7-1-gc' '1-11-gc' '4-9-gc' '4-3-gc' '5-0-gc' '5-1-gc' '4-0-gc' '4-4-gc'\n",
      " '6-2-gc' '2-0-gc' '4-8-gc' '2-1-gc' '8-1-gc' '1-3-gc' '3-1-gc' '6-4-gc'\n",
      " '7-3-gc' '4-5-gc' '2-2-gc' '6-7-gc' '7-4-gc' '6-8-gc' '6-6-gc' '6-3-gc'\n",
      " '2-3-gc' '1-10-gc' '4-13-gc' '1-0-gc' '7-5-gc' '9-0-gc' '9-1-gc' '6-1-gc'\n",
      " '3-0-gc' '6-0-gc']\n"
     ]
    }
   ],
   "source": [
    "SS_NSW = categorise_pois(SS_NSW, SS_names, old_column='fclass', new_column='fclass')"
   ]
  },
  {
   "cell_type": "code",
   "execution_count": 9,
   "id": "fa0b7eea",
   "metadata": {},
   "outputs": [],
   "source": [
    "employment_centrs = gpd.read_file(folder +\n",
    "    \"Data\\\\Colouring\\\\Centroids employment MBs.gpkg\").to_crs(proj_crs)"
   ]
  },
  {
   "cell_type": "markdown",
   "id": "636647db",
   "metadata": {},
   "source": [
    "Convert polygonal datasets to points and any multipart datasets to single part."
   ]
  },
  {
   "cell_type": "code",
   "execution_count": 10,
   "id": "763e8027",
   "metadata": {},
   "outputs": [],
   "source": [
    "osm_pois_2 = single_points(osm_poi_areas)\n",
    "osm_transport_2 = single_points(osm_transport_areas)\n",
    "\n",
    "osm_df = pd.concat([osm_poi_points, osm_pois_2, osm_transport_points, \n",
    "                    osm_transport_2]).to_crs(proj_crs)"
   ]
  },
  {
   "cell_type": "markdown",
   "id": "96944dbd",
   "metadata": {},
   "source": [
    "### Categorise and weight POIs"
   ]
  },
  {
   "cell_type": "markdown",
   "id": "9f38e444",
   "metadata": {},
   "source": [
    "Categorise POI data - change classes depending on your analysis and your data sources."
   ]
  },
  {
   "cell_type": "code",
   "execution_count": 24,
   "id": "654f33ba",
   "metadata": {},
   "outputs": [
    {
     "name": "stdout",
     "output_type": "stream",
     "text": [
      "Tags present in the dataset but not categorised:\n",
      "[]\n",
      "Tags present in the dataset but not categorised:\n",
      "['drinking_water' 'toilet' 'memorial' 'public_building' 'monument'\n",
      " 'police' 'motel' 'shelter' 'tourist_info' 'bicycle_rental' 'hostel'\n",
      " 'hotel' 'telephone' 'recycling' 'guesthouse' 'lighthouse' 'courthouse'\n",
      " 'fire_station' 'camp_site' 'town_hall' 'fountain' 'caravan_site' 'bench'\n",
      " 'water_tower' 'comms_tower' 'tower' 'waste_basket' 'graveyard'\n",
      " 'wastewater_plant' 'camera_surveillance' 'nursing_home' 'car_rental'\n",
      " 'recycling_clothes' 'vending_parking' 'battlefield' 'chalet'\n",
      " 'vending_any' 'prison' 'vending_machine' 'water_works' 'embassy'\n",
      " 'water_well' 'windmill' 'recycling_glass' 'car_sharing' 'hunting_stand'\n",
      " 'water_mill' 'fort' 'recycling_paper' 'railway_station' 'bus_station'\n",
      " 'bus_stop' 'ferry_terminal' 'railway_halt' 'taxi' 'tram_stop']\n"
     ]
    }
   ],
   "source": [
    "SS_categories = {'shopping':[\"shopping centre\"], \n",
    "                 'errands':[\"post office\", \"place of worship\", \"health centre\"], \n",
    "                 'education':[\"school\", \"university\", \"childcare\"], \n",
    "                 'recreation':[\"art gallery\", \"library\", \"museum\", \"sports centre\", \"sports field\",\n",
    "                                 \"zoo\", \"outdoor theater\", \"swimming pool\", \"tourist attraction\",\n",
    "                                 \"golf course\", \"lookout\", \"park\", \"picnic area\"]}\n",
    "\n",
    "SS_categorised = categorise_pois(SS_NSW, SS_categories, \n",
    "                                 old_column='fclass', new_column='category')\n",
    "\n",
    "osm_categories = {'shopping' : ['supermarket', 'chemist', 'pharmacy', 'greengrocer', \n",
    "                                 'convenience', 'butcher', 'beverages', 'alcohol',\n",
    "                                'mall', 'bicycle_shop', 'clothes', \n",
    "                                'department_store', 'doityourself', \n",
    "                                'outdoor_shop', 'stationery', 'bookshop', \n",
    "                                'gift_shop', 'newsagent', 'car_dealership', \n",
    "                                'kiosk', 'furniture_shop', 'sports_shop', \n",
    "                                'garden_centre', 'computer_shop', 'shoe_shop', \n",
    "                                'beauty_shop', 'florist', 'video_shop', 'toy_shop', \n",
    "                                'mobile_phone_shop', 'jeweller', 'travel_agent'], \n",
    "                  'errands' : ['post_box', 'post_office', 'bank', 'atm',\n",
    "                               'doctors', 'dentist', 'laundry', 'hospital',\n",
    "                               'car_wash', 'veterinary', 'hairdresser', 'optician'], \n",
    "                  'education' : ['college', 'school', 'kindergarten', 'university'], \n",
    "                  'recreation' : ['restaurant', 'pub', 'cafe', 'fast_food', \n",
    "                              'food_court', 'bakery', 'bar', 'nightclub', 'biergarten',\n",
    "                                  'library', 'attraction', 'stadium', \n",
    "                                     'arts_centre', 'theatre', 'artwork', \n",
    "                                     'archaeological', 'cinema', 'museum', \n",
    "                                     'ruins', 'observation_tower', \n",
    "                                     'community_centre', 'zoo', 'castle', \n",
    "                                     'theme_park', 'ice_rink','viewpoint', 'park', 'playground', 'picnic_site', \n",
    "                             'pitch', 'swimming_pool', 'sports_centre', \n",
    "                             'golf_course', 'track', 'dog_park']}\n",
    "\n",
    "osm_categorised = categorise_pois(osm_df, osm_categories, \n",
    "                                  old_column='fclass', new_column='category')"
   ]
  },
  {
   "cell_type": "markdown",
   "id": "d5588632",
   "metadata": {},
   "source": [
    "Need to remove potential overlap between different data sources (and inside some data sources). For this dataset it's around 30% because there is overlap of public transport stops between OSM and TfNSW, and overlap of things like post offices between OSM and SSNSW. Then take this combined POI set and clip it to the study area: should be the same area as is covered by the network. This is important otherwise points outside the network may be erroneously linked to the network."
   ]
  },
  {
   "cell_type": "code",
   "execution_count": 145,
   "id": "a26286de",
   "metadata": {},
   "outputs": [
    {
     "name": "stdout",
     "output_type": "stream",
     "text": [
      "Removed 9.80% duplicate points from dataframes\n"
     ]
    }
   ],
   "source": [
    "pois = remove_duplicate_pois([osm_categorised, SS_categorised], buffer=10)\n",
    "\n",
    "pois = gpd.clip(pois, Greater_Sydney)"
   ]
  },
  {
   "cell_type": "markdown",
   "id": "94b0c568",
   "metadata": {},
   "source": [
    "Choose walk index weightings, and output the sums of each category and the total to check. The walk index will be out of 100 regardless of this sum, but it is important to note that eg. shopping is only '10% of the walk index' if shopping is 10 out of 100."
   ]
  },
  {
   "cell_type": "code",
   "execution_count": 26,
   "id": "5fc3fcb4",
   "metadata": {},
   "outputs": [
    {
     "data": {
      "text/plain": [
       "fclass\n",
       "archaeological    127\n",
       "art gallery        25\n",
       "arts_centre        30\n",
       "artwork           232\n",
       "atm               207\n",
       "                 ... \n",
       "university         78\n",
       "veterinary        103\n",
       "video_shop          5\n",
       "viewpoint         840\n",
       "zoo                10\n",
       "Length: 95, dtype: int64"
      ]
     },
     "execution_count": 26,
     "metadata": {},
     "output_type": "execute_result"
    }
   ],
   "source": [
    "no_opps = pois.groupby(['fclass']).size()\n",
    "no_opps"
   ]
  },
  {
   "cell_type": "code",
   "execution_count": 156,
   "id": "40a1f216",
   "metadata": {},
   "outputs": [],
   "source": [
    "pois[pois['category']=='errands'].to_file(\"sydney_errands.gpkg\")"
   ]
  },
  {
   "cell_type": "markdown",
   "id": "6988b80a",
   "metadata": {},
   "source": [
    "Therefore for Sydney we posit that reaching 5 shops, 28 recreational opportunities, 5 personal business opportunities and 4 schools or universities is roughly equivalent."
   ]
  },
  {
   "cell_type": "code",
   "execution_count": 173,
   "id": "2d7552c9",
   "metadata": {},
   "outputs": [],
   "source": [
    "poi_weights = {\n",
    "    \"employment\": 29,\n",
    "    \"education\": 13,\n",
    "    \"shopping\": 19,\n",
    "    \"errands\": 7,\n",
    "    \"recreation\": 32,\n",
    "}\n",
    "\n",
    "poi_numbers = {\n",
    "    \"employment\": 100,\n",
    "    \"education\": 5,\n",
    "    \"shopping\": 3,\n",
    "    \"errands\": 4,\n",
    "    \"recreation\": 78,\n",
    "}\n"
   ]
  },
  {
   "cell_type": "code",
   "execution_count": 30,
   "id": "b7f4b63d",
   "metadata": {},
   "outputs": [
    {
     "name": "stdout",
     "output_type": "stream",
     "text": [
      "{'employment': 29, 'education': 13, 'shopping': 19, 'errands': 7, 'recreation': 32}\n",
      "total:  100\n"
     ]
    }
   ],
   "source": [
    "category_sums = {k: sum(v) for k, v in poi_weights.items()}\n",
    "total = sum(category_sums.values())\n",
    "print(category_sums)\n",
    "print(\"total: \", total)"
   ]
  },
  {
   "cell_type": "markdown",
   "id": "41834e86",
   "metadata": {},
   "source": [
    "### Import network"
   ]
  },
  {
   "cell_type": "markdown",
   "id": "bdd12d7d",
   "metadata": {},
   "source": [
    "In this case the network is already in the same projected CRS as everything else but I have left in the transformation to be clear."
   ]
  },
  {
   "cell_type": "code",
   "execution_count": 31,
   "id": "b32c64f1",
   "metadata": {},
   "outputs": [
    {
     "name": "stderr",
     "output_type": "stream",
     "text": [
      "C:\\Users\\z3258367\\Anaconda3\\envs\\ox\\lib\\site-packages\\IPython\\core\\interactiveshell.py:3331: DtypeWarning: Columns (2,4,5,7,9,13,14,19,21) have mixed types.Specify dtype option on import or set low_memory=False.\n",
      "  exec(code_obj, self.user_global_ns, self.user_ns)\n",
      "C:\\Users\\z3258367\\Anaconda3\\envs\\ox\\lib\\site-packages\\IPython\\core\\interactiveshell.py:3331: DtypeWarning: Columns (6,11,12) have mixed types.Specify dtype option on import or set low_memory=False.\n",
      "  exec(code_obj, self.user_global_ns, self.user_ns)\n"
     ]
    },
    {
     "name": "stdout",
     "output_type": "stream",
     "text": [
      "<class 'str'>\n",
      "<class 'str'>\n"
     ]
    }
   ],
   "source": [
    "# reading directly with geopandas.read_file crashes on my computer so I read into pandas then convert to gdf instead\n",
    "edges_df = pd.read_csv(folder + \"Walkability//Other Cities//Colouring data & results//Sydney data//Data//colouring_edges_150322.csv\")\n",
    "nodes_df = pd.read_csv(folder + \"Walkability//Other Cities//Colouring data & results//Sydney data//Data//colouring_nodes_150322.csv\")\n",
    "edges = gpd.GeoDataFrame(edges_df, \n",
    "                         geometry=gpd.GeoSeries.from_wkt(edges_df['geometry'])).set_crs(proj_crs)\n",
    "nodes = gpd.GeoDataFrame(nodes_df, \n",
    "                         geometry=gpd.GeoSeries.from_wkt(nodes_df['geometry'])).set_crs(proj_crs)\n",
    "edges = edges.to_crs(proj_crs)\n",
    "nodes = nodes.to_crs(proj_crs)"
   ]
  },
  {
   "cell_type": "markdown",
   "id": "792785b1",
   "metadata": {},
   "source": [
    "Pandana expects edges to have a two item index based on the same IDs as the node index."
   ]
  },
  {
   "cell_type": "code",
   "execution_count": 32,
   "id": "b6eafa0b",
   "metadata": {},
   "outputs": [],
   "source": [
    "nodes.set_index('connect_id',inplace=True)\n",
    "\n",
    "edges['from_idx'] = edges['from']\n",
    "edges['to_idx'] = edges['to']\n",
    "edges= edges.set_index(['from_idx', 'to_idx'])\n",
    "edges.index.names= ['from_idx','to_idx']"
   ]
  },
  {
   "cell_type": "markdown",
   "id": "f02dfca0",
   "metadata": {},
   "source": [
    "## Pandana network creation."
   ]
  },
  {
   "cell_type": "code",
   "execution_count": 38,
   "id": "72c0e94d",
   "metadata": {},
   "outputs": [],
   "source": [
    "distance_network = pdna.Network(nodes['x'], nodes['y'],\n",
    "                                   edges['from'], edges['to'], \n",
    "                                   edges[['length']])\n",
    "\n",
    "maximum_dist = 2400"
   ]
  },
  {
   "cell_type": "markdown",
   "id": "e240d8fb",
   "metadata": {},
   "source": [
    "Get distributions of number of reachable destinations in each category across the network, to check whether the max destinations we use is reasonable."
   ]
  },
  {
   "cell_type": "code",
   "execution_count": 172,
   "id": "8a7bd4cb",
   "metadata": {
    "scrolled": true
   },
   "outputs": [
    {
     "name": "stdout",
     "output_type": "stream",
     "text": [
      "employment 0\n",
      "education 3619\n",
      "shopping 4171\n",
      "errands 4556\n",
      "recreation 28905\n"
     ]
    }
   ],
   "source": [
    "for cat in list(poi_numbers.keys()):\n",
    "    print(cat, len(pois[pois.category == cat]))"
   ]
  },
  {
   "cell_type": "code",
   "execution_count": 208,
   "id": "62a7e093",
   "metadata": {},
   "outputs": [
    {
     "name": "stdout",
     "output_type": "stream",
     "text": [
      "Category employment is empty\n",
      "Finished category: education\n",
      "Finished category: shopping\n",
      "Finished category: errands\n",
      "Finished category: recreation\n"
     ]
    }
   ],
   "source": [
    "counts = distribution(distance_network, pois, 400, 50, list(poi_numbers.keys()))"
   ]
  },
  {
   "cell_type": "code",
   "execution_count": 206,
   "id": "598292df",
   "metadata": {},
   "outputs": [
    {
     "data": {
      "text/plain": [
       "['employment', 'education', 'shopping', 'errands', 'recreation']"
      ]
     },
     "execution_count": 206,
     "metadata": {},
     "output_type": "execute_result"
    }
   ],
   "source": [
    "list(poi_numbers.keys())"
   ]
  },
  {
   "cell_type": "code",
   "execution_count": 200,
   "id": "5cbca5f9",
   "metadata": {
    "scrolled": true
   },
   "outputs": [
    {
     "data": {
      "text/html": [
       "<div>\n",
       "<style scoped>\n",
       "    .dataframe tbody tr th:only-of-type {\n",
       "        vertical-align: middle;\n",
       "    }\n",
       "\n",
       "    .dataframe tbody tr th {\n",
       "        vertical-align: top;\n",
       "    }\n",
       "\n",
       "    .dataframe thead th {\n",
       "        text-align: right;\n",
       "    }\n",
       "</style>\n",
       "<table border=\"1\" class=\"dataframe\">\n",
       "  <thead>\n",
       "    <tr style=\"text-align: right;\">\n",
       "      <th></th>\n",
       "      <th>employment</th>\n",
       "      <th>education</th>\n",
       "      <th>shopping</th>\n",
       "      <th>errands</th>\n",
       "      <th>recreation</th>\n",
       "    </tr>\n",
       "  </thead>\n",
       "  <tbody>\n",
       "    <tr>\n",
       "      <th>count</th>\n",
       "      <td>1.34282e+06</td>\n",
       "      <td>1.34282e+06</td>\n",
       "      <td>1.34282e+06</td>\n",
       "      <td>1.34282e+06</td>\n",
       "      <td>1.34282e+06</td>\n",
       "    </tr>\n",
       "    <tr>\n",
       "      <th>mean</th>\n",
       "      <td>0</td>\n",
       "      <td>50</td>\n",
       "      <td>50</td>\n",
       "      <td>50</td>\n",
       "      <td>50</td>\n",
       "    </tr>\n",
       "    <tr>\n",
       "      <th>std</th>\n",
       "      <td>0</td>\n",
       "      <td>0</td>\n",
       "      <td>0</td>\n",
       "      <td>0</td>\n",
       "      <td>0</td>\n",
       "    </tr>\n",
       "    <tr>\n",
       "      <th>min</th>\n",
       "      <td>0</td>\n",
       "      <td>50</td>\n",
       "      <td>50</td>\n",
       "      <td>50</td>\n",
       "      <td>50</td>\n",
       "    </tr>\n",
       "    <tr>\n",
       "      <th>25%</th>\n",
       "      <td>0</td>\n",
       "      <td>50</td>\n",
       "      <td>50</td>\n",
       "      <td>50</td>\n",
       "      <td>50</td>\n",
       "    </tr>\n",
       "    <tr>\n",
       "      <th>50%</th>\n",
       "      <td>0</td>\n",
       "      <td>50</td>\n",
       "      <td>50</td>\n",
       "      <td>50</td>\n",
       "      <td>50</td>\n",
       "    </tr>\n",
       "    <tr>\n",
       "      <th>75%</th>\n",
       "      <td>0</td>\n",
       "      <td>50</td>\n",
       "      <td>50</td>\n",
       "      <td>50</td>\n",
       "      <td>50</td>\n",
       "    </tr>\n",
       "    <tr>\n",
       "      <th>max</th>\n",
       "      <td>0</td>\n",
       "      <td>50</td>\n",
       "      <td>50</td>\n",
       "      <td>50</td>\n",
       "      <td>50</td>\n",
       "    </tr>\n",
       "  </tbody>\n",
       "</table>\n",
       "</div>"
      ],
      "text/plain": [
       "        employment    education     shopping      errands   recreation\n",
       "count  1.34282e+06  1.34282e+06  1.34282e+06  1.34282e+06  1.34282e+06\n",
       "mean             0           50           50           50           50\n",
       "std              0            0            0            0            0\n",
       "min              0           50           50           50           50\n",
       "25%              0           50           50           50           50\n",
       "50%              0           50           50           50           50\n",
       "75%              0           50           50           50           50\n",
       "max              0           50           50           50           50"
      ]
     },
     "execution_count": 200,
     "metadata": {},
     "output_type": "execute_result"
    }
   ],
   "source": [
    "counts[nodes['connect_type'] == 'poi'].describe(include=int).applymap(lambda x: format(x, 'g'))"
   ]
  },
  {
   "cell_type": "markdown",
   "id": "09754e3b",
   "metadata": {},
   "source": [
    "### Pandana network querying. \n",
    "The 'employment' category is empty because we didn't add the employment points to the POI dataset."
   ]
  },
  {
   "cell_type": "code",
   "execution_count": 181,
   "id": "9c333174",
   "metadata": {},
   "outputs": [
    {
     "name": "stdout",
     "output_type": "stream",
     "text": [
      "Category employment is empty\n",
      "Finished category: education\n",
      "Finished category: shopping\n",
      "Finished category: errands\n",
      "Finished category: recreation\n"
     ]
    }
   ],
   "source": [
    "results_3 = walk_index(distance_network, pois, poi_weights, poi_numbers, distance=maximum_dist)  "
   ]
  },
  {
   "cell_type": "code",
   "execution_count": 71,
   "id": "681bc346",
   "metadata": {},
   "outputs": [],
   "source": [
    "results_1 = results.copy()\n",
    "for category in poi_weights:\n",
    "    cat_total = poi_weights[category]\n",
    "    cat_name = ''.join((str(category),\"_\",str(cat_total)))\n",
    "    results_1[cat_name] = results_1[cat_name]/poi_numbers[category]\n",
    "    \n",
    "col_list = [''.join((str(category),\"_\",str(poi_weights[category])))\n",
    "            for category in poi_weights]   \n",
    "weights = sum(poi_weights.values())\n",
    "                           \n",
    "results_1['Walk_Index'] = 100/weights*(results_1[col_list].sum(axis=1))"
   ]
  },
  {
   "cell_type": "code",
   "execution_count": 78,
   "id": "22c6fd2d",
   "metadata": {},
   "outputs": [],
   "source": [
    "poi_numbers_small = {\n",
    "    #\"employment\": 100,\n",
    "    \"education\": 2,\n",
    "    \"shopping\": 2,\n",
    "    \"errands\": 1,\n",
    "    \"recreation\": 35,\n",
    "}"
   ]
  },
  {
   "cell_type": "code",
   "execution_count": 105,
   "id": "20e7da7e",
   "metadata": {},
   "outputs": [],
   "source": [
    "results_2 = results_1.copy()\n",
    "for category in poi_numbers_small:\n",
    "    cat_total = poi_weights[category]\n",
    "    cat_name = ''.join((str(category),\"_\",str(cat_total)))\n",
    "    number = poi_numbers_small[category]\n",
    "    \n",
    "    columns = [''.join((str(category),str(i+1)))\n",
    "                for i in range(number)] \n",
    "    \n",
    "    access = results_2[columns]\n",
    "    \n",
    "    results_2[cat_name] = ((access.applymap(access_weight))*\n",
    "                                 poi_weights[category]/poi_numbers_small[category]).sum(axis=1)\n",
    "    \n",
    "    col_list = [''.join((str(category),\"_\",str(poi_weights[category])))\n",
    "                for category in poi_weights]   \n",
    "    weights = sum(poi_weights.values())\n",
    "\n",
    "    results_2['Walk_Index'] = 100/weights*(results_2[col_list].sum(axis=1))"
   ]
  },
  {
   "cell_type": "code",
   "execution_count": 103,
   "id": "de1a549c",
   "metadata": {},
   "outputs": [
    {
     "data": {
      "text/plain": [
       "array([[<AxesSubplot:title={'center':'Walk_Index'}>]], dtype=object)"
      ]
     },
     "execution_count": 103,
     "metadata": {},
     "output_type": "execute_result"
    },
    {
     "data": {
      "image/png": "[encoded data removed]",
      "text/plain": [
       "<Figure size 432x288 with 1 Axes>"
      ]
     },
     "metadata": {
      "needs_background": "light"
     },
     "output_type": "display_data"
    }
   ],
   "source": [
    "results_1.hist('Walk_Index')"
   ]
  },
  {
   "cell_type": "code",
   "execution_count": 106,
   "id": "ca017b08",
   "metadata": {},
   "outputs": [
    {
     "data": {
      "text/plain": [
       "array([[<AxesSubplot:title={'center':'Walk_Index'}>]], dtype=object)"
      ]
     },
     "execution_count": 106,
     "metadata": {},
     "output_type": "execute_result"
    },
    {
     "data": {
      "image/png": "[encoded data removed]",
      "text/plain": [
       "<Figure size 432x288 with 1 Axes>"
      ]
     },
     "metadata": {
      "needs_background": "light"
     },
     "output_type": "display_data"
    }
   ],
   "source": [
    "results_2.hist('Walk_Index')"
   ]
  },
  {
   "cell_type": "markdown",
   "id": "b75a274f",
   "metadata": {},
   "source": [
    "### Employment"
   ]
  },
  {
   "cell_type": "markdown",
   "id": "933c5d9e",
   "metadata": {},
   "source": [
    "The current approach is to find up to 100 closest employment nodes within the maximum distance. Then look up the number of jobs at each one, apply a distance decay function to each distance, multiply these together, and sum.\n",
    "\n",
    "An alternative approach which would be more convenient would be to use the Pandana 'aggregate' function which aggregates from all nodes within the maximum distance. However, there is limited ability to change the distance decay rate within the aggregation function. It can either be flat (no decay), linear (going to 0 at the max distance), or exponential where beta is set as 1/max distance. For walking I would like a beta of 0.001, but this requires the radius to be 1000m. If the radius is 2400m, beta is only 0.0004. This can be changed in the future if the Pandana function is updated to take a decay parameter."
   ]
  },
  {
   "cell_type": "code",
   "execution_count": 182,
   "id": "db26c1bd",
   "metadata": {},
   "outputs": [],
   "source": [
    "x, y = (employment_centrs['geometry'].x, employment_centrs['geometry'].y)\n",
    "\n",
    "distance_network.set_pois(category='employment', maxdist=maximum_dist, maxitems=100, x_col=x, y_col=y)\n",
    "\n",
    "employment_access = distance_network.nearest_pois(\n",
    "    distance=maximum_dist, category='employment', num_pois=100, include_poi_ids=True)"
   ]
  },
  {
   "cell_type": "markdown",
   "id": "fe6ad772",
   "metadata": {},
   "source": [
    "The nearest_pois function returns both distances and the IDs of the nearest pois (with include_poi_ids option). The IDs can then be used to retrieve the number of jobs at each point. I found a merge was the fastest way to join this data."
   ]
  },
  {
   "cell_type": "code",
   "execution_count": 185,
   "id": "8f3dbc1c",
   "metadata": {},
   "outputs": [],
   "source": [
    "def itermerge(dataframe, jobs):\n",
    "    i=0\n",
    "    for column in dataframe:\n",
    "        dataframe = dataframe.merge(jobs, how='left', left_on = column, right_index = True, suffixes = [None, i])\n",
    "        i = i + 1\n",
    "    return dataframe\n",
    "\n",
    "#def access_weight(x):\n",
    "#        beta = -0.001\n",
    "#        if x == maximum_dist:\n",
    "#            return 0\n",
    "#        else:\n",
    "#            return math.exp(beta*x)"
   ]
  },
  {
   "cell_type": "code",
   "execution_count": null,
   "id": "dabe01b3",
   "metadata": {},
   "outputs": [],
   "source": [
    "jobcounts = itermerge(employment_access.iloc[:,100:200], employment_centrs['Jobs_count'])\n",
    "\n",
    "results_3['jobs'] = ((employment_access.iloc[:,0:100].applymap(access_weight, distance=maximum_dist))*\n",
    "                                jobcounts.iloc[:,100:200].values\n",
    "                                ).sum(axis=1)"
   ]
  },
  {
   "cell_type": "code",
   "execution_count": 194,
   "id": "a42ca4a3",
   "metadata": {},
   "outputs": [],
   "source": [
    "weight = 100*poi_weights['employment']/sum(poi_weights.values())\n",
    "\n",
    "results_3['employment'] = weight*results_3['jobs']/max(results_3['jobs'])\n",
    "\n",
    "results_3['Walk_Index'] = results_3['Walk_Index'] + results_3['employment']"
   ]
  },
  {
   "cell_type": "markdown",
   "id": "0f4526c7",
   "metadata": {},
   "source": [
    "## Export results"
   ]
  },
  {
   "cell_type": "markdown",
   "id": "1c20c8d1",
   "metadata": {},
   "source": [
    "Filter the results to the original Colouring Sydney buildings only. Optionally export results as a csv."
   ]
  },
  {
   "cell_type": "code",
   "execution_count": 195,
   "id": "f147cf0b",
   "metadata": {},
   "outputs": [],
   "source": [
    "#building_results = results_2.filter(items=nodes[nodes['connect_type'] == 'poi'].index, axis=0)\n",
    "# think it can just be done like this\n",
    "building_results = results_3[nodes['connect_type'] == 'poi']"
   ]
  },
  {
   "cell_type": "code",
   "execution_count": 196,
   "id": "9d4dcabb",
   "metadata": {},
   "outputs": [],
   "source": [
    "building_results.to_csv(\"HTS_5_bf_results_230322_wjobks.csv\")"
   ]
  },
  {
   "cell_type": "markdown",
   "id": "392798cc",
   "metadata": {},
   "source": [
    "Import building footprints and join the data to them, then export these polygons."
   ]
  },
  {
   "cell_type": "code",
   "execution_count": 197,
   "id": "30eb0506",
   "metadata": {},
   "outputs": [],
   "source": [
    "buildings_foot = gpd.read_file(folder +\n",
    "    \"Data\\\\Colouring\\\\Building Footprints\\\\sydney_bf.shp\").to_crs(proj_crs)"
   ]
  },
  {
   "cell_type": "code",
   "execution_count": 198,
   "id": "cb0cf386",
   "metadata": {},
   "outputs": [],
   "source": [
    "results_gdf = gpd.GeoDataFrame(building_results, geometry = gpd.GeoSeries.from_xy(building_results.x, building_results.y, crs=\"EPSG:7856\"))\n",
    "\n",
    "# join to data\n",
    "buildings_foot = gpd.sjoin(buildings_foot, results_gdf, how='left', predicate='contains')\n",
    "\n",
    "buildings_foot.to_file(\"HTS_5_bf_results_230322_wjobs.gpkg\")"
   ]
  },
  {
   "cell_type": "markdown",
   "id": "f4c3a227",
   "metadata": {},
   "source": [
    "### Import Walkscore and compare"
   ]
  },
  {
   "cell_type": "code",
   "execution_count": 225,
   "id": "27124033",
   "metadata": {},
   "outputs": [],
   "source": [
    "walkscore = gpd.read_file(folder +\n",
    "    \"Walkability\\\\Walkscore scraping\\\\Interpolation\\\\WS_interpolate4.gpkg\")"
   ]
  },
  {
   "cell_type": "code",
   "execution_count": 230,
   "id": "128f6be5",
   "metadata": {},
   "outputs": [],
   "source": [
    "walkscore = walkscore.set_crs(proj_crs, allow_override=True)"
   ]
  },
  {
   "cell_type": "code",
   "execution_count": 231,
   "id": "4ec338c3",
   "metadata": {},
   "outputs": [],
   "source": [
    "# join to data\n",
    "results_WS = gpd.sjoin(buildings_foot, walkscore, how='right', predicate='contains', rsuffix='_ws')"
   ]
  },
  {
   "cell_type": "code",
   "execution_count": 232,
   "id": "123a0cb6",
   "metadata": {},
   "outputs": [],
   "source": [
    "correlations = results_WS.corr(method='pearson', min_periods=1)"
   ]
  },
  {
   "cell_type": "code",
   "execution_count": 234,
   "id": "d4d6f3dc",
   "metadata": {},
   "outputs": [
    {
     "data": {
      "text/plain": [
       "index_left      0.007445\n",
       "Shape_Leng      0.628795\n",
       "Shape_Area      0.550232\n",
       "index_right     0.492472\n",
       "x               0.360236\n",
       "                  ...   \n",
       "WS.number       0.195532\n",
       "Walkscore       0.472459\n",
       "Walkscore.y     0.472459\n",
       "interpolatew    0.819129\n",
       "combinedWS      0.699252\n",
       "Name: Walk_Index, Length: 189, dtype: float64"
      ]
     },
     "execution_count": 234,
     "metadata": {},
     "output_type": "execute_result"
    }
   ],
   "source": [
    "correlations['Walk_Index']"
   ]
  }
 ],
 "metadata": {
  "kernelspec": {
   "display_name": "Python 3",
   "language": "python",
   "name": "python3"
  },
  "language_info": {
   "codemirror_mode": {
    "name": "ipython",
    "version": 3
   },
   "file_extension": ".py",
   "mimetype": "text/x-python",
   "name": "python",
   "nbconvert_exporter": "python",
   "pygments_lexer": "ipython3",
   "version": "3.8.12"
  }
 },
 "nbformat": 4,
 "nbformat_minor": 5
}
