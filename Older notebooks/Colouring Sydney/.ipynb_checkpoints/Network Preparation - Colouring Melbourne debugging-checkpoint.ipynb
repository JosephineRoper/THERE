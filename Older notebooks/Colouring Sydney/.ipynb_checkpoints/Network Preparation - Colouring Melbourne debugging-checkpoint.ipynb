{
 "cells": [
  {
   "cell_type": "markdown",
   "id": "b43ce694",
   "metadata": {},
   "source": [
    "The purpose of this notebook is to demonstrate the use of the connect_pois tool to connect points (such as houses) to a road network, in order to be used for more precise network distance calculations. "
   ]
  },
  {
   "cell_type": "code",
   "execution_count": 2,
   "id": "d0abf46c",
   "metadata": {
    "scrolled": true
   },
   "outputs": [],
   "source": [
    "import pandas as pd\n",
    "import networkx as nx\n",
    "import geopandas as gpd\n",
    "from shapely import wkt\n",
    "import sys\n",
    "  \n",
    "# adding functions \n",
    "sys.path.insert(0, 'C:\\\\Users\\\\z3258367\\\\OneDrive - UNSW\\\\#PhD\\\\Walkability\\\\Other Cities\\\\Open-Walk-Index')\n",
    "\n",
    "from toolbox_JR import connect_poi"
   ]
  },
  {
   "cell_type": "markdown",
   "id": "66fb1949",
   "metadata": {},
   "source": [
    "Get POIs, then convert to projected CRS and get the centroid of polygonal POIs (building footprints in this case)."
   ]
  },
  {
   "cell_type": "code",
   "execution_count": 3,
   "id": "bcc24bfe",
   "metadata": {
    "scrolled": true
   },
   "outputs": [],
   "source": [
    "#%% # get pois. which must not be multipoints, for connect_poi to work\n",
    "folder = \"C:\\\\Users\\\\z3258367\\\\OneDrive - UNSW\\\\#PhD\\\\Walkability\\\\Other Cities\\\\Melbourne Data\\\\\"\n",
    "poi_gdf = gpd.read_file(''.join(\n",
    "    (folder + \"VicMap Features of Interest\\\\FOI_POINT.shp\")))\n",
    "buildings = gpd.read_file(''.join((\n",
    "    folder + \"melbourne_bf.shp\")))"
   ]
  },
  {
   "cell_type": "code",
   "execution_count": 4,
   "id": "73b9987c",
   "metadata": {
    "scrolled": true
   },
   "outputs": [],
   "source": [
    "poi_gdf = poi_gdf.to_crs(\"EPSG:7856\")\n",
    "buildings_ctrs = buildings.to_crs(\"EPSG:7856\")\n",
    "buildings_ctrs.geometry = buildings_ctrs.geometry.centroid"
   ]
  },
  {
   "cell_type": "code",
   "execution_count": 219,
   "id": "16615580",
   "metadata": {},
   "outputs": [],
   "source": [
    "parks_gdf = gpd.read_file(''.join((\"C:\\\\Users\\\\z3258367\\\\OneDrive - UNSW\\\\#PhD\\\\Walkability\\\\Other Cities\" + \n",
    "                                  \"\\\\Shared Aus Data\\\\OSM parks vertices.gpkg\")))\n",
    "\n",
    "parks_gdf = parks_gdf.to_crs(\"EPSG:7856\")\n",
    "parks_gdf = gpd.clip(parks_gdf, Greater_Melbourne)"
   ]
  },
  {
   "cell_type": "code",
   "execution_count": 220,
   "id": "caff0d07",
   "metadata": {},
   "outputs": [],
   "source": [
    "parks_ex = parks_gdf.explode(column=None, ignore_index=True, index_parts=False)\n",
    "parks_ex.reset_index(drop=True, inplace=True)\n",
    "parks_ex['poi_id'] = parks_ex.index"
   ]
  },
  {
   "cell_type": "markdown",
   "id": "22e9daf5",
   "metadata": {},
   "source": [
    "Connect_pois does not work with multipart/multipoint geometries so need to convert them just in case.\n",
    "Create new POI indexes."
   ]
  },
  {
   "cell_type": "code",
   "execution_count": 6,
   "id": "4df63cc2",
   "metadata": {
    "scrolled": true
   },
   "outputs": [],
   "source": [
    "Greater_Melbourne = gpd.read_file((folder + \"Greater_Melbourne_GCCSA_2016.shp\")\n",
    "    ).to_crs(\"EPSG:7856\")\n",
    "\n",
    "buildings_ex = buildings_ctrs.explode(column=None, ignore_index=True, index_parts=False)\n",
    "buildings_ex.reset_index(drop=True, inplace=True)\n",
    "buildings_ex['key'] = buildings_ex.index\n",
    "\n",
    "poi_ex = gpd.clip(poi_gdf, Greater_Melbourne).explode(column=None, ignore_index=True, index_parts=False)\n",
    "poi_ex.reset_index(drop=True, inplace=True)\n",
    "poi_ex['poi_id'] = poi_ex.index"
   ]
  },
  {
   "cell_type": "markdown",
   "id": "06c25aaf",
   "metadata": {},
   "source": [
    "Import a network and convert it to a graph.\n",
    "For Melbourne I have used the OSM network with every fclass kept except motorway and motorway_link."
   ]
  },
  {
   "cell_type": "code",
   "execution_count": 63,
   "id": "138b6bef",
   "metadata": {
    "scrolled": true
   },
   "outputs": [
    {
     "name": "stderr",
     "output_type": "stream",
     "text": [
      "<ipython-input-63-4aa44ec8b4ee>:1: DeprecationWarning: read_shp is deprecated and will be removed in 3.0.See https://networkx.org/documentation/latest/auto_examples/index.html#geospatial.\n",
      "  GS = nx.read_shp(''.join(\n"
     ]
    },
    {
     "name": "stdout",
     "output_type": "stream",
     "text": [
      "<class 'str'>\n"
     ]
    }
   ],
   "source": [
    "GS = nx.read_shp(''.join(\n",
    "    (folder + \"Melbourne Ped Network clean 1.gpkg\")),\n",
    "     simplify=False,geom_attrs=True) \n",
    "\n",
    "edges_df = nx.to_pandas_edgelist(GS)\n",
    "edges_gdf = gpd.GeoDataFrame(edges_df, geometry = gpd.GeoSeries.from_wkt(edges_df['Wkt']))\n",
    "edges_gdf = edges_gdf.set_crs(\"EPSG:7856\",allow_override=True).to_crs(\"EPSG:7856\")\n",
    "\n",
    "nodes_df = pd.DataFrame(GS.nodes(data=True))\n",
    "nodes_gdf = gpd.GeoDataFrame(nodes_df, geometry=gpd.points_from_xy(list(zip(*nodes_df[0]))[0],list(zip(*nodes_df[0]))[1]))\n",
    "nodes_gdf = nodes_gdf.set_crs(\"EPSG:7856\",allow_override=True).to_crs(\"EPSG:7856\")"
   ]
  },
  {
   "cell_type": "markdown",
   "id": "1e1afb4c",
   "metadata": {},
   "source": [
    "OSM road data does not necessarily have lengths, so add this now."
   ]
  },
  {
   "cell_type": "code",
   "execution_count": 66,
   "id": "a9db59db",
   "metadata": {},
   "outputs": [],
   "source": [
    "edges_gdf['length'] = edges_gdf.geometry.length"
   ]
  },
  {
   "cell_type": "markdown",
   "id": "c815d034",
   "metadata": {},
   "source": [
    "Establish a new column connect_id to index the original network nodes. Then use this column to create new 'to' and 'from' columns for the edges. (Previous 'source' and 'target' columns are based on OSM IDs of the nodes, but adding new fictional 'OSM IDs' for new nodes created in the POI joining process creates confusion, thus the creation of an unambiguous connect_id column)."
   ]
  },
  {
   "cell_type": "code",
   "execution_count": 67,
   "id": "4186443e",
   "metadata": {
    "scrolled": true
   },
   "outputs": [],
   "source": [
    "nodes_gdf['connect_id'] = nodes_gdf.index\n",
    "\n",
    "node_Ids = pd.Series(nodes_gdf.connect_id.values, index=nodes_gdf[0]).to_dict()\n",
    "edges_gdf['to'] = edges_gdf['target'].map(node_Ids)\n",
    "edges_gdf['from'] = edges_gdf['source'].map(node_Ids)\n",
    "\n",
    "# remove extraneous columns from nodes and edges\n",
    "nodes_gdf = nodes_gdf.drop([0,1], axis = 1).copy()\n",
    "edges_gdf = edges_gdf.drop(['source','target','Wkb','code','Json','Wkt'], axis = 1)"
   ]
  },
  {
   "cell_type": "markdown",
   "id": "d3f05e8b",
   "metadata": {},
   "source": [
    "Run connect_pois - this is a slow step. This finds the nearest network edge for each property/POI node, breaks the edge and makes a new node there, and a new edge connecting the POI to this node."
   ]
  },
  {
   "cell_type": "code",
   "execution_count": null,
   "id": "5409fe79",
   "metadata": {},
   "outputs": [],
   "source": [
    "#%% # run connect pois with property centroids\n",
    "new_nodes, new_edges = connect_poi(buildings_ex, nodes_gdf, edges_gdf, key_col='key', path=None, meter_epsg=7856)"
   ]
  },
  {
   "cell_type": "code",
   "execution_count": 216,
   "id": "cbb36b3b",
   "metadata": {
    "scrolled": true
   },
   "outputs": [
    {
     "name": "stdout",
     "output_type": "stream",
     "text": [
      "Building rtree...\n",
      "Updating external nodes...\n",
      "Projecting POIs to the network...\n",
      "Updating internal nodes...\n",
      "Updating internal edges...\n",
      "Missing 'to' nodes: 28\n",
      "Updating external links...\n",
      "Missing 'to' nodes: 0\n",
      "Remove faulty projections: 81/17171 (0.47%)\n",
      "NOTE: duplication in node coordinates keys\n",
      "Nodes count: 4966801\n",
      "Node coordinates key count: 4638224\n",
      "Missing 'from' nodes: 1881\n",
      "Missing 'to' nodes: 1776\n"
     ]
    }
   ],
   "source": [
    "#%% # run connect pois with POIs\n",
    "# , prefix=8990000000\n",
    "new_nodes_2, new_edges_2 = connect_poi(poi_ex, new_nodes, new_edges, key_col='poi_id', path=None, meter_epsg=7856)"
   ]
  },
  {
   "cell_type": "code",
   "execution_count": 221,
   "id": "c083767e",
   "metadata": {},
   "outputs": [
    {
     "name": "stdout",
     "output_type": "stream",
     "text": [
      "Building rtree...\n",
      "Updating external nodes...\n",
      "Projecting POIs to the network...\n",
      "Updating internal nodes...\n",
      "Updating internal edges...\n",
      "Missing 'to' nodes: 342\n",
      "Updating external links...\n",
      "Missing 'to' nodes: 0\n",
      "Remove faulty projections: 809/214154 (0.38%)\n",
      "NOTE: duplication in node coordinates keys\n",
      "Nodes count: 5395109\n",
      "Node coordinates key count: 4974021\n",
      "Missing 'from' nodes: 2175\n",
      "Missing 'to' nodes: 2065\n"
     ]
    }
   ],
   "source": [
    "#%% # run connect pois with parks\n",
    "new_nodes_3, new_edges_3 = connect_poi(parks_ex, new_nodes_2, new_edges_2, key_col='poi_id', path=None, meter_epsg=7856)"
   ]
  },
  {
   "cell_type": "code",
   "execution_count": 222,
   "id": "30f6e503",
   "metadata": {
    "scrolled": true
   },
   "outputs": [],
   "source": [
    "# sometimes there appears two duplicate nodes due to rounding issues\n",
    "d_nodes = new_nodes_3.round({'x':5, 'y':5}).drop_duplicates(subset=['x', 'y'], ignore_index=True)"
   ]
  },
  {
   "cell_type": "code",
   "execution_count": 223,
   "id": "baea9312",
   "metadata": {
    "scrolled": true
   },
   "outputs": [],
   "source": [
    "#I'm not sure why this is still necessary as I tried to fix it in the toolbox, but for now it is.\n",
    "#%% # have to rematch the edges to the nodes, as some of them are the wrong precision\n",
    "nodes_coord = d_nodes['geometry'].map(lambda x: wkt.loads(wkt.dumps(x, rounding_precision=4)).coords[0])\n",
    "nodes_id_dict = dict(zip(nodes_coord, d_nodes['connect_id'].astype('int64')))\n",
    "matched_edges = new_edges_3.copy()\n",
    "\n",
    "matched_edges['from'] = matched_edges['geometry'].map(lambda x: nodes_id_dict.get(list(wkt.loads(wkt.dumps(x, rounding_precision=4)).coords)[0], None))\n",
    "matched_edges['to'] = matched_edges['geometry'].map(lambda x: nodes_id_dict.get(list(wkt.loads(wkt.dumps(x, rounding_precision=4)).coords)[-1], None))\n",
    "\n",
    "matched_edges['from'] = matched_edges['from'].astype('Int64')\n",
    "matched_edges['to'] = matched_edges['to'].astype('Int64')\n",
    "\n",
    "dropped_edges = matched_edges.dropna(subset=['from','to'])\n",
    "\n",
    "dropped_edges = dropped_edges.drop_duplicates(subset=['from','to'])"
   ]
  },
  {
   "cell_type": "markdown",
   "id": "ea12b02a",
   "metadata": {},
   "source": [
    "This next cell is necessary otherwise there may eventually be errors when trying to run pandana. (See https://github.com/UDST/pandana/issues/88). All edges must reference existing nodes."
   ]
  },
  {
   "cell_type": "code",
   "execution_count": 224,
   "id": "3a6ce699",
   "metadata": {
    "scrolled": true
   },
   "outputs": [],
   "source": [
    "dropped_edges = dropped_edges[dropped_edges['to'].isin(d_nodes['connect_id']) & dropped_edges['from'].isin(d_nodes['connect_id'])]"
   ]
  },
  {
   "cell_type": "markdown",
   "id": "e1b6dd4e",
   "metadata": {},
   "source": [
    "### Export new nodes & edges"
   ]
  },
  {
   "cell_type": "code",
   "execution_count": 225,
   "id": "49fc7115",
   "metadata": {
    "scrolled": true
   },
   "outputs": [],
   "source": [
    "d_nodes.to_csv(\"melbourne_nodes_2.csv\")\n",
    "dropped_edges.to_csv(\"melbourne_edges_2.csv\")"
   ]
  },
  {
   "cell_type": "code",
   "execution_count": 238,
   "id": "e72c6215",
   "metadata": {},
   "outputs": [
    {
     "data": {
      "text/plain": [
       "1283575    5788659.43309\n",
       "3444909    5788659.43310\n",
       "Name: y, dtype: float64"
      ]
     },
     "execution_count": 238,
     "metadata": {},
     "output_type": "execute_result"
    }
   ],
   "source": [
    "pd.set_option('precision', 9)\n",
    "d_nodes[(d_nodes['connect_id']==1403900) | (d_nodes['connect_id']==3640353)].y"
   ]
  },
  {
   "cell_type": "code",
   "execution_count": 239,
   "id": "36b8e98b",
   "metadata": {},
   "outputs": [
    {
     "data": {
      "text/plain": [
       "maxspeed                                                      0.0\n",
       "layer                                                         0.0\n",
       "ref                                                          None\n",
       "fclass                                                residential\n",
       "osm_id                                                    4923627\n",
       "fid                                                        2848.0\n",
       "ShpName                             Melbourne Ped Network clean 1\n",
       "bridge                                                          F\n",
       "tunnel                                                          F\n",
       "oneway                                                          B\n",
       "name                                                 Clendon Road\n",
       "geometry        LINESTRING (-185915.114679225 5772424.374355, ...\n",
       "length                                               10.236619707\n",
       "to                                                          14471\n",
       "from                                                        14470\n",
       "connect_id                                                    NaN\n",
       "key                                                           NaN\n",
       "connect_type                                                  NaN\n",
       "poi_id                                                        NaN\n",
       "Name: 18033, dtype: object"
      ]
     },
     "execution_count": 239,
     "metadata": {},
     "output_type": "execute_result"
    }
   ],
   "source": [
    "edges_gdf[edges_gdf['to']==14278]\n",
    "new_edges[new_edges['fid']==2811]\n",
    "matched_edges[matched_edges['fid']==2848].geometry\n",
    "wkt.loads(wkt.dumps(matched_edges.loc[18033, 'geometry'], rounding_precision=5)).coords[0]\n",
    "wkt.loads(wkt.dumps(new_edges.loc[18033, 'geometry'], rounding_precision=5)).coords[0]\n",
    "matched_edges.loc[18033]"
   ]
  },
  {
   "cell_type": "code",
   "execution_count": 212,
   "id": "473ec451",
   "metadata": {},
   "outputs": [
    {
     "data": {
      "text/plain": [
       "14131    (-185915.11468, 5772424.37435)\n",
       "Name: geometry, dtype: object"
      ]
     },
     "execution_count": 212,
     "metadata": {},
     "output_type": "execute_result"
    }
   ],
   "source": [
    "d_nodes[d_nodes['connect_id']==14470].geometry.map(lambda x: wkt.loads(wkt.dumps(x, rounding_precision=5)).coords[0])"
   ]
  },
  {
   "cell_type": "code",
   "execution_count": 93,
   "id": "81e7c84e",
   "metadata": {},
   "outputs": [
    {
     "data": {
      "text/html": [
       "<div>\n",
       "<style scoped>\n",
       "    .dataframe tbody tr th:only-of-type {\n",
       "        vertical-align: middle;\n",
       "    }\n",
       "\n",
       "    .dataframe tbody tr th {\n",
       "        vertical-align: top;\n",
       "    }\n",
       "\n",
       "    .dataframe thead th {\n",
       "        text-align: right;\n",
       "    }\n",
       "</style>\n",
       "<table border=\"1\" class=\"dataframe\">\n",
       "  <thead>\n",
       "    <tr style=\"text-align: right;\">\n",
       "      <th></th>\n",
       "      <th>geometry</th>\n",
       "      <th>connect_id</th>\n",
       "      <th>Shape_Leng</th>\n",
       "      <th>Shape_Area</th>\n",
       "      <th>key</th>\n",
       "      <th>connect_type</th>\n",
       "      <th>x</th>\n",
       "      <th>y</th>\n",
       "      <th>UFI</th>\n",
       "      <th>PFI</th>\n",
       "      <th>...</th>\n",
       "      <th>VMADD_PFI</th>\n",
       "      <th>VICNAMESID</th>\n",
       "      <th>VICNMSTATC</th>\n",
       "      <th>THEME1</th>\n",
       "      <th>THEME2</th>\n",
       "      <th>STATE</th>\n",
       "      <th>CRDATE_PFI</th>\n",
       "      <th>SUPER_PFI</th>\n",
       "      <th>CRDATE_UFI</th>\n",
       "      <th>poi_id</th>\n",
       "    </tr>\n",
       "  </thead>\n",
       "  <tbody>\n",
       "    <tr>\n",
       "      <th>3073</th>\n",
       "      <td>POINT (-191400.048 5779214.150)</td>\n",
       "      <td>3347</td>\n",
       "      <td>NaN</td>\n",
       "      <td>NaN</td>\n",
       "      <td>NaN</td>\n",
       "      <td>NaN</td>\n",
       "      <td>-191400.04827</td>\n",
       "      <td>5.779214e+06</td>\n",
       "      <td>NaN</td>\n",
       "      <td>NaN</td>\n",
       "      <td>...</td>\n",
       "      <td>NaN</td>\n",
       "      <td>NaN</td>\n",
       "      <td>NaN</td>\n",
       "      <td>NaN</td>\n",
       "      <td>NaN</td>\n",
       "      <td>NaN</td>\n",
       "      <td>NaN</td>\n",
       "      <td>NaN</td>\n",
       "      <td>NaN</td>\n",
       "      <td>NaN</td>\n",
       "    </tr>\n",
       "  </tbody>\n",
       "</table>\n",
       "<p>1 rows × 32 columns</p>\n",
       "</div>"
      ],
      "text/plain": [
       "                             geometry  connect_id  Shape_Leng  Shape_Area  \\\n",
       "3073  POINT (-191400.048 5779214.150)        3347         NaN         NaN   \n",
       "\n",
       "      key connect_type             x             y  UFI  PFI  ...  VMADD_PFI  \\\n",
       "3073  NaN          NaN -191400.04827  5.779214e+06  NaN  NaN  ...        NaN   \n",
       "\n",
       "      VICNAMESID VICNMSTATC THEME1 THEME2 STATE CRDATE_PFI SUPER_PFI  \\\n",
       "3073         NaN        NaN    NaN    NaN   NaN        NaN       NaN   \n",
       "\n",
       "     CRDATE_UFI poi_id  \n",
       "3073        NaN    NaN  \n",
       "\n",
       "[1 rows x 32 columns]"
      ]
     },
     "execution_count": 93,
     "metadata": {},
     "output_type": "execute_result"
    }
   ],
   "source": [
    "d_nodes[d_nodes['connect_id']==3347]"
   ]
  },
  {
   "cell_type": "markdown",
   "id": "f9cbd214",
   "metadata": {},
   "source": [
    "### Small subset"
   ]
  },
  {
   "cell_type": "code",
   "execution_count": 109,
   "id": "f7aa2574",
   "metadata": {},
   "outputs": [],
   "source": [
    "cliparea = buildings = gpd.read_file(''.join((\n",
    "    folder + \"Mulgrave SA2.gpkg\"))).to_crs(\"EPSG:7856\")"
   ]
  },
  {
   "cell_type": "code",
   "execution_count": 110,
   "id": "a11af77b",
   "metadata": {},
   "outputs": [],
   "source": [
    "poi_M = gpd.clip(poi_ex, cliparea)\n",
    "buildings_M = gpd.clip(buildings_ex, cliparea)\n",
    "edges_m = gpd.clip(edges_gdf, cliparea)\n",
    "nodes_m = gpd.clip(nodes_gdf, cliparea)"
   ]
  },
  {
   "cell_type": "code",
   "execution_count": 152,
   "id": "40f69f59",
   "metadata": {},
   "outputs": [
    {
     "data": {
      "text/plain": [
       "1003"
      ]
     },
     "execution_count": 152,
     "metadata": {},
     "output_type": "execute_result"
    }
   ],
   "source": [
    "edges_m['geometry'].apply(lambda x: len(wkt.dumps(x))).idxmin()"
   ]
  },
  {
   "cell_type": "markdown",
   "id": "89376d79",
   "metadata": {},
   "source": [
    "## FIX THIS"
   ]
  },
  {
   "cell_type": "code",
   "execution_count": 168,
   "id": "a2af30fa",
   "metadata": {},
   "outputs": [
    {
     "data": {
      "text/plain": [
       "6620"
      ]
     },
     "execution_count": 168,
     "metadata": {},
     "output_type": "execute_result"
    }
   ],
   "source": [
    "len(edges_m)"
   ]
  },
  {
   "cell_type": "code",
   "execution_count": 167,
   "id": "ed9247d3",
   "metadata": {},
   "outputs": [],
   "source": [
    "edges_m = edges_m[~edges_m['geometry'].is_empty]"
   ]
  },
  {
   "cell_type": "code",
   "execution_count": 159,
   "id": "50d84e0b",
   "metadata": {},
   "outputs": [
    {
     "data": {
      "text/plain": [
       "1002    LINESTRING (-189409.311 5773318.156, -189407.3...\n",
       "Name: geometry, dtype: geometry"
      ]
     },
     "execution_count": 159,
     "metadata": {},
     "output_type": "execute_result"
    }
   ],
   "source": [
    "edges_m['geometry'].iloc[1002:1003]"
   ]
  },
  {
   "cell_type": "code",
   "execution_count": 128,
   "id": "e77327a3",
   "metadata": {},
   "outputs": [],
   "source": [
    "edges_m = edges_m.reset_index()"
   ]
  },
  {
   "cell_type": "code",
   "execution_count": 117,
   "id": "b0a9004c",
   "metadata": {},
   "outputs": [
    {
     "ename": "KeyError",
     "evalue": "0",
     "output_type": "error",
     "traceback": [
      "\u001b[1;31m---------------------------------------------------------------------------\u001b[0m",
      "\u001b[1;31mKeyError\u001b[0m                                  Traceback (most recent call last)",
      "\u001b[1;32m~\\Anaconda3\\envs\\ox\\lib\\site-packages\\pandas\\core\\indexes\\base.py\u001b[0m in \u001b[0;36mget_loc\u001b[1;34m(self, key, method, tolerance)\u001b[0m\n\u001b[0;32m   3360\u001b[0m             \u001b[1;32mtry\u001b[0m\u001b[1;33m:\u001b[0m\u001b[1;33m\u001b[0m\u001b[1;33m\u001b[0m\u001b[0m\n\u001b[1;32m-> 3361\u001b[1;33m                 \u001b[1;32mreturn\u001b[0m \u001b[0mself\u001b[0m\u001b[1;33m.\u001b[0m\u001b[0m_engine\u001b[0m\u001b[1;33m.\u001b[0m\u001b[0mget_loc\u001b[0m\u001b[1;33m(\u001b[0m\u001b[0mcasted_key\u001b[0m\u001b[1;33m)\u001b[0m\u001b[1;33m\u001b[0m\u001b[1;33m\u001b[0m\u001b[0m\n\u001b[0m\u001b[0;32m   3362\u001b[0m             \u001b[1;32mexcept\u001b[0m \u001b[0mKeyError\u001b[0m \u001b[1;32mas\u001b[0m \u001b[0merr\u001b[0m\u001b[1;33m:\u001b[0m\u001b[1;33m\u001b[0m\u001b[1;33m\u001b[0m\u001b[0m\n",
      "\u001b[1;32m~\\Anaconda3\\envs\\ox\\lib\\site-packages\\pandas\\_libs\\index.pyx\u001b[0m in \u001b[0;36mpandas._libs.index.IndexEngine.get_loc\u001b[1;34m()\u001b[0m\n",
      "\u001b[1;32m~\\Anaconda3\\envs\\ox\\lib\\site-packages\\pandas\\_libs\\index.pyx\u001b[0m in \u001b[0;36mpandas._libs.index.IndexEngine.get_loc\u001b[1;34m()\u001b[0m\n",
      "\u001b[1;32mpandas\\_libs\\hashtable_class_helper.pxi\u001b[0m in \u001b[0;36mpandas._libs.hashtable.PyObjectHashTable.get_item\u001b[1;34m()\u001b[0m\n",
      "\u001b[1;32mpandas\\_libs\\hashtable_class_helper.pxi\u001b[0m in \u001b[0;36mpandas._libs.hashtable.PyObjectHashTable.get_item\u001b[1;34m()\u001b[0m\n",
      "\u001b[1;31mKeyError\u001b[0m: 0",
      "\nThe above exception was the direct cause of the following exception:\n",
      "\u001b[1;31mKeyError\u001b[0m                                  Traceback (most recent call last)",
      "\u001b[1;32m<ipython-input-117-4ca1114995b1>\u001b[0m in \u001b[0;36m<module>\u001b[1;34m\u001b[0m\n\u001b[0;32m      1\u001b[0m \u001b[0mnodes_m\u001b[0m\u001b[1;33m[\u001b[0m\u001b[1;34m'connect_id'\u001b[0m\u001b[1;33m]\u001b[0m \u001b[1;33m=\u001b[0m \u001b[0mnodes_m\u001b[0m\u001b[1;33m.\u001b[0m\u001b[0mindex\u001b[0m\u001b[1;33m\u001b[0m\u001b[1;33m\u001b[0m\u001b[0m\n\u001b[0;32m      2\u001b[0m \u001b[1;33m\u001b[0m\u001b[0m\n\u001b[1;32m----> 3\u001b[1;33m \u001b[0mnode_Ids\u001b[0m \u001b[1;33m=\u001b[0m \u001b[0mpd\u001b[0m\u001b[1;33m.\u001b[0m\u001b[0mSeries\u001b[0m\u001b[1;33m(\u001b[0m\u001b[0mnodes_m\u001b[0m\u001b[1;33m.\u001b[0m\u001b[0mconnect_id\u001b[0m\u001b[1;33m.\u001b[0m\u001b[0mvalues\u001b[0m\u001b[1;33m,\u001b[0m \u001b[0mindex\u001b[0m\u001b[1;33m=\u001b[0m\u001b[0mnodes_m\u001b[0m\u001b[1;33m[\u001b[0m\u001b[1;36m0\u001b[0m\u001b[1;33m]\u001b[0m\u001b[1;33m)\u001b[0m\u001b[1;33m.\u001b[0m\u001b[0mto_dict\u001b[0m\u001b[1;33m(\u001b[0m\u001b[1;33m)\u001b[0m\u001b[1;33m\u001b[0m\u001b[1;33m\u001b[0m\u001b[0m\n\u001b[0m\u001b[0;32m      4\u001b[0m \u001b[0medges_m\u001b[0m\u001b[1;33m[\u001b[0m\u001b[1;34m'to'\u001b[0m\u001b[1;33m]\u001b[0m \u001b[1;33m=\u001b[0m \u001b[0medges_m\u001b[0m\u001b[1;33m[\u001b[0m\u001b[1;34m'target'\u001b[0m\u001b[1;33m]\u001b[0m\u001b[1;33m.\u001b[0m\u001b[0mmap\u001b[0m\u001b[1;33m(\u001b[0m\u001b[0mnode_Ids\u001b[0m\u001b[1;33m)\u001b[0m\u001b[1;33m\u001b[0m\u001b[1;33m\u001b[0m\u001b[0m\n\u001b[0;32m      5\u001b[0m \u001b[0medges_m\u001b[0m\u001b[1;33m[\u001b[0m\u001b[1;34m'from'\u001b[0m\u001b[1;33m]\u001b[0m \u001b[1;33m=\u001b[0m \u001b[0medges_m\u001b[0m\u001b[1;33m[\u001b[0m\u001b[1;34m'source'\u001b[0m\u001b[1;33m]\u001b[0m\u001b[1;33m.\u001b[0m\u001b[0mmap\u001b[0m\u001b[1;33m(\u001b[0m\u001b[0mnode_Ids\u001b[0m\u001b[1;33m)\u001b[0m\u001b[1;33m\u001b[0m\u001b[1;33m\u001b[0m\u001b[0m\n",
      "\u001b[1;32m~\\Anaconda3\\envs\\ox\\lib\\site-packages\\geopandas\\geodataframe.py\u001b[0m in \u001b[0;36m__getitem__\u001b[1;34m(self, key)\u001b[0m\n\u001b[0;32m   1325\u001b[0m         \u001b[0mGeoDataFrame\u001b[0m\u001b[1;33m.\u001b[0m\u001b[1;33m\u001b[0m\u001b[1;33m\u001b[0m\u001b[0m\n\u001b[0;32m   1326\u001b[0m         \"\"\"\n\u001b[1;32m-> 1327\u001b[1;33m         \u001b[0mresult\u001b[0m \u001b[1;33m=\u001b[0m \u001b[0msuper\u001b[0m\u001b[1;33m(\u001b[0m\u001b[1;33m)\u001b[0m\u001b[1;33m.\u001b[0m\u001b[0m__getitem__\u001b[0m\u001b[1;33m(\u001b[0m\u001b[0mkey\u001b[0m\u001b[1;33m)\u001b[0m\u001b[1;33m\u001b[0m\u001b[1;33m\u001b[0m\u001b[0m\n\u001b[0m\u001b[0;32m   1328\u001b[0m         \u001b[0mgeo_col\u001b[0m \u001b[1;33m=\u001b[0m \u001b[0mself\u001b[0m\u001b[1;33m.\u001b[0m\u001b[0m_geometry_column_name\u001b[0m\u001b[1;33m\u001b[0m\u001b[1;33m\u001b[0m\u001b[0m\n\u001b[0;32m   1329\u001b[0m         \u001b[1;32mif\u001b[0m \u001b[0misinstance\u001b[0m\u001b[1;33m(\u001b[0m\u001b[0mresult\u001b[0m\u001b[1;33m,\u001b[0m \u001b[0mSeries\u001b[0m\u001b[1;33m)\u001b[0m \u001b[1;32mand\u001b[0m \u001b[0misinstance\u001b[0m\u001b[1;33m(\u001b[0m\u001b[0mresult\u001b[0m\u001b[1;33m.\u001b[0m\u001b[0mdtype\u001b[0m\u001b[1;33m,\u001b[0m \u001b[0mGeometryDtype\u001b[0m\u001b[1;33m)\u001b[0m\u001b[1;33m:\u001b[0m\u001b[1;33m\u001b[0m\u001b[1;33m\u001b[0m\u001b[0m\n",
      "\u001b[1;32m~\\Anaconda3\\envs\\ox\\lib\\site-packages\\pandas\\core\\frame.py\u001b[0m in \u001b[0;36m__getitem__\u001b[1;34m(self, key)\u001b[0m\n\u001b[0;32m   3456\u001b[0m             \u001b[1;32mif\u001b[0m \u001b[0mself\u001b[0m\u001b[1;33m.\u001b[0m\u001b[0mcolumns\u001b[0m\u001b[1;33m.\u001b[0m\u001b[0mnlevels\u001b[0m \u001b[1;33m>\u001b[0m \u001b[1;36m1\u001b[0m\u001b[1;33m:\u001b[0m\u001b[1;33m\u001b[0m\u001b[1;33m\u001b[0m\u001b[0m\n\u001b[0;32m   3457\u001b[0m                 \u001b[1;32mreturn\u001b[0m \u001b[0mself\u001b[0m\u001b[1;33m.\u001b[0m\u001b[0m_getitem_multilevel\u001b[0m\u001b[1;33m(\u001b[0m\u001b[0mkey\u001b[0m\u001b[1;33m)\u001b[0m\u001b[1;33m\u001b[0m\u001b[1;33m\u001b[0m\u001b[0m\n\u001b[1;32m-> 3458\u001b[1;33m             \u001b[0mindexer\u001b[0m \u001b[1;33m=\u001b[0m \u001b[0mself\u001b[0m\u001b[1;33m.\u001b[0m\u001b[0mcolumns\u001b[0m\u001b[1;33m.\u001b[0m\u001b[0mget_loc\u001b[0m\u001b[1;33m(\u001b[0m\u001b[0mkey\u001b[0m\u001b[1;33m)\u001b[0m\u001b[1;33m\u001b[0m\u001b[1;33m\u001b[0m\u001b[0m\n\u001b[0m\u001b[0;32m   3459\u001b[0m             \u001b[1;32mif\u001b[0m \u001b[0mis_integer\u001b[0m\u001b[1;33m(\u001b[0m\u001b[0mindexer\u001b[0m\u001b[1;33m)\u001b[0m\u001b[1;33m:\u001b[0m\u001b[1;33m\u001b[0m\u001b[1;33m\u001b[0m\u001b[0m\n\u001b[0;32m   3460\u001b[0m                 \u001b[0mindexer\u001b[0m \u001b[1;33m=\u001b[0m \u001b[1;33m[\u001b[0m\u001b[0mindexer\u001b[0m\u001b[1;33m]\u001b[0m\u001b[1;33m\u001b[0m\u001b[1;33m\u001b[0m\u001b[0m\n",
      "\u001b[1;32m~\\Anaconda3\\envs\\ox\\lib\\site-packages\\pandas\\core\\indexes\\base.py\u001b[0m in \u001b[0;36mget_loc\u001b[1;34m(self, key, method, tolerance)\u001b[0m\n\u001b[0;32m   3361\u001b[0m                 \u001b[1;32mreturn\u001b[0m \u001b[0mself\u001b[0m\u001b[1;33m.\u001b[0m\u001b[0m_engine\u001b[0m\u001b[1;33m.\u001b[0m\u001b[0mget_loc\u001b[0m\u001b[1;33m(\u001b[0m\u001b[0mcasted_key\u001b[0m\u001b[1;33m)\u001b[0m\u001b[1;33m\u001b[0m\u001b[1;33m\u001b[0m\u001b[0m\n\u001b[0;32m   3362\u001b[0m             \u001b[1;32mexcept\u001b[0m \u001b[0mKeyError\u001b[0m \u001b[1;32mas\u001b[0m \u001b[0merr\u001b[0m\u001b[1;33m:\u001b[0m\u001b[1;33m\u001b[0m\u001b[1;33m\u001b[0m\u001b[0m\n\u001b[1;32m-> 3363\u001b[1;33m                 \u001b[1;32mraise\u001b[0m \u001b[0mKeyError\u001b[0m\u001b[1;33m(\u001b[0m\u001b[0mkey\u001b[0m\u001b[1;33m)\u001b[0m \u001b[1;32mfrom\u001b[0m \u001b[0merr\u001b[0m\u001b[1;33m\u001b[0m\u001b[1;33m\u001b[0m\u001b[0m\n\u001b[0m\u001b[0;32m   3364\u001b[0m \u001b[1;33m\u001b[0m\u001b[0m\n\u001b[0;32m   3365\u001b[0m         \u001b[1;32mif\u001b[0m \u001b[0mis_scalar\u001b[0m\u001b[1;33m(\u001b[0m\u001b[0mkey\u001b[0m\u001b[1;33m)\u001b[0m \u001b[1;32mand\u001b[0m \u001b[0misna\u001b[0m\u001b[1;33m(\u001b[0m\u001b[0mkey\u001b[0m\u001b[1;33m)\u001b[0m \u001b[1;32mand\u001b[0m \u001b[1;32mnot\u001b[0m \u001b[0mself\u001b[0m\u001b[1;33m.\u001b[0m\u001b[0mhasnans\u001b[0m\u001b[1;33m:\u001b[0m\u001b[1;33m\u001b[0m\u001b[1;33m\u001b[0m\u001b[0m\n",
      "\u001b[1;31mKeyError\u001b[0m: 0"
     ]
    }
   ],
   "source": [
    "nodes_m['connect_id'] = nodes_m.index\n",
    "\n",
    "node_Ids = pd.Series(nodes_m.connect_id.values, index=nodes_m[0]).to_dict()\n",
    "edges_m['to'] = edges_m['target'].map(node_Ids)\n",
    "edges_m['from'] = edges_m['source'].map(node_Ids)"
   ]
  },
  {
   "cell_type": "code",
   "execution_count": 169,
   "id": "e84095cb",
   "metadata": {},
   "outputs": [
    {
     "name": "stdout",
     "output_type": "stream",
     "text": [
      "Building rtree...\n",
      "Updating external nodes...\n",
      "Projecting POIs to the network...\n",
      "Updating internal nodes...\n",
      "Updating internal edges...\n",
      "Missing 'to' nodes: 15\n",
      "Updating external links...\n",
      "Missing 'to' nodes: 0\n",
      "Remove faulty projections: 0/7511 (0.00%)\n",
      "NOTE: duplication in node coordinates keys\n",
      "Nodes count: 21101\n",
      "Node coordinates key count: 19930\n",
      "Missing 'from' nodes: 9\n",
      "Missing 'to' nodes: 15\n",
      "Building rtree...\n",
      "Updating external nodes...\n",
      "Projecting POIs to the network...\n",
      "Updating internal nodes...\n",
      "Updating internal edges...\n",
      "Missing 'to' nodes: 1\n",
      "Updating external links...\n",
      "Missing 'to' nodes: 0\n",
      "Remove faulty projections: 0/53 (0.00%)\n",
      "NOTE: duplication in node coordinates keys\n",
      "Nodes count: 21207\n",
      "Node coordinates key count: 20016\n",
      "Missing 'from' nodes: 9\n",
      "Missing 'to' nodes: 16\n"
     ]
    }
   ],
   "source": [
    "#%% # run connect pois with property centroids\n",
    "new_nodes_M, new_edges_M = connect_poi(buildings_M, nodes_m, edges_m, key_col='key', path=None, meter_epsg=7856)\n",
    "\n",
    "#%% # run connect pois with POIs\n",
    "# , prefix=8990000000\n",
    "new_nodes_2_M, new_edges_2_M = connect_poi(poi_M, new_nodes_M, new_edges_M, key_col='poi_id', path=None, meter_epsg=7856)"
   ]
  },
  {
   "cell_type": "code",
   "execution_count": 182,
   "id": "2a59900e",
   "metadata": {},
   "outputs": [
    {
     "data": {
      "text/html": [
       "<div>\n",
       "<style scoped>\n",
       "    .dataframe tbody tr th:only-of-type {\n",
       "        vertical-align: middle;\n",
       "    }\n",
       "\n",
       "    .dataframe tbody tr th {\n",
       "        vertical-align: top;\n",
       "    }\n",
       "\n",
       "    .dataframe thead th {\n",
       "        text-align: right;\n",
       "    }\n",
       "</style>\n",
       "<table border=\"1\" class=\"dataframe\">\n",
       "  <thead>\n",
       "    <tr style=\"text-align: right;\">\n",
       "      <th></th>\n",
       "      <th>maxspeed</th>\n",
       "      <th>layer</th>\n",
       "      <th>ref</th>\n",
       "      <th>fclass</th>\n",
       "      <th>osm_id</th>\n",
       "      <th>fid</th>\n",
       "      <th>ShpName</th>\n",
       "      <th>bridge</th>\n",
       "      <th>tunnel</th>\n",
       "      <th>oneway</th>\n",
       "      <th>name</th>\n",
       "      <th>geometry</th>\n",
       "      <th>length</th>\n",
       "      <th>to</th>\n",
       "      <th>from</th>\n",
       "      <th>connect_id</th>\n",
       "      <th>key</th>\n",
       "      <th>connect_type</th>\n",
       "      <th>poi_id</th>\n",
       "    </tr>\n",
       "  </thead>\n",
       "  <tbody>\n",
       "  </tbody>\n",
       "</table>\n",
       "</div>"
      ],
      "text/plain": [
       "Empty GeoDataFrame\n",
       "Columns: [maxspeed, layer, ref, fclass, osm_id, fid, ShpName, bridge, tunnel, oneway, name, geometry, length, to, from, connect_id, key, connect_type, poi_id]\n",
       "Index: []"
      ]
     },
     "execution_count": 182,
     "metadata": {},
     "output_type": "execute_result"
    }
   ],
   "source": [
    "edges_m[edges_m['to']==14278]\n",
    "new_edges_M[new_edges_M['to']==14278]\n",
    "new_edges_2[new_edges_2['to']==14278]"
   ]
  },
  {
   "cell_type": "code",
   "execution_count": 180,
   "id": "ff575e27",
   "metadata": {},
   "outputs": [
    {
     "data": {
      "text/html": [
       "<div>\n",
       "<style scoped>\n",
       "    .dataframe tbody tr th:only-of-type {\n",
       "        vertical-align: middle;\n",
       "    }\n",
       "\n",
       "    .dataframe tbody tr th {\n",
       "        vertical-align: top;\n",
       "    }\n",
       "\n",
       "    .dataframe thead th {\n",
       "        text-align: right;\n",
       "    }\n",
       "</style>\n",
       "<table border=\"1\" class=\"dataframe\">\n",
       "  <thead>\n",
       "    <tr style=\"text-align: right;\">\n",
       "      <th></th>\n",
       "      <th>geometry</th>\n",
       "      <th>connect_id</th>\n",
       "      <th>Shape_Leng</th>\n",
       "      <th>Shape_Area</th>\n",
       "      <th>key</th>\n",
       "      <th>connect_type</th>\n",
       "      <th>x</th>\n",
       "      <th>y</th>\n",
       "    </tr>\n",
       "    <tr>\n",
       "      <th>connect_id</th>\n",
       "      <th></th>\n",
       "      <th></th>\n",
       "      <th></th>\n",
       "      <th></th>\n",
       "      <th></th>\n",
       "      <th></th>\n",
       "      <th></th>\n",
       "      <th></th>\n",
       "    </tr>\n",
       "  </thead>\n",
       "  <tbody>\n",
       "    <tr>\n",
       "      <th>18213</th>\n",
       "      <td>POINT (-185851.214 5773343.062)</td>\n",
       "      <td>18213</td>\n",
       "      <td>NaN</td>\n",
       "      <td>NaN</td>\n",
       "      <td>NaN</td>\n",
       "      <td>projected_pap</td>\n",
       "      <td>-185851.214283</td>\n",
       "      <td>5.773343e+06</td>\n",
       "    </tr>\n",
       "  </tbody>\n",
       "</table>\n",
       "</div>"
      ],
      "text/plain": [
       "                                   geometry  connect_id  Shape_Leng  \\\n",
       "connect_id                                                            \n",
       "18213       POINT (-185851.214 5773343.062)       18213         NaN   \n",
       "\n",
       "            Shape_Area  key   connect_type              x             y  \n",
       "connect_id                                                               \n",
       "18213              NaN  NaN  projected_pap -185851.214283  5.773343e+06  "
      ]
     },
     "execution_count": 180,
     "metadata": {},
     "output_type": "execute_result"
    }
   ],
   "source": [
    "new_nodes_M[new_nodes_M['connect_id']==18213]"
   ]
  },
  {
   "cell_type": "code",
   "execution_count": 176,
   "id": "da7ca54e",
   "metadata": {
    "scrolled": true
   },
   "outputs": [],
   "source": [
    "new_nodes_2_M.to_csv(\"melbourne_nodes_small.csv\")\n",
    "new_edges_2_M.to_csv(\"melbourne_edges_small.csv\")"
   ]
  }
 ],
 "metadata": {
  "kernelspec": {
   "display_name": "Python 3",
   "language": "python",
   "name": "python3"
  },
  "language_info": {
   "codemirror_mode": {
    "name": "ipython",
    "version": 3
   },
   "file_extension": ".py",
   "mimetype": "text/x-python",
   "name": "python",
   "nbconvert_exporter": "python",
   "pygments_lexer": "ipython3",
   "version": "3.8.12"
  }
 },
 "nbformat": 4,
 "nbformat_minor": 5
}
