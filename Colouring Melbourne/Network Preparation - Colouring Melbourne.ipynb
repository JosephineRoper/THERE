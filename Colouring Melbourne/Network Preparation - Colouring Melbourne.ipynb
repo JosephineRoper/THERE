{
 "cells": [
  {
   "cell_type": "markdown",
   "id": "b43ce694",
   "metadata": {},
   "source": [
    "The purpose of this notebook is to demonstrate the use of the connect_pois tool to connect points (such as houses) to a road network, in order to be used for more precise network distance calculations. "
   ]
  },
  {
   "cell_type": "code",
   "execution_count": 2,
   "id": "d0abf46c",
   "metadata": {
    "scrolled": true
   },
   "outputs": [],
   "source": [
    "import pandas as pd\n",
    "import networkx as nx\n",
    "import geopandas as gpd\n",
    "from shapely import wkt\n",
    "import sys\n",
    "  \n",
    "# adding functions \n",
    "sys.path.insert(0, 'C:\\\\Users\\\\z3258367\\\\OneDrive - UNSW\\\\#PhD\\\\Walkability\\\\Other Cities\\\\Open-Walk-Index')\n",
    "\n",
    "from toolbox_JR import connect_poi"
   ]
  },
  {
   "cell_type": "markdown",
   "id": "66fb1949",
   "metadata": {},
   "source": [
    "Get POIs, then convert to projected CRS and get the centroid of polygonal POIs (building footprints in this case)."
   ]
  },
  {
   "cell_type": "code",
   "execution_count": 3,
   "id": "bcc24bfe",
   "metadata": {
    "scrolled": true
   },
   "outputs": [],
   "source": [
    "#%% # get pois. which must not be multipoints, for connect_poi to work\n",
    "folder = \"C:\\\\Users\\\\z3258367\\\\OneDrive - UNSW\\\\#PhD\\\\Walkability\\\\Other Cities\\\\Melbourne Data\\\\\"\n",
    "poi_gdf = gpd.read_file(''.join(\n",
    "    (folder + \"VicMap Features of Interest\\\\FOI_POINT.shp\")))\n",
    "buildings = gpd.read_file(''.join((\n",
    "    folder + \"melbourne_bf.shp\")))"
   ]
  },
  {
   "cell_type": "code",
   "execution_count": 4,
   "id": "73b9987c",
   "metadata": {
    "scrolled": true
   },
   "outputs": [],
   "source": [
    "poi_gdf = poi_gdf.to_crs(\"EPSG:7856\")\n",
    "buildings_ctrs = buildings.to_crs(\"EPSG:7856\")\n",
    "buildings_ctrs.geometry = buildings_ctrs.geometry.centroid"
   ]
  },
  {
   "cell_type": "code",
   "execution_count": 219,
   "id": "16615580",
   "metadata": {},
   "outputs": [],
   "source": [
    "parks_gdf = gpd.read_file(''.join((\"C:\\\\Users\\\\z3258367\\\\OneDrive - UNSW\\\\#PhD\\\\Walkability\\\\Other Cities\" + \n",
    "                                  \"\\\\Shared Aus Data\\\\OSM parks vertices.gpkg\")))\n",
    "\n",
    "parks_gdf = parks_gdf.to_crs(\"EPSG:7856\")\n",
    "parks_gdf = gpd.clip(parks_gdf, Greater_Melbourne)"
   ]
  },
  {
   "cell_type": "code",
   "execution_count": 220,
   "id": "caff0d07",
   "metadata": {},
   "outputs": [],
   "source": [
    "parks_ex = parks_gdf.explode(column=None, ignore_index=True, index_parts=False)\n",
    "parks_ex.reset_index(drop=True, inplace=True)\n",
    "parks_ex['poi_id'] = parks_ex.index"
   ]
  },
  {
   "cell_type": "markdown",
   "id": "22e9daf5",
   "metadata": {},
   "source": [
    "Connect_pois does not work with multipart/multipoint geometries so need to convert them just in case.\n",
    "Create new POI indexes."
   ]
  },
  {
   "cell_type": "code",
   "execution_count": 6,
   "id": "4df63cc2",
   "metadata": {
    "scrolled": true
   },
   "outputs": [],
   "source": [
    "Greater_Melbourne = gpd.read_file((folder + \"Greater_Melbourne_GCCSA_2016.shp\")\n",
    "    ).to_crs(\"EPSG:7856\")\n",
    "\n",
    "buildings_ex = buildings_ctrs.explode(column=None, ignore_index=True, index_parts=False)\n",
    "buildings_ex.reset_index(drop=True, inplace=True)\n",
    "buildings_ex['key'] = buildings_ex.index\n",
    "\n",
    "poi_ex = gpd.clip(poi_gdf, Greater_Melbourne).explode(column=None, ignore_index=True, index_parts=False)\n",
    "poi_ex.reset_index(drop=True, inplace=True)\n",
    "poi_ex['poi_id'] = poi_ex.index"
   ]
  },
  {
   "cell_type": "markdown",
   "id": "06c25aaf",
   "metadata": {},
   "source": [
    "Import a network and convert it to a graph.\n",
    "For Melbourne I have used the OSM network with every fclass kept except motorway and motorway_link."
   ]
  },
  {
   "cell_type": "code",
   "execution_count": 63,
   "id": "138b6bef",
   "metadata": {
    "scrolled": true
   },
   "outputs": [
    {
     "name": "stderr",
     "output_type": "stream",
     "text": [
      "<ipython-input-63-4aa44ec8b4ee>:1: DeprecationWarning: read_shp is deprecated and will be removed in 3.0.See https://networkx.org/documentation/latest/auto_examples/index.html#geospatial.\n",
      "  GS = nx.read_shp(''.join(\n"
     ]
    },
    {
     "name": "stdout",
     "output_type": "stream",
     "text": [
      "<class 'str'>\n"
     ]
    }
   ],
   "source": [
    "GS = nx.read_shp(''.join(\n",
    "    (folder + \"Melbourne Ped Network clean 1.gpkg\")),\n",
    "     simplify=False,geom_attrs=True) \n",
    "\n",
    "edges_df = nx.to_pandas_edgelist(GS)\n",
    "edges_gdf = gpd.GeoDataFrame(edges_df, geometry = gpd.GeoSeries.from_wkt(edges_df['Wkt']))\n",
    "edges_gdf = edges_gdf.set_crs(\"EPSG:7856\",allow_override=True).to_crs(\"EPSG:7856\")\n",
    "\n",
    "nodes_df = pd.DataFrame(GS.nodes(data=True))\n",
    "nodes_gdf = gpd.GeoDataFrame(nodes_df, geometry=gpd.points_from_xy(list(zip(*nodes_df[0]))[0],list(zip(*nodes_df[0]))[1]))\n",
    "nodes_gdf = nodes_gdf.set_crs(\"EPSG:7856\",allow_override=True).to_crs(\"EPSG:7856\")"
   ]
  },
  {
   "cell_type": "markdown",
   "id": "1e1afb4c",
   "metadata": {},
   "source": [
    "OSM road data does not necessarily have lengths, so add this now."
   ]
  },
  {
   "cell_type": "code",
   "execution_count": 66,
   "id": "a9db59db",
   "metadata": {},
   "outputs": [],
   "source": [
    "edges_gdf['length'] = edges_gdf.geometry.length"
   ]
  },
  {
   "cell_type": "markdown",
   "id": "c815d034",
   "metadata": {},
   "source": [
    "Establish a new column connect_id to index the original network nodes. Then use this column to create new 'to' and 'from' columns for the edges. (Previous 'source' and 'target' columns are based on OSM IDs of the nodes, but adding new fictional 'OSM IDs' for new nodes created in the POI joining process creates confusion, thus the creation of an unambiguous connect_id column)."
   ]
  },
  {
   "cell_type": "code",
   "execution_count": 67,
   "id": "4186443e",
   "metadata": {
    "scrolled": true
   },
   "outputs": [],
   "source": [
    "nodes_gdf['connect_id'] = nodes_gdf.index\n",
    "\n",
    "node_Ids = pd.Series(nodes_gdf.connect_id.values, index=nodes_gdf[0]).to_dict()\n",
    "edges_gdf['to'] = edges_gdf['target'].map(node_Ids)\n",
    "edges_gdf['from'] = edges_gdf['source'].map(node_Ids)\n",
    "\n",
    "# remove extraneous columns from nodes and edges\n",
    "nodes_gdf = nodes_gdf.drop([0,1], axis = 1).copy()\n",
    "edges_gdf = edges_gdf.drop(['source','target','Wkb','code','Json','Wkt'], axis = 1)"
   ]
  },
  {
   "cell_type": "markdown",
   "id": "d3f05e8b",
   "metadata": {},
   "source": [
    "Run connect_pois - this is a slow step. This finds the nearest network edge for each property/POI node, breaks the edge and makes a new node there, and a new edge connecting the POI to this node."
   ]
  },
  {
   "cell_type": "code",
   "execution_count": null,
   "id": "0d70a751",
   "metadata": {},
   "outputs": [],
   "source": [
    "#%% # run connect pois with property centroids\n",
    "new_nodes, new_edges = connect_poi(buildings_ex, nodes_gdf, edges_gdf, key_col='key', path=None, meter_epsg=7856)"
   ]
  },
  {
   "cell_type": "code",
   "execution_count": 216,
   "id": "cbb36b3b",
   "metadata": {
    "scrolled": true
   },
   "outputs": [
    {
     "name": "stdout",
     "output_type": "stream",
     "text": [
      "Building rtree...\n",
      "Updating external nodes...\n",
      "Projecting POIs to the network...\n",
      "Updating internal nodes...\n",
      "Updating internal edges...\n",
      "Missing 'to' nodes: 28\n",
      "Updating external links...\n",
      "Missing 'to' nodes: 0\n",
      "Remove faulty projections: 81/17171 (0.47%)\n",
      "NOTE: duplication in node coordinates keys\n",
      "Nodes count: 4966801\n",
      "Node coordinates key count: 4638224\n",
      "Missing 'from' nodes: 1881\n",
      "Missing 'to' nodes: 1776\n"
     ]
    }
   ],
   "source": [
    "#%% # run connect pois with POIs\n",
    "# , prefix=8990000000\n",
    "new_nodes_2, new_edges_2 = connect_poi(poi_ex, new_nodes, new_edges, key_col='poi_id', path=None, meter_epsg=7856)"
   ]
  },
  {
   "cell_type": "code",
   "execution_count": 221,
   "id": "c083767e",
   "metadata": {},
   "outputs": [
    {
     "name": "stdout",
     "output_type": "stream",
     "text": [
      "Building rtree...\n",
      "Updating external nodes...\n",
      "Projecting POIs to the network...\n",
      "Updating internal nodes...\n",
      "Updating internal edges...\n",
      "Missing 'to' nodes: 342\n",
      "Updating external links...\n",
      "Missing 'to' nodes: 0\n",
      "Remove faulty projections: 809/214154 (0.38%)\n",
      "NOTE: duplication in node coordinates keys\n",
      "Nodes count: 5395109\n",
      "Node coordinates key count: 4974021\n",
      "Missing 'from' nodes: 2175\n",
      "Missing 'to' nodes: 2065\n"
     ]
    }
   ],
   "source": [
    "#%% # run connect pois with parks\n",
    "new_nodes_3, new_edges_3 = connect_poi(parks_ex, new_nodes_2, new_edges_2, key_col='poi_id', path=None, meter_epsg=7856)"
   ]
  },
  {
   "cell_type": "code",
   "execution_count": 222,
   "id": "30f6e503",
   "metadata": {
    "scrolled": true
   },
   "outputs": [],
   "source": [
    "# sometimes there appears two duplicate nodes due to rounding issues\n",
    "d_nodes = new_nodes_3.round({'x':5, 'y':5}).drop_duplicates(subset=['x', 'y'], ignore_index=True)"
   ]
  },
  {
   "cell_type": "code",
   "execution_count": 223,
   "id": "baea9312",
   "metadata": {
    "scrolled": true
   },
   "outputs": [],
   "source": [
    "#I'm not sure why this is still necessary as I tried to fix it in the toolbox, but for now it is.\n",
    "#%% # have to rematch the edges to the nodes, as some of them are the wrong precision\n",
    "nodes_coord = d_nodes['geometry'].map(lambda x: wkt.loads(wkt.dumps(x, rounding_precision=4)).coords[0])\n",
    "nodes_id_dict = dict(zip(nodes_coord, d_nodes['connect_id'].astype('int64')))\n",
    "matched_edges = new_edges_3.copy()\n",
    "\n",
    "matched_edges['from'] = matched_edges['geometry'].map(lambda x: nodes_id_dict.get(list(wkt.loads(wkt.dumps(x, rounding_precision=4)).coords)[0], None))\n",
    "matched_edges['to'] = matched_edges['geometry'].map(lambda x: nodes_id_dict.get(list(wkt.loads(wkt.dumps(x, rounding_precision=4)).coords)[-1], None))\n",
    "\n",
    "matched_edges['from'] = matched_edges['from'].astype('Int64')\n",
    "matched_edges['to'] = matched_edges['to'].astype('Int64')\n",
    "\n",
    "dropped_edges = matched_edges.dropna(subset=['from','to'])\n",
    "\n",
    "dropped_edges = dropped_edges.drop_duplicates(subset=['from','to'])"
   ]
  },
  {
   "cell_type": "markdown",
   "id": "ea12b02a",
   "metadata": {},
   "source": [
    "This next cell is necessary otherwise there may eventually be errors when trying to run pandana. (See https://github.com/UDST/pandana/issues/88). All edges must reference existing nodes."
   ]
  },
  {
   "cell_type": "code",
   "execution_count": 224,
   "id": "3a6ce699",
   "metadata": {
    "scrolled": true
   },
   "outputs": [],
   "source": [
    "dropped_edges = dropped_edges[dropped_edges['to'].isin(d_nodes['connect_id']) & dropped_edges['from'].isin(d_nodes['connect_id'])]"
   ]
  },
  {
   "cell_type": "markdown",
   "id": "e1b6dd4e",
   "metadata": {},
   "source": [
    "### Export new nodes & edges"
   ]
  },
  {
   "cell_type": "code",
   "execution_count": 225,
   "id": "49fc7115",
   "metadata": {
    "scrolled": true
   },
   "outputs": [],
   "source": [
    "d_nodes.to_csv(\"melbourne_nodes.csv\")\n",
    "dropped_edges.to_csv(\"melbourne_edges.csv\")"
   ]
  }
 ],
 "metadata": {
  "kernelspec": {
   "display_name": "Python 3",
   "language": "python",
   "name": "python3"
  },
  "language_info": {
   "codemirror_mode": {
    "name": "ipython",
    "version": 3
   },
   "file_extension": ".py",
   "mimetype": "text/x-python",
   "name": "python",
   "nbconvert_exporter": "python",
   "pygments_lexer": "ipython3",
   "version": "3.8.12"
  }
 },
 "nbformat": 4,
 "nbformat_minor": 5
}
