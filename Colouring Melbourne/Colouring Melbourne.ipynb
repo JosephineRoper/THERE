{
 "cells": [
  {
   "cell_type": "code",
   "execution_count": 5,
   "id": "5ec4193a",
   "metadata": {},
   "outputs": [],
   "source": [
    "import numpy as np\n",
    "import pandana as pdna\n",
    "import geopandas as gpd\n",
    "import pandas as pd\n",
    "import math\n",
    "import networkx as nx\n",
    "import sys\n",
    "# adding functions \n",
    "sys.path.insert(0, 'C:\\\\Users\\\\z3258367\\\\OneDrive - UNSW\\\\#PhD\\\\Walkability\\\\Other Cities\\\\Open-Walk-Index')\n",
    "from walkability_functions import *"
   ]
  },
  {
   "cell_type": "markdown",
   "id": "40338e69",
   "metadata": {},
   "source": [
    "Choose a projected CRS to be used for all distance calculations."
   ]
  },
  {
   "cell_type": "code",
   "execution_count": 6,
   "id": "e28571a7",
   "metadata": {},
   "outputs": [],
   "source": [
    "proj_crs = \"EPSG:7855\""
   ]
  },
  {
   "cell_type": "markdown",
   "id": "865078a9",
   "metadata": {},
   "source": [
    "## Import Data\n",
    "\n",
    "Data sources:\n",
    "1. Shape of Greater Melbourne - used to clip points if not already clipped to the city\n",
    "2. Points of interest from OSM\n",
    "3. PTV public transport stops\n",
    "4. Additional POIs from VicMaps Features of Interest collection\n",
    "5. Employment data - processed from ABS originally"
   ]
  },
  {
   "cell_type": "code",
   "execution_count": 7,
   "id": "5a6398e7",
   "metadata": {},
   "outputs": [],
   "source": [
    "folder = \"C:\\\\Users\\\\z3258367\\\\OneDrive - UNSW\\\\#PhD\\\\Walkability\\\\Other Cities\\\\Colouring data & results\\\\Melbourne Data\\\\\"\n",
    "data = \"C:\\\\Users\\\\z3258367\\\\OneDrive - UNSW\\\\#PhD\\\\Data\\\\\"\n",
    "Greater_Melbourne = gpd.read_file((folder + \n",
    "                                   \"Greater_Melbourne_GCCSA_2016.shp\")\n",
    "                                 ).to_crs(proj_crs)"
   ]
  },
  {
   "cell_type": "code",
   "execution_count": 8,
   "id": "4c494196",
   "metadata": {},
   "outputs": [],
   "source": [
    "osm_poi_points = gpd.read_file(''.join((data, \n",
    "    \"OSM-australia-latest-free\\\\gis_osm_pois_free_1.shp\")))\n",
    "osm_poi_areas = gpd.read_file(data + \n",
    "    \"OSM-australia-latest-free\\\\gis_osm_pois_a_free_1.shp\")\n",
    "osm_transport_points = gpd.read_file(data +\n",
    "    \"OSM-australia-latest-free\\\\gis_osm_transport_free_1.shp\")\n",
    "osm_transport_areas =  gpd.read_file(data +\n",
    "    \"OSM-australia-latest-free\\\\gis_osm_transport_a_free_1.shp\")\n",
    "osm_parks_vertices = gpd.read_file(''.join((data, \n",
    "    \"OSM-australia-latest-free\\\\OSM parks vertices.gpkg\")))"
   ]
  },
  {
   "cell_type": "markdown",
   "id": "9d48e4c3",
   "metadata": {},
   "source": [
    "Convert polygonal datasets to points and any multipart datasets to single part. Clip OSM data to Greater Melbourne."
   ]
  },
  {
   "cell_type": "code",
   "execution_count": 9,
   "id": "9ebdc1c3",
   "metadata": {},
   "outputs": [],
   "source": [
    "osm_pois_2 = single_points(osm_poi_areas)\n",
    "osm_transport_2 = single_points(osm_transport_areas)\n",
    "osm_parks_vertices = single_points(osm_parks_vertices)\n",
    "\n",
    "osm_df = pd.concat([osm_poi_points, osm_pois_2, osm_transport_points, \n",
    "                    osm_transport_2, osm_parks_vertices]).to_crs(proj_crs)\n",
    "\n",
    "osm_df = gpd.clip(osm_df, Greater_Melbourne)"
   ]
  },
  {
   "cell_type": "markdown",
   "id": "b0a1b076",
   "metadata": {},
   "source": [
    "Import PTV data - already clipped to Greater Melbourne area, VicMaps data, and employment data (prepared using Employment points.ipnyb and ABS data).\n",
    "I have added specific service type columns at this point, even though they will be rolled into 'train' and 'other' for now, to make it easier to change the categories later if desired."
   ]
  },
  {
   "cell_type": "code",
   "execution_count": 10,
   "id": "49a68580",
   "metadata": {},
   "outputs": [],
   "source": [
    "bus = gpd.read_file(folder + \"PTV data\\\\PTV_METRO_BUS_STOP.SHP\").assign(fclass='bus')\n",
    "regional_bus = gpd.read_file(folder + \"PTV data\\\\PTV_REGIONAL_BUS_STOP.SHP\").assign(fclass='regional_bus')\n",
    "tram = gpd.read_file(folder + \"PTV data\\\\PTV_METRO_TRAM_STOP.SHP\").assign(fclass='tram')\n",
    "coach = gpd.read_file(folder + \"PTV data\\\\PTV_REGIONAL_COACH_STOP.SHP\").assign(fclass='coach')\n",
    "train = gpd.read_file(folder + \"PTV data\\\\PTV_REGIONAL_TRAIN_STATION.SHP\").assign(fclass='regional_train')\n",
    "regional_train = gpd.read_file(folder + \"PTV data\\\\PTV_METRO_TRAIN_STATION.SHP\").assign(fclass='train')\n",
    "\n",
    "PTV = pd.concat([bus, regional_bus, tram, coach, train, regional_train]).to_crs(proj_crs)"
   ]
  },
  {
   "cell_type": "code",
   "execution_count": 11,
   "id": "25120e8e",
   "metadata": {},
   "outputs": [],
   "source": [
    "vicmaps_points = gpd.read_file(folder + \"VicMap Features of Interest\\\\FOI_POINT.shp\")\n",
    "vicmaps_areas = gpd.read_file(folder + \"VicMap Features of Interest\\\\VMFOI.gdb\")\n",
    "\n",
    "vicmaps = pd.concat([vicmaps_points, vicmaps_areas]).to_crs(proj_crs)\n",
    "\n",
    "vicmaps = gpd.clip(vicmaps, Greater_Melbourne)"
   ]
  },
  {
   "cell_type": "code",
   "execution_count": 68,
   "id": "0d8bb7b1",
   "metadata": {},
   "outputs": [],
   "source": [
    "employment_centrs = gpd.read_file(folder + \"Vic_Employment_meshblocks.gpkg\").to_crs(proj_crs)"
   ]
  },
  {
   "cell_type": "markdown",
   "id": "a31928c3",
   "metadata": {},
   "source": [
    "### Categorise and weight POIs"
   ]
  },
  {
   "cell_type": "markdown",
   "id": "92b70870",
   "metadata": {},
   "source": [
    "Categorise POI data - change classes depending on your analysis and your data sources."
   ]
  },
  {
   "cell_type": "code",
   "execution_count": 13,
   "id": "588f14e9",
   "metadata": {},
   "outputs": [
    {
     "name": "stdout",
     "output_type": "stream",
     "text": [
      "Tags present in the dataset but not categorised:\n",
      "[]\n"
     ]
    }
   ],
   "source": [
    "metro_categories = {'transport':['bus', 'regional_bus', 'tram'], \n",
    "                    'trains':['train', 'regional_train', 'coach']}\n",
    "\n",
    "metro_categorised = categorise_pois(PTV, metro_categories, \n",
    "                                 category_column='fclass')"
   ]
  },
  {
   "cell_type": "code",
   "execution_count": 14,
   "id": "19d17999",
   "metadata": {},
   "outputs": [
    {
     "name": "stdout",
     "output_type": "stream",
     "text": [
      "Tags present in the dataset but not categorised:\n",
      "['toilet' 'bench' 'drinking_water' 'shelter' 'camp_site' 'monument'\n",
      " 'memorial' 'fire_station' 'telephone' 'tourist_info' 'hunting_stand'\n",
      " 'camera_surveillance' 'waste_basket' 'motel' 'caravan_site' 'graveyard'\n",
      " 'fountain' 'guesthouse' 'water_tower' 'tower' 'police' 'public_building'\n",
      " 'vending_any' 'hotel' 'nursing_home' 'comms_tower' 'vending_parking'\n",
      " 'recycling' 'lighthouse' 'wastewater_plant' 'bicycle_rental'\n",
      " 'bed_and_breakfast' 'courthouse' 'town_hall' 'car_rental'\n",
      " 'vending_machine' 'taxi' 'hostel' 'water_well' 'water_works'\n",
      " 'recycling_clothes' 'recycling_glass' 'chalet' 'prison' 'embassy'\n",
      " 'recycling_paper' 'alpine_hut']\n"
     ]
    }
   ],
   "source": [
    "osm_categories = {\"eating\" : ['restaurant', 'pub', 'cafe', 'fast_food', \n",
    "                              'food_court', 'bakery', 'bar', 'nightclub', 'biergarten'], \n",
    "                  'groceries' : ['supermarket', 'chemist', 'pharmacy', 'greengrocer', \n",
    "                                 'convenience', 'butcher', 'beverages', 'alcohol'], \n",
    "                  'shopping' : ['mall', 'bicycle_shop', 'clothes', \n",
    "                                'department_store', 'doityourself', \n",
    "                                'outdoor_shop', 'stationery', 'bookshop', \n",
    "                                'gift_shop', 'newsagent', 'car_dealership', \n",
    "                                'kiosk', 'furniture_shop', 'sports_shop', \n",
    "                                'garden_centre', 'computer_shop', 'shoe_shop', \n",
    "                                'beauty_shop', 'florist', 'video_shop', 'toy_shop', \n",
    "                                'mobile_phone_shop', 'jeweller', 'travel_agent'], \n",
    "                  'errands' : ['post_box', 'post_office', 'bank', 'atm',\n",
    "                               'doctors', 'dentist', 'laundry', 'hospital',\n",
    "                               'car_wash', 'veterinary', 'hairdresser', 'optician'], \n",
    "                  'parks' : ['viewpoint', 'park', 'playground', 'picnic_site', \n",
    "                             'pitch', 'swimming_pool', 'sports_centre', \n",
    "                             'golf_course', 'track', 'dog_park'], \n",
    "                  'education' : ['college', 'school', 'kindergarten', 'university'], \n",
    "                  'entertainment' : ['library', 'attraction', 'stadium', \n",
    "                                     'arts_centre', 'theatre', 'artwork', \n",
    "                                     'archaeological', 'cinema', 'museum', \n",
    "                                     'ruins', 'observation_tower', \n",
    "                                     'community_centre', 'zoo', 'castle', \n",
    "                                     'theme_park', 'ice_rink'], \n",
    "                 'trains' : ['ferry_terminal', 'railway_station', 'bus_station', \n",
    "                             'tram_stop', 'railway_halt', 'publictransport'], \n",
    "                 'transport' : ['car_sharing', 'bus_stop']}\n",
    "\n",
    "osm_categorised = categorise_pois(osm_df, osm_categories, \n",
    "                                  category_column='fclass')"
   ]
  },
  {
   "cell_type": "markdown",
   "id": "040452bb",
   "metadata": {},
   "source": [
    "In the VicMaps data, the 'community space' collection is caravan parks, camping areas (generally outside Greater Melbourne) and rest areas, not considered relevant. The 'community venue' collection is community centres, halls, senior clubs, scouts etc."
   ]
  },
  {
   "cell_type": "code",
   "execution_count": 15,
   "id": "1b9a148a",
   "metadata": {},
   "outputs": [
    {
     "name": "stdout",
     "output_type": "stream",
     "text": [
      "Tags present in the dataset but not categorised:\n",
      "['sign' 'landmark' 'care facility' 'emergency facility'\n",
      " 'communication service' nan 'community space' 'admin facility'\n",
      " 'dumping ground' 'control point' 'excavation site' 'place'\n",
      " 'storage facility' 'pipeline facility' 'defence site']\n"
     ]
    }
   ],
   "source": [
    "vicmaps_categories = {\"eating\" : [], \n",
    "                  'groceries' : [], \n",
    "                  'shopping' : [], \n",
    "                  'errands' : ['hospital', 'health facility', 'place of worship'], \n",
    "                  'parks' : ['recreational resource', 'reserve','sport facility'], \n",
    "                  'education' : ['education centre'], \n",
    "                  'entertainment' : ['cultural centre', 'commercial facility', 'community venue'], \n",
    "                 'trains' : [], \n",
    "                 'transport' : []}\n",
    "\n",
    "\n",
    "vicmaps_categorised = categorise_pois(vicmaps, vicmaps_categories, \n",
    "                                  category_column='FTYPE')"
   ]
  },
  {
   "cell_type": "markdown",
   "id": "cc5f1bf6",
   "metadata": {},
   "source": [
    "Need to remove potential overlap between different data sources (and inside some data sources). For this dataset it's around 30% because there is overlap of public transport stops between OSM and transport agencies, and overlap of places like parks and schools between OSM and VicMaps. Then take this combined POI set and clip it to the study area: should be the same area as is covered by the network. This is important otherwise points outside the network may be erroneously linked to the network."
   ]
  },
  {
   "cell_type": "code",
   "execution_count": 16,
   "id": "747397b1",
   "metadata": {},
   "outputs": [
    {
     "name": "stdout",
     "output_type": "stream",
     "text": [
      "Removed 35.67% duplicate points from dataframes\n"
     ]
    }
   ],
   "source": [
    "pois = remove_duplicate_pois([osm_categorised, vicmaps_categorised,\n",
    "                              metro_categorised], buffer=10)\n",
    "\n",
    "pois = gpd.clip(pois, Greater_Melbourne)"
   ]
  },
  {
   "cell_type": "markdown",
   "id": "dd0ca191",
   "metadata": {},
   "source": [
    "Choose walk index weightings, and output the sums of each category and the total to check. The walk index will be out of 100 regardless of this sum, but it is important to note that eg. shopping is only '10% of the walk index' if shopping is 10 out of 100."
   ]
  },
  {
   "cell_type": "code",
   "execution_count": 17,
   "id": "2bd0dc22",
   "metadata": {},
   "outputs": [],
   "source": [
    "poi_weights = {\n",
    "    \"employment\": [10],\n",
    "    \"eating\": [3, 3, 3, 2, 2, 1, 1, 1, 1, 1],\n",
    "    \"groceries\": [10, 4],\n",
    "    \"shopping\": [2, 2, 2, 2, 2],\n",
    "    \"errands\": [6, 2, 4],\n",
    "    \"parks\": [6],\n",
    "    \"education\": [10],\n",
    "    \"entertainment\": [5],\n",
    "    \"trains\": [10],\n",
    "    \"transport\": [2.5, 2.5]\n",
    "}"
   ]
  },
  {
   "cell_type": "code",
   "execution_count": 18,
   "id": "2440fb54",
   "metadata": {},
   "outputs": [
    {
     "name": "stdout",
     "output_type": "stream",
     "text": [
      "{'employment': 10, 'eating': 18, 'groceries': 14, 'shopping': 10, 'errands': 12, 'parks': 6, 'education': 10, 'entertainment': 5, 'trains': 10, 'transport': 5.0}\n",
      "total:  100.0\n"
     ]
    }
   ],
   "source": [
    "category_sums = {k: sum(v) for k, v in poi_weights.items()}\n",
    "total = sum(category_sums.values())\n",
    "print(category_sums)\n",
    "print(\"total: \", total)"
   ]
  },
  {
   "cell_type": "markdown",
   "id": "87cd7581",
   "metadata": {},
   "source": [
    "### Import network"
   ]
  },
  {
   "cell_type": "markdown",
   "id": "0f6b6f48",
   "metadata": {},
   "source": [
    "In this case the network is already in the same projected CRS as everything else but I have left in the transformation to be clear."
   ]
  },
  {
   "cell_type": "code",
   "execution_count": null,
   "id": "e5a86c0c",
   "metadata": {},
   "outputs": [],
   "source": [
    "# reading directly with geopandas.read_file crashes on my computer so I read into pandas then convert to gdf instead\n",
    "edges_df = pd.read_csv(folder + \"melbourne_edges.csv\")\n",
    "nodes_df = pd.read_csv(folder + \"melbourne_nodes.csv\")"
   ]
  },
  {
   "cell_type": "code",
   "execution_count": 119,
   "id": "d529acc7",
   "metadata": {},
   "outputs": [
    {
     "name": "stdout",
     "output_type": "stream",
     "text": [
      "<class 'str'>\n",
      "<class 'str'>\n"
     ]
    }
   ],
   "source": [
    "edges = gpd.GeoDataFrame(edges_df, \n",
    "                         geometry=gpd.GeoSeries.from_wkt(edges_df['geometry'])).set_crs(\"EPSG:7856\")\n",
    "nodes = gpd.GeoDataFrame(nodes_df, \n",
    "                         geometry=gpd.GeoSeries.from_wkt(nodes_df['geometry'])).set_crs(\"EPSG:7856\")\n",
    "edges = edges.to_crs(proj_crs)\n",
    "nodes = nodes.to_crs(proj_crs)"
   ]
  },
  {
   "cell_type": "markdown",
   "id": "72395d9f",
   "metadata": {},
   "source": [
    "Pandana expects edges to have a two item index based on the same IDs as the node index."
   ]
  },
  {
   "cell_type": "code",
   "execution_count": 120,
   "id": "31dda610",
   "metadata": {},
   "outputs": [],
   "source": [
    "nodes.set_index('connect_id',inplace=True)   #do not assume this is the case if it is not\n",
    "\n",
    "edges['from_idx'] = edges['from']\n",
    "edges['to_idx'] = edges['to']\n",
    "edges= edges.set_index(['from_idx', 'to_idx'])\n",
    "edges.index.names= ['from_idx','to_idx']"
   ]
  },
  {
   "cell_type": "code",
   "execution_count": 121,
   "id": "95c0746f",
   "metadata": {},
   "outputs": [],
   "source": [
    "edges = edges[edges['to'].isin(nodes.index) & edges['from'].isin(nodes.index)]"
   ]
  },
  {
   "cell_type": "markdown",
   "id": "ea582800",
   "metadata": {},
   "source": [
    "Pandana network creation."
   ]
  },
  {
   "cell_type": "code",
   "execution_count": 123,
   "id": "1149fbf0",
   "metadata": {},
   "outputs": [],
   "source": [
    "distance_network = pdna.Network(nodes['geometry'].x, nodes['geometry'].y,\n",
    "                                   edges['from'], edges['to'], \n",
    "                                   edges[['length']])\n",
    "\n",
    "maximum_dist = 2400"
   ]
  },
  {
   "cell_type": "markdown",
   "id": "6aa4efc6",
   "metadata": {},
   "source": [
    "Pandana network querying. The 'employment' category is empty because we didn't add the employment points to the POI dataset."
   ]
  },
  {
   "cell_type": "code",
   "execution_count": 124,
   "id": "63e13f7b",
   "metadata": {},
   "outputs": [
    {
     "name": "stdout",
     "output_type": "stream",
     "text": [
      "Category employment is empty\n",
      "Finished category: eating\n",
      "Finished category: groceries\n",
      "Finished category: shopping\n",
      "Finished category: errands\n",
      "Finished category: parks\n",
      "Finished category: education\n",
      "Finished category: entertainment\n",
      "Finished category: trains\n",
      "Finished category: transport\n"
     ]
    }
   ],
   "source": [
    "results = walk_index(distance_network, pois, poi_weights, distance=maximum_dist)"
   ]
  },
  {
   "cell_type": "code",
   "execution_count": 126,
   "id": "25ca93cd",
   "metadata": {},
   "outputs": [],
   "source": [
    "results.to_csv(\"Melbourne_colournoemployment_020522.csv\")"
   ]
  },
  {
   "cell_type": "markdown",
   "id": "ebc063b9",
   "metadata": {},
   "source": [
    "### Employment"
   ]
  },
  {
   "cell_type": "markdown",
   "id": "f3d8af95",
   "metadata": {},
   "source": [
    "The current approach is to find up to 100 closest employment nodes within the maximum distance. Then look up the number of jobs at each one, apply a distance decay function to each distance, multiply these together, and sum.\n",
    "\n",
    "An alternative approach which would be more convenient would be to use the Pandana 'aggregate' function which aggregates from all nodes within the maximum distance. However, there is limited ability to change the distance decay rate within the aggregation function. It can either be flat (no decay), linear (going to 0 at the max distance), or exponential where beta is set as 1/max distance. For walking I would like a beta of 0.001, but this requires the radius to be 1000m. If the radius is 2400m, beta is only 0.0004. This can be changed in the future if the Pandana function is updated to take a decay parameter. The aggregate function also seems to be slower than expected with the kind of network & distances I use."
   ]
  },
  {
   "cell_type": "code",
   "execution_count": 69,
   "id": "b2392d8d",
   "metadata": {},
   "outputs": [],
   "source": [
    "employment_centrs = single_points(employment_centrs)"
   ]
  },
  {
   "cell_type": "code",
   "execution_count": 72,
   "id": "59663d04",
   "metadata": {},
   "outputs": [],
   "source": [
    "employment_centrs = employment_centrs.droplevel(1, axis=0)\n",
    "employment_centrs=employment_centrs.set_index('Jobs')"
   ]
  },
  {
   "cell_type": "code",
   "execution_count": 128,
   "id": "cd626730",
   "metadata": {},
   "outputs": [],
   "source": [
    "x, y = (employment_centrs['geometry'].x, employment_centrs['geometry'].y)\n",
    "\n",
    "distance_network.set_pois(category='employment', maxdist=maximum_dist, maxitems=100, x_col=x, y_col=y)\n",
    "\n",
    "employment_access = distance_network.nearest_pois(\n",
    "    distance=maximum_dist, category='employment', num_pois=100, include_poi_ids=True)\n",
    "\n",
    "jobcounts = employment_access.iloc[:,100:200]"
   ]
  },
  {
   "cell_type": "code",
   "execution_count": null,
   "id": "2126ca83",
   "metadata": {},
   "outputs": [],
   "source": [
    "results['jobs'] = ((employment_access.iloc[:,0:100].applymap(access_weight, distance=maximum_dist))*\n",
    "                                jobcounts.values\n",
    "                                ).sum(axis=1)\n",
    "\n",
    "weight = 100*poi_weights['employment'][0]/sum(sum(list(poi_weights.values()),[]))"
   ]
  },
  {
   "cell_type": "code",
   "execution_count": 141,
   "id": "54f81b51",
   "metadata": {},
   "outputs": [],
   "source": [
    "results['Walk_Index'] = results['Walk_Index'] - results['employment']"
   ]
  },
  {
   "cell_type": "code",
   "execution_count": 142,
   "id": "a36c942b",
   "metadata": {},
   "outputs": [],
   "source": [
    "results['employment'] = [weight*min(x/70000,1) for x in results['jobs']]\n",
    "\n",
    "results['Walk_Index'] = results['Walk_Index'] + results['employment']"
   ]
  },
  {
   "cell_type": "code",
   "execution_count": 143,
   "id": "d6f26029",
   "metadata": {},
   "outputs": [
    {
     "data": {
      "text/plain": [
       "10.0"
      ]
     },
     "execution_count": 143,
     "metadata": {},
     "output_type": "execute_result"
    }
   ],
   "source": [
    "max(results['employment'])"
   ]
  },
  {
   "cell_type": "markdown",
   "id": "23d110b0",
   "metadata": {},
   "source": [
    "## Export results"
   ]
  },
  {
   "cell_type": "markdown",
   "id": "21dfcd47",
   "metadata": {},
   "source": [
    "Filter the results to the original Colouring Sydney buildings only. Optionally export results as a csv."
   ]
  },
  {
   "cell_type": "code",
   "execution_count": 144,
   "id": "2ec2e17e",
   "metadata": {},
   "outputs": [],
   "source": [
    "building_results = results.filter(items=nodes[nodes['connect_type'] == 'poi'].index, axis=0)"
   ]
  },
  {
   "cell_type": "code",
   "execution_count": 145,
   "id": "be4569d3",
   "metadata": {},
   "outputs": [],
   "source": [
    "building_results.to_csv(\"Colouring_bf_results_020522_2.csv\")"
   ]
  },
  {
   "cell_type": "code",
   "execution_count": 159,
   "id": "ac4d8332",
   "metadata": {},
   "outputs": [],
   "source": [
    "building_results.iloc[:,3:41] = building_results.iloc[:,3:41].round(1)"
   ]
  },
  {
   "cell_type": "code",
   "execution_count": 160,
   "id": "557e461c",
   "metadata": {},
   "outputs": [],
   "source": [
    "building_results.to_csv(\"Colouring_bf_results_020522_round.csv\")"
   ]
  },
  {
   "cell_type": "code",
   "execution_count": 146,
   "id": "48e025ea",
   "metadata": {},
   "outputs": [],
   "source": [
    "results_gdf = gpd.GeoDataFrame(building_results, geometry = gpd.GeoSeries.from_xy(building_results.x, building_results.y, crs=\"EPSG:7856\"))"
   ]
  },
  {
   "cell_type": "code",
   "execution_count": 147,
   "id": "2d6ab78e",
   "metadata": {},
   "outputs": [],
   "source": [
    "results_gdf.to_file(\"Colouring_results_020522_2.gpkg\")"
   ]
  },
  {
   "cell_type": "markdown",
   "id": "cfdb824b",
   "metadata": {},
   "source": [
    "Import building footprints and join the data to them, then export these polygons."
   ]
  },
  {
   "cell_type": "code",
   "execution_count": 148,
   "id": "7f943788",
   "metadata": {},
   "outputs": [
    {
     "name": "stderr",
     "output_type": "stream",
     "text": [
      "<ipython-input-148-5a3ac130696b>:4: UserWarning: CRS mismatch between the CRS of left geometries and the CRS of right geometries.\n",
      "Use `to_crs()` to reproject one of the input geometries to match the CRS of the other.\n",
      "\n",
      "Left CRS: EPSG:7855\n",
      "Right CRS: EPSG:7856\n",
      "\n",
      "  buildings_foot = gpd.sjoin(buildings_foot, results_gdf, how='left', predicate='contains')\n"
     ]
    }
   ],
   "source": [
    "buildings_foot = gpd.read_file(folder + \"melbourne_bf.shp\").to_crs(proj_crs)\n",
    "\n",
    "# join to data\n",
    "buildings_foot = gpd.sjoin(buildings_foot, results_gdf, how='left', predicate='contains')\n",
    "\n",
    "buildings_foot.to_file(\"Colouring_bf_results_180221.gpkg\")"
   ]
  },
  {
   "cell_type": "code",
   "execution_count": 94,
   "id": "a8856f74",
   "metadata": {},
   "outputs": [],
   "source": [
    "import matplotlib.pyplot as plt"
   ]
  },
  {
   "cell_type": "code",
   "execution_count": 96,
   "id": "2c31f8ae",
   "metadata": {},
   "outputs": [
    {
     "data": {
      "text/plain": [
       "array([ 264815.63445951, 5736826.24741635,  401218.83808026,\n",
       "       5883216.8258106 ])"
      ]
     },
     "execution_count": 96,
     "metadata": {},
     "output_type": "execute_result"
    }
   ],
   "source": [
    "nodes.geometry.total_bounds"
   ]
  },
  {
   "cell_type": "code",
   "execution_count": 101,
   "id": "f9eaec2c",
   "metadata": {},
   "outputs": [
    {
     "data": {
      "text/plain": [
       "array([ 265262.52912627, 5737114.44708126,  396710.7335429 ,\n",
       "       5882782.30703949])"
      ]
     },
     "execution_count": 101,
     "metadata": {},
     "output_type": "execute_result"
    }
   ],
   "source": [
    "results_gdf.geometry.total_bounds"
   ]
  },
  {
   "cell_type": "code",
   "execution_count": 103,
   "id": "fb9bf109",
   "metadata": {},
   "outputs": [
    {
     "data": {
      "image/png": "[encoded data removed]",
      "text/plain": [
       "<Figure size 432x288 with 1 Axes>"
      ]
     },
     "metadata": {
      "needs_background": "light"
     },
     "output_type": "display_data"
    }
   ],
   "source": [
    "minx, miny, maxx, maxy = results_gdf.geometry.total_bounds\n",
    "\n",
    "f, ax = plt.subplots()\n",
    "#features.plot(ax=ax, color='red')\n",
    "results_gdf.plot(ax=ax, marker='o', color='blue', markersize=1.5, c = results_gdf['Walk_Index'], cmap = 'magma')\n",
    "\n",
    "ax.set_xlim(359000, 356000) # added/substracted value is to give some margin around total bounds\n",
    "ax.set_ylim(5780000, 5781000)\n",
    "plt.show()"
   ]
  },
  {
   "cell_type": "code",
   "execution_count": 105,
   "id": "5b3d76d9",
   "metadata": {},
   "outputs": [
    {
     "data": {
      "text/plain": [
       "x                                                317187.970543\n",
       "y                                               5752248.322267\n",
       "employment_10                                                0\n",
       "eating1                                            2146.012939\n",
       "eating2                                                 2400.0\n",
       "eating3                                                 2400.0\n",
       "eating4                                                 2400.0\n",
       "eating5                                                 2400.0\n",
       "eating6                                                 2400.0\n",
       "eating7                                                 2400.0\n",
       "eating8                                                 2400.0\n",
       "eating9                                                 2400.0\n",
       "eating10                                                2400.0\n",
       "eating_18                                             0.350849\n",
       "groceries1                                         1618.662964\n",
       "groceries2                                              2400.0\n",
       "groceries_14                                          1.981635\n",
       "shopping1                                               2400.0\n",
       "shopping2                                               2400.0\n",
       "shopping3                                               2400.0\n",
       "shopping4                                               2400.0\n",
       "shopping5                                               2400.0\n",
       "shopping_10                                                0.0\n",
       "errands1                                                2400.0\n",
       "errands2                                                2400.0\n",
       "errands3                                                2400.0\n",
       "errands_12                                                 0.0\n",
       "parks1                                              963.780029\n",
       "parks_6                                                2.28869\n",
       "education1                                              2400.0\n",
       "education_10                                               0.0\n",
       "entertainment1                                     2362.461914\n",
       "entertainment_5                                        0.47094\n",
       "trains1                                                 2400.0\n",
       "trains_10                                                  0.0\n",
       "transport1                                              2400.0\n",
       "transport2                                              2400.0\n",
       "transport_5                                                0.0\n",
       "Walk_Index                                            5.097316\n",
       "jobs                                                 36.421651\n",
       "employment                                            0.005203\n",
       "geometry           POINT (317187.9705430298 5752248.322267163)\n",
       "Name: 2528573, dtype: object"
      ]
     },
     "execution_count": 105,
     "metadata": {},
     "output_type": "execute_result"
    }
   ],
   "source": [
    "results_gdf.loc[2528573]"
   ]
  },
  {
   "cell_type": "code",
   "execution_count": 111,
   "id": "d7fce36d",
   "metadata": {},
   "outputs": [
    {
     "data": {
      "text/html": [
       "<div>\n",
       "<style scoped>\n",
       "    .dataframe tbody tr th:only-of-type {\n",
       "        vertical-align: middle;\n",
       "    }\n",
       "\n",
       "    .dataframe tbody tr th {\n",
       "        vertical-align: top;\n",
       "    }\n",
       "\n",
       "    .dataframe thead th {\n",
       "        text-align: right;\n",
       "    }\n",
       "</style>\n",
       "<table border=\"1\" class=\"dataframe\">\n",
       "  <thead>\n",
       "    <tr style=\"text-align: right;\">\n",
       "      <th></th>\n",
       "      <th></th>\n",
       "      <th>Unnamed: 0</th>\n",
       "      <th>maxspeed</th>\n",
       "      <th>layer</th>\n",
       "      <th>ref</th>\n",
       "      <th>fclass</th>\n",
       "      <th>osm_id</th>\n",
       "      <th>fid</th>\n",
       "      <th>ShpName</th>\n",
       "      <th>bridge</th>\n",
       "      <th>tunnel</th>\n",
       "      <th>oneway</th>\n",
       "      <th>name</th>\n",
       "      <th>geometry</th>\n",
       "      <th>length</th>\n",
       "      <th>to</th>\n",
       "      <th>from</th>\n",
       "      <th>connect_id</th>\n",
       "      <th>key</th>\n",
       "      <th>connect_type</th>\n",
       "      <th>poi_id</th>\n",
       "    </tr>\n",
       "    <tr>\n",
       "      <th>from_idx</th>\n",
       "      <th>to_idx</th>\n",
       "      <th></th>\n",
       "      <th></th>\n",
       "      <th></th>\n",
       "      <th></th>\n",
       "      <th></th>\n",
       "      <th></th>\n",
       "      <th></th>\n",
       "      <th></th>\n",
       "      <th></th>\n",
       "      <th></th>\n",
       "      <th></th>\n",
       "      <th></th>\n",
       "      <th></th>\n",
       "      <th></th>\n",
       "      <th></th>\n",
       "      <th></th>\n",
       "      <th></th>\n",
       "      <th></th>\n",
       "      <th></th>\n",
       "      <th></th>\n",
       "    </tr>\n",
       "  </thead>\n",
       "  <tbody>\n",
       "    <tr>\n",
       "      <th>2528573</th>\n",
       "      <th>603201</th>\n",
       "      <td>4598040</td>\n",
       "      <td>NaN</td>\n",
       "      <td>NaN</td>\n",
       "      <td>NaN</td>\n",
       "      <td>NaN</td>\n",
       "      <td>NaN</td>\n",
       "      <td>NaN</td>\n",
       "      <td>NaN</td>\n",
       "      <td>NaN</td>\n",
       "      <td>NaN</td>\n",
       "      <td>False</td>\n",
       "      <td>NaN</td>\n",
       "      <td>LINESTRING (341674.959 5788244.209, 341617.621...</td>\n",
       "      <td>75.951916</td>\n",
       "      <td>603201</td>\n",
       "      <td>2528573</td>\n",
       "      <td>2528573_4184430</td>\n",
       "      <td>907828.0</td>\n",
       "      <td>projected_footway</td>\n",
       "      <td>NaN</td>\n",
       "    </tr>\n",
       "  </tbody>\n",
       "</table>\n",
       "</div>"
      ],
      "text/plain": [
       "                 Unnamed: 0  maxspeed  layer  ref fclass  osm_id  fid ShpName  \\\n",
       "from_idx to_idx                                                                 \n",
       "2528573  603201     4598040       NaN    NaN  NaN    NaN     NaN  NaN     NaN   \n",
       "\n",
       "                bridge tunnel oneway name  \\\n",
       "from_idx to_idx                             \n",
       "2528573  603201    NaN    NaN  False  NaN   \n",
       "\n",
       "                                                          geometry     length  \\\n",
       "from_idx to_idx                                                                 \n",
       "2528573  603201  LINESTRING (341674.959 5788244.209, 341617.621...  75.951916   \n",
       "\n",
       "                     to     from       connect_id       key  \\\n",
       "from_idx to_idx                                               \n",
       "2528573  603201  603201  2528573  2528573_4184430  907828.0   \n",
       "\n",
       "                      connect_type  poi_id  \n",
       "from_idx to_idx                             \n",
       "2528573  603201  projected_footway     NaN  "
      ]
     },
     "execution_count": 111,
     "metadata": {},
     "output_type": "execute_result"
    }
   ],
   "source": [
    "edges[edges['from'] == 2528573]"
   ]
  },
  {
   "cell_type": "code",
   "execution_count": 107,
   "id": "bf742a77",
   "metadata": {},
   "outputs": [
    {
     "data": {
      "text/plain": [
       "Unnamed: 0                                               2528573\n",
       "geometry             POINT (317187.9705430298 5752248.322267163)\n",
       "connect_id                                               2689072\n",
       "Shape_Leng                                              0.000233\n",
       "Shape_Area                                                   0.0\n",
       "key                                                    1068327.0\n",
       "connect_type                                                 poi\n",
       "x                                                  -207546.77823\n",
       "y                                                  5723195.42908\n",
       "UFI                                                          NaN\n",
       "PFI                                                          NaN\n",
       "FEATURE_ID                                                   NaN\n",
       "PARENTFTID                                                   NaN\n",
       "FTYPE                                                        NaN\n",
       "FEATSUBTYP                                                   NaN\n",
       "FEATSTATUS                                                   NaN\n",
       "NAME                                                         NaN\n",
       "NAME_LABEL                                                   NaN\n",
       "PARENTNAME                                                   NaN\n",
       "CHILDEXIST                                                   NaN\n",
       "AUTHORGC                                                     NaN\n",
       "AUTHORGID                                                    NaN\n",
       "AUTHORGVER                                                   NaN\n",
       "VMADD_PFI                                                    NaN\n",
       "VICNAMESID                                                   NaN\n",
       "VICNMSTATC                                                   NaN\n",
       "THEME1                                                       NaN\n",
       "THEME2                                                       NaN\n",
       "STATE                                                        NaN\n",
       "CRDATE_PFI                                                   NaN\n",
       "SUPER_PFI                                                    NaN\n",
       "CRDATE_UFI                                                   NaN\n",
       "poi_id                                                       NaN\n",
       "fid                                                          NaN\n",
       "osm_id                                                       NaN\n",
       "code                                                         NaN\n",
       "fclass                                                       NaN\n",
       "name                                                         NaN\n",
       "vertex_index                                                 NaN\n",
       "vertex_part                                                  NaN\n",
       "vertex_part_ring                                             NaN\n",
       "vertex_part_index                                            NaN\n",
       "distance                                                     NaN\n",
       "angle                                                        NaN\n",
       "Name: 2528573, dtype: object"
      ]
     },
     "execution_count": 107,
     "metadata": {},
     "output_type": "execute_result"
    }
   ],
   "source": [
    "nodes.loc[2528573]"
   ]
  }
 ],
 "metadata": {
  "kernelspec": {
   "display_name": "Python 3",
   "language": "python",
   "name": "python3"
  },
  "language_info": {
   "codemirror_mode": {
    "name": "ipython",
    "version": 3
   },
   "file_extension": ".py",
   "mimetype": "text/x-python",
   "name": "python",
   "nbconvert_exporter": "python",
   "pygments_lexer": "ipython3",
   "version": "3.8.12"
  }
 },
 "nbformat": 4,
 "nbformat_minor": 5
}
