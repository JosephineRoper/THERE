{
 "cells": [
  {
   "cell_type": "markdown",
   "id": "b43ce694",
   "metadata": {},
   "source": [
    "The purpose of this notebook is to demonstrate the use of the connect_pois tool to connect points (such as houses) to a road network, in order to be used for more precise accessibility calculations. "
   ]
  },
  {
   "cell_type": "code",
   "execution_count": 2,
   "id": "83b553e6",
   "metadata": {},
   "outputs": [],
   "source": [
    "%load_ext autoreload\n",
    "%autoreload 2"
   ]
  },
  {
   "cell_type": "code",
   "execution_count": 4,
   "id": "bcc24bfe",
   "metadata": {},
   "outputs": [],
   "source": [
    "#%% # get pois. which must not be multipoints, for connect_poi to work\n",
    "folder = \"C:\\\\Users\\\\z3258367\\\\OneDrive - UNSW\\\\#PhD\\\\\"\n",
    "\n",
    "poi_df = gpd.read_file(''.join(\n",
    "    (folder + \"Walkability\\\\Mavoa\\\\Pandana inputs\\\\Greater_Sydney_OSM_POIs_sp.shp\")))\n",
    "buildings = gpd.read_file(''.join((\n",
    "    folder + \"Data\\\\Colouring\\\\Building Footprints\\\\sydney_bf.shp\")))"
   ]
  },
  {
   "cell_type": "code",
   "execution_count": 5,
   "id": "73b9987c",
   "metadata": {},
   "outputs": [],
   "source": [
    "poi_df = poi_df.to_crs(\"EPSG:7856\")\n",
    "buildings_ctrs = buildings.to_crs(\"EPSG:7856\")\n",
    "buildings_ctrs.geometry = buildings_ctrs.geometry.centroid"
   ]
  },
  {
   "cell_type": "code",
   "execution_count": 7,
   "id": "4df63cc2",
   "metadata": {},
   "outputs": [],
   "source": [
    "#%% resolves multipoints if present and set indexes\n",
    "properties_ex = buildings_ctrs.explode(column=None, ignore_index=True, index_parts=False)\n",
    "properties_ex.reset_index(drop=True, inplace=True)\n",
    "properties_ex['key'] = properties_ex.index\n",
    "\n",
    "poi_ex = poi_df.explode(column=None, ignore_index=True, index_parts=False)\n",
    "poi_ex.reset_index(drop=True, inplace=True)\n",
    "poi_ex['poi_id'] = poi_ex.index"
   ]
  },
  {
   "cell_type": "code",
   "execution_count": 8,
   "id": "138b6bef",
   "metadata": {},
   "outputs": [
    {
     "name": "stderr",
     "output_type": "stream",
     "text": [
      "<ipython-input-8-90353826d5e3>:2: DeprecationWarning: read_shp is deprecated and will be removed in 3.0.See https://networkx.org/documentation/latest/auto_examples/index.html#geospatial.\n",
      "  GS = nx.read_shp(\"C:/Users/z3258367/OneDrive - UNSW/#PhD/Data/VA Cleaned OSM Greater Sydney Ped Aug2020/Greater_Sydney_Pedestrian_Cleaned.shp\",simplify=False,geom_attrs=True)\n"
     ]
    },
    {
     "name": "stdout",
     "output_type": "stream",
     "text": [
      "<class 'str'>\n"
     ]
    }
   ],
   "source": [
    "#%% # Import a clean network and convert it to a graph\n",
    "GS = nx.read_shp(\"C:/Users/z3258367/OneDrive - UNSW/#PhD/Data/VA Cleaned OSM Greater Sydney Ped Aug2020/Greater_Sydney_Pedestrian_Cleaned.shp\",simplify=False,geom_attrs=True) \n",
    "\n",
    "edges_df = nx.to_pandas_edgelist(GS)\n",
    "edges_gdf = gpd.GeoDataFrame(edges_df, geometry = gpd.GeoSeries.from_wkt(edges_df['Wkt']))\n",
    "edges_gdf = edges_gdf.set_crs(\"EPSG:3857\",allow_override=True).to_crs(\"EPSG:7856\")\n",
    "\n",
    "nodes_df = pd.DataFrame(GS.nodes(data=True))\n",
    "nodes_gdf = gpd.GeoDataFrame(nodes_df, geometry=gpd.points_from_xy(list(zip(*nodes_df[0]))[0],list(zip(*nodes_df[0]))[1]))\n",
    "nodes_gdf = nodes_gdf.set_crs(\"EPSG:3857\",allow_override=True).to_crs(\"EPSG:7856\")"
   ]
  },
  {
   "cell_type": "code",
   "execution_count": 9,
   "id": "4186443e",
   "metadata": {},
   "outputs": [],
   "source": [
    "# for my new toolbox changes, need to establish a connect_id for the original nodes first.\n",
    "nodes_gdf['connect_id'] = nodes_gdf.index\n",
    "\n",
    "# Then use the tuple column to create from and to columns based on the 'osmid' in the edge list\n",
    "node_Ids = pd.Series(nodes_gdf.connect_id.values, index=nodes_gdf[0]).to_dict()\n",
    "edges_gdf['to'] = edges_gdf['target'].map(node_Ids)\n",
    "edges_gdf['from'] = edges_gdf['source'].map(node_Ids)\n",
    "\n",
    "# remove extraneous columns from nodes and edges\n",
    "nodes_gdf = nodes_gdf.drop([0,1], axis = 1).copy()\n",
    "edges_gdf = edges_gdf.drop(['source','target','Wkb','code','Json','Wkt'], axis = 1)"
   ]
  },
  {
   "cell_type": "code",
   "execution_count": 19,
   "id": "ae491c96",
   "metadata": {},
   "outputs": [
    {
     "name": "stderr",
     "output_type": "stream",
     "text": [
      "<ipython-input-19-6a7d7d58f48b>:3: UserWarning: Column names longer than 10 characters will be truncated when saved to ESRI Shapefile.\n",
      "  new_edges.to_file(\"C:/Users/z3258367/OneDrive - UNSW/#PhD/Walkability/Mavoa/Github/new_edge_test_colour_912.shp\")\n"
     ]
    }
   ],
   "source": [
    "new_nodes.to_csv(\"new_nodes_test_colour_912.csv\")\n",
    "new_edges.to_csv(\"new_edge_test_colour_912.csv\")\n",
    "new_edges.to_file(\"C:/Users/z3258367/OneDrive - UNSW/#PhD/Walkability/Mavoa/Github/new_edge_test_colour_912.shp\")"
   ]
  },
  {
   "cell_type": "code",
   "execution_count": 20,
   "id": "d0abf46c",
   "metadata": {},
   "outputs": [],
   "source": [
    "import pandas as pd\n",
    "import networkx as nx\n",
    "import geopandas as gpd\n",
    "from shapely import wkt\n",
    "\n",
    "from toolbox_JR import connect_poi"
   ]
  },
  {
   "cell_type": "code",
   "execution_count": 21,
   "id": "cbb36b3b",
   "metadata": {},
   "outputs": [
    {
     "name": "stdout",
     "output_type": "stream",
     "text": [
      "Building rtree...\n",
      "Updating external nodes...\n",
      "Projecting POIs to the network...\n",
      "Updating internal nodes...\n",
      "Updating internal edges...\n",
      "Missing 'to' nodes: 696\n",
      "Updating external links...\n",
      "Missing 'to' nodes: 0\n",
      "Remove faulty projections: 15069/1318210 (1.14%)\n",
      "NOTE: duplication in node coordinates keys\n",
      "Nodes count: 3930298\n",
      "Node coordinates key count: 3802963\n",
      "Missing 'from' nodes: 679\n",
      "Missing 'to' nodes: 696\n",
      "Building rtree...\n",
      "Updating external nodes...\n",
      "Projecting POIs to the network...\n",
      "Updating internal nodes...\n",
      "Updating internal edges...\n",
      "Missing 'to' nodes: 30\n",
      "Updating external links...\n",
      "Missing 'to' nodes: 0\n",
      "Remove faulty projections: 53/24676 (0.21%)\n",
      "NOTE: duplication in node coordinates keys\n",
      "Nodes count: 3979650\n",
      "Node coordinates key count: 3847520\n",
      "Missing 'from' nodes: 699\n",
      "Missing 'to' nodes: 723\n"
     ]
    }
   ],
   "source": [
    "#%% # run connect pois with property centroids\n",
    "new_nodes, new_edges = connect_poi(properties_ex, nodes_gdf, edges_gdf, key_col='key', path=None, meter_epsg=7856)\n",
    "\n",
    "#%% # run connect pois with POIs\n",
    "new_nodes_2, new_edges_2 = connect_poi(poi_ex, new_nodes, new_edges, key_col='poi_id', path=None, meter_epsg=7855, prefix=8990000000)"
   ]
  },
  {
   "cell_type": "code",
   "execution_count": 22,
   "id": "7674b9ce",
   "metadata": {
    "scrolled": true
   },
   "outputs": [
    {
     "data": {
      "text/html": [
       "<div>\n",
       "<style scoped>\n",
       "    .dataframe tbody tr th:only-of-type {\n",
       "        vertical-align: middle;\n",
       "    }\n",
       "\n",
       "    .dataframe tbody tr th {\n",
       "        vertical-align: top;\n",
       "    }\n",
       "\n",
       "    .dataframe thead th {\n",
       "        text-align: right;\n",
       "    }\n",
       "</style>\n",
       "<table border=\"1\" class=\"dataframe\">\n",
       "  <thead>\n",
       "    <tr style=\"text-align: right;\">\n",
       "      <th></th>\n",
       "      <th>fclass</th>\n",
       "      <th>ref</th>\n",
       "      <th>Classifica</th>\n",
       "      <th>oneway</th>\n",
       "      <th>Shape_Leng</th>\n",
       "      <th>name</th>\n",
       "      <th>osm_id</th>\n",
       "      <th>bridge</th>\n",
       "      <th>tunnel</th>\n",
       "      <th>maxspeed</th>\n",
       "      <th>...</th>\n",
       "      <th>ShpName</th>\n",
       "      <th>Shape_Le_1</th>\n",
       "      <th>geometry</th>\n",
       "      <th>to</th>\n",
       "      <th>from</th>\n",
       "      <th>length</th>\n",
       "      <th>connect_id</th>\n",
       "      <th>key</th>\n",
       "      <th>connect_type</th>\n",
       "      <th>poi_id</th>\n",
       "    </tr>\n",
       "  </thead>\n",
       "  <tbody>\n",
       "    <tr>\n",
       "      <th>1396672</th>\n",
       "      <td>residential</td>\n",
       "      <td>None</td>\n",
       "      <td>None</td>\n",
       "      <td>B</td>\n",
       "      <td>0.010638</td>\n",
       "      <td>Sugarloaf Crescent</td>\n",
       "      <td>2953495</td>\n",
       "      <td>F</td>\n",
       "      <td>F</td>\n",
       "      <td>0.0</td>\n",
       "      <td>...</td>\n",
       "      <td>Greater_Sydney_Pedestrian_Cleaned</td>\n",
       "      <td>1263.686253</td>\n",
       "      <td>LINESTRING (334655.091 6258721.718, 334652.081...</td>\n",
       "      <td>NaN</td>\n",
       "      <td>3580281.0</td>\n",
       "      <td>3.442252</td>\n",
       "      <td>3580281.0_nan</td>\n",
       "      <td>NaN</td>\n",
       "      <td>NaN</td>\n",
       "      <td>NaN</td>\n",
       "    </tr>\n",
       "    <tr>\n",
       "      <th>1397030</th>\n",
       "      <td>residential</td>\n",
       "      <td>None</td>\n",
       "      <td>None</td>\n",
       "      <td>B</td>\n",
       "      <td>0.015884</td>\n",
       "      <td>Neerim Road</td>\n",
       "      <td>2953515</td>\n",
       "      <td>F</td>\n",
       "      <td>F</td>\n",
       "      <td>0.0</td>\n",
       "      <td>...</td>\n",
       "      <td>Greater_Sydney_Pedestrian_Cleaned</td>\n",
       "      <td>1833.073658</td>\n",
       "      <td>LINESTRING (335043.042 6259993.479, 335050.216...</td>\n",
       "      <td>NaN</td>\n",
       "      <td>3836747.0</td>\n",
       "      <td>7.398081</td>\n",
       "      <td>3836747.0_nan</td>\n",
       "      <td>NaN</td>\n",
       "      <td>NaN</td>\n",
       "      <td>NaN</td>\n",
       "    </tr>\n",
       "    <tr>\n",
       "      <th>1399700</th>\n",
       "      <td>residential</td>\n",
       "      <td>None</td>\n",
       "      <td>None</td>\n",
       "      <td>B</td>\n",
       "      <td>0.001884</td>\n",
       "      <td>Payten Street</td>\n",
       "      <td>173301607</td>\n",
       "      <td>F</td>\n",
       "      <td>F</td>\n",
       "      <td>0.0</td>\n",
       "      <td>...</td>\n",
       "      <td>Greater_Sydney_Pedestrian_Cleaned</td>\n",
       "      <td>232.061898</td>\n",
       "      <td>LINESTRING (326944.491 6238049.818, 326962.924...</td>\n",
       "      <td>NaN</td>\n",
       "      <td>3183905.0</td>\n",
       "      <td>28.021138</td>\n",
       "      <td>3183905.0_nan</td>\n",
       "      <td>NaN</td>\n",
       "      <td>NaN</td>\n",
       "      <td>NaN</td>\n",
       "    </tr>\n",
       "    <tr>\n",
       "      <th>1399815</th>\n",
       "      <td>residential</td>\n",
       "      <td>None</td>\n",
       "      <td>None</td>\n",
       "      <td>B</td>\n",
       "      <td>0.005896</td>\n",
       "      <td>Carlton Crescent</td>\n",
       "      <td>3680973</td>\n",
       "      <td>F</td>\n",
       "      <td>F</td>\n",
       "      <td>0.0</td>\n",
       "      <td>...</td>\n",
       "      <td>Greater_Sydney_Pedestrian_Cleaned</td>\n",
       "      <td>717.088156</td>\n",
       "      <td>LINESTRING (326976.292 6238040.347, 326962.924...</td>\n",
       "      <td>NaN</td>\n",
       "      <td>3921235.0</td>\n",
       "      <td>17.720840</td>\n",
       "      <td>3921235.0_nan</td>\n",
       "      <td>NaN</td>\n",
       "      <td>NaN</td>\n",
       "      <td>NaN</td>\n",
       "    </tr>\n",
       "    <tr>\n",
       "      <th>1401390</th>\n",
       "      <td>residential</td>\n",
       "      <td>None</td>\n",
       "      <td>None</td>\n",
       "      <td>B</td>\n",
       "      <td>0.003639</td>\n",
       "      <td>Oberon Street</td>\n",
       "      <td>3738690</td>\n",
       "      <td>F</td>\n",
       "      <td>F</td>\n",
       "      <td>50.0</td>\n",
       "      <td>...</td>\n",
       "      <td>Greater_Sydney_Pedestrian_Cleaned</td>\n",
       "      <td>406.917437</td>\n",
       "      <td>LINESTRING (337377.443 6244871.248, 337378.922...</td>\n",
       "      <td>NaN</td>\n",
       "      <td>2682890.0</td>\n",
       "      <td>1.495721</td>\n",
       "      <td>2682890.0_nan</td>\n",
       "      <td>NaN</td>\n",
       "      <td>NaN</td>\n",
       "      <td>NaN</td>\n",
       "    </tr>\n",
       "    <tr>\n",
       "      <th>...</th>\n",
       "      <td>...</td>\n",
       "      <td>...</td>\n",
       "      <td>...</td>\n",
       "      <td>...</td>\n",
       "      <td>...</td>\n",
       "      <td>...</td>\n",
       "      <td>...</td>\n",
       "      <td>...</td>\n",
       "      <td>...</td>\n",
       "      <td>...</td>\n",
       "      <td>...</td>\n",
       "      <td>...</td>\n",
       "      <td>...</td>\n",
       "      <td>...</td>\n",
       "      <td>...</td>\n",
       "      <td>...</td>\n",
       "      <td>...</td>\n",
       "      <td>...</td>\n",
       "      <td>...</td>\n",
       "      <td>...</td>\n",
       "      <td>...</td>\n",
       "    </tr>\n",
       "    <tr>\n",
       "      <th>4275947</th>\n",
       "      <td>service</td>\n",
       "      <td>None</td>\n",
       "      <td>None</td>\n",
       "      <td>B</td>\n",
       "      <td>0.003368</td>\n",
       "      <td>None</td>\n",
       "      <td>352728812</td>\n",
       "      <td>F</td>\n",
       "      <td>F</td>\n",
       "      <td>0.0</td>\n",
       "      <td>...</td>\n",
       "      <td>Greater_Sydney_Pedestrian_Cleaned</td>\n",
       "      <td>436.044823</td>\n",
       "      <td>LINESTRING (359749.311 6310234.192, 359748.031...</td>\n",
       "      <td>NaN</td>\n",
       "      <td>3968962.0</td>\n",
       "      <td>6.892291</td>\n",
       "      <td>3968962.0_nan</td>\n",
       "      <td>NaN</td>\n",
       "      <td>NaN</td>\n",
       "      <td>NaN</td>\n",
       "    </tr>\n",
       "    <tr>\n",
       "      <th>4276133</th>\n",
       "      <td>service</td>\n",
       "      <td>None</td>\n",
       "      <td>None</td>\n",
       "      <td>B</td>\n",
       "      <td>0.000795</td>\n",
       "      <td>Park Lane</td>\n",
       "      <td>2654986</td>\n",
       "      <td>F</td>\n",
       "      <td>F</td>\n",
       "      <td>0.0</td>\n",
       "      <td>...</td>\n",
       "      <td>Greater_Sydney_Pedestrian_Cleaned</td>\n",
       "      <td>95.513658</td>\n",
       "      <td>LINESTRING (332855.142 6249767.920, 332866.384...</td>\n",
       "      <td>NaN</td>\n",
       "      <td>3964825.0</td>\n",
       "      <td>15.136748</td>\n",
       "      <td>3964825.0_nan</td>\n",
       "      <td>NaN</td>\n",
       "      <td>NaN</td>\n",
       "      <td>NaN</td>\n",
       "    </tr>\n",
       "    <tr>\n",
       "      <th>4278723</th>\n",
       "      <td>service</td>\n",
       "      <td>None</td>\n",
       "      <td>None</td>\n",
       "      <td>B</td>\n",
       "      <td>0.001269</td>\n",
       "      <td>None</td>\n",
       "      <td>91986736</td>\n",
       "      <td>F</td>\n",
       "      <td>F</td>\n",
       "      <td>0.0</td>\n",
       "      <td>...</td>\n",
       "      <td>Greater_Sydney_Pedestrian_Cleaned</td>\n",
       "      <td>151.203520</td>\n",
       "      <td>LINESTRING (318647.650 6275558.920, 318649.384...</td>\n",
       "      <td>NaN</td>\n",
       "      <td>3966936.0</td>\n",
       "      <td>2.151282</td>\n",
       "      <td>3966936.0_nan</td>\n",
       "      <td>NaN</td>\n",
       "      <td>NaN</td>\n",
       "      <td>NaN</td>\n",
       "    </tr>\n",
       "    <tr>\n",
       "      <th>4279671</th>\n",
       "      <td>cycleway</td>\n",
       "      <td>None</td>\n",
       "      <td>None</td>\n",
       "      <td>B</td>\n",
       "      <td>0.000602</td>\n",
       "      <td>None</td>\n",
       "      <td>395699901</td>\n",
       "      <td>F</td>\n",
       "      <td>F</td>\n",
       "      <td>0.0</td>\n",
       "      <td>...</td>\n",
       "      <td>Greater_Sydney_Pedestrian_Cleaned</td>\n",
       "      <td>69.207031</td>\n",
       "      <td>LINESTRING (331758.118 6246993.623, 331751.533...</td>\n",
       "      <td>NaN</td>\n",
       "      <td>3957131.0</td>\n",
       "      <td>7.124344</td>\n",
       "      <td>3957131.0_nan</td>\n",
       "      <td>NaN</td>\n",
       "      <td>NaN</td>\n",
       "      <td>NaN</td>\n",
       "    </tr>\n",
       "    <tr>\n",
       "      <th>4280955</th>\n",
       "      <td>residential</td>\n",
       "      <td>None</td>\n",
       "      <td>None</td>\n",
       "      <td>B</td>\n",
       "      <td>0.005743</td>\n",
       "      <td>Murralong Road</td>\n",
       "      <td>227084848</td>\n",
       "      <td>F</td>\n",
       "      <td>F</td>\n",
       "      <td>50.0</td>\n",
       "      <td>...</td>\n",
       "      <td>Greater_Sydney_Pedestrian_Cleaned</td>\n",
       "      <td>720.345615</td>\n",
       "      <td>LINESTRING (324874.352 6273361.415, 324902.138...</td>\n",
       "      <td>NaN</td>\n",
       "      <td>3961577.0</td>\n",
       "      <td>28.322019</td>\n",
       "      <td>3961577.0_nan</td>\n",
       "      <td>NaN</td>\n",
       "      <td>NaN</td>\n",
       "      <td>NaN</td>\n",
       "    </tr>\n",
       "  </tbody>\n",
       "</table>\n",
       "<p>723 rows × 22 columns</p>\n",
       "</div>"
      ],
      "text/plain": [
       "              fclass   ref Classifica oneway  Shape_Leng                name  \\\n",
       "1396672  residential  None       None      B    0.010638  Sugarloaf Crescent   \n",
       "1397030  residential  None       None      B    0.015884         Neerim Road   \n",
       "1399700  residential  None       None      B    0.001884       Payten Street   \n",
       "1399815  residential  None       None      B    0.005896    Carlton Crescent   \n",
       "1401390  residential  None       None      B    0.003639       Oberon Street   \n",
       "...              ...   ...        ...    ...         ...                 ...   \n",
       "4275947      service  None       None      B    0.003368                None   \n",
       "4276133      service  None       None      B    0.000795           Park Lane   \n",
       "4278723      service  None       None      B    0.001269                None   \n",
       "4279671     cycleway  None       None      B    0.000602                None   \n",
       "4280955  residential  None       None      B    0.005743      Murralong Road   \n",
       "\n",
       "            osm_id bridge tunnel  maxspeed  ...  \\\n",
       "1396672    2953495      F      F       0.0  ...   \n",
       "1397030    2953515      F      F       0.0  ...   \n",
       "1399700  173301607      F      F       0.0  ...   \n",
       "1399815    3680973      F      F       0.0  ...   \n",
       "1401390    3738690      F      F      50.0  ...   \n",
       "...            ...    ...    ...       ...  ...   \n",
       "4275947  352728812      F      F       0.0  ...   \n",
       "4276133    2654986      F      F       0.0  ...   \n",
       "4278723   91986736      F      F       0.0  ...   \n",
       "4279671  395699901      F      F       0.0  ...   \n",
       "4280955  227084848      F      F      50.0  ...   \n",
       "\n",
       "                                   ShpName   Shape_Le_1  \\\n",
       "1396672  Greater_Sydney_Pedestrian_Cleaned  1263.686253   \n",
       "1397030  Greater_Sydney_Pedestrian_Cleaned  1833.073658   \n",
       "1399700  Greater_Sydney_Pedestrian_Cleaned   232.061898   \n",
       "1399815  Greater_Sydney_Pedestrian_Cleaned   717.088156   \n",
       "1401390  Greater_Sydney_Pedestrian_Cleaned   406.917437   \n",
       "...                                    ...          ...   \n",
       "4275947  Greater_Sydney_Pedestrian_Cleaned   436.044823   \n",
       "4276133  Greater_Sydney_Pedestrian_Cleaned    95.513658   \n",
       "4278723  Greater_Sydney_Pedestrian_Cleaned   151.203520   \n",
       "4279671  Greater_Sydney_Pedestrian_Cleaned    69.207031   \n",
       "4280955  Greater_Sydney_Pedestrian_Cleaned   720.345615   \n",
       "\n",
       "                                                  geometry  to       from  \\\n",
       "1396672  LINESTRING (334655.091 6258721.718, 334652.081... NaN  3580281.0   \n",
       "1397030  LINESTRING (335043.042 6259993.479, 335050.216... NaN  3836747.0   \n",
       "1399700  LINESTRING (326944.491 6238049.818, 326962.924... NaN  3183905.0   \n",
       "1399815  LINESTRING (326976.292 6238040.347, 326962.924... NaN  3921235.0   \n",
       "1401390  LINESTRING (337377.443 6244871.248, 337378.922... NaN  2682890.0   \n",
       "...                                                    ...  ..        ...   \n",
       "4275947  LINESTRING (359749.311 6310234.192, 359748.031... NaN  3968962.0   \n",
       "4276133  LINESTRING (332855.142 6249767.920, 332866.384... NaN  3964825.0   \n",
       "4278723  LINESTRING (318647.650 6275558.920, 318649.384... NaN  3966936.0   \n",
       "4279671  LINESTRING (331758.118 6246993.623, 331751.533... NaN  3957131.0   \n",
       "4280955  LINESTRING (324874.352 6273361.415, 324902.138... NaN  3961577.0   \n",
       "\n",
       "            length     connect_id  key connect_type  poi_id  \n",
       "1396672   3.442252  3580281.0_nan  NaN          NaN     NaN  \n",
       "1397030   7.398081  3836747.0_nan  NaN          NaN     NaN  \n",
       "1399700  28.021138  3183905.0_nan  NaN          NaN     NaN  \n",
       "1399815  17.720840  3921235.0_nan  NaN          NaN     NaN  \n",
       "1401390   1.495721  2682890.0_nan  NaN          NaN     NaN  \n",
       "...            ...            ...  ...          ...     ...  \n",
       "4275947   6.892291  3968962.0_nan  NaN          NaN     NaN  \n",
       "4276133  15.136748  3964825.0_nan  NaN          NaN     NaN  \n",
       "4278723   2.151282  3966936.0_nan  NaN          NaN     NaN  \n",
       "4279671   7.124344  3957131.0_nan  NaN          NaN     NaN  \n",
       "4280955  28.322019  3961577.0_nan  NaN          NaN     NaN  \n",
       "\n",
       "[723 rows x 22 columns]"
      ]
     },
     "execution_count": 22,
     "metadata": {},
     "output_type": "execute_result"
    }
   ],
   "source": [
    "new_edges_2[new_edges_2['to'].isna()]"
   ]
  },
  {
   "cell_type": "code",
   "execution_count": 23,
   "id": "f84264e3",
   "metadata": {},
   "outputs": [
    {
     "data": {
      "text/plain": [
       "0.9996385253665205"
      ]
     },
     "execution_count": 23,
     "metadata": {},
     "output_type": "execute_result"
    }
   ],
   "source": [
    "d_edges = new_edges_2[new_edges_2['to'].isin(new_nodes_2['connect_id']) & new_edges_2['from'].isin(new_nodes_2['connect_id'])]\n",
    "len(d_edges)/len(new_edges_2)"
   ]
  },
  {
   "cell_type": "code",
   "execution_count": 31,
   "id": "30f6e503",
   "metadata": {},
   "outputs": [],
   "source": [
    "d_nodes = new_nodes_2.round(6).drop_duplicates(subset=['x', 'y'], ignore_index=True)"
   ]
  },
  {
   "cell_type": "code",
   "execution_count": 32,
   "id": "cf52ed88",
   "metadata": {},
   "outputs": [
    {
     "data": {
      "text/plain": [
       "0.9668036133830864"
      ]
     },
     "execution_count": 32,
     "metadata": {},
     "output_type": "execute_result"
    }
   ],
   "source": [
    "len(d_nodes)/len(new_nodes_2)"
   ]
  },
  {
   "cell_type": "code",
   "execution_count": 33,
   "id": "baea9312",
   "metadata": {},
   "outputs": [
    {
     "name": "stdout",
     "output_type": "stream",
     "text": [
      "1.0\n",
      "0.9983255742540582\n"
     ]
    }
   ],
   "source": [
    "#this no longer necessary since I fixed it in the toolbox\n",
    "\n",
    "#%% # have to rematch the edges to the nodes, as some of them are the wrong precision\n",
    "nodes_coord = d_nodes['geometry'].map(lambda x: wkt.loads(wkt.dumps(x, rounding_precision=6)).coords[0])\n",
    "nodes_id_dict = dict(zip(nodes_coord, d_nodes['connect_id'].astype('int64')))\n",
    "matched_edges = new_edges_2\n",
    "\n",
    "# my version with new nodes\n",
    "matched_edges['from'] = matched_edges['geometry'].map(lambda x: nodes_id_dict.get(list(wkt.loads(wkt.dumps(x, rounding_precision=6)).coords)[0], None))\n",
    "matched_edges['to'] = matched_edges['geometry'].map(lambda x: nodes_id_dict.get(list(wkt.loads(wkt.dumps(x, rounding_precision=6)).coords)[-1], None))\n",
    "\n",
    "matched_edges['from'] = matched_edges['from'].astype('Int64')\n",
    "matched_edges['to'] = matched_edges['to'].astype('Int64')\n",
    "\n",
    "dropped_edges_2 = matched_edges.dropna(subset=['from','to'])\n",
    "print(len(matched_edges)/len(new_edges_2))\n",
    "print(len(dropped_edges_2)/len(new_edges_2))"
   ]
  },
  {
   "cell_type": "markdown",
   "id": "ea12b02a",
   "metadata": {},
   "source": [
    "This next cell is necessary otherwise there may eventually be errors when trying to run pandana. (See https://github.com/UDST/pandana/issues/88). All edges must reference existing nodes."
   ]
  },
  {
   "cell_type": "code",
   "execution_count": 34,
   "id": "3a6ce699",
   "metadata": {},
   "outputs": [
    {
     "name": "stdout",
     "output_type": "stream",
     "text": [
      "0.9983255742540582\n",
      "0.9983255742540582\n",
      "1.020713234950124\n"
     ]
    }
   ],
   "source": [
    "# drop NAs - this seems to be essential\n",
    "dropped_edges = new_edges_2.dropna(subset=['from','to'])\n",
    "print(len(dropped_edges)/len(new_edges_2))\n",
    "\n",
    "# and this, this appears to have actually fixed things. though I'm not totally sure why.\n",
    "dropped_edges = dropped_edges[dropped_edges['to'].isin(d_nodes['connect_id']) & dropped_edges['from'].isin(d_nodes['connect_id'])]\n",
    "print(len(dropped_edges)/len(new_edges_2))\n",
    "\n",
    "dropped_edges = dropped_edges.drop_duplicates(subset=['from','to'])"
   ]
  },
  {
   "cell_type": "code",
   "execution_count": 36,
   "id": "67812a40",
   "metadata": {},
   "outputs": [
    {
     "data": {
      "text/plain": [
       "0.9983255742540582"
      ]
     },
     "execution_count": 36,
     "metadata": {},
     "output_type": "execute_result"
    }
   ],
   "source": [
    "len(new_edges_2.dropna(subset=['from','to']))/len(new_edges_2)"
   ]
  },
  {
   "cell_type": "code",
   "execution_count": 37,
   "id": "49fc7115",
   "metadata": {},
   "outputs": [
    {
     "name": "stderr",
     "output_type": "stream",
     "text": [
      "<ipython-input-37-89c4100234ff>:4: UserWarning: Column names longer than 10 characters will be truncated when saved to ESRI Shapefile.\n",
      "  dropped_edges.to_file(\"C:/Users/z3258367/OneDrive - UNSW/#PhD/Walkability/Mavoa/Github/new_edge_test_colour_1912.shp\")\n"
     ]
    },
    {
     "ename": "KeyboardInterrupt",
     "evalue": "",
     "output_type": "error",
     "traceback": [
      "\u001b[1;31m---------------------------------------------------------------------------\u001b[0m",
      "\u001b[1;31mKeyboardInterrupt\u001b[0m                         Traceback (most recent call last)",
      "\u001b[1;32m<ipython-input-37-89c4100234ff>\u001b[0m in \u001b[0;36m<module>\u001b[1;34m\u001b[0m\n\u001b[0;32m      2\u001b[0m \u001b[0mnew_nodes_2\u001b[0m\u001b[1;33m.\u001b[0m\u001b[0mto_csv\u001b[0m\u001b[1;33m(\u001b[0m\u001b[1;34m\"new_nodes_test_colour_1912.csv\"\u001b[0m\u001b[1;33m)\u001b[0m\u001b[1;33m\u001b[0m\u001b[1;33m\u001b[0m\u001b[0m\n\u001b[0;32m      3\u001b[0m \u001b[0mdropped_edges\u001b[0m\u001b[1;33m.\u001b[0m\u001b[0mto_csv\u001b[0m\u001b[1;33m(\u001b[0m\u001b[1;34m\"new_edge_test_colour_1912.csv\"\u001b[0m\u001b[1;33m)\u001b[0m\u001b[1;33m\u001b[0m\u001b[1;33m\u001b[0m\u001b[0m\n\u001b[1;32m----> 4\u001b[1;33m \u001b[0mdropped_edges\u001b[0m\u001b[1;33m.\u001b[0m\u001b[0mto_file\u001b[0m\u001b[1;33m(\u001b[0m\u001b[1;34m\"C:/Users/z3258367/OneDrive - UNSW/#PhD/Walkability/Mavoa/Github/new_edge_test_colour_1912.shp\"\u001b[0m\u001b[1;33m)\u001b[0m\u001b[1;33m\u001b[0m\u001b[1;33m\u001b[0m\u001b[0m\n\u001b[0m",
      "\u001b[1;32m~\\Anaconda3\\envs\\ox\\lib\\site-packages\\geopandas\\geodataframe.py\u001b[0m in \u001b[0;36mto_file\u001b[1;34m(self, filename, driver, schema, index, **kwargs)\u001b[0m\n\u001b[0;32m   1112\u001b[0m         \u001b[1;32mfrom\u001b[0m \u001b[0mgeopandas\u001b[0m\u001b[1;33m.\u001b[0m\u001b[0mio\u001b[0m\u001b[1;33m.\u001b[0m\u001b[0mfile\u001b[0m \u001b[1;32mimport\u001b[0m \u001b[0m_to_file\u001b[0m\u001b[1;33m\u001b[0m\u001b[1;33m\u001b[0m\u001b[0m\n\u001b[0;32m   1113\u001b[0m \u001b[1;33m\u001b[0m\u001b[0m\n\u001b[1;32m-> 1114\u001b[1;33m         \u001b[0m_to_file\u001b[0m\u001b[1;33m(\u001b[0m\u001b[0mself\u001b[0m\u001b[1;33m,\u001b[0m \u001b[0mfilename\u001b[0m\u001b[1;33m,\u001b[0m \u001b[0mdriver\u001b[0m\u001b[1;33m,\u001b[0m \u001b[0mschema\u001b[0m\u001b[1;33m,\u001b[0m \u001b[0mindex\u001b[0m\u001b[1;33m,\u001b[0m \u001b[1;33m**\u001b[0m\u001b[0mkwargs\u001b[0m\u001b[1;33m)\u001b[0m\u001b[1;33m\u001b[0m\u001b[1;33m\u001b[0m\u001b[0m\n\u001b[0m\u001b[0;32m   1115\u001b[0m \u001b[1;33m\u001b[0m\u001b[0m\n\u001b[0;32m   1116\u001b[0m     \u001b[1;32mdef\u001b[0m \u001b[0mset_crs\u001b[0m\u001b[1;33m(\u001b[0m\u001b[0mself\u001b[0m\u001b[1;33m,\u001b[0m \u001b[0mcrs\u001b[0m\u001b[1;33m=\u001b[0m\u001b[1;32mNone\u001b[0m\u001b[1;33m,\u001b[0m \u001b[0mepsg\u001b[0m\u001b[1;33m=\u001b[0m\u001b[1;32mNone\u001b[0m\u001b[1;33m,\u001b[0m \u001b[0minplace\u001b[0m\u001b[1;33m=\u001b[0m\u001b[1;32mFalse\u001b[0m\u001b[1;33m,\u001b[0m \u001b[0mallow_override\u001b[0m\u001b[1;33m=\u001b[0m\u001b[1;32mFalse\u001b[0m\u001b[1;33m)\u001b[0m\u001b[1;33m:\u001b[0m\u001b[1;33m\u001b[0m\u001b[1;33m\u001b[0m\u001b[0m\n",
      "\u001b[1;32m~\\Anaconda3\\envs\\ox\\lib\\site-packages\\geopandas\\io\\file.py\u001b[0m in \u001b[0;36m_to_file\u001b[1;34m(df, filename, driver, schema, index, mode, crs, **kwargs)\u001b[0m\n\u001b[0;32m    394\u001b[0m             \u001b[0mfilename\u001b[0m\u001b[1;33m,\u001b[0m \u001b[0mmode\u001b[0m\u001b[1;33m=\u001b[0m\u001b[0mmode\u001b[0m\u001b[1;33m,\u001b[0m \u001b[0mdriver\u001b[0m\u001b[1;33m=\u001b[0m\u001b[0mdriver\u001b[0m\u001b[1;33m,\u001b[0m \u001b[0mcrs_wkt\u001b[0m\u001b[1;33m=\u001b[0m\u001b[0mcrs_wkt\u001b[0m\u001b[1;33m,\u001b[0m \u001b[0mschema\u001b[0m\u001b[1;33m=\u001b[0m\u001b[0mschema\u001b[0m\u001b[1;33m,\u001b[0m \u001b[1;33m**\u001b[0m\u001b[0mkwargs\u001b[0m\u001b[1;33m\u001b[0m\u001b[1;33m\u001b[0m\u001b[0m\n\u001b[0;32m    395\u001b[0m         ) as colxn:\n\u001b[1;32m--> 396\u001b[1;33m             \u001b[0mcolxn\u001b[0m\u001b[1;33m.\u001b[0m\u001b[0mwriterecords\u001b[0m\u001b[1;33m(\u001b[0m\u001b[0mdf\u001b[0m\u001b[1;33m.\u001b[0m\u001b[0miterfeatures\u001b[0m\u001b[1;33m(\u001b[0m\u001b[1;33m)\u001b[0m\u001b[1;33m)\u001b[0m\u001b[1;33m\u001b[0m\u001b[1;33m\u001b[0m\u001b[0m\n\u001b[0m\u001b[0;32m    397\u001b[0m \u001b[1;33m\u001b[0m\u001b[0m\n\u001b[0;32m    398\u001b[0m \u001b[1;33m\u001b[0m\u001b[0m\n",
      "\u001b[1;32m~\\Anaconda3\\envs\\ox\\lib\\site-packages\\fiona\\collection.py\u001b[0m in \u001b[0;36mwriterecords\u001b[1;34m(self, records)\u001b[0m\n\u001b[0;32m    359\u001b[0m         \u001b[1;32mif\u001b[0m \u001b[0mself\u001b[0m\u001b[1;33m.\u001b[0m\u001b[0mmode\u001b[0m \u001b[1;32mnot\u001b[0m \u001b[1;32min\u001b[0m \u001b[1;33m(\u001b[0m\u001b[1;34m'a'\u001b[0m\u001b[1;33m,\u001b[0m \u001b[1;34m'w'\u001b[0m\u001b[1;33m)\u001b[0m\u001b[1;33m:\u001b[0m\u001b[1;33m\u001b[0m\u001b[1;33m\u001b[0m\u001b[0m\n\u001b[0;32m    360\u001b[0m             \u001b[1;32mraise\u001b[0m \u001b[0mIOError\u001b[0m\u001b[1;33m(\u001b[0m\u001b[1;34m\"collection not open for writing\"\u001b[0m\u001b[1;33m)\u001b[0m\u001b[1;33m\u001b[0m\u001b[1;33m\u001b[0m\u001b[0m\n\u001b[1;32m--> 361\u001b[1;33m         \u001b[0mself\u001b[0m\u001b[1;33m.\u001b[0m\u001b[0msession\u001b[0m\u001b[1;33m.\u001b[0m\u001b[0mwriterecs\u001b[0m\u001b[1;33m(\u001b[0m\u001b[0mrecords\u001b[0m\u001b[1;33m,\u001b[0m \u001b[0mself\u001b[0m\u001b[1;33m)\u001b[0m\u001b[1;33m\u001b[0m\u001b[1;33m\u001b[0m\u001b[0m\n\u001b[0m\u001b[0;32m    362\u001b[0m         \u001b[0mself\u001b[0m\u001b[1;33m.\u001b[0m\u001b[0m_len\u001b[0m \u001b[1;33m=\u001b[0m \u001b[0mself\u001b[0m\u001b[1;33m.\u001b[0m\u001b[0msession\u001b[0m\u001b[1;33m.\u001b[0m\u001b[0mget_length\u001b[0m\u001b[1;33m(\u001b[0m\u001b[1;33m)\u001b[0m\u001b[1;33m\u001b[0m\u001b[1;33m\u001b[0m\u001b[0m\n\u001b[0;32m    363\u001b[0m         \u001b[0mself\u001b[0m\u001b[1;33m.\u001b[0m\u001b[0m_bounds\u001b[0m \u001b[1;33m=\u001b[0m \u001b[1;32mNone\u001b[0m\u001b[1;33m\u001b[0m\u001b[1;33m\u001b[0m\u001b[0m\n",
      "\u001b[1;32mfiona/ogrext.pyx\u001b[0m in \u001b[0;36mfiona.ogrext.WritingSession.writerecs\u001b[1;34m()\u001b[0m\n",
      "\u001b[1;32m~\\Anaconda3\\envs\\ox\\lib\\site-packages\\geopandas\\geodataframe.py\u001b[0m in \u001b[0;36miterfeatures\u001b[1;34m(self, na, show_bbox, drop_id)\u001b[0m\n\u001b[0;32m    863\u001b[0m                 \u001b[0mfeature\u001b[0m\u001b[1;33m[\u001b[0m\u001b[1;34m\"type\"\u001b[0m\u001b[1;33m]\u001b[0m \u001b[1;33m=\u001b[0m \u001b[1;34m\"Feature\"\u001b[0m\u001b[1;33m\u001b[0m\u001b[1;33m\u001b[0m\u001b[0m\n\u001b[0;32m    864\u001b[0m                 \u001b[0mfeature\u001b[0m\u001b[1;33m[\u001b[0m\u001b[1;34m\"properties\"\u001b[0m\u001b[1;33m]\u001b[0m \u001b[1;33m=\u001b[0m \u001b[0mproperties_items\u001b[0m\u001b[1;33m\u001b[0m\u001b[1;33m\u001b[0m\u001b[0m\n\u001b[1;32m--> 865\u001b[1;33m                 \u001b[0mfeature\u001b[0m\u001b[1;33m[\u001b[0m\u001b[1;34m\"geometry\"\u001b[0m\u001b[1;33m]\u001b[0m \u001b[1;33m=\u001b[0m \u001b[0mmapping\u001b[0m\u001b[1;33m(\u001b[0m\u001b[0mgeom\u001b[0m\u001b[1;33m)\u001b[0m \u001b[1;32mif\u001b[0m \u001b[0mgeom\u001b[0m \u001b[1;32melse\u001b[0m \u001b[1;32mNone\u001b[0m\u001b[1;33m\u001b[0m\u001b[1;33m\u001b[0m\u001b[0m\n\u001b[0m\u001b[0;32m    866\u001b[0m \u001b[1;33m\u001b[0m\u001b[0m\n\u001b[0;32m    867\u001b[0m                 \u001b[1;32mif\u001b[0m \u001b[0mshow_bbox\u001b[0m\u001b[1;33m:\u001b[0m\u001b[1;33m\u001b[0m\u001b[1;33m\u001b[0m\u001b[0m\n",
      "\u001b[1;32m~\\Anaconda3\\envs\\ox\\lib\\site-packages\\shapely\\geometry\\geo.py\u001b[0m in \u001b[0;36mmapping\u001b[1;34m(ob)\u001b[0m\n\u001b[0;32m    203\u001b[0m     \u001b[1;33m{\u001b[0m\u001b[1;34m'type'\u001b[0m\u001b[1;33m:\u001b[0m \u001b[1;34m'Point'\u001b[0m\u001b[1;33m,\u001b[0m \u001b[1;34m'coordinates'\u001b[0m\u001b[1;33m:\u001b[0m \u001b[1;33m(\u001b[0m\u001b[1;36m0.0\u001b[0m\u001b[1;33m,\u001b[0m \u001b[1;36m0.0\u001b[0m\u001b[1;33m)\u001b[0m\u001b[1;33m}\u001b[0m\u001b[1;33m\u001b[0m\u001b[1;33m\u001b[0m\u001b[0m\n\u001b[0;32m    204\u001b[0m     \"\"\"\n\u001b[1;32m--> 205\u001b[1;33m     \u001b[1;32mreturn\u001b[0m \u001b[0mob\u001b[0m\u001b[1;33m.\u001b[0m\u001b[0m__geo_interface__\u001b[0m\u001b[1;33m\u001b[0m\u001b[1;33m\u001b[0m\u001b[0m\n\u001b[0m",
      "\u001b[1;32m~\\Anaconda3\\envs\\ox\\lib\\site-packages\\shapely\\geometry\\linestring.py\u001b[0m in \u001b[0;36m__geo_interface__\u001b[1;34m(self)\u001b[0m\n\u001b[0;32m     52\u001b[0m         return {\n\u001b[0;32m     53\u001b[0m             \u001b[1;34m'type'\u001b[0m\u001b[1;33m:\u001b[0m \u001b[1;34m'LineString'\u001b[0m\u001b[1;33m,\u001b[0m\u001b[1;33m\u001b[0m\u001b[1;33m\u001b[0m\u001b[0m\n\u001b[1;32m---> 54\u001b[1;33m             \u001b[1;34m'coordinates'\u001b[0m\u001b[1;33m:\u001b[0m \u001b[0mtuple\u001b[0m\u001b[1;33m(\u001b[0m\u001b[0mself\u001b[0m\u001b[1;33m.\u001b[0m\u001b[0mcoords\u001b[0m\u001b[1;33m)\u001b[0m\u001b[1;33m\u001b[0m\u001b[1;33m\u001b[0m\u001b[0m\n\u001b[0m\u001b[0;32m     55\u001b[0m             }\n\u001b[0;32m     56\u001b[0m \u001b[1;33m\u001b[0m\u001b[0m\n",
      "\u001b[1;32m~\\Anaconda3\\envs\\ox\\lib\\site-packages\\shapely\\coords.py\u001b[0m in \u001b[0;36m__len__\u001b[1;34m(self)\u001b[0m\n\u001b[0;32m     47\u001b[0m \u001b[1;33m\u001b[0m\u001b[0m\n\u001b[0;32m     48\u001b[0m     \u001b[1;32mdef\u001b[0m \u001b[0m__len__\u001b[0m\u001b[1;33m(\u001b[0m\u001b[0mself\u001b[0m\u001b[1;33m)\u001b[0m\u001b[1;33m:\u001b[0m\u001b[1;33m\u001b[0m\u001b[1;33m\u001b[0m\u001b[0m\n\u001b[1;32m---> 49\u001b[1;33m         \u001b[0mself\u001b[0m\u001b[1;33m.\u001b[0m\u001b[0m_update\u001b[0m\u001b[1;33m(\u001b[0m\u001b[1;33m)\u001b[0m\u001b[1;33m\u001b[0m\u001b[1;33m\u001b[0m\u001b[0m\n\u001b[0m\u001b[0;32m     50\u001b[0m         \u001b[0mcs_len\u001b[0m \u001b[1;33m=\u001b[0m \u001b[0mc_uint\u001b[0m\u001b[1;33m(\u001b[0m\u001b[1;36m0\u001b[0m\u001b[1;33m)\u001b[0m\u001b[1;33m\u001b[0m\u001b[1;33m\u001b[0m\u001b[0m\n\u001b[0;32m     51\u001b[0m         \u001b[0mlgeos\u001b[0m\u001b[1;33m.\u001b[0m\u001b[0mGEOSCoordSeq_getSize\u001b[0m\u001b[1;33m(\u001b[0m\u001b[0mself\u001b[0m\u001b[1;33m.\u001b[0m\u001b[0m_cseq\u001b[0m\u001b[1;33m,\u001b[0m \u001b[0mbyref\u001b[0m\u001b[1;33m(\u001b[0m\u001b[0mcs_len\u001b[0m\u001b[1;33m)\u001b[0m\u001b[1;33m)\u001b[0m\u001b[1;33m\u001b[0m\u001b[1;33m\u001b[0m\u001b[0m\n",
      "\u001b[1;32m~\\Anaconda3\\envs\\ox\\lib\\site-packages\\shapely\\coords.py\u001b[0m in \u001b[0;36m_update\u001b[1;34m(self)\u001b[0m\n\u001b[0;32m     44\u001b[0m     \u001b[1;32mdef\u001b[0m \u001b[0m_update\u001b[0m\u001b[1;33m(\u001b[0m\u001b[0mself\u001b[0m\u001b[1;33m)\u001b[0m\u001b[1;33m:\u001b[0m\u001b[1;33m\u001b[0m\u001b[1;33m\u001b[0m\u001b[0m\n\u001b[0;32m     45\u001b[0m         \u001b[0mself\u001b[0m\u001b[1;33m.\u001b[0m\u001b[0m_ndim\u001b[0m \u001b[1;33m=\u001b[0m \u001b[0mself\u001b[0m\u001b[1;33m.\u001b[0m\u001b[0m__p__\u001b[0m\u001b[1;33m.\u001b[0m\u001b[0m_ndim\u001b[0m\u001b[1;33m\u001b[0m\u001b[1;33m\u001b[0m\u001b[0m\n\u001b[1;32m---> 46\u001b[1;33m         \u001b[0mself\u001b[0m\u001b[1;33m.\u001b[0m\u001b[0m_cseq\u001b[0m \u001b[1;33m=\u001b[0m \u001b[0mlgeos\u001b[0m\u001b[1;33m.\u001b[0m\u001b[0mGEOSGeom_getCoordSeq\u001b[0m\u001b[1;33m(\u001b[0m\u001b[0mself\u001b[0m\u001b[1;33m.\u001b[0m\u001b[0m__p__\u001b[0m\u001b[1;33m.\u001b[0m\u001b[0m_geom\u001b[0m\u001b[1;33m)\u001b[0m\u001b[1;33m\u001b[0m\u001b[1;33m\u001b[0m\u001b[0m\n\u001b[0m\u001b[0;32m     47\u001b[0m \u001b[1;33m\u001b[0m\u001b[0m\n\u001b[0;32m     48\u001b[0m     \u001b[1;32mdef\u001b[0m \u001b[0m__len__\u001b[0m\u001b[1;33m(\u001b[0m\u001b[0mself\u001b[0m\u001b[1;33m)\u001b[0m\u001b[1;33m:\u001b[0m\u001b[1;33m\u001b[0m\u001b[1;33m\u001b[0m\u001b[0m\n",
      "\u001b[1;31mKeyboardInterrupt\u001b[0m: "
     ]
    }
   ],
   "source": [
    "#%% export\n",
    "new_nodes_2.to_csv(\"new_nodes_test_colour_1912.csv\")\n",
    "dropped_edges.to_csv(\"new_edge_test_colour_1912.csv\")\n"
   ]
  },
  {
   "cell_type": "code",
   "execution_count": 38,
   "id": "99805dc0",
   "metadata": {},
   "outputs": [],
   "source": [
    "d_nodes.to_csv(\"new_nodes_test_colour_1912_2.csv\")"
   ]
  },
  {
   "cell_type": "code",
   "execution_count": 39,
   "id": "f4cc1b4f",
   "metadata": {},
   "outputs": [
    {
     "name": "stderr",
     "output_type": "stream",
     "text": [
      "<ipython-input-39-433510a325a9>:1: UserWarning: Column names longer than 10 characters will be truncated when saved to ESRI Shapefile.\n",
      "  dropped_edges.to_file(\"C:/Users/z3258367/OneDrive - UNSW/#PhD/Walkability/Mavoa/Github/new_edge_test_colour_1912_2.shp\")\n"
     ]
    }
   ],
   "source": [
    "dropped_edges.to_file(\"C:/Users/z3258367/OneDrive - UNSW/#PhD/Walkability/Mavoa/Github/new_edge_test_colour_1912_2.shp\")"
   ]
  }
 ],
 "metadata": {
  "kernelspec": {
   "display_name": "Python 3",
   "language": "python",
   "name": "python3"
  },
  "language_info": {
   "codemirror_mode": {
    "name": "ipython",
    "version": 3
   },
   "file_extension": ".py",
   "mimetype": "text/x-python",
   "name": "python",
   "nbconvert_exporter": "python",
   "pygments_lexer": "ipython3",
   "version": "3.8.12"
  }
 },
 "nbformat": 4,
 "nbformat_minor": 5
}
